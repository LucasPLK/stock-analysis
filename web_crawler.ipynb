{
 "cells": [
  {
   "cell_type": "code",
   "execution_count": 1,
   "id": "2af23fc9",
   "metadata": {},
   "outputs": [],
   "source": [
    "from selenium import webdriver\n",
    "from selenium.webdriver.common.by import By\n",
    "from selenium.webdriver.support import expected_conditions as EC\n",
    "from selenium.webdriver.support.wait import WebDriverWait\n",
    "import time\n",
    "import re\n",
    "import pandas as pd"
   ]
  },
  {
   "cell_type": "code",
   "execution_count": 2,
   "id": "8e8257da",
   "metadata": {},
   "outputs": [],
   "source": [
    "from multiprocessing import Pool"
   ]
  },
  {
   "cell_type": "code",
   "execution_count": 3,
   "id": "1170bfbd",
   "metadata": {},
   "outputs": [],
   "source": [
    "# https://www.b3.com.br/pt_br/market-data-e-indices/servicos-de-dados/market-data/consultas/boletim-diario/dados-publicos-de-produtos-listados-e-de-balcao/"
   ]
  },
  {
   "cell_type": "code",
   "execution_count": 4,
   "id": "90770b39",
   "metadata": {},
   "outputs": [
    {
     "name": "stderr",
     "output_type": "stream",
     "text": [
      "/home/lucas/miniconda3/lib/python3.7/site-packages/IPython/core/interactiveshell.py:3166: DtypeWarning: Columns (8,12,14,17,18,20,28,30,31,32,33,34,37,38,39,44,45,46,47,48,49,51) have mixed types.Specify dtype option on import or set low_memory=False.\n",
      "  interactivity=interactivity, compiler=compiler, result=result)\n"
     ]
    }
   ],
   "source": [
    "empresas_listadas = pd.read_csv('InstrumentsConsolidatedFile_20220414_1.csv', sep=';')"
   ]
  },
  {
   "cell_type": "code",
   "execution_count": 5,
   "id": "233f0862",
   "metadata": {},
   "outputs": [],
   "source": [
    "def get_indicators(browser, path_indicators: str, path_values:str):\n",
    "    df = pd.DataFrame(columns=['Ticker', 'Indicador'])\n",
    "\n",
    "    indicadores = browser.find_element(by=By.XPATH, value=path_indicators)\n",
    "    html_indicadores = indicadores.get_attribute('outerHTML')\n",
    "    splited_indicadores = html_indicadores.split('data-name')\n",
    "    for i in range(1, len(splited_indicadores)):\n",
    "    #     print(splited_indicadores[i].split('=')[1].split('data-prefix')[0])\n",
    "        df2 = {'Indicador': splited_indicadores[i].split('=')[1].split('data-prefix')[0].replace('\"', '')}\n",
    "\n",
    "        df = df.append(df2, ignore_index = True)\n",
    "\n",
    "\n",
    "    valores = browser.find_element(by=By.XPATH, value=path_values)\n",
    "    html_valores  = valores.get_attribute('outerHTML')\n",
    "    splited_divs = html_valores.split('<div')\n",
    "    # print(splited_divs)\n",
    "\n",
    "    df_index = -1\n",
    "    for i in range(1, len(splited_divs)):\n",
    "    #     print(splited_divs[i])\n",
    "        if ('tr w-100 d-flex justify-start asset-last' in splited_divs[i]):\n",
    "    #         print('\\n')\n",
    "            is_header = False\n",
    "            df_index +=1\n",
    "            df_col = 2\n",
    "\n",
    "        p = re.compile('>(.*)</')\n",
    "        val = p.findall(splited_divs[i])\n",
    "\n",
    "        if len(val) > 0:\n",
    "            val = val[0].replace('</div>', '')\n",
    "            if 'ATUAL' in val:\n",
    "                is_header = True\n",
    "\n",
    "            if is_header is True:\n",
    "                df[val] = None\n",
    "\n",
    "            else:\n",
    "                df.iloc[df_index, df_col] = val\n",
    "    #             print(val)\n",
    "                df_col+=1\n",
    "        \n",
    "    return df"
   ]
  },
  {
   "cell_type": "code",
   "execution_count": 20,
   "id": "9bda7211",
   "metadata": {},
   "outputs": [],
   "source": [
    "def get_company_indicators(ticker:str):\n",
    "    try:\n",
    "        driver = webdriver.Firefox(\"/usr/local/bin/\")\n",
    "        driver.get(f'https://statusinvest.com.br/acoes/{ticker}')\n",
    "\n",
    "        WebDriverWait(driver, 20).until(EC.element_to_be_clickable((By.CLASS_NAME,\"btn-close\"))).click() # fecha o popup\n",
    "\n",
    "        button = driver.find_element(by=By.XPATH, value='/html/body/main/div[2]/div/div[7]/div[1]/div[2]/button[2]') # botão de histórico\n",
    "\n",
    "        time.sleep(0.5)\n",
    "        button.click()\n",
    "        time.sleep(0.5)\n",
    "\n",
    "        df_valuation = get_indicators(driver, '/html/body/main/div[2]/div/div[7]/div[3]/div[2]/div/div[1]', '/html/body/main/div[2]/div/div[7]/div[3]/div[2]/div/div[2]/div')\n",
    "        df_endividamento = get_indicators(driver, '/html/body/main/div[2]/div/div[7]/div[3]/div[3]/div/div[1]', '/html/body/main/div[2]/div/div[7]/div[3]/div[3]/div/div[2]/div')\n",
    "        df_eficiencia = get_indicators(driver, '/html/body/main/div[2]/div/div[7]/div[3]/div[4]/div/div[1]', '/html/body/main/div[2]/div/div[7]/div[3]/div[4]/div/div[2]/div')\n",
    "        df_rentabilidade = get_indicators(driver, '/html/body/main/div[2]/div/div[7]/div[3]/div[5]/div/div[1]', '/html/body/main/div[2]/div/div[7]/div[3]/div[5]/div/div[2]/div')\n",
    "        df_crescimento = get_indicators(driver, '/html/body/main/div[2]/div/div[7]/div[3]/div[6]/div/div[1]', '/html/body/main/div[2]/div/div[7]/div[3]/div[6]/div/div[2]/div')\n",
    "\n",
    "        df = pd.concat([df_valuation, df_endividamento, df_eficiencia, df_rentabilidade, df_crescimento]).reset_index(drop=True)\n",
    "        df['Ticker'] = ticker\n",
    "        \n",
    "        setor = driver.find_element(by=By.XPATH, value='/html/body/main/div[5]/div[1]/div/div[3]/div/div[3]/div/div/div/a/strong')\n",
    "        setor = setor.get_attribute('outerHTML')\n",
    "        df['Setor'] = setor.split('>')[1].split('<')[0]\n",
    "        \n",
    "        driver.close()\n",
    "        \n",
    "    except Exception as ex:\n",
    "        print(ex)\n",
    "        try:\n",
    "            driver.close()\n",
    "        except Exception:\n",
    "            pass\n",
    "        return None\n",
    "    \n",
    "    return df"
   ]
  },
  {
   "cell_type": "code",
   "execution_count": 36,
   "id": "332e80e8",
   "metadata": {},
   "outputs": [
    {
     "data": {
      "text/plain": [
       "1327"
      ]
     },
     "execution_count": 36,
     "metadata": {},
     "output_type": "execute_result"
    }
   ],
   "source": [
    "tickers = empresas_listadas.loc[(empresas_listadas['TckrSymb'].str.len()>= 5) \\\n",
    "                                & (empresas_listadas['TckrSymb'].str.len()<= 6) \\\n",
    "                                & (~empresas_listadas['TckrSymb'].str.contains('^[0-9]')) \\\n",
    "                                & (~empresas_listadas['TckrSymb'].str.endswith('34'))\\\n",
    "                                & (~empresas_listadas['TckrSymb'].str.endswith('39'))\\\n",
    "                                & ((empresas_listadas['TckrSymb'].str.endswith('3')) | (empresas_listadas['TckrSymb'].str.endswith('3')) | (empresas_listadas['TckrSymb'].str.endswith('11')))\n",
    "                                & (~empresas_listadas['TckrSymb'].str.endswith('T')), 'TckrSymb']\n",
    "len(tickers)"
   ]
  },
  {
   "cell_type": "code",
   "execution_count": 37,
   "id": "1044a093",
   "metadata": {
    "scrolled": true
   },
   "outputs": [
    {
     "name": "stderr",
     "output_type": "stream",
     "text": [
      "/home/lucas/miniconda3/lib/python3.7/site-packages/ipykernel_launcher.py:3: DeprecationWarning: firefox_profile has been deprecated, please pass in an Options object\n",
      "  This is separate from the ipykernel package so we can avoid doing imports until\n",
      "/home/lucas/miniconda3/lib/python3.7/site-packages/ipykernel_launcher.py:3: DeprecationWarning: firefox_profile has been deprecated, please pass in an Options object\n",
      "  This is separate from the ipykernel package so we can avoid doing imports until\n",
      "/home/lucas/miniconda3/lib/python3.7/site-packages/ipykernel_launcher.py:3: DeprecationWarning: firefox_profile has been deprecated, please pass in an Options object\n",
      "  This is separate from the ipykernel package so we can avoid doing imports until\n",
      "/home/lucas/miniconda3/lib/python3.7/site-packages/ipykernel_launcher.py:3: DeprecationWarning: firefox_profile has been deprecated, please pass in an Options object\n",
      "  This is separate from the ipykernel package so we can avoid doing imports until\n"
     ]
    },
    {
     "name": "stdout",
     "output_type": "stream",
     "text": [
      "Message: Unable to locate element: /html/body/main/div[2]/div/div[7]/div[1]/div[2]/button[2]\n",
      "Stacktrace:\n",
      "WebDriverError@chrome://remote/content/shared/webdriver/Errors.jsm:181:5\n",
      "NoSuchElementError@chrome://remote/content/shared/webdriver/Errors.jsm:393:5\n",
      "element.find/</<@chrome://remote/content/marionette/element.js:305:16\n",
      "\n",
      "Message: Unable to locate element: /html/body/main/div[2]/div/div[7]/div[1]/div[2]/button[2]\n",
      "Stacktrace:\n",
      "WebDriverError@chrome://remote/content/shared/webdriver/Errors.jsm:181:5\n",
      "NoSuchElementError@chrome://remote/content/shared/webdriver/Errors.jsm:393:5\n",
      "element.find/</<@chrome://remote/content/marionette/element.js:305:16\n",
      "\n"
     ]
    },
    {
     "name": "stderr",
     "output_type": "stream",
     "text": [
      "/home/lucas/miniconda3/lib/python3.7/site-packages/ipykernel_launcher.py:3: DeprecationWarning: firefox_profile has been deprecated, please pass in an Options object\n",
      "  This is separate from the ipykernel package so we can avoid doing imports until\n",
      "/home/lucas/miniconda3/lib/python3.7/site-packages/ipykernel_launcher.py:3: DeprecationWarning: firefox_profile has been deprecated, please pass in an Options object\n",
      "  This is separate from the ipykernel package so we can avoid doing imports until\n",
      "/home/lucas/miniconda3/lib/python3.7/site-packages/ipykernel_launcher.py:3: DeprecationWarning: firefox_profile has been deprecated, please pass in an Options object\n",
      "  This is separate from the ipykernel package so we can avoid doing imports until\n",
      "/home/lucas/miniconda3/lib/python3.7/site-packages/ipykernel_launcher.py:3: DeprecationWarning: firefox_profile has been deprecated, please pass in an Options object\n",
      "  This is separate from the ipykernel package so we can avoid doing imports until\n"
     ]
    },
    {
     "name": "stdout",
     "output_type": "stream",
     "text": [
      "Message: Unable to locate element: /html/body/main/div[2]/div/div[7]/div[1]/div[2]/button[2]\n",
      "Stacktrace:\n",
      "WebDriverError@chrome://remote/content/shared/webdriver/Errors.jsm:181:5\n",
      "NoSuchElementError@chrome://remote/content/shared/webdriver/Errors.jsm:393:5\n",
      "element.find/</<@chrome://remote/content/marionette/element.js:305:16\n",
      "\n"
     ]
    },
    {
     "name": "stderr",
     "output_type": "stream",
     "text": [
      "/home/lucas/miniconda3/lib/python3.7/site-packages/ipykernel_launcher.py:3: DeprecationWarning: firefox_profile has been deprecated, please pass in an Options object\n",
      "  This is separate from the ipykernel package so we can avoid doing imports until\n"
     ]
    },
    {
     "name": "stdout",
     "output_type": "stream",
     "text": [
      "Message: Unable to locate element: /html/body/main/div[2]/div/div[7]/div[1]/div[2]/button[2]\n",
      "Stacktrace:\n",
      "WebDriverError@chrome://remote/content/shared/webdriver/Errors.jsm:181:5\n",
      "NoSuchElementError@chrome://remote/content/shared/webdriver/Errors.jsm:393:5\n",
      "element.find/</<@chrome://remote/content/marionette/element.js:305:16\n",
      "\n"
     ]
    },
    {
     "name": "stderr",
     "output_type": "stream",
     "text": [
      "/home/lucas/miniconda3/lib/python3.7/site-packages/ipykernel_launcher.py:3: DeprecationWarning: firefox_profile has been deprecated, please pass in an Options object\n",
      "  This is separate from the ipykernel package so we can avoid doing imports until\n"
     ]
    },
    {
     "name": "stdout",
     "output_type": "stream",
     "text": [
      "Message: Unable to locate element: /html/body/main/div[2]/div/div[7]/div[1]/div[2]/button[2]\n",
      "Stacktrace:\n",
      "WebDriverError@chrome://remote/content/shared/webdriver/Errors.jsm:181:5\n",
      "NoSuchElementError@chrome://remote/content/shared/webdriver/Errors.jsm:393:5\n",
      "element.find/</<@chrome://remote/content/marionette/element.js:305:16\n",
      "\n"
     ]
    },
    {
     "name": "stderr",
     "output_type": "stream",
     "text": [
      "/home/lucas/miniconda3/lib/python3.7/site-packages/ipykernel_launcher.py:3: DeprecationWarning: firefox_profile has been deprecated, please pass in an Options object\n",
      "  This is separate from the ipykernel package so we can avoid doing imports until\n",
      "/home/lucas/miniconda3/lib/python3.7/site-packages/ipykernel_launcher.py:3: DeprecationWarning: firefox_profile has been deprecated, please pass in an Options object\n",
      "  This is separate from the ipykernel package so we can avoid doing imports until\n"
     ]
    },
    {
     "name": "stdout",
     "output_type": "stream",
     "text": [
      "Message: Unable to locate element: /html/body/main/div[2]/div/div[7]/div[1]/div[2]/button[2]\n",
      "Stacktrace:\n",
      "WebDriverError@chrome://remote/content/shared/webdriver/Errors.jsm:181:5\n",
      "NoSuchElementError@chrome://remote/content/shared/webdriver/Errors.jsm:393:5\n",
      "element.find/</<@chrome://remote/content/marionette/element.js:305:16\n",
      "\n"
     ]
    },
    {
     "name": "stderr",
     "output_type": "stream",
     "text": [
      "/home/lucas/miniconda3/lib/python3.7/site-packages/ipykernel_launcher.py:3: DeprecationWarning: firefox_profile has been deprecated, please pass in an Options object\n",
      "  This is separate from the ipykernel package so we can avoid doing imports until\n",
      "/home/lucas/miniconda3/lib/python3.7/site-packages/ipykernel_launcher.py:3: DeprecationWarning: firefox_profile has been deprecated, please pass in an Options object\n",
      "  This is separate from the ipykernel package so we can avoid doing imports until\n"
     ]
    },
    {
     "name": "stdout",
     "output_type": "stream",
     "text": [
      "Message: Unable to locate element: /html/body/main/div[2]/div/div[7]/div[1]/div[2]/button[2]\n",
      "Stacktrace:\n",
      "WebDriverError@chrome://remote/content/shared/webdriver/Errors.jsm:181:5\n",
      "NoSuchElementError@chrome://remote/content/shared/webdriver/Errors.jsm:393:5\n",
      "element.find/</<@chrome://remote/content/marionette/element.js:305:16\n",
      "\n"
     ]
    },
    {
     "name": "stderr",
     "output_type": "stream",
     "text": [
      "/home/lucas/miniconda3/lib/python3.7/site-packages/ipykernel_launcher.py:3: DeprecationWarning: firefox_profile has been deprecated, please pass in an Options object\n",
      "  This is separate from the ipykernel package so we can avoid doing imports until\n"
     ]
    },
    {
     "name": "stdout",
     "output_type": "stream",
     "text": [
      "Message: Unable to locate element: /html/body/main/div[2]/div/div[7]/div[1]/div[2]/button[2]\n",
      "Stacktrace:\n",
      "WebDriverError@chrome://remote/content/shared/webdriver/Errors.jsm:181:5\n",
      "NoSuchElementError@chrome://remote/content/shared/webdriver/Errors.jsm:393:5\n",
      "element.find/</<@chrome://remote/content/marionette/element.js:305:16\n",
      "\n"
     ]
    },
    {
     "name": "stderr",
     "output_type": "stream",
     "text": [
      "/home/lucas/miniconda3/lib/python3.7/site-packages/ipykernel_launcher.py:3: DeprecationWarning: firefox_profile has been deprecated, please pass in an Options object\n",
      "  This is separate from the ipykernel package so we can avoid doing imports until\n"
     ]
    },
    {
     "name": "stdout",
     "output_type": "stream",
     "text": [
      "Message: Unable to locate element: /html/body/main/div[2]/div/div[7]/div[1]/div[2]/button[2]\n",
      "Stacktrace:\n",
      "WebDriverError@chrome://remote/content/shared/webdriver/Errors.jsm:181:5\n",
      "NoSuchElementError@chrome://remote/content/shared/webdriver/Errors.jsm:393:5\n",
      "element.find/</<@chrome://remote/content/marionette/element.js:305:16\n",
      "\n",
      "Message: Unable to locate element: /html/body/main/div[2]/div/div[7]/div[1]/div[2]/button[2]\n",
      "Stacktrace:\n",
      "WebDriverError@chrome://remote/content/shared/webdriver/Errors.jsm:181:5\n",
      "NoSuchElementError@chrome://remote/content/shared/webdriver/Errors.jsm:393:5\n",
      "element.find/</<@chrome://remote/content/marionette/element.js:305:16\n",
      "\n"
     ]
    },
    {
     "name": "stderr",
     "output_type": "stream",
     "text": [
      "/home/lucas/miniconda3/lib/python3.7/site-packages/ipykernel_launcher.py:3: DeprecationWarning: firefox_profile has been deprecated, please pass in an Options object\n",
      "  This is separate from the ipykernel package so we can avoid doing imports until\n",
      "/home/lucas/miniconda3/lib/python3.7/site-packages/ipykernel_launcher.py:3: DeprecationWarning: firefox_profile has been deprecated, please pass in an Options object\n",
      "  This is separate from the ipykernel package so we can avoid doing imports until\n",
      "/home/lucas/miniconda3/lib/python3.7/site-packages/ipykernel_launcher.py:3: DeprecationWarning: firefox_profile has been deprecated, please pass in an Options object\n",
      "  This is separate from the ipykernel package so we can avoid doing imports until\n"
     ]
    },
    {
     "name": "stdout",
     "output_type": "stream",
     "text": [
      "Message: Unable to locate element: /html/body/main/div[2]/div/div[7]/div[1]/div[2]/button[2]\n",
      "Stacktrace:\n",
      "WebDriverError@chrome://remote/content/shared/webdriver/Errors.jsm:181:5\n",
      "NoSuchElementError@chrome://remote/content/shared/webdriver/Errors.jsm:393:5\n",
      "element.find/</<@chrome://remote/content/marionette/element.js:305:16\n",
      "\n"
     ]
    },
    {
     "name": "stderr",
     "output_type": "stream",
     "text": [
      "/home/lucas/miniconda3/lib/python3.7/site-packages/ipykernel_launcher.py:3: DeprecationWarning: firefox_profile has been deprecated, please pass in an Options object\n",
      "  This is separate from the ipykernel package so we can avoid doing imports until\n"
     ]
    },
    {
     "name": "stdout",
     "output_type": "stream",
     "text": [
      "Message: Unable to locate element: /html/body/main/div[2]/div/div[7]/div[1]/div[2]/button[2]\n",
      "Stacktrace:\n",
      "WebDriverError@chrome://remote/content/shared/webdriver/Errors.jsm:181:5\n",
      "NoSuchElementError@chrome://remote/content/shared/webdriver/Errors.jsm:393:5\n",
      "element.find/</<@chrome://remote/content/marionette/element.js:305:16\n",
      "\n"
     ]
    },
    {
     "name": "stderr",
     "output_type": "stream",
     "text": [
      "/home/lucas/miniconda3/lib/python3.7/site-packages/ipykernel_launcher.py:3: DeprecationWarning: firefox_profile has been deprecated, please pass in an Options object\n",
      "  This is separate from the ipykernel package so we can avoid doing imports until\n",
      "/home/lucas/miniconda3/lib/python3.7/site-packages/ipykernel_launcher.py:3: DeprecationWarning: firefox_profile has been deprecated, please pass in an Options object\n",
      "  This is separate from the ipykernel package so we can avoid doing imports until\n"
     ]
    },
    {
     "name": "stdout",
     "output_type": "stream",
     "text": [
      "Message: Unable to locate element: /html/body/main/div[2]/div/div[7]/div[1]/div[2]/button[2]\n",
      "Stacktrace:\n",
      "WebDriverError@chrome://remote/content/shared/webdriver/Errors.jsm:181:5\n",
      "NoSuchElementError@chrome://remote/content/shared/webdriver/Errors.jsm:393:5\n",
      "element.find/</<@chrome://remote/content/marionette/element.js:305:16\n",
      "\n"
     ]
    },
    {
     "name": "stderr",
     "output_type": "stream",
     "text": [
      "/home/lucas/miniconda3/lib/python3.7/site-packages/ipykernel_launcher.py:3: DeprecationWarning: firefox_profile has been deprecated, please pass in an Options object\n",
      "  This is separate from the ipykernel package so we can avoid doing imports until\n",
      "/home/lucas/miniconda3/lib/python3.7/site-packages/ipykernel_launcher.py:3: DeprecationWarning: firefox_profile has been deprecated, please pass in an Options object\n",
      "  This is separate from the ipykernel package so we can avoid doing imports until\n"
     ]
    },
    {
     "name": "stdout",
     "output_type": "stream",
     "text": [
      "Message: Unable to locate element: /html/body/main/div[2]/div/div[7]/div[1]/div[2]/button[2]\n",
      "Stacktrace:\n",
      "WebDriverError@chrome://remote/content/shared/webdriver/Errors.jsm:181:5\n",
      "NoSuchElementError@chrome://remote/content/shared/webdriver/Errors.jsm:393:5\n",
      "element.find/</<@chrome://remote/content/marionette/element.js:305:16\n",
      "\n",
      "Message: Unable to locate element: /html/body/main/div[2]/div/div[7]/div[1]/div[2]/button[2]\n",
      "Stacktrace:\n",
      "WebDriverError@chrome://remote/content/shared/webdriver/Errors.jsm:181:5\n",
      "NoSuchElementError@chrome://remote/content/shared/webdriver/Errors.jsm:393:5\n",
      "element.find/</<@chrome://remote/content/marionette/element.js:305:16\n",
      "\n"
     ]
    },
    {
     "name": "stderr",
     "output_type": "stream",
     "text": [
      "/home/lucas/miniconda3/lib/python3.7/site-packages/ipykernel_launcher.py:3: DeprecationWarning: firefox_profile has been deprecated, please pass in an Options object\n",
      "  This is separate from the ipykernel package so we can avoid doing imports until\n",
      "/home/lucas/miniconda3/lib/python3.7/site-packages/ipykernel_launcher.py:3: DeprecationWarning: firefox_profile has been deprecated, please pass in an Options object\n",
      "  This is separate from the ipykernel package so we can avoid doing imports until\n"
     ]
    },
    {
     "name": "stdout",
     "output_type": "stream",
     "text": [
      "Message: Unable to locate element: /html/body/main/div[2]/div/div[7]/div[1]/div[2]/button[2]\n",
      "Stacktrace:\n",
      "WebDriverError@chrome://remote/content/shared/webdriver/Errors.jsm:181:5\n",
      "NoSuchElementError@chrome://remote/content/shared/webdriver/Errors.jsm:393:5\n",
      "element.find/</<@chrome://remote/content/marionette/element.js:305:16\n",
      "\n"
     ]
    },
    {
     "name": "stderr",
     "output_type": "stream",
     "text": [
      "/home/lucas/miniconda3/lib/python3.7/site-packages/ipykernel_launcher.py:3: DeprecationWarning: firefox_profile has been deprecated, please pass in an Options object\n",
      "  This is separate from the ipykernel package so we can avoid doing imports until\n",
      "/home/lucas/miniconda3/lib/python3.7/site-packages/ipykernel_launcher.py:3: DeprecationWarning: firefox_profile has been deprecated, please pass in an Options object\n",
      "  This is separate from the ipykernel package so we can avoid doing imports until\n"
     ]
    },
    {
     "name": "stdout",
     "output_type": "stream",
     "text": [
      "Message: Unable to locate element: /html/body/main/div[2]/div/div[7]/div[1]/div[2]/button[2]\n",
      "Stacktrace:\n",
      "WebDriverError@chrome://remote/content/shared/webdriver/Errors.jsm:181:5\n",
      "NoSuchElementError@chrome://remote/content/shared/webdriver/Errors.jsm:393:5\n",
      "element.find/</<@chrome://remote/content/marionette/element.js:305:16\n",
      "\n"
     ]
    },
    {
     "name": "stderr",
     "output_type": "stream",
     "text": [
      "/home/lucas/miniconda3/lib/python3.7/site-packages/ipykernel_launcher.py:3: DeprecationWarning: firefox_profile has been deprecated, please pass in an Options object\n",
      "  This is separate from the ipykernel package so we can avoid doing imports until\n"
     ]
    },
    {
     "name": "stdout",
     "output_type": "stream",
     "text": [
      "Message: Unable to locate element: /html/body/main/div[2]/div/div[7]/div[1]/div[2]/button[2]\n",
      "Stacktrace:\n",
      "WebDriverError@chrome://remote/content/shared/webdriver/Errors.jsm:181:5\n",
      "NoSuchElementError@chrome://remote/content/shared/webdriver/Errors.jsm:393:5\n",
      "element.find/</<@chrome://remote/content/marionette/element.js:305:16\n",
      "\n"
     ]
    },
    {
     "name": "stderr",
     "output_type": "stream",
     "text": [
      "/home/lucas/miniconda3/lib/python3.7/site-packages/ipykernel_launcher.py:3: DeprecationWarning: firefox_profile has been deprecated, please pass in an Options object\n",
      "  This is separate from the ipykernel package so we can avoid doing imports until\n",
      "/home/lucas/miniconda3/lib/python3.7/site-packages/ipykernel_launcher.py:3: DeprecationWarning: firefox_profile has been deprecated, please pass in an Options object\n",
      "  This is separate from the ipykernel package so we can avoid doing imports until\n"
     ]
    },
    {
     "name": "stdout",
     "output_type": "stream",
     "text": [
      "Message: Unable to locate element: /html/body/main/div[2]/div/div[7]/div[1]/div[2]/button[2]\n",
      "Stacktrace:\n",
      "WebDriverError@chrome://remote/content/shared/webdriver/Errors.jsm:181:5\n",
      "NoSuchElementError@chrome://remote/content/shared/webdriver/Errors.jsm:393:5\n",
      "element.find/</<@chrome://remote/content/marionette/element.js:305:16\n",
      "\n"
     ]
    },
    {
     "name": "stderr",
     "output_type": "stream",
     "text": [
      "/home/lucas/miniconda3/lib/python3.7/site-packages/ipykernel_launcher.py:3: DeprecationWarning: firefox_profile has been deprecated, please pass in an Options object\n",
      "  This is separate from the ipykernel package so we can avoid doing imports until\n",
      "/home/lucas/miniconda3/lib/python3.7/site-packages/ipykernel_launcher.py:3: DeprecationWarning: firefox_profile has been deprecated, please pass in an Options object\n",
      "  This is separate from the ipykernel package so we can avoid doing imports until\n",
      "/home/lucas/miniconda3/lib/python3.7/site-packages/ipykernel_launcher.py:3: DeprecationWarning: firefox_profile has been deprecated, please pass in an Options object\n",
      "  This is separate from the ipykernel package so we can avoid doing imports until\n",
      "/home/lucas/miniconda3/lib/python3.7/site-packages/ipykernel_launcher.py:3: DeprecationWarning: firefox_profile has been deprecated, please pass in an Options object\n",
      "  This is separate from the ipykernel package so we can avoid doing imports until\n"
     ]
    },
    {
     "name": "stdout",
     "output_type": "stream",
     "text": [
      "Message: Unable to locate element: /html/body/main/div[2]/div/div[7]/div[1]/div[2]/button[2]\n",
      "Stacktrace:\n",
      "WebDriverError@chrome://remote/content/shared/webdriver/Errors.jsm:181:5\n",
      "NoSuchElementError@chrome://remote/content/shared/webdriver/Errors.jsm:393:5\n",
      "element.find/</<@chrome://remote/content/marionette/element.js:305:16\n",
      "\n",
      "Message: Unable to locate element: /html/body/main/div[2]/div/div[7]/div[1]/div[2]/button[2]\n",
      "Stacktrace:\n",
      "WebDriverError@chrome://remote/content/shared/webdriver/Errors.jsm:181:5\n",
      "NoSuchElementError@chrome://remote/content/shared/webdriver/Errors.jsm:393:5\n",
      "element.find/</<@chrome://remote/content/marionette/element.js:305:16\n",
      "\n"
     ]
    },
    {
     "name": "stderr",
     "output_type": "stream",
     "text": [
      "/home/lucas/miniconda3/lib/python3.7/site-packages/ipykernel_launcher.py:3: DeprecationWarning: firefox_profile has been deprecated, please pass in an Options object\n",
      "  This is separate from the ipykernel package so we can avoid doing imports until\n",
      "/home/lucas/miniconda3/lib/python3.7/site-packages/ipykernel_launcher.py:3: DeprecationWarning: firefox_profile has been deprecated, please pass in an Options object\n",
      "  This is separate from the ipykernel package so we can avoid doing imports until\n"
     ]
    },
    {
     "name": "stdout",
     "output_type": "stream",
     "text": [
      "Message: Unable to locate element: /html/body/main/div[2]/div/div[7]/div[1]/div[2]/button[2]\n",
      "Stacktrace:\n",
      "WebDriverError@chrome://remote/content/shared/webdriver/Errors.jsm:181:5\n",
      "NoSuchElementError@chrome://remote/content/shared/webdriver/Errors.jsm:393:5\n",
      "element.find/</<@chrome://remote/content/marionette/element.js:305:16\n",
      "\n",
      "Message: Unable to locate element: /html/body/main/div[2]/div/div[7]/div[1]/div[2]/button[2]\n",
      "Stacktrace:\n",
      "WebDriverError@chrome://remote/content/shared/webdriver/Errors.jsm:181:5\n",
      "NoSuchElementError@chrome://remote/content/shared/webdriver/Errors.jsm:393:5\n",
      "element.find/</<@chrome://remote/content/marionette/element.js:305:16\n",
      "\n"
     ]
    },
    {
     "name": "stderr",
     "output_type": "stream",
     "text": [
      "/home/lucas/miniconda3/lib/python3.7/site-packages/ipykernel_launcher.py:3: DeprecationWarning: firefox_profile has been deprecated, please pass in an Options object\n",
      "  This is separate from the ipykernel package so we can avoid doing imports until\n",
      "/home/lucas/miniconda3/lib/python3.7/site-packages/ipykernel_launcher.py:3: DeprecationWarning: firefox_profile has been deprecated, please pass in an Options object\n",
      "  This is separate from the ipykernel package so we can avoid doing imports until\n"
     ]
    },
    {
     "name": "stdout",
     "output_type": "stream",
     "text": [
      "Message: Unable to locate element: /html/body/main/div[2]/div/div[7]/div[1]/div[2]/button[2]\n",
      "Stacktrace:\n",
      "WebDriverError@chrome://remote/content/shared/webdriver/Errors.jsm:181:5\n",
      "NoSuchElementError@chrome://remote/content/shared/webdriver/Errors.jsm:393:5\n",
      "element.find/</<@chrome://remote/content/marionette/element.js:305:16\n",
      "\n",
      "Message: Unable to locate element: /html/body/main/div[2]/div/div[7]/div[1]/div[2]/button[2]\n",
      "Stacktrace:\n",
      "WebDriverError@chrome://remote/content/shared/webdriver/Errors.jsm:181:5\n",
      "NoSuchElementError@chrome://remote/content/shared/webdriver/Errors.jsm:393:5\n",
      "element.find/</<@chrome://remote/content/marionette/element.js:305:16\n",
      "\n"
     ]
    },
    {
     "name": "stderr",
     "output_type": "stream",
     "text": [
      "/home/lucas/miniconda3/lib/python3.7/site-packages/ipykernel_launcher.py:3: DeprecationWarning: firefox_profile has been deprecated, please pass in an Options object\n",
      "  This is separate from the ipykernel package so we can avoid doing imports until\n",
      "/home/lucas/miniconda3/lib/python3.7/site-packages/ipykernel_launcher.py:3: DeprecationWarning: firefox_profile has been deprecated, please pass in an Options object\n",
      "  This is separate from the ipykernel package so we can avoid doing imports until\n"
     ]
    },
    {
     "name": "stdout",
     "output_type": "stream",
     "text": [
      "Message: Unable to locate element: /html/body/main/div[2]/div/div[7]/div[1]/div[2]/button[2]\n",
      "Stacktrace:\n",
      "WebDriverError@chrome://remote/content/shared/webdriver/Errors.jsm:181:5\n",
      "NoSuchElementError@chrome://remote/content/shared/webdriver/Errors.jsm:393:5\n",
      "element.find/</<@chrome://remote/content/marionette/element.js:305:16\n",
      "\n",
      "Message: Unable to locate element: /html/body/main/div[2]/div/div[7]/div[1]/div[2]/button[2]\n",
      "Stacktrace:\n",
      "WebDriverError@chrome://remote/content/shared/webdriver/Errors.jsm:181:5\n",
      "NoSuchElementError@chrome://remote/content/shared/webdriver/Errors.jsm:393:5\n",
      "element.find/</<@chrome://remote/content/marionette/element.js:305:16\n",
      "\n"
     ]
    },
    {
     "name": "stderr",
     "output_type": "stream",
     "text": [
      "/home/lucas/miniconda3/lib/python3.7/site-packages/ipykernel_launcher.py:3: DeprecationWarning: firefox_profile has been deprecated, please pass in an Options object\n",
      "  This is separate from the ipykernel package so we can avoid doing imports until\n",
      "/home/lucas/miniconda3/lib/python3.7/site-packages/ipykernel_launcher.py:3: DeprecationWarning: firefox_profile has been deprecated, please pass in an Options object\n",
      "  This is separate from the ipykernel package so we can avoid doing imports until\n"
     ]
    },
    {
     "name": "stdout",
     "output_type": "stream",
     "text": [
      "Message: Unable to locate element: /html/body/main/div[2]/div/div[7]/div[1]/div[2]/button[2]\n",
      "Stacktrace:\n",
      "WebDriverError@chrome://remote/content/shared/webdriver/Errors.jsm:181:5\n",
      "NoSuchElementError@chrome://remote/content/shared/webdriver/Errors.jsm:393:5\n",
      "element.find/</<@chrome://remote/content/marionette/element.js:305:16\n",
      "\n"
     ]
    },
    {
     "name": "stderr",
     "output_type": "stream",
     "text": [
      "/home/lucas/miniconda3/lib/python3.7/site-packages/ipykernel_launcher.py:3: DeprecationWarning: firefox_profile has been deprecated, please pass in an Options object\n",
      "  This is separate from the ipykernel package so we can avoid doing imports until\n"
     ]
    },
    {
     "name": "stdout",
     "output_type": "stream",
     "text": [
      "Message: Unable to locate element: /html/body/main/div[2]/div/div[7]/div[1]/div[2]/button[2]\n",
      "Stacktrace:\n",
      "WebDriverError@chrome://remote/content/shared/webdriver/Errors.jsm:181:5\n",
      "NoSuchElementError@chrome://remote/content/shared/webdriver/Errors.jsm:393:5\n",
      "element.find/</<@chrome://remote/content/marionette/element.js:305:16\n",
      "\n"
     ]
    },
    {
     "name": "stderr",
     "output_type": "stream",
     "text": [
      "/home/lucas/miniconda3/lib/python3.7/site-packages/ipykernel_launcher.py:3: DeprecationWarning: firefox_profile has been deprecated, please pass in an Options object\n",
      "  This is separate from the ipykernel package so we can avoid doing imports until\n"
     ]
    },
    {
     "name": "stdout",
     "output_type": "stream",
     "text": [
      "Message: Unable to locate element: /html/body/main/div[2]/div/div[7]/div[1]/div[2]/button[2]\n",
      "Stacktrace:\n",
      "WebDriverError@chrome://remote/content/shared/webdriver/Errors.jsm:181:5\n",
      "NoSuchElementError@chrome://remote/content/shared/webdriver/Errors.jsm:393:5\n",
      "element.find/</<@chrome://remote/content/marionette/element.js:305:16\n",
      "\n",
      "Message: Unable to locate element: /html/body/main/div[2]/div/div[7]/div[1]/div[2]/button[2]\n",
      "Stacktrace:\n",
      "WebDriverError@chrome://remote/content/shared/webdriver/Errors.jsm:181:5\n",
      "NoSuchElementError@chrome://remote/content/shared/webdriver/Errors.jsm:393:5\n",
      "element.find/</<@chrome://remote/content/marionette/element.js:305:16\n",
      "\n"
     ]
    },
    {
     "name": "stderr",
     "output_type": "stream",
     "text": [
      "/home/lucas/miniconda3/lib/python3.7/site-packages/ipykernel_launcher.py:3: DeprecationWarning: firefox_profile has been deprecated, please pass in an Options object\n",
      "  This is separate from the ipykernel package so we can avoid doing imports until\n",
      "/home/lucas/miniconda3/lib/python3.7/site-packages/ipykernel_launcher.py:3: DeprecationWarning: firefox_profile has been deprecated, please pass in an Options object\n",
      "  This is separate from the ipykernel package so we can avoid doing imports until\n"
     ]
    },
    {
     "name": "stdout",
     "output_type": "stream",
     "text": [
      "Message: Unable to locate element: /html/body/main/div[2]/div/div[7]/div[1]/div[2]/button[2]\n",
      "Stacktrace:\n",
      "WebDriverError@chrome://remote/content/shared/webdriver/Errors.jsm:181:5\n",
      "NoSuchElementError@chrome://remote/content/shared/webdriver/Errors.jsm:393:5\n",
      "element.find/</<@chrome://remote/content/marionette/element.js:305:16\n",
      "\n"
     ]
    },
    {
     "name": "stderr",
     "output_type": "stream",
     "text": [
      "/home/lucas/miniconda3/lib/python3.7/site-packages/ipykernel_launcher.py:3: DeprecationWarning: firefox_profile has been deprecated, please pass in an Options object\n",
      "  This is separate from the ipykernel package so we can avoid doing imports until\n",
      "/home/lucas/miniconda3/lib/python3.7/site-packages/ipykernel_launcher.py:3: DeprecationWarning: firefox_profile has been deprecated, please pass in an Options object\n",
      "  This is separate from the ipykernel package so we can avoid doing imports until\n",
      "/home/lucas/miniconda3/lib/python3.7/site-packages/ipykernel_launcher.py:3: DeprecationWarning: firefox_profile has been deprecated, please pass in an Options object\n",
      "  This is separate from the ipykernel package so we can avoid doing imports until\n",
      "/home/lucas/miniconda3/lib/python3.7/site-packages/ipykernel_launcher.py:3: DeprecationWarning: firefox_profile has been deprecated, please pass in an Options object\n",
      "  This is separate from the ipykernel package so we can avoid doing imports until\n"
     ]
    },
    {
     "name": "stdout",
     "output_type": "stream",
     "text": [
      "Message: Unable to locate element: /html/body/main/div[2]/div/div[7]/div[1]/div[2]/button[2]\n",
      "Stacktrace:\n",
      "WebDriverError@chrome://remote/content/shared/webdriver/Errors.jsm:181:5\n",
      "NoSuchElementError@chrome://remote/content/shared/webdriver/Errors.jsm:393:5\n",
      "element.find/</<@chrome://remote/content/marionette/element.js:305:16\n",
      "\n"
     ]
    },
    {
     "name": "stderr",
     "output_type": "stream",
     "text": [
      "/home/lucas/miniconda3/lib/python3.7/site-packages/ipykernel_launcher.py:3: DeprecationWarning: firefox_profile has been deprecated, please pass in an Options object\n",
      "  This is separate from the ipykernel package so we can avoid doing imports until\n",
      "/home/lucas/miniconda3/lib/python3.7/site-packages/ipykernel_launcher.py:3: DeprecationWarning: firefox_profile has been deprecated, please pass in an Options object\n",
      "  This is separate from the ipykernel package so we can avoid doing imports until\n"
     ]
    },
    {
     "name": "stdout",
     "output_type": "stream",
     "text": [
      "Message: Unable to locate element: /html/body/main/div[2]/div/div[7]/div[1]/div[2]/button[2]\n",
      "Stacktrace:\n",
      "WebDriverError@chrome://remote/content/shared/webdriver/Errors.jsm:181:5\n",
      "NoSuchElementError@chrome://remote/content/shared/webdriver/Errors.jsm:393:5\n",
      "element.find/</<@chrome://remote/content/marionette/element.js:305:16\n",
      "\n"
     ]
    },
    {
     "name": "stderr",
     "output_type": "stream",
     "text": [
      "/home/lucas/miniconda3/lib/python3.7/site-packages/ipykernel_launcher.py:3: DeprecationWarning: firefox_profile has been deprecated, please pass in an Options object\n",
      "  This is separate from the ipykernel package so we can avoid doing imports until\n"
     ]
    },
    {
     "name": "stdout",
     "output_type": "stream",
     "text": [
      "Message: Unable to locate element: /html/body/main/div[2]/div/div[7]/div[1]/div[2]/button[2]\n",
      "Stacktrace:\n",
      "WebDriverError@chrome://remote/content/shared/webdriver/Errors.jsm:181:5\n",
      "NoSuchElementError@chrome://remote/content/shared/webdriver/Errors.jsm:393:5\n",
      "element.find/</<@chrome://remote/content/marionette/element.js:305:16\n",
      "\n"
     ]
    },
    {
     "name": "stderr",
     "output_type": "stream",
     "text": [
      "/home/lucas/miniconda3/lib/python3.7/site-packages/ipykernel_launcher.py:3: DeprecationWarning: firefox_profile has been deprecated, please pass in an Options object\n",
      "  This is separate from the ipykernel package so we can avoid doing imports until\n",
      "/home/lucas/miniconda3/lib/python3.7/site-packages/ipykernel_launcher.py:3: DeprecationWarning: firefox_profile has been deprecated, please pass in an Options object\n",
      "  This is separate from the ipykernel package so we can avoid doing imports until\n"
     ]
    },
    {
     "name": "stdout",
     "output_type": "stream",
     "text": [
      "Message: Unable to locate element: /html/body/main/div[2]/div/div[7]/div[1]/div[2]/button[2]\n",
      "Stacktrace:\n",
      "WebDriverError@chrome://remote/content/shared/webdriver/Errors.jsm:181:5\n",
      "NoSuchElementError@chrome://remote/content/shared/webdriver/Errors.jsm:393:5\n",
      "element.find/</<@chrome://remote/content/marionette/element.js:305:16\n",
      "\n"
     ]
    },
    {
     "name": "stderr",
     "output_type": "stream",
     "text": [
      "/home/lucas/miniconda3/lib/python3.7/site-packages/ipykernel_launcher.py:3: DeprecationWarning: firefox_profile has been deprecated, please pass in an Options object\n",
      "  This is separate from the ipykernel package so we can avoid doing imports until\n"
     ]
    },
    {
     "name": "stdout",
     "output_type": "stream",
     "text": [
      "Message: Unable to locate element: /html/body/main/div[2]/div/div[7]/div[1]/div[2]/button[2]\n",
      "Stacktrace:\n",
      "WebDriverError@chrome://remote/content/shared/webdriver/Errors.jsm:181:5\n",
      "NoSuchElementError@chrome://remote/content/shared/webdriver/Errors.jsm:393:5\n",
      "element.find/</<@chrome://remote/content/marionette/element.js:305:16\n",
      "\n"
     ]
    },
    {
     "name": "stderr",
     "output_type": "stream",
     "text": [
      "/home/lucas/miniconda3/lib/python3.7/site-packages/ipykernel_launcher.py:3: DeprecationWarning: firefox_profile has been deprecated, please pass in an Options object\n",
      "  This is separate from the ipykernel package so we can avoid doing imports until\n"
     ]
    },
    {
     "name": "stdout",
     "output_type": "stream",
     "text": [
      "Message: Unable to locate element: /html/body/main/div[2]/div/div[7]/div[1]/div[2]/button[2]\n",
      "Stacktrace:\n",
      "WebDriverError@chrome://remote/content/shared/webdriver/Errors.jsm:181:5\n",
      "NoSuchElementError@chrome://remote/content/shared/webdriver/Errors.jsm:393:5\n",
      "element.find/</<@chrome://remote/content/marionette/element.js:305:16\n",
      "\n",
      "Message: Unable to locate element: /html/body/main/div[2]/div/div[7]/div[1]/div[2]/button[2]\n",
      "Stacktrace:\n",
      "WebDriverError@chrome://remote/content/shared/webdriver/Errors.jsm:181:5\n",
      "NoSuchElementError@chrome://remote/content/shared/webdriver/Errors.jsm:393:5\n",
      "element.find/</<@chrome://remote/content/marionette/element.js:305:16\n",
      "\n"
     ]
    },
    {
     "name": "stderr",
     "output_type": "stream",
     "text": [
      "/home/lucas/miniconda3/lib/python3.7/site-packages/ipykernel_launcher.py:3: DeprecationWarning: firefox_profile has been deprecated, please pass in an Options object\n",
      "  This is separate from the ipykernel package so we can avoid doing imports until\n",
      "/home/lucas/miniconda3/lib/python3.7/site-packages/ipykernel_launcher.py:3: DeprecationWarning: firefox_profile has been deprecated, please pass in an Options object\n",
      "  This is separate from the ipykernel package so we can avoid doing imports until\n"
     ]
    },
    {
     "name": "stdout",
     "output_type": "stream",
     "text": [
      "Message: Unable to locate element: /html/body/main/div[2]/div/div[7]/div[1]/div[2]/button[2]\n",
      "Stacktrace:\n",
      "WebDriverError@chrome://remote/content/shared/webdriver/Errors.jsm:181:5\n",
      "NoSuchElementError@chrome://remote/content/shared/webdriver/Errors.jsm:393:5\n",
      "element.find/</<@chrome://remote/content/marionette/element.js:305:16\n",
      "\n"
     ]
    },
    {
     "name": "stderr",
     "output_type": "stream",
     "text": [
      "/home/lucas/miniconda3/lib/python3.7/site-packages/ipykernel_launcher.py:3: DeprecationWarning: firefox_profile has been deprecated, please pass in an Options object\n",
      "  This is separate from the ipykernel package so we can avoid doing imports until\n"
     ]
    },
    {
     "name": "stdout",
     "output_type": "stream",
     "text": [
      "Message: Unable to locate element: /html/body/main/div[2]/div/div[7]/div[1]/div[2]/button[2]\n",
      "Stacktrace:\n",
      "WebDriverError@chrome://remote/content/shared/webdriver/Errors.jsm:181:5\n",
      "NoSuchElementError@chrome://remote/content/shared/webdriver/Errors.jsm:393:5\n",
      "element.find/</<@chrome://remote/content/marionette/element.js:305:16\n",
      "\n",
      "Message: Unable to locate element: /html/body/main/div[2]/div/div[7]/div[1]/div[2]/button[2]\n",
      "Stacktrace:\n",
      "WebDriverError@chrome://remote/content/shared/webdriver/Errors.jsm:181:5\n",
      "NoSuchElementError@chrome://remote/content/shared/webdriver/Errors.jsm:393:5\n",
      "element.find/</<@chrome://remote/content/marionette/element.js:305:16\n",
      "\n"
     ]
    },
    {
     "name": "stderr",
     "output_type": "stream",
     "text": [
      "/home/lucas/miniconda3/lib/python3.7/site-packages/ipykernel_launcher.py:3: DeprecationWarning: firefox_profile has been deprecated, please pass in an Options object\n",
      "  This is separate from the ipykernel package so we can avoid doing imports until\n",
      "/home/lucas/miniconda3/lib/python3.7/site-packages/ipykernel_launcher.py:3: DeprecationWarning: firefox_profile has been deprecated, please pass in an Options object\n",
      "  This is separate from the ipykernel package so we can avoid doing imports until\n",
      "/home/lucas/miniconda3/lib/python3.7/site-packages/ipykernel_launcher.py:3: DeprecationWarning: firefox_profile has been deprecated, please pass in an Options object\n",
      "  This is separate from the ipykernel package so we can avoid doing imports until\n"
     ]
    },
    {
     "name": "stdout",
     "output_type": "stream",
     "text": [
      "Message: Unable to locate element: /html/body/main/div[2]/div/div[7]/div[1]/div[2]/button[2]\n",
      "Stacktrace:\n",
      "WebDriverError@chrome://remote/content/shared/webdriver/Errors.jsm:181:5\n",
      "NoSuchElementError@chrome://remote/content/shared/webdriver/Errors.jsm:393:5\n",
      "element.find/</<@chrome://remote/content/marionette/element.js:305:16\n",
      "\n",
      "Message: Unable to locate element: /html/body/main/div[2]/div/div[7]/div[1]/div[2]/button[2]\n",
      "Stacktrace:\n",
      "WebDriverError@chrome://remote/content/shared/webdriver/Errors.jsm:181:5\n",
      "NoSuchElementError@chrome://remote/content/shared/webdriver/Errors.jsm:393:5\n",
      "element.find/</<@chrome://remote/content/marionette/element.js:305:16\n",
      "\n"
     ]
    },
    {
     "name": "stderr",
     "output_type": "stream",
     "text": [
      "/home/lucas/miniconda3/lib/python3.7/site-packages/ipykernel_launcher.py:3: DeprecationWarning: firefox_profile has been deprecated, please pass in an Options object\n",
      "  This is separate from the ipykernel package so we can avoid doing imports until\n",
      "/home/lucas/miniconda3/lib/python3.7/site-packages/ipykernel_launcher.py:3: DeprecationWarning: firefox_profile has been deprecated, please pass in an Options object\n",
      "  This is separate from the ipykernel package so we can avoid doing imports until\n",
      "/home/lucas/miniconda3/lib/python3.7/site-packages/ipykernel_launcher.py:3: DeprecationWarning: firefox_profile has been deprecated, please pass in an Options object\n",
      "  This is separate from the ipykernel package so we can avoid doing imports until\n"
     ]
    },
    {
     "name": "stdout",
     "output_type": "stream",
     "text": [
      "Message: Unable to locate element: /html/body/main/div[2]/div/div[7]/div[1]/div[2]/button[2]\n",
      "Stacktrace:\n",
      "WebDriverError@chrome://remote/content/shared/webdriver/Errors.jsm:181:5\n",
      "NoSuchElementError@chrome://remote/content/shared/webdriver/Errors.jsm:393:5\n",
      "element.find/</<@chrome://remote/content/marionette/element.js:305:16\n",
      "\n"
     ]
    },
    {
     "name": "stderr",
     "output_type": "stream",
     "text": [
      "/home/lucas/miniconda3/lib/python3.7/site-packages/ipykernel_launcher.py:3: DeprecationWarning: firefox_profile has been deprecated, please pass in an Options object\n",
      "  This is separate from the ipykernel package so we can avoid doing imports until\n"
     ]
    },
    {
     "name": "stdout",
     "output_type": "stream",
     "text": [
      "Message: Unable to locate element: /html/body/main/div[2]/div/div[7]/div[1]/div[2]/button[2]\n",
      "Stacktrace:\n",
      "WebDriverError@chrome://remote/content/shared/webdriver/Errors.jsm:181:5\n",
      "NoSuchElementError@chrome://remote/content/shared/webdriver/Errors.jsm:393:5\n",
      "element.find/</<@chrome://remote/content/marionette/element.js:305:16\n",
      "\n"
     ]
    },
    {
     "name": "stderr",
     "output_type": "stream",
     "text": [
      "/home/lucas/miniconda3/lib/python3.7/site-packages/ipykernel_launcher.py:3: DeprecationWarning: firefox_profile has been deprecated, please pass in an Options object\n",
      "  This is separate from the ipykernel package so we can avoid doing imports until\n"
     ]
    },
    {
     "name": "stdout",
     "output_type": "stream",
     "text": [
      "Message: Unable to locate element: /html/body/main/div[2]/div/div[7]/div[1]/div[2]/button[2]\n",
      "Stacktrace:\n",
      "WebDriverError@chrome://remote/content/shared/webdriver/Errors.jsm:181:5\n",
      "NoSuchElementError@chrome://remote/content/shared/webdriver/Errors.jsm:393:5\n",
      "element.find/</<@chrome://remote/content/marionette/element.js:305:16\n",
      "\n"
     ]
    },
    {
     "name": "stderr",
     "output_type": "stream",
     "text": [
      "/home/lucas/miniconda3/lib/python3.7/site-packages/ipykernel_launcher.py:3: DeprecationWarning: firefox_profile has been deprecated, please pass in an Options object\n",
      "  This is separate from the ipykernel package so we can avoid doing imports until\n"
     ]
    },
    {
     "name": "stdout",
     "output_type": "stream",
     "text": [
      "Message: Unable to locate element: /html/body/main/div[2]/div/div[7]/div[1]/div[2]/button[2]\n",
      "Stacktrace:\n",
      "WebDriverError@chrome://remote/content/shared/webdriver/Errors.jsm:181:5\n",
      "NoSuchElementError@chrome://remote/content/shared/webdriver/Errors.jsm:393:5\n",
      "element.find/</<@chrome://remote/content/marionette/element.js:305:16\n",
      "\n"
     ]
    },
    {
     "name": "stderr",
     "output_type": "stream",
     "text": [
      "/home/lucas/miniconda3/lib/python3.7/site-packages/ipykernel_launcher.py:3: DeprecationWarning: firefox_profile has been deprecated, please pass in an Options object\n",
      "  This is separate from the ipykernel package so we can avoid doing imports until\n",
      "/home/lucas/miniconda3/lib/python3.7/site-packages/ipykernel_launcher.py:3: DeprecationWarning: firefox_profile has been deprecated, please pass in an Options object\n",
      "  This is separate from the ipykernel package so we can avoid doing imports until\n"
     ]
    },
    {
     "name": "stdout",
     "output_type": "stream",
     "text": [
      "Message: Unable to locate element: /html/body/main/div[2]/div/div[7]/div[1]/div[2]/button[2]\n",
      "Stacktrace:\n",
      "WebDriverError@chrome://remote/content/shared/webdriver/Errors.jsm:181:5\n",
      "NoSuchElementError@chrome://remote/content/shared/webdriver/Errors.jsm:393:5\n",
      "element.find/</<@chrome://remote/content/marionette/element.js:305:16\n",
      "\n",
      "Message: Unable to locate element: /html/body/main/div[2]/div/div[7]/div[1]/div[2]/button[2]\n",
      "Stacktrace:\n",
      "WebDriverError@chrome://remote/content/shared/webdriver/Errors.jsm:181:5\n",
      "NoSuchElementError@chrome://remote/content/shared/webdriver/Errors.jsm:393:5\n",
      "element.find/</<@chrome://remote/content/marionette/element.js:305:16\n",
      "\n"
     ]
    },
    {
     "name": "stderr",
     "output_type": "stream",
     "text": [
      "/home/lucas/miniconda3/lib/python3.7/site-packages/ipykernel_launcher.py:3: DeprecationWarning: firefox_profile has been deprecated, please pass in an Options object\n",
      "  This is separate from the ipykernel package so we can avoid doing imports until\n",
      "/home/lucas/miniconda3/lib/python3.7/site-packages/ipykernel_launcher.py:3: DeprecationWarning: firefox_profile has been deprecated, please pass in an Options object\n",
      "  This is separate from the ipykernel package so we can avoid doing imports until\n",
      "/home/lucas/miniconda3/lib/python3.7/site-packages/ipykernel_launcher.py:3: DeprecationWarning: firefox_profile has been deprecated, please pass in an Options object\n",
      "  This is separate from the ipykernel package so we can avoid doing imports until\n",
      "/home/lucas/miniconda3/lib/python3.7/site-packages/ipykernel_launcher.py:3: DeprecationWarning: firefox_profile has been deprecated, please pass in an Options object\n",
      "  This is separate from the ipykernel package so we can avoid doing imports until\n"
     ]
    },
    {
     "name": "stdout",
     "output_type": "stream",
     "text": [
      "Message: Unable to locate element: /html/body/main/div[2]/div/div[7]/div[1]/div[2]/button[2]\n",
      "Stacktrace:\n",
      "WebDriverError@chrome://remote/content/shared/webdriver/Errors.jsm:181:5\n",
      "NoSuchElementError@chrome://remote/content/shared/webdriver/Errors.jsm:393:5\n",
      "element.find/</<@chrome://remote/content/marionette/element.js:305:16\n",
      "\n"
     ]
    },
    {
     "name": "stderr",
     "output_type": "stream",
     "text": [
      "/home/lucas/miniconda3/lib/python3.7/site-packages/ipykernel_launcher.py:3: DeprecationWarning: firefox_profile has been deprecated, please pass in an Options object\n",
      "  This is separate from the ipykernel package so we can avoid doing imports until\n",
      "/home/lucas/miniconda3/lib/python3.7/site-packages/ipykernel_launcher.py:3: DeprecationWarning: firefox_profile has been deprecated, please pass in an Options object\n",
      "  This is separate from the ipykernel package so we can avoid doing imports until\n"
     ]
    },
    {
     "name": "stdout",
     "output_type": "stream",
     "text": [
      "Message: Unable to locate element: /html/body/main/div[2]/div/div[7]/div[1]/div[2]/button[2]\n",
      "Stacktrace:\n",
      "WebDriverError@chrome://remote/content/shared/webdriver/Errors.jsm:181:5\n",
      "NoSuchElementError@chrome://remote/content/shared/webdriver/Errors.jsm:393:5\n",
      "element.find/</<@chrome://remote/content/marionette/element.js:305:16\n",
      "\n"
     ]
    },
    {
     "name": "stderr",
     "output_type": "stream",
     "text": [
      "/home/lucas/miniconda3/lib/python3.7/site-packages/ipykernel_launcher.py:3: DeprecationWarning: firefox_profile has been deprecated, please pass in an Options object\n",
      "  This is separate from the ipykernel package so we can avoid doing imports until\n"
     ]
    },
    {
     "name": "stdout",
     "output_type": "stream",
     "text": [
      "Message: Unable to locate element: /html/body/main/div[2]/div/div[7]/div[1]/div[2]/button[2]\n",
      "Stacktrace:\n",
      "WebDriverError@chrome://remote/content/shared/webdriver/Errors.jsm:181:5\n",
      "NoSuchElementError@chrome://remote/content/shared/webdriver/Errors.jsm:393:5\n",
      "element.find/</<@chrome://remote/content/marionette/element.js:305:16\n",
      "\n"
     ]
    },
    {
     "name": "stderr",
     "output_type": "stream",
     "text": [
      "/home/lucas/miniconda3/lib/python3.7/site-packages/ipykernel_launcher.py:3: DeprecationWarning: firefox_profile has been deprecated, please pass in an Options object\n",
      "  This is separate from the ipykernel package so we can avoid doing imports until\n",
      "/home/lucas/miniconda3/lib/python3.7/site-packages/ipykernel_launcher.py:3: DeprecationWarning: firefox_profile has been deprecated, please pass in an Options object\n",
      "  This is separate from the ipykernel package so we can avoid doing imports until\n"
     ]
    },
    {
     "name": "stdout",
     "output_type": "stream",
     "text": [
      "Message: Unable to locate element: /html/body/main/div[2]/div/div[7]/div[1]/div[2]/button[2]\n",
      "Stacktrace:\n",
      "WebDriverError@chrome://remote/content/shared/webdriver/Errors.jsm:181:5\n",
      "NoSuchElementError@chrome://remote/content/shared/webdriver/Errors.jsm:393:5\n",
      "element.find/</<@chrome://remote/content/marionette/element.js:305:16\n",
      "\n"
     ]
    },
    {
     "name": "stderr",
     "output_type": "stream",
     "text": [
      "/home/lucas/miniconda3/lib/python3.7/site-packages/ipykernel_launcher.py:3: DeprecationWarning: firefox_profile has been deprecated, please pass in an Options object\n",
      "  This is separate from the ipykernel package so we can avoid doing imports until\n"
     ]
    },
    {
     "name": "stdout",
     "output_type": "stream",
     "text": [
      "Message: Unable to locate element: /html/body/main/div[2]/div/div[7]/div[1]/div[2]/button[2]\n",
      "Stacktrace:\n",
      "WebDriverError@chrome://remote/content/shared/webdriver/Errors.jsm:181:5\n",
      "NoSuchElementError@chrome://remote/content/shared/webdriver/Errors.jsm:393:5\n",
      "element.find/</<@chrome://remote/content/marionette/element.js:305:16\n",
      "\n",
      "Message: Unable to locate element: /html/body/main/div[2]/div/div[7]/div[1]/div[2]/button[2]\n",
      "Stacktrace:\n",
      "WebDriverError@chrome://remote/content/shared/webdriver/Errors.jsm:181:5\n",
      "NoSuchElementError@chrome://remote/content/shared/webdriver/Errors.jsm:393:5\n",
      "element.find/</<@chrome://remote/content/marionette/element.js:305:16\n",
      "\n"
     ]
    },
    {
     "name": "stderr",
     "output_type": "stream",
     "text": [
      "/home/lucas/miniconda3/lib/python3.7/site-packages/ipykernel_launcher.py:3: DeprecationWarning: firefox_profile has been deprecated, please pass in an Options object\n",
      "  This is separate from the ipykernel package so we can avoid doing imports until\n",
      "/home/lucas/miniconda3/lib/python3.7/site-packages/ipykernel_launcher.py:3: DeprecationWarning: firefox_profile has been deprecated, please pass in an Options object\n",
      "  This is separate from the ipykernel package so we can avoid doing imports until\n",
      "/home/lucas/miniconda3/lib/python3.7/site-packages/ipykernel_launcher.py:3: DeprecationWarning: firefox_profile has been deprecated, please pass in an Options object\n",
      "  This is separate from the ipykernel package so we can avoid doing imports until\n"
     ]
    },
    {
     "name": "stdout",
     "output_type": "stream",
     "text": [
      "Message: Unable to locate element: /html/body/main/div[2]/div/div[7]/div[1]/div[2]/button[2]\n",
      "Stacktrace:\n",
      "WebDriverError@chrome://remote/content/shared/webdriver/Errors.jsm:181:5\n",
      "NoSuchElementError@chrome://remote/content/shared/webdriver/Errors.jsm:393:5\n",
      "element.find/</<@chrome://remote/content/marionette/element.js:305:16\n",
      "\n"
     ]
    },
    {
     "name": "stderr",
     "output_type": "stream",
     "text": [
      "/home/lucas/miniconda3/lib/python3.7/site-packages/ipykernel_launcher.py:3: DeprecationWarning: firefox_profile has been deprecated, please pass in an Options object\n",
      "  This is separate from the ipykernel package so we can avoid doing imports until\n",
      "/home/lucas/miniconda3/lib/python3.7/site-packages/ipykernel_launcher.py:3: DeprecationWarning: firefox_profile has been deprecated, please pass in an Options object\n",
      "  This is separate from the ipykernel package so we can avoid doing imports until\n"
     ]
    },
    {
     "name": "stdout",
     "output_type": "stream",
     "text": [
      "Message: Unable to locate element: /html/body/main/div[2]/div/div[7]/div[1]/div[2]/button[2]\n",
      "Stacktrace:\n",
      "WebDriverError@chrome://remote/content/shared/webdriver/Errors.jsm:181:5\n",
      "NoSuchElementError@chrome://remote/content/shared/webdriver/Errors.jsm:393:5\n",
      "element.find/</<@chrome://remote/content/marionette/element.js:305:16\n",
      "\n"
     ]
    },
    {
     "name": "stderr",
     "output_type": "stream",
     "text": [
      "/home/lucas/miniconda3/lib/python3.7/site-packages/ipykernel_launcher.py:3: DeprecationWarning: firefox_profile has been deprecated, please pass in an Options object\n",
      "  This is separate from the ipykernel package so we can avoid doing imports until\n",
      "/home/lucas/miniconda3/lib/python3.7/site-packages/ipykernel_launcher.py:3: DeprecationWarning: firefox_profile has been deprecated, please pass in an Options object\n",
      "  This is separate from the ipykernel package so we can avoid doing imports until\n"
     ]
    },
    {
     "name": "stdout",
     "output_type": "stream",
     "text": [
      "Message: Unable to locate element: /html/body/main/div[2]/div/div[7]/div[1]/div[2]/button[2]\n",
      "Stacktrace:\n",
      "WebDriverError@chrome://remote/content/shared/webdriver/Errors.jsm:181:5\n",
      "NoSuchElementError@chrome://remote/content/shared/webdriver/Errors.jsm:393:5\n",
      "element.find/</<@chrome://remote/content/marionette/element.js:305:16\n",
      "\n"
     ]
    },
    {
     "name": "stderr",
     "output_type": "stream",
     "text": [
      "/home/lucas/miniconda3/lib/python3.7/site-packages/ipykernel_launcher.py:3: DeprecationWarning: firefox_profile has been deprecated, please pass in an Options object\n",
      "  This is separate from the ipykernel package so we can avoid doing imports until\n",
      "/home/lucas/miniconda3/lib/python3.7/site-packages/ipykernel_launcher.py:3: DeprecationWarning: firefox_profile has been deprecated, please pass in an Options object\n",
      "  This is separate from the ipykernel package so we can avoid doing imports until\n",
      "/home/lucas/miniconda3/lib/python3.7/site-packages/ipykernel_launcher.py:3: DeprecationWarning: firefox_profile has been deprecated, please pass in an Options object\n",
      "  This is separate from the ipykernel package so we can avoid doing imports until\n",
      "/home/lucas/miniconda3/lib/python3.7/site-packages/ipykernel_launcher.py:3: DeprecationWarning: firefox_profile has been deprecated, please pass in an Options object\n",
      "  This is separate from the ipykernel package so we can avoid doing imports until\n"
     ]
    },
    {
     "name": "stdout",
     "output_type": "stream",
     "text": [
      "Message: Unable to locate element: /html/body/main/div[2]/div/div[7]/div[1]/div[2]/button[2]\n",
      "Stacktrace:\n",
      "WebDriverError@chrome://remote/content/shared/webdriver/Errors.jsm:181:5\n",
      "NoSuchElementError@chrome://remote/content/shared/webdriver/Errors.jsm:393:5\n",
      "element.find/</<@chrome://remote/content/marionette/element.js:305:16\n",
      "\n"
     ]
    },
    {
     "name": "stderr",
     "output_type": "stream",
     "text": [
      "/home/lucas/miniconda3/lib/python3.7/site-packages/ipykernel_launcher.py:3: DeprecationWarning: firefox_profile has been deprecated, please pass in an Options object\n",
      "  This is separate from the ipykernel package so we can avoid doing imports until\n"
     ]
    },
    {
     "name": "stdout",
     "output_type": "stream",
     "text": [
      "Message: Unable to locate element: /html/body/main/div[2]/div/div[7]/div[1]/div[2]/button[2]\n",
      "Stacktrace:\n",
      "WebDriverError@chrome://remote/content/shared/webdriver/Errors.jsm:181:5\n",
      "NoSuchElementError@chrome://remote/content/shared/webdriver/Errors.jsm:393:5\n",
      "element.find/</<@chrome://remote/content/marionette/element.js:305:16\n",
      "\n"
     ]
    },
    {
     "name": "stderr",
     "output_type": "stream",
     "text": [
      "/home/lucas/miniconda3/lib/python3.7/site-packages/ipykernel_launcher.py:3: DeprecationWarning: firefox_profile has been deprecated, please pass in an Options object\n",
      "  This is separate from the ipykernel package so we can avoid doing imports until\n",
      "/home/lucas/miniconda3/lib/python3.7/site-packages/ipykernel_launcher.py:3: DeprecationWarning: firefox_profile has been deprecated, please pass in an Options object\n",
      "  This is separate from the ipykernel package so we can avoid doing imports until\n",
      "/home/lucas/miniconda3/lib/python3.7/site-packages/ipykernel_launcher.py:3: DeprecationWarning: firefox_profile has been deprecated, please pass in an Options object\n",
      "  This is separate from the ipykernel package so we can avoid doing imports until\n"
     ]
    },
    {
     "name": "stdout",
     "output_type": "stream",
     "text": [
      "Message: Unable to locate element: /html/body/main/div[2]/div/div[7]/div[1]/div[2]/button[2]\n",
      "Stacktrace:\n",
      "WebDriverError@chrome://remote/content/shared/webdriver/Errors.jsm:181:5\n",
      "NoSuchElementError@chrome://remote/content/shared/webdriver/Errors.jsm:393:5\n",
      "element.find/</<@chrome://remote/content/marionette/element.js:305:16\n",
      "\n"
     ]
    },
    {
     "name": "stderr",
     "output_type": "stream",
     "text": [
      "/home/lucas/miniconda3/lib/python3.7/site-packages/ipykernel_launcher.py:3: DeprecationWarning: firefox_profile has been deprecated, please pass in an Options object\n",
      "  This is separate from the ipykernel package so we can avoid doing imports until\n"
     ]
    },
    {
     "name": "stdout",
     "output_type": "stream",
     "text": [
      "Message: Unable to locate element: /html/body/main/div[2]/div/div[7]/div[1]/div[2]/button[2]\n",
      "Stacktrace:\n",
      "WebDriverError@chrome://remote/content/shared/webdriver/Errors.jsm:181:5\n",
      "NoSuchElementError@chrome://remote/content/shared/webdriver/Errors.jsm:393:5\n",
      "element.find/</<@chrome://remote/content/marionette/element.js:305:16\n",
      "\n"
     ]
    },
    {
     "name": "stderr",
     "output_type": "stream",
     "text": [
      "/home/lucas/miniconda3/lib/python3.7/site-packages/ipykernel_launcher.py:3: DeprecationWarning: firefox_profile has been deprecated, please pass in an Options object\n",
      "  This is separate from the ipykernel package so we can avoid doing imports until\n",
      "/home/lucas/miniconda3/lib/python3.7/site-packages/ipykernel_launcher.py:3: DeprecationWarning: firefox_profile has been deprecated, please pass in an Options object\n",
      "  This is separate from the ipykernel package so we can avoid doing imports until\n"
     ]
    },
    {
     "name": "stdout",
     "output_type": "stream",
     "text": [
      "Message: Unable to locate element: /html/body/main/div[2]/div/div[7]/div[1]/div[2]/button[2]\n",
      "Stacktrace:\n",
      "WebDriverError@chrome://remote/content/shared/webdriver/Errors.jsm:181:5\n",
      "NoSuchElementError@chrome://remote/content/shared/webdriver/Errors.jsm:393:5\n",
      "element.find/</<@chrome://remote/content/marionette/element.js:305:16\n",
      "\n"
     ]
    },
    {
     "name": "stderr",
     "output_type": "stream",
     "text": [
      "/home/lucas/miniconda3/lib/python3.7/site-packages/ipykernel_launcher.py:3: DeprecationWarning: firefox_profile has been deprecated, please pass in an Options object\n",
      "  This is separate from the ipykernel package so we can avoid doing imports until\n",
      "/home/lucas/miniconda3/lib/python3.7/site-packages/ipykernel_launcher.py:3: DeprecationWarning: firefox_profile has been deprecated, please pass in an Options object\n",
      "  This is separate from the ipykernel package so we can avoid doing imports until\n"
     ]
    },
    {
     "name": "stdout",
     "output_type": "stream",
     "text": [
      "Message: Unable to locate element: /html/body/main/div[2]/div/div[7]/div[1]/div[2]/button[2]\n",
      "Stacktrace:\n",
      "WebDriverError@chrome://remote/content/shared/webdriver/Errors.jsm:181:5\n",
      "NoSuchElementError@chrome://remote/content/shared/webdriver/Errors.jsm:393:5\n",
      "element.find/</<@chrome://remote/content/marionette/element.js:305:16\n",
      "\n"
     ]
    },
    {
     "name": "stderr",
     "output_type": "stream",
     "text": [
      "/home/lucas/miniconda3/lib/python3.7/site-packages/ipykernel_launcher.py:3: DeprecationWarning: firefox_profile has been deprecated, please pass in an Options object\n",
      "  This is separate from the ipykernel package so we can avoid doing imports until\n"
     ]
    },
    {
     "name": "stdout",
     "output_type": "stream",
     "text": [
      "Message: Unable to locate element: /html/body/main/div[2]/div/div[7]/div[1]/div[2]/button[2]\n",
      "Stacktrace:\n",
      "WebDriverError@chrome://remote/content/shared/webdriver/Errors.jsm:181:5\n",
      "NoSuchElementError@chrome://remote/content/shared/webdriver/Errors.jsm:393:5\n",
      "element.find/</<@chrome://remote/content/marionette/element.js:305:16\n",
      "\n"
     ]
    },
    {
     "name": "stderr",
     "output_type": "stream",
     "text": [
      "/home/lucas/miniconda3/lib/python3.7/site-packages/ipykernel_launcher.py:3: DeprecationWarning: firefox_profile has been deprecated, please pass in an Options object\n",
      "  This is separate from the ipykernel package so we can avoid doing imports until\n",
      "/home/lucas/miniconda3/lib/python3.7/site-packages/ipykernel_launcher.py:3: DeprecationWarning: firefox_profile has been deprecated, please pass in an Options object\n",
      "  This is separate from the ipykernel package so we can avoid doing imports until\n",
      "/home/lucas/miniconda3/lib/python3.7/site-packages/ipykernel_launcher.py:3: DeprecationWarning: firefox_profile has been deprecated, please pass in an Options object\n",
      "  This is separate from the ipykernel package so we can avoid doing imports until\n"
     ]
    },
    {
     "name": "stdout",
     "output_type": "stream",
     "text": [
      "Message: Unable to locate element: /html/body/main/div[2]/div/div[7]/div[1]/div[2]/button[2]\n",
      "Stacktrace:\n",
      "WebDriverError@chrome://remote/content/shared/webdriver/Errors.jsm:181:5\n",
      "NoSuchElementError@chrome://remote/content/shared/webdriver/Errors.jsm:393:5\n",
      "element.find/</<@chrome://remote/content/marionette/element.js:305:16\n",
      "\n",
      "Message: Unable to locate element: /html/body/main/div[2]/div/div[7]/div[1]/div[2]/button[2]\n",
      "Stacktrace:\n",
      "WebDriverError@chrome://remote/content/shared/webdriver/Errors.jsm:181:5\n",
      "NoSuchElementError@chrome://remote/content/shared/webdriver/Errors.jsm:393:5\n",
      "element.find/</<@chrome://remote/content/marionette/element.js:305:16\n",
      "\n"
     ]
    },
    {
     "name": "stderr",
     "output_type": "stream",
     "text": [
      "/home/lucas/miniconda3/lib/python3.7/site-packages/ipykernel_launcher.py:3: DeprecationWarning: firefox_profile has been deprecated, please pass in an Options object\n",
      "  This is separate from the ipykernel package so we can avoid doing imports until\n"
     ]
    },
    {
     "name": "stdout",
     "output_type": "stream",
     "text": [
      "Message: Unable to locate element: /html/body/main/div[2]/div/div[7]/div[1]/div[2]/button[2]\n",
      "Stacktrace:\n",
      "WebDriverError@chrome://remote/content/shared/webdriver/Errors.jsm:181:5\n",
      "NoSuchElementError@chrome://remote/content/shared/webdriver/Errors.jsm:393:5\n",
      "element.find/</<@chrome://remote/content/marionette/element.js:305:16\n",
      "\n"
     ]
    },
    {
     "name": "stderr",
     "output_type": "stream",
     "text": [
      "/home/lucas/miniconda3/lib/python3.7/site-packages/ipykernel_launcher.py:3: DeprecationWarning: firefox_profile has been deprecated, please pass in an Options object\n",
      "  This is separate from the ipykernel package so we can avoid doing imports until\n",
      "/home/lucas/miniconda3/lib/python3.7/site-packages/ipykernel_launcher.py:3: DeprecationWarning: firefox_profile has been deprecated, please pass in an Options object\n",
      "  This is separate from the ipykernel package so we can avoid doing imports until\n"
     ]
    },
    {
     "name": "stdout",
     "output_type": "stream",
     "text": [
      "Message: Unable to locate element: /html/body/main/div[2]/div/div[7]/div[1]/div[2]/button[2]\n",
      "Stacktrace:\n",
      "WebDriverError@chrome://remote/content/shared/webdriver/Errors.jsm:181:5\n",
      "NoSuchElementError@chrome://remote/content/shared/webdriver/Errors.jsm:393:5\n",
      "element.find/</<@chrome://remote/content/marionette/element.js:305:16\n",
      "\n"
     ]
    },
    {
     "name": "stderr",
     "output_type": "stream",
     "text": [
      "/home/lucas/miniconda3/lib/python3.7/site-packages/ipykernel_launcher.py:3: DeprecationWarning: firefox_profile has been deprecated, please pass in an Options object\n",
      "  This is separate from the ipykernel package so we can avoid doing imports until\n",
      "/home/lucas/miniconda3/lib/python3.7/site-packages/ipykernel_launcher.py:3: DeprecationWarning: firefox_profile has been deprecated, please pass in an Options object\n",
      "  This is separate from the ipykernel package so we can avoid doing imports until\n",
      "/home/lucas/miniconda3/lib/python3.7/site-packages/ipykernel_launcher.py:3: DeprecationWarning: firefox_profile has been deprecated, please pass in an Options object\n",
      "  This is separate from the ipykernel package so we can avoid doing imports until\n"
     ]
    },
    {
     "name": "stdout",
     "output_type": "stream",
     "text": [
      "Message: Unable to locate element: /html/body/main/div[2]/div/div[7]/div[1]/div[2]/button[2]\n",
      "Stacktrace:\n",
      "WebDriverError@chrome://remote/content/shared/webdriver/Errors.jsm:181:5\n",
      "NoSuchElementError@chrome://remote/content/shared/webdriver/Errors.jsm:393:5\n",
      "element.find/</<@chrome://remote/content/marionette/element.js:305:16\n",
      "\n"
     ]
    },
    {
     "name": "stderr",
     "output_type": "stream",
     "text": [
      "/home/lucas/miniconda3/lib/python3.7/site-packages/ipykernel_launcher.py:3: DeprecationWarning: firefox_profile has been deprecated, please pass in an Options object\n",
      "  This is separate from the ipykernel package so we can avoid doing imports until\n"
     ]
    },
    {
     "name": "stdout",
     "output_type": "stream",
     "text": [
      "Message: Unable to locate element: /html/body/main/div[2]/div/div[7]/div[1]/div[2]/button[2]\n",
      "Stacktrace:\n",
      "WebDriverError@chrome://remote/content/shared/webdriver/Errors.jsm:181:5\n",
      "NoSuchElementError@chrome://remote/content/shared/webdriver/Errors.jsm:393:5\n",
      "element.find/</<@chrome://remote/content/marionette/element.js:305:16\n",
      "\n"
     ]
    },
    {
     "name": "stderr",
     "output_type": "stream",
     "text": [
      "/home/lucas/miniconda3/lib/python3.7/site-packages/ipykernel_launcher.py:3: DeprecationWarning: firefox_profile has been deprecated, please pass in an Options object\n",
      "  This is separate from the ipykernel package so we can avoid doing imports until\n",
      "/home/lucas/miniconda3/lib/python3.7/site-packages/ipykernel_launcher.py:3: DeprecationWarning: firefox_profile has been deprecated, please pass in an Options object\n",
      "  This is separate from the ipykernel package so we can avoid doing imports until\n",
      "/home/lucas/miniconda3/lib/python3.7/site-packages/ipykernel_launcher.py:3: DeprecationWarning: firefox_profile has been deprecated, please pass in an Options object\n",
      "  This is separate from the ipykernel package so we can avoid doing imports until\n"
     ]
    },
    {
     "name": "stdout",
     "output_type": "stream",
     "text": [
      "Message: Unable to locate element: /html/body/main/div[2]/div/div[7]/div[1]/div[2]/button[2]\n",
      "Stacktrace:\n",
      "WebDriverError@chrome://remote/content/shared/webdriver/Errors.jsm:181:5\n",
      "NoSuchElementError@chrome://remote/content/shared/webdriver/Errors.jsm:393:5\n",
      "element.find/</<@chrome://remote/content/marionette/element.js:305:16\n",
      "\n"
     ]
    },
    {
     "name": "stderr",
     "output_type": "stream",
     "text": [
      "/home/lucas/miniconda3/lib/python3.7/site-packages/ipykernel_launcher.py:3: DeprecationWarning: firefox_profile has been deprecated, please pass in an Options object\n",
      "  This is separate from the ipykernel package so we can avoid doing imports until\n"
     ]
    },
    {
     "name": "stdout",
     "output_type": "stream",
     "text": [
      "Message: Unable to locate element: /html/body/main/div[2]/div/div[7]/div[1]/div[2]/button[2]\n",
      "Stacktrace:\n",
      "WebDriverError@chrome://remote/content/shared/webdriver/Errors.jsm:181:5\n",
      "NoSuchElementError@chrome://remote/content/shared/webdriver/Errors.jsm:393:5\n",
      "element.find/</<@chrome://remote/content/marionette/element.js:305:16\n",
      "\n"
     ]
    },
    {
     "name": "stderr",
     "output_type": "stream",
     "text": [
      "/home/lucas/miniconda3/lib/python3.7/site-packages/ipykernel_launcher.py:3: DeprecationWarning: firefox_profile has been deprecated, please pass in an Options object\n",
      "  This is separate from the ipykernel package so we can avoid doing imports until\n",
      "/home/lucas/miniconda3/lib/python3.7/site-packages/ipykernel_launcher.py:3: DeprecationWarning: firefox_profile has been deprecated, please pass in an Options object\n",
      "  This is separate from the ipykernel package so we can avoid doing imports until\n",
      "/home/lucas/miniconda3/lib/python3.7/site-packages/ipykernel_launcher.py:3: DeprecationWarning: firefox_profile has been deprecated, please pass in an Options object\n",
      "  This is separate from the ipykernel package so we can avoid doing imports until\n",
      "/home/lucas/miniconda3/lib/python3.7/site-packages/ipykernel_launcher.py:3: DeprecationWarning: firefox_profile has been deprecated, please pass in an Options object\n",
      "  This is separate from the ipykernel package so we can avoid doing imports until\n",
      "/home/lucas/miniconda3/lib/python3.7/site-packages/ipykernel_launcher.py:3: DeprecationWarning: firefox_profile has been deprecated, please pass in an Options object\n",
      "  This is separate from the ipykernel package so we can avoid doing imports until\n",
      "/home/lucas/miniconda3/lib/python3.7/site-packages/ipykernel_launcher.py:3: DeprecationWarning: firefox_profile has been deprecated, please pass in an Options object\n",
      "  This is separate from the ipykernel package so we can avoid doing imports until\n",
      "/home/lucas/miniconda3/lib/python3.7/site-packages/ipykernel_launcher.py:3: DeprecationWarning: firefox_profile has been deprecated, please pass in an Options object\n",
      "  This is separate from the ipykernel package so we can avoid doing imports until\n",
      "/home/lucas/miniconda3/lib/python3.7/site-packages/ipykernel_launcher.py:3: DeprecationWarning: firefox_profile has been deprecated, please pass in an Options object\n",
      "  This is separate from the ipykernel package so we can avoid doing imports until\n",
      "/home/lucas/miniconda3/lib/python3.7/site-packages/ipykernel_launcher.py:3: DeprecationWarning: firefox_profile has been deprecated, please pass in an Options object\n",
      "  This is separate from the ipykernel package so we can avoid doing imports until\n",
      "/home/lucas/miniconda3/lib/python3.7/site-packages/ipykernel_launcher.py:3: DeprecationWarning: firefox_profile has been deprecated, please pass in an Options object\n",
      "  This is separate from the ipykernel package so we can avoid doing imports until\n"
     ]
    },
    {
     "name": "stdout",
     "output_type": "stream",
     "text": [
      "Message: Unable to locate element: /html/body/main/div[2]/div/div[7]/div[1]/div[2]/button[2]\n",
      "Stacktrace:\n",
      "WebDriverError@chrome://remote/content/shared/webdriver/Errors.jsm:181:5\n",
      "NoSuchElementError@chrome://remote/content/shared/webdriver/Errors.jsm:393:5\n",
      "element.find/</<@chrome://remote/content/marionette/element.js:305:16\n",
      "\n"
     ]
    },
    {
     "name": "stderr",
     "output_type": "stream",
     "text": [
      "/home/lucas/miniconda3/lib/python3.7/site-packages/ipykernel_launcher.py:3: DeprecationWarning: firefox_profile has been deprecated, please pass in an Options object\n",
      "  This is separate from the ipykernel package so we can avoid doing imports until\n",
      "/home/lucas/miniconda3/lib/python3.7/site-packages/ipykernel_launcher.py:3: DeprecationWarning: firefox_profile has been deprecated, please pass in an Options object\n",
      "  This is separate from the ipykernel package so we can avoid doing imports until\n"
     ]
    },
    {
     "name": "stdout",
     "output_type": "stream",
     "text": [
      "Message: Unable to locate element: /html/body/main/div[2]/div/div[7]/div[1]/div[2]/button[2]\n",
      "Stacktrace:\n",
      "WebDriverError@chrome://remote/content/shared/webdriver/Errors.jsm:181:5\n",
      "NoSuchElementError@chrome://remote/content/shared/webdriver/Errors.jsm:393:5\n",
      "element.find/</<@chrome://remote/content/marionette/element.js:305:16\n",
      "\n"
     ]
    },
    {
     "name": "stderr",
     "output_type": "stream",
     "text": [
      "/home/lucas/miniconda3/lib/python3.7/site-packages/ipykernel_launcher.py:3: DeprecationWarning: firefox_profile has been deprecated, please pass in an Options object\n",
      "  This is separate from the ipykernel package so we can avoid doing imports until\n",
      "/home/lucas/miniconda3/lib/python3.7/site-packages/ipykernel_launcher.py:3: DeprecationWarning: firefox_profile has been deprecated, please pass in an Options object\n",
      "  This is separate from the ipykernel package so we can avoid doing imports until\n"
     ]
    },
    {
     "name": "stdout",
     "output_type": "stream",
     "text": [
      "Message: Unable to locate element: /html/body/main/div[2]/div/div[7]/div[1]/div[2]/button[2]\n",
      "Stacktrace:\n",
      "WebDriverError@chrome://remote/content/shared/webdriver/Errors.jsm:181:5\n",
      "NoSuchElementError@chrome://remote/content/shared/webdriver/Errors.jsm:393:5\n",
      "element.find/</<@chrome://remote/content/marionette/element.js:305:16\n",
      "\n"
     ]
    },
    {
     "name": "stderr",
     "output_type": "stream",
     "text": [
      "/home/lucas/miniconda3/lib/python3.7/site-packages/ipykernel_launcher.py:3: DeprecationWarning: firefox_profile has been deprecated, please pass in an Options object\n",
      "  This is separate from the ipykernel package so we can avoid doing imports until\n",
      "/home/lucas/miniconda3/lib/python3.7/site-packages/ipykernel_launcher.py:3: DeprecationWarning: firefox_profile has been deprecated, please pass in an Options object\n",
      "  This is separate from the ipykernel package so we can avoid doing imports until\n"
     ]
    },
    {
     "name": "stdout",
     "output_type": "stream",
     "text": [
      "Message: Unable to locate element: /html/body/main/div[2]/div/div[7]/div[1]/div[2]/button[2]\n",
      "Stacktrace:\n",
      "WebDriverError@chrome://remote/content/shared/webdriver/Errors.jsm:181:5\n",
      "NoSuchElementError@chrome://remote/content/shared/webdriver/Errors.jsm:393:5\n",
      "element.find/</<@chrome://remote/content/marionette/element.js:305:16\n",
      "\n"
     ]
    },
    {
     "name": "stderr",
     "output_type": "stream",
     "text": [
      "/home/lucas/miniconda3/lib/python3.7/site-packages/ipykernel_launcher.py:3: DeprecationWarning: firefox_profile has been deprecated, please pass in an Options object\n",
      "  This is separate from the ipykernel package so we can avoid doing imports until\n"
     ]
    },
    {
     "name": "stdout",
     "output_type": "stream",
     "text": [
      "Message: Unable to locate element: /html/body/main/div[2]/div/div[7]/div[1]/div[2]/button[2]\n",
      "Stacktrace:\n",
      "WebDriverError@chrome://remote/content/shared/webdriver/Errors.jsm:181:5\n",
      "NoSuchElementError@chrome://remote/content/shared/webdriver/Errors.jsm:393:5\n",
      "element.find/</<@chrome://remote/content/marionette/element.js:305:16\n",
      "\n"
     ]
    },
    {
     "name": "stderr",
     "output_type": "stream",
     "text": [
      "/home/lucas/miniconda3/lib/python3.7/site-packages/ipykernel_launcher.py:3: DeprecationWarning: firefox_profile has been deprecated, please pass in an Options object\n",
      "  This is separate from the ipykernel package so we can avoid doing imports until\n",
      "/home/lucas/miniconda3/lib/python3.7/site-packages/ipykernel_launcher.py:3: DeprecationWarning: firefox_profile has been deprecated, please pass in an Options object\n",
      "  This is separate from the ipykernel package so we can avoid doing imports until\n"
     ]
    },
    {
     "name": "stdout",
     "output_type": "stream",
     "text": [
      "Message: Unable to locate element: /html/body/main/div[2]/div/div[7]/div[1]/div[2]/button[2]\n",
      "Stacktrace:\n",
      "WebDriverError@chrome://remote/content/shared/webdriver/Errors.jsm:181:5\n",
      "NoSuchElementError@chrome://remote/content/shared/webdriver/Errors.jsm:393:5\n",
      "element.find/</<@chrome://remote/content/marionette/element.js:305:16\n",
      "\n"
     ]
    },
    {
     "name": "stderr",
     "output_type": "stream",
     "text": [
      "/home/lucas/miniconda3/lib/python3.7/site-packages/ipykernel_launcher.py:3: DeprecationWarning: firefox_profile has been deprecated, please pass in an Options object\n",
      "  This is separate from the ipykernel package so we can avoid doing imports until\n",
      "/home/lucas/miniconda3/lib/python3.7/site-packages/ipykernel_launcher.py:3: DeprecationWarning: firefox_profile has been deprecated, please pass in an Options object\n",
      "  This is separate from the ipykernel package so we can avoid doing imports until\n"
     ]
    },
    {
     "name": "stdout",
     "output_type": "stream",
     "text": [
      "Message: Unable to locate element: /html/body/main/div[2]/div/div[7]/div[1]/div[2]/button[2]\n",
      "Stacktrace:\n",
      "WebDriverError@chrome://remote/content/shared/webdriver/Errors.jsm:181:5\n",
      "NoSuchElementError@chrome://remote/content/shared/webdriver/Errors.jsm:393:5\n",
      "element.find/</<@chrome://remote/content/marionette/element.js:305:16\n",
      "\n"
     ]
    },
    {
     "name": "stderr",
     "output_type": "stream",
     "text": [
      "/home/lucas/miniconda3/lib/python3.7/site-packages/ipykernel_launcher.py:3: DeprecationWarning: firefox_profile has been deprecated, please pass in an Options object\n",
      "  This is separate from the ipykernel package so we can avoid doing imports until\n"
     ]
    },
    {
     "name": "stdout",
     "output_type": "stream",
     "text": [
      "Message: Unable to locate element: /html/body/main/div[2]/div/div[7]/div[1]/div[2]/button[2]\n",
      "Stacktrace:\n",
      "WebDriverError@chrome://remote/content/shared/webdriver/Errors.jsm:181:5\n",
      "NoSuchElementError@chrome://remote/content/shared/webdriver/Errors.jsm:393:5\n",
      "element.find/</<@chrome://remote/content/marionette/element.js:305:16\n",
      "\n"
     ]
    },
    {
     "name": "stderr",
     "output_type": "stream",
     "text": [
      "/home/lucas/miniconda3/lib/python3.7/site-packages/ipykernel_launcher.py:3: DeprecationWarning: firefox_profile has been deprecated, please pass in an Options object\n",
      "  This is separate from the ipykernel package so we can avoid doing imports until\n",
      "/home/lucas/miniconda3/lib/python3.7/site-packages/ipykernel_launcher.py:3: DeprecationWarning: firefox_profile has been deprecated, please pass in an Options object\n",
      "  This is separate from the ipykernel package so we can avoid doing imports until\n"
     ]
    },
    {
     "name": "stdout",
     "output_type": "stream",
     "text": [
      "Message: Unable to locate element: /html/body/main/div[2]/div/div[7]/div[1]/div[2]/button[2]\n",
      "Stacktrace:\n",
      "WebDriverError@chrome://remote/content/shared/webdriver/Errors.jsm:181:5\n",
      "NoSuchElementError@chrome://remote/content/shared/webdriver/Errors.jsm:393:5\n",
      "element.find/</<@chrome://remote/content/marionette/element.js:305:16\n",
      "\n"
     ]
    },
    {
     "name": "stderr",
     "output_type": "stream",
     "text": [
      "/home/lucas/miniconda3/lib/python3.7/site-packages/ipykernel_launcher.py:3: DeprecationWarning: firefox_profile has been deprecated, please pass in an Options object\n",
      "  This is separate from the ipykernel package so we can avoid doing imports until\n",
      "/home/lucas/miniconda3/lib/python3.7/site-packages/ipykernel_launcher.py:3: DeprecationWarning: firefox_profile has been deprecated, please pass in an Options object\n",
      "  This is separate from the ipykernel package so we can avoid doing imports until\n"
     ]
    },
    {
     "name": "stdout",
     "output_type": "stream",
     "text": [
      "Message: Unable to locate element: /html/body/main/div[2]/div/div[7]/div[1]/div[2]/button[2]\n",
      "Stacktrace:\n",
      "WebDriverError@chrome://remote/content/shared/webdriver/Errors.jsm:181:5\n",
      "NoSuchElementError@chrome://remote/content/shared/webdriver/Errors.jsm:393:5\n",
      "element.find/</<@chrome://remote/content/marionette/element.js:305:16\n",
      "\n"
     ]
    },
    {
     "name": "stderr",
     "output_type": "stream",
     "text": [
      "/home/lucas/miniconda3/lib/python3.7/site-packages/ipykernel_launcher.py:3: DeprecationWarning: firefox_profile has been deprecated, please pass in an Options object\n",
      "  This is separate from the ipykernel package so we can avoid doing imports until\n"
     ]
    },
    {
     "name": "stdout",
     "output_type": "stream",
     "text": [
      "Message: Unable to locate element: /html/body/main/div[2]/div/div[7]/div[1]/div[2]/button[2]\n",
      "Stacktrace:\n",
      "WebDriverError@chrome://remote/content/shared/webdriver/Errors.jsm:181:5\n",
      "NoSuchElementError@chrome://remote/content/shared/webdriver/Errors.jsm:393:5\n",
      "element.find/</<@chrome://remote/content/marionette/element.js:305:16\n",
      "\n"
     ]
    },
    {
     "name": "stderr",
     "output_type": "stream",
     "text": [
      "/home/lucas/miniconda3/lib/python3.7/site-packages/ipykernel_launcher.py:3: DeprecationWarning: firefox_profile has been deprecated, please pass in an Options object\n",
      "  This is separate from the ipykernel package so we can avoid doing imports until\n",
      "/home/lucas/miniconda3/lib/python3.7/site-packages/ipykernel_launcher.py:3: DeprecationWarning: firefox_profile has been deprecated, please pass in an Options object\n",
      "  This is separate from the ipykernel package so we can avoid doing imports until\n",
      "/home/lucas/miniconda3/lib/python3.7/site-packages/ipykernel_launcher.py:3: DeprecationWarning: firefox_profile has been deprecated, please pass in an Options object\n",
      "  This is separate from the ipykernel package so we can avoid doing imports until\n"
     ]
    },
    {
     "name": "stdout",
     "output_type": "stream",
     "text": [
      "Message: Unable to locate element: /html/body/main/div[2]/div/div[7]/div[1]/div[2]/button[2]\n",
      "Stacktrace:\n",
      "WebDriverError@chrome://remote/content/shared/webdriver/Errors.jsm:181:5\n",
      "NoSuchElementError@chrome://remote/content/shared/webdriver/Errors.jsm:393:5\n",
      "element.find/</<@chrome://remote/content/marionette/element.js:305:16\n",
      "\n"
     ]
    },
    {
     "name": "stderr",
     "output_type": "stream",
     "text": [
      "/home/lucas/miniconda3/lib/python3.7/site-packages/ipykernel_launcher.py:3: DeprecationWarning: firefox_profile has been deprecated, please pass in an Options object\n",
      "  This is separate from the ipykernel package so we can avoid doing imports until\n",
      "/home/lucas/miniconda3/lib/python3.7/site-packages/ipykernel_launcher.py:3: DeprecationWarning: firefox_profile has been deprecated, please pass in an Options object\n",
      "  This is separate from the ipykernel package so we can avoid doing imports until\n",
      "/home/lucas/miniconda3/lib/python3.7/site-packages/ipykernel_launcher.py:3: DeprecationWarning: firefox_profile has been deprecated, please pass in an Options object\n",
      "  This is separate from the ipykernel package so we can avoid doing imports until\n"
     ]
    },
    {
     "name": "stdout",
     "output_type": "stream",
     "text": [
      "Message: Unable to locate element: /html/body/main/div[2]/div/div[7]/div[1]/div[2]/button[2]\n",
      "Stacktrace:\n",
      "WebDriverError@chrome://remote/content/shared/webdriver/Errors.jsm:181:5\n",
      "NoSuchElementError@chrome://remote/content/shared/webdriver/Errors.jsm:393:5\n",
      "element.find/</<@chrome://remote/content/marionette/element.js:305:16\n",
      "\n"
     ]
    },
    {
     "name": "stderr",
     "output_type": "stream",
     "text": [
      "/home/lucas/miniconda3/lib/python3.7/site-packages/ipykernel_launcher.py:3: DeprecationWarning: firefox_profile has been deprecated, please pass in an Options object\n",
      "  This is separate from the ipykernel package so we can avoid doing imports until\n",
      "/home/lucas/miniconda3/lib/python3.7/site-packages/ipykernel_launcher.py:3: DeprecationWarning: firefox_profile has been deprecated, please pass in an Options object\n",
      "  This is separate from the ipykernel package so we can avoid doing imports until\n"
     ]
    },
    {
     "name": "stdout",
     "output_type": "stream",
     "text": [
      "Message: Unable to locate element: /html/body/main/div[2]/div/div[7]/div[1]/div[2]/button[2]\n",
      "Stacktrace:\n",
      "WebDriverError@chrome://remote/content/shared/webdriver/Errors.jsm:181:5\n",
      "NoSuchElementError@chrome://remote/content/shared/webdriver/Errors.jsm:393:5\n",
      "element.find/</<@chrome://remote/content/marionette/element.js:305:16\n",
      "\n"
     ]
    },
    {
     "name": "stderr",
     "output_type": "stream",
     "text": [
      "/home/lucas/miniconda3/lib/python3.7/site-packages/ipykernel_launcher.py:3: DeprecationWarning: firefox_profile has been deprecated, please pass in an Options object\n",
      "  This is separate from the ipykernel package so we can avoid doing imports until\n"
     ]
    },
    {
     "name": "stdout",
     "output_type": "stream",
     "text": [
      "Message: Unable to locate element: /html/body/main/div[2]/div/div[7]/div[1]/div[2]/button[2]\n",
      "Stacktrace:\n",
      "WebDriverError@chrome://remote/content/shared/webdriver/Errors.jsm:181:5\n",
      "NoSuchElementError@chrome://remote/content/shared/webdriver/Errors.jsm:393:5\n",
      "element.find/</<@chrome://remote/content/marionette/element.js:305:16\n",
      "\n",
      "Message: Unable to locate element: /html/body/main/div[2]/div/div[7]/div[1]/div[2]/button[2]\n",
      "Stacktrace:\n",
      "WebDriverError@chrome://remote/content/shared/webdriver/Errors.jsm:181:5\n",
      "NoSuchElementError@chrome://remote/content/shared/webdriver/Errors.jsm:393:5\n",
      "element.find/</<@chrome://remote/content/marionette/element.js:305:16\n",
      "\n"
     ]
    },
    {
     "name": "stderr",
     "output_type": "stream",
     "text": [
      "/home/lucas/miniconda3/lib/python3.7/site-packages/ipykernel_launcher.py:3: DeprecationWarning: firefox_profile has been deprecated, please pass in an Options object\n",
      "  This is separate from the ipykernel package so we can avoid doing imports until\n",
      "/home/lucas/miniconda3/lib/python3.7/site-packages/ipykernel_launcher.py:3: DeprecationWarning: firefox_profile has been deprecated, please pass in an Options object\n",
      "  This is separate from the ipykernel package so we can avoid doing imports until\n",
      "/home/lucas/miniconda3/lib/python3.7/site-packages/ipykernel_launcher.py:3: DeprecationWarning: firefox_profile has been deprecated, please pass in an Options object\n",
      "  This is separate from the ipykernel package so we can avoid doing imports until\n"
     ]
    },
    {
     "name": "stdout",
     "output_type": "stream",
     "text": [
      "Message: Unable to locate element: /html/body/main/div[2]/div/div[7]/div[1]/div[2]/button[2]\n",
      "Stacktrace:\n",
      "WebDriverError@chrome://remote/content/shared/webdriver/Errors.jsm:181:5\n",
      "NoSuchElementError@chrome://remote/content/shared/webdriver/Errors.jsm:393:5\n",
      "element.find/</<@chrome://remote/content/marionette/element.js:305:16\n",
      "\n"
     ]
    },
    {
     "name": "stderr",
     "output_type": "stream",
     "text": [
      "/home/lucas/miniconda3/lib/python3.7/site-packages/ipykernel_launcher.py:3: DeprecationWarning: firefox_profile has been deprecated, please pass in an Options object\n",
      "  This is separate from the ipykernel package so we can avoid doing imports until\n",
      "/home/lucas/miniconda3/lib/python3.7/site-packages/ipykernel_launcher.py:3: DeprecationWarning: firefox_profile has been deprecated, please pass in an Options object\n",
      "  This is separate from the ipykernel package so we can avoid doing imports until\n"
     ]
    },
    {
     "name": "stdout",
     "output_type": "stream",
     "text": [
      "Message: Unable to locate element: /html/body/main/div[2]/div/div[7]/div[1]/div[2]/button[2]\n",
      "Stacktrace:\n",
      "WebDriverError@chrome://remote/content/shared/webdriver/Errors.jsm:181:5\n",
      "NoSuchElementError@chrome://remote/content/shared/webdriver/Errors.jsm:393:5\n",
      "element.find/</<@chrome://remote/content/marionette/element.js:305:16\n",
      "\n"
     ]
    },
    {
     "name": "stderr",
     "output_type": "stream",
     "text": [
      "/home/lucas/miniconda3/lib/python3.7/site-packages/ipykernel_launcher.py:3: DeprecationWarning: firefox_profile has been deprecated, please pass in an Options object\n",
      "  This is separate from the ipykernel package so we can avoid doing imports until\n",
      "/home/lucas/miniconda3/lib/python3.7/site-packages/ipykernel_launcher.py:3: DeprecationWarning: firefox_profile has been deprecated, please pass in an Options object\n",
      "  This is separate from the ipykernel package so we can avoid doing imports until\n"
     ]
    },
    {
     "name": "stdout",
     "output_type": "stream",
     "text": [
      "Message: Unable to locate element: /html/body/main/div[2]/div/div[7]/div[1]/div[2]/button[2]\n",
      "Stacktrace:\n",
      "WebDriverError@chrome://remote/content/shared/webdriver/Errors.jsm:181:5\n",
      "NoSuchElementError@chrome://remote/content/shared/webdriver/Errors.jsm:393:5\n",
      "element.find/</<@chrome://remote/content/marionette/element.js:305:16\n",
      "\n"
     ]
    },
    {
     "name": "stderr",
     "output_type": "stream",
     "text": [
      "/home/lucas/miniconda3/lib/python3.7/site-packages/ipykernel_launcher.py:3: DeprecationWarning: firefox_profile has been deprecated, please pass in an Options object\n",
      "  This is separate from the ipykernel package so we can avoid doing imports until\n"
     ]
    },
    {
     "name": "stdout",
     "output_type": "stream",
     "text": [
      "Message: Unable to locate element: /html/body/main/div[2]/div/div[7]/div[1]/div[2]/button[2]\n",
      "Stacktrace:\n",
      "WebDriverError@chrome://remote/content/shared/webdriver/Errors.jsm:181:5\n",
      "NoSuchElementError@chrome://remote/content/shared/webdriver/Errors.jsm:393:5\n",
      "element.find/</<@chrome://remote/content/marionette/element.js:305:16\n",
      "\n"
     ]
    },
    {
     "name": "stderr",
     "output_type": "stream",
     "text": [
      "/home/lucas/miniconda3/lib/python3.7/site-packages/ipykernel_launcher.py:3: DeprecationWarning: firefox_profile has been deprecated, please pass in an Options object\n",
      "  This is separate from the ipykernel package so we can avoid doing imports until\n"
     ]
    },
    {
     "name": "stdout",
     "output_type": "stream",
     "text": [
      "Message: Unable to locate element: /html/body/main/div[2]/div/div[7]/div[1]/div[2]/button[2]\n",
      "Stacktrace:\n",
      "WebDriverError@chrome://remote/content/shared/webdriver/Errors.jsm:181:5\n",
      "NoSuchElementError@chrome://remote/content/shared/webdriver/Errors.jsm:393:5\n",
      "element.find/</<@chrome://remote/content/marionette/element.js:305:16\n",
      "\n",
      "Message: Unable to locate element: /html/body/main/div[2]/div/div[7]/div[1]/div[2]/button[2]\n",
      "Stacktrace:\n",
      "WebDriverError@chrome://remote/content/shared/webdriver/Errors.jsm:181:5\n",
      "NoSuchElementError@chrome://remote/content/shared/webdriver/Errors.jsm:393:5\n",
      "element.find/</<@chrome://remote/content/marionette/element.js:305:16\n",
      "\n"
     ]
    },
    {
     "name": "stderr",
     "output_type": "stream",
     "text": [
      "/home/lucas/miniconda3/lib/python3.7/site-packages/ipykernel_launcher.py:3: DeprecationWarning: firefox_profile has been deprecated, please pass in an Options object\n",
      "  This is separate from the ipykernel package so we can avoid doing imports until\n",
      "/home/lucas/miniconda3/lib/python3.7/site-packages/ipykernel_launcher.py:3: DeprecationWarning: firefox_profile has been deprecated, please pass in an Options object\n",
      "  This is separate from the ipykernel package so we can avoid doing imports until\n"
     ]
    },
    {
     "name": "stdout",
     "output_type": "stream",
     "text": [
      "Message: Unable to locate element: /html/body/main/div[2]/div/div[7]/div[1]/div[2]/button[2]\n",
      "Stacktrace:\n",
      "WebDriverError@chrome://remote/content/shared/webdriver/Errors.jsm:181:5\n",
      "NoSuchElementError@chrome://remote/content/shared/webdriver/Errors.jsm:393:5\n",
      "element.find/</<@chrome://remote/content/marionette/element.js:305:16\n",
      "\n"
     ]
    },
    {
     "name": "stderr",
     "output_type": "stream",
     "text": [
      "/home/lucas/miniconda3/lib/python3.7/site-packages/ipykernel_launcher.py:3: DeprecationWarning: firefox_profile has been deprecated, please pass in an Options object\n",
      "  This is separate from the ipykernel package so we can avoid doing imports until\n"
     ]
    },
    {
     "name": "stdout",
     "output_type": "stream",
     "text": [
      "Message: Unable to locate element: /html/body/main/div[2]/div/div[7]/div[1]/div[2]/button[2]\n",
      "Stacktrace:\n",
      "WebDriverError@chrome://remote/content/shared/webdriver/Errors.jsm:181:5\n",
      "NoSuchElementError@chrome://remote/content/shared/webdriver/Errors.jsm:393:5\n",
      "element.find/</<@chrome://remote/content/marionette/element.js:305:16\n",
      "\n"
     ]
    },
    {
     "name": "stderr",
     "output_type": "stream",
     "text": [
      "/home/lucas/miniconda3/lib/python3.7/site-packages/ipykernel_launcher.py:3: DeprecationWarning: firefox_profile has been deprecated, please pass in an Options object\n",
      "  This is separate from the ipykernel package so we can avoid doing imports until\n",
      "/home/lucas/miniconda3/lib/python3.7/site-packages/ipykernel_launcher.py:3: DeprecationWarning: firefox_profile has been deprecated, please pass in an Options object\n",
      "  This is separate from the ipykernel package so we can avoid doing imports until\n",
      "/home/lucas/miniconda3/lib/python3.7/site-packages/ipykernel_launcher.py:3: DeprecationWarning: firefox_profile has been deprecated, please pass in an Options object\n",
      "  This is separate from the ipykernel package so we can avoid doing imports until\n"
     ]
    },
    {
     "name": "stdout",
     "output_type": "stream",
     "text": [
      "Message: Unable to locate element: /html/body/main/div[2]/div/div[7]/div[1]/div[2]/button[2]\n",
      "Stacktrace:\n",
      "WebDriverError@chrome://remote/content/shared/webdriver/Errors.jsm:181:5\n",
      "NoSuchElementError@chrome://remote/content/shared/webdriver/Errors.jsm:393:5\n",
      "element.find/</<@chrome://remote/content/marionette/element.js:305:16\n",
      "\n"
     ]
    },
    {
     "name": "stderr",
     "output_type": "stream",
     "text": [
      "/home/lucas/miniconda3/lib/python3.7/site-packages/ipykernel_launcher.py:3: DeprecationWarning: firefox_profile has been deprecated, please pass in an Options object\n",
      "  This is separate from the ipykernel package so we can avoid doing imports until\n",
      "/home/lucas/miniconda3/lib/python3.7/site-packages/ipykernel_launcher.py:3: DeprecationWarning: firefox_profile has been deprecated, please pass in an Options object\n",
      "  This is separate from the ipykernel package so we can avoid doing imports until\n"
     ]
    },
    {
     "name": "stdout",
     "output_type": "stream",
     "text": [
      "Message: Unable to locate element: /html/body/main/div[2]/div/div[7]/div[1]/div[2]/button[2]\n",
      "Stacktrace:\n",
      "WebDriverError@chrome://remote/content/shared/webdriver/Errors.jsm:181:5\n",
      "NoSuchElementError@chrome://remote/content/shared/webdriver/Errors.jsm:393:5\n",
      "element.find/</<@chrome://remote/content/marionette/element.js:305:16\n",
      "\n"
     ]
    },
    {
     "name": "stderr",
     "output_type": "stream",
     "text": [
      "/home/lucas/miniconda3/lib/python3.7/site-packages/ipykernel_launcher.py:3: DeprecationWarning: firefox_profile has been deprecated, please pass in an Options object\n",
      "  This is separate from the ipykernel package so we can avoid doing imports until\n"
     ]
    },
    {
     "name": "stdout",
     "output_type": "stream",
     "text": [
      "Message: Unable to locate element: /html/body/main/div[2]/div/div[7]/div[1]/div[2]/button[2]\n",
      "Stacktrace:\n",
      "WebDriverError@chrome://remote/content/shared/webdriver/Errors.jsm:181:5\n",
      "NoSuchElementError@chrome://remote/content/shared/webdriver/Errors.jsm:393:5\n",
      "element.find/</<@chrome://remote/content/marionette/element.js:305:16\n",
      "\n"
     ]
    },
    {
     "name": "stderr",
     "output_type": "stream",
     "text": [
      "/home/lucas/miniconda3/lib/python3.7/site-packages/ipykernel_launcher.py:3: DeprecationWarning: firefox_profile has been deprecated, please pass in an Options object\n",
      "  This is separate from the ipykernel package so we can avoid doing imports until\n"
     ]
    },
    {
     "name": "stdout",
     "output_type": "stream",
     "text": [
      "Message: Unable to locate element: /html/body/main/div[2]/div/div[7]/div[1]/div[2]/button[2]\n",
      "Stacktrace:\n",
      "WebDriverError@chrome://remote/content/shared/webdriver/Errors.jsm:181:5\n",
      "NoSuchElementError@chrome://remote/content/shared/webdriver/Errors.jsm:393:5\n",
      "element.find/</<@chrome://remote/content/marionette/element.js:305:16\n",
      "\n"
     ]
    },
    {
     "name": "stderr",
     "output_type": "stream",
     "text": [
      "/home/lucas/miniconda3/lib/python3.7/site-packages/ipykernel_launcher.py:3: DeprecationWarning: firefox_profile has been deprecated, please pass in an Options object\n",
      "  This is separate from the ipykernel package so we can avoid doing imports until\n",
      "/home/lucas/miniconda3/lib/python3.7/site-packages/ipykernel_launcher.py:3: DeprecationWarning: firefox_profile has been deprecated, please pass in an Options object\n",
      "  This is separate from the ipykernel package so we can avoid doing imports until\n",
      "/home/lucas/miniconda3/lib/python3.7/site-packages/ipykernel_launcher.py:3: DeprecationWarning: firefox_profile has been deprecated, please pass in an Options object\n",
      "  This is separate from the ipykernel package so we can avoid doing imports until\n",
      "/home/lucas/miniconda3/lib/python3.7/site-packages/ipykernel_launcher.py:3: DeprecationWarning: firefox_profile has been deprecated, please pass in an Options object\n",
      "  This is separate from the ipykernel package so we can avoid doing imports until\n"
     ]
    },
    {
     "name": "stdout",
     "output_type": "stream",
     "text": [
      "Message: Unable to locate element: /html/body/main/div[2]/div/div[7]/div[1]/div[2]/button[2]\n",
      "Stacktrace:\n",
      "WebDriverError@chrome://remote/content/shared/webdriver/Errors.jsm:181:5\n",
      "NoSuchElementError@chrome://remote/content/shared/webdriver/Errors.jsm:393:5\n",
      "element.find/</<@chrome://remote/content/marionette/element.js:305:16\n",
      "\n"
     ]
    },
    {
     "name": "stderr",
     "output_type": "stream",
     "text": [
      "/home/lucas/miniconda3/lib/python3.7/site-packages/ipykernel_launcher.py:3: DeprecationWarning: firefox_profile has been deprecated, please pass in an Options object\n",
      "  This is separate from the ipykernel package so we can avoid doing imports until\n"
     ]
    },
    {
     "name": "stdout",
     "output_type": "stream",
     "text": [
      "Message: Unable to locate element: /html/body/main/div[2]/div/div[7]/div[1]/div[2]/button[2]\n",
      "Stacktrace:\n",
      "WebDriverError@chrome://remote/content/shared/webdriver/Errors.jsm:181:5\n",
      "NoSuchElementError@chrome://remote/content/shared/webdriver/Errors.jsm:393:5\n",
      "element.find/</<@chrome://remote/content/marionette/element.js:305:16\n",
      "\n"
     ]
    },
    {
     "name": "stderr",
     "output_type": "stream",
     "text": [
      "/home/lucas/miniconda3/lib/python3.7/site-packages/ipykernel_launcher.py:3: DeprecationWarning: firefox_profile has been deprecated, please pass in an Options object\n",
      "  This is separate from the ipykernel package so we can avoid doing imports until\n",
      "/home/lucas/miniconda3/lib/python3.7/site-packages/ipykernel_launcher.py:3: DeprecationWarning: firefox_profile has been deprecated, please pass in an Options object\n",
      "  This is separate from the ipykernel package so we can avoid doing imports until\n"
     ]
    },
    {
     "name": "stdout",
     "output_type": "stream",
     "text": [
      "Message: Unable to locate element: /html/body/main/div[2]/div/div[7]/div[1]/div[2]/button[2]\n",
      "Stacktrace:\n",
      "WebDriverError@chrome://remote/content/shared/webdriver/Errors.jsm:181:5\n",
      "NoSuchElementError@chrome://remote/content/shared/webdriver/Errors.jsm:393:5\n",
      "element.find/</<@chrome://remote/content/marionette/element.js:305:16\n",
      "\n"
     ]
    },
    {
     "name": "stderr",
     "output_type": "stream",
     "text": [
      "/home/lucas/miniconda3/lib/python3.7/site-packages/ipykernel_launcher.py:3: DeprecationWarning: firefox_profile has been deprecated, please pass in an Options object\n",
      "  This is separate from the ipykernel package so we can avoid doing imports until\n"
     ]
    },
    {
     "name": "stdout",
     "output_type": "stream",
     "text": [
      "Message: Unable to locate element: /html/body/main/div[2]/div/div[7]/div[1]/div[2]/button[2]\n",
      "Stacktrace:\n",
      "WebDriverError@chrome://remote/content/shared/webdriver/Errors.jsm:181:5\n",
      "NoSuchElementError@chrome://remote/content/shared/webdriver/Errors.jsm:393:5\n",
      "element.find/</<@chrome://remote/content/marionette/element.js:305:16\n",
      "\n",
      "Message: Unable to locate element: /html/body/main/div[2]/div/div[7]/div[1]/div[2]/button[2]\n",
      "Stacktrace:\n",
      "WebDriverError@chrome://remote/content/shared/webdriver/Errors.jsm:181:5\n",
      "NoSuchElementError@chrome://remote/content/shared/webdriver/Errors.jsm:393:5\n",
      "element.find/</<@chrome://remote/content/marionette/element.js:305:16\n",
      "\n"
     ]
    },
    {
     "name": "stderr",
     "output_type": "stream",
     "text": [
      "/home/lucas/miniconda3/lib/python3.7/site-packages/ipykernel_launcher.py:3: DeprecationWarning: firefox_profile has been deprecated, please pass in an Options object\n",
      "  This is separate from the ipykernel package so we can avoid doing imports until\n",
      "/home/lucas/miniconda3/lib/python3.7/site-packages/ipykernel_launcher.py:3: DeprecationWarning: firefox_profile has been deprecated, please pass in an Options object\n",
      "  This is separate from the ipykernel package so we can avoid doing imports until\n",
      "/home/lucas/miniconda3/lib/python3.7/site-packages/ipykernel_launcher.py:3: DeprecationWarning: firefox_profile has been deprecated, please pass in an Options object\n",
      "  This is separate from the ipykernel package so we can avoid doing imports until\n"
     ]
    },
    {
     "name": "stdout",
     "output_type": "stream",
     "text": [
      "Message: Unable to locate element: /html/body/main/div[2]/div/div[7]/div[1]/div[2]/button[2]\n",
      "Stacktrace:\n",
      "WebDriverError@chrome://remote/content/shared/webdriver/Errors.jsm:181:5\n",
      "NoSuchElementError@chrome://remote/content/shared/webdriver/Errors.jsm:393:5\n",
      "element.find/</<@chrome://remote/content/marionette/element.js:305:16\n",
      "\n"
     ]
    },
    {
     "name": "stderr",
     "output_type": "stream",
     "text": [
      "/home/lucas/miniconda3/lib/python3.7/site-packages/ipykernel_launcher.py:3: DeprecationWarning: firefox_profile has been deprecated, please pass in an Options object\n",
      "  This is separate from the ipykernel package so we can avoid doing imports until\n"
     ]
    },
    {
     "name": "stdout",
     "output_type": "stream",
     "text": [
      "Message: Unable to locate element: /html/body/main/div[2]/div/div[7]/div[1]/div[2]/button[2]\n",
      "Stacktrace:\n",
      "WebDriverError@chrome://remote/content/shared/webdriver/Errors.jsm:181:5\n",
      "NoSuchElementError@chrome://remote/content/shared/webdriver/Errors.jsm:393:5\n",
      "element.find/</<@chrome://remote/content/marionette/element.js:305:16\n",
      "\n",
      "Message: Unable to locate element: /html/body/main/div[2]/div/div[7]/div[1]/div[2]/button[2]\n",
      "Stacktrace:\n",
      "WebDriverError@chrome://remote/content/shared/webdriver/Errors.jsm:181:5\n",
      "NoSuchElementError@chrome://remote/content/shared/webdriver/Errors.jsm:393:5\n",
      "element.find/</<@chrome://remote/content/marionette/element.js:305:16\n",
      "\n"
     ]
    },
    {
     "name": "stderr",
     "output_type": "stream",
     "text": [
      "/home/lucas/miniconda3/lib/python3.7/site-packages/ipykernel_launcher.py:3: DeprecationWarning: firefox_profile has been deprecated, please pass in an Options object\n",
      "  This is separate from the ipykernel package so we can avoid doing imports until\n",
      "/home/lucas/miniconda3/lib/python3.7/site-packages/ipykernel_launcher.py:3: DeprecationWarning: firefox_profile has been deprecated, please pass in an Options object\n",
      "  This is separate from the ipykernel package so we can avoid doing imports until\n",
      "/home/lucas/miniconda3/lib/python3.7/site-packages/ipykernel_launcher.py:3: DeprecationWarning: firefox_profile has been deprecated, please pass in an Options object\n",
      "  This is separate from the ipykernel package so we can avoid doing imports until\n"
     ]
    },
    {
     "name": "stdout",
     "output_type": "stream",
     "text": [
      "Message: Unable to locate element: /html/body/main/div[2]/div/div[7]/div[1]/div[2]/button[2]\n",
      "Stacktrace:\n",
      "WebDriverError@chrome://remote/content/shared/webdriver/Errors.jsm:181:5\n",
      "NoSuchElementError@chrome://remote/content/shared/webdriver/Errors.jsm:393:5\n",
      "element.find/</<@chrome://remote/content/marionette/element.js:305:16\n",
      "\n"
     ]
    },
    {
     "name": "stderr",
     "output_type": "stream",
     "text": [
      "/home/lucas/miniconda3/lib/python3.7/site-packages/ipykernel_launcher.py:3: DeprecationWarning: firefox_profile has been deprecated, please pass in an Options object\n",
      "  This is separate from the ipykernel package so we can avoid doing imports until\n"
     ]
    },
    {
     "name": "stdout",
     "output_type": "stream",
     "text": [
      "Message: Unable to locate element: /html/body/main/div[2]/div/div[7]/div[1]/div[2]/button[2]\n",
      "Stacktrace:\n",
      "WebDriverError@chrome://remote/content/shared/webdriver/Errors.jsm:181:5\n",
      "NoSuchElementError@chrome://remote/content/shared/webdriver/Errors.jsm:393:5\n",
      "element.find/</<@chrome://remote/content/marionette/element.js:305:16\n",
      "\n",
      "Message: Unable to locate element: /html/body/main/div[2]/div/div[7]/div[1]/div[2]/button[2]\n",
      "Stacktrace:\n",
      "WebDriverError@chrome://remote/content/shared/webdriver/Errors.jsm:181:5\n",
      "NoSuchElementError@chrome://remote/content/shared/webdriver/Errors.jsm:393:5\n",
      "element.find/</<@chrome://remote/content/marionette/element.js:305:16\n",
      "\n"
     ]
    },
    {
     "name": "stderr",
     "output_type": "stream",
     "text": [
      "/home/lucas/miniconda3/lib/python3.7/site-packages/ipykernel_launcher.py:3: DeprecationWarning: firefox_profile has been deprecated, please pass in an Options object\n",
      "  This is separate from the ipykernel package so we can avoid doing imports until\n",
      "/home/lucas/miniconda3/lib/python3.7/site-packages/ipykernel_launcher.py:3: DeprecationWarning: firefox_profile has been deprecated, please pass in an Options object\n",
      "  This is separate from the ipykernel package so we can avoid doing imports until\n"
     ]
    },
    {
     "name": "stdout",
     "output_type": "stream",
     "text": [
      "Message: Unable to locate element: /html/body/main/div[2]/div/div[7]/div[1]/div[2]/button[2]\n",
      "Stacktrace:\n",
      "WebDriverError@chrome://remote/content/shared/webdriver/Errors.jsm:181:5\n",
      "NoSuchElementError@chrome://remote/content/shared/webdriver/Errors.jsm:393:5\n",
      "element.find/</<@chrome://remote/content/marionette/element.js:305:16\n",
      "\n",
      "Message: Unable to locate element: /html/body/main/div[2]/div/div[7]/div[1]/div[2]/button[2]\n",
      "Stacktrace:\n",
      "WebDriverError@chrome://remote/content/shared/webdriver/Errors.jsm:181:5\n",
      "NoSuchElementError@chrome://remote/content/shared/webdriver/Errors.jsm:393:5\n",
      "element.find/</<@chrome://remote/content/marionette/element.js:305:16\n",
      "\n"
     ]
    },
    {
     "name": "stderr",
     "output_type": "stream",
     "text": [
      "/home/lucas/miniconda3/lib/python3.7/site-packages/ipykernel_launcher.py:3: DeprecationWarning: firefox_profile has been deprecated, please pass in an Options object\n",
      "  This is separate from the ipykernel package so we can avoid doing imports until\n",
      "/home/lucas/miniconda3/lib/python3.7/site-packages/ipykernel_launcher.py:3: DeprecationWarning: firefox_profile has been deprecated, please pass in an Options object\n",
      "  This is separate from the ipykernel package so we can avoid doing imports until\n"
     ]
    },
    {
     "name": "stdout",
     "output_type": "stream",
     "text": [
      "Message: Unable to locate element: /html/body/main/div[2]/div/div[7]/div[1]/div[2]/button[2]\n",
      "Stacktrace:\n",
      "WebDriverError@chrome://remote/content/shared/webdriver/Errors.jsm:181:5\n",
      "NoSuchElementError@chrome://remote/content/shared/webdriver/Errors.jsm:393:5\n",
      "element.find/</<@chrome://remote/content/marionette/element.js:305:16\n",
      "\n",
      "Message: Unable to locate element: /html/body/main/div[2]/div/div[7]/div[1]/div[2]/button[2]\n",
      "Stacktrace:\n",
      "WebDriverError@chrome://remote/content/shared/webdriver/Errors.jsm:181:5\n",
      "NoSuchElementError@chrome://remote/content/shared/webdriver/Errors.jsm:393:5\n",
      "element.find/</<@chrome://remote/content/marionette/element.js:305:16\n",
      "\n"
     ]
    },
    {
     "name": "stderr",
     "output_type": "stream",
     "text": [
      "/home/lucas/miniconda3/lib/python3.7/site-packages/ipykernel_launcher.py:3: DeprecationWarning: firefox_profile has been deprecated, please pass in an Options object\n",
      "  This is separate from the ipykernel package so we can avoid doing imports until\n",
      "/home/lucas/miniconda3/lib/python3.7/site-packages/ipykernel_launcher.py:3: DeprecationWarning: firefox_profile has been deprecated, please pass in an Options object\n",
      "  This is separate from the ipykernel package so we can avoid doing imports until\n"
     ]
    },
    {
     "name": "stdout",
     "output_type": "stream",
     "text": [
      "Message: Unable to locate element: /html/body/main/div[2]/div/div[7]/div[1]/div[2]/button[2]\n",
      "Stacktrace:\n",
      "WebDriverError@chrome://remote/content/shared/webdriver/Errors.jsm:181:5\n",
      "NoSuchElementError@chrome://remote/content/shared/webdriver/Errors.jsm:393:5\n",
      "element.find/</<@chrome://remote/content/marionette/element.js:305:16\n",
      "\n",
      "Message: Unable to locate element: /html/body/main/div[2]/div/div[7]/div[1]/div[2]/button[2]\n",
      "Stacktrace:\n",
      "WebDriverError@chrome://remote/content/shared/webdriver/Errors.jsm:181:5\n",
      "NoSuchElementError@chrome://remote/content/shared/webdriver/Errors.jsm:393:5\n",
      "element.find/</<@chrome://remote/content/marionette/element.js:305:16\n",
      "\n"
     ]
    },
    {
     "name": "stderr",
     "output_type": "stream",
     "text": [
      "/home/lucas/miniconda3/lib/python3.7/site-packages/ipykernel_launcher.py:3: DeprecationWarning: firefox_profile has been deprecated, please pass in an Options object\n",
      "  This is separate from the ipykernel package so we can avoid doing imports until\n",
      "/home/lucas/miniconda3/lib/python3.7/site-packages/ipykernel_launcher.py:3: DeprecationWarning: firefox_profile has been deprecated, please pass in an Options object\n",
      "  This is separate from the ipykernel package so we can avoid doing imports until\n"
     ]
    },
    {
     "name": "stdout",
     "output_type": "stream",
     "text": [
      "Message: Unable to locate element: /html/body/main/div[2]/div/div[7]/div[1]/div[2]/button[2]\n",
      "Stacktrace:\n",
      "WebDriverError@chrome://remote/content/shared/webdriver/Errors.jsm:181:5\n",
      "NoSuchElementError@chrome://remote/content/shared/webdriver/Errors.jsm:393:5\n",
      "element.find/</<@chrome://remote/content/marionette/element.js:305:16\n",
      "\n",
      "Message: Unable to locate element: /html/body/main/div[2]/div/div[7]/div[1]/div[2]/button[2]\n",
      "Stacktrace:\n",
      "WebDriverError@chrome://remote/content/shared/webdriver/Errors.jsm:181:5\n",
      "NoSuchElementError@chrome://remote/content/shared/webdriver/Errors.jsm:393:5\n",
      "element.find/</<@chrome://remote/content/marionette/element.js:305:16\n",
      "\n"
     ]
    },
    {
     "name": "stderr",
     "output_type": "stream",
     "text": [
      "/home/lucas/miniconda3/lib/python3.7/site-packages/ipykernel_launcher.py:3: DeprecationWarning: firefox_profile has been deprecated, please pass in an Options object\n",
      "  This is separate from the ipykernel package so we can avoid doing imports until\n",
      "/home/lucas/miniconda3/lib/python3.7/site-packages/ipykernel_launcher.py:3: DeprecationWarning: firefox_profile has been deprecated, please pass in an Options object\n",
      "  This is separate from the ipykernel package so we can avoid doing imports until\n"
     ]
    },
    {
     "name": "stdout",
     "output_type": "stream",
     "text": [
      "Message: Unable to locate element: /html/body/main/div[2]/div/div[7]/div[1]/div[2]/button[2]\n",
      "Stacktrace:\n",
      "WebDriverError@chrome://remote/content/shared/webdriver/Errors.jsm:181:5\n",
      "NoSuchElementError@chrome://remote/content/shared/webdriver/Errors.jsm:393:5\n",
      "element.find/</<@chrome://remote/content/marionette/element.js:305:16\n",
      "\n",
      "Message: Unable to locate element: /html/body/main/div[2]/div/div[7]/div[1]/div[2]/button[2]\n",
      "Stacktrace:\n",
      "WebDriverError@chrome://remote/content/shared/webdriver/Errors.jsm:181:5\n",
      "NoSuchElementError@chrome://remote/content/shared/webdriver/Errors.jsm:393:5\n",
      "element.find/</<@chrome://remote/content/marionette/element.js:305:16\n",
      "\n"
     ]
    },
    {
     "name": "stderr",
     "output_type": "stream",
     "text": [
      "/home/lucas/miniconda3/lib/python3.7/site-packages/ipykernel_launcher.py:3: DeprecationWarning: firefox_profile has been deprecated, please pass in an Options object\n",
      "  This is separate from the ipykernel package so we can avoid doing imports until\n",
      "/home/lucas/miniconda3/lib/python3.7/site-packages/ipykernel_launcher.py:3: DeprecationWarning: firefox_profile has been deprecated, please pass in an Options object\n",
      "  This is separate from the ipykernel package so we can avoid doing imports until\n"
     ]
    },
    {
     "name": "stdout",
     "output_type": "stream",
     "text": [
      "Message: Unable to locate element: /html/body/main/div[2]/div/div[7]/div[1]/div[2]/button[2]\n",
      "Stacktrace:\n",
      "WebDriverError@chrome://remote/content/shared/webdriver/Errors.jsm:181:5\n",
      "NoSuchElementError@chrome://remote/content/shared/webdriver/Errors.jsm:393:5\n",
      "element.find/</<@chrome://remote/content/marionette/element.js:305:16\n",
      "\n",
      "Message: Unable to locate element: /html/body/main/div[2]/div/div[7]/div[1]/div[2]/button[2]\n",
      "Stacktrace:\n",
      "WebDriverError@chrome://remote/content/shared/webdriver/Errors.jsm:181:5\n",
      "NoSuchElementError@chrome://remote/content/shared/webdriver/Errors.jsm:393:5\n",
      "element.find/</<@chrome://remote/content/marionette/element.js:305:16\n",
      "\n"
     ]
    },
    {
     "name": "stderr",
     "output_type": "stream",
     "text": [
      "/home/lucas/miniconda3/lib/python3.7/site-packages/ipykernel_launcher.py:3: DeprecationWarning: firefox_profile has been deprecated, please pass in an Options object\n",
      "  This is separate from the ipykernel package so we can avoid doing imports until\n",
      "/home/lucas/miniconda3/lib/python3.7/site-packages/ipykernel_launcher.py:3: DeprecationWarning: firefox_profile has been deprecated, please pass in an Options object\n",
      "  This is separate from the ipykernel package so we can avoid doing imports until\n",
      "/home/lucas/miniconda3/lib/python3.7/site-packages/ipykernel_launcher.py:3: DeprecationWarning: firefox_profile has been deprecated, please pass in an Options object\n",
      "  This is separate from the ipykernel package so we can avoid doing imports until\n",
      "/home/lucas/miniconda3/lib/python3.7/site-packages/ipykernel_launcher.py:3: DeprecationWarning: firefox_profile has been deprecated, please pass in an Options object\n",
      "  This is separate from the ipykernel package so we can avoid doing imports until\n",
      "/home/lucas/miniconda3/lib/python3.7/site-packages/ipykernel_launcher.py:3: DeprecationWarning: firefox_profile has been deprecated, please pass in an Options object\n",
      "  This is separate from the ipykernel package so we can avoid doing imports until\n",
      "/home/lucas/miniconda3/lib/python3.7/site-packages/ipykernel_launcher.py:3: DeprecationWarning: firefox_profile has been deprecated, please pass in an Options object\n",
      "  This is separate from the ipykernel package so we can avoid doing imports until\n"
     ]
    },
    {
     "name": "stdout",
     "output_type": "stream",
     "text": [
      "Message: Unable to locate element: /html/body/main/div[2]/div/div[7]/div[1]/div[2]/button[2]\n",
      "Stacktrace:\n",
      "WebDriverError@chrome://remote/content/shared/webdriver/Errors.jsm:181:5\n",
      "NoSuchElementError@chrome://remote/content/shared/webdriver/Errors.jsm:393:5\n",
      "element.find/</<@chrome://remote/content/marionette/element.js:305:16\n",
      "\n"
     ]
    },
    {
     "name": "stderr",
     "output_type": "stream",
     "text": [
      "/home/lucas/miniconda3/lib/python3.7/site-packages/ipykernel_launcher.py:3: DeprecationWarning: firefox_profile has been deprecated, please pass in an Options object\n",
      "  This is separate from the ipykernel package so we can avoid doing imports until\n",
      "/home/lucas/miniconda3/lib/python3.7/site-packages/ipykernel_launcher.py:3: DeprecationWarning: firefox_profile has been deprecated, please pass in an Options object\n",
      "  This is separate from the ipykernel package so we can avoid doing imports until\n",
      "/home/lucas/miniconda3/lib/python3.7/site-packages/ipykernel_launcher.py:3: DeprecationWarning: firefox_profile has been deprecated, please pass in an Options object\n",
      "  This is separate from the ipykernel package so we can avoid doing imports until\n"
     ]
    },
    {
     "name": "stdout",
     "output_type": "stream",
     "text": [
      "Message: Unable to locate element: /html/body/main/div[2]/div/div[7]/div[1]/div[2]/button[2]\n",
      "Stacktrace:\n",
      "WebDriverError@chrome://remote/content/shared/webdriver/Errors.jsm:181:5\n",
      "NoSuchElementError@chrome://remote/content/shared/webdriver/Errors.jsm:393:5\n",
      "element.find/</<@chrome://remote/content/marionette/element.js:305:16\n",
      "\n"
     ]
    },
    {
     "name": "stderr",
     "output_type": "stream",
     "text": [
      "/home/lucas/miniconda3/lib/python3.7/site-packages/ipykernel_launcher.py:3: DeprecationWarning: firefox_profile has been deprecated, please pass in an Options object\n",
      "  This is separate from the ipykernel package so we can avoid doing imports until\n",
      "/home/lucas/miniconda3/lib/python3.7/site-packages/ipykernel_launcher.py:3: DeprecationWarning: firefox_profile has been deprecated, please pass in an Options object\n",
      "  This is separate from the ipykernel package so we can avoid doing imports until\n"
     ]
    },
    {
     "name": "stdout",
     "output_type": "stream",
     "text": [
      "Message: Unable to locate element: /html/body/main/div[2]/div/div[7]/div[1]/div[2]/button[2]\n",
      "Stacktrace:\n",
      "WebDriverError@chrome://remote/content/shared/webdriver/Errors.jsm:181:5\n",
      "NoSuchElementError@chrome://remote/content/shared/webdriver/Errors.jsm:393:5\n",
      "element.find/</<@chrome://remote/content/marionette/element.js:305:16\n",
      "\n"
     ]
    },
    {
     "name": "stderr",
     "output_type": "stream",
     "text": [
      "/home/lucas/miniconda3/lib/python3.7/site-packages/ipykernel_launcher.py:3: DeprecationWarning: firefox_profile has been deprecated, please pass in an Options object\n",
      "  This is separate from the ipykernel package so we can avoid doing imports until\n"
     ]
    },
    {
     "name": "stdout",
     "output_type": "stream",
     "text": [
      "Message: Unable to locate element: /html/body/main/div[2]/div/div[7]/div[1]/div[2]/button[2]\n",
      "Stacktrace:\n",
      "WebDriverError@chrome://remote/content/shared/webdriver/Errors.jsm:181:5\n",
      "NoSuchElementError@chrome://remote/content/shared/webdriver/Errors.jsm:393:5\n",
      "element.find/</<@chrome://remote/content/marionette/element.js:305:16\n",
      "\n"
     ]
    },
    {
     "name": "stderr",
     "output_type": "stream",
     "text": [
      "/home/lucas/miniconda3/lib/python3.7/site-packages/ipykernel_launcher.py:3: DeprecationWarning: firefox_profile has been deprecated, please pass in an Options object\n",
      "  This is separate from the ipykernel package so we can avoid doing imports until\n",
      "/home/lucas/miniconda3/lib/python3.7/site-packages/ipykernel_launcher.py:3: DeprecationWarning: firefox_profile has been deprecated, please pass in an Options object\n",
      "  This is separate from the ipykernel package so we can avoid doing imports until\n",
      "/home/lucas/miniconda3/lib/python3.7/site-packages/ipykernel_launcher.py:3: DeprecationWarning: firefox_profile has been deprecated, please pass in an Options object\n",
      "  This is separate from the ipykernel package so we can avoid doing imports until\n"
     ]
    },
    {
     "name": "stdout",
     "output_type": "stream",
     "text": [
      "Message: Unable to locate element: /html/body/main/div[2]/div/div[7]/div[1]/div[2]/button[2]\n",
      "Stacktrace:\n",
      "WebDriverError@chrome://remote/content/shared/webdriver/Errors.jsm:181:5\n",
      "NoSuchElementError@chrome://remote/content/shared/webdriver/Errors.jsm:393:5\n",
      "element.find/</<@chrome://remote/content/marionette/element.js:305:16\n",
      "\n"
     ]
    },
    {
     "name": "stderr",
     "output_type": "stream",
     "text": [
      "/home/lucas/miniconda3/lib/python3.7/site-packages/ipykernel_launcher.py:3: DeprecationWarning: firefox_profile has been deprecated, please pass in an Options object\n",
      "  This is separate from the ipykernel package so we can avoid doing imports until\n"
     ]
    },
    {
     "name": "stdout",
     "output_type": "stream",
     "text": [
      "Message: Unable to locate element: /html/body/main/div[2]/div/div[7]/div[1]/div[2]/button[2]\n",
      "Stacktrace:\n",
      "WebDriverError@chrome://remote/content/shared/webdriver/Errors.jsm:181:5\n",
      "NoSuchElementError@chrome://remote/content/shared/webdriver/Errors.jsm:393:5\n",
      "element.find/</<@chrome://remote/content/marionette/element.js:305:16\n",
      "\n"
     ]
    },
    {
     "name": "stderr",
     "output_type": "stream",
     "text": [
      "/home/lucas/miniconda3/lib/python3.7/site-packages/ipykernel_launcher.py:3: DeprecationWarning: firefox_profile has been deprecated, please pass in an Options object\n",
      "  This is separate from the ipykernel package so we can avoid doing imports until\n"
     ]
    },
    {
     "name": "stdout",
     "output_type": "stream",
     "text": [
      "Message: Unable to locate element: /html/body/main/div[2]/div/div[7]/div[1]/div[2]/button[2]\n",
      "Stacktrace:\n",
      "WebDriverError@chrome://remote/content/shared/webdriver/Errors.jsm:181:5\n",
      "NoSuchElementError@chrome://remote/content/shared/webdriver/Errors.jsm:393:5\n",
      "element.find/</<@chrome://remote/content/marionette/element.js:305:16\n",
      "\n"
     ]
    },
    {
     "name": "stderr",
     "output_type": "stream",
     "text": [
      "/home/lucas/miniconda3/lib/python3.7/site-packages/ipykernel_launcher.py:3: DeprecationWarning: firefox_profile has been deprecated, please pass in an Options object\n",
      "  This is separate from the ipykernel package so we can avoid doing imports until\n",
      "/home/lucas/miniconda3/lib/python3.7/site-packages/ipykernel_launcher.py:3: DeprecationWarning: firefox_profile has been deprecated, please pass in an Options object\n",
      "  This is separate from the ipykernel package so we can avoid doing imports until\n",
      "/home/lucas/miniconda3/lib/python3.7/site-packages/ipykernel_launcher.py:3: DeprecationWarning: firefox_profile has been deprecated, please pass in an Options object\n",
      "  This is separate from the ipykernel package so we can avoid doing imports until\n"
     ]
    },
    {
     "name": "stdout",
     "output_type": "stream",
     "text": [
      "Message: Unable to locate element: /html/body/main/div[2]/div/div[7]/div[1]/div[2]/button[2]\n",
      "Stacktrace:\n",
      "WebDriverError@chrome://remote/content/shared/webdriver/Errors.jsm:181:5\n",
      "NoSuchElementError@chrome://remote/content/shared/webdriver/Errors.jsm:393:5\n",
      "element.find/</<@chrome://remote/content/marionette/element.js:305:16\n",
      "\n"
     ]
    },
    {
     "name": "stderr",
     "output_type": "stream",
     "text": [
      "/home/lucas/miniconda3/lib/python3.7/site-packages/ipykernel_launcher.py:3: DeprecationWarning: firefox_profile has been deprecated, please pass in an Options object\n",
      "  This is separate from the ipykernel package so we can avoid doing imports until\n"
     ]
    },
    {
     "name": "stdout",
     "output_type": "stream",
     "text": [
      "Message: Unable to locate element: /html/body/main/div[2]/div/div[7]/div[1]/div[2]/button[2]\n",
      "Stacktrace:\n",
      "WebDriverError@chrome://remote/content/shared/webdriver/Errors.jsm:181:5\n",
      "NoSuchElementError@chrome://remote/content/shared/webdriver/Errors.jsm:393:5\n",
      "element.find/</<@chrome://remote/content/marionette/element.js:305:16\n",
      "\n"
     ]
    },
    {
     "name": "stderr",
     "output_type": "stream",
     "text": [
      "/home/lucas/miniconda3/lib/python3.7/site-packages/ipykernel_launcher.py:3: DeprecationWarning: firefox_profile has been deprecated, please pass in an Options object\n",
      "  This is separate from the ipykernel package so we can avoid doing imports until\n",
      "/home/lucas/miniconda3/lib/python3.7/site-packages/ipykernel_launcher.py:3: DeprecationWarning: firefox_profile has been deprecated, please pass in an Options object\n",
      "  This is separate from the ipykernel package so we can avoid doing imports until\n"
     ]
    },
    {
     "name": "stdout",
     "output_type": "stream",
     "text": [
      "Message: Unable to locate element: /html/body/main/div[2]/div/div[7]/div[1]/div[2]/button[2]\n",
      "Stacktrace:\n",
      "WebDriverError@chrome://remote/content/shared/webdriver/Errors.jsm:181:5\n",
      "NoSuchElementError@chrome://remote/content/shared/webdriver/Errors.jsm:393:5\n",
      "element.find/</<@chrome://remote/content/marionette/element.js:305:16\n",
      "\n"
     ]
    },
    {
     "name": "stderr",
     "output_type": "stream",
     "text": [
      "/home/lucas/miniconda3/lib/python3.7/site-packages/ipykernel_launcher.py:3: DeprecationWarning: firefox_profile has been deprecated, please pass in an Options object\n",
      "  This is separate from the ipykernel package so we can avoid doing imports until\n"
     ]
    },
    {
     "name": "stdout",
     "output_type": "stream",
     "text": [
      "Message: Unable to locate element: /html/body/main/div[2]/div/div[7]/div[1]/div[2]/button[2]\n",
      "Stacktrace:\n",
      "WebDriverError@chrome://remote/content/shared/webdriver/Errors.jsm:181:5\n",
      "NoSuchElementError@chrome://remote/content/shared/webdriver/Errors.jsm:393:5\n",
      "element.find/</<@chrome://remote/content/marionette/element.js:305:16\n",
      "\n"
     ]
    },
    {
     "name": "stderr",
     "output_type": "stream",
     "text": [
      "/home/lucas/miniconda3/lib/python3.7/site-packages/ipykernel_launcher.py:3: DeprecationWarning: firefox_profile has been deprecated, please pass in an Options object\n",
      "  This is separate from the ipykernel package so we can avoid doing imports until\n",
      "/home/lucas/miniconda3/lib/python3.7/site-packages/ipykernel_launcher.py:3: DeprecationWarning: firefox_profile has been deprecated, please pass in an Options object\n",
      "  This is separate from the ipykernel package so we can avoid doing imports until\n",
      "/home/lucas/miniconda3/lib/python3.7/site-packages/ipykernel_launcher.py:3: DeprecationWarning: firefox_profile has been deprecated, please pass in an Options object\n",
      "  This is separate from the ipykernel package so we can avoid doing imports until\n"
     ]
    },
    {
     "name": "stdout",
     "output_type": "stream",
     "text": [
      "Message: Unable to locate element: /html/body/main/div[2]/div/div[7]/div[1]/div[2]/button[2]\n",
      "Stacktrace:\n",
      "WebDriverError@chrome://remote/content/shared/webdriver/Errors.jsm:181:5\n",
      "NoSuchElementError@chrome://remote/content/shared/webdriver/Errors.jsm:393:5\n",
      "element.find/</<@chrome://remote/content/marionette/element.js:305:16\n",
      "\n"
     ]
    },
    {
     "name": "stderr",
     "output_type": "stream",
     "text": [
      "/home/lucas/miniconda3/lib/python3.7/site-packages/ipykernel_launcher.py:3: DeprecationWarning: firefox_profile has been deprecated, please pass in an Options object\n",
      "  This is separate from the ipykernel package so we can avoid doing imports until\n",
      "/home/lucas/miniconda3/lib/python3.7/site-packages/ipykernel_launcher.py:3: DeprecationWarning: firefox_profile has been deprecated, please pass in an Options object\n",
      "  This is separate from the ipykernel package so we can avoid doing imports until\n",
      "/home/lucas/miniconda3/lib/python3.7/site-packages/ipykernel_launcher.py:3: DeprecationWarning: firefox_profile has been deprecated, please pass in an Options object\n",
      "  This is separate from the ipykernel package so we can avoid doing imports until\n"
     ]
    },
    {
     "name": "stdout",
     "output_type": "stream",
     "text": [
      "Message: Unable to locate element: /html/body/main/div[2]/div/div[7]/div[1]/div[2]/button[2]\n",
      "Stacktrace:\n",
      "WebDriverError@chrome://remote/content/shared/webdriver/Errors.jsm:181:5\n",
      "NoSuchElementError@chrome://remote/content/shared/webdriver/Errors.jsm:393:5\n",
      "element.find/</<@chrome://remote/content/marionette/element.js:305:16\n",
      "\n",
      "Message: Unable to locate element: /html/body/main/div[2]/div/div[7]/div[1]/div[2]/button[2]\n",
      "Stacktrace:\n",
      "WebDriverError@chrome://remote/content/shared/webdriver/Errors.jsm:181:5\n",
      "NoSuchElementError@chrome://remote/content/shared/webdriver/Errors.jsm:393:5\n",
      "element.find/</<@chrome://remote/content/marionette/element.js:305:16\n",
      "\n"
     ]
    },
    {
     "name": "stderr",
     "output_type": "stream",
     "text": [
      "/home/lucas/miniconda3/lib/python3.7/site-packages/ipykernel_launcher.py:3: DeprecationWarning: firefox_profile has been deprecated, please pass in an Options object\n",
      "  This is separate from the ipykernel package so we can avoid doing imports until\n",
      "/home/lucas/miniconda3/lib/python3.7/site-packages/ipykernel_launcher.py:3: DeprecationWarning: firefox_profile has been deprecated, please pass in an Options object\n",
      "  This is separate from the ipykernel package so we can avoid doing imports until\n"
     ]
    },
    {
     "name": "stdout",
     "output_type": "stream",
     "text": [
      "Message: Unable to locate element: /html/body/main/div[2]/div/div[7]/div[1]/div[2]/button[2]\n",
      "Stacktrace:\n",
      "WebDriverError@chrome://remote/content/shared/webdriver/Errors.jsm:181:5\n",
      "NoSuchElementError@chrome://remote/content/shared/webdriver/Errors.jsm:393:5\n",
      "element.find/</<@chrome://remote/content/marionette/element.js:305:16\n",
      "\n"
     ]
    },
    {
     "name": "stderr",
     "output_type": "stream",
     "text": [
      "/home/lucas/miniconda3/lib/python3.7/site-packages/ipykernel_launcher.py:3: DeprecationWarning: firefox_profile has been deprecated, please pass in an Options object\n",
      "  This is separate from the ipykernel package so we can avoid doing imports until\n",
      "/home/lucas/miniconda3/lib/python3.7/site-packages/ipykernel_launcher.py:3: DeprecationWarning: firefox_profile has been deprecated, please pass in an Options object\n",
      "  This is separate from the ipykernel package so we can avoid doing imports until\n"
     ]
    },
    {
     "name": "stdout",
     "output_type": "stream",
     "text": [
      "Message: Unable to locate element: /html/body/main/div[2]/div/div[7]/div[1]/div[2]/button[2]\n",
      "Stacktrace:\n",
      "WebDriverError@chrome://remote/content/shared/webdriver/Errors.jsm:181:5\n",
      "NoSuchElementError@chrome://remote/content/shared/webdriver/Errors.jsm:393:5\n",
      "element.find/</<@chrome://remote/content/marionette/element.js:305:16\n",
      "\n"
     ]
    },
    {
     "name": "stderr",
     "output_type": "stream",
     "text": [
      "/home/lucas/miniconda3/lib/python3.7/site-packages/ipykernel_launcher.py:3: DeprecationWarning: firefox_profile has been deprecated, please pass in an Options object\n",
      "  This is separate from the ipykernel package so we can avoid doing imports until\n"
     ]
    },
    {
     "name": "stdout",
     "output_type": "stream",
     "text": [
      "Message: Unable to locate element: /html/body/main/div[2]/div/div[7]/div[1]/div[2]/button[2]\n",
      "Stacktrace:\n",
      "WebDriverError@chrome://remote/content/shared/webdriver/Errors.jsm:181:5\n",
      "NoSuchElementError@chrome://remote/content/shared/webdriver/Errors.jsm:393:5\n",
      "element.find/</<@chrome://remote/content/marionette/element.js:305:16\n",
      "\n"
     ]
    },
    {
     "name": "stderr",
     "output_type": "stream",
     "text": [
      "/home/lucas/miniconda3/lib/python3.7/site-packages/ipykernel_launcher.py:3: DeprecationWarning: firefox_profile has been deprecated, please pass in an Options object\n",
      "  This is separate from the ipykernel package so we can avoid doing imports until\n",
      "/home/lucas/miniconda3/lib/python3.7/site-packages/ipykernel_launcher.py:3: DeprecationWarning: firefox_profile has been deprecated, please pass in an Options object\n",
      "  This is separate from the ipykernel package so we can avoid doing imports until\n",
      "/home/lucas/miniconda3/lib/python3.7/site-packages/ipykernel_launcher.py:3: DeprecationWarning: firefox_profile has been deprecated, please pass in an Options object\n",
      "  This is separate from the ipykernel package so we can avoid doing imports until\n",
      "/home/lucas/miniconda3/lib/python3.7/site-packages/ipykernel_launcher.py:3: DeprecationWarning: firefox_profile has been deprecated, please pass in an Options object\n",
      "  This is separate from the ipykernel package so we can avoid doing imports until\n"
     ]
    },
    {
     "name": "stdout",
     "output_type": "stream",
     "text": [
      "Message: Unable to locate element: /html/body/main/div[2]/div/div[7]/div[1]/div[2]/button[2]\n",
      "Stacktrace:\n",
      "WebDriverError@chrome://remote/content/shared/webdriver/Errors.jsm:181:5\n",
      "NoSuchElementError@chrome://remote/content/shared/webdriver/Errors.jsm:393:5\n",
      "element.find/</<@chrome://remote/content/marionette/element.js:305:16\n",
      "\n",
      "Message: Unable to locate element: /html/body/main/div[2]/div/div[7]/div[1]/div[2]/button[2]\n",
      "Stacktrace:\n",
      "WebDriverError@chrome://remote/content/shared/webdriver/Errors.jsm:181:5\n",
      "NoSuchElementError@chrome://remote/content/shared/webdriver/Errors.jsm:393:5\n",
      "element.find/</<@chrome://remote/content/marionette/element.js:305:16\n",
      "\n"
     ]
    },
    {
     "name": "stderr",
     "output_type": "stream",
     "text": [
      "/home/lucas/miniconda3/lib/python3.7/site-packages/ipykernel_launcher.py:3: DeprecationWarning: firefox_profile has been deprecated, please pass in an Options object\n",
      "  This is separate from the ipykernel package so we can avoid doing imports until\n",
      "/home/lucas/miniconda3/lib/python3.7/site-packages/ipykernel_launcher.py:3: DeprecationWarning: firefox_profile has been deprecated, please pass in an Options object\n",
      "  This is separate from the ipykernel package so we can avoid doing imports until\n"
     ]
    },
    {
     "name": "stdout",
     "output_type": "stream",
     "text": [
      "Message: Unable to locate element: /html/body/main/div[2]/div/div[7]/div[1]/div[2]/button[2]\n",
      "Stacktrace:\n",
      "WebDriverError@chrome://remote/content/shared/webdriver/Errors.jsm:181:5\n",
      "NoSuchElementError@chrome://remote/content/shared/webdriver/Errors.jsm:393:5\n",
      "element.find/</<@chrome://remote/content/marionette/element.js:305:16\n",
      "\n",
      "Message: Unable to locate element: /html/body/main/div[2]/div/div[7]/div[1]/div[2]/button[2]\n",
      "Stacktrace:\n",
      "WebDriverError@chrome://remote/content/shared/webdriver/Errors.jsm:181:5\n",
      "NoSuchElementError@chrome://remote/content/shared/webdriver/Errors.jsm:393:5\n",
      "element.find/</<@chrome://remote/content/marionette/element.js:305:16\n",
      "\n"
     ]
    },
    {
     "name": "stderr",
     "output_type": "stream",
     "text": [
      "/home/lucas/miniconda3/lib/python3.7/site-packages/ipykernel_launcher.py:3: DeprecationWarning: firefox_profile has been deprecated, please pass in an Options object\n",
      "  This is separate from the ipykernel package so we can avoid doing imports until\n",
      "/home/lucas/miniconda3/lib/python3.7/site-packages/ipykernel_launcher.py:3: DeprecationWarning: firefox_profile has been deprecated, please pass in an Options object\n",
      "  This is separate from the ipykernel package so we can avoid doing imports until\n"
     ]
    },
    {
     "name": "stdout",
     "output_type": "stream",
     "text": [
      "Message: Unable to locate element: /html/body/main/div[2]/div/div[7]/div[1]/div[2]/button[2]\n",
      "Stacktrace:\n",
      "WebDriverError@chrome://remote/content/shared/webdriver/Errors.jsm:181:5\n",
      "NoSuchElementError@chrome://remote/content/shared/webdriver/Errors.jsm:393:5\n",
      "element.find/</<@chrome://remote/content/marionette/element.js:305:16\n",
      "\n"
     ]
    },
    {
     "name": "stderr",
     "output_type": "stream",
     "text": [
      "/home/lucas/miniconda3/lib/python3.7/site-packages/ipykernel_launcher.py:3: DeprecationWarning: firefox_profile has been deprecated, please pass in an Options object\n",
      "  This is separate from the ipykernel package so we can avoid doing imports until\n",
      "/home/lucas/miniconda3/lib/python3.7/site-packages/ipykernel_launcher.py:3: DeprecationWarning: firefox_profile has been deprecated, please pass in an Options object\n",
      "  This is separate from the ipykernel package so we can avoid doing imports until\n"
     ]
    },
    {
     "name": "stdout",
     "output_type": "stream",
     "text": [
      "Message: Unable to locate element: /html/body/main/div[2]/div/div[7]/div[1]/div[2]/button[2]\n",
      "Stacktrace:\n",
      "WebDriverError@chrome://remote/content/shared/webdriver/Errors.jsm:181:5\n",
      "NoSuchElementError@chrome://remote/content/shared/webdriver/Errors.jsm:393:5\n",
      "element.find/</<@chrome://remote/content/marionette/element.js:305:16\n",
      "\n",
      "Message: Unable to locate element: /html/body/main/div[2]/div/div[7]/div[1]/div[2]/button[2]\n",
      "Stacktrace:\n",
      "WebDriverError@chrome://remote/content/shared/webdriver/Errors.jsm:181:5\n",
      "NoSuchElementError@chrome://remote/content/shared/webdriver/Errors.jsm:393:5\n",
      "element.find/</<@chrome://remote/content/marionette/element.js:305:16\n",
      "\n"
     ]
    },
    {
     "name": "stderr",
     "output_type": "stream",
     "text": [
      "/home/lucas/miniconda3/lib/python3.7/site-packages/ipykernel_launcher.py:3: DeprecationWarning: firefox_profile has been deprecated, please pass in an Options object\n",
      "  This is separate from the ipykernel package so we can avoid doing imports until\n",
      "/home/lucas/miniconda3/lib/python3.7/site-packages/ipykernel_launcher.py:3: DeprecationWarning: firefox_profile has been deprecated, please pass in an Options object\n",
      "  This is separate from the ipykernel package so we can avoid doing imports until\n",
      "/home/lucas/miniconda3/lib/python3.7/site-packages/ipykernel_launcher.py:3: DeprecationWarning: firefox_profile has been deprecated, please pass in an Options object\n",
      "  This is separate from the ipykernel package so we can avoid doing imports until\n",
      "/home/lucas/miniconda3/lib/python3.7/site-packages/ipykernel_launcher.py:3: DeprecationWarning: firefox_profile has been deprecated, please pass in an Options object\n",
      "  This is separate from the ipykernel package so we can avoid doing imports until\n"
     ]
    },
    {
     "name": "stdout",
     "output_type": "stream",
     "text": [
      "Message: Unable to locate element: /html/body/main/div[2]/div/div[7]/div[1]/div[2]/button[2]\n",
      "Stacktrace:\n",
      "WebDriverError@chrome://remote/content/shared/webdriver/Errors.jsm:181:5\n",
      "NoSuchElementError@chrome://remote/content/shared/webdriver/Errors.jsm:393:5\n",
      "element.find/</<@chrome://remote/content/marionette/element.js:305:16\n",
      "\n",
      "Message: Unable to locate element: /html/body/main/div[2]/div/div[7]/div[1]/div[2]/button[2]\n",
      "Stacktrace:\n",
      "WebDriverError@chrome://remote/content/shared/webdriver/Errors.jsm:181:5\n",
      "NoSuchElementError@chrome://remote/content/shared/webdriver/Errors.jsm:393:5\n",
      "element.find/</<@chrome://remote/content/marionette/element.js:305:16\n",
      "\n"
     ]
    },
    {
     "name": "stderr",
     "output_type": "stream",
     "text": [
      "/home/lucas/miniconda3/lib/python3.7/site-packages/ipykernel_launcher.py:3: DeprecationWarning: firefox_profile has been deprecated, please pass in an Options object\n",
      "  This is separate from the ipykernel package so we can avoid doing imports until\n",
      "/home/lucas/miniconda3/lib/python3.7/site-packages/ipykernel_launcher.py:3: DeprecationWarning: firefox_profile has been deprecated, please pass in an Options object\n",
      "  This is separate from the ipykernel package so we can avoid doing imports until\n"
     ]
    },
    {
     "name": "stdout",
     "output_type": "stream",
     "text": [
      "Message: Unable to locate element: /html/body/main/div[2]/div/div[7]/div[1]/div[2]/button[2]\n",
      "Stacktrace:\n",
      "WebDriverError@chrome://remote/content/shared/webdriver/Errors.jsm:181:5\n",
      "NoSuchElementError@chrome://remote/content/shared/webdriver/Errors.jsm:393:5\n",
      "element.find/</<@chrome://remote/content/marionette/element.js:305:16\n",
      "\n"
     ]
    },
    {
     "name": "stderr",
     "output_type": "stream",
     "text": [
      "/home/lucas/miniconda3/lib/python3.7/site-packages/ipykernel_launcher.py:3: DeprecationWarning: firefox_profile has been deprecated, please pass in an Options object\n",
      "  This is separate from the ipykernel package so we can avoid doing imports until\n",
      "/home/lucas/miniconda3/lib/python3.7/site-packages/ipykernel_launcher.py:3: DeprecationWarning: firefox_profile has been deprecated, please pass in an Options object\n",
      "  This is separate from the ipykernel package so we can avoid doing imports until\n"
     ]
    },
    {
     "name": "stdout",
     "output_type": "stream",
     "text": [
      "Message: Unable to locate element: /html/body/main/div[2]/div/div[7]/div[1]/div[2]/button[2]\n",
      "Stacktrace:\n",
      "WebDriverError@chrome://remote/content/shared/webdriver/Errors.jsm:181:5\n",
      "NoSuchElementError@chrome://remote/content/shared/webdriver/Errors.jsm:393:5\n",
      "element.find/</<@chrome://remote/content/marionette/element.js:305:16\n",
      "\n"
     ]
    },
    {
     "name": "stderr",
     "output_type": "stream",
     "text": [
      "/home/lucas/miniconda3/lib/python3.7/site-packages/ipykernel_launcher.py:3: DeprecationWarning: firefox_profile has been deprecated, please pass in an Options object\n",
      "  This is separate from the ipykernel package so we can avoid doing imports until\n",
      "/home/lucas/miniconda3/lib/python3.7/site-packages/ipykernel_launcher.py:3: DeprecationWarning: firefox_profile has been deprecated, please pass in an Options object\n",
      "  This is separate from the ipykernel package so we can avoid doing imports until\n"
     ]
    },
    {
     "name": "stdout",
     "output_type": "stream",
     "text": [
      "Message: Unable to locate element: /html/body/main/div[2]/div/div[7]/div[1]/div[2]/button[2]\n",
      "Stacktrace:\n",
      "WebDriverError@chrome://remote/content/shared/webdriver/Errors.jsm:181:5\n",
      "NoSuchElementError@chrome://remote/content/shared/webdriver/Errors.jsm:393:5\n",
      "element.find/</<@chrome://remote/content/marionette/element.js:305:16\n",
      "\n"
     ]
    },
    {
     "name": "stderr",
     "output_type": "stream",
     "text": [
      "/home/lucas/miniconda3/lib/python3.7/site-packages/ipykernel_launcher.py:3: DeprecationWarning: firefox_profile has been deprecated, please pass in an Options object\n",
      "  This is separate from the ipykernel package so we can avoid doing imports until\n"
     ]
    },
    {
     "name": "stdout",
     "output_type": "stream",
     "text": [
      "Message: Unable to locate element: /html/body/main/div[2]/div/div[7]/div[1]/div[2]/button[2]\n",
      "Stacktrace:\n",
      "WebDriverError@chrome://remote/content/shared/webdriver/Errors.jsm:181:5\n",
      "NoSuchElementError@chrome://remote/content/shared/webdriver/Errors.jsm:393:5\n",
      "element.find/</<@chrome://remote/content/marionette/element.js:305:16\n",
      "\n"
     ]
    },
    {
     "name": "stderr",
     "output_type": "stream",
     "text": [
      "/home/lucas/miniconda3/lib/python3.7/site-packages/ipykernel_launcher.py:3: DeprecationWarning: firefox_profile has been deprecated, please pass in an Options object\n",
      "  This is separate from the ipykernel package so we can avoid doing imports until\n"
     ]
    },
    {
     "name": "stdout",
     "output_type": "stream",
     "text": [
      "Message: Unable to locate element: /html/body/main/div[2]/div/div[7]/div[1]/div[2]/button[2]\n",
      "Stacktrace:\n",
      "WebDriverError@chrome://remote/content/shared/webdriver/Errors.jsm:181:5\n",
      "NoSuchElementError@chrome://remote/content/shared/webdriver/Errors.jsm:393:5\n",
      "element.find/</<@chrome://remote/content/marionette/element.js:305:16\n",
      "\n"
     ]
    },
    {
     "name": "stderr",
     "output_type": "stream",
     "text": [
      "/home/lucas/miniconda3/lib/python3.7/site-packages/ipykernel_launcher.py:3: DeprecationWarning: firefox_profile has been deprecated, please pass in an Options object\n",
      "  This is separate from the ipykernel package so we can avoid doing imports until\n"
     ]
    },
    {
     "name": "stdout",
     "output_type": "stream",
     "text": [
      "Message: Unable to locate element: /html/body/main/div[2]/div/div[7]/div[1]/div[2]/button[2]\n",
      "Stacktrace:\n",
      "WebDriverError@chrome://remote/content/shared/webdriver/Errors.jsm:181:5\n",
      "NoSuchElementError@chrome://remote/content/shared/webdriver/Errors.jsm:393:5\n",
      "element.find/</<@chrome://remote/content/marionette/element.js:305:16\n",
      "\n",
      "Message: Unable to locate element: /html/body/main/div[2]/div/div[7]/div[1]/div[2]/button[2]\n",
      "Stacktrace:\n",
      "WebDriverError@chrome://remote/content/shared/webdriver/Errors.jsm:181:5\n",
      "NoSuchElementError@chrome://remote/content/shared/webdriver/Errors.jsm:393:5\n",
      "element.find/</<@chrome://remote/content/marionette/element.js:305:16\n",
      "\n"
     ]
    },
    {
     "name": "stderr",
     "output_type": "stream",
     "text": [
      "/home/lucas/miniconda3/lib/python3.7/site-packages/ipykernel_launcher.py:3: DeprecationWarning: firefox_profile has been deprecated, please pass in an Options object\n",
      "  This is separate from the ipykernel package so we can avoid doing imports until\n",
      "/home/lucas/miniconda3/lib/python3.7/site-packages/ipykernel_launcher.py:3: DeprecationWarning: firefox_profile has been deprecated, please pass in an Options object\n",
      "  This is separate from the ipykernel package so we can avoid doing imports until\n"
     ]
    },
    {
     "name": "stdout",
     "output_type": "stream",
     "text": [
      "Message: Unable to locate element: /html/body/main/div[2]/div/div[7]/div[1]/div[2]/button[2]\n",
      "Stacktrace:\n",
      "WebDriverError@chrome://remote/content/shared/webdriver/Errors.jsm:181:5\n",
      "NoSuchElementError@chrome://remote/content/shared/webdriver/Errors.jsm:393:5\n",
      "element.find/</<@chrome://remote/content/marionette/element.js:305:16\n",
      "\n"
     ]
    },
    {
     "name": "stderr",
     "output_type": "stream",
     "text": [
      "/home/lucas/miniconda3/lib/python3.7/site-packages/ipykernel_launcher.py:3: DeprecationWarning: firefox_profile has been deprecated, please pass in an Options object\n",
      "  This is separate from the ipykernel package so we can avoid doing imports until\n"
     ]
    },
    {
     "name": "stdout",
     "output_type": "stream",
     "text": [
      "Message: Unable to locate element: /html/body/main/div[2]/div/div[7]/div[1]/div[2]/button[2]\n",
      "Stacktrace:\n",
      "WebDriverError@chrome://remote/content/shared/webdriver/Errors.jsm:181:5\n",
      "NoSuchElementError@chrome://remote/content/shared/webdriver/Errors.jsm:393:5\n",
      "element.find/</<@chrome://remote/content/marionette/element.js:305:16\n",
      "\n"
     ]
    },
    {
     "name": "stderr",
     "output_type": "stream",
     "text": [
      "/home/lucas/miniconda3/lib/python3.7/site-packages/ipykernel_launcher.py:3: DeprecationWarning: firefox_profile has been deprecated, please pass in an Options object\n",
      "  This is separate from the ipykernel package so we can avoid doing imports until\n",
      "/home/lucas/miniconda3/lib/python3.7/site-packages/ipykernel_launcher.py:3: DeprecationWarning: firefox_profile has been deprecated, please pass in an Options object\n",
      "  This is separate from the ipykernel package so we can avoid doing imports until\n"
     ]
    },
    {
     "name": "stdout",
     "output_type": "stream",
     "text": [
      "Message: Unable to locate element: /html/body/main/div[2]/div/div[7]/div[1]/div[2]/button[2]\n",
      "Stacktrace:\n",
      "WebDriverError@chrome://remote/content/shared/webdriver/Errors.jsm:181:5\n",
      "NoSuchElementError@chrome://remote/content/shared/webdriver/Errors.jsm:393:5\n",
      "element.find/</<@chrome://remote/content/marionette/element.js:305:16\n",
      "\n"
     ]
    },
    {
     "name": "stderr",
     "output_type": "stream",
     "text": [
      "/home/lucas/miniconda3/lib/python3.7/site-packages/ipykernel_launcher.py:3: DeprecationWarning: firefox_profile has been deprecated, please pass in an Options object\n",
      "  This is separate from the ipykernel package so we can avoid doing imports until\n"
     ]
    },
    {
     "name": "stdout",
     "output_type": "stream",
     "text": [
      "Message: Unable to locate element: /html/body/main/div[2]/div/div[7]/div[1]/div[2]/button[2]\n",
      "Stacktrace:\n",
      "WebDriverError@chrome://remote/content/shared/webdriver/Errors.jsm:181:5\n",
      "NoSuchElementError@chrome://remote/content/shared/webdriver/Errors.jsm:393:5\n",
      "element.find/</<@chrome://remote/content/marionette/element.js:305:16\n",
      "\n"
     ]
    },
    {
     "name": "stderr",
     "output_type": "stream",
     "text": [
      "/home/lucas/miniconda3/lib/python3.7/site-packages/ipykernel_launcher.py:3: DeprecationWarning: firefox_profile has been deprecated, please pass in an Options object\n",
      "  This is separate from the ipykernel package so we can avoid doing imports until\n"
     ]
    },
    {
     "name": "stdout",
     "output_type": "stream",
     "text": [
      "Message: Unable to locate element: /html/body/main/div[2]/div/div[7]/div[1]/div[2]/button[2]\n",
      "Stacktrace:\n",
      "WebDriverError@chrome://remote/content/shared/webdriver/Errors.jsm:181:5\n",
      "NoSuchElementError@chrome://remote/content/shared/webdriver/Errors.jsm:393:5\n",
      "element.find/</<@chrome://remote/content/marionette/element.js:305:16\n",
      "\n"
     ]
    },
    {
     "name": "stderr",
     "output_type": "stream",
     "text": [
      "/home/lucas/miniconda3/lib/python3.7/site-packages/ipykernel_launcher.py:3: DeprecationWarning: firefox_profile has been deprecated, please pass in an Options object\n",
      "  This is separate from the ipykernel package so we can avoid doing imports until\n",
      "/home/lucas/miniconda3/lib/python3.7/site-packages/ipykernel_launcher.py:3: DeprecationWarning: firefox_profile has been deprecated, please pass in an Options object\n",
      "  This is separate from the ipykernel package so we can avoid doing imports until\n"
     ]
    },
    {
     "name": "stdout",
     "output_type": "stream",
     "text": [
      "Message: Unable to locate element: /html/body/main/div[2]/div/div[7]/div[1]/div[2]/button[2]\n",
      "Stacktrace:\n",
      "WebDriverError@chrome://remote/content/shared/webdriver/Errors.jsm:181:5\n",
      "NoSuchElementError@chrome://remote/content/shared/webdriver/Errors.jsm:393:5\n",
      "element.find/</<@chrome://remote/content/marionette/element.js:305:16\n",
      "\n"
     ]
    },
    {
     "name": "stderr",
     "output_type": "stream",
     "text": [
      "/home/lucas/miniconda3/lib/python3.7/site-packages/ipykernel_launcher.py:3: DeprecationWarning: firefox_profile has been deprecated, please pass in an Options object\n",
      "  This is separate from the ipykernel package so we can avoid doing imports until\n"
     ]
    },
    {
     "name": "stdout",
     "output_type": "stream",
     "text": [
      "Message: Unable to locate element: /html/body/main/div[2]/div/div[7]/div[1]/div[2]/button[2]\n",
      "Stacktrace:\n",
      "WebDriverError@chrome://remote/content/shared/webdriver/Errors.jsm:181:5\n",
      "NoSuchElementError@chrome://remote/content/shared/webdriver/Errors.jsm:393:5\n",
      "element.find/</<@chrome://remote/content/marionette/element.js:305:16\n",
      "\n"
     ]
    },
    {
     "name": "stderr",
     "output_type": "stream",
     "text": [
      "/home/lucas/miniconda3/lib/python3.7/site-packages/ipykernel_launcher.py:3: DeprecationWarning: firefox_profile has been deprecated, please pass in an Options object\n",
      "  This is separate from the ipykernel package so we can avoid doing imports until\n",
      "/home/lucas/miniconda3/lib/python3.7/site-packages/ipykernel_launcher.py:3: DeprecationWarning: firefox_profile has been deprecated, please pass in an Options object\n",
      "  This is separate from the ipykernel package so we can avoid doing imports until\n",
      "/home/lucas/miniconda3/lib/python3.7/site-packages/ipykernel_launcher.py:3: DeprecationWarning: firefox_profile has been deprecated, please pass in an Options object\n",
      "  This is separate from the ipykernel package so we can avoid doing imports until\n",
      "/home/lucas/miniconda3/lib/python3.7/site-packages/ipykernel_launcher.py:3: DeprecationWarning: firefox_profile has been deprecated, please pass in an Options object\n",
      "  This is separate from the ipykernel package so we can avoid doing imports until\n"
     ]
    },
    {
     "name": "stdout",
     "output_type": "stream",
     "text": [
      "Message: Unable to locate element: /html/body/main/div[2]/div/div[7]/div[1]/div[2]/button[2]\n",
      "Stacktrace:\n",
      "WebDriverError@chrome://remote/content/shared/webdriver/Errors.jsm:181:5\n",
      "NoSuchElementError@chrome://remote/content/shared/webdriver/Errors.jsm:393:5\n",
      "element.find/</<@chrome://remote/content/marionette/element.js:305:16\n",
      "\n"
     ]
    },
    {
     "name": "stderr",
     "output_type": "stream",
     "text": [
      "/home/lucas/miniconda3/lib/python3.7/site-packages/ipykernel_launcher.py:3: DeprecationWarning: firefox_profile has been deprecated, please pass in an Options object\n",
      "  This is separate from the ipykernel package so we can avoid doing imports until\n"
     ]
    },
    {
     "name": "stdout",
     "output_type": "stream",
     "text": [
      "Message: Unable to locate element: /html/body/main/div[2]/div/div[7]/div[1]/div[2]/button[2]\n",
      "Stacktrace:\n",
      "WebDriverError@chrome://remote/content/shared/webdriver/Errors.jsm:181:5\n",
      "NoSuchElementError@chrome://remote/content/shared/webdriver/Errors.jsm:393:5\n",
      "element.find/</<@chrome://remote/content/marionette/element.js:305:16\n",
      "\n"
     ]
    },
    {
     "name": "stderr",
     "output_type": "stream",
     "text": [
      "/home/lucas/miniconda3/lib/python3.7/site-packages/ipykernel_launcher.py:3: DeprecationWarning: firefox_profile has been deprecated, please pass in an Options object\n",
      "  This is separate from the ipykernel package so we can avoid doing imports until\n",
      "/home/lucas/miniconda3/lib/python3.7/site-packages/ipykernel_launcher.py:3: DeprecationWarning: firefox_profile has been deprecated, please pass in an Options object\n",
      "  This is separate from the ipykernel package so we can avoid doing imports until\n"
     ]
    },
    {
     "name": "stdout",
     "output_type": "stream",
     "text": [
      "Message: Unable to locate element: /html/body/main/div[2]/div/div[7]/div[1]/div[2]/button[2]\n",
      "Stacktrace:\n",
      "WebDriverError@chrome://remote/content/shared/webdriver/Errors.jsm:181:5\n",
      "NoSuchElementError@chrome://remote/content/shared/webdriver/Errors.jsm:393:5\n",
      "element.find/</<@chrome://remote/content/marionette/element.js:305:16\n",
      "\n"
     ]
    },
    {
     "name": "stderr",
     "output_type": "stream",
     "text": [
      "/home/lucas/miniconda3/lib/python3.7/site-packages/ipykernel_launcher.py:3: DeprecationWarning: firefox_profile has been deprecated, please pass in an Options object\n",
      "  This is separate from the ipykernel package so we can avoid doing imports until\n",
      "/home/lucas/miniconda3/lib/python3.7/site-packages/ipykernel_launcher.py:3: DeprecationWarning: firefox_profile has been deprecated, please pass in an Options object\n",
      "  This is separate from the ipykernel package so we can avoid doing imports until\n"
     ]
    },
    {
     "name": "stdout",
     "output_type": "stream",
     "text": [
      "Message: Unable to locate element: /html/body/main/div[2]/div/div[7]/div[1]/div[2]/button[2]\n",
      "Stacktrace:\n",
      "WebDriverError@chrome://remote/content/shared/webdriver/Errors.jsm:181:5\n",
      "NoSuchElementError@chrome://remote/content/shared/webdriver/Errors.jsm:393:5\n",
      "element.find/</<@chrome://remote/content/marionette/element.js:305:16\n",
      "\n",
      "Message: Unable to locate element: /html/body/main/div[2]/div/div[7]/div[1]/div[2]/button[2]\n",
      "Stacktrace:\n",
      "WebDriverError@chrome://remote/content/shared/webdriver/Errors.jsm:181:5\n",
      "NoSuchElementError@chrome://remote/content/shared/webdriver/Errors.jsm:393:5\n",
      "element.find/</<@chrome://remote/content/marionette/element.js:305:16\n",
      "\n"
     ]
    },
    {
     "name": "stderr",
     "output_type": "stream",
     "text": [
      "/home/lucas/miniconda3/lib/python3.7/site-packages/ipykernel_launcher.py:3: DeprecationWarning: firefox_profile has been deprecated, please pass in an Options object\n",
      "  This is separate from the ipykernel package so we can avoid doing imports until\n",
      "/home/lucas/miniconda3/lib/python3.7/site-packages/ipykernel_launcher.py:3: DeprecationWarning: firefox_profile has been deprecated, please pass in an Options object\n",
      "  This is separate from the ipykernel package so we can avoid doing imports until\n"
     ]
    },
    {
     "name": "stdout",
     "output_type": "stream",
     "text": [
      "Message: Unable to locate element: /html/body/main/div[2]/div/div[7]/div[1]/div[2]/button[2]\n",
      "Stacktrace:\n",
      "WebDriverError@chrome://remote/content/shared/webdriver/Errors.jsm:181:5\n",
      "NoSuchElementError@chrome://remote/content/shared/webdriver/Errors.jsm:393:5\n",
      "element.find/</<@chrome://remote/content/marionette/element.js:305:16\n",
      "\n"
     ]
    },
    {
     "name": "stderr",
     "output_type": "stream",
     "text": [
      "/home/lucas/miniconda3/lib/python3.7/site-packages/ipykernel_launcher.py:3: DeprecationWarning: firefox_profile has been deprecated, please pass in an Options object\n",
      "  This is separate from the ipykernel package so we can avoid doing imports until\n",
      "/home/lucas/miniconda3/lib/python3.7/site-packages/ipykernel_launcher.py:3: DeprecationWarning: firefox_profile has been deprecated, please pass in an Options object\n",
      "  This is separate from the ipykernel package so we can avoid doing imports until\n"
     ]
    },
    {
     "name": "stdout",
     "output_type": "stream",
     "text": [
      "Message: Unable to locate element: /html/body/main/div[2]/div/div[7]/div[1]/div[2]/button[2]\n",
      "Stacktrace:\n",
      "WebDriverError@chrome://remote/content/shared/webdriver/Errors.jsm:181:5\n",
      "NoSuchElementError@chrome://remote/content/shared/webdriver/Errors.jsm:393:5\n",
      "element.find/</<@chrome://remote/content/marionette/element.js:305:16\n",
      "\n",
      "Message: Unable to locate element: /html/body/main/div[2]/div/div[7]/div[1]/div[2]/button[2]\n",
      "Stacktrace:\n",
      "WebDriverError@chrome://remote/content/shared/webdriver/Errors.jsm:181:5\n",
      "NoSuchElementError@chrome://remote/content/shared/webdriver/Errors.jsm:393:5\n",
      "element.find/</<@chrome://remote/content/marionette/element.js:305:16\n",
      "\n"
     ]
    },
    {
     "name": "stderr",
     "output_type": "stream",
     "text": [
      "/home/lucas/miniconda3/lib/python3.7/site-packages/ipykernel_launcher.py:3: DeprecationWarning: firefox_profile has been deprecated, please pass in an Options object\n",
      "  This is separate from the ipykernel package so we can avoid doing imports until\n",
      "/home/lucas/miniconda3/lib/python3.7/site-packages/ipykernel_launcher.py:3: DeprecationWarning: firefox_profile has been deprecated, please pass in an Options object\n",
      "  This is separate from the ipykernel package so we can avoid doing imports until\n"
     ]
    },
    {
     "name": "stdout",
     "output_type": "stream",
     "text": [
      "Message: Unable to locate element: /html/body/main/div[2]/div/div[7]/div[1]/div[2]/button[2]\n",
      "Stacktrace:\n",
      "WebDriverError@chrome://remote/content/shared/webdriver/Errors.jsm:181:5\n",
      "NoSuchElementError@chrome://remote/content/shared/webdriver/Errors.jsm:393:5\n",
      "element.find/</<@chrome://remote/content/marionette/element.js:305:16\n",
      "\n"
     ]
    },
    {
     "name": "stderr",
     "output_type": "stream",
     "text": [
      "/home/lucas/miniconda3/lib/python3.7/site-packages/ipykernel_launcher.py:3: DeprecationWarning: firefox_profile has been deprecated, please pass in an Options object\n",
      "  This is separate from the ipykernel package so we can avoid doing imports until\n"
     ]
    },
    {
     "name": "stdout",
     "output_type": "stream",
     "text": [
      "Message: Unable to locate element: /html/body/main/div[2]/div/div[7]/div[1]/div[2]/button[2]\n",
      "Stacktrace:\n",
      "WebDriverError@chrome://remote/content/shared/webdriver/Errors.jsm:181:5\n",
      "NoSuchElementError@chrome://remote/content/shared/webdriver/Errors.jsm:393:5\n",
      "element.find/</<@chrome://remote/content/marionette/element.js:305:16\n",
      "\n"
     ]
    },
    {
     "name": "stderr",
     "output_type": "stream",
     "text": [
      "/home/lucas/miniconda3/lib/python3.7/site-packages/ipykernel_launcher.py:3: DeprecationWarning: firefox_profile has been deprecated, please pass in an Options object\n",
      "  This is separate from the ipykernel package so we can avoid doing imports until\n"
     ]
    },
    {
     "name": "stdout",
     "output_type": "stream",
     "text": [
      "Message: Unable to locate element: /html/body/main/div[2]/div/div[7]/div[1]/div[2]/button[2]\n",
      "Stacktrace:\n",
      "WebDriverError@chrome://remote/content/shared/webdriver/Errors.jsm:181:5\n",
      "NoSuchElementError@chrome://remote/content/shared/webdriver/Errors.jsm:393:5\n",
      "element.find/</<@chrome://remote/content/marionette/element.js:305:16\n",
      "\n"
     ]
    },
    {
     "name": "stderr",
     "output_type": "stream",
     "text": [
      "/home/lucas/miniconda3/lib/python3.7/site-packages/ipykernel_launcher.py:3: DeprecationWarning: firefox_profile has been deprecated, please pass in an Options object\n",
      "  This is separate from the ipykernel package so we can avoid doing imports until\n",
      "/home/lucas/miniconda3/lib/python3.7/site-packages/ipykernel_launcher.py:3: DeprecationWarning: firefox_profile has been deprecated, please pass in an Options object\n",
      "  This is separate from the ipykernel package so we can avoid doing imports until\n"
     ]
    },
    {
     "name": "stdout",
     "output_type": "stream",
     "text": [
      "Message: Unable to locate element: /html/body/main/div[2]/div/div[7]/div[1]/div[2]/button[2]\n",
      "Stacktrace:\n",
      "WebDriverError@chrome://remote/content/shared/webdriver/Errors.jsm:181:5\n",
      "NoSuchElementError@chrome://remote/content/shared/webdriver/Errors.jsm:393:5\n",
      "element.find/</<@chrome://remote/content/marionette/element.js:305:16\n",
      "\n"
     ]
    },
    {
     "name": "stderr",
     "output_type": "stream",
     "text": [
      "/home/lucas/miniconda3/lib/python3.7/site-packages/ipykernel_launcher.py:3: DeprecationWarning: firefox_profile has been deprecated, please pass in an Options object\n",
      "  This is separate from the ipykernel package so we can avoid doing imports until\n"
     ]
    },
    {
     "name": "stdout",
     "output_type": "stream",
     "text": [
      "Message: Unable to locate element: /html/body/main/div[2]/div/div[7]/div[1]/div[2]/button[2]\n",
      "Stacktrace:\n",
      "WebDriverError@chrome://remote/content/shared/webdriver/Errors.jsm:181:5\n",
      "NoSuchElementError@chrome://remote/content/shared/webdriver/Errors.jsm:393:5\n",
      "element.find/</<@chrome://remote/content/marionette/element.js:305:16\n",
      "\n"
     ]
    },
    {
     "name": "stderr",
     "output_type": "stream",
     "text": [
      "/home/lucas/miniconda3/lib/python3.7/site-packages/ipykernel_launcher.py:3: DeprecationWarning: firefox_profile has been deprecated, please pass in an Options object\n",
      "  This is separate from the ipykernel package so we can avoid doing imports until\n"
     ]
    },
    {
     "name": "stdout",
     "output_type": "stream",
     "text": [
      "Message: Unable to locate element: /html/body/main/div[2]/div/div[7]/div[1]/div[2]/button[2]\n",
      "Stacktrace:\n",
      "WebDriverError@chrome://remote/content/shared/webdriver/Errors.jsm:181:5\n",
      "NoSuchElementError@chrome://remote/content/shared/webdriver/Errors.jsm:393:5\n",
      "element.find/</<@chrome://remote/content/marionette/element.js:305:16\n",
      "\n"
     ]
    },
    {
     "name": "stderr",
     "output_type": "stream",
     "text": [
      "/home/lucas/miniconda3/lib/python3.7/site-packages/ipykernel_launcher.py:3: DeprecationWarning: firefox_profile has been deprecated, please pass in an Options object\n",
      "  This is separate from the ipykernel package so we can avoid doing imports until\n"
     ]
    },
    {
     "name": "stdout",
     "output_type": "stream",
     "text": [
      "Message: Unable to locate element: /html/body/main/div[2]/div/div[7]/div[1]/div[2]/button[2]\n",
      "Stacktrace:\n",
      "WebDriverError@chrome://remote/content/shared/webdriver/Errors.jsm:181:5\n",
      "NoSuchElementError@chrome://remote/content/shared/webdriver/Errors.jsm:393:5\n",
      "element.find/</<@chrome://remote/content/marionette/element.js:305:16\n",
      "\n"
     ]
    },
    {
     "name": "stderr",
     "output_type": "stream",
     "text": [
      "/home/lucas/miniconda3/lib/python3.7/site-packages/ipykernel_launcher.py:3: DeprecationWarning: firefox_profile has been deprecated, please pass in an Options object\n",
      "  This is separate from the ipykernel package so we can avoid doing imports until\n"
     ]
    },
    {
     "name": "stdout",
     "output_type": "stream",
     "text": [
      "Message: Unable to locate element: /html/body/main/div[2]/div/div[7]/div[1]/div[2]/button[2]\n",
      "Stacktrace:\n",
      "WebDriverError@chrome://remote/content/shared/webdriver/Errors.jsm:181:5\n",
      "NoSuchElementError@chrome://remote/content/shared/webdriver/Errors.jsm:393:5\n",
      "element.find/</<@chrome://remote/content/marionette/element.js:305:16\n",
      "\n"
     ]
    },
    {
     "name": "stderr",
     "output_type": "stream",
     "text": [
      "/home/lucas/miniconda3/lib/python3.7/site-packages/ipykernel_launcher.py:3: DeprecationWarning: firefox_profile has been deprecated, please pass in an Options object\n",
      "  This is separate from the ipykernel package so we can avoid doing imports until\n",
      "/home/lucas/miniconda3/lib/python3.7/site-packages/ipykernel_launcher.py:3: DeprecationWarning: firefox_profile has been deprecated, please pass in an Options object\n",
      "  This is separate from the ipykernel package so we can avoid doing imports until\n",
      "/home/lucas/miniconda3/lib/python3.7/site-packages/ipykernel_launcher.py:3: DeprecationWarning: firefox_profile has been deprecated, please pass in an Options object\n",
      "  This is separate from the ipykernel package so we can avoid doing imports until\n"
     ]
    },
    {
     "name": "stdout",
     "output_type": "stream",
     "text": [
      "Message: Unable to locate element: /html/body/main/div[2]/div/div[7]/div[1]/div[2]/button[2]\n",
      "Stacktrace:\n",
      "WebDriverError@chrome://remote/content/shared/webdriver/Errors.jsm:181:5\n",
      "NoSuchElementError@chrome://remote/content/shared/webdriver/Errors.jsm:393:5\n",
      "element.find/</<@chrome://remote/content/marionette/element.js:305:16\n",
      "\n"
     ]
    },
    {
     "name": "stderr",
     "output_type": "stream",
     "text": [
      "/home/lucas/miniconda3/lib/python3.7/site-packages/ipykernel_launcher.py:3: DeprecationWarning: firefox_profile has been deprecated, please pass in an Options object\n",
      "  This is separate from the ipykernel package so we can avoid doing imports until\n",
      "/home/lucas/miniconda3/lib/python3.7/site-packages/ipykernel_launcher.py:3: DeprecationWarning: firefox_profile has been deprecated, please pass in an Options object\n",
      "  This is separate from the ipykernel package so we can avoid doing imports until\n",
      "/home/lucas/miniconda3/lib/python3.7/site-packages/ipykernel_launcher.py:3: DeprecationWarning: firefox_profile has been deprecated, please pass in an Options object\n",
      "  This is separate from the ipykernel package so we can avoid doing imports until\n"
     ]
    },
    {
     "name": "stdout",
     "output_type": "stream",
     "text": [
      "Message: Unable to locate element: /html/body/main/div[2]/div/div[7]/div[1]/div[2]/button[2]\n",
      "Stacktrace:\n",
      "WebDriverError@chrome://remote/content/shared/webdriver/Errors.jsm:181:5\n",
      "NoSuchElementError@chrome://remote/content/shared/webdriver/Errors.jsm:393:5\n",
      "element.find/</<@chrome://remote/content/marionette/element.js:305:16\n",
      "\n"
     ]
    },
    {
     "name": "stderr",
     "output_type": "stream",
     "text": [
      "/home/lucas/miniconda3/lib/python3.7/site-packages/ipykernel_launcher.py:3: DeprecationWarning: firefox_profile has been deprecated, please pass in an Options object\n",
      "  This is separate from the ipykernel package so we can avoid doing imports until\n"
     ]
    },
    {
     "name": "stdout",
     "output_type": "stream",
     "text": [
      "Message: Unable to locate element: /html/body/main/div[2]/div/div[7]/div[1]/div[2]/button[2]\n",
      "Stacktrace:\n",
      "WebDriverError@chrome://remote/content/shared/webdriver/Errors.jsm:181:5\n",
      "NoSuchElementError@chrome://remote/content/shared/webdriver/Errors.jsm:393:5\n",
      "element.find/</<@chrome://remote/content/marionette/element.js:305:16\n",
      "\n"
     ]
    },
    {
     "name": "stderr",
     "output_type": "stream",
     "text": [
      "/home/lucas/miniconda3/lib/python3.7/site-packages/ipykernel_launcher.py:3: DeprecationWarning: firefox_profile has been deprecated, please pass in an Options object\n",
      "  This is separate from the ipykernel package so we can avoid doing imports until\n",
      "/home/lucas/miniconda3/lib/python3.7/site-packages/ipykernel_launcher.py:3: DeprecationWarning: firefox_profile has been deprecated, please pass in an Options object\n",
      "  This is separate from the ipykernel package so we can avoid doing imports until\n",
      "/home/lucas/miniconda3/lib/python3.7/site-packages/ipykernel_launcher.py:3: DeprecationWarning: firefox_profile has been deprecated, please pass in an Options object\n",
      "  This is separate from the ipykernel package so we can avoid doing imports until\n"
     ]
    },
    {
     "name": "stdout",
     "output_type": "stream",
     "text": [
      "Message: Unable to locate element: /html/body/main/div[2]/div/div[7]/div[1]/div[2]/button[2]\n",
      "Stacktrace:\n",
      "WebDriverError@chrome://remote/content/shared/webdriver/Errors.jsm:181:5\n",
      "NoSuchElementError@chrome://remote/content/shared/webdriver/Errors.jsm:393:5\n",
      "element.find/</<@chrome://remote/content/marionette/element.js:305:16\n",
      "\n"
     ]
    },
    {
     "name": "stderr",
     "output_type": "stream",
     "text": [
      "/home/lucas/miniconda3/lib/python3.7/site-packages/ipykernel_launcher.py:3: DeprecationWarning: firefox_profile has been deprecated, please pass in an Options object\n",
      "  This is separate from the ipykernel package so we can avoid doing imports until\n",
      "/home/lucas/miniconda3/lib/python3.7/site-packages/ipykernel_launcher.py:3: DeprecationWarning: firefox_profile has been deprecated, please pass in an Options object\n",
      "  This is separate from the ipykernel package so we can avoid doing imports until\n",
      "/home/lucas/miniconda3/lib/python3.7/site-packages/ipykernel_launcher.py:3: DeprecationWarning: firefox_profile has been deprecated, please pass in an Options object\n",
      "  This is separate from the ipykernel package so we can avoid doing imports until\n",
      "/home/lucas/miniconda3/lib/python3.7/site-packages/ipykernel_launcher.py:3: DeprecationWarning: firefox_profile has been deprecated, please pass in an Options object\n",
      "  This is separate from the ipykernel package so we can avoid doing imports until\n"
     ]
    },
    {
     "name": "stdout",
     "output_type": "stream",
     "text": [
      "Message: Unable to locate element: /html/body/main/div[2]/div/div[7]/div[1]/div[2]/button[2]\n",
      "Stacktrace:\n",
      "WebDriverError@chrome://remote/content/shared/webdriver/Errors.jsm:181:5\n",
      "NoSuchElementError@chrome://remote/content/shared/webdriver/Errors.jsm:393:5\n",
      "element.find/</<@chrome://remote/content/marionette/element.js:305:16\n",
      "\n"
     ]
    },
    {
     "name": "stderr",
     "output_type": "stream",
     "text": [
      "/home/lucas/miniconda3/lib/python3.7/site-packages/ipykernel_launcher.py:3: DeprecationWarning: firefox_profile has been deprecated, please pass in an Options object\n",
      "  This is separate from the ipykernel package so we can avoid doing imports until\n"
     ]
    },
    {
     "name": "stdout",
     "output_type": "stream",
     "text": [
      "Message: Unable to locate element: /html/body/main/div[2]/div/div[7]/div[1]/div[2]/button[2]\n",
      "Stacktrace:\n",
      "WebDriverError@chrome://remote/content/shared/webdriver/Errors.jsm:181:5\n",
      "NoSuchElementError@chrome://remote/content/shared/webdriver/Errors.jsm:393:5\n",
      "element.find/</<@chrome://remote/content/marionette/element.js:305:16\n",
      "\n"
     ]
    },
    {
     "name": "stderr",
     "output_type": "stream",
     "text": [
      "/home/lucas/miniconda3/lib/python3.7/site-packages/ipykernel_launcher.py:3: DeprecationWarning: firefox_profile has been deprecated, please pass in an Options object\n",
      "  This is separate from the ipykernel package so we can avoid doing imports until\n"
     ]
    },
    {
     "name": "stdout",
     "output_type": "stream",
     "text": [
      "Message: Unable to locate element: /html/body/main/div[2]/div/div[7]/div[1]/div[2]/button[2]\n",
      "Stacktrace:\n",
      "WebDriverError@chrome://remote/content/shared/webdriver/Errors.jsm:181:5\n",
      "NoSuchElementError@chrome://remote/content/shared/webdriver/Errors.jsm:393:5\n",
      "element.find/</<@chrome://remote/content/marionette/element.js:305:16\n",
      "\n",
      "Message: Unable to locate element: /html/body/main/div[2]/div/div[7]/div[1]/div[2]/button[2]\n",
      "Stacktrace:\n",
      "WebDriverError@chrome://remote/content/shared/webdriver/Errors.jsm:181:5\n",
      "NoSuchElementError@chrome://remote/content/shared/webdriver/Errors.jsm:393:5\n",
      "element.find/</<@chrome://remote/content/marionette/element.js:305:16\n",
      "\n"
     ]
    },
    {
     "name": "stderr",
     "output_type": "stream",
     "text": [
      "/home/lucas/miniconda3/lib/python3.7/site-packages/ipykernel_launcher.py:3: DeprecationWarning: firefox_profile has been deprecated, please pass in an Options object\n",
      "  This is separate from the ipykernel package so we can avoid doing imports until\n",
      "/home/lucas/miniconda3/lib/python3.7/site-packages/ipykernel_launcher.py:3: DeprecationWarning: firefox_profile has been deprecated, please pass in an Options object\n",
      "  This is separate from the ipykernel package so we can avoid doing imports until\n",
      "/home/lucas/miniconda3/lib/python3.7/site-packages/ipykernel_launcher.py:3: DeprecationWarning: firefox_profile has been deprecated, please pass in an Options object\n",
      "  This is separate from the ipykernel package so we can avoid doing imports until\n"
     ]
    },
    {
     "name": "stdout",
     "output_type": "stream",
     "text": [
      "Message: Unable to locate element: /html/body/main/div[2]/div/div[7]/div[1]/div[2]/button[2]\n",
      "Stacktrace:\n",
      "WebDriverError@chrome://remote/content/shared/webdriver/Errors.jsm:181:5\n",
      "NoSuchElementError@chrome://remote/content/shared/webdriver/Errors.jsm:393:5\n",
      "element.find/</<@chrome://remote/content/marionette/element.js:305:16\n",
      "\n"
     ]
    },
    {
     "name": "stderr",
     "output_type": "stream",
     "text": [
      "/home/lucas/miniconda3/lib/python3.7/site-packages/ipykernel_launcher.py:3: DeprecationWarning: firefox_profile has been deprecated, please pass in an Options object\n",
      "  This is separate from the ipykernel package so we can avoid doing imports until\n"
     ]
    },
    {
     "name": "stdout",
     "output_type": "stream",
     "text": [
      "Message: Unable to locate element: /html/body/main/div[2]/div/div[7]/div[1]/div[2]/button[2]\n",
      "Stacktrace:\n",
      "WebDriverError@chrome://remote/content/shared/webdriver/Errors.jsm:181:5\n",
      "NoSuchElementError@chrome://remote/content/shared/webdriver/Errors.jsm:393:5\n",
      "element.find/</<@chrome://remote/content/marionette/element.js:305:16\n",
      "\n"
     ]
    },
    {
     "name": "stderr",
     "output_type": "stream",
     "text": [
      "/home/lucas/miniconda3/lib/python3.7/site-packages/ipykernel_launcher.py:3: DeprecationWarning: firefox_profile has been deprecated, please pass in an Options object\n",
      "  This is separate from the ipykernel package so we can avoid doing imports until\n"
     ]
    },
    {
     "name": "stdout",
     "output_type": "stream",
     "text": [
      "Message: Unable to locate element: /html/body/main/div[2]/div/div[7]/div[1]/div[2]/button[2]\n",
      "Stacktrace:\n",
      "WebDriverError@chrome://remote/content/shared/webdriver/Errors.jsm:181:5\n",
      "NoSuchElementError@chrome://remote/content/shared/webdriver/Errors.jsm:393:5\n",
      "element.find/</<@chrome://remote/content/marionette/element.js:305:16\n",
      "\n"
     ]
    },
    {
     "name": "stderr",
     "output_type": "stream",
     "text": [
      "/home/lucas/miniconda3/lib/python3.7/site-packages/ipykernel_launcher.py:3: DeprecationWarning: firefox_profile has been deprecated, please pass in an Options object\n",
      "  This is separate from the ipykernel package so we can avoid doing imports until\n",
      "/home/lucas/miniconda3/lib/python3.7/site-packages/ipykernel_launcher.py:3: DeprecationWarning: firefox_profile has been deprecated, please pass in an Options object\n",
      "  This is separate from the ipykernel package so we can avoid doing imports until\n"
     ]
    },
    {
     "name": "stdout",
     "output_type": "stream",
     "text": [
      "Message: Unable to locate element: /html/body/main/div[2]/div/div[7]/div[1]/div[2]/button[2]\n",
      "Stacktrace:\n",
      "WebDriverError@chrome://remote/content/shared/webdriver/Errors.jsm:181:5\n",
      "NoSuchElementError@chrome://remote/content/shared/webdriver/Errors.jsm:393:5\n",
      "element.find/</<@chrome://remote/content/marionette/element.js:305:16\n",
      "\n"
     ]
    },
    {
     "name": "stderr",
     "output_type": "stream",
     "text": [
      "/home/lucas/miniconda3/lib/python3.7/site-packages/ipykernel_launcher.py:3: DeprecationWarning: firefox_profile has been deprecated, please pass in an Options object\n",
      "  This is separate from the ipykernel package so we can avoid doing imports until\n"
     ]
    },
    {
     "name": "stdout",
     "output_type": "stream",
     "text": [
      "Message: Unable to locate element: /html/body/main/div[2]/div/div[7]/div[1]/div[2]/button[2]\n",
      "Stacktrace:\n",
      "WebDriverError@chrome://remote/content/shared/webdriver/Errors.jsm:181:5\n",
      "NoSuchElementError@chrome://remote/content/shared/webdriver/Errors.jsm:393:5\n",
      "element.find/</<@chrome://remote/content/marionette/element.js:305:16\n",
      "\n"
     ]
    },
    {
     "name": "stderr",
     "output_type": "stream",
     "text": [
      "/home/lucas/miniconda3/lib/python3.7/site-packages/ipykernel_launcher.py:3: DeprecationWarning: firefox_profile has been deprecated, please pass in an Options object\n",
      "  This is separate from the ipykernel package so we can avoid doing imports until\n",
      "/home/lucas/miniconda3/lib/python3.7/site-packages/ipykernel_launcher.py:3: DeprecationWarning: firefox_profile has been deprecated, please pass in an Options object\n",
      "  This is separate from the ipykernel package so we can avoid doing imports until\n",
      "/home/lucas/miniconda3/lib/python3.7/site-packages/ipykernel_launcher.py:3: DeprecationWarning: firefox_profile has been deprecated, please pass in an Options object\n",
      "  This is separate from the ipykernel package so we can avoid doing imports until\n"
     ]
    },
    {
     "name": "stdout",
     "output_type": "stream",
     "text": [
      "Message: Unable to locate element: /html/body/main/div[2]/div/div[7]/div[1]/div[2]/button[2]\n",
      "Stacktrace:\n",
      "WebDriverError@chrome://remote/content/shared/webdriver/Errors.jsm:181:5\n",
      "NoSuchElementError@chrome://remote/content/shared/webdriver/Errors.jsm:393:5\n",
      "element.find/</<@chrome://remote/content/marionette/element.js:305:16\n",
      "\n"
     ]
    },
    {
     "name": "stderr",
     "output_type": "stream",
     "text": [
      "/home/lucas/miniconda3/lib/python3.7/site-packages/ipykernel_launcher.py:3: DeprecationWarning: firefox_profile has been deprecated, please pass in an Options object\n",
      "  This is separate from the ipykernel package so we can avoid doing imports until\n"
     ]
    },
    {
     "name": "stdout",
     "output_type": "stream",
     "text": [
      "Message: Unable to locate element: /html/body/main/div[2]/div/div[7]/div[1]/div[2]/button[2]\n",
      "Stacktrace:\n",
      "WebDriverError@chrome://remote/content/shared/webdriver/Errors.jsm:181:5\n",
      "NoSuchElementError@chrome://remote/content/shared/webdriver/Errors.jsm:393:5\n",
      "element.find/</<@chrome://remote/content/marionette/element.js:305:16\n",
      "\n"
     ]
    },
    {
     "name": "stderr",
     "output_type": "stream",
     "text": [
      "/home/lucas/miniconda3/lib/python3.7/site-packages/ipykernel_launcher.py:3: DeprecationWarning: firefox_profile has been deprecated, please pass in an Options object\n",
      "  This is separate from the ipykernel package so we can avoid doing imports until\n",
      "/home/lucas/miniconda3/lib/python3.7/site-packages/ipykernel_launcher.py:3: DeprecationWarning: firefox_profile has been deprecated, please pass in an Options object\n",
      "  This is separate from the ipykernel package so we can avoid doing imports until\n"
     ]
    },
    {
     "name": "stdout",
     "output_type": "stream",
     "text": [
      "Message: Unable to locate element: /html/body/main/div[2]/div/div[7]/div[1]/div[2]/button[2]\n",
      "Stacktrace:\n",
      "WebDriverError@chrome://remote/content/shared/webdriver/Errors.jsm:181:5\n",
      "NoSuchElementError@chrome://remote/content/shared/webdriver/Errors.jsm:393:5\n",
      "element.find/</<@chrome://remote/content/marionette/element.js:305:16\n",
      "\n"
     ]
    },
    {
     "name": "stderr",
     "output_type": "stream",
     "text": [
      "/home/lucas/miniconda3/lib/python3.7/site-packages/ipykernel_launcher.py:3: DeprecationWarning: firefox_profile has been deprecated, please pass in an Options object\n",
      "  This is separate from the ipykernel package so we can avoid doing imports until\n"
     ]
    },
    {
     "name": "stdout",
     "output_type": "stream",
     "text": [
      "Message: Unable to locate element: /html/body/main/div[2]/div/div[7]/div[1]/div[2]/button[2]\n",
      "Stacktrace:\n",
      "WebDriverError@chrome://remote/content/shared/webdriver/Errors.jsm:181:5\n",
      "NoSuchElementError@chrome://remote/content/shared/webdriver/Errors.jsm:393:5\n",
      "element.find/</<@chrome://remote/content/marionette/element.js:305:16\n",
      "\n"
     ]
    },
    {
     "name": "stderr",
     "output_type": "stream",
     "text": [
      "/home/lucas/miniconda3/lib/python3.7/site-packages/ipykernel_launcher.py:3: DeprecationWarning: firefox_profile has been deprecated, please pass in an Options object\n",
      "  This is separate from the ipykernel package so we can avoid doing imports until\n"
     ]
    },
    {
     "name": "stdout",
     "output_type": "stream",
     "text": [
      "Message: Unable to locate element: /html/body/main/div[2]/div/div[7]/div[1]/div[2]/button[2]\n",
      "Stacktrace:\n",
      "WebDriverError@chrome://remote/content/shared/webdriver/Errors.jsm:181:5\n",
      "NoSuchElementError@chrome://remote/content/shared/webdriver/Errors.jsm:393:5\n",
      "element.find/</<@chrome://remote/content/marionette/element.js:305:16\n",
      "\n"
     ]
    },
    {
     "name": "stderr",
     "output_type": "stream",
     "text": [
      "/home/lucas/miniconda3/lib/python3.7/site-packages/ipykernel_launcher.py:3: DeprecationWarning: firefox_profile has been deprecated, please pass in an Options object\n",
      "  This is separate from the ipykernel package so we can avoid doing imports until\n",
      "/home/lucas/miniconda3/lib/python3.7/site-packages/ipykernel_launcher.py:3: DeprecationWarning: firefox_profile has been deprecated, please pass in an Options object\n",
      "  This is separate from the ipykernel package so we can avoid doing imports until\n",
      "/home/lucas/miniconda3/lib/python3.7/site-packages/ipykernel_launcher.py:3: DeprecationWarning: firefox_profile has been deprecated, please pass in an Options object\n",
      "  This is separate from the ipykernel package so we can avoid doing imports until\n"
     ]
    },
    {
     "name": "stdout",
     "output_type": "stream",
     "text": [
      "Message: Unable to locate element: /html/body/main/div[2]/div/div[7]/div[1]/div[2]/button[2]\n",
      "Stacktrace:\n",
      "WebDriverError@chrome://remote/content/shared/webdriver/Errors.jsm:181:5\n",
      "NoSuchElementError@chrome://remote/content/shared/webdriver/Errors.jsm:393:5\n",
      "element.find/</<@chrome://remote/content/marionette/element.js:305:16\n",
      "\n"
     ]
    },
    {
     "name": "stderr",
     "output_type": "stream",
     "text": [
      "/home/lucas/miniconda3/lib/python3.7/site-packages/ipykernel_launcher.py:3: DeprecationWarning: firefox_profile has been deprecated, please pass in an Options object\n",
      "  This is separate from the ipykernel package so we can avoid doing imports until\n"
     ]
    },
    {
     "name": "stdout",
     "output_type": "stream",
     "text": [
      "Message: Unable to locate element: /html/body/main/div[2]/div/div[7]/div[1]/div[2]/button[2]\n",
      "Stacktrace:\n",
      "WebDriverError@chrome://remote/content/shared/webdriver/Errors.jsm:181:5\n",
      "NoSuchElementError@chrome://remote/content/shared/webdriver/Errors.jsm:393:5\n",
      "element.find/</<@chrome://remote/content/marionette/element.js:305:16\n",
      "\n",
      "Message: Unable to locate element: /html/body/main/div[2]/div/div[7]/div[1]/div[2]/button[2]\n",
      "Stacktrace:\n",
      "WebDriverError@chrome://remote/content/shared/webdriver/Errors.jsm:181:5\n",
      "NoSuchElementError@chrome://remote/content/shared/webdriver/Errors.jsm:393:5\n",
      "element.find/</<@chrome://remote/content/marionette/element.js:305:16\n",
      "\n"
     ]
    },
    {
     "name": "stderr",
     "output_type": "stream",
     "text": [
      "/home/lucas/miniconda3/lib/python3.7/site-packages/ipykernel_launcher.py:3: DeprecationWarning: firefox_profile has been deprecated, please pass in an Options object\n",
      "  This is separate from the ipykernel package so we can avoid doing imports until\n",
      "/home/lucas/miniconda3/lib/python3.7/site-packages/ipykernel_launcher.py:3: DeprecationWarning: firefox_profile has been deprecated, please pass in an Options object\n",
      "  This is separate from the ipykernel package so we can avoid doing imports until\n",
      "/home/lucas/miniconda3/lib/python3.7/site-packages/ipykernel_launcher.py:3: DeprecationWarning: firefox_profile has been deprecated, please pass in an Options object\n",
      "  This is separate from the ipykernel package so we can avoid doing imports until\n"
     ]
    },
    {
     "name": "stdout",
     "output_type": "stream",
     "text": [
      "Message: Unable to locate element: /html/body/main/div[2]/div/div[7]/div[1]/div[2]/button[2]\n",
      "Stacktrace:\n",
      "WebDriverError@chrome://remote/content/shared/webdriver/Errors.jsm:181:5\n",
      "NoSuchElementError@chrome://remote/content/shared/webdriver/Errors.jsm:393:5\n",
      "element.find/</<@chrome://remote/content/marionette/element.js:305:16\n",
      "\n"
     ]
    },
    {
     "name": "stderr",
     "output_type": "stream",
     "text": [
      "/home/lucas/miniconda3/lib/python3.7/site-packages/ipykernel_launcher.py:3: DeprecationWarning: firefox_profile has been deprecated, please pass in an Options object\n",
      "  This is separate from the ipykernel package so we can avoid doing imports until\n"
     ]
    },
    {
     "name": "stdout",
     "output_type": "stream",
     "text": [
      "Message: Unable to locate element: /html/body/main/div[2]/div/div[7]/div[1]/div[2]/button[2]\n",
      "Stacktrace:\n",
      "WebDriverError@chrome://remote/content/shared/webdriver/Errors.jsm:181:5\n",
      "NoSuchElementError@chrome://remote/content/shared/webdriver/Errors.jsm:393:5\n",
      "element.find/</<@chrome://remote/content/marionette/element.js:305:16\n",
      "\n"
     ]
    },
    {
     "name": "stderr",
     "output_type": "stream",
     "text": [
      "/home/lucas/miniconda3/lib/python3.7/site-packages/ipykernel_launcher.py:3: DeprecationWarning: firefox_profile has been deprecated, please pass in an Options object\n",
      "  This is separate from the ipykernel package so we can avoid doing imports until\n",
      "/home/lucas/miniconda3/lib/python3.7/site-packages/ipykernel_launcher.py:3: DeprecationWarning: firefox_profile has been deprecated, please pass in an Options object\n",
      "  This is separate from the ipykernel package so we can avoid doing imports until\n",
      "/home/lucas/miniconda3/lib/python3.7/site-packages/ipykernel_launcher.py:3: DeprecationWarning: firefox_profile has been deprecated, please pass in an Options object\n",
      "  This is separate from the ipykernel package so we can avoid doing imports until\n"
     ]
    },
    {
     "name": "stdout",
     "output_type": "stream",
     "text": [
      "Message: Unable to locate element: /html/body/main/div[2]/div/div[7]/div[1]/div[2]/button[2]\n",
      "Stacktrace:\n",
      "WebDriverError@chrome://remote/content/shared/webdriver/Errors.jsm:181:5\n",
      "NoSuchElementError@chrome://remote/content/shared/webdriver/Errors.jsm:393:5\n",
      "element.find/</<@chrome://remote/content/marionette/element.js:305:16\n",
      "\n"
     ]
    },
    {
     "name": "stderr",
     "output_type": "stream",
     "text": [
      "/home/lucas/miniconda3/lib/python3.7/site-packages/ipykernel_launcher.py:3: DeprecationWarning: firefox_profile has been deprecated, please pass in an Options object\n",
      "  This is separate from the ipykernel package so we can avoid doing imports until\n",
      "/home/lucas/miniconda3/lib/python3.7/site-packages/ipykernel_launcher.py:3: DeprecationWarning: firefox_profile has been deprecated, please pass in an Options object\n",
      "  This is separate from the ipykernel package so we can avoid doing imports until\n"
     ]
    },
    {
     "name": "stdout",
     "output_type": "stream",
     "text": [
      "Message: Unable to locate element: /html/body/main/div[2]/div/div[7]/div[1]/div[2]/button[2]\n",
      "Stacktrace:\n",
      "WebDriverError@chrome://remote/content/shared/webdriver/Errors.jsm:181:5\n",
      "NoSuchElementError@chrome://remote/content/shared/webdriver/Errors.jsm:393:5\n",
      "element.find/</<@chrome://remote/content/marionette/element.js:305:16\n",
      "\n"
     ]
    },
    {
     "name": "stderr",
     "output_type": "stream",
     "text": [
      "/home/lucas/miniconda3/lib/python3.7/site-packages/ipykernel_launcher.py:3: DeprecationWarning: firefox_profile has been deprecated, please pass in an Options object\n",
      "  This is separate from the ipykernel package so we can avoid doing imports until\n"
     ]
    },
    {
     "name": "stdout",
     "output_type": "stream",
     "text": [
      "Message: Unable to locate element: /html/body/main/div[2]/div/div[7]/div[1]/div[2]/button[2]\n",
      "Stacktrace:\n",
      "WebDriverError@chrome://remote/content/shared/webdriver/Errors.jsm:181:5\n",
      "NoSuchElementError@chrome://remote/content/shared/webdriver/Errors.jsm:393:5\n",
      "element.find/</<@chrome://remote/content/marionette/element.js:305:16\n",
      "\n"
     ]
    },
    {
     "name": "stderr",
     "output_type": "stream",
     "text": [
      "/home/lucas/miniconda3/lib/python3.7/site-packages/ipykernel_launcher.py:3: DeprecationWarning: firefox_profile has been deprecated, please pass in an Options object\n",
      "  This is separate from the ipykernel package so we can avoid doing imports until\n",
      "/home/lucas/miniconda3/lib/python3.7/site-packages/ipykernel_launcher.py:3: DeprecationWarning: firefox_profile has been deprecated, please pass in an Options object\n",
      "  This is separate from the ipykernel package so we can avoid doing imports until\n"
     ]
    },
    {
     "name": "stdout",
     "output_type": "stream",
     "text": [
      "Message: Unable to locate element: /html/body/main/div[2]/div/div[7]/div[1]/div[2]/button[2]\n",
      "Stacktrace:\n",
      "WebDriverError@chrome://remote/content/shared/webdriver/Errors.jsm:181:5\n",
      "NoSuchElementError@chrome://remote/content/shared/webdriver/Errors.jsm:393:5\n",
      "element.find/</<@chrome://remote/content/marionette/element.js:305:16\n",
      "\n"
     ]
    },
    {
     "name": "stderr",
     "output_type": "stream",
     "text": [
      "/home/lucas/miniconda3/lib/python3.7/site-packages/ipykernel_launcher.py:3: DeprecationWarning: firefox_profile has been deprecated, please pass in an Options object\n",
      "  This is separate from the ipykernel package so we can avoid doing imports until\n"
     ]
    },
    {
     "name": "stdout",
     "output_type": "stream",
     "text": [
      "Message: Unable to locate element: /html/body/main/div[2]/div/div[7]/div[1]/div[2]/button[2]\n",
      "Stacktrace:\n",
      "WebDriverError@chrome://remote/content/shared/webdriver/Errors.jsm:181:5\n",
      "NoSuchElementError@chrome://remote/content/shared/webdriver/Errors.jsm:393:5\n",
      "element.find/</<@chrome://remote/content/marionette/element.js:305:16\n",
      "\n"
     ]
    },
    {
     "name": "stderr",
     "output_type": "stream",
     "text": [
      "/home/lucas/miniconda3/lib/python3.7/site-packages/ipykernel_launcher.py:3: DeprecationWarning: firefox_profile has been deprecated, please pass in an Options object\n",
      "  This is separate from the ipykernel package so we can avoid doing imports until\n"
     ]
    },
    {
     "name": "stdout",
     "output_type": "stream",
     "text": [
      "Message: Unable to locate element: /html/body/main/div[2]/div/div[7]/div[1]/div[2]/button[2]\n",
      "Stacktrace:\n",
      "WebDriverError@chrome://remote/content/shared/webdriver/Errors.jsm:181:5\n",
      "NoSuchElementError@chrome://remote/content/shared/webdriver/Errors.jsm:393:5\n",
      "element.find/</<@chrome://remote/content/marionette/element.js:305:16\n",
      "\n"
     ]
    },
    {
     "name": "stderr",
     "output_type": "stream",
     "text": [
      "/home/lucas/miniconda3/lib/python3.7/site-packages/ipykernel_launcher.py:3: DeprecationWarning: firefox_profile has been deprecated, please pass in an Options object\n",
      "  This is separate from the ipykernel package so we can avoid doing imports until\n",
      "/home/lucas/miniconda3/lib/python3.7/site-packages/ipykernel_launcher.py:3: DeprecationWarning: firefox_profile has been deprecated, please pass in an Options object\n",
      "  This is separate from the ipykernel package so we can avoid doing imports until\n",
      "/home/lucas/miniconda3/lib/python3.7/site-packages/ipykernel_launcher.py:3: DeprecationWarning: firefox_profile has been deprecated, please pass in an Options object\n",
      "  This is separate from the ipykernel package so we can avoid doing imports until\n"
     ]
    },
    {
     "name": "stdout",
     "output_type": "stream",
     "text": [
      "Message: Unable to locate element: /html/body/main/div[2]/div/div[7]/div[1]/div[2]/button[2]\n",
      "Stacktrace:\n",
      "WebDriverError@chrome://remote/content/shared/webdriver/Errors.jsm:181:5\n",
      "NoSuchElementError@chrome://remote/content/shared/webdriver/Errors.jsm:393:5\n",
      "element.find/</<@chrome://remote/content/marionette/element.js:305:16\n",
      "\n"
     ]
    },
    {
     "name": "stderr",
     "output_type": "stream",
     "text": [
      "/home/lucas/miniconda3/lib/python3.7/site-packages/ipykernel_launcher.py:3: DeprecationWarning: firefox_profile has been deprecated, please pass in an Options object\n",
      "  This is separate from the ipykernel package so we can avoid doing imports until\n",
      "/home/lucas/miniconda3/lib/python3.7/site-packages/ipykernel_launcher.py:3: DeprecationWarning: firefox_profile has been deprecated, please pass in an Options object\n",
      "  This is separate from the ipykernel package so we can avoid doing imports until\n"
     ]
    },
    {
     "name": "stdout",
     "output_type": "stream",
     "text": [
      "Message: Unable to locate element: /html/body/main/div[2]/div/div[7]/div[1]/div[2]/button[2]\n",
      "Stacktrace:\n",
      "WebDriverError@chrome://remote/content/shared/webdriver/Errors.jsm:181:5\n",
      "NoSuchElementError@chrome://remote/content/shared/webdriver/Errors.jsm:393:5\n",
      "element.find/</<@chrome://remote/content/marionette/element.js:305:16\n",
      "\n",
      "Message: Unable to locate element: /html/body/main/div[2]/div/div[7]/div[1]/div[2]/button[2]\n",
      "Stacktrace:\n",
      "WebDriverError@chrome://remote/content/shared/webdriver/Errors.jsm:181:5\n",
      "NoSuchElementError@chrome://remote/content/shared/webdriver/Errors.jsm:393:5\n",
      "element.find/</<@chrome://remote/content/marionette/element.js:305:16\n",
      "\n"
     ]
    },
    {
     "name": "stderr",
     "output_type": "stream",
     "text": [
      "/home/lucas/miniconda3/lib/python3.7/site-packages/ipykernel_launcher.py:3: DeprecationWarning: firefox_profile has been deprecated, please pass in an Options object\n",
      "  This is separate from the ipykernel package so we can avoid doing imports until\n",
      "/home/lucas/miniconda3/lib/python3.7/site-packages/ipykernel_launcher.py:3: DeprecationWarning: firefox_profile has been deprecated, please pass in an Options object\n",
      "  This is separate from the ipykernel package so we can avoid doing imports until\n"
     ]
    },
    {
     "name": "stdout",
     "output_type": "stream",
     "text": [
      "Message: Unable to locate element: /html/body/main/div[2]/div/div[7]/div[1]/div[2]/button[2]\n",
      "Stacktrace:\n",
      "WebDriverError@chrome://remote/content/shared/webdriver/Errors.jsm:181:5\n",
      "NoSuchElementError@chrome://remote/content/shared/webdriver/Errors.jsm:393:5\n",
      "element.find/</<@chrome://remote/content/marionette/element.js:305:16\n",
      "\n"
     ]
    },
    {
     "name": "stderr",
     "output_type": "stream",
     "text": [
      "/home/lucas/miniconda3/lib/python3.7/site-packages/ipykernel_launcher.py:3: DeprecationWarning: firefox_profile has been deprecated, please pass in an Options object\n",
      "  This is separate from the ipykernel package so we can avoid doing imports until\n"
     ]
    },
    {
     "name": "stdout",
     "output_type": "stream",
     "text": [
      "Message: Unable to locate element: /html/body/main/div[2]/div/div[7]/div[1]/div[2]/button[2]\n",
      "Stacktrace:\n",
      "WebDriverError@chrome://remote/content/shared/webdriver/Errors.jsm:181:5\n",
      "NoSuchElementError@chrome://remote/content/shared/webdriver/Errors.jsm:393:5\n",
      "element.find/</<@chrome://remote/content/marionette/element.js:305:16\n",
      "\n"
     ]
    },
    {
     "name": "stderr",
     "output_type": "stream",
     "text": [
      "/home/lucas/miniconda3/lib/python3.7/site-packages/ipykernel_launcher.py:3: DeprecationWarning: firefox_profile has been deprecated, please pass in an Options object\n",
      "  This is separate from the ipykernel package so we can avoid doing imports until\n",
      "/home/lucas/miniconda3/lib/python3.7/site-packages/ipykernel_launcher.py:3: DeprecationWarning: firefox_profile has been deprecated, please pass in an Options object\n",
      "  This is separate from the ipykernel package so we can avoid doing imports until\n",
      "/home/lucas/miniconda3/lib/python3.7/site-packages/ipykernel_launcher.py:3: DeprecationWarning: firefox_profile has been deprecated, please pass in an Options object\n",
      "  This is separate from the ipykernel package so we can avoid doing imports until\n"
     ]
    },
    {
     "name": "stdout",
     "output_type": "stream",
     "text": [
      "Message: Unable to locate element: /html/body/main/div[2]/div/div[7]/div[1]/div[2]/button[2]\n",
      "Stacktrace:\n",
      "WebDriverError@chrome://remote/content/shared/webdriver/Errors.jsm:181:5\n",
      "NoSuchElementError@chrome://remote/content/shared/webdriver/Errors.jsm:393:5\n",
      "element.find/</<@chrome://remote/content/marionette/element.js:305:16\n",
      "\n"
     ]
    },
    {
     "name": "stderr",
     "output_type": "stream",
     "text": [
      "/home/lucas/miniconda3/lib/python3.7/site-packages/ipykernel_launcher.py:3: DeprecationWarning: firefox_profile has been deprecated, please pass in an Options object\n",
      "  This is separate from the ipykernel package so we can avoid doing imports until\n"
     ]
    },
    {
     "name": "stdout",
     "output_type": "stream",
     "text": [
      "Message: Unable to locate element: /html/body/main/div[2]/div/div[7]/div[1]/div[2]/button[2]\n",
      "Stacktrace:\n",
      "WebDriverError@chrome://remote/content/shared/webdriver/Errors.jsm:181:5\n",
      "NoSuchElementError@chrome://remote/content/shared/webdriver/Errors.jsm:393:5\n",
      "element.find/</<@chrome://remote/content/marionette/element.js:305:16\n",
      "\n"
     ]
    },
    {
     "name": "stderr",
     "output_type": "stream",
     "text": [
      "/home/lucas/miniconda3/lib/python3.7/site-packages/ipykernel_launcher.py:3: DeprecationWarning: firefox_profile has been deprecated, please pass in an Options object\n",
      "  This is separate from the ipykernel package so we can avoid doing imports until\n"
     ]
    },
    {
     "name": "stdout",
     "output_type": "stream",
     "text": [
      "Message: Unable to locate element: /html/body/main/div[2]/div/div[7]/div[1]/div[2]/button[2]\n",
      "Stacktrace:\n",
      "WebDriverError@chrome://remote/content/shared/webdriver/Errors.jsm:181:5\n",
      "NoSuchElementError@chrome://remote/content/shared/webdriver/Errors.jsm:393:5\n",
      "element.find/</<@chrome://remote/content/marionette/element.js:305:16\n",
      "\n",
      "Message: Unable to locate element: /html/body/main/div[2]/div/div[7]/div[1]/div[2]/button[2]\n",
      "Stacktrace:\n",
      "WebDriverError@chrome://remote/content/shared/webdriver/Errors.jsm:181:5\n",
      "NoSuchElementError@chrome://remote/content/shared/webdriver/Errors.jsm:393:5\n",
      "element.find/</<@chrome://remote/content/marionette/element.js:305:16\n",
      "\n"
     ]
    },
    {
     "name": "stderr",
     "output_type": "stream",
     "text": [
      "/home/lucas/miniconda3/lib/python3.7/site-packages/ipykernel_launcher.py:3: DeprecationWarning: firefox_profile has been deprecated, please pass in an Options object\n",
      "  This is separate from the ipykernel package so we can avoid doing imports until\n",
      "/home/lucas/miniconda3/lib/python3.7/site-packages/ipykernel_launcher.py:3: DeprecationWarning: firefox_profile has been deprecated, please pass in an Options object\n",
      "  This is separate from the ipykernel package so we can avoid doing imports until\n"
     ]
    },
    {
     "name": "stdout",
     "output_type": "stream",
     "text": [
      "Message: Unable to locate element: /html/body/main/div[2]/div/div[7]/div[1]/div[2]/button[2]\n",
      "Stacktrace:\n",
      "WebDriverError@chrome://remote/content/shared/webdriver/Errors.jsm:181:5\n",
      "NoSuchElementError@chrome://remote/content/shared/webdriver/Errors.jsm:393:5\n",
      "element.find/</<@chrome://remote/content/marionette/element.js:305:16\n",
      "\n"
     ]
    },
    {
     "name": "stderr",
     "output_type": "stream",
     "text": [
      "/home/lucas/miniconda3/lib/python3.7/site-packages/ipykernel_launcher.py:3: DeprecationWarning: firefox_profile has been deprecated, please pass in an Options object\n",
      "  This is separate from the ipykernel package so we can avoid doing imports until\n"
     ]
    },
    {
     "name": "stdout",
     "output_type": "stream",
     "text": [
      "Message: Unable to locate element: /html/body/main/div[2]/div/div[7]/div[1]/div[2]/button[2]\n",
      "Stacktrace:\n",
      "WebDriverError@chrome://remote/content/shared/webdriver/Errors.jsm:181:5\n",
      "NoSuchElementError@chrome://remote/content/shared/webdriver/Errors.jsm:393:5\n",
      "element.find/</<@chrome://remote/content/marionette/element.js:305:16\n",
      "\n"
     ]
    },
    {
     "name": "stderr",
     "output_type": "stream",
     "text": [
      "/home/lucas/miniconda3/lib/python3.7/site-packages/ipykernel_launcher.py:3: DeprecationWarning: firefox_profile has been deprecated, please pass in an Options object\n",
      "  This is separate from the ipykernel package so we can avoid doing imports until\n"
     ]
    },
    {
     "name": "stdout",
     "output_type": "stream",
     "text": [
      "Message: Unable to locate element: /html/body/main/div[2]/div/div[7]/div[1]/div[2]/button[2]\n",
      "Stacktrace:\n",
      "WebDriverError@chrome://remote/content/shared/webdriver/Errors.jsm:181:5\n",
      "NoSuchElementError@chrome://remote/content/shared/webdriver/Errors.jsm:393:5\n",
      "element.find/</<@chrome://remote/content/marionette/element.js:305:16\n",
      "\n",
      "Message: Unable to locate element: /html/body/main/div[2]/div/div[7]/div[1]/div[2]/button[2]\n",
      "Stacktrace:\n",
      "WebDriverError@chrome://remote/content/shared/webdriver/Errors.jsm:181:5\n",
      "NoSuchElementError@chrome://remote/content/shared/webdriver/Errors.jsm:393:5\n",
      "element.find/</<@chrome://remote/content/marionette/element.js:305:16\n",
      "\n"
     ]
    },
    {
     "name": "stderr",
     "output_type": "stream",
     "text": [
      "/home/lucas/miniconda3/lib/python3.7/site-packages/ipykernel_launcher.py:3: DeprecationWarning: firefox_profile has been deprecated, please pass in an Options object\n",
      "  This is separate from the ipykernel package so we can avoid doing imports until\n",
      "/home/lucas/miniconda3/lib/python3.7/site-packages/ipykernel_launcher.py:3: DeprecationWarning: firefox_profile has been deprecated, please pass in an Options object\n",
      "  This is separate from the ipykernel package so we can avoid doing imports until\n"
     ]
    },
    {
     "name": "stdout",
     "output_type": "stream",
     "text": [
      "Message: Unable to locate element: /html/body/main/div[2]/div/div[7]/div[1]/div[2]/button[2]\n",
      "Stacktrace:\n",
      "WebDriverError@chrome://remote/content/shared/webdriver/Errors.jsm:181:5\n",
      "NoSuchElementError@chrome://remote/content/shared/webdriver/Errors.jsm:393:5\n",
      "element.find/</<@chrome://remote/content/marionette/element.js:305:16\n",
      "\n"
     ]
    },
    {
     "name": "stderr",
     "output_type": "stream",
     "text": [
      "/home/lucas/miniconda3/lib/python3.7/site-packages/ipykernel_launcher.py:3: DeprecationWarning: firefox_profile has been deprecated, please pass in an Options object\n",
      "  This is separate from the ipykernel package so we can avoid doing imports until\n"
     ]
    },
    {
     "name": "stdout",
     "output_type": "stream",
     "text": [
      "Message: Unable to locate element: /html/body/main/div[2]/div/div[7]/div[1]/div[2]/button[2]\n",
      "Stacktrace:\n",
      "WebDriverError@chrome://remote/content/shared/webdriver/Errors.jsm:181:5\n",
      "NoSuchElementError@chrome://remote/content/shared/webdriver/Errors.jsm:393:5\n",
      "element.find/</<@chrome://remote/content/marionette/element.js:305:16\n",
      "\n"
     ]
    },
    {
     "name": "stderr",
     "output_type": "stream",
     "text": [
      "/home/lucas/miniconda3/lib/python3.7/site-packages/ipykernel_launcher.py:3: DeprecationWarning: firefox_profile has been deprecated, please pass in an Options object\n",
      "  This is separate from the ipykernel package so we can avoid doing imports until\n"
     ]
    },
    {
     "name": "stdout",
     "output_type": "stream",
     "text": [
      "Message: Unable to locate element: /html/body/main/div[2]/div/div[7]/div[1]/div[2]/button[2]\n",
      "Stacktrace:\n",
      "WebDriverError@chrome://remote/content/shared/webdriver/Errors.jsm:181:5\n",
      "NoSuchElementError@chrome://remote/content/shared/webdriver/Errors.jsm:393:5\n",
      "element.find/</<@chrome://remote/content/marionette/element.js:305:16\n",
      "\n",
      "Message: Unable to locate element: /html/body/main/div[2]/div/div[7]/div[1]/div[2]/button[2]\n",
      "Stacktrace:\n",
      "WebDriverError@chrome://remote/content/shared/webdriver/Errors.jsm:181:5\n",
      "NoSuchElementError@chrome://remote/content/shared/webdriver/Errors.jsm:393:5\n",
      "element.find/</<@chrome://remote/content/marionette/element.js:305:16\n",
      "\n"
     ]
    },
    {
     "name": "stderr",
     "output_type": "stream",
     "text": [
      "/home/lucas/miniconda3/lib/python3.7/site-packages/ipykernel_launcher.py:3: DeprecationWarning: firefox_profile has been deprecated, please pass in an Options object\n",
      "  This is separate from the ipykernel package so we can avoid doing imports until\n",
      "/home/lucas/miniconda3/lib/python3.7/site-packages/ipykernel_launcher.py:3: DeprecationWarning: firefox_profile has been deprecated, please pass in an Options object\n",
      "  This is separate from the ipykernel package so we can avoid doing imports until\n"
     ]
    },
    {
     "name": "stdout",
     "output_type": "stream",
     "text": [
      "Message: Unable to locate element: /html/body/main/div[2]/div/div[7]/div[1]/div[2]/button[2]\n",
      "Stacktrace:\n",
      "WebDriverError@chrome://remote/content/shared/webdriver/Errors.jsm:181:5\n",
      "NoSuchElementError@chrome://remote/content/shared/webdriver/Errors.jsm:393:5\n",
      "element.find/</<@chrome://remote/content/marionette/element.js:305:16\n",
      "\n"
     ]
    },
    {
     "name": "stderr",
     "output_type": "stream",
     "text": [
      "/home/lucas/miniconda3/lib/python3.7/site-packages/ipykernel_launcher.py:3: DeprecationWarning: firefox_profile has been deprecated, please pass in an Options object\n",
      "  This is separate from the ipykernel package so we can avoid doing imports until\n"
     ]
    },
    {
     "name": "stdout",
     "output_type": "stream",
     "text": [
      "Message: Unable to locate element: /html/body/main/div[2]/div/div[7]/div[1]/div[2]/button[2]\n",
      "Stacktrace:\n",
      "WebDriverError@chrome://remote/content/shared/webdriver/Errors.jsm:181:5\n",
      "NoSuchElementError@chrome://remote/content/shared/webdriver/Errors.jsm:393:5\n",
      "element.find/</<@chrome://remote/content/marionette/element.js:305:16\n",
      "\n"
     ]
    },
    {
     "name": "stderr",
     "output_type": "stream",
     "text": [
      "/home/lucas/miniconda3/lib/python3.7/site-packages/ipykernel_launcher.py:3: DeprecationWarning: firefox_profile has been deprecated, please pass in an Options object\n",
      "  This is separate from the ipykernel package so we can avoid doing imports until\n"
     ]
    },
    {
     "name": "stdout",
     "output_type": "stream",
     "text": [
      "Message: Unable to locate element: /html/body/main/div[2]/div/div[7]/div[1]/div[2]/button[2]\n",
      "Stacktrace:\n",
      "WebDriverError@chrome://remote/content/shared/webdriver/Errors.jsm:181:5\n",
      "NoSuchElementError@chrome://remote/content/shared/webdriver/Errors.jsm:393:5\n",
      "element.find/</<@chrome://remote/content/marionette/element.js:305:16\n",
      "\n",
      "Message: Unable to locate element: /html/body/main/div[2]/div/div[7]/div[1]/div[2]/button[2]\n",
      "Stacktrace:\n",
      "WebDriverError@chrome://remote/content/shared/webdriver/Errors.jsm:181:5\n",
      "NoSuchElementError@chrome://remote/content/shared/webdriver/Errors.jsm:393:5\n",
      "element.find/</<@chrome://remote/content/marionette/element.js:305:16\n",
      "\n"
     ]
    },
    {
     "name": "stderr",
     "output_type": "stream",
     "text": [
      "/home/lucas/miniconda3/lib/python3.7/site-packages/ipykernel_launcher.py:3: DeprecationWarning: firefox_profile has been deprecated, please pass in an Options object\n",
      "  This is separate from the ipykernel package so we can avoid doing imports until\n",
      "/home/lucas/miniconda3/lib/python3.7/site-packages/ipykernel_launcher.py:3: DeprecationWarning: firefox_profile has been deprecated, please pass in an Options object\n",
      "  This is separate from the ipykernel package so we can avoid doing imports until\n"
     ]
    },
    {
     "name": "stdout",
     "output_type": "stream",
     "text": [
      "Message: Unable to locate element: /html/body/main/div[2]/div/div[7]/div[1]/div[2]/button[2]\n",
      "Stacktrace:\n",
      "WebDriverError@chrome://remote/content/shared/webdriver/Errors.jsm:181:5\n",
      "NoSuchElementError@chrome://remote/content/shared/webdriver/Errors.jsm:393:5\n",
      "element.find/</<@chrome://remote/content/marionette/element.js:305:16\n",
      "\n"
     ]
    },
    {
     "name": "stderr",
     "output_type": "stream",
     "text": [
      "/home/lucas/miniconda3/lib/python3.7/site-packages/ipykernel_launcher.py:3: DeprecationWarning: firefox_profile has been deprecated, please pass in an Options object\n",
      "  This is separate from the ipykernel package so we can avoid doing imports until\n"
     ]
    },
    {
     "name": "stdout",
     "output_type": "stream",
     "text": [
      "Message: Unable to locate element: /html/body/main/div[2]/div/div[7]/div[1]/div[2]/button[2]\n",
      "Stacktrace:\n",
      "WebDriverError@chrome://remote/content/shared/webdriver/Errors.jsm:181:5\n",
      "NoSuchElementError@chrome://remote/content/shared/webdriver/Errors.jsm:393:5\n",
      "element.find/</<@chrome://remote/content/marionette/element.js:305:16\n",
      "\n"
     ]
    },
    {
     "name": "stderr",
     "output_type": "stream",
     "text": [
      "/home/lucas/miniconda3/lib/python3.7/site-packages/ipykernel_launcher.py:3: DeprecationWarning: firefox_profile has been deprecated, please pass in an Options object\n",
      "  This is separate from the ipykernel package so we can avoid doing imports until\n"
     ]
    },
    {
     "name": "stdout",
     "output_type": "stream",
     "text": [
      "Message: Unable to locate element: /html/body/main/div[2]/div/div[7]/div[1]/div[2]/button[2]\n",
      "Stacktrace:\n",
      "WebDriverError@chrome://remote/content/shared/webdriver/Errors.jsm:181:5\n",
      "NoSuchElementError@chrome://remote/content/shared/webdriver/Errors.jsm:393:5\n",
      "element.find/</<@chrome://remote/content/marionette/element.js:305:16\n",
      "\n"
     ]
    },
    {
     "name": "stderr",
     "output_type": "stream",
     "text": [
      "/home/lucas/miniconda3/lib/python3.7/site-packages/ipykernel_launcher.py:3: DeprecationWarning: firefox_profile has been deprecated, please pass in an Options object\n",
      "  This is separate from the ipykernel package so we can avoid doing imports until\n"
     ]
    },
    {
     "name": "stdout",
     "output_type": "stream",
     "text": [
      "Message: Unable to locate element: /html/body/main/div[2]/div/div[7]/div[1]/div[2]/button[2]\n",
      "Stacktrace:\n",
      "WebDriverError@chrome://remote/content/shared/webdriver/Errors.jsm:181:5\n",
      "NoSuchElementError@chrome://remote/content/shared/webdriver/Errors.jsm:393:5\n",
      "element.find/</<@chrome://remote/content/marionette/element.js:305:16\n",
      "\n"
     ]
    },
    {
     "name": "stderr",
     "output_type": "stream",
     "text": [
      "/home/lucas/miniconda3/lib/python3.7/site-packages/ipykernel_launcher.py:3: DeprecationWarning: firefox_profile has been deprecated, please pass in an Options object\n",
      "  This is separate from the ipykernel package so we can avoid doing imports until\n",
      "/home/lucas/miniconda3/lib/python3.7/site-packages/ipykernel_launcher.py:3: DeprecationWarning: firefox_profile has been deprecated, please pass in an Options object\n",
      "  This is separate from the ipykernel package so we can avoid doing imports until\n"
     ]
    },
    {
     "name": "stdout",
     "output_type": "stream",
     "text": [
      "Message: Unable to locate element: /html/body/main/div[2]/div/div[7]/div[1]/div[2]/button[2]\n",
      "Stacktrace:\n",
      "WebDriverError@chrome://remote/content/shared/webdriver/Errors.jsm:181:5\n",
      "NoSuchElementError@chrome://remote/content/shared/webdriver/Errors.jsm:393:5\n",
      "element.find/</<@chrome://remote/content/marionette/element.js:305:16\n",
      "\n"
     ]
    },
    {
     "name": "stderr",
     "output_type": "stream",
     "text": [
      "/home/lucas/miniconda3/lib/python3.7/site-packages/ipykernel_launcher.py:3: DeprecationWarning: firefox_profile has been deprecated, please pass in an Options object\n",
      "  This is separate from the ipykernel package so we can avoid doing imports until\n"
     ]
    },
    {
     "name": "stdout",
     "output_type": "stream",
     "text": [
      "Message: Unable to locate element: /html/body/main/div[2]/div/div[7]/div[1]/div[2]/button[2]\n",
      "Stacktrace:\n",
      "WebDriverError@chrome://remote/content/shared/webdriver/Errors.jsm:181:5\n",
      "NoSuchElementError@chrome://remote/content/shared/webdriver/Errors.jsm:393:5\n",
      "element.find/</<@chrome://remote/content/marionette/element.js:305:16\n",
      "\n",
      "Message: Unable to locate element: /html/body/main/div[2]/div/div[7]/div[1]/div[2]/button[2]\n",
      "Stacktrace:\n",
      "WebDriverError@chrome://remote/content/shared/webdriver/Errors.jsm:181:5\n",
      "NoSuchElementError@chrome://remote/content/shared/webdriver/Errors.jsm:393:5\n",
      "element.find/</<@chrome://remote/content/marionette/element.js:305:16\n",
      "\n"
     ]
    },
    {
     "name": "stderr",
     "output_type": "stream",
     "text": [
      "/home/lucas/miniconda3/lib/python3.7/site-packages/ipykernel_launcher.py:3: DeprecationWarning: firefox_profile has been deprecated, please pass in an Options object\n",
      "  This is separate from the ipykernel package so we can avoid doing imports until\n",
      "/home/lucas/miniconda3/lib/python3.7/site-packages/ipykernel_launcher.py:3: DeprecationWarning: firefox_profile has been deprecated, please pass in an Options object\n",
      "  This is separate from the ipykernel package so we can avoid doing imports until\n",
      "/home/lucas/miniconda3/lib/python3.7/site-packages/ipykernel_launcher.py:3: DeprecationWarning: firefox_profile has been deprecated, please pass in an Options object\n",
      "  This is separate from the ipykernel package so we can avoid doing imports until\n"
     ]
    },
    {
     "name": "stdout",
     "output_type": "stream",
     "text": [
      "Message: Unable to locate element: /html/body/main/div[2]/div/div[7]/div[1]/div[2]/button[2]\n",
      "Stacktrace:\n",
      "WebDriverError@chrome://remote/content/shared/webdriver/Errors.jsm:181:5\n",
      "NoSuchElementError@chrome://remote/content/shared/webdriver/Errors.jsm:393:5\n",
      "element.find/</<@chrome://remote/content/marionette/element.js:305:16\n",
      "\n"
     ]
    },
    {
     "name": "stderr",
     "output_type": "stream",
     "text": [
      "/home/lucas/miniconda3/lib/python3.7/site-packages/ipykernel_launcher.py:3: DeprecationWarning: firefox_profile has been deprecated, please pass in an Options object\n",
      "  This is separate from the ipykernel package so we can avoid doing imports until\n",
      "/home/lucas/miniconda3/lib/python3.7/site-packages/ipykernel_launcher.py:3: DeprecationWarning: firefox_profile has been deprecated, please pass in an Options object\n",
      "  This is separate from the ipykernel package so we can avoid doing imports until\n",
      "/home/lucas/miniconda3/lib/python3.7/site-packages/ipykernel_launcher.py:3: DeprecationWarning: firefox_profile has been deprecated, please pass in an Options object\n",
      "  This is separate from the ipykernel package so we can avoid doing imports until\n"
     ]
    },
    {
     "name": "stdout",
     "output_type": "stream",
     "text": [
      "Message: Unable to locate element: /html/body/main/div[2]/div/div[7]/div[1]/div[2]/button[2]\n",
      "Stacktrace:\n",
      "WebDriverError@chrome://remote/content/shared/webdriver/Errors.jsm:181:5\n",
      "NoSuchElementError@chrome://remote/content/shared/webdriver/Errors.jsm:393:5\n",
      "element.find/</<@chrome://remote/content/marionette/element.js:305:16\n",
      "\n",
      "Message: Unable to locate element: /html/body/main/div[2]/div/div[7]/div[1]/div[2]/button[2]\n",
      "Stacktrace:\n",
      "WebDriverError@chrome://remote/content/shared/webdriver/Errors.jsm:181:5\n",
      "NoSuchElementError@chrome://remote/content/shared/webdriver/Errors.jsm:393:5\n",
      "element.find/</<@chrome://remote/content/marionette/element.js:305:16\n",
      "\n"
     ]
    },
    {
     "name": "stderr",
     "output_type": "stream",
     "text": [
      "/home/lucas/miniconda3/lib/python3.7/site-packages/ipykernel_launcher.py:3: DeprecationWarning: firefox_profile has been deprecated, please pass in an Options object\n",
      "  This is separate from the ipykernel package so we can avoid doing imports until\n"
     ]
    },
    {
     "name": "stdout",
     "output_type": "stream",
     "text": [
      "Message: Unable to locate element: /html/body/main/div[2]/div/div[7]/div[1]/div[2]/button[2]\n",
      "Stacktrace:\n",
      "WebDriverError@chrome://remote/content/shared/webdriver/Errors.jsm:181:5\n",
      "NoSuchElementError@chrome://remote/content/shared/webdriver/Errors.jsm:393:5\n",
      "element.find/</<@chrome://remote/content/marionette/element.js:305:16\n",
      "\n"
     ]
    },
    {
     "name": "stderr",
     "output_type": "stream",
     "text": [
      "/home/lucas/miniconda3/lib/python3.7/site-packages/ipykernel_launcher.py:3: DeprecationWarning: firefox_profile has been deprecated, please pass in an Options object\n",
      "  This is separate from the ipykernel package so we can avoid doing imports until\n",
      "/home/lucas/miniconda3/lib/python3.7/site-packages/ipykernel_launcher.py:3: DeprecationWarning: firefox_profile has been deprecated, please pass in an Options object\n",
      "  This is separate from the ipykernel package so we can avoid doing imports until\n"
     ]
    },
    {
     "name": "stdout",
     "output_type": "stream",
     "text": [
      "Message: Unable to locate element: /html/body/main/div[2]/div/div[7]/div[1]/div[2]/button[2]\n",
      "Stacktrace:\n",
      "WebDriverError@chrome://remote/content/shared/webdriver/Errors.jsm:181:5\n",
      "NoSuchElementError@chrome://remote/content/shared/webdriver/Errors.jsm:393:5\n",
      "element.find/</<@chrome://remote/content/marionette/element.js:305:16\n",
      "\n"
     ]
    },
    {
     "name": "stderr",
     "output_type": "stream",
     "text": [
      "/home/lucas/miniconda3/lib/python3.7/site-packages/ipykernel_launcher.py:3: DeprecationWarning: firefox_profile has been deprecated, please pass in an Options object\n",
      "  This is separate from the ipykernel package so we can avoid doing imports until\n"
     ]
    },
    {
     "name": "stdout",
     "output_type": "stream",
     "text": [
      "Message: Unable to locate element: /html/body/main/div[2]/div/div[7]/div[1]/div[2]/button[2]\n",
      "Stacktrace:\n",
      "WebDriverError@chrome://remote/content/shared/webdriver/Errors.jsm:181:5\n",
      "NoSuchElementError@chrome://remote/content/shared/webdriver/Errors.jsm:393:5\n",
      "element.find/</<@chrome://remote/content/marionette/element.js:305:16\n",
      "\n"
     ]
    },
    {
     "name": "stderr",
     "output_type": "stream",
     "text": [
      "/home/lucas/miniconda3/lib/python3.7/site-packages/ipykernel_launcher.py:3: DeprecationWarning: firefox_profile has been deprecated, please pass in an Options object\n",
      "  This is separate from the ipykernel package so we can avoid doing imports until\n"
     ]
    },
    {
     "name": "stdout",
     "output_type": "stream",
     "text": [
      "Message: Unable to locate element: /html/body/main/div[2]/div/div[7]/div[1]/div[2]/button[2]\n",
      "Stacktrace:\n",
      "WebDriverError@chrome://remote/content/shared/webdriver/Errors.jsm:181:5\n",
      "NoSuchElementError@chrome://remote/content/shared/webdriver/Errors.jsm:393:5\n",
      "element.find/</<@chrome://remote/content/marionette/element.js:305:16\n",
      "\n"
     ]
    },
    {
     "name": "stderr",
     "output_type": "stream",
     "text": [
      "/home/lucas/miniconda3/lib/python3.7/site-packages/ipykernel_launcher.py:3: DeprecationWarning: firefox_profile has been deprecated, please pass in an Options object\n",
      "  This is separate from the ipykernel package so we can avoid doing imports until\n",
      "/home/lucas/miniconda3/lib/python3.7/site-packages/ipykernel_launcher.py:3: DeprecationWarning: firefox_profile has been deprecated, please pass in an Options object\n",
      "  This is separate from the ipykernel package so we can avoid doing imports until\n"
     ]
    },
    {
     "name": "stdout",
     "output_type": "stream",
     "text": [
      "Message: Unable to locate element: /html/body/main/div[2]/div/div[7]/div[1]/div[2]/button[2]\n",
      "Stacktrace:\n",
      "WebDriverError@chrome://remote/content/shared/webdriver/Errors.jsm:181:5\n",
      "NoSuchElementError@chrome://remote/content/shared/webdriver/Errors.jsm:393:5\n",
      "element.find/</<@chrome://remote/content/marionette/element.js:305:16\n",
      "\n"
     ]
    },
    {
     "name": "stderr",
     "output_type": "stream",
     "text": [
      "/home/lucas/miniconda3/lib/python3.7/site-packages/ipykernel_launcher.py:3: DeprecationWarning: firefox_profile has been deprecated, please pass in an Options object\n",
      "  This is separate from the ipykernel package so we can avoid doing imports until\n"
     ]
    },
    {
     "name": "stdout",
     "output_type": "stream",
     "text": [
      "Message: Unable to locate element: /html/body/main/div[2]/div/div[7]/div[1]/div[2]/button[2]\n",
      "Stacktrace:\n",
      "WebDriverError@chrome://remote/content/shared/webdriver/Errors.jsm:181:5\n",
      "NoSuchElementError@chrome://remote/content/shared/webdriver/Errors.jsm:393:5\n",
      "element.find/</<@chrome://remote/content/marionette/element.js:305:16\n",
      "\n"
     ]
    },
    {
     "name": "stderr",
     "output_type": "stream",
     "text": [
      "/home/lucas/miniconda3/lib/python3.7/site-packages/ipykernel_launcher.py:3: DeprecationWarning: firefox_profile has been deprecated, please pass in an Options object\n",
      "  This is separate from the ipykernel package so we can avoid doing imports until\n",
      "/home/lucas/miniconda3/lib/python3.7/site-packages/ipykernel_launcher.py:3: DeprecationWarning: firefox_profile has been deprecated, please pass in an Options object\n",
      "  This is separate from the ipykernel package so we can avoid doing imports until\n"
     ]
    },
    {
     "name": "stdout",
     "output_type": "stream",
     "text": [
      "Message: Unable to locate element: /html/body/main/div[2]/div/div[7]/div[1]/div[2]/button[2]\n",
      "Stacktrace:\n",
      "WebDriverError@chrome://remote/content/shared/webdriver/Errors.jsm:181:5\n",
      "NoSuchElementError@chrome://remote/content/shared/webdriver/Errors.jsm:393:5\n",
      "element.find/</<@chrome://remote/content/marionette/element.js:305:16\n",
      "\n"
     ]
    },
    {
     "name": "stderr",
     "output_type": "stream",
     "text": [
      "/home/lucas/miniconda3/lib/python3.7/site-packages/ipykernel_launcher.py:3: DeprecationWarning: firefox_profile has been deprecated, please pass in an Options object\n",
      "  This is separate from the ipykernel package so we can avoid doing imports until\n",
      "/home/lucas/miniconda3/lib/python3.7/site-packages/ipykernel_launcher.py:3: DeprecationWarning: firefox_profile has been deprecated, please pass in an Options object\n",
      "  This is separate from the ipykernel package so we can avoid doing imports until\n"
     ]
    },
    {
     "name": "stdout",
     "output_type": "stream",
     "text": [
      "Message: Unable to locate element: /html/body/main/div[2]/div/div[7]/div[1]/div[2]/button[2]\n",
      "Stacktrace:\n",
      "WebDriverError@chrome://remote/content/shared/webdriver/Errors.jsm:181:5\n",
      "NoSuchElementError@chrome://remote/content/shared/webdriver/Errors.jsm:393:5\n",
      "element.find/</<@chrome://remote/content/marionette/element.js:305:16\n",
      "\n"
     ]
    },
    {
     "name": "stderr",
     "output_type": "stream",
     "text": [
      "/home/lucas/miniconda3/lib/python3.7/site-packages/ipykernel_launcher.py:3: DeprecationWarning: firefox_profile has been deprecated, please pass in an Options object\n",
      "  This is separate from the ipykernel package so we can avoid doing imports until\n",
      "/home/lucas/miniconda3/lib/python3.7/site-packages/ipykernel_launcher.py:3: DeprecationWarning: firefox_profile has been deprecated, please pass in an Options object\n",
      "  This is separate from the ipykernel package so we can avoid doing imports until\n"
     ]
    },
    {
     "name": "stdout",
     "output_type": "stream",
     "text": [
      "Message: Unable to locate element: /html/body/main/div[2]/div/div[7]/div[1]/div[2]/button[2]\n",
      "Stacktrace:\n",
      "WebDriverError@chrome://remote/content/shared/webdriver/Errors.jsm:181:5\n",
      "NoSuchElementError@chrome://remote/content/shared/webdriver/Errors.jsm:393:5\n",
      "element.find/</<@chrome://remote/content/marionette/element.js:305:16\n",
      "\n",
      "Message: Unable to locate element: /html/body/main/div[2]/div/div[7]/div[1]/div[2]/button[2]\n",
      "Stacktrace:\n",
      "WebDriverError@chrome://remote/content/shared/webdriver/Errors.jsm:181:5\n",
      "NoSuchElementError@chrome://remote/content/shared/webdriver/Errors.jsm:393:5\n",
      "element.find/</<@chrome://remote/content/marionette/element.js:305:16\n",
      "\n"
     ]
    },
    {
     "name": "stderr",
     "output_type": "stream",
     "text": [
      "/home/lucas/miniconda3/lib/python3.7/site-packages/ipykernel_launcher.py:3: DeprecationWarning: firefox_profile has been deprecated, please pass in an Options object\n",
      "  This is separate from the ipykernel package so we can avoid doing imports until\n",
      "/home/lucas/miniconda3/lib/python3.7/site-packages/ipykernel_launcher.py:3: DeprecationWarning: firefox_profile has been deprecated, please pass in an Options object\n",
      "  This is separate from the ipykernel package so we can avoid doing imports until\n"
     ]
    },
    {
     "name": "stdout",
     "output_type": "stream",
     "text": [
      "Message: Unable to locate element: /html/body/main/div[2]/div/div[7]/div[1]/div[2]/button[2]\n",
      "Stacktrace:\n",
      "WebDriverError@chrome://remote/content/shared/webdriver/Errors.jsm:181:5\n",
      "NoSuchElementError@chrome://remote/content/shared/webdriver/Errors.jsm:393:5\n",
      "element.find/</<@chrome://remote/content/marionette/element.js:305:16\n",
      "\n"
     ]
    },
    {
     "name": "stderr",
     "output_type": "stream",
     "text": [
      "/home/lucas/miniconda3/lib/python3.7/site-packages/ipykernel_launcher.py:3: DeprecationWarning: firefox_profile has been deprecated, please pass in an Options object\n",
      "  This is separate from the ipykernel package so we can avoid doing imports until\n"
     ]
    },
    {
     "name": "stdout",
     "output_type": "stream",
     "text": [
      "Message: Unable to locate element: /html/body/main/div[2]/div/div[7]/div[1]/div[2]/button[2]\n",
      "Stacktrace:\n",
      "WebDriverError@chrome://remote/content/shared/webdriver/Errors.jsm:181:5\n",
      "NoSuchElementError@chrome://remote/content/shared/webdriver/Errors.jsm:393:5\n",
      "element.find/</<@chrome://remote/content/marionette/element.js:305:16\n",
      "\n"
     ]
    },
    {
     "name": "stderr",
     "output_type": "stream",
     "text": [
      "/home/lucas/miniconda3/lib/python3.7/site-packages/ipykernel_launcher.py:3: DeprecationWarning: firefox_profile has been deprecated, please pass in an Options object\n",
      "  This is separate from the ipykernel package so we can avoid doing imports until\n",
      "/home/lucas/miniconda3/lib/python3.7/site-packages/ipykernel_launcher.py:3: DeprecationWarning: firefox_profile has been deprecated, please pass in an Options object\n",
      "  This is separate from the ipykernel package so we can avoid doing imports until\n",
      "/home/lucas/miniconda3/lib/python3.7/site-packages/ipykernel_launcher.py:3: DeprecationWarning: firefox_profile has been deprecated, please pass in an Options object\n",
      "  This is separate from the ipykernel package so we can avoid doing imports until\n"
     ]
    },
    {
     "name": "stdout",
     "output_type": "stream",
     "text": [
      "Message: Unable to locate element: /html/body/main/div[2]/div/div[7]/div[1]/div[2]/button[2]\n",
      "Stacktrace:\n",
      "WebDriverError@chrome://remote/content/shared/webdriver/Errors.jsm:181:5\n",
      "NoSuchElementError@chrome://remote/content/shared/webdriver/Errors.jsm:393:5\n",
      "element.find/</<@chrome://remote/content/marionette/element.js:305:16\n",
      "\n"
     ]
    },
    {
     "name": "stderr",
     "output_type": "stream",
     "text": [
      "/home/lucas/miniconda3/lib/python3.7/site-packages/ipykernel_launcher.py:3: DeprecationWarning: firefox_profile has been deprecated, please pass in an Options object\n",
      "  This is separate from the ipykernel package so we can avoid doing imports until\n"
     ]
    },
    {
     "name": "stdout",
     "output_type": "stream",
     "text": [
      "Message: Unable to locate element: /html/body/main/div[2]/div/div[7]/div[1]/div[2]/button[2]\n",
      "Stacktrace:\n",
      "WebDriverError@chrome://remote/content/shared/webdriver/Errors.jsm:181:5\n",
      "NoSuchElementError@chrome://remote/content/shared/webdriver/Errors.jsm:393:5\n",
      "element.find/</<@chrome://remote/content/marionette/element.js:305:16\n",
      "\n"
     ]
    },
    {
     "name": "stderr",
     "output_type": "stream",
     "text": [
      "/home/lucas/miniconda3/lib/python3.7/site-packages/ipykernel_launcher.py:3: DeprecationWarning: firefox_profile has been deprecated, please pass in an Options object\n",
      "  This is separate from the ipykernel package so we can avoid doing imports until\n"
     ]
    },
    {
     "name": "stdout",
     "output_type": "stream",
     "text": [
      "Message: Unable to locate element: /html/body/main/div[2]/div/div[7]/div[1]/div[2]/button[2]\n",
      "Stacktrace:\n",
      "WebDriverError@chrome://remote/content/shared/webdriver/Errors.jsm:181:5\n",
      "NoSuchElementError@chrome://remote/content/shared/webdriver/Errors.jsm:393:5\n",
      "element.find/</<@chrome://remote/content/marionette/element.js:305:16\n",
      "\n"
     ]
    },
    {
     "name": "stderr",
     "output_type": "stream",
     "text": [
      "/home/lucas/miniconda3/lib/python3.7/site-packages/ipykernel_launcher.py:3: DeprecationWarning: firefox_profile has been deprecated, please pass in an Options object\n",
      "  This is separate from the ipykernel package so we can avoid doing imports until\n",
      "/home/lucas/miniconda3/lib/python3.7/site-packages/ipykernel_launcher.py:3: DeprecationWarning: firefox_profile has been deprecated, please pass in an Options object\n",
      "  This is separate from the ipykernel package so we can avoid doing imports until\n"
     ]
    },
    {
     "name": "stdout",
     "output_type": "stream",
     "text": [
      "Message: Unable to locate element: /html/body/main/div[2]/div/div[7]/div[1]/div[2]/button[2]\n",
      "Stacktrace:\n",
      "WebDriverError@chrome://remote/content/shared/webdriver/Errors.jsm:181:5\n",
      "NoSuchElementError@chrome://remote/content/shared/webdriver/Errors.jsm:393:5\n",
      "element.find/</<@chrome://remote/content/marionette/element.js:305:16\n",
      "\n"
     ]
    },
    {
     "name": "stderr",
     "output_type": "stream",
     "text": [
      "/home/lucas/miniconda3/lib/python3.7/site-packages/ipykernel_launcher.py:3: DeprecationWarning: firefox_profile has been deprecated, please pass in an Options object\n",
      "  This is separate from the ipykernel package so we can avoid doing imports until\n"
     ]
    },
    {
     "name": "stdout",
     "output_type": "stream",
     "text": [
      "Message: Unable to locate element: /html/body/main/div[2]/div/div[7]/div[1]/div[2]/button[2]\n",
      "Stacktrace:\n",
      "WebDriverError@chrome://remote/content/shared/webdriver/Errors.jsm:181:5\n",
      "NoSuchElementError@chrome://remote/content/shared/webdriver/Errors.jsm:393:5\n",
      "element.find/</<@chrome://remote/content/marionette/element.js:305:16\n",
      "\n"
     ]
    },
    {
     "name": "stderr",
     "output_type": "stream",
     "text": [
      "/home/lucas/miniconda3/lib/python3.7/site-packages/ipykernel_launcher.py:3: DeprecationWarning: firefox_profile has been deprecated, please pass in an Options object\n",
      "  This is separate from the ipykernel package so we can avoid doing imports until\n"
     ]
    },
    {
     "name": "stdout",
     "output_type": "stream",
     "text": [
      "Message: Unable to locate element: /html/body/main/div[2]/div/div[7]/div[1]/div[2]/button[2]\n",
      "Stacktrace:\n",
      "WebDriverError@chrome://remote/content/shared/webdriver/Errors.jsm:181:5\n",
      "NoSuchElementError@chrome://remote/content/shared/webdriver/Errors.jsm:393:5\n",
      "element.find/</<@chrome://remote/content/marionette/element.js:305:16\n",
      "\n",
      "Message: Unable to locate element: /html/body/main/div[2]/div/div[7]/div[1]/div[2]/button[2]\n",
      "Stacktrace:\n",
      "WebDriverError@chrome://remote/content/shared/webdriver/Errors.jsm:181:5\n",
      "NoSuchElementError@chrome://remote/content/shared/webdriver/Errors.jsm:393:5\n",
      "element.find/</<@chrome://remote/content/marionette/element.js:305:16\n",
      "\n"
     ]
    },
    {
     "name": "stderr",
     "output_type": "stream",
     "text": [
      "/home/lucas/miniconda3/lib/python3.7/site-packages/ipykernel_launcher.py:3: DeprecationWarning: firefox_profile has been deprecated, please pass in an Options object\n",
      "  This is separate from the ipykernel package so we can avoid doing imports until\n",
      "/home/lucas/miniconda3/lib/python3.7/site-packages/ipykernel_launcher.py:3: DeprecationWarning: firefox_profile has been deprecated, please pass in an Options object\n",
      "  This is separate from the ipykernel package so we can avoid doing imports until\n"
     ]
    },
    {
     "name": "stdout",
     "output_type": "stream",
     "text": [
      "Message: Unable to locate element: /html/body/main/div[2]/div/div[7]/div[1]/div[2]/button[2]\n",
      "Stacktrace:\n",
      "WebDriverError@chrome://remote/content/shared/webdriver/Errors.jsm:181:5\n",
      "NoSuchElementError@chrome://remote/content/shared/webdriver/Errors.jsm:393:5\n",
      "element.find/</<@chrome://remote/content/marionette/element.js:305:16\n",
      "\n"
     ]
    },
    {
     "name": "stderr",
     "output_type": "stream",
     "text": [
      "/home/lucas/miniconda3/lib/python3.7/site-packages/ipykernel_launcher.py:3: DeprecationWarning: firefox_profile has been deprecated, please pass in an Options object\n",
      "  This is separate from the ipykernel package so we can avoid doing imports until\n"
     ]
    },
    {
     "name": "stdout",
     "output_type": "stream",
     "text": [
      "Message: Unable to locate element: /html/body/main/div[2]/div/div[7]/div[1]/div[2]/button[2]\n",
      "Stacktrace:\n",
      "WebDriverError@chrome://remote/content/shared/webdriver/Errors.jsm:181:5\n",
      "NoSuchElementError@chrome://remote/content/shared/webdriver/Errors.jsm:393:5\n",
      "element.find/</<@chrome://remote/content/marionette/element.js:305:16\n",
      "\n"
     ]
    },
    {
     "name": "stderr",
     "output_type": "stream",
     "text": [
      "/home/lucas/miniconda3/lib/python3.7/site-packages/ipykernel_launcher.py:3: DeprecationWarning: firefox_profile has been deprecated, please pass in an Options object\n",
      "  This is separate from the ipykernel package so we can avoid doing imports until\n"
     ]
    },
    {
     "name": "stdout",
     "output_type": "stream",
     "text": [
      "Message: Unable to locate element: /html/body/main/div[2]/div/div[7]/div[1]/div[2]/button[2]\n",
      "Stacktrace:\n",
      "WebDriverError@chrome://remote/content/shared/webdriver/Errors.jsm:181:5\n",
      "NoSuchElementError@chrome://remote/content/shared/webdriver/Errors.jsm:393:5\n",
      "element.find/</<@chrome://remote/content/marionette/element.js:305:16\n",
      "\n"
     ]
    },
    {
     "name": "stderr",
     "output_type": "stream",
     "text": [
      "/home/lucas/miniconda3/lib/python3.7/site-packages/ipykernel_launcher.py:3: DeprecationWarning: firefox_profile has been deprecated, please pass in an Options object\n",
      "  This is separate from the ipykernel package so we can avoid doing imports until\n"
     ]
    },
    {
     "name": "stdout",
     "output_type": "stream",
     "text": [
      "Message: Unable to locate element: /html/body/main/div[2]/div/div[7]/div[1]/div[2]/button[2]\n",
      "Stacktrace:\n",
      "WebDriverError@chrome://remote/content/shared/webdriver/Errors.jsm:181:5\n",
      "NoSuchElementError@chrome://remote/content/shared/webdriver/Errors.jsm:393:5\n",
      "element.find/</<@chrome://remote/content/marionette/element.js:305:16\n",
      "\n"
     ]
    },
    {
     "name": "stderr",
     "output_type": "stream",
     "text": [
      "/home/lucas/miniconda3/lib/python3.7/site-packages/ipykernel_launcher.py:3: DeprecationWarning: firefox_profile has been deprecated, please pass in an Options object\n",
      "  This is separate from the ipykernel package so we can avoid doing imports until\n"
     ]
    },
    {
     "name": "stdout",
     "output_type": "stream",
     "text": [
      "Message: Unable to locate element: /html/body/main/div[2]/div/div[7]/div[1]/div[2]/button[2]\n",
      "Stacktrace:\n",
      "WebDriverError@chrome://remote/content/shared/webdriver/Errors.jsm:181:5\n",
      "NoSuchElementError@chrome://remote/content/shared/webdriver/Errors.jsm:393:5\n",
      "element.find/</<@chrome://remote/content/marionette/element.js:305:16\n",
      "\n"
     ]
    },
    {
     "name": "stderr",
     "output_type": "stream",
     "text": [
      "/home/lucas/miniconda3/lib/python3.7/site-packages/ipykernel_launcher.py:3: DeprecationWarning: firefox_profile has been deprecated, please pass in an Options object\n",
      "  This is separate from the ipykernel package so we can avoid doing imports until\n",
      "/home/lucas/miniconda3/lib/python3.7/site-packages/ipykernel_launcher.py:3: DeprecationWarning: firefox_profile has been deprecated, please pass in an Options object\n",
      "  This is separate from the ipykernel package so we can avoid doing imports until\n"
     ]
    },
    {
     "name": "stdout",
     "output_type": "stream",
     "text": [
      "Message: Unable to locate element: /html/body/main/div[2]/div/div[7]/div[1]/div[2]/button[2]\n",
      "Stacktrace:\n",
      "WebDriverError@chrome://remote/content/shared/webdriver/Errors.jsm:181:5\n",
      "NoSuchElementError@chrome://remote/content/shared/webdriver/Errors.jsm:393:5\n",
      "element.find/</<@chrome://remote/content/marionette/element.js:305:16\n",
      "\n"
     ]
    },
    {
     "name": "stderr",
     "output_type": "stream",
     "text": [
      "/home/lucas/miniconda3/lib/python3.7/site-packages/ipykernel_launcher.py:3: DeprecationWarning: firefox_profile has been deprecated, please pass in an Options object\n",
      "  This is separate from the ipykernel package so we can avoid doing imports until\n"
     ]
    },
    {
     "name": "stdout",
     "output_type": "stream",
     "text": [
      "Message: Unable to locate element: /html/body/main/div[2]/div/div[7]/div[1]/div[2]/button[2]\n",
      "Stacktrace:\n",
      "WebDriverError@chrome://remote/content/shared/webdriver/Errors.jsm:181:5\n",
      "NoSuchElementError@chrome://remote/content/shared/webdriver/Errors.jsm:393:5\n",
      "element.find/</<@chrome://remote/content/marionette/element.js:305:16\n",
      "\n",
      "Message: Unable to locate element: /html/body/main/div[2]/div/div[7]/div[1]/div[2]/button[2]\n",
      "Stacktrace:\n",
      "WebDriverError@chrome://remote/content/shared/webdriver/Errors.jsm:181:5\n",
      "NoSuchElementError@chrome://remote/content/shared/webdriver/Errors.jsm:393:5\n",
      "element.find/</<@chrome://remote/content/marionette/element.js:305:16\n",
      "\n"
     ]
    },
    {
     "name": "stderr",
     "output_type": "stream",
     "text": [
      "/home/lucas/miniconda3/lib/python3.7/site-packages/ipykernel_launcher.py:3: DeprecationWarning: firefox_profile has been deprecated, please pass in an Options object\n",
      "  This is separate from the ipykernel package so we can avoid doing imports until\n",
      "/home/lucas/miniconda3/lib/python3.7/site-packages/ipykernel_launcher.py:3: DeprecationWarning: firefox_profile has been deprecated, please pass in an Options object\n",
      "  This is separate from the ipykernel package so we can avoid doing imports until\n",
      "/home/lucas/miniconda3/lib/python3.7/site-packages/ipykernel_launcher.py:3: DeprecationWarning: firefox_profile has been deprecated, please pass in an Options object\n",
      "  This is separate from the ipykernel package so we can avoid doing imports until\n"
     ]
    },
    {
     "name": "stdout",
     "output_type": "stream",
     "text": [
      "Message: Unable to locate element: /html/body/main/div[2]/div/div[7]/div[1]/div[2]/button[2]\n",
      "Stacktrace:\n",
      "WebDriverError@chrome://remote/content/shared/webdriver/Errors.jsm:181:5\n",
      "NoSuchElementError@chrome://remote/content/shared/webdriver/Errors.jsm:393:5\n",
      "element.find/</<@chrome://remote/content/marionette/element.js:305:16\n",
      "\n"
     ]
    },
    {
     "name": "stderr",
     "output_type": "stream",
     "text": [
      "/home/lucas/miniconda3/lib/python3.7/site-packages/ipykernel_launcher.py:3: DeprecationWarning: firefox_profile has been deprecated, please pass in an Options object\n",
      "  This is separate from the ipykernel package so we can avoid doing imports until\n"
     ]
    },
    {
     "name": "stdout",
     "output_type": "stream",
     "text": [
      "Message: Unable to locate element: /html/body/main/div[2]/div/div[7]/div[1]/div[2]/button[2]\n",
      "Stacktrace:\n",
      "WebDriverError@chrome://remote/content/shared/webdriver/Errors.jsm:181:5\n",
      "NoSuchElementError@chrome://remote/content/shared/webdriver/Errors.jsm:393:5\n",
      "element.find/</<@chrome://remote/content/marionette/element.js:305:16\n",
      "\n",
      "Message: Unable to locate element: /html/body/main/div[2]/div/div[7]/div[1]/div[2]/button[2]\n",
      "Stacktrace:\n",
      "WebDriverError@chrome://remote/content/shared/webdriver/Errors.jsm:181:5\n",
      "NoSuchElementError@chrome://remote/content/shared/webdriver/Errors.jsm:393:5\n",
      "element.find/</<@chrome://remote/content/marionette/element.js:305:16\n",
      "\n"
     ]
    },
    {
     "name": "stderr",
     "output_type": "stream",
     "text": [
      "/home/lucas/miniconda3/lib/python3.7/site-packages/ipykernel_launcher.py:3: DeprecationWarning: firefox_profile has been deprecated, please pass in an Options object\n",
      "  This is separate from the ipykernel package so we can avoid doing imports until\n",
      "/home/lucas/miniconda3/lib/python3.7/site-packages/ipykernel_launcher.py:3: DeprecationWarning: firefox_profile has been deprecated, please pass in an Options object\n",
      "  This is separate from the ipykernel package so we can avoid doing imports until\n",
      "/home/lucas/miniconda3/lib/python3.7/site-packages/ipykernel_launcher.py:3: DeprecationWarning: firefox_profile has been deprecated, please pass in an Options object\n",
      "  This is separate from the ipykernel package so we can avoid doing imports until\n"
     ]
    },
    {
     "name": "stdout",
     "output_type": "stream",
     "text": [
      "Message: Unable to locate element: /html/body/main/div[2]/div/div[7]/div[1]/div[2]/button[2]\n",
      "Stacktrace:\n",
      "WebDriverError@chrome://remote/content/shared/webdriver/Errors.jsm:181:5\n",
      "NoSuchElementError@chrome://remote/content/shared/webdriver/Errors.jsm:393:5\n",
      "element.find/</<@chrome://remote/content/marionette/element.js:305:16\n",
      "\n"
     ]
    },
    {
     "name": "stderr",
     "output_type": "stream",
     "text": [
      "/home/lucas/miniconda3/lib/python3.7/site-packages/ipykernel_launcher.py:3: DeprecationWarning: firefox_profile has been deprecated, please pass in an Options object\n",
      "  This is separate from the ipykernel package so we can avoid doing imports until\n",
      "/home/lucas/miniconda3/lib/python3.7/site-packages/ipykernel_launcher.py:3: DeprecationWarning: firefox_profile has been deprecated, please pass in an Options object\n",
      "  This is separate from the ipykernel package so we can avoid doing imports until\n"
     ]
    },
    {
     "name": "stdout",
     "output_type": "stream",
     "text": [
      "Message: Unable to locate element: /html/body/main/div[2]/div/div[7]/div[1]/div[2]/button[2]\n",
      "Stacktrace:\n",
      "WebDriverError@chrome://remote/content/shared/webdriver/Errors.jsm:181:5\n",
      "NoSuchElementError@chrome://remote/content/shared/webdriver/Errors.jsm:393:5\n",
      "element.find/</<@chrome://remote/content/marionette/element.js:305:16\n",
      "\n"
     ]
    },
    {
     "name": "stderr",
     "output_type": "stream",
     "text": [
      "/home/lucas/miniconda3/lib/python3.7/site-packages/ipykernel_launcher.py:3: DeprecationWarning: firefox_profile has been deprecated, please pass in an Options object\n",
      "  This is separate from the ipykernel package so we can avoid doing imports until\n"
     ]
    },
    {
     "name": "stdout",
     "output_type": "stream",
     "text": [
      "Message: Unable to locate element: /html/body/main/div[2]/div/div[7]/div[1]/div[2]/button[2]\n",
      "Stacktrace:\n",
      "WebDriverError@chrome://remote/content/shared/webdriver/Errors.jsm:181:5\n",
      "NoSuchElementError@chrome://remote/content/shared/webdriver/Errors.jsm:393:5\n",
      "element.find/</<@chrome://remote/content/marionette/element.js:305:16\n",
      "\n"
     ]
    },
    {
     "name": "stderr",
     "output_type": "stream",
     "text": [
      "/home/lucas/miniconda3/lib/python3.7/site-packages/ipykernel_launcher.py:3: DeprecationWarning: firefox_profile has been deprecated, please pass in an Options object\n",
      "  This is separate from the ipykernel package so we can avoid doing imports until\n"
     ]
    },
    {
     "name": "stdout",
     "output_type": "stream",
     "text": [
      "Message: Unable to locate element: /html/body/main/div[2]/div/div[7]/div[1]/div[2]/button[2]\n",
      "Stacktrace:\n",
      "WebDriverError@chrome://remote/content/shared/webdriver/Errors.jsm:181:5\n",
      "NoSuchElementError@chrome://remote/content/shared/webdriver/Errors.jsm:393:5\n",
      "element.find/</<@chrome://remote/content/marionette/element.js:305:16\n",
      "\n"
     ]
    },
    {
     "name": "stderr",
     "output_type": "stream",
     "text": [
      "/home/lucas/miniconda3/lib/python3.7/site-packages/ipykernel_launcher.py:3: DeprecationWarning: firefox_profile has been deprecated, please pass in an Options object\n",
      "  This is separate from the ipykernel package so we can avoid doing imports until\n"
     ]
    },
    {
     "name": "stdout",
     "output_type": "stream",
     "text": [
      "Message: Unable to locate element: /html/body/main/div[2]/div/div[7]/div[1]/div[2]/button[2]\n",
      "Stacktrace:\n",
      "WebDriverError@chrome://remote/content/shared/webdriver/Errors.jsm:181:5\n",
      "NoSuchElementError@chrome://remote/content/shared/webdriver/Errors.jsm:393:5\n",
      "element.find/</<@chrome://remote/content/marionette/element.js:305:16\n",
      "\n"
     ]
    },
    {
     "name": "stderr",
     "output_type": "stream",
     "text": [
      "/home/lucas/miniconda3/lib/python3.7/site-packages/ipykernel_launcher.py:3: DeprecationWarning: firefox_profile has been deprecated, please pass in an Options object\n",
      "  This is separate from the ipykernel package so we can avoid doing imports until\n",
      "/home/lucas/miniconda3/lib/python3.7/site-packages/ipykernel_launcher.py:3: DeprecationWarning: firefox_profile has been deprecated, please pass in an Options object\n",
      "  This is separate from the ipykernel package so we can avoid doing imports until\n"
     ]
    },
    {
     "name": "stdout",
     "output_type": "stream",
     "text": [
      "Message: Unable to locate element: /html/body/main/div[2]/div/div[7]/div[1]/div[2]/button[2]\n",
      "Stacktrace:\n",
      "WebDriverError@chrome://remote/content/shared/webdriver/Errors.jsm:181:5\n",
      "NoSuchElementError@chrome://remote/content/shared/webdriver/Errors.jsm:393:5\n",
      "element.find/</<@chrome://remote/content/marionette/element.js:305:16\n",
      "\n"
     ]
    },
    {
     "name": "stderr",
     "output_type": "stream",
     "text": [
      "/home/lucas/miniconda3/lib/python3.7/site-packages/ipykernel_launcher.py:3: DeprecationWarning: firefox_profile has been deprecated, please pass in an Options object\n",
      "  This is separate from the ipykernel package so we can avoid doing imports until\n"
     ]
    },
    {
     "name": "stdout",
     "output_type": "stream",
     "text": [
      "Message: Unable to locate element: /html/body/main/div[2]/div/div[7]/div[1]/div[2]/button[2]\n",
      "Stacktrace:\n",
      "WebDriverError@chrome://remote/content/shared/webdriver/Errors.jsm:181:5\n",
      "NoSuchElementError@chrome://remote/content/shared/webdriver/Errors.jsm:393:5\n",
      "element.find/</<@chrome://remote/content/marionette/element.js:305:16\n",
      "\n"
     ]
    },
    {
     "name": "stderr",
     "output_type": "stream",
     "text": [
      "/home/lucas/miniconda3/lib/python3.7/site-packages/ipykernel_launcher.py:3: DeprecationWarning: firefox_profile has been deprecated, please pass in an Options object\n",
      "  This is separate from the ipykernel package so we can avoid doing imports until\n"
     ]
    },
    {
     "name": "stdout",
     "output_type": "stream",
     "text": [
      "Message: Unable to locate element: /html/body/main/div[2]/div/div[7]/div[1]/div[2]/button[2]\n",
      "Stacktrace:\n",
      "WebDriverError@chrome://remote/content/shared/webdriver/Errors.jsm:181:5\n",
      "NoSuchElementError@chrome://remote/content/shared/webdriver/Errors.jsm:393:5\n",
      "element.find/</<@chrome://remote/content/marionette/element.js:305:16\n",
      "\n"
     ]
    },
    {
     "name": "stderr",
     "output_type": "stream",
     "text": [
      "/home/lucas/miniconda3/lib/python3.7/site-packages/ipykernel_launcher.py:3: DeprecationWarning: firefox_profile has been deprecated, please pass in an Options object\n",
      "  This is separate from the ipykernel package so we can avoid doing imports until\n"
     ]
    },
    {
     "name": "stdout",
     "output_type": "stream",
     "text": [
      "Message: Unable to locate element: /html/body/main/div[2]/div/div[7]/div[1]/div[2]/button[2]\n",
      "Stacktrace:\n",
      "WebDriverError@chrome://remote/content/shared/webdriver/Errors.jsm:181:5\n",
      "NoSuchElementError@chrome://remote/content/shared/webdriver/Errors.jsm:393:5\n",
      "element.find/</<@chrome://remote/content/marionette/element.js:305:16\n",
      "\n"
     ]
    },
    {
     "name": "stderr",
     "output_type": "stream",
     "text": [
      "/home/lucas/miniconda3/lib/python3.7/site-packages/ipykernel_launcher.py:3: DeprecationWarning: firefox_profile has been deprecated, please pass in an Options object\n",
      "  This is separate from the ipykernel package so we can avoid doing imports until\n",
      "/home/lucas/miniconda3/lib/python3.7/site-packages/ipykernel_launcher.py:3: DeprecationWarning: firefox_profile has been deprecated, please pass in an Options object\n",
      "  This is separate from the ipykernel package so we can avoid doing imports until\n"
     ]
    },
    {
     "name": "stdout",
     "output_type": "stream",
     "text": [
      "Message: Unable to locate element: /html/body/main/div[2]/div/div[7]/div[1]/div[2]/button[2]\n",
      "Stacktrace:\n",
      "WebDriverError@chrome://remote/content/shared/webdriver/Errors.jsm:181:5\n",
      "NoSuchElementError@chrome://remote/content/shared/webdriver/Errors.jsm:393:5\n",
      "element.find/</<@chrome://remote/content/marionette/element.js:305:16\n",
      "\n"
     ]
    },
    {
     "name": "stderr",
     "output_type": "stream",
     "text": [
      "/home/lucas/miniconda3/lib/python3.7/site-packages/ipykernel_launcher.py:3: DeprecationWarning: firefox_profile has been deprecated, please pass in an Options object\n",
      "  This is separate from the ipykernel package so we can avoid doing imports until\n"
     ]
    },
    {
     "name": "stdout",
     "output_type": "stream",
     "text": [
      "Message: Unable to locate element: /html/body/main/div[2]/div/div[7]/div[1]/div[2]/button[2]\n",
      "Stacktrace:\n",
      "WebDriverError@chrome://remote/content/shared/webdriver/Errors.jsm:181:5\n",
      "NoSuchElementError@chrome://remote/content/shared/webdriver/Errors.jsm:393:5\n",
      "element.find/</<@chrome://remote/content/marionette/element.js:305:16\n",
      "\n",
      "Message: Unable to locate element: /html/body/main/div[2]/div/div[7]/div[1]/div[2]/button[2]\n",
      "Stacktrace:\n",
      "WebDriverError@chrome://remote/content/shared/webdriver/Errors.jsm:181:5\n",
      "NoSuchElementError@chrome://remote/content/shared/webdriver/Errors.jsm:393:5\n",
      "element.find/</<@chrome://remote/content/marionette/element.js:305:16\n"
     ]
    },
    {
     "name": "stderr",
     "output_type": "stream",
     "text": [
      "/home/lucas/miniconda3/lib/python3.7/site-packages/ipykernel_launcher.py:3: DeprecationWarning: firefox_profile has been deprecated, please pass in an Options object\n",
      "  This is separate from the ipykernel package so we can avoid doing imports until\n"
     ]
    },
    {
     "name": "stdout",
     "output_type": "stream",
     "text": [
      "\n"
     ]
    },
    {
     "name": "stderr",
     "output_type": "stream",
     "text": [
      "/home/lucas/miniconda3/lib/python3.7/site-packages/ipykernel_launcher.py:3: DeprecationWarning: firefox_profile has been deprecated, please pass in an Options object\n",
      "  This is separate from the ipykernel package so we can avoid doing imports until\n",
      "/home/lucas/miniconda3/lib/python3.7/site-packages/ipykernel_launcher.py:3: DeprecationWarning: firefox_profile has been deprecated, please pass in an Options object\n",
      "  This is separate from the ipykernel package so we can avoid doing imports until\n"
     ]
    },
    {
     "name": "stdout",
     "output_type": "stream",
     "text": [
      "Message: Unable to locate element: /html/body/main/div[2]/div/div[7]/div[1]/div[2]/button[2]\n",
      "Stacktrace:\n",
      "WebDriverError@chrome://remote/content/shared/webdriver/Errors.jsm:181:5\n",
      "NoSuchElementError@chrome://remote/content/shared/webdriver/Errors.jsm:393:5\n",
      "element.find/</<@chrome://remote/content/marionette/element.js:305:16\n",
      "\n"
     ]
    },
    {
     "name": "stderr",
     "output_type": "stream",
     "text": [
      "/home/lucas/miniconda3/lib/python3.7/site-packages/ipykernel_launcher.py:3: DeprecationWarning: firefox_profile has been deprecated, please pass in an Options object\n",
      "  This is separate from the ipykernel package so we can avoid doing imports until\n"
     ]
    },
    {
     "name": "stdout",
     "output_type": "stream",
     "text": [
      "Message: Unable to locate element: /html/body/main/div[2]/div/div[7]/div[1]/div[2]/button[2]\n",
      "Stacktrace:\n",
      "WebDriverError@chrome://remote/content/shared/webdriver/Errors.jsm:181:5\n",
      "NoSuchElementError@chrome://remote/content/shared/webdriver/Errors.jsm:393:5\n",
      "element.find/</<@chrome://remote/content/marionette/element.js:305:16\n",
      "\n"
     ]
    },
    {
     "name": "stderr",
     "output_type": "stream",
     "text": [
      "/home/lucas/miniconda3/lib/python3.7/site-packages/ipykernel_launcher.py:3: DeprecationWarning: firefox_profile has been deprecated, please pass in an Options object\n",
      "  This is separate from the ipykernel package so we can avoid doing imports until\n"
     ]
    },
    {
     "name": "stdout",
     "output_type": "stream",
     "text": [
      "Message: Unable to locate element: /html/body/main/div[2]/div/div[7]/div[1]/div[2]/button[2]\n",
      "Stacktrace:\n",
      "WebDriverError@chrome://remote/content/shared/webdriver/Errors.jsm:181:5\n",
      "NoSuchElementError@chrome://remote/content/shared/webdriver/Errors.jsm:393:5\n",
      "element.find/</<@chrome://remote/content/marionette/element.js:305:16\n",
      "\n"
     ]
    },
    {
     "name": "stderr",
     "output_type": "stream",
     "text": [
      "/home/lucas/miniconda3/lib/python3.7/site-packages/ipykernel_launcher.py:3: DeprecationWarning: firefox_profile has been deprecated, please pass in an Options object\n",
      "  This is separate from the ipykernel package so we can avoid doing imports until\n"
     ]
    },
    {
     "name": "stdout",
     "output_type": "stream",
     "text": [
      "Message: Unable to locate element: /html/body/main/div[2]/div/div[7]/div[1]/div[2]/button[2]\n",
      "Stacktrace:\n",
      "WebDriverError@chrome://remote/content/shared/webdriver/Errors.jsm:181:5\n",
      "NoSuchElementError@chrome://remote/content/shared/webdriver/Errors.jsm:393:5\n",
      "element.find/</<@chrome://remote/content/marionette/element.js:305:16\n",
      "\n"
     ]
    },
    {
     "name": "stderr",
     "output_type": "stream",
     "text": [
      "/home/lucas/miniconda3/lib/python3.7/site-packages/ipykernel_launcher.py:3: DeprecationWarning: firefox_profile has been deprecated, please pass in an Options object\n",
      "  This is separate from the ipykernel package so we can avoid doing imports until\n",
      "/home/lucas/miniconda3/lib/python3.7/site-packages/ipykernel_launcher.py:3: DeprecationWarning: firefox_profile has been deprecated, please pass in an Options object\n",
      "  This is separate from the ipykernel package so we can avoid doing imports until\n"
     ]
    },
    {
     "name": "stdout",
     "output_type": "stream",
     "text": [
      "Message: Unable to locate element: /html/body/main/div[2]/div/div[7]/div[1]/div[2]/button[2]\n",
      "Stacktrace:\n",
      "WebDriverError@chrome://remote/content/shared/webdriver/Errors.jsm:181:5\n",
      "NoSuchElementError@chrome://remote/content/shared/webdriver/Errors.jsm:393:5\n",
      "element.find/</<@chrome://remote/content/marionette/element.js:305:16\n",
      "\n"
     ]
    },
    {
     "name": "stderr",
     "output_type": "stream",
     "text": [
      "/home/lucas/miniconda3/lib/python3.7/site-packages/ipykernel_launcher.py:3: DeprecationWarning: firefox_profile has been deprecated, please pass in an Options object\n",
      "  This is separate from the ipykernel package so we can avoid doing imports until\n",
      "/home/lucas/miniconda3/lib/python3.7/site-packages/ipykernel_launcher.py:3: DeprecationWarning: firefox_profile has been deprecated, please pass in an Options object\n",
      "  This is separate from the ipykernel package so we can avoid doing imports until\n"
     ]
    },
    {
     "name": "stdout",
     "output_type": "stream",
     "text": [
      "Message: Unable to locate element: /html/body/main/div[2]/div/div[7]/div[1]/div[2]/button[2]\n",
      "Stacktrace:\n",
      "WebDriverError@chrome://remote/content/shared/webdriver/Errors.jsm:181:5\n",
      "NoSuchElementError@chrome://remote/content/shared/webdriver/Errors.jsm:393:5\n",
      "element.find/</<@chrome://remote/content/marionette/element.js:305:16\n",
      "\n"
     ]
    },
    {
     "name": "stderr",
     "output_type": "stream",
     "text": [
      "/home/lucas/miniconda3/lib/python3.7/site-packages/ipykernel_launcher.py:3: DeprecationWarning: firefox_profile has been deprecated, please pass in an Options object\n",
      "  This is separate from the ipykernel package so we can avoid doing imports until\n"
     ]
    },
    {
     "name": "stdout",
     "output_type": "stream",
     "text": [
      "Message: Unable to locate element: /html/body/main/div[2]/div/div[7]/div[1]/div[2]/button[2]\n",
      "Stacktrace:\n",
      "WebDriverError@chrome://remote/content/shared/webdriver/Errors.jsm:181:5\n",
      "NoSuchElementError@chrome://remote/content/shared/webdriver/Errors.jsm:393:5\n",
      "element.find/</<@chrome://remote/content/marionette/element.js:305:16\n",
      "\n"
     ]
    },
    {
     "name": "stderr",
     "output_type": "stream",
     "text": [
      "/home/lucas/miniconda3/lib/python3.7/site-packages/ipykernel_launcher.py:3: DeprecationWarning: firefox_profile has been deprecated, please pass in an Options object\n",
      "  This is separate from the ipykernel package so we can avoid doing imports until\n"
     ]
    },
    {
     "name": "stdout",
     "output_type": "stream",
     "text": [
      "Message: Unable to locate element: /html/body/main/div[2]/div/div[7]/div[1]/div[2]/button[2]\n",
      "Stacktrace:\n",
      "WebDriverError@chrome://remote/content/shared/webdriver/Errors.jsm:181:5\n",
      "NoSuchElementError@chrome://remote/content/shared/webdriver/Errors.jsm:393:5\n",
      "element.find/</<@chrome://remote/content/marionette/element.js:305:16\n",
      "\n"
     ]
    },
    {
     "name": "stderr",
     "output_type": "stream",
     "text": [
      "/home/lucas/miniconda3/lib/python3.7/site-packages/ipykernel_launcher.py:3: DeprecationWarning: firefox_profile has been deprecated, please pass in an Options object\n",
      "  This is separate from the ipykernel package so we can avoid doing imports until\n"
     ]
    },
    {
     "name": "stdout",
     "output_type": "stream",
     "text": [
      "Message: Unable to locate element: /html/body/main/div[2]/div/div[7]/div[1]/div[2]/button[2]\n",
      "Stacktrace:\n",
      "WebDriverError@chrome://remote/content/shared/webdriver/Errors.jsm:181:5\n",
      "NoSuchElementError@chrome://remote/content/shared/webdriver/Errors.jsm:393:5\n",
      "element.find/</<@chrome://remote/content/marionette/element.js:305:16\n",
      "\n",
      "Message: Unable to locate element: /html/body/main/div[2]/div/div[7]/div[1]/div[2]/button[2]\n",
      "Stacktrace:\n",
      "WebDriverError@chrome://remote/content/shared/webdriver/Errors.jsm:181:5\n",
      "NoSuchElementError@chrome://remote/content/shared/webdriver/Errors.jsm:393:5\n",
      "element.find/</<@chrome://remote/content/marionette/element.js:305:16\n",
      "\n"
     ]
    },
    {
     "name": "stderr",
     "output_type": "stream",
     "text": [
      "/home/lucas/miniconda3/lib/python3.7/site-packages/ipykernel_launcher.py:3: DeprecationWarning: firefox_profile has been deprecated, please pass in an Options object\n",
      "  This is separate from the ipykernel package so we can avoid doing imports until\n",
      "/home/lucas/miniconda3/lib/python3.7/site-packages/ipykernel_launcher.py:3: DeprecationWarning: firefox_profile has been deprecated, please pass in an Options object\n",
      "  This is separate from the ipykernel package so we can avoid doing imports until\n",
      "/home/lucas/miniconda3/lib/python3.7/site-packages/ipykernel_launcher.py:3: DeprecationWarning: firefox_profile has been deprecated, please pass in an Options object\n",
      "  This is separate from the ipykernel package so we can avoid doing imports until\n"
     ]
    },
    {
     "name": "stdout",
     "output_type": "stream",
     "text": [
      "Message: Unable to locate element: /html/body/main/div[2]/div/div[7]/div[1]/div[2]/button[2]\n",
      "Stacktrace:\n",
      "WebDriverError@chrome://remote/content/shared/webdriver/Errors.jsm:181:5\n",
      "NoSuchElementError@chrome://remote/content/shared/webdriver/Errors.jsm:393:5\n",
      "element.find/</<@chrome://remote/content/marionette/element.js:305:16\n",
      "\n"
     ]
    },
    {
     "name": "stderr",
     "output_type": "stream",
     "text": [
      "/home/lucas/miniconda3/lib/python3.7/site-packages/ipykernel_launcher.py:3: DeprecationWarning: firefox_profile has been deprecated, please pass in an Options object\n",
      "  This is separate from the ipykernel package so we can avoid doing imports until\n"
     ]
    },
    {
     "name": "stdout",
     "output_type": "stream",
     "text": [
      "Message: Unable to locate element: /html/body/main/div[2]/div/div[7]/div[1]/div[2]/button[2]\n",
      "Stacktrace:\n",
      "WebDriverError@chrome://remote/content/shared/webdriver/Errors.jsm:181:5\n",
      "NoSuchElementError@chrome://remote/content/shared/webdriver/Errors.jsm:393:5\n",
      "element.find/</<@chrome://remote/content/marionette/element.js:305:16\n",
      "\n"
     ]
    },
    {
     "name": "stderr",
     "output_type": "stream",
     "text": [
      "/home/lucas/miniconda3/lib/python3.7/site-packages/ipykernel_launcher.py:3: DeprecationWarning: firefox_profile has been deprecated, please pass in an Options object\n",
      "  This is separate from the ipykernel package so we can avoid doing imports until\n",
      "/home/lucas/miniconda3/lib/python3.7/site-packages/ipykernel_launcher.py:3: DeprecationWarning: firefox_profile has been deprecated, please pass in an Options object\n",
      "  This is separate from the ipykernel package so we can avoid doing imports until\n",
      "/home/lucas/miniconda3/lib/python3.7/site-packages/ipykernel_launcher.py:3: DeprecationWarning: firefox_profile has been deprecated, please pass in an Options object\n",
      "  This is separate from the ipykernel package so we can avoid doing imports until\n",
      "/home/lucas/miniconda3/lib/python3.7/site-packages/ipykernel_launcher.py:3: DeprecationWarning: firefox_profile has been deprecated, please pass in an Options object\n",
      "  This is separate from the ipykernel package so we can avoid doing imports until\n",
      "/home/lucas/miniconda3/lib/python3.7/site-packages/ipykernel_launcher.py:3: DeprecationWarning: firefox_profile has been deprecated, please pass in an Options object\n",
      "  This is separate from the ipykernel package so we can avoid doing imports until\n",
      "/home/lucas/miniconda3/lib/python3.7/site-packages/ipykernel_launcher.py:3: DeprecationWarning: firefox_profile has been deprecated, please pass in an Options object\n",
      "  This is separate from the ipykernel package so we can avoid doing imports until\n"
     ]
    },
    {
     "name": "stdout",
     "output_type": "stream",
     "text": [
      "Message: Unable to locate element: /html/body/main/div[2]/div/div[7]/div[1]/div[2]/button[2]\n",
      "Stacktrace:\n",
      "WebDriverError@chrome://remote/content/shared/webdriver/Errors.jsm:181:5\n",
      "NoSuchElementError@chrome://remote/content/shared/webdriver/Errors.jsm:393:5\n",
      "element.find/</<@chrome://remote/content/marionette/element.js:305:16\n",
      "\n",
      "Message: Unable to locate element: /html/body/main/div[2]/div/div[7]/div[1]/div[2]/button[2]\n",
      "Stacktrace:\n",
      "WebDriverError@chrome://remote/content/shared/webdriver/Errors.jsm:181:5\n",
      "NoSuchElementError@chrome://remote/content/shared/webdriver/Errors.jsm:393:5\n",
      "element.find/</<@chrome://remote/content/marionette/element.js:305:16\n",
      "\n",
      "Message: Unable to locate element: /html/body/main/div[2]/div/div[7]/div[1]/div[2]/button[2]\n",
      "Stacktrace:\n",
      "WebDriverError@chrome://remote/content/shared/webdriver/Errors.jsm:181:5\n",
      "NoSuchElementError@chrome://remote/content/shared/webdriver/Errors.jsm:393:5\n",
      "element.find/</<@chrome://remote/content/marionette/element.js:305:16\n",
      "\n"
     ]
    },
    {
     "name": "stderr",
     "output_type": "stream",
     "text": [
      "/home/lucas/miniconda3/lib/python3.7/site-packages/ipykernel_launcher.py:3: DeprecationWarning: firefox_profile has been deprecated, please pass in an Options object\n",
      "  This is separate from the ipykernel package so we can avoid doing imports until\n",
      "/home/lucas/miniconda3/lib/python3.7/site-packages/ipykernel_launcher.py:3: DeprecationWarning: firefox_profile has been deprecated, please pass in an Options object\n",
      "  This is separate from the ipykernel package so we can avoid doing imports until\n",
      "/home/lucas/miniconda3/lib/python3.7/site-packages/ipykernel_launcher.py:3: DeprecationWarning: firefox_profile has been deprecated, please pass in an Options object\n",
      "  This is separate from the ipykernel package so we can avoid doing imports until\n",
      "/home/lucas/miniconda3/lib/python3.7/site-packages/ipykernel_launcher.py:3: DeprecationWarning: firefox_profile has been deprecated, please pass in an Options object\n",
      "  This is separate from the ipykernel package so we can avoid doing imports until\n"
     ]
    },
    {
     "name": "stdout",
     "output_type": "stream",
     "text": [
      "Message: Unable to locate element: /html/body/main/div[2]/div/div[7]/div[1]/div[2]/button[2]\n",
      "Stacktrace:\n",
      "WebDriverError@chrome://remote/content/shared/webdriver/Errors.jsm:181:5\n",
      "NoSuchElementError@chrome://remote/content/shared/webdriver/Errors.jsm:393:5\n",
      "element.find/</<@chrome://remote/content/marionette/element.js:305:16\n",
      "\n"
     ]
    },
    {
     "name": "stderr",
     "output_type": "stream",
     "text": [
      "/home/lucas/miniconda3/lib/python3.7/site-packages/ipykernel_launcher.py:3: DeprecationWarning: firefox_profile has been deprecated, please pass in an Options object\n",
      "  This is separate from the ipykernel package so we can avoid doing imports until\n"
     ]
    },
    {
     "name": "stdout",
     "output_type": "stream",
     "text": [
      "Message: Unable to locate element: /html/body/main/div[2]/div/div[7]/div[1]/div[2]/button[2]\n",
      "Stacktrace:\n",
      "WebDriverError@chrome://remote/content/shared/webdriver/Errors.jsm:181:5\n",
      "NoSuchElementError@chrome://remote/content/shared/webdriver/Errors.jsm:393:5\n",
      "element.find/</<@chrome://remote/content/marionette/element.js:305:16\n",
      "\n"
     ]
    },
    {
     "name": "stderr",
     "output_type": "stream",
     "text": [
      "/home/lucas/miniconda3/lib/python3.7/site-packages/ipykernel_launcher.py:3: DeprecationWarning: firefox_profile has been deprecated, please pass in an Options object\n",
      "  This is separate from the ipykernel package so we can avoid doing imports until\n"
     ]
    },
    {
     "name": "stdout",
     "output_type": "stream",
     "text": [
      "Message: Unable to locate element: /html/body/main/div[2]/div/div[7]/div[1]/div[2]/button[2]\n",
      "Stacktrace:\n",
      "WebDriverError@chrome://remote/content/shared/webdriver/Errors.jsm:181:5\n",
      "NoSuchElementError@chrome://remote/content/shared/webdriver/Errors.jsm:393:5\n",
      "element.find/</<@chrome://remote/content/marionette/element.js:305:16\n",
      "\n"
     ]
    },
    {
     "name": "stderr",
     "output_type": "stream",
     "text": [
      "/home/lucas/miniconda3/lib/python3.7/site-packages/ipykernel_launcher.py:3: DeprecationWarning: firefox_profile has been deprecated, please pass in an Options object\n",
      "  This is separate from the ipykernel package so we can avoid doing imports until\n",
      "/home/lucas/miniconda3/lib/python3.7/site-packages/ipykernel_launcher.py:3: DeprecationWarning: firefox_profile has been deprecated, please pass in an Options object\n",
      "  This is separate from the ipykernel package so we can avoid doing imports until\n"
     ]
    },
    {
     "name": "stdout",
     "output_type": "stream",
     "text": [
      "Message: Unable to locate element: /html/body/main/div[2]/div/div[7]/div[1]/div[2]/button[2]\n",
      "Stacktrace:\n",
      "WebDriverError@chrome://remote/content/shared/webdriver/Errors.jsm:181:5\n",
      "NoSuchElementError@chrome://remote/content/shared/webdriver/Errors.jsm:393:5\n",
      "element.find/</<@chrome://remote/content/marionette/element.js:305:16\n",
      "\n",
      "Message: Unable to locate element: /html/body/main/div[2]/div/div[7]/div[1]/div[2]/button[2]\n",
      "Stacktrace:\n",
      "WebDriverError@chrome://remote/content/shared/webdriver/Errors.jsm:181:5\n",
      "NoSuchElementError@chrome://remote/content/shared/webdriver/Errors.jsm:393:5\n",
      "element.find/</<@chrome://remote/content/marionette/element.js:305:16\n",
      "\n"
     ]
    },
    {
     "name": "stderr",
     "output_type": "stream",
     "text": [
      "/home/lucas/miniconda3/lib/python3.7/site-packages/ipykernel_launcher.py:3: DeprecationWarning: firefox_profile has been deprecated, please pass in an Options object\n",
      "  This is separate from the ipykernel package so we can avoid doing imports until\n",
      "/home/lucas/miniconda3/lib/python3.7/site-packages/ipykernel_launcher.py:3: DeprecationWarning: firefox_profile has been deprecated, please pass in an Options object\n",
      "  This is separate from the ipykernel package so we can avoid doing imports until\n"
     ]
    },
    {
     "name": "stdout",
     "output_type": "stream",
     "text": [
      "Message: Unable to locate element: /html/body/main/div[2]/div/div[7]/div[1]/div[2]/button[2]\n",
      "Stacktrace:\n",
      "WebDriverError@chrome://remote/content/shared/webdriver/Errors.jsm:181:5\n",
      "NoSuchElementError@chrome://remote/content/shared/webdriver/Errors.jsm:393:5\n",
      "element.find/</<@chrome://remote/content/marionette/element.js:305:16\n",
      "\n"
     ]
    },
    {
     "name": "stderr",
     "output_type": "stream",
     "text": [
      "/home/lucas/miniconda3/lib/python3.7/site-packages/ipykernel_launcher.py:3: DeprecationWarning: firefox_profile has been deprecated, please pass in an Options object\n",
      "  This is separate from the ipykernel package so we can avoid doing imports until\n"
     ]
    },
    {
     "name": "stdout",
     "output_type": "stream",
     "text": [
      "Message: Unable to locate element: /html/body/main/div[2]/div/div[7]/div[1]/div[2]/button[2]\n",
      "Stacktrace:\n",
      "WebDriverError@chrome://remote/content/shared/webdriver/Errors.jsm:181:5\n",
      "NoSuchElementError@chrome://remote/content/shared/webdriver/Errors.jsm:393:5\n",
      "element.find/</<@chrome://remote/content/marionette/element.js:305:16\n",
      "\n"
     ]
    },
    {
     "name": "stderr",
     "output_type": "stream",
     "text": [
      "/home/lucas/miniconda3/lib/python3.7/site-packages/ipykernel_launcher.py:3: DeprecationWarning: firefox_profile has been deprecated, please pass in an Options object\n",
      "  This is separate from the ipykernel package so we can avoid doing imports until\n"
     ]
    },
    {
     "name": "stdout",
     "output_type": "stream",
     "text": [
      "Message: Unable to locate element: /html/body/main/div[2]/div/div[7]/div[1]/div[2]/button[2]\n",
      "Stacktrace:\n",
      "WebDriverError@chrome://remote/content/shared/webdriver/Errors.jsm:181:5\n",
      "NoSuchElementError@chrome://remote/content/shared/webdriver/Errors.jsm:393:5\n",
      "element.find/</<@chrome://remote/content/marionette/element.js:305:16\n",
      "\n"
     ]
    },
    {
     "name": "stderr",
     "output_type": "stream",
     "text": [
      "/home/lucas/miniconda3/lib/python3.7/site-packages/ipykernel_launcher.py:3: DeprecationWarning: firefox_profile has been deprecated, please pass in an Options object\n",
      "  This is separate from the ipykernel package so we can avoid doing imports until\n",
      "/home/lucas/miniconda3/lib/python3.7/site-packages/ipykernel_launcher.py:3: DeprecationWarning: firefox_profile has been deprecated, please pass in an Options object\n",
      "  This is separate from the ipykernel package so we can avoid doing imports until\n",
      "/home/lucas/miniconda3/lib/python3.7/site-packages/ipykernel_launcher.py:3: DeprecationWarning: firefox_profile has been deprecated, please pass in an Options object\n",
      "  This is separate from the ipykernel package so we can avoid doing imports until\n"
     ]
    },
    {
     "name": "stdout",
     "output_type": "stream",
     "text": [
      "Message: Unable to locate element: /html/body/main/div[2]/div/div[7]/div[1]/div[2]/button[2]\n",
      "Stacktrace:\n",
      "WebDriverError@chrome://remote/content/shared/webdriver/Errors.jsm:181:5\n",
      "NoSuchElementError@chrome://remote/content/shared/webdriver/Errors.jsm:393:5\n",
      "element.find/</<@chrome://remote/content/marionette/element.js:305:16\n",
      "\n"
     ]
    },
    {
     "name": "stderr",
     "output_type": "stream",
     "text": [
      "/home/lucas/miniconda3/lib/python3.7/site-packages/ipykernel_launcher.py:3: DeprecationWarning: firefox_profile has been deprecated, please pass in an Options object\n",
      "  This is separate from the ipykernel package so we can avoid doing imports until\n"
     ]
    },
    {
     "name": "stdout",
     "output_type": "stream",
     "text": [
      "Message: Unable to locate element: /html/body/main/div[2]/div/div[7]/div[1]/div[2]/button[2]\n",
      "Stacktrace:\n",
      "WebDriverError@chrome://remote/content/shared/webdriver/Errors.jsm:181:5\n",
      "NoSuchElementError@chrome://remote/content/shared/webdriver/Errors.jsm:393:5\n",
      "element.find/</<@chrome://remote/content/marionette/element.js:305:16\n",
      "\n"
     ]
    },
    {
     "name": "stderr",
     "output_type": "stream",
     "text": [
      "/home/lucas/miniconda3/lib/python3.7/site-packages/ipykernel_launcher.py:3: DeprecationWarning: firefox_profile has been deprecated, please pass in an Options object\n",
      "  This is separate from the ipykernel package so we can avoid doing imports until\n",
      "/home/lucas/miniconda3/lib/python3.7/site-packages/ipykernel_launcher.py:3: DeprecationWarning: firefox_profile has been deprecated, please pass in an Options object\n",
      "  This is separate from the ipykernel package so we can avoid doing imports until\n",
      "/home/lucas/miniconda3/lib/python3.7/site-packages/ipykernel_launcher.py:3: DeprecationWarning: firefox_profile has been deprecated, please pass in an Options object\n",
      "  This is separate from the ipykernel package so we can avoid doing imports until\n"
     ]
    },
    {
     "name": "stdout",
     "output_type": "stream",
     "text": [
      "Message: Unable to locate element: /html/body/main/div[2]/div/div[7]/div[1]/div[2]/button[2]\n",
      "Stacktrace:\n",
      "WebDriverError@chrome://remote/content/shared/webdriver/Errors.jsm:181:5\n",
      "NoSuchElementError@chrome://remote/content/shared/webdriver/Errors.jsm:393:5\n",
      "element.find/</<@chrome://remote/content/marionette/element.js:305:16\n",
      "\n",
      "Message: Unable to locate element: /html/body/main/div[2]/div/div[7]/div[1]/div[2]/button[2]\n",
      "Stacktrace:\n",
      "WebDriverError@chrome://remote/content/shared/webdriver/Errors.jsm:181:5\n",
      "NoSuchElementError@chrome://remote/content/shared/webdriver/Errors.jsm:393:5\n",
      "element.find/</<@chrome://remote/content/marionette/element.js:305:16\n",
      "\n"
     ]
    },
    {
     "name": "stderr",
     "output_type": "stream",
     "text": [
      "/home/lucas/miniconda3/lib/python3.7/site-packages/ipykernel_launcher.py:3: DeprecationWarning: firefox_profile has been deprecated, please pass in an Options object\n",
      "  This is separate from the ipykernel package so we can avoid doing imports until\n",
      "/home/lucas/miniconda3/lib/python3.7/site-packages/ipykernel_launcher.py:3: DeprecationWarning: firefox_profile has been deprecated, please pass in an Options object\n",
      "  This is separate from the ipykernel package so we can avoid doing imports until\n"
     ]
    },
    {
     "name": "stdout",
     "output_type": "stream",
     "text": [
      "Message: Unable to locate element: /html/body/main/div[2]/div/div[7]/div[1]/div[2]/button[2]\n",
      "Stacktrace:\n",
      "WebDriverError@chrome://remote/content/shared/webdriver/Errors.jsm:181:5\n",
      "NoSuchElementError@chrome://remote/content/shared/webdriver/Errors.jsm:393:5\n",
      "element.find/</<@chrome://remote/content/marionette/element.js:305:16\n",
      "\n"
     ]
    },
    {
     "name": "stderr",
     "output_type": "stream",
     "text": [
      "/home/lucas/miniconda3/lib/python3.7/site-packages/ipykernel_launcher.py:3: DeprecationWarning: firefox_profile has been deprecated, please pass in an Options object\n",
      "  This is separate from the ipykernel package so we can avoid doing imports until\n",
      "/home/lucas/miniconda3/lib/python3.7/site-packages/ipykernel_launcher.py:3: DeprecationWarning: firefox_profile has been deprecated, please pass in an Options object\n",
      "  This is separate from the ipykernel package so we can avoid doing imports until\n"
     ]
    },
    {
     "name": "stdout",
     "output_type": "stream",
     "text": [
      "Message: Unable to locate element: /html/body/main/div[2]/div/div[7]/div[1]/div[2]/button[2]\n",
      "Stacktrace:\n",
      "WebDriverError@chrome://remote/content/shared/webdriver/Errors.jsm:181:5\n",
      "NoSuchElementError@chrome://remote/content/shared/webdriver/Errors.jsm:393:5\n",
      "element.find/</<@chrome://remote/content/marionette/element.js:305:16\n",
      "\n",
      "Message: Unable to locate element: /html/body/main/div[2]/div/div[7]/div[1]/div[2]/button[2]\n",
      "Stacktrace:\n",
      "WebDriverError@chrome://remote/content/shared/webdriver/Errors.jsm:181:5\n",
      "NoSuchElementError@chrome://remote/content/shared/webdriver/Errors.jsm:393:5\n",
      "element.find/</<@chrome://remote/content/marionette/element.js:305:16\n",
      "\n"
     ]
    },
    {
     "name": "stderr",
     "output_type": "stream",
     "text": [
      "/home/lucas/miniconda3/lib/python3.7/site-packages/ipykernel_launcher.py:3: DeprecationWarning: firefox_profile has been deprecated, please pass in an Options object\n",
      "  This is separate from the ipykernel package so we can avoid doing imports until\n",
      "/home/lucas/miniconda3/lib/python3.7/site-packages/ipykernel_launcher.py:3: DeprecationWarning: firefox_profile has been deprecated, please pass in an Options object\n",
      "  This is separate from the ipykernel package so we can avoid doing imports until\n"
     ]
    },
    {
     "name": "stdout",
     "output_type": "stream",
     "text": [
      "Message: Unable to locate element: /html/body/main/div[2]/div/div[7]/div[1]/div[2]/button[2]\n",
      "Stacktrace:\n",
      "WebDriverError@chrome://remote/content/shared/webdriver/Errors.jsm:181:5\n",
      "NoSuchElementError@chrome://remote/content/shared/webdriver/Errors.jsm:393:5\n",
      "element.find/</<@chrome://remote/content/marionette/element.js:305:16\n",
      "\n"
     ]
    },
    {
     "name": "stderr",
     "output_type": "stream",
     "text": [
      "/home/lucas/miniconda3/lib/python3.7/site-packages/ipykernel_launcher.py:3: DeprecationWarning: firefox_profile has been deprecated, please pass in an Options object\n",
      "  This is separate from the ipykernel package so we can avoid doing imports until\n",
      "/home/lucas/miniconda3/lib/python3.7/site-packages/ipykernel_launcher.py:3: DeprecationWarning: firefox_profile has been deprecated, please pass in an Options object\n",
      "  This is separate from the ipykernel package so we can avoid doing imports until\n",
      "/home/lucas/miniconda3/lib/python3.7/site-packages/ipykernel_launcher.py:3: DeprecationWarning: firefox_profile has been deprecated, please pass in an Options object\n",
      "  This is separate from the ipykernel package so we can avoid doing imports until\n"
     ]
    },
    {
     "name": "stdout",
     "output_type": "stream",
     "text": [
      "Message: Unable to locate element: /html/body/main/div[2]/div/div[7]/div[1]/div[2]/button[2]\n",
      "Stacktrace:\n",
      "WebDriverError@chrome://remote/content/shared/webdriver/Errors.jsm:181:5\n",
      "NoSuchElementError@chrome://remote/content/shared/webdriver/Errors.jsm:393:5\n",
      "element.find/</<@chrome://remote/content/marionette/element.js:305:16\n",
      "\n"
     ]
    },
    {
     "name": "stderr",
     "output_type": "stream",
     "text": [
      "/home/lucas/miniconda3/lib/python3.7/site-packages/ipykernel_launcher.py:3: DeprecationWarning: firefox_profile has been deprecated, please pass in an Options object\n",
      "  This is separate from the ipykernel package so we can avoid doing imports until\n"
     ]
    },
    {
     "name": "stdout",
     "output_type": "stream",
     "text": [
      "Message: Unable to locate element: /html/body/main/div[2]/div/div[7]/div[1]/div[2]/button[2]\n",
      "Stacktrace:\n",
      "WebDriverError@chrome://remote/content/shared/webdriver/Errors.jsm:181:5\n",
      "NoSuchElementError@chrome://remote/content/shared/webdriver/Errors.jsm:393:5\n",
      "element.find/</<@chrome://remote/content/marionette/element.js:305:16\n",
      "\n",
      "Message: Unable to locate element: /html/body/main/div[2]/div/div[7]/div[1]/div[2]/button[2]\n",
      "Stacktrace:\n",
      "WebDriverError@chrome://remote/content/shared/webdriver/Errors.jsm:181:5\n",
      "NoSuchElementError@chrome://remote/content/shared/webdriver/Errors.jsm:393:5\n",
      "element.find/</<@chrome://remote/content/marionette/element.js:305:16\n",
      "\n"
     ]
    },
    {
     "name": "stderr",
     "output_type": "stream",
     "text": [
      "/home/lucas/miniconda3/lib/python3.7/site-packages/ipykernel_launcher.py:3: DeprecationWarning: firefox_profile has been deprecated, please pass in an Options object\n",
      "  This is separate from the ipykernel package so we can avoid doing imports until\n",
      "/home/lucas/miniconda3/lib/python3.7/site-packages/ipykernel_launcher.py:3: DeprecationWarning: firefox_profile has been deprecated, please pass in an Options object\n",
      "  This is separate from the ipykernel package so we can avoid doing imports until\n"
     ]
    },
    {
     "name": "stdout",
     "output_type": "stream",
     "text": [
      "Message: Unable to locate element: /html/body/main/div[2]/div/div[7]/div[1]/div[2]/button[2]\n",
      "Stacktrace:\n",
      "WebDriverError@chrome://remote/content/shared/webdriver/Errors.jsm:181:5\n",
      "NoSuchElementError@chrome://remote/content/shared/webdriver/Errors.jsm:393:5\n",
      "element.find/</<@chrome://remote/content/marionette/element.js:305:16\n",
      "\n"
     ]
    },
    {
     "name": "stderr",
     "output_type": "stream",
     "text": [
      "/home/lucas/miniconda3/lib/python3.7/site-packages/ipykernel_launcher.py:3: DeprecationWarning: firefox_profile has been deprecated, please pass in an Options object\n",
      "  This is separate from the ipykernel package so we can avoid doing imports until\n"
     ]
    },
    {
     "name": "stdout",
     "output_type": "stream",
     "text": [
      "Message: Unable to locate element: /html/body/main/div[2]/div/div[7]/div[1]/div[2]/button[2]\n",
      "Stacktrace:\n",
      "WebDriverError@chrome://remote/content/shared/webdriver/Errors.jsm:181:5\n",
      "NoSuchElementError@chrome://remote/content/shared/webdriver/Errors.jsm:393:5\n",
      "element.find/</<@chrome://remote/content/marionette/element.js:305:16\n",
      "\n"
     ]
    },
    {
     "name": "stderr",
     "output_type": "stream",
     "text": [
      "/home/lucas/miniconda3/lib/python3.7/site-packages/ipykernel_launcher.py:3: DeprecationWarning: firefox_profile has been deprecated, please pass in an Options object\n",
      "  This is separate from the ipykernel package so we can avoid doing imports until\n"
     ]
    },
    {
     "name": "stdout",
     "output_type": "stream",
     "text": [
      "Message: Unable to locate element: /html/body/main/div[2]/div/div[7]/div[1]/div[2]/button[2]\n",
      "Stacktrace:\n",
      "WebDriverError@chrome://remote/content/shared/webdriver/Errors.jsm:181:5\n",
      "NoSuchElementError@chrome://remote/content/shared/webdriver/Errors.jsm:393:5\n",
      "element.find/</<@chrome://remote/content/marionette/element.js:305:16\n",
      "\n"
     ]
    },
    {
     "name": "stderr",
     "output_type": "stream",
     "text": [
      "/home/lucas/miniconda3/lib/python3.7/site-packages/ipykernel_launcher.py:3: DeprecationWarning: firefox_profile has been deprecated, please pass in an Options object\n",
      "  This is separate from the ipykernel package so we can avoid doing imports until\n"
     ]
    },
    {
     "name": "stdout",
     "output_type": "stream",
     "text": [
      "Message: Unable to locate element: /html/body/main/div[2]/div/div[7]/div[1]/div[2]/button[2]\n",
      "Stacktrace:\n",
      "WebDriverError@chrome://remote/content/shared/webdriver/Errors.jsm:181:5\n",
      "NoSuchElementError@chrome://remote/content/shared/webdriver/Errors.jsm:393:5\n",
      "element.find/</<@chrome://remote/content/marionette/element.js:305:16\n",
      "\n"
     ]
    },
    {
     "name": "stderr",
     "output_type": "stream",
     "text": [
      "/home/lucas/miniconda3/lib/python3.7/site-packages/ipykernel_launcher.py:3: DeprecationWarning: firefox_profile has been deprecated, please pass in an Options object\n",
      "  This is separate from the ipykernel package so we can avoid doing imports until\n",
      "/home/lucas/miniconda3/lib/python3.7/site-packages/ipykernel_launcher.py:3: DeprecationWarning: firefox_profile has been deprecated, please pass in an Options object\n",
      "  This is separate from the ipykernel package so we can avoid doing imports until\n"
     ]
    },
    {
     "name": "stdout",
     "output_type": "stream",
     "text": [
      "Message: Unable to locate element: /html/body/main/div[2]/div/div[7]/div[1]/div[2]/button[2]\n",
      "Stacktrace:\n",
      "WebDriverError@chrome://remote/content/shared/webdriver/Errors.jsm:181:5\n",
      "NoSuchElementError@chrome://remote/content/shared/webdriver/Errors.jsm:393:5\n",
      "element.find/</<@chrome://remote/content/marionette/element.js:305:16\n",
      "\n"
     ]
    },
    {
     "name": "stderr",
     "output_type": "stream",
     "text": [
      "/home/lucas/miniconda3/lib/python3.7/site-packages/ipykernel_launcher.py:3: DeprecationWarning: firefox_profile has been deprecated, please pass in an Options object\n",
      "  This is separate from the ipykernel package so we can avoid doing imports until\n"
     ]
    },
    {
     "name": "stdout",
     "output_type": "stream",
     "text": [
      "Message: Unable to locate element: /html/body/main/div[2]/div/div[7]/div[1]/div[2]/button[2]\n",
      "Stacktrace:\n",
      "WebDriverError@chrome://remote/content/shared/webdriver/Errors.jsm:181:5\n",
      "NoSuchElementError@chrome://remote/content/shared/webdriver/Errors.jsm:393:5\n",
      "element.find/</<@chrome://remote/content/marionette/element.js:305:16\n",
      "\n"
     ]
    },
    {
     "name": "stderr",
     "output_type": "stream",
     "text": [
      "/home/lucas/miniconda3/lib/python3.7/site-packages/ipykernel_launcher.py:3: DeprecationWarning: firefox_profile has been deprecated, please pass in an Options object\n",
      "  This is separate from the ipykernel package so we can avoid doing imports until\n"
     ]
    },
    {
     "name": "stdout",
     "output_type": "stream",
     "text": [
      "Message: Unable to locate element: /html/body/main/div[2]/div/div[7]/div[1]/div[2]/button[2]\n",
      "Stacktrace:\n",
      "WebDriverError@chrome://remote/content/shared/webdriver/Errors.jsm:181:5\n",
      "NoSuchElementError@chrome://remote/content/shared/webdriver/Errors.jsm:393:5\n",
      "element.find/</<@chrome://remote/content/marionette/element.js:305:16\n",
      "\n"
     ]
    },
    {
     "name": "stderr",
     "output_type": "stream",
     "text": [
      "/home/lucas/miniconda3/lib/python3.7/site-packages/ipykernel_launcher.py:3: DeprecationWarning: firefox_profile has been deprecated, please pass in an Options object\n",
      "  This is separate from the ipykernel package so we can avoid doing imports until\n"
     ]
    },
    {
     "name": "stdout",
     "output_type": "stream",
     "text": [
      "Message: Unable to locate element: /html/body/main/div[2]/div/div[7]/div[1]/div[2]/button[2]\n",
      "Stacktrace:\n",
      "WebDriverError@chrome://remote/content/shared/webdriver/Errors.jsm:181:5\n",
      "NoSuchElementError@chrome://remote/content/shared/webdriver/Errors.jsm:393:5\n",
      "element.find/</<@chrome://remote/content/marionette/element.js:305:16\n",
      "\n"
     ]
    },
    {
     "name": "stderr",
     "output_type": "stream",
     "text": [
      "/home/lucas/miniconda3/lib/python3.7/site-packages/ipykernel_launcher.py:3: DeprecationWarning: firefox_profile has been deprecated, please pass in an Options object\n",
      "  This is separate from the ipykernel package so we can avoid doing imports until\n"
     ]
    },
    {
     "name": "stdout",
     "output_type": "stream",
     "text": [
      "Message: Unable to locate element: /html/body/main/div[2]/div/div[7]/div[1]/div[2]/button[2]\n",
      "Stacktrace:\n",
      "WebDriverError@chrome://remote/content/shared/webdriver/Errors.jsm:181:5\n",
      "NoSuchElementError@chrome://remote/content/shared/webdriver/Errors.jsm:393:5\n",
      "element.find/</<@chrome://remote/content/marionette/element.js:305:16\n",
      "\n"
     ]
    },
    {
     "name": "stderr",
     "output_type": "stream",
     "text": [
      "/home/lucas/miniconda3/lib/python3.7/site-packages/ipykernel_launcher.py:3: DeprecationWarning: firefox_profile has been deprecated, please pass in an Options object\n",
      "  This is separate from the ipykernel package so we can avoid doing imports until\n",
      "/home/lucas/miniconda3/lib/python3.7/site-packages/ipykernel_launcher.py:3: DeprecationWarning: firefox_profile has been deprecated, please pass in an Options object\n",
      "  This is separate from the ipykernel package so we can avoid doing imports until\n"
     ]
    },
    {
     "name": "stdout",
     "output_type": "stream",
     "text": [
      "Message: Unable to locate element: /html/body/main/div[2]/div/div[7]/div[1]/div[2]/button[2]\n",
      "Stacktrace:\n",
      "WebDriverError@chrome://remote/content/shared/webdriver/Errors.jsm:181:5\n",
      "NoSuchElementError@chrome://remote/content/shared/webdriver/Errors.jsm:393:5\n",
      "element.find/</<@chrome://remote/content/marionette/element.js:305:16\n",
      "\n"
     ]
    },
    {
     "name": "stderr",
     "output_type": "stream",
     "text": [
      "/home/lucas/miniconda3/lib/python3.7/site-packages/ipykernel_launcher.py:3: DeprecationWarning: firefox_profile has been deprecated, please pass in an Options object\n",
      "  This is separate from the ipykernel package so we can avoid doing imports until\n"
     ]
    },
    {
     "name": "stdout",
     "output_type": "stream",
     "text": [
      "Message: Unable to locate element: /html/body/main/div[2]/div/div[7]/div[1]/div[2]/button[2]\n",
      "Stacktrace:\n",
      "WebDriverError@chrome://remote/content/shared/webdriver/Errors.jsm:181:5\n",
      "NoSuchElementError@chrome://remote/content/shared/webdriver/Errors.jsm:393:5\n",
      "element.find/</<@chrome://remote/content/marionette/element.js:305:16\n",
      "\n"
     ]
    },
    {
     "name": "stderr",
     "output_type": "stream",
     "text": [
      "/home/lucas/miniconda3/lib/python3.7/site-packages/ipykernel_launcher.py:3: DeprecationWarning: firefox_profile has been deprecated, please pass in an Options object\n",
      "  This is separate from the ipykernel package so we can avoid doing imports until\n"
     ]
    },
    {
     "name": "stdout",
     "output_type": "stream",
     "text": [
      "Message: Unable to locate element: /html/body/main/div[2]/div/div[7]/div[1]/div[2]/button[2]\n",
      "Stacktrace:\n",
      "WebDriverError@chrome://remote/content/shared/webdriver/Errors.jsm:181:5\n",
      "NoSuchElementError@chrome://remote/content/shared/webdriver/Errors.jsm:393:5\n",
      "element.find/</<@chrome://remote/content/marionette/element.js:305:16\n",
      "\n",
      "Message: Unable to locate element: /html/body/main/div[2]/div/div[7]/div[1]/div[2]/button[2]\n",
      "Stacktrace:\n",
      "WebDriverError@chrome://remote/content/shared/webdriver/Errors.jsm:181:5\n",
      "NoSuchElementError@chrome://remote/content/shared/webdriver/Errors.jsm:393:5\n",
      "element.find/</<@chrome://remote/content/marionette/element.js:305:16\n",
      "\n"
     ]
    },
    {
     "name": "stderr",
     "output_type": "stream",
     "text": [
      "/home/lucas/miniconda3/lib/python3.7/site-packages/ipykernel_launcher.py:3: DeprecationWarning: firefox_profile has been deprecated, please pass in an Options object\n",
      "  This is separate from the ipykernel package so we can avoid doing imports until\n"
     ]
    },
    {
     "name": "stdout",
     "output_type": "stream",
     "text": [
      "Message: Unable to locate element: /html/body/main/div[2]/div/div[7]/div[1]/div[2]/button[2]\n",
      "Stacktrace:\n",
      "WebDriverError@chrome://remote/content/shared/webdriver/Errors.jsm:181:5\n",
      "NoSuchElementError@chrome://remote/content/shared/webdriver/Errors.jsm:393:5\n",
      "element.find/</<@chrome://remote/content/marionette/element.js:305:16\n",
      "\n"
     ]
    },
    {
     "name": "stderr",
     "output_type": "stream",
     "text": [
      "/home/lucas/miniconda3/lib/python3.7/site-packages/ipykernel_launcher.py:3: DeprecationWarning: firefox_profile has been deprecated, please pass in an Options object\n",
      "  This is separate from the ipykernel package so we can avoid doing imports until\n",
      "/home/lucas/miniconda3/lib/python3.7/site-packages/ipykernel_launcher.py:3: DeprecationWarning: firefox_profile has been deprecated, please pass in an Options object\n",
      "  This is separate from the ipykernel package so we can avoid doing imports until\n",
      "/home/lucas/miniconda3/lib/python3.7/site-packages/ipykernel_launcher.py:3: DeprecationWarning: firefox_profile has been deprecated, please pass in an Options object\n",
      "  This is separate from the ipykernel package so we can avoid doing imports until\n"
     ]
    },
    {
     "name": "stdout",
     "output_type": "stream",
     "text": [
      "Message: Unable to locate element: /html/body/main/div[2]/div/div[7]/div[1]/div[2]/button[2]\n",
      "Stacktrace:\n",
      "WebDriverError@chrome://remote/content/shared/webdriver/Errors.jsm:181:5\n",
      "NoSuchElementError@chrome://remote/content/shared/webdriver/Errors.jsm:393:5\n",
      "element.find/</<@chrome://remote/content/marionette/element.js:305:16\n",
      "\n",
      "Message: Unable to locate element: /html/body/main/div[2]/div/div[7]/div[1]/div[2]/button[2]\n",
      "Stacktrace:\n",
      "WebDriverError@chrome://remote/content/shared/webdriver/Errors.jsm:181:5\n",
      "NoSuchElementError@chrome://remote/content/shared/webdriver/Errors.jsm:393:5\n",
      "element.find/</<@chrome://remote/content/marionette/element.js:305:16\n",
      "\n",
      "Message: Unable to locate element: /html/body/main/div[2]/div/div[7]/div[1]/div[2]/button[2]\n",
      "Stacktrace:\n",
      "WebDriverError@chrome://remote/content/shared/webdriver/Errors.jsm:181:5\n",
      "NoSuchElementError@chrome://remote/content/shared/webdriver/Errors.jsm:393:5\n",
      "element.find/</<@chrome://remote/content/marionette/element.js:305:16\n",
      "\n"
     ]
    },
    {
     "name": "stderr",
     "output_type": "stream",
     "text": [
      "/home/lucas/miniconda3/lib/python3.7/site-packages/ipykernel_launcher.py:3: DeprecationWarning: firefox_profile has been deprecated, please pass in an Options object\n",
      "  This is separate from the ipykernel package so we can avoid doing imports until\n",
      "/home/lucas/miniconda3/lib/python3.7/site-packages/ipykernel_launcher.py:3: DeprecationWarning: firefox_profile has been deprecated, please pass in an Options object\n",
      "  This is separate from the ipykernel package so we can avoid doing imports until\n",
      "/home/lucas/miniconda3/lib/python3.7/site-packages/ipykernel_launcher.py:3: DeprecationWarning: firefox_profile has been deprecated, please pass in an Options object\n",
      "  This is separate from the ipykernel package so we can avoid doing imports until\n"
     ]
    },
    {
     "name": "stdout",
     "output_type": "stream",
     "text": [
      "Message: Unable to locate element: /html/body/main/div[2]/div/div[7]/div[1]/div[2]/button[2]\n",
      "Stacktrace:\n",
      "WebDriverError@chrome://remote/content/shared/webdriver/Errors.jsm:181:5\n",
      "NoSuchElementError@chrome://remote/content/shared/webdriver/Errors.jsm:393:5\n",
      "element.find/</<@chrome://remote/content/marionette/element.js:305:16\n",
      "\n"
     ]
    },
    {
     "name": "stderr",
     "output_type": "stream",
     "text": [
      "/home/lucas/miniconda3/lib/python3.7/site-packages/ipykernel_launcher.py:3: DeprecationWarning: firefox_profile has been deprecated, please pass in an Options object\n",
      "  This is separate from the ipykernel package so we can avoid doing imports until\n"
     ]
    },
    {
     "name": "stdout",
     "output_type": "stream",
     "text": [
      "Message: Unable to locate element: /html/body/main/div[2]/div/div[7]/div[1]/div[2]/button[2]\n",
      "Stacktrace:\n",
      "WebDriverError@chrome://remote/content/shared/webdriver/Errors.jsm:181:5\n",
      "NoSuchElementError@chrome://remote/content/shared/webdriver/Errors.jsm:393:5\n",
      "element.find/</<@chrome://remote/content/marionette/element.js:305:16\n",
      "\n",
      "Message: Unable to locate element: /html/body/main/div[2]/div/div[7]/div[1]/div[2]/button[2]\n",
      "Stacktrace:\n",
      "WebDriverError@chrome://remote/content/shared/webdriver/Errors.jsm:181:5\n",
      "NoSuchElementError@chrome://remote/content/shared/webdriver/Errors.jsm:393:5\n",
      "element.find/</<@chrome://remote/content/marionette/element.js:305:16\n",
      "\n"
     ]
    },
    {
     "name": "stderr",
     "output_type": "stream",
     "text": [
      "/home/lucas/miniconda3/lib/python3.7/site-packages/ipykernel_launcher.py:3: DeprecationWarning: firefox_profile has been deprecated, please pass in an Options object\n",
      "  This is separate from the ipykernel package so we can avoid doing imports until\n",
      "/home/lucas/miniconda3/lib/python3.7/site-packages/ipykernel_launcher.py:3: DeprecationWarning: firefox_profile has been deprecated, please pass in an Options object\n",
      "  This is separate from the ipykernel package so we can avoid doing imports until\n",
      "/home/lucas/miniconda3/lib/python3.7/site-packages/ipykernel_launcher.py:3: DeprecationWarning: firefox_profile has been deprecated, please pass in an Options object\n",
      "  This is separate from the ipykernel package so we can avoid doing imports until\n"
     ]
    },
    {
     "name": "stdout",
     "output_type": "stream",
     "text": [
      "Message: Unable to locate element: /html/body/main/div[2]/div/div[7]/div[1]/div[2]/button[2]\n",
      "Stacktrace:\n",
      "WebDriverError@chrome://remote/content/shared/webdriver/Errors.jsm:181:5\n",
      "NoSuchElementError@chrome://remote/content/shared/webdriver/Errors.jsm:393:5\n",
      "element.find/</<@chrome://remote/content/marionette/element.js:305:16\n",
      "\n"
     ]
    },
    {
     "name": "stderr",
     "output_type": "stream",
     "text": [
      "/home/lucas/miniconda3/lib/python3.7/site-packages/ipykernel_launcher.py:3: DeprecationWarning: firefox_profile has been deprecated, please pass in an Options object\n",
      "  This is separate from the ipykernel package so we can avoid doing imports until\n"
     ]
    },
    {
     "name": "stdout",
     "output_type": "stream",
     "text": [
      "Message: Unable to locate element: /html/body/main/div[2]/div/div[7]/div[1]/div[2]/button[2]\n",
      "Stacktrace:\n",
      "WebDriverError@chrome://remote/content/shared/webdriver/Errors.jsm:181:5\n",
      "NoSuchElementError@chrome://remote/content/shared/webdriver/Errors.jsm:393:5\n",
      "element.find/</<@chrome://remote/content/marionette/element.js:305:16\n",
      "\n",
      "Message: Unable to locate element: /html/body/main/div[2]/div/div[7]/div[1]/div[2]/button[2]\n",
      "Stacktrace:\n",
      "WebDriverError@chrome://remote/content/shared/webdriver/Errors.jsm:181:5\n",
      "NoSuchElementError@chrome://remote/content/shared/webdriver/Errors.jsm:393:5\n",
      "element.find/</<@chrome://remote/content/marionette/element.js:305:16\n",
      "\n"
     ]
    },
    {
     "name": "stderr",
     "output_type": "stream",
     "text": [
      "/home/lucas/miniconda3/lib/python3.7/site-packages/ipykernel_launcher.py:3: DeprecationWarning: firefox_profile has been deprecated, please pass in an Options object\n",
      "  This is separate from the ipykernel package so we can avoid doing imports until\n",
      "/home/lucas/miniconda3/lib/python3.7/site-packages/ipykernel_launcher.py:3: DeprecationWarning: firefox_profile has been deprecated, please pass in an Options object\n",
      "  This is separate from the ipykernel package so we can avoid doing imports until\n"
     ]
    },
    {
     "name": "stdout",
     "output_type": "stream",
     "text": [
      "Message: Unable to locate element: /html/body/main/div[2]/div/div[7]/div[1]/div[2]/button[2]\n",
      "Stacktrace:\n",
      "WebDriverError@chrome://remote/content/shared/webdriver/Errors.jsm:181:5\n",
      "NoSuchElementError@chrome://remote/content/shared/webdriver/Errors.jsm:393:5\n",
      "element.find/</<@chrome://remote/content/marionette/element.js:305:16\n",
      "\n"
     ]
    },
    {
     "name": "stderr",
     "output_type": "stream",
     "text": [
      "/home/lucas/miniconda3/lib/python3.7/site-packages/ipykernel_launcher.py:3: DeprecationWarning: firefox_profile has been deprecated, please pass in an Options object\n",
      "  This is separate from the ipykernel package so we can avoid doing imports until\n"
     ]
    },
    {
     "name": "stdout",
     "output_type": "stream",
     "text": [
      "Message: Unable to locate element: /html/body/main/div[2]/div/div[7]/div[1]/div[2]/button[2]\n",
      "Stacktrace:\n",
      "WebDriverError@chrome://remote/content/shared/webdriver/Errors.jsm:181:5\n",
      "NoSuchElementError@chrome://remote/content/shared/webdriver/Errors.jsm:393:5\n",
      "element.find/</<@chrome://remote/content/marionette/element.js:305:16\n",
      "\n"
     ]
    },
    {
     "name": "stderr",
     "output_type": "stream",
     "text": [
      "/home/lucas/miniconda3/lib/python3.7/site-packages/ipykernel_launcher.py:3: DeprecationWarning: firefox_profile has been deprecated, please pass in an Options object\n",
      "  This is separate from the ipykernel package so we can avoid doing imports until\n"
     ]
    },
    {
     "name": "stdout",
     "output_type": "stream",
     "text": [
      "Message: Unable to locate element: /html/body/main/div[2]/div/div[7]/div[1]/div[2]/button[2]\n",
      "Stacktrace:\n",
      "WebDriverError@chrome://remote/content/shared/webdriver/Errors.jsm:181:5\n",
      "NoSuchElementError@chrome://remote/content/shared/webdriver/Errors.jsm:393:5\n",
      "element.find/</<@chrome://remote/content/marionette/element.js:305:16\n",
      "\n"
     ]
    },
    {
     "name": "stderr",
     "output_type": "stream",
     "text": [
      "/home/lucas/miniconda3/lib/python3.7/site-packages/ipykernel_launcher.py:3: DeprecationWarning: firefox_profile has been deprecated, please pass in an Options object\n",
      "  This is separate from the ipykernel package so we can avoid doing imports until\n"
     ]
    },
    {
     "name": "stdout",
     "output_type": "stream",
     "text": [
      "Message: Unable to locate element: /html/body/main/div[2]/div/div[7]/div[1]/div[2]/button[2]\n",
      "Stacktrace:\n",
      "WebDriverError@chrome://remote/content/shared/webdriver/Errors.jsm:181:5\n",
      "NoSuchElementError@chrome://remote/content/shared/webdriver/Errors.jsm:393:5\n",
      "element.find/</<@chrome://remote/content/marionette/element.js:305:16\n",
      "\n"
     ]
    },
    {
     "name": "stderr",
     "output_type": "stream",
     "text": [
      "/home/lucas/miniconda3/lib/python3.7/site-packages/ipykernel_launcher.py:3: DeprecationWarning: firefox_profile has been deprecated, please pass in an Options object\n",
      "  This is separate from the ipykernel package so we can avoid doing imports until\n"
     ]
    },
    {
     "name": "stdout",
     "output_type": "stream",
     "text": [
      "Message: Unable to locate element: /html/body/main/div[2]/div/div[7]/div[1]/div[2]/button[2]\n",
      "Stacktrace:\n",
      "WebDriverError@chrome://remote/content/shared/webdriver/Errors.jsm:181:5\n",
      "NoSuchElementError@chrome://remote/content/shared/webdriver/Errors.jsm:393:5\n",
      "element.find/</<@chrome://remote/content/marionette/element.js:305:16\n",
      "\n"
     ]
    },
    {
     "name": "stderr",
     "output_type": "stream",
     "text": [
      "/home/lucas/miniconda3/lib/python3.7/site-packages/ipykernel_launcher.py:3: DeprecationWarning: firefox_profile has been deprecated, please pass in an Options object\n",
      "  This is separate from the ipykernel package so we can avoid doing imports until\n",
      "/home/lucas/miniconda3/lib/python3.7/site-packages/ipykernel_launcher.py:3: DeprecationWarning: firefox_profile has been deprecated, please pass in an Options object\n",
      "  This is separate from the ipykernel package so we can avoid doing imports until\n"
     ]
    },
    {
     "name": "stdout",
     "output_type": "stream",
     "text": [
      "Message: Unable to locate element: /html/body/main/div[2]/div/div[7]/div[1]/div[2]/button[2]\n",
      "Stacktrace:\n",
      "WebDriverError@chrome://remote/content/shared/webdriver/Errors.jsm:181:5\n",
      "NoSuchElementError@chrome://remote/content/shared/webdriver/Errors.jsm:393:5\n",
      "element.find/</<@chrome://remote/content/marionette/element.js:305:16\n",
      "\n"
     ]
    },
    {
     "name": "stderr",
     "output_type": "stream",
     "text": [
      "/home/lucas/miniconda3/lib/python3.7/site-packages/ipykernel_launcher.py:3: DeprecationWarning: firefox_profile has been deprecated, please pass in an Options object\n",
      "  This is separate from the ipykernel package so we can avoid doing imports until\n"
     ]
    },
    {
     "name": "stdout",
     "output_type": "stream",
     "text": [
      "Message: Unable to locate element: /html/body/main/div[2]/div/div[7]/div[1]/div[2]/button[2]\n",
      "Stacktrace:\n",
      "WebDriverError@chrome://remote/content/shared/webdriver/Errors.jsm:181:5\n",
      "NoSuchElementError@chrome://remote/content/shared/webdriver/Errors.jsm:393:5\n",
      "element.find/</<@chrome://remote/content/marionette/element.js:305:16\n",
      "\n"
     ]
    },
    {
     "name": "stderr",
     "output_type": "stream",
     "text": [
      "/home/lucas/miniconda3/lib/python3.7/site-packages/ipykernel_launcher.py:3: DeprecationWarning: firefox_profile has been deprecated, please pass in an Options object\n",
      "  This is separate from the ipykernel package so we can avoid doing imports until\n",
      "/home/lucas/miniconda3/lib/python3.7/site-packages/ipykernel_launcher.py:3: DeprecationWarning: firefox_profile has been deprecated, please pass in an Options object\n",
      "  This is separate from the ipykernel package so we can avoid doing imports until\n"
     ]
    },
    {
     "name": "stdout",
     "output_type": "stream",
     "text": [
      "Message: Unable to locate element: /html/body/main/div[2]/div/div[7]/div[1]/div[2]/button[2]\n",
      "Stacktrace:\n",
      "WebDriverError@chrome://remote/content/shared/webdriver/Errors.jsm:181:5\n",
      "NoSuchElementError@chrome://remote/content/shared/webdriver/Errors.jsm:393:5\n",
      "element.find/</<@chrome://remote/content/marionette/element.js:305:16\n",
      "\n"
     ]
    },
    {
     "name": "stderr",
     "output_type": "stream",
     "text": [
      "/home/lucas/miniconda3/lib/python3.7/site-packages/ipykernel_launcher.py:3: DeprecationWarning: firefox_profile has been deprecated, please pass in an Options object\n",
      "  This is separate from the ipykernel package so we can avoid doing imports until\n",
      "/home/lucas/miniconda3/lib/python3.7/site-packages/ipykernel_launcher.py:3: DeprecationWarning: firefox_profile has been deprecated, please pass in an Options object\n",
      "  This is separate from the ipykernel package so we can avoid doing imports until\n"
     ]
    },
    {
     "name": "stdout",
     "output_type": "stream",
     "text": [
      "Message: Unable to locate element: /html/body/main/div[2]/div/div[7]/div[1]/div[2]/button[2]\n",
      "Stacktrace:\n",
      "WebDriverError@chrome://remote/content/shared/webdriver/Errors.jsm:181:5\n",
      "NoSuchElementError@chrome://remote/content/shared/webdriver/Errors.jsm:393:5\n",
      "element.find/</<@chrome://remote/content/marionette/element.js:305:16\n",
      "\n",
      "Message: Unable to locate element: /html/body/main/div[2]/div/div[7]/div[1]/div[2]/button[2]\n",
      "Stacktrace:\n",
      "WebDriverError@chrome://remote/content/shared/webdriver/Errors.jsm:181:5\n",
      "NoSuchElementError@chrome://remote/content/shared/webdriver/Errors.jsm:393:5\n",
      "element.find/</<@chrome://remote/content/marionette/element.js:305:16\n",
      "\n"
     ]
    },
    {
     "name": "stderr",
     "output_type": "stream",
     "text": [
      "/home/lucas/miniconda3/lib/python3.7/site-packages/ipykernel_launcher.py:3: DeprecationWarning: firefox_profile has been deprecated, please pass in an Options object\n",
      "  This is separate from the ipykernel package so we can avoid doing imports until\n",
      "/home/lucas/miniconda3/lib/python3.7/site-packages/ipykernel_launcher.py:3: DeprecationWarning: firefox_profile has been deprecated, please pass in an Options object\n",
      "  This is separate from the ipykernel package so we can avoid doing imports until\n"
     ]
    },
    {
     "name": "stdout",
     "output_type": "stream",
     "text": [
      "Message: Unable to locate element: /html/body/main/div[2]/div/div[7]/div[1]/div[2]/button[2]\n",
      "Stacktrace:\n",
      "WebDriverError@chrome://remote/content/shared/webdriver/Errors.jsm:181:5\n",
      "NoSuchElementError@chrome://remote/content/shared/webdriver/Errors.jsm:393:5\n",
      "element.find/</<@chrome://remote/content/marionette/element.js:305:16\n",
      "\n"
     ]
    },
    {
     "name": "stderr",
     "output_type": "stream",
     "text": [
      "/home/lucas/miniconda3/lib/python3.7/site-packages/ipykernel_launcher.py:3: DeprecationWarning: firefox_profile has been deprecated, please pass in an Options object\n",
      "  This is separate from the ipykernel package so we can avoid doing imports until\n"
     ]
    },
    {
     "name": "stdout",
     "output_type": "stream",
     "text": [
      "Message: Unable to locate element: /html/body/main/div[2]/div/div[7]/div[1]/div[2]/button[2]\n",
      "Stacktrace:\n",
      "WebDriverError@chrome://remote/content/shared/webdriver/Errors.jsm:181:5\n",
      "NoSuchElementError@chrome://remote/content/shared/webdriver/Errors.jsm:393:5\n",
      "element.find/</<@chrome://remote/content/marionette/element.js:305:16\n",
      "\n"
     ]
    },
    {
     "name": "stderr",
     "output_type": "stream",
     "text": [
      "/home/lucas/miniconda3/lib/python3.7/site-packages/ipykernel_launcher.py:3: DeprecationWarning: firefox_profile has been deprecated, please pass in an Options object\n",
      "  This is separate from the ipykernel package so we can avoid doing imports until\n",
      "/home/lucas/miniconda3/lib/python3.7/site-packages/ipykernel_launcher.py:3: DeprecationWarning: firefox_profile has been deprecated, please pass in an Options object\n",
      "  This is separate from the ipykernel package so we can avoid doing imports until\n",
      "/home/lucas/miniconda3/lib/python3.7/site-packages/ipykernel_launcher.py:3: DeprecationWarning: firefox_profile has been deprecated, please pass in an Options object\n",
      "  This is separate from the ipykernel package so we can avoid doing imports until\n",
      "/home/lucas/miniconda3/lib/python3.7/site-packages/ipykernel_launcher.py:3: DeprecationWarning: firefox_profile has been deprecated, please pass in an Options object\n",
      "  This is separate from the ipykernel package so we can avoid doing imports until\n",
      "/home/lucas/miniconda3/lib/python3.7/site-packages/ipykernel_launcher.py:3: DeprecationWarning: firefox_profile has been deprecated, please pass in an Options object\n",
      "  This is separate from the ipykernel package so we can avoid doing imports until\n"
     ]
    },
    {
     "name": "stdout",
     "output_type": "stream",
     "text": [
      "Message: Unable to locate element: /html/body/main/div[2]/div/div[7]/div[1]/div[2]/button[2]\n",
      "Stacktrace:\n",
      "WebDriverError@chrome://remote/content/shared/webdriver/Errors.jsm:181:5\n",
      "NoSuchElementError@chrome://remote/content/shared/webdriver/Errors.jsm:393:5\n",
      "element.find/</<@chrome://remote/content/marionette/element.js:305:16\n",
      "\n"
     ]
    },
    {
     "name": "stderr",
     "output_type": "stream",
     "text": [
      "/home/lucas/miniconda3/lib/python3.7/site-packages/ipykernel_launcher.py:3: DeprecationWarning: firefox_profile has been deprecated, please pass in an Options object\n",
      "  This is separate from the ipykernel package so we can avoid doing imports until\n",
      "/home/lucas/miniconda3/lib/python3.7/site-packages/ipykernel_launcher.py:3: DeprecationWarning: firefox_profile has been deprecated, please pass in an Options object\n",
      "  This is separate from the ipykernel package so we can avoid doing imports until\n"
     ]
    },
    {
     "name": "stdout",
     "output_type": "stream",
     "text": [
      "Message: Unable to locate element: /html/body/main/div[2]/div/div[7]/div[1]/div[2]/button[2]\n",
      "Stacktrace:\n",
      "WebDriverError@chrome://remote/content/shared/webdriver/Errors.jsm:181:5\n",
      "NoSuchElementError@chrome://remote/content/shared/webdriver/Errors.jsm:393:5\n",
      "element.find/</<@chrome://remote/content/marionette/element.js:305:16\n",
      "\n"
     ]
    },
    {
     "name": "stderr",
     "output_type": "stream",
     "text": [
      "/home/lucas/miniconda3/lib/python3.7/site-packages/ipykernel_launcher.py:3: DeprecationWarning: firefox_profile has been deprecated, please pass in an Options object\n",
      "  This is separate from the ipykernel package so we can avoid doing imports until\n"
     ]
    },
    {
     "name": "stdout",
     "output_type": "stream",
     "text": [
      "Message: Unable to locate element: /html/body/main/div[2]/div/div[7]/div[1]/div[2]/button[2]\n",
      "Stacktrace:\n",
      "WebDriverError@chrome://remote/content/shared/webdriver/Errors.jsm:181:5\n",
      "NoSuchElementError@chrome://remote/content/shared/webdriver/Errors.jsm:393:5\n",
      "element.find/</<@chrome://remote/content/marionette/element.js:305:16\n",
      "\n"
     ]
    },
    {
     "name": "stderr",
     "output_type": "stream",
     "text": [
      "/home/lucas/miniconda3/lib/python3.7/site-packages/ipykernel_launcher.py:3: DeprecationWarning: firefox_profile has been deprecated, please pass in an Options object\n",
      "  This is separate from the ipykernel package so we can avoid doing imports until\n",
      "/home/lucas/miniconda3/lib/python3.7/site-packages/ipykernel_launcher.py:3: DeprecationWarning: firefox_profile has been deprecated, please pass in an Options object\n",
      "  This is separate from the ipykernel package so we can avoid doing imports until\n",
      "/home/lucas/miniconda3/lib/python3.7/site-packages/ipykernel_launcher.py:3: DeprecationWarning: firefox_profile has been deprecated, please pass in an Options object\n",
      "  This is separate from the ipykernel package so we can avoid doing imports until\n"
     ]
    },
    {
     "name": "stdout",
     "output_type": "stream",
     "text": [
      "Message: Unable to locate element: /html/body/main/div[2]/div/div[7]/div[1]/div[2]/button[2]\n",
      "Stacktrace:\n",
      "WebDriverError@chrome://remote/content/shared/webdriver/Errors.jsm:181:5\n",
      "NoSuchElementError@chrome://remote/content/shared/webdriver/Errors.jsm:393:5\n",
      "element.find/</<@chrome://remote/content/marionette/element.js:305:16\n",
      "\n"
     ]
    },
    {
     "name": "stderr",
     "output_type": "stream",
     "text": [
      "/home/lucas/miniconda3/lib/python3.7/site-packages/ipykernel_launcher.py:3: DeprecationWarning: firefox_profile has been deprecated, please pass in an Options object\n",
      "  This is separate from the ipykernel package so we can avoid doing imports until\n"
     ]
    },
    {
     "name": "stdout",
     "output_type": "stream",
     "text": [
      "Message: Unable to locate element: /html/body/main/div[2]/div/div[7]/div[1]/div[2]/button[2]\n",
      "Stacktrace:\n",
      "WebDriverError@chrome://remote/content/shared/webdriver/Errors.jsm:181:5\n",
      "NoSuchElementError@chrome://remote/content/shared/webdriver/Errors.jsm:393:5\n",
      "element.find/</<@chrome://remote/content/marionette/element.js:305:16\n",
      "\n"
     ]
    },
    {
     "name": "stderr",
     "output_type": "stream",
     "text": [
      "/home/lucas/miniconda3/lib/python3.7/site-packages/ipykernel_launcher.py:3: DeprecationWarning: firefox_profile has been deprecated, please pass in an Options object\n",
      "  This is separate from the ipykernel package so we can avoid doing imports until\n"
     ]
    },
    {
     "name": "stdout",
     "output_type": "stream",
     "text": [
      "Message: Unable to locate element: /html/body/main/div[2]/div/div[7]/div[1]/div[2]/button[2]\n",
      "Stacktrace:\n",
      "WebDriverError@chrome://remote/content/shared/webdriver/Errors.jsm:181:5\n",
      "NoSuchElementError@chrome://remote/content/shared/webdriver/Errors.jsm:393:5\n",
      "element.find/</<@chrome://remote/content/marionette/element.js:305:16\n",
      "\n"
     ]
    },
    {
     "name": "stderr",
     "output_type": "stream",
     "text": [
      "/home/lucas/miniconda3/lib/python3.7/site-packages/ipykernel_launcher.py:3: DeprecationWarning: firefox_profile has been deprecated, please pass in an Options object\n",
      "  This is separate from the ipykernel package so we can avoid doing imports until\n"
     ]
    },
    {
     "name": "stdout",
     "output_type": "stream",
     "text": [
      "Message: Unable to locate element: /html/body/main/div[2]/div/div[7]/div[1]/div[2]/button[2]\n",
      "Stacktrace:\n",
      "WebDriverError@chrome://remote/content/shared/webdriver/Errors.jsm:181:5\n",
      "NoSuchElementError@chrome://remote/content/shared/webdriver/Errors.jsm:393:5\n",
      "element.find/</<@chrome://remote/content/marionette/element.js:305:16\n",
      "\n"
     ]
    },
    {
     "name": "stderr",
     "output_type": "stream",
     "text": [
      "/home/lucas/miniconda3/lib/python3.7/site-packages/ipykernel_launcher.py:3: DeprecationWarning: firefox_profile has been deprecated, please pass in an Options object\n",
      "  This is separate from the ipykernel package so we can avoid doing imports until\n",
      "/home/lucas/miniconda3/lib/python3.7/site-packages/ipykernel_launcher.py:3: DeprecationWarning: firefox_profile has been deprecated, please pass in an Options object\n",
      "  This is separate from the ipykernel package so we can avoid doing imports until\n"
     ]
    },
    {
     "name": "stdout",
     "output_type": "stream",
     "text": [
      "Message: Unable to locate element: /html/body/main/div[2]/div/div[7]/div[1]/div[2]/button[2]\n",
      "Stacktrace:\n",
      "WebDriverError@chrome://remote/content/shared/webdriver/Errors.jsm:181:5\n",
      "NoSuchElementError@chrome://remote/content/shared/webdriver/Errors.jsm:393:5\n",
      "element.find/</<@chrome://remote/content/marionette/element.js:305:16\n",
      "\n"
     ]
    },
    {
     "name": "stderr",
     "output_type": "stream",
     "text": [
      "/home/lucas/miniconda3/lib/python3.7/site-packages/ipykernel_launcher.py:3: DeprecationWarning: firefox_profile has been deprecated, please pass in an Options object\n",
      "  This is separate from the ipykernel package so we can avoid doing imports until\n"
     ]
    },
    {
     "name": "stdout",
     "output_type": "stream",
     "text": [
      "Message: Unable to locate element: /html/body/main/div[2]/div/div[7]/div[1]/div[2]/button[2]\n",
      "Stacktrace:\n",
      "WebDriverError@chrome://remote/content/shared/webdriver/Errors.jsm:181:5\n",
      "NoSuchElementError@chrome://remote/content/shared/webdriver/Errors.jsm:393:5\n",
      "element.find/</<@chrome://remote/content/marionette/element.js:305:16\n",
      "\n"
     ]
    },
    {
     "name": "stderr",
     "output_type": "stream",
     "text": [
      "/home/lucas/miniconda3/lib/python3.7/site-packages/ipykernel_launcher.py:3: DeprecationWarning: firefox_profile has been deprecated, please pass in an Options object\n",
      "  This is separate from the ipykernel package so we can avoid doing imports until\n"
     ]
    },
    {
     "name": "stdout",
     "output_type": "stream",
     "text": [
      "Message: Unable to locate element: /html/body/main/div[2]/div/div[7]/div[1]/div[2]/button[2]\n",
      "Stacktrace:\n",
      "WebDriverError@chrome://remote/content/shared/webdriver/Errors.jsm:181:5\n",
      "NoSuchElementError@chrome://remote/content/shared/webdriver/Errors.jsm:393:5\n",
      "element.find/</<@chrome://remote/content/marionette/element.js:305:16\n",
      "\n",
      "Message: Unable to locate element: /html/body/main/div[2]/div/div[7]/div[1]/div[2]/button[2]\n",
      "Stacktrace:\n",
      "WebDriverError@chrome://remote/content/shared/webdriver/Errors.jsm:181:5\n",
      "NoSuchElementError@chrome://remote/content/shared/webdriver/Errors.jsm:393:5\n",
      "element.find/</<@chrome://remote/content/marionette/element.js:305:16\n",
      "\n"
     ]
    },
    {
     "name": "stderr",
     "output_type": "stream",
     "text": [
      "/home/lucas/miniconda3/lib/python3.7/site-packages/ipykernel_launcher.py:3: DeprecationWarning: firefox_profile has been deprecated, please pass in an Options object\n",
      "  This is separate from the ipykernel package so we can avoid doing imports until\n",
      "/home/lucas/miniconda3/lib/python3.7/site-packages/ipykernel_launcher.py:3: DeprecationWarning: firefox_profile has been deprecated, please pass in an Options object\n",
      "  This is separate from the ipykernel package so we can avoid doing imports until\n"
     ]
    },
    {
     "name": "stdout",
     "output_type": "stream",
     "text": [
      "Message: Unable to locate element: /html/body/main/div[2]/div/div[7]/div[1]/div[2]/button[2]\n",
      "Stacktrace:\n",
      "WebDriverError@chrome://remote/content/shared/webdriver/Errors.jsm:181:5\n",
      "NoSuchElementError@chrome://remote/content/shared/webdriver/Errors.jsm:393:5\n",
      "element.find/</<@chrome://remote/content/marionette/element.js:305:16\n",
      "\n"
     ]
    },
    {
     "name": "stderr",
     "output_type": "stream",
     "text": [
      "/home/lucas/miniconda3/lib/python3.7/site-packages/ipykernel_launcher.py:3: DeprecationWarning: firefox_profile has been deprecated, please pass in an Options object\n",
      "  This is separate from the ipykernel package so we can avoid doing imports until\n"
     ]
    },
    {
     "name": "stdout",
     "output_type": "stream",
     "text": [
      "Message: Unable to locate element: /html/body/main/div[2]/div/div[7]/div[1]/div[2]/button[2]\n",
      "Stacktrace:\n",
      "WebDriverError@chrome://remote/content/shared/webdriver/Errors.jsm:181:5\n",
      "NoSuchElementError@chrome://remote/content/shared/webdriver/Errors.jsm:393:5\n",
      "element.find/</<@chrome://remote/content/marionette/element.js:305:16\n",
      "\n"
     ]
    },
    {
     "name": "stderr",
     "output_type": "stream",
     "text": [
      "/home/lucas/miniconda3/lib/python3.7/site-packages/ipykernel_launcher.py:3: DeprecationWarning: firefox_profile has been deprecated, please pass in an Options object\n",
      "  This is separate from the ipykernel package so we can avoid doing imports until\n"
     ]
    },
    {
     "name": "stdout",
     "output_type": "stream",
     "text": [
      "Message: Unable to locate element: /html/body/main/div[2]/div/div[7]/div[1]/div[2]/button[2]\n",
      "Stacktrace:\n",
      "WebDriverError@chrome://remote/content/shared/webdriver/Errors.jsm:181:5\n",
      "NoSuchElementError@chrome://remote/content/shared/webdriver/Errors.jsm:393:5\n",
      "element.find/</<@chrome://remote/content/marionette/element.js:305:16\n",
      "\n",
      "Message: Unable to locate element: /html/body/main/div[2]/div/div[7]/div[1]/div[2]/button[2]\n",
      "Stacktrace:\n",
      "WebDriverError@chrome://remote/content/shared/webdriver/Errors.jsm:181:5\n",
      "NoSuchElementError@chrome://remote/content/shared/webdriver/Errors.jsm:393:5\n",
      "element.find/</<@chrome://remote/content/marionette/element.js:305:16\n",
      "\n"
     ]
    },
    {
     "name": "stderr",
     "output_type": "stream",
     "text": [
      "/home/lucas/miniconda3/lib/python3.7/site-packages/ipykernel_launcher.py:3: DeprecationWarning: firefox_profile has been deprecated, please pass in an Options object\n",
      "  This is separate from the ipykernel package so we can avoid doing imports until\n",
      "/home/lucas/miniconda3/lib/python3.7/site-packages/ipykernel_launcher.py:3: DeprecationWarning: firefox_profile has been deprecated, please pass in an Options object\n",
      "  This is separate from the ipykernel package so we can avoid doing imports until\n"
     ]
    },
    {
     "name": "stdout",
     "output_type": "stream",
     "text": [
      "Message: Unable to locate element: /html/body/main/div[2]/div/div[7]/div[1]/div[2]/button[2]\n",
      "Stacktrace:\n",
      "WebDriverError@chrome://remote/content/shared/webdriver/Errors.jsm:181:5\n",
      "NoSuchElementError@chrome://remote/content/shared/webdriver/Errors.jsm:393:5\n",
      "element.find/</<@chrome://remote/content/marionette/element.js:305:16\n",
      "\n"
     ]
    },
    {
     "name": "stderr",
     "output_type": "stream",
     "text": [
      "/home/lucas/miniconda3/lib/python3.7/site-packages/ipykernel_launcher.py:3: DeprecationWarning: firefox_profile has been deprecated, please pass in an Options object\n",
      "  This is separate from the ipykernel package so we can avoid doing imports until\n"
     ]
    },
    {
     "name": "stdout",
     "output_type": "stream",
     "text": [
      "Message: Unable to locate element: /html/body/main/div[2]/div/div[7]/div[1]/div[2]/button[2]\n",
      "Stacktrace:\n",
      "WebDriverError@chrome://remote/content/shared/webdriver/Errors.jsm:181:5\n",
      "NoSuchElementError@chrome://remote/content/shared/webdriver/Errors.jsm:393:5\n",
      "element.find/</<@chrome://remote/content/marionette/element.js:305:16\n",
      "\n"
     ]
    },
    {
     "name": "stderr",
     "output_type": "stream",
     "text": [
      "/home/lucas/miniconda3/lib/python3.7/site-packages/ipykernel_launcher.py:3: DeprecationWarning: firefox_profile has been deprecated, please pass in an Options object\n",
      "  This is separate from the ipykernel package so we can avoid doing imports until\n",
      "/home/lucas/miniconda3/lib/python3.7/site-packages/ipykernel_launcher.py:3: DeprecationWarning: firefox_profile has been deprecated, please pass in an Options object\n",
      "  This is separate from the ipykernel package so we can avoid doing imports until\n",
      "/home/lucas/miniconda3/lib/python3.7/site-packages/ipykernel_launcher.py:3: DeprecationWarning: firefox_profile has been deprecated, please pass in an Options object\n",
      "  This is separate from the ipykernel package so we can avoid doing imports until\n"
     ]
    },
    {
     "name": "stdout",
     "output_type": "stream",
     "text": [
      "Message: Unable to locate element: /html/body/main/div[2]/div/div[7]/div[1]/div[2]/button[2]\n",
      "Stacktrace:\n",
      "WebDriverError@chrome://remote/content/shared/webdriver/Errors.jsm:181:5\n",
      "NoSuchElementError@chrome://remote/content/shared/webdriver/Errors.jsm:393:5\n",
      "element.find/</<@chrome://remote/content/marionette/element.js:305:16\n",
      "\n"
     ]
    },
    {
     "name": "stderr",
     "output_type": "stream",
     "text": [
      "/home/lucas/miniconda3/lib/python3.7/site-packages/ipykernel_launcher.py:3: DeprecationWarning: firefox_profile has been deprecated, please pass in an Options object\n",
      "  This is separate from the ipykernel package so we can avoid doing imports until\n"
     ]
    },
    {
     "name": "stdout",
     "output_type": "stream",
     "text": [
      "Message: Unable to locate element: /html/body/main/div[2]/div/div[7]/div[1]/div[2]/button[2]\n",
      "Stacktrace:\n",
      "WebDriverError@chrome://remote/content/shared/webdriver/Errors.jsm:181:5\n",
      "NoSuchElementError@chrome://remote/content/shared/webdriver/Errors.jsm:393:5\n",
      "element.find/</<@chrome://remote/content/marionette/element.js:305:16\n",
      "\n",
      "Message: Unable to locate element: /html/body/main/div[2]/div/div[7]/div[1]/div[2]/button[2]\n",
      "Stacktrace:\n",
      "WebDriverError@chrome://remote/content/shared/webdriver/Errors.jsm:181:5\n",
      "NoSuchElementError@chrome://remote/content/shared/webdriver/Errors.jsm:393:5\n",
      "element.find/</<@chrome://remote/content/marionette/element.js:305:16\n",
      "\n"
     ]
    },
    {
     "name": "stderr",
     "output_type": "stream",
     "text": [
      "/home/lucas/miniconda3/lib/python3.7/site-packages/ipykernel_launcher.py:3: DeprecationWarning: firefox_profile has been deprecated, please pass in an Options object\n",
      "  This is separate from the ipykernel package so we can avoid doing imports until\n",
      "/home/lucas/miniconda3/lib/python3.7/site-packages/ipykernel_launcher.py:3: DeprecationWarning: firefox_profile has been deprecated, please pass in an Options object\n",
      "  This is separate from the ipykernel package so we can avoid doing imports until\n"
     ]
    },
    {
     "name": "stdout",
     "output_type": "stream",
     "text": [
      "Message: Unable to locate element: /html/body/main/div[2]/div/div[7]/div[1]/div[2]/button[2]\n",
      "Stacktrace:\n",
      "WebDriverError@chrome://remote/content/shared/webdriver/Errors.jsm:181:5\n",
      "NoSuchElementError@chrome://remote/content/shared/webdriver/Errors.jsm:393:5\n",
      "element.find/</<@chrome://remote/content/marionette/element.js:305:16\n",
      "\n"
     ]
    },
    {
     "name": "stderr",
     "output_type": "stream",
     "text": [
      "/home/lucas/miniconda3/lib/python3.7/site-packages/ipykernel_launcher.py:3: DeprecationWarning: firefox_profile has been deprecated, please pass in an Options object\n",
      "  This is separate from the ipykernel package so we can avoid doing imports until\n",
      "/home/lucas/miniconda3/lib/python3.7/site-packages/ipykernel_launcher.py:3: DeprecationWarning: firefox_profile has been deprecated, please pass in an Options object\n",
      "  This is separate from the ipykernel package so we can avoid doing imports until\n"
     ]
    },
    {
     "name": "stdout",
     "output_type": "stream",
     "text": [
      "Message: Unable to locate element: /html/body/main/div[2]/div/div[7]/div[1]/div[2]/button[2]\n",
      "Stacktrace:\n",
      "WebDriverError@chrome://remote/content/shared/webdriver/Errors.jsm:181:5\n",
      "NoSuchElementError@chrome://remote/content/shared/webdriver/Errors.jsm:393:5\n",
      "element.find/</<@chrome://remote/content/marionette/element.js:305:16\n",
      "\n",
      "Message: Unable to locate element: /html/body/main/div[2]/div/div[7]/div[1]/div[2]/button[2]\n",
      "Stacktrace:\n",
      "WebDriverError@chrome://remote/content/shared/webdriver/Errors.jsm:181:5\n",
      "NoSuchElementError@chrome://remote/content/shared/webdriver/Errors.jsm:393:5\n",
      "element.find/</<@chrome://remote/content/marionette/element.js:305:16\n",
      "\n"
     ]
    },
    {
     "name": "stderr",
     "output_type": "stream",
     "text": [
      "/home/lucas/miniconda3/lib/python3.7/site-packages/ipykernel_launcher.py:3: DeprecationWarning: firefox_profile has been deprecated, please pass in an Options object\n",
      "  This is separate from the ipykernel package so we can avoid doing imports until\n",
      "/home/lucas/miniconda3/lib/python3.7/site-packages/ipykernel_launcher.py:3: DeprecationWarning: firefox_profile has been deprecated, please pass in an Options object\n",
      "  This is separate from the ipykernel package so we can avoid doing imports until\n"
     ]
    },
    {
     "name": "stdout",
     "output_type": "stream",
     "text": [
      "Message: Unable to locate element: /html/body/main/div[2]/div/div[7]/div[1]/div[2]/button[2]\n",
      "Stacktrace:\n",
      "WebDriverError@chrome://remote/content/shared/webdriver/Errors.jsm:181:5\n",
      "NoSuchElementError@chrome://remote/content/shared/webdriver/Errors.jsm:393:5\n",
      "element.find/</<@chrome://remote/content/marionette/element.js:305:16\n",
      "\n"
     ]
    },
    {
     "name": "stderr",
     "output_type": "stream",
     "text": [
      "/home/lucas/miniconda3/lib/python3.7/site-packages/ipykernel_launcher.py:3: DeprecationWarning: firefox_profile has been deprecated, please pass in an Options object\n",
      "  This is separate from the ipykernel package so we can avoid doing imports until\n",
      "/home/lucas/miniconda3/lib/python3.7/site-packages/ipykernel_launcher.py:3: DeprecationWarning: firefox_profile has been deprecated, please pass in an Options object\n",
      "  This is separate from the ipykernel package so we can avoid doing imports until\n"
     ]
    },
    {
     "name": "stdout",
     "output_type": "stream",
     "text": [
      "Message: Unable to locate element: /html/body/main/div[2]/div/div[7]/div[1]/div[2]/button[2]\n",
      "Stacktrace:\n",
      "WebDriverError@chrome://remote/content/shared/webdriver/Errors.jsm:181:5\n",
      "NoSuchElementError@chrome://remote/content/shared/webdriver/Errors.jsm:393:5\n",
      "element.find/</<@chrome://remote/content/marionette/element.js:305:16\n",
      "\n",
      "Message: Unable to locate element: /html/body/main/div[2]/div/div[7]/div[1]/div[2]/button[2]\n",
      "Stacktrace:\n",
      "WebDriverError@chrome://remote/content/shared/webdriver/Errors.jsm:181:5\n",
      "NoSuchElementError@chrome://remote/content/shared/webdriver/Errors.jsm:393:5\n",
      "element.find/</<@chrome://remote/content/marionette/element.js:305:16\n",
      "\n"
     ]
    },
    {
     "name": "stderr",
     "output_type": "stream",
     "text": [
      "/home/lucas/miniconda3/lib/python3.7/site-packages/ipykernel_launcher.py:3: DeprecationWarning: firefox_profile has been deprecated, please pass in an Options object\n",
      "  This is separate from the ipykernel package so we can avoid doing imports until\n",
      "/home/lucas/miniconda3/lib/python3.7/site-packages/ipykernel_launcher.py:3: DeprecationWarning: firefox_profile has been deprecated, please pass in an Options object\n",
      "  This is separate from the ipykernel package so we can avoid doing imports until\n"
     ]
    },
    {
     "name": "stdout",
     "output_type": "stream",
     "text": [
      "Message: Unable to locate element: /html/body/main/div[2]/div/div[7]/div[1]/div[2]/button[2]\n",
      "Stacktrace:\n",
      "WebDriverError@chrome://remote/content/shared/webdriver/Errors.jsm:181:5\n",
      "NoSuchElementError@chrome://remote/content/shared/webdriver/Errors.jsm:393:5\n",
      "element.find/</<@chrome://remote/content/marionette/element.js:305:16\n",
      "\n"
     ]
    },
    {
     "name": "stderr",
     "output_type": "stream",
     "text": [
      "/home/lucas/miniconda3/lib/python3.7/site-packages/ipykernel_launcher.py:3: DeprecationWarning: firefox_profile has been deprecated, please pass in an Options object\n",
      "  This is separate from the ipykernel package so we can avoid doing imports until\n"
     ]
    },
    {
     "name": "stdout",
     "output_type": "stream",
     "text": [
      "Message: Unable to locate element: /html/body/main/div[2]/div/div[7]/div[1]/div[2]/button[2]\n",
      "Stacktrace:\n",
      "WebDriverError@chrome://remote/content/shared/webdriver/Errors.jsm:181:5\n",
      "NoSuchElementError@chrome://remote/content/shared/webdriver/Errors.jsm:393:5\n",
      "element.find/</<@chrome://remote/content/marionette/element.js:305:16\n",
      "\n"
     ]
    },
    {
     "name": "stderr",
     "output_type": "stream",
     "text": [
      "/home/lucas/miniconda3/lib/python3.7/site-packages/ipykernel_launcher.py:3: DeprecationWarning: firefox_profile has been deprecated, please pass in an Options object\n",
      "  This is separate from the ipykernel package so we can avoid doing imports until\n"
     ]
    },
    {
     "name": "stdout",
     "output_type": "stream",
     "text": [
      "Message: Unable to locate element: /html/body/main/div[2]/div/div[7]/div[1]/div[2]/button[2]\n",
      "Stacktrace:\n",
      "WebDriverError@chrome://remote/content/shared/webdriver/Errors.jsm:181:5\n",
      "NoSuchElementError@chrome://remote/content/shared/webdriver/Errors.jsm:393:5\n",
      "element.find/</<@chrome://remote/content/marionette/element.js:305:16\n",
      "\n",
      "Message: Unable to locate element: /html/body/main/div[2]/div/div[7]/div[1]/div[2]/button[2]\n",
      "Stacktrace:\n",
      "WebDriverError@chrome://remote/content/shared/webdriver/Errors.jsm:181:5\n",
      "NoSuchElementError@chrome://remote/content/shared/webdriver/Errors.jsm:393:5\n",
      "element.find/</<@chrome://remote/content/marionette/element.js:305:16\n",
      "\n"
     ]
    },
    {
     "name": "stderr",
     "output_type": "stream",
     "text": [
      "/home/lucas/miniconda3/lib/python3.7/site-packages/ipykernel_launcher.py:3: DeprecationWarning: firefox_profile has been deprecated, please pass in an Options object\n",
      "  This is separate from the ipykernel package so we can avoid doing imports until\n",
      "/home/lucas/miniconda3/lib/python3.7/site-packages/ipykernel_launcher.py:3: DeprecationWarning: firefox_profile has been deprecated, please pass in an Options object\n",
      "  This is separate from the ipykernel package so we can avoid doing imports until\n"
     ]
    },
    {
     "name": "stdout",
     "output_type": "stream",
     "text": [
      "Message: Unable to locate element: /html/body/main/div[2]/div/div[7]/div[1]/div[2]/button[2]\n",
      "Stacktrace:\n",
      "WebDriverError@chrome://remote/content/shared/webdriver/Errors.jsm:181:5\n",
      "NoSuchElementError@chrome://remote/content/shared/webdriver/Errors.jsm:393:5\n",
      "element.find/</<@chrome://remote/content/marionette/element.js:305:16\n",
      "\n",
      "Message: Unable to locate element: /html/body/main/div[2]/div/div[7]/div[1]/div[2]/button[2]\n",
      "Stacktrace:\n",
      "WebDriverError@chrome://remote/content/shared/webdriver/Errors.jsm:181:5\n",
      "NoSuchElementError@chrome://remote/content/shared/webdriver/Errors.jsm:393:5\n",
      "element.find/</<@chrome://remote/content/marionette/element.js:305:16\n",
      "\n"
     ]
    },
    {
     "name": "stderr",
     "output_type": "stream",
     "text": [
      "/home/lucas/miniconda3/lib/python3.7/site-packages/ipykernel_launcher.py:3: DeprecationWarning: firefox_profile has been deprecated, please pass in an Options object\n",
      "  This is separate from the ipykernel package so we can avoid doing imports until\n",
      "/home/lucas/miniconda3/lib/python3.7/site-packages/ipykernel_launcher.py:3: DeprecationWarning: firefox_profile has been deprecated, please pass in an Options object\n",
      "  This is separate from the ipykernel package so we can avoid doing imports until\n"
     ]
    },
    {
     "name": "stdout",
     "output_type": "stream",
     "text": [
      "Message: Unable to locate element: /html/body/main/div[2]/div/div[7]/div[1]/div[2]/button[2]\n",
      "Stacktrace:\n",
      "WebDriverError@chrome://remote/content/shared/webdriver/Errors.jsm:181:5\n",
      "NoSuchElementError@chrome://remote/content/shared/webdriver/Errors.jsm:393:5\n",
      "element.find/</<@chrome://remote/content/marionette/element.js:305:16\n",
      "\n",
      "Message: Unable to locate element: /html/body/main/div[2]/div/div[7]/div[1]/div[2]/button[2]\n",
      "Stacktrace:\n",
      "WebDriverError@chrome://remote/content/shared/webdriver/Errors.jsm:181:5\n",
      "NoSuchElementError@chrome://remote/content/shared/webdriver/Errors.jsm:393:5\n",
      "element.find/</<@chrome://remote/content/marionette/element.js:305:16\n",
      "\n"
     ]
    },
    {
     "name": "stderr",
     "output_type": "stream",
     "text": [
      "/home/lucas/miniconda3/lib/python3.7/site-packages/ipykernel_launcher.py:3: DeprecationWarning: firefox_profile has been deprecated, please pass in an Options object\n",
      "  This is separate from the ipykernel package so we can avoid doing imports until\n",
      "/home/lucas/miniconda3/lib/python3.7/site-packages/ipykernel_launcher.py:3: DeprecationWarning: firefox_profile has been deprecated, please pass in an Options object\n",
      "  This is separate from the ipykernel package so we can avoid doing imports until\n"
     ]
    },
    {
     "name": "stdout",
     "output_type": "stream",
     "text": [
      "Message: Unable to locate element: /html/body/main/div[2]/div/div[7]/div[1]/div[2]/button[2]\n",
      "Stacktrace:\n",
      "WebDriverError@chrome://remote/content/shared/webdriver/Errors.jsm:181:5\n",
      "NoSuchElementError@chrome://remote/content/shared/webdriver/Errors.jsm:393:5\n",
      "element.find/</<@chrome://remote/content/marionette/element.js:305:16\n",
      "\n",
      "Message: Unable to locate element: /html/body/main/div[2]/div/div[7]/div[1]/div[2]/button[2]\n",
      "Stacktrace:\n",
      "WebDriverError@chrome://remote/content/shared/webdriver/Errors.jsm:181:5\n",
      "NoSuchElementError@chrome://remote/content/shared/webdriver/Errors.jsm:393:5\n",
      "element.find/</<@chrome://remote/content/marionette/element.js:305:16\n",
      "\n"
     ]
    },
    {
     "name": "stderr",
     "output_type": "stream",
     "text": [
      "/home/lucas/miniconda3/lib/python3.7/site-packages/ipykernel_launcher.py:3: DeprecationWarning: firefox_profile has been deprecated, please pass in an Options object\n",
      "  This is separate from the ipykernel package so we can avoid doing imports until\n",
      "/home/lucas/miniconda3/lib/python3.7/site-packages/ipykernel_launcher.py:3: DeprecationWarning: firefox_profile has been deprecated, please pass in an Options object\n",
      "  This is separate from the ipykernel package so we can avoid doing imports until\n"
     ]
    },
    {
     "name": "stdout",
     "output_type": "stream",
     "text": [
      "Message: Unable to locate element: /html/body/main/div[2]/div/div[7]/div[1]/div[2]/button[2]\n",
      "Stacktrace:\n",
      "WebDriverError@chrome://remote/content/shared/webdriver/Errors.jsm:181:5\n",
      "NoSuchElementError@chrome://remote/content/shared/webdriver/Errors.jsm:393:5\n",
      "element.find/</<@chrome://remote/content/marionette/element.js:305:16\n",
      "\n",
      "Message: Unable to locate element: /html/body/main/div[2]/div/div[7]/div[1]/div[2]/button[2]\n",
      "Stacktrace:\n",
      "WebDriverError@chrome://remote/content/shared/webdriver/Errors.jsm:181:5\n",
      "NoSuchElementError@chrome://remote/content/shared/webdriver/Errors.jsm:393:5\n",
      "element.find/</<@chrome://remote/content/marionette/element.js:305:16\n",
      "\n"
     ]
    },
    {
     "name": "stderr",
     "output_type": "stream",
     "text": [
      "/home/lucas/miniconda3/lib/python3.7/site-packages/ipykernel_launcher.py:3: DeprecationWarning: firefox_profile has been deprecated, please pass in an Options object\n",
      "  This is separate from the ipykernel package so we can avoid doing imports until\n",
      "/home/lucas/miniconda3/lib/python3.7/site-packages/ipykernel_launcher.py:3: DeprecationWarning: firefox_profile has been deprecated, please pass in an Options object\n",
      "  This is separate from the ipykernel package so we can avoid doing imports until\n"
     ]
    },
    {
     "name": "stdout",
     "output_type": "stream",
     "text": [
      "Message: Unable to locate element: /html/body/main/div[2]/div/div[7]/div[1]/div[2]/button[2]\n",
      "Stacktrace:\n",
      "WebDriverError@chrome://remote/content/shared/webdriver/Errors.jsm:181:5\n",
      "NoSuchElementError@chrome://remote/content/shared/webdriver/Errors.jsm:393:5\n",
      "element.find/</<@chrome://remote/content/marionette/element.js:305:16\n",
      "\n",
      "Message: Unable to locate element: /html/body/main/div[2]/div/div[7]/div[1]/div[2]/button[2]\n",
      "Stacktrace:\n",
      "WebDriverError@chrome://remote/content/shared/webdriver/Errors.jsm:181:5\n",
      "NoSuchElementError@chrome://remote/content/shared/webdriver/Errors.jsm:393:5\n",
      "element.find/</<@chrome://remote/content/marionette/element.js:305:16\n",
      "\n"
     ]
    },
    {
     "name": "stderr",
     "output_type": "stream",
     "text": [
      "/home/lucas/miniconda3/lib/python3.7/site-packages/ipykernel_launcher.py:3: DeprecationWarning: firefox_profile has been deprecated, please pass in an Options object\n",
      "  This is separate from the ipykernel package so we can avoid doing imports until\n",
      "/home/lucas/miniconda3/lib/python3.7/site-packages/ipykernel_launcher.py:3: DeprecationWarning: firefox_profile has been deprecated, please pass in an Options object\n",
      "  This is separate from the ipykernel package so we can avoid doing imports until\n"
     ]
    },
    {
     "name": "stdout",
     "output_type": "stream",
     "text": [
      "Message: Unable to locate element: /html/body/main/div[2]/div/div[7]/div[1]/div[2]/button[2]\n",
      "Stacktrace:\n",
      "WebDriverError@chrome://remote/content/shared/webdriver/Errors.jsm:181:5\n",
      "NoSuchElementError@chrome://remote/content/shared/webdriver/Errors.jsm:393:5\n",
      "element.find/</<@chrome://remote/content/marionette/element.js:305:16\n",
      "\n",
      "Message: Unable to locate element: /html/body/main/div[2]/div/div[7]/div[1]/div[2]/button[2]\n",
      "Stacktrace:\n",
      "WebDriverError@chrome://remote/content/shared/webdriver/Errors.jsm:181:5\n",
      "NoSuchElementError@chrome://remote/content/shared/webdriver/Errors.jsm:393:5\n",
      "element.find/</<@chrome://remote/content/marionette/element.js:305:16\n",
      "\n"
     ]
    },
    {
     "name": "stderr",
     "output_type": "stream",
     "text": [
      "/home/lucas/miniconda3/lib/python3.7/site-packages/ipykernel_launcher.py:3: DeprecationWarning: firefox_profile has been deprecated, please pass in an Options object\n",
      "  This is separate from the ipykernel package so we can avoid doing imports until\n",
      "/home/lucas/miniconda3/lib/python3.7/site-packages/ipykernel_launcher.py:3: DeprecationWarning: firefox_profile has been deprecated, please pass in an Options object\n",
      "  This is separate from the ipykernel package so we can avoid doing imports until\n"
     ]
    },
    {
     "name": "stdout",
     "output_type": "stream",
     "text": [
      "Message: Unable to locate element: /html/body/main/div[2]/div/div[7]/div[1]/div[2]/button[2]\n",
      "Stacktrace:\n",
      "WebDriverError@chrome://remote/content/shared/webdriver/Errors.jsm:181:5\n",
      "NoSuchElementError@chrome://remote/content/shared/webdriver/Errors.jsm:393:5\n",
      "element.find/</<@chrome://remote/content/marionette/element.js:305:16\n",
      "\n",
      "Message: Unable to locate element: /html/body/main/div[2]/div/div[7]/div[1]/div[2]/button[2]\n",
      "Stacktrace:\n",
      "WebDriverError@chrome://remote/content/shared/webdriver/Errors.jsm:181:5\n",
      "NoSuchElementError@chrome://remote/content/shared/webdriver/Errors.jsm:393:5\n",
      "element.find/</<@chrome://remote/content/marionette/element.js:305:16\n",
      "\n"
     ]
    },
    {
     "name": "stderr",
     "output_type": "stream",
     "text": [
      "/home/lucas/miniconda3/lib/python3.7/site-packages/ipykernel_launcher.py:3: DeprecationWarning: firefox_profile has been deprecated, please pass in an Options object\n",
      "  This is separate from the ipykernel package so we can avoid doing imports until\n",
      "/home/lucas/miniconda3/lib/python3.7/site-packages/ipykernel_launcher.py:3: DeprecationWarning: firefox_profile has been deprecated, please pass in an Options object\n",
      "  This is separate from the ipykernel package so we can avoid doing imports until\n"
     ]
    },
    {
     "name": "stdout",
     "output_type": "stream",
     "text": [
      "Message: Unable to locate element: /html/body/main/div[2]/div/div[7]/div[1]/div[2]/button[2]\n",
      "Stacktrace:\n",
      "WebDriverError@chrome://remote/content/shared/webdriver/Errors.jsm:181:5\n",
      "NoSuchElementError@chrome://remote/content/shared/webdriver/Errors.jsm:393:5\n",
      "element.find/</<@chrome://remote/content/marionette/element.js:305:16\n",
      "\n",
      "Message: Unable to locate element: /html/body/main/div[2]/div/div[7]/div[1]/div[2]/button[2]\n",
      "Stacktrace:\n",
      "WebDriverError@chrome://remote/content/shared/webdriver/Errors.jsm:181:5\n",
      "NoSuchElementError@chrome://remote/content/shared/webdriver/Errors.jsm:393:5\n",
      "element.find/</<@chrome://remote/content/marionette/element.js:305:16\n",
      "\n"
     ]
    },
    {
     "name": "stderr",
     "output_type": "stream",
     "text": [
      "/home/lucas/miniconda3/lib/python3.7/site-packages/ipykernel_launcher.py:3: DeprecationWarning: firefox_profile has been deprecated, please pass in an Options object\n",
      "  This is separate from the ipykernel package so we can avoid doing imports until\n",
      "/home/lucas/miniconda3/lib/python3.7/site-packages/ipykernel_launcher.py:3: DeprecationWarning: firefox_profile has been deprecated, please pass in an Options object\n",
      "  This is separate from the ipykernel package so we can avoid doing imports until\n"
     ]
    },
    {
     "name": "stdout",
     "output_type": "stream",
     "text": [
      "Message: Unable to locate element: /html/body/main/div[2]/div/div[7]/div[1]/div[2]/button[2]\n",
      "Stacktrace:\n",
      "WebDriverError@chrome://remote/content/shared/webdriver/Errors.jsm:181:5\n",
      "NoSuchElementError@chrome://remote/content/shared/webdriver/Errors.jsm:393:5\n",
      "element.find/</<@chrome://remote/content/marionette/element.js:305:16\n",
      "\n"
     ]
    },
    {
     "name": "stderr",
     "output_type": "stream",
     "text": [
      "/home/lucas/miniconda3/lib/python3.7/site-packages/ipykernel_launcher.py:3: DeprecationWarning: firefox_profile has been deprecated, please pass in an Options object\n",
      "  This is separate from the ipykernel package so we can avoid doing imports until\n",
      "/home/lucas/miniconda3/lib/python3.7/site-packages/ipykernel_launcher.py:3: DeprecationWarning: firefox_profile has been deprecated, please pass in an Options object\n",
      "  This is separate from the ipykernel package so we can avoid doing imports until\n"
     ]
    },
    {
     "name": "stdout",
     "output_type": "stream",
     "text": [
      "Message: Unable to locate element: /html/body/main/div[2]/div/div[7]/div[1]/div[2]/button[2]\n",
      "Stacktrace:\n",
      "WebDriverError@chrome://remote/content/shared/webdriver/Errors.jsm:181:5\n",
      "NoSuchElementError@chrome://remote/content/shared/webdriver/Errors.jsm:393:5\n",
      "element.find/</<@chrome://remote/content/marionette/element.js:305:16\n",
      "\n"
     ]
    },
    {
     "name": "stderr",
     "output_type": "stream",
     "text": [
      "/home/lucas/miniconda3/lib/python3.7/site-packages/ipykernel_launcher.py:3: DeprecationWarning: firefox_profile has been deprecated, please pass in an Options object\n",
      "  This is separate from the ipykernel package so we can avoid doing imports until\n"
     ]
    },
    {
     "name": "stdout",
     "output_type": "stream",
     "text": [
      "Message: Unable to locate element: /html/body/main/div[2]/div/div[7]/div[1]/div[2]/button[2]\n",
      "Stacktrace:\n",
      "WebDriverError@chrome://remote/content/shared/webdriver/Errors.jsm:181:5\n",
      "NoSuchElementError@chrome://remote/content/shared/webdriver/Errors.jsm:393:5\n",
      "element.find/</<@chrome://remote/content/marionette/element.js:305:16\n",
      "\n"
     ]
    },
    {
     "name": "stderr",
     "output_type": "stream",
     "text": [
      "/home/lucas/miniconda3/lib/python3.7/site-packages/ipykernel_launcher.py:3: DeprecationWarning: firefox_profile has been deprecated, please pass in an Options object\n",
      "  This is separate from the ipykernel package so we can avoid doing imports until\n",
      "/home/lucas/miniconda3/lib/python3.7/site-packages/ipykernel_launcher.py:3: DeprecationWarning: firefox_profile has been deprecated, please pass in an Options object\n",
      "  This is separate from the ipykernel package so we can avoid doing imports until\n"
     ]
    },
    {
     "name": "stdout",
     "output_type": "stream",
     "text": [
      "Message: Unable to locate element: /html/body/main/div[2]/div/div[7]/div[1]/div[2]/button[2]\n",
      "Stacktrace:\n",
      "WebDriverError@chrome://remote/content/shared/webdriver/Errors.jsm:181:5\n",
      "NoSuchElementError@chrome://remote/content/shared/webdriver/Errors.jsm:393:5\n",
      "element.find/</<@chrome://remote/content/marionette/element.js:305:16\n",
      "\n"
     ]
    },
    {
     "name": "stderr",
     "output_type": "stream",
     "text": [
      "/home/lucas/miniconda3/lib/python3.7/site-packages/ipykernel_launcher.py:3: DeprecationWarning: firefox_profile has been deprecated, please pass in an Options object\n",
      "  This is separate from the ipykernel package so we can avoid doing imports until\n"
     ]
    },
    {
     "name": "stdout",
     "output_type": "stream",
     "text": [
      "Message: Unable to locate element: /html/body/main/div[2]/div/div[7]/div[1]/div[2]/button[2]\n",
      "Stacktrace:\n",
      "WebDriverError@chrome://remote/content/shared/webdriver/Errors.jsm:181:5\n",
      "NoSuchElementError@chrome://remote/content/shared/webdriver/Errors.jsm:393:5\n",
      "element.find/</<@chrome://remote/content/marionette/element.js:305:16\n",
      "\n"
     ]
    },
    {
     "name": "stderr",
     "output_type": "stream",
     "text": [
      "/home/lucas/miniconda3/lib/python3.7/site-packages/ipykernel_launcher.py:3: DeprecationWarning: firefox_profile has been deprecated, please pass in an Options object\n",
      "  This is separate from the ipykernel package so we can avoid doing imports until\n"
     ]
    },
    {
     "name": "stdout",
     "output_type": "stream",
     "text": [
      "Message: Unable to locate element: /html/body/main/div[2]/div/div[7]/div[1]/div[2]/button[2]\n",
      "Stacktrace:\n",
      "WebDriverError@chrome://remote/content/shared/webdriver/Errors.jsm:181:5\n",
      "NoSuchElementError@chrome://remote/content/shared/webdriver/Errors.jsm:393:5\n",
      "element.find/</<@chrome://remote/content/marionette/element.js:305:16\n",
      "\n"
     ]
    },
    {
     "name": "stderr",
     "output_type": "stream",
     "text": [
      "/home/lucas/miniconda3/lib/python3.7/site-packages/ipykernel_launcher.py:3: DeprecationWarning: firefox_profile has been deprecated, please pass in an Options object\n",
      "  This is separate from the ipykernel package so we can avoid doing imports until\n",
      "/home/lucas/miniconda3/lib/python3.7/site-packages/ipykernel_launcher.py:3: DeprecationWarning: firefox_profile has been deprecated, please pass in an Options object\n",
      "  This is separate from the ipykernel package so we can avoid doing imports until\n",
      "/home/lucas/miniconda3/lib/python3.7/site-packages/ipykernel_launcher.py:3: DeprecationWarning: firefox_profile has been deprecated, please pass in an Options object\n",
      "  This is separate from the ipykernel package so we can avoid doing imports until\n"
     ]
    },
    {
     "name": "stdout",
     "output_type": "stream",
     "text": [
      "Message: Unable to locate element: /html/body/main/div[2]/div/div[7]/div[1]/div[2]/button[2]\n",
      "Stacktrace:\n",
      "WebDriverError@chrome://remote/content/shared/webdriver/Errors.jsm:181:5\n",
      "NoSuchElementError@chrome://remote/content/shared/webdriver/Errors.jsm:393:5\n",
      "element.find/</<@chrome://remote/content/marionette/element.js:305:16\n",
      "\n"
     ]
    },
    {
     "name": "stderr",
     "output_type": "stream",
     "text": [
      "/home/lucas/miniconda3/lib/python3.7/site-packages/ipykernel_launcher.py:3: DeprecationWarning: firefox_profile has been deprecated, please pass in an Options object\n",
      "  This is separate from the ipykernel package so we can avoid doing imports until\n"
     ]
    },
    {
     "name": "stdout",
     "output_type": "stream",
     "text": [
      "Message: Unable to locate element: /html/body/main/div[2]/div/div[7]/div[1]/div[2]/button[2]\n",
      "Stacktrace:\n",
      "WebDriverError@chrome://remote/content/shared/webdriver/Errors.jsm:181:5\n",
      "NoSuchElementError@chrome://remote/content/shared/webdriver/Errors.jsm:393:5\n",
      "element.find/</<@chrome://remote/content/marionette/element.js:305:16\n",
      "\n",
      "Message: Unable to locate element: /html/body/main/div[2]/div/div[7]/div[1]/div[2]/button[2]\n",
      "Stacktrace:\n",
      "WebDriverError@chrome://remote/content/shared/webdriver/Errors.jsm:181:5\n",
      "NoSuchElementError@chrome://remote/content/shared/webdriver/Errors.jsm:393:5\n",
      "element.find/</<@chrome://remote/content/marionette/element.js:305:16\n",
      "\n",
      "Message: Unable to locate element: /html/body/main/div[2]/div/div[7]/div[1]/div[2]/button[2]\n",
      "Stacktrace:\n",
      "WebDriverError@chrome://remote/content/shared/webdriver/Errors.jsm:181:5\n",
      "NoSuchElementError@chrome://remote/content/shared/webdriver/Errors.jsm:393:5\n",
      "element.find/</<@chrome://remote/content/marionette/element.js:305:16\n",
      "\n"
     ]
    },
    {
     "name": "stderr",
     "output_type": "stream",
     "text": [
      "/home/lucas/miniconda3/lib/python3.7/site-packages/ipykernel_launcher.py:3: DeprecationWarning: firefox_profile has been deprecated, please pass in an Options object\n",
      "  This is separate from the ipykernel package so we can avoid doing imports until\n",
      "/home/lucas/miniconda3/lib/python3.7/site-packages/ipykernel_launcher.py:3: DeprecationWarning: firefox_profile has been deprecated, please pass in an Options object\n",
      "  This is separate from the ipykernel package so we can avoid doing imports until\n",
      "/home/lucas/miniconda3/lib/python3.7/site-packages/ipykernel_launcher.py:3: DeprecationWarning: firefox_profile has been deprecated, please pass in an Options object\n",
      "  This is separate from the ipykernel package so we can avoid doing imports until\n",
      "/home/lucas/miniconda3/lib/python3.7/site-packages/ipykernel_launcher.py:3: DeprecationWarning: firefox_profile has been deprecated, please pass in an Options object\n",
      "  This is separate from the ipykernel package so we can avoid doing imports until\n"
     ]
    },
    {
     "name": "stdout",
     "output_type": "stream",
     "text": [
      "Message: Unable to locate element: /html/body/main/div[2]/div/div[7]/div[1]/div[2]/button[2]\n",
      "Stacktrace:\n",
      "WebDriverError@chrome://remote/content/shared/webdriver/Errors.jsm:181:5\n",
      "NoSuchElementError@chrome://remote/content/shared/webdriver/Errors.jsm:393:5\n",
      "element.find/</<@chrome://remote/content/marionette/element.js:305:16\n",
      "\n",
      "Message: Unable to locate element: /html/body/main/div[2]/div/div[7]/div[1]/div[2]/button[2]\n",
      "Stacktrace:\n",
      "WebDriverError@chrome://remote/content/shared/webdriver/Errors.jsm:181:5\n",
      "NoSuchElementError@chrome://remote/content/shared/webdriver/Errors.jsm:393:5\n",
      "element.find/</<@chrome://remote/content/marionette/element.js:305:16\n",
      "\n"
     ]
    },
    {
     "name": "stderr",
     "output_type": "stream",
     "text": [
      "/home/lucas/miniconda3/lib/python3.7/site-packages/ipykernel_launcher.py:3: DeprecationWarning: firefox_profile has been deprecated, please pass in an Options object\n",
      "  This is separate from the ipykernel package so we can avoid doing imports until\n",
      "/home/lucas/miniconda3/lib/python3.7/site-packages/ipykernel_launcher.py:3: DeprecationWarning: firefox_profile has been deprecated, please pass in an Options object\n",
      "  This is separate from the ipykernel package so we can avoid doing imports until\n"
     ]
    },
    {
     "name": "stdout",
     "output_type": "stream",
     "text": [
      "Message: Unable to locate element: /html/body/main/div[2]/div/div[7]/div[1]/div[2]/button[2]\n",
      "Stacktrace:\n",
      "WebDriverError@chrome://remote/content/shared/webdriver/Errors.jsm:181:5\n",
      "NoSuchElementError@chrome://remote/content/shared/webdriver/Errors.jsm:393:5\n",
      "element.find/</<@chrome://remote/content/marionette/element.js:305:16\n",
      "\n"
     ]
    },
    {
     "name": "stderr",
     "output_type": "stream",
     "text": [
      "/home/lucas/miniconda3/lib/python3.7/site-packages/ipykernel_launcher.py:3: DeprecationWarning: firefox_profile has been deprecated, please pass in an Options object\n",
      "  This is separate from the ipykernel package so we can avoid doing imports until\n"
     ]
    },
    {
     "name": "stdout",
     "output_type": "stream",
     "text": [
      "Message: Unable to locate element: /html/body/main/div[2]/div/div[7]/div[1]/div[2]/button[2]\n",
      "Stacktrace:\n",
      "WebDriverError@chrome://remote/content/shared/webdriver/Errors.jsm:181:5\n",
      "NoSuchElementError@chrome://remote/content/shared/webdriver/Errors.jsm:393:5\n",
      "element.find/</<@chrome://remote/content/marionette/element.js:305:16\n",
      "\n"
     ]
    },
    {
     "name": "stderr",
     "output_type": "stream",
     "text": [
      "/home/lucas/miniconda3/lib/python3.7/site-packages/ipykernel_launcher.py:3: DeprecationWarning: firefox_profile has been deprecated, please pass in an Options object\n",
      "  This is separate from the ipykernel package so we can avoid doing imports until\n"
     ]
    },
    {
     "name": "stdout",
     "output_type": "stream",
     "text": [
      "Message: Unable to locate element: /html/body/main/div[2]/div/div[7]/div[1]/div[2]/button[2]\n",
      "Stacktrace:\n",
      "WebDriverError@chrome://remote/content/shared/webdriver/Errors.jsm:181:5\n",
      "NoSuchElementError@chrome://remote/content/shared/webdriver/Errors.jsm:393:5\n",
      "element.find/</<@chrome://remote/content/marionette/element.js:305:16\n",
      "\n"
     ]
    },
    {
     "name": "stderr",
     "output_type": "stream",
     "text": [
      "/home/lucas/miniconda3/lib/python3.7/site-packages/ipykernel_launcher.py:3: DeprecationWarning: firefox_profile has been deprecated, please pass in an Options object\n",
      "  This is separate from the ipykernel package so we can avoid doing imports until\n",
      "/home/lucas/miniconda3/lib/python3.7/site-packages/ipykernel_launcher.py:3: DeprecationWarning: firefox_profile has been deprecated, please pass in an Options object\n",
      "  This is separate from the ipykernel package so we can avoid doing imports until\n",
      "/home/lucas/miniconda3/lib/python3.7/site-packages/ipykernel_launcher.py:3: DeprecationWarning: firefox_profile has been deprecated, please pass in an Options object\n",
      "  This is separate from the ipykernel package so we can avoid doing imports until\n"
     ]
    },
    {
     "name": "stdout",
     "output_type": "stream",
     "text": [
      "Message: Unable to locate element: /html/body/main/div[2]/div/div[7]/div[1]/div[2]/button[2]\n",
      "Stacktrace:\n",
      "WebDriverError@chrome://remote/content/shared/webdriver/Errors.jsm:181:5\n",
      "NoSuchElementError@chrome://remote/content/shared/webdriver/Errors.jsm:393:5\n",
      "element.find/</<@chrome://remote/content/marionette/element.js:305:16\n",
      "\n"
     ]
    },
    {
     "name": "stderr",
     "output_type": "stream",
     "text": [
      "/home/lucas/miniconda3/lib/python3.7/site-packages/ipykernel_launcher.py:3: DeprecationWarning: firefox_profile has been deprecated, please pass in an Options object\n",
      "  This is separate from the ipykernel package so we can avoid doing imports until\n"
     ]
    },
    {
     "name": "stdout",
     "output_type": "stream",
     "text": [
      "Message: Unable to locate element: /html/body/main/div[2]/div/div[7]/div[1]/div[2]/button[2]\n",
      "Stacktrace:\n",
      "WebDriverError@chrome://remote/content/shared/webdriver/Errors.jsm:181:5\n",
      "NoSuchElementError@chrome://remote/content/shared/webdriver/Errors.jsm:393:5\n",
      "element.find/</<@chrome://remote/content/marionette/element.js:305:16\n",
      "\n"
     ]
    },
    {
     "name": "stderr",
     "output_type": "stream",
     "text": [
      "/home/lucas/miniconda3/lib/python3.7/site-packages/ipykernel_launcher.py:3: DeprecationWarning: firefox_profile has been deprecated, please pass in an Options object\n",
      "  This is separate from the ipykernel package so we can avoid doing imports until\n"
     ]
    },
    {
     "name": "stdout",
     "output_type": "stream",
     "text": [
      "Message: Unable to locate element: /html/body/main/div[2]/div/div[7]/div[1]/div[2]/button[2]\n",
      "Stacktrace:\n",
      "WebDriverError@chrome://remote/content/shared/webdriver/Errors.jsm:181:5\n",
      "NoSuchElementError@chrome://remote/content/shared/webdriver/Errors.jsm:393:5\n",
      "element.find/</<@chrome://remote/content/marionette/element.js:305:16\n",
      "\n",
      "Message: Unable to locate element: /html/body/main/div[2]/div/div[7]/div[1]/div[2]/button[2]\n",
      "Stacktrace:\n",
      "WebDriverError@chrome://remote/content/shared/webdriver/Errors.jsm:181:5\n",
      "NoSuchElementError@chrome://remote/content/shared/webdriver/Errors.jsm:393:5\n",
      "element.find/</<@chrome://remote/content/marionette/element.js:305:16\n",
      "\n"
     ]
    },
    {
     "name": "stderr",
     "output_type": "stream",
     "text": [
      "/home/lucas/miniconda3/lib/python3.7/site-packages/ipykernel_launcher.py:3: DeprecationWarning: firefox_profile has been deprecated, please pass in an Options object\n",
      "  This is separate from the ipykernel package so we can avoid doing imports until\n",
      "/home/lucas/miniconda3/lib/python3.7/site-packages/ipykernel_launcher.py:3: DeprecationWarning: firefox_profile has been deprecated, please pass in an Options object\n",
      "  This is separate from the ipykernel package so we can avoid doing imports until\n"
     ]
    },
    {
     "name": "stdout",
     "output_type": "stream",
     "text": [
      "Message: Unable to locate element: /html/body/main/div[2]/div/div[7]/div[1]/div[2]/button[2]\n",
      "Stacktrace:\n",
      "WebDriverError@chrome://remote/content/shared/webdriver/Errors.jsm:181:5\n",
      "NoSuchElementError@chrome://remote/content/shared/webdriver/Errors.jsm:393:5\n",
      "element.find/</<@chrome://remote/content/marionette/element.js:305:16\n",
      "\n"
     ]
    },
    {
     "name": "stderr",
     "output_type": "stream",
     "text": [
      "/home/lucas/miniconda3/lib/python3.7/site-packages/ipykernel_launcher.py:3: DeprecationWarning: firefox_profile has been deprecated, please pass in an Options object\n",
      "  This is separate from the ipykernel package so we can avoid doing imports until\n"
     ]
    },
    {
     "name": "stdout",
     "output_type": "stream",
     "text": [
      "Message: Unable to locate element: /html/body/main/div[2]/div/div[7]/div[1]/div[2]/button[2]\n",
      "Stacktrace:\n",
      "WebDriverError@chrome://remote/content/shared/webdriver/Errors.jsm:181:5\n",
      "NoSuchElementError@chrome://remote/content/shared/webdriver/Errors.jsm:393:5\n",
      "element.find/</<@chrome://remote/content/marionette/element.js:305:16\n",
      "\n"
     ]
    },
    {
     "name": "stderr",
     "output_type": "stream",
     "text": [
      "/home/lucas/miniconda3/lib/python3.7/site-packages/ipykernel_launcher.py:3: DeprecationWarning: firefox_profile has been deprecated, please pass in an Options object\n",
      "  This is separate from the ipykernel package so we can avoid doing imports until\n"
     ]
    },
    {
     "name": "stdout",
     "output_type": "stream",
     "text": [
      "Message: Unable to locate element: /html/body/main/div[2]/div/div[7]/div[1]/div[2]/button[2]\n",
      "Stacktrace:\n",
      "WebDriverError@chrome://remote/content/shared/webdriver/Errors.jsm:181:5\n",
      "NoSuchElementError@chrome://remote/content/shared/webdriver/Errors.jsm:393:5\n",
      "element.find/</<@chrome://remote/content/marionette/element.js:305:16\n",
      "\n",
      "Message: Unable to locate element: /html/body/main/div[2]/div/div[7]/div[1]/div[2]/button[2]\n",
      "Stacktrace:\n",
      "WebDriverError@chrome://remote/content/shared/webdriver/Errors.jsm:181:5\n",
      "NoSuchElementError@chrome://remote/content/shared/webdriver/Errors.jsm:393:5\n",
      "element.find/</<@chrome://remote/content/marionette/element.js:305:16\n",
      "\n"
     ]
    },
    {
     "name": "stderr",
     "output_type": "stream",
     "text": [
      "/home/lucas/miniconda3/lib/python3.7/site-packages/ipykernel_launcher.py:3: DeprecationWarning: firefox_profile has been deprecated, please pass in an Options object\n",
      "  This is separate from the ipykernel package so we can avoid doing imports until\n",
      "/home/lucas/miniconda3/lib/python3.7/site-packages/ipykernel_launcher.py:3: DeprecationWarning: firefox_profile has been deprecated, please pass in an Options object\n",
      "  This is separate from the ipykernel package so we can avoid doing imports until\n"
     ]
    },
    {
     "name": "stdout",
     "output_type": "stream",
     "text": [
      "Message: Unable to locate element: /html/body/main/div[2]/div/div[7]/div[1]/div[2]/button[2]\n",
      "Stacktrace:\n",
      "WebDriverError@chrome://remote/content/shared/webdriver/Errors.jsm:181:5\n",
      "NoSuchElementError@chrome://remote/content/shared/webdriver/Errors.jsm:393:5\n",
      "element.find/</<@chrome://remote/content/marionette/element.js:305:16\n",
      "\n"
     ]
    },
    {
     "name": "stderr",
     "output_type": "stream",
     "text": [
      "/home/lucas/miniconda3/lib/python3.7/site-packages/ipykernel_launcher.py:3: DeprecationWarning: firefox_profile has been deprecated, please pass in an Options object\n",
      "  This is separate from the ipykernel package so we can avoid doing imports until\n"
     ]
    },
    {
     "name": "stdout",
     "output_type": "stream",
     "text": [
      "Message: Unable to locate element: /html/body/main/div[2]/div/div[7]/div[1]/div[2]/button[2]\n",
      "Stacktrace:\n",
      "WebDriverError@chrome://remote/content/shared/webdriver/Errors.jsm:181:5\n",
      "NoSuchElementError@chrome://remote/content/shared/webdriver/Errors.jsm:393:5\n",
      "element.find/</<@chrome://remote/content/marionette/element.js:305:16\n",
      "\n"
     ]
    },
    {
     "name": "stderr",
     "output_type": "stream",
     "text": [
      "/home/lucas/miniconda3/lib/python3.7/site-packages/ipykernel_launcher.py:3: DeprecationWarning: firefox_profile has been deprecated, please pass in an Options object\n",
      "  This is separate from the ipykernel package so we can avoid doing imports until\n",
      "/home/lucas/miniconda3/lib/python3.7/site-packages/ipykernel_launcher.py:3: DeprecationWarning: firefox_profile has been deprecated, please pass in an Options object\n",
      "  This is separate from the ipykernel package so we can avoid doing imports until\n",
      "/home/lucas/miniconda3/lib/python3.7/site-packages/ipykernel_launcher.py:3: DeprecationWarning: firefox_profile has been deprecated, please pass in an Options object\n",
      "  This is separate from the ipykernel package so we can avoid doing imports until\n"
     ]
    },
    {
     "name": "stdout",
     "output_type": "stream",
     "text": [
      "Message: Unable to locate element: /html/body/main/div[2]/div/div[7]/div[1]/div[2]/button[2]\n",
      "Stacktrace:\n",
      "WebDriverError@chrome://remote/content/shared/webdriver/Errors.jsm:181:5\n",
      "NoSuchElementError@chrome://remote/content/shared/webdriver/Errors.jsm:393:5\n",
      "element.find/</<@chrome://remote/content/marionette/element.js:305:16\n",
      "\n"
     ]
    },
    {
     "name": "stderr",
     "output_type": "stream",
     "text": [
      "/home/lucas/miniconda3/lib/python3.7/site-packages/ipykernel_launcher.py:3: DeprecationWarning: firefox_profile has been deprecated, please pass in an Options object\n",
      "  This is separate from the ipykernel package so we can avoid doing imports until\n"
     ]
    },
    {
     "name": "stdout",
     "output_type": "stream",
     "text": [
      "Message: Unable to locate element: /html/body/main/div[2]/div/div[7]/div[1]/div[2]/button[2]\n",
      "Stacktrace:\n",
      "WebDriverError@chrome://remote/content/shared/webdriver/Errors.jsm:181:5\n",
      "NoSuchElementError@chrome://remote/content/shared/webdriver/Errors.jsm:393:5\n",
      "element.find/</<@chrome://remote/content/marionette/element.js:305:16\n",
      "\n"
     ]
    },
    {
     "name": "stderr",
     "output_type": "stream",
     "text": [
      "/home/lucas/miniconda3/lib/python3.7/site-packages/ipykernel_launcher.py:3: DeprecationWarning: firefox_profile has been deprecated, please pass in an Options object\n",
      "  This is separate from the ipykernel package so we can avoid doing imports until\n",
      "/home/lucas/miniconda3/lib/python3.7/site-packages/ipykernel_launcher.py:3: DeprecationWarning: firefox_profile has been deprecated, please pass in an Options object\n",
      "  This is separate from the ipykernel package so we can avoid doing imports until\n",
      "/home/lucas/miniconda3/lib/python3.7/site-packages/ipykernel_launcher.py:3: DeprecationWarning: firefox_profile has been deprecated, please pass in an Options object\n",
      "  This is separate from the ipykernel package so we can avoid doing imports until\n"
     ]
    },
    {
     "name": "stdout",
     "output_type": "stream",
     "text": [
      "Message: Unable to locate element: /html/body/main/div[2]/div/div[7]/div[1]/div[2]/button[2]\n",
      "Stacktrace:\n",
      "WebDriverError@chrome://remote/content/shared/webdriver/Errors.jsm:181:5\n",
      "NoSuchElementError@chrome://remote/content/shared/webdriver/Errors.jsm:393:5\n",
      "element.find/</<@chrome://remote/content/marionette/element.js:305:16\n",
      "\n"
     ]
    },
    {
     "name": "stderr",
     "output_type": "stream",
     "text": [
      "/home/lucas/miniconda3/lib/python3.7/site-packages/ipykernel_launcher.py:3: DeprecationWarning: firefox_profile has been deprecated, please pass in an Options object\n",
      "  This is separate from the ipykernel package so we can avoid doing imports until\n"
     ]
    },
    {
     "name": "stdout",
     "output_type": "stream",
     "text": [
      "Message: Unable to locate element: /html/body/main/div[2]/div/div[7]/div[1]/div[2]/button[2]\n",
      "Stacktrace:\n",
      "WebDriverError@chrome://remote/content/shared/webdriver/Errors.jsm:181:5\n",
      "NoSuchElementError@chrome://remote/content/shared/webdriver/Errors.jsm:393:5\n",
      "element.find/</<@chrome://remote/content/marionette/element.js:305:16\n",
      "\n"
     ]
    },
    {
     "name": "stderr",
     "output_type": "stream",
     "text": [
      "/home/lucas/miniconda3/lib/python3.7/site-packages/ipykernel_launcher.py:3: DeprecationWarning: firefox_profile has been deprecated, please pass in an Options object\n",
      "  This is separate from the ipykernel package so we can avoid doing imports until\n",
      "/home/lucas/miniconda3/lib/python3.7/site-packages/ipykernel_launcher.py:3: DeprecationWarning: firefox_profile has been deprecated, please pass in an Options object\n",
      "  This is separate from the ipykernel package so we can avoid doing imports until\n",
      "/home/lucas/miniconda3/lib/python3.7/site-packages/ipykernel_launcher.py:3: DeprecationWarning: firefox_profile has been deprecated, please pass in an Options object\n",
      "  This is separate from the ipykernel package so we can avoid doing imports until\n"
     ]
    },
    {
     "name": "stdout",
     "output_type": "stream",
     "text": [
      "Message: Unable to locate element: /html/body/main/div[2]/div/div[7]/div[1]/div[2]/button[2]\n",
      "Stacktrace:\n",
      "WebDriverError@chrome://remote/content/shared/webdriver/Errors.jsm:181:5\n",
      "NoSuchElementError@chrome://remote/content/shared/webdriver/Errors.jsm:393:5\n",
      "element.find/</<@chrome://remote/content/marionette/element.js:305:16\n",
      "\n"
     ]
    },
    {
     "name": "stderr",
     "output_type": "stream",
     "text": [
      "/home/lucas/miniconda3/lib/python3.7/site-packages/ipykernel_launcher.py:3: DeprecationWarning: firefox_profile has been deprecated, please pass in an Options object\n",
      "  This is separate from the ipykernel package so we can avoid doing imports until\n"
     ]
    },
    {
     "name": "stdout",
     "output_type": "stream",
     "text": [
      "Message: Unable to locate element: /html/body/main/div[2]/div/div[7]/div[1]/div[2]/button[2]\n",
      "Stacktrace:\n",
      "WebDriverError@chrome://remote/content/shared/webdriver/Errors.jsm:181:5\n",
      "NoSuchElementError@chrome://remote/content/shared/webdriver/Errors.jsm:393:5\n",
      "element.find/</<@chrome://remote/content/marionette/element.js:305:16\n",
      "\n"
     ]
    },
    {
     "name": "stderr",
     "output_type": "stream",
     "text": [
      "/home/lucas/miniconda3/lib/python3.7/site-packages/ipykernel_launcher.py:3: DeprecationWarning: firefox_profile has been deprecated, please pass in an Options object\n",
      "  This is separate from the ipykernel package so we can avoid doing imports until\n"
     ]
    },
    {
     "name": "stdout",
     "output_type": "stream",
     "text": [
      "Message: Unable to locate element: /html/body/main/div[2]/div/div[7]/div[1]/div[2]/button[2]\n",
      "Stacktrace:\n",
      "WebDriverError@chrome://remote/content/shared/webdriver/Errors.jsm:181:5\n",
      "NoSuchElementError@chrome://remote/content/shared/webdriver/Errors.jsm:393:5\n",
      "element.find/</<@chrome://remote/content/marionette/element.js:305:16\n",
      "\n"
     ]
    },
    {
     "name": "stderr",
     "output_type": "stream",
     "text": [
      "/home/lucas/miniconda3/lib/python3.7/site-packages/ipykernel_launcher.py:3: DeprecationWarning: firefox_profile has been deprecated, please pass in an Options object\n",
      "  This is separate from the ipykernel package so we can avoid doing imports until\n"
     ]
    },
    {
     "name": "stdout",
     "output_type": "stream",
     "text": [
      "Message: Unable to locate element: /html/body/main/div[2]/div/div[7]/div[1]/div[2]/button[2]\n",
      "Stacktrace:\n",
      "WebDriverError@chrome://remote/content/shared/webdriver/Errors.jsm:181:5\n",
      "NoSuchElementError@chrome://remote/content/shared/webdriver/Errors.jsm:393:5\n",
      "element.find/</<@chrome://remote/content/marionette/element.js:305:16\n",
      "\n"
     ]
    },
    {
     "name": "stderr",
     "output_type": "stream",
     "text": [
      "/home/lucas/miniconda3/lib/python3.7/site-packages/ipykernel_launcher.py:3: DeprecationWarning: firefox_profile has been deprecated, please pass in an Options object\n",
      "  This is separate from the ipykernel package so we can avoid doing imports until\n",
      "/home/lucas/miniconda3/lib/python3.7/site-packages/ipykernel_launcher.py:3: DeprecationWarning: firefox_profile has been deprecated, please pass in an Options object\n",
      "  This is separate from the ipykernel package so we can avoid doing imports until\n"
     ]
    },
    {
     "name": "stdout",
     "output_type": "stream",
     "text": [
      "Message: Unable to locate element: /html/body/main/div[2]/div/div[7]/div[1]/div[2]/button[2]\n",
      "Stacktrace:\n",
      "WebDriverError@chrome://remote/content/shared/webdriver/Errors.jsm:181:5\n",
      "NoSuchElementError@chrome://remote/content/shared/webdriver/Errors.jsm:393:5\n",
      "element.find/</<@chrome://remote/content/marionette/element.js:305:16\n",
      "\n"
     ]
    },
    {
     "name": "stderr",
     "output_type": "stream",
     "text": [
      "/home/lucas/miniconda3/lib/python3.7/site-packages/ipykernel_launcher.py:3: DeprecationWarning: firefox_profile has been deprecated, please pass in an Options object\n",
      "  This is separate from the ipykernel package so we can avoid doing imports until\n"
     ]
    },
    {
     "name": "stdout",
     "output_type": "stream",
     "text": [
      "Message: Unable to locate element: /html/body/main/div[2]/div/div[7]/div[1]/div[2]/button[2]\n",
      "Stacktrace:\n",
      "WebDriverError@chrome://remote/content/shared/webdriver/Errors.jsm:181:5\n",
      "NoSuchElementError@chrome://remote/content/shared/webdriver/Errors.jsm:393:5\n",
      "element.find/</<@chrome://remote/content/marionette/element.js:305:16\n",
      "\n"
     ]
    },
    {
     "name": "stderr",
     "output_type": "stream",
     "text": [
      "/home/lucas/miniconda3/lib/python3.7/site-packages/ipykernel_launcher.py:3: DeprecationWarning: firefox_profile has been deprecated, please pass in an Options object\n",
      "  This is separate from the ipykernel package so we can avoid doing imports until\n"
     ]
    },
    {
     "name": "stdout",
     "output_type": "stream",
     "text": [
      "Message: Unable to locate element: /html/body/main/div[2]/div/div[7]/div[1]/div[2]/button[2]\n",
      "Stacktrace:\n",
      "WebDriverError@chrome://remote/content/shared/webdriver/Errors.jsm:181:5\n",
      "NoSuchElementError@chrome://remote/content/shared/webdriver/Errors.jsm:393:5\n",
      "element.find/</<@chrome://remote/content/marionette/element.js:305:16\n",
      "\n"
     ]
    },
    {
     "name": "stderr",
     "output_type": "stream",
     "text": [
      "/home/lucas/miniconda3/lib/python3.7/site-packages/ipykernel_launcher.py:3: DeprecationWarning: firefox_profile has been deprecated, please pass in an Options object\n",
      "  This is separate from the ipykernel package so we can avoid doing imports until\n"
     ]
    },
    {
     "name": "stdout",
     "output_type": "stream",
     "text": [
      "Message: Unable to locate element: /html/body/main/div[2]/div/div[7]/div[1]/div[2]/button[2]\n",
      "Stacktrace:\n",
      "WebDriverError@chrome://remote/content/shared/webdriver/Errors.jsm:181:5\n",
      "NoSuchElementError@chrome://remote/content/shared/webdriver/Errors.jsm:393:5\n",
      "element.find/</<@chrome://remote/content/marionette/element.js:305:16\n",
      "\n"
     ]
    },
    {
     "name": "stderr",
     "output_type": "stream",
     "text": [
      "/home/lucas/miniconda3/lib/python3.7/site-packages/ipykernel_launcher.py:3: DeprecationWarning: firefox_profile has been deprecated, please pass in an Options object\n",
      "  This is separate from the ipykernel package so we can avoid doing imports until\n",
      "/home/lucas/miniconda3/lib/python3.7/site-packages/ipykernel_launcher.py:3: DeprecationWarning: firefox_profile has been deprecated, please pass in an Options object\n",
      "  This is separate from the ipykernel package so we can avoid doing imports until\n"
     ]
    },
    {
     "name": "stdout",
     "output_type": "stream",
     "text": [
      "Message: Unable to locate element: /html/body/main/div[2]/div/div[7]/div[1]/div[2]/button[2]\n",
      "Stacktrace:\n",
      "WebDriverError@chrome://remote/content/shared/webdriver/Errors.jsm:181:5\n",
      "NoSuchElementError@chrome://remote/content/shared/webdriver/Errors.jsm:393:5\n",
      "element.find/</<@chrome://remote/content/marionette/element.js:305:16\n",
      "\n"
     ]
    },
    {
     "name": "stderr",
     "output_type": "stream",
     "text": [
      "/home/lucas/miniconda3/lib/python3.7/site-packages/ipykernel_launcher.py:3: DeprecationWarning: firefox_profile has been deprecated, please pass in an Options object\n",
      "  This is separate from the ipykernel package so we can avoid doing imports until\n"
     ]
    },
    {
     "name": "stdout",
     "output_type": "stream",
     "text": [
      "Message: Unable to locate element: /html/body/main/div[2]/div/div[7]/div[1]/div[2]/button[2]\n",
      "Stacktrace:\n",
      "WebDriverError@chrome://remote/content/shared/webdriver/Errors.jsm:181:5\n",
      "NoSuchElementError@chrome://remote/content/shared/webdriver/Errors.jsm:393:5\n",
      "element.find/</<@chrome://remote/content/marionette/element.js:305:16\n",
      "\n"
     ]
    },
    {
     "name": "stderr",
     "output_type": "stream",
     "text": [
      "/home/lucas/miniconda3/lib/python3.7/site-packages/ipykernel_launcher.py:3: DeprecationWarning: firefox_profile has been deprecated, please pass in an Options object\n",
      "  This is separate from the ipykernel package so we can avoid doing imports until\n"
     ]
    },
    {
     "name": "stdout",
     "output_type": "stream",
     "text": [
      "Message: Unable to locate element: /html/body/main/div[2]/div/div[7]/div[1]/div[2]/button[2]\n",
      "Stacktrace:\n",
      "WebDriverError@chrome://remote/content/shared/webdriver/Errors.jsm:181:5\n",
      "NoSuchElementError@chrome://remote/content/shared/webdriver/Errors.jsm:393:5\n",
      "element.find/</<@chrome://remote/content/marionette/element.js:305:16\n",
      "\n"
     ]
    },
    {
     "name": "stderr",
     "output_type": "stream",
     "text": [
      "/home/lucas/miniconda3/lib/python3.7/site-packages/ipykernel_launcher.py:3: DeprecationWarning: firefox_profile has been deprecated, please pass in an Options object\n",
      "  This is separate from the ipykernel package so we can avoid doing imports until\n",
      "/home/lucas/miniconda3/lib/python3.7/site-packages/ipykernel_launcher.py:3: DeprecationWarning: firefox_profile has been deprecated, please pass in an Options object\n",
      "  This is separate from the ipykernel package so we can avoid doing imports until\n"
     ]
    },
    {
     "name": "stdout",
     "output_type": "stream",
     "text": [
      "Message: Unable to locate element: /html/body/main/div[2]/div/div[7]/div[1]/div[2]/button[2]\n",
      "Stacktrace:\n",
      "WebDriverError@chrome://remote/content/shared/webdriver/Errors.jsm:181:5\n",
      "NoSuchElementError@chrome://remote/content/shared/webdriver/Errors.jsm:393:5\n",
      "element.find/</<@chrome://remote/content/marionette/element.js:305:16\n",
      "\n"
     ]
    },
    {
     "name": "stderr",
     "output_type": "stream",
     "text": [
      "/home/lucas/miniconda3/lib/python3.7/site-packages/ipykernel_launcher.py:3: DeprecationWarning: firefox_profile has been deprecated, please pass in an Options object\n",
      "  This is separate from the ipykernel package so we can avoid doing imports until\n",
      "/home/lucas/miniconda3/lib/python3.7/site-packages/ipykernel_launcher.py:3: DeprecationWarning: firefox_profile has been deprecated, please pass in an Options object\n",
      "  This is separate from the ipykernel package so we can avoid doing imports until\n",
      "/home/lucas/miniconda3/lib/python3.7/site-packages/ipykernel_launcher.py:3: DeprecationWarning: firefox_profile has been deprecated, please pass in an Options object\n",
      "  This is separate from the ipykernel package so we can avoid doing imports until\n"
     ]
    },
    {
     "name": "stdout",
     "output_type": "stream",
     "text": [
      "Message: Unable to locate element: /html/body/main/div[2]/div/div[7]/div[1]/div[2]/button[2]\n",
      "Stacktrace:\n",
      "WebDriverError@chrome://remote/content/shared/webdriver/Errors.jsm:181:5\n",
      "NoSuchElementError@chrome://remote/content/shared/webdriver/Errors.jsm:393:5\n",
      "element.find/</<@chrome://remote/content/marionette/element.js:305:16\n",
      "\n",
      "Message: Unable to locate element: /html/body/main/div[2]/div/div[7]/div[1]/div[2]/button[2]\n",
      "Stacktrace:\n",
      "WebDriverError@chrome://remote/content/shared/webdriver/Errors.jsm:181:5\n",
      "NoSuchElementError@chrome://remote/content/shared/webdriver/Errors.jsm:393:5\n",
      "element.find/</<@chrome://remote/content/marionette/element.js:305:16\n",
      "\n"
     ]
    },
    {
     "name": "stderr",
     "output_type": "stream",
     "text": [
      "/home/lucas/miniconda3/lib/python3.7/site-packages/ipykernel_launcher.py:3: DeprecationWarning: firefox_profile has been deprecated, please pass in an Options object\n",
      "  This is separate from the ipykernel package so we can avoid doing imports until\n",
      "/home/lucas/miniconda3/lib/python3.7/site-packages/ipykernel_launcher.py:3: DeprecationWarning: firefox_profile has been deprecated, please pass in an Options object\n",
      "  This is separate from the ipykernel package so we can avoid doing imports until\n"
     ]
    },
    {
     "name": "stdout",
     "output_type": "stream",
     "text": [
      "Message: Unable to locate element: /html/body/main/div[2]/div/div[7]/div[1]/div[2]/button[2]\n",
      "Stacktrace:\n",
      "WebDriverError@chrome://remote/content/shared/webdriver/Errors.jsm:181:5\n",
      "NoSuchElementError@chrome://remote/content/shared/webdriver/Errors.jsm:393:5\n",
      "element.find/</<@chrome://remote/content/marionette/element.js:305:16\n",
      "\n"
     ]
    },
    {
     "name": "stderr",
     "output_type": "stream",
     "text": [
      "/home/lucas/miniconda3/lib/python3.7/site-packages/ipykernel_launcher.py:3: DeprecationWarning: firefox_profile has been deprecated, please pass in an Options object\n",
      "  This is separate from the ipykernel package so we can avoid doing imports until\n"
     ]
    },
    {
     "name": "stdout",
     "output_type": "stream",
     "text": [
      "Message: Unable to locate element: /html/body/main/div[2]/div/div[7]/div[1]/div[2]/button[2]\n",
      "Stacktrace:\n",
      "WebDriverError@chrome://remote/content/shared/webdriver/Errors.jsm:181:5\n",
      "NoSuchElementError@chrome://remote/content/shared/webdriver/Errors.jsm:393:5\n",
      "element.find/</<@chrome://remote/content/marionette/element.js:305:16\n",
      "\n"
     ]
    },
    {
     "name": "stderr",
     "output_type": "stream",
     "text": [
      "/home/lucas/miniconda3/lib/python3.7/site-packages/ipykernel_launcher.py:3: DeprecationWarning: firefox_profile has been deprecated, please pass in an Options object\n",
      "  This is separate from the ipykernel package so we can avoid doing imports until\n"
     ]
    },
    {
     "name": "stdout",
     "output_type": "stream",
     "text": [
      "Message: Unable to locate element: /html/body/main/div[2]/div/div[7]/div[1]/div[2]/button[2]\n",
      "Stacktrace:\n",
      "WebDriverError@chrome://remote/content/shared/webdriver/Errors.jsm:181:5\n",
      "NoSuchElementError@chrome://remote/content/shared/webdriver/Errors.jsm:393:5\n",
      "element.find/</<@chrome://remote/content/marionette/element.js:305:16\n",
      "\n",
      "Message: Unable to locate element: /html/body/main/div[2]/div/div[7]/div[1]/div[2]/button[2]\n",
      "Stacktrace:\n",
      "WebDriverError@chrome://remote/content/shared/webdriver/Errors.jsm:181:5\n",
      "NoSuchElementError@chrome://remote/content/shared/webdriver/Errors.jsm:393:5\n",
      "element.find/</<@chrome://remote/content/marionette/element.js:305:16\n",
      "\n"
     ]
    },
    {
     "name": "stderr",
     "output_type": "stream",
     "text": [
      "/home/lucas/miniconda3/lib/python3.7/site-packages/ipykernel_launcher.py:3: DeprecationWarning: firefox_profile has been deprecated, please pass in an Options object\n",
      "  This is separate from the ipykernel package so we can avoid doing imports until\n",
      "/home/lucas/miniconda3/lib/python3.7/site-packages/ipykernel_launcher.py:3: DeprecationWarning: firefox_profile has been deprecated, please pass in an Options object\n",
      "  This is separate from the ipykernel package so we can avoid doing imports until\n"
     ]
    },
    {
     "name": "stdout",
     "output_type": "stream",
     "text": [
      "Message: Unable to locate element: /html/body/main/div[2]/div/div[7]/div[1]/div[2]/button[2]\n",
      "Stacktrace:\n",
      "WebDriverError@chrome://remote/content/shared/webdriver/Errors.jsm:181:5\n",
      "NoSuchElementError@chrome://remote/content/shared/webdriver/Errors.jsm:393:5\n",
      "element.find/</<@chrome://remote/content/marionette/element.js:305:16\n",
      "\n"
     ]
    },
    {
     "name": "stderr",
     "output_type": "stream",
     "text": [
      "/home/lucas/miniconda3/lib/python3.7/site-packages/ipykernel_launcher.py:3: DeprecationWarning: firefox_profile has been deprecated, please pass in an Options object\n",
      "  This is separate from the ipykernel package so we can avoid doing imports until\n"
     ]
    },
    {
     "name": "stdout",
     "output_type": "stream",
     "text": [
      "Message: Unable to locate element: /html/body/main/div[2]/div/div[7]/div[1]/div[2]/button[2]\n",
      "Stacktrace:\n",
      "WebDriverError@chrome://remote/content/shared/webdriver/Errors.jsm:181:5\n",
      "NoSuchElementError@chrome://remote/content/shared/webdriver/Errors.jsm:393:5\n",
      "element.find/</<@chrome://remote/content/marionette/element.js:305:16\n",
      "\n"
     ]
    },
    {
     "name": "stderr",
     "output_type": "stream",
     "text": [
      "/home/lucas/miniconda3/lib/python3.7/site-packages/ipykernel_launcher.py:3: DeprecationWarning: firefox_profile has been deprecated, please pass in an Options object\n",
      "  This is separate from the ipykernel package so we can avoid doing imports until\n"
     ]
    },
    {
     "name": "stdout",
     "output_type": "stream",
     "text": [
      "Message: Unable to locate element: /html/body/main/div[2]/div/div[7]/div[1]/div[2]/button[2]\n",
      "Stacktrace:\n",
      "WebDriverError@chrome://remote/content/shared/webdriver/Errors.jsm:181:5\n",
      "NoSuchElementError@chrome://remote/content/shared/webdriver/Errors.jsm:393:5\n",
      "element.find/</<@chrome://remote/content/marionette/element.js:305:16\n",
      "\n",
      "Message: Unable to locate element: /html/body/main/div[2]/div/div[7]/div[1]/div[2]/button[2]\n",
      "Stacktrace:\n",
      "WebDriverError@chrome://remote/content/shared/webdriver/Errors.jsm:181:5\n",
      "NoSuchElementError@chrome://remote/content/shared/webdriver/Errors.jsm:393:5\n",
      "element.find/</<@chrome://remote/content/marionette/element.js:305:16\n",
      "\n"
     ]
    },
    {
     "name": "stderr",
     "output_type": "stream",
     "text": [
      "/home/lucas/miniconda3/lib/python3.7/site-packages/ipykernel_launcher.py:3: DeprecationWarning: firefox_profile has been deprecated, please pass in an Options object\n",
      "  This is separate from the ipykernel package so we can avoid doing imports until\n",
      "/home/lucas/miniconda3/lib/python3.7/site-packages/ipykernel_launcher.py:3: DeprecationWarning: firefox_profile has been deprecated, please pass in an Options object\n",
      "  This is separate from the ipykernel package so we can avoid doing imports until\n"
     ]
    },
    {
     "name": "stdout",
     "output_type": "stream",
     "text": [
      "Message: Unable to locate element: /html/body/main/div[2]/div/div[7]/div[1]/div[2]/button[2]\n",
      "Stacktrace:\n",
      "WebDriverError@chrome://remote/content/shared/webdriver/Errors.jsm:181:5\n",
      "NoSuchElementError@chrome://remote/content/shared/webdriver/Errors.jsm:393:5\n",
      "element.find/</<@chrome://remote/content/marionette/element.js:305:16\n",
      "\n",
      "Message: Unable to locate element: /html/body/main/div[2]/div/div[7]/div[1]/div[2]/button[2]\n",
      "Stacktrace:\n",
      "WebDriverError@chrome://remote/content/shared/webdriver/Errors.jsm:181:5\n",
      "NoSuchElementError@chrome://remote/content/shared/webdriver/Errors.jsm:393:5\n",
      "element.find/</<@chrome://remote/content/marionette/element.js:305:16\n",
      "\n"
     ]
    },
    {
     "name": "stderr",
     "output_type": "stream",
     "text": [
      "/home/lucas/miniconda3/lib/python3.7/site-packages/ipykernel_launcher.py:3: DeprecationWarning: firefox_profile has been deprecated, please pass in an Options object\n",
      "  This is separate from the ipykernel package so we can avoid doing imports until\n",
      "/home/lucas/miniconda3/lib/python3.7/site-packages/ipykernel_launcher.py:3: DeprecationWarning: firefox_profile has been deprecated, please pass in an Options object\n",
      "  This is separate from the ipykernel package so we can avoid doing imports until\n"
     ]
    },
    {
     "name": "stdout",
     "output_type": "stream",
     "text": [
      "Message: Unable to locate element: /html/body/main/div[2]/div/div[7]/div[1]/div[2]/button[2]\n",
      "Stacktrace:\n",
      "WebDriverError@chrome://remote/content/shared/webdriver/Errors.jsm:181:5\n",
      "NoSuchElementError@chrome://remote/content/shared/webdriver/Errors.jsm:393:5\n",
      "element.find/</<@chrome://remote/content/marionette/element.js:305:16\n",
      "\n",
      "Message: Unable to locate element: /html/body/main/div[2]/div/div[7]/div[1]/div[2]/button[2]\n",
      "Stacktrace:\n",
      "WebDriverError@chrome://remote/content/shared/webdriver/Errors.jsm:181:5\n",
      "NoSuchElementError@chrome://remote/content/shared/webdriver/Errors.jsm:393:5\n",
      "element.find/</<@chrome://remote/content/marionette/element.js:305:16\n",
      "\n"
     ]
    },
    {
     "name": "stderr",
     "output_type": "stream",
     "text": [
      "/home/lucas/miniconda3/lib/python3.7/site-packages/ipykernel_launcher.py:3: DeprecationWarning: firefox_profile has been deprecated, please pass in an Options object\n",
      "  This is separate from the ipykernel package so we can avoid doing imports until\n",
      "/home/lucas/miniconda3/lib/python3.7/site-packages/ipykernel_launcher.py:3: DeprecationWarning: firefox_profile has been deprecated, please pass in an Options object\n",
      "  This is separate from the ipykernel package so we can avoid doing imports until\n",
      "/home/lucas/miniconda3/lib/python3.7/site-packages/ipykernel_launcher.py:3: DeprecationWarning: firefox_profile has been deprecated, please pass in an Options object\n",
      "  This is separate from the ipykernel package so we can avoid doing imports until\n",
      "/home/lucas/miniconda3/lib/python3.7/site-packages/ipykernel_launcher.py:3: DeprecationWarning: firefox_profile has been deprecated, please pass in an Options object\n",
      "  This is separate from the ipykernel package so we can avoid doing imports until\n"
     ]
    },
    {
     "name": "stdout",
     "output_type": "stream",
     "text": [
      "Message: Unable to locate element: /html/body/main/div[2]/div/div[7]/div[1]/div[2]/button[2]\n",
      "Stacktrace:\n",
      "WebDriverError@chrome://remote/content/shared/webdriver/Errors.jsm:181:5\n",
      "NoSuchElementError@chrome://remote/content/shared/webdriver/Errors.jsm:393:5\n",
      "element.find/</<@chrome://remote/content/marionette/element.js:305:16\n",
      "\n"
     ]
    },
    {
     "name": "stderr",
     "output_type": "stream",
     "text": [
      "/home/lucas/miniconda3/lib/python3.7/site-packages/ipykernel_launcher.py:3: DeprecationWarning: firefox_profile has been deprecated, please pass in an Options object\n",
      "  This is separate from the ipykernel package so we can avoid doing imports until\n",
      "/home/lucas/miniconda3/lib/python3.7/site-packages/ipykernel_launcher.py:3: DeprecationWarning: firefox_profile has been deprecated, please pass in an Options object\n",
      "  This is separate from the ipykernel package so we can avoid doing imports until\n"
     ]
    },
    {
     "name": "stdout",
     "output_type": "stream",
     "text": [
      "Message: Unable to locate element: /html/body/main/div[2]/div/div[7]/div[1]/div[2]/button[2]\n",
      "Stacktrace:\n",
      "WebDriverError@chrome://remote/content/shared/webdriver/Errors.jsm:181:5\n",
      "NoSuchElementError@chrome://remote/content/shared/webdriver/Errors.jsm:393:5\n",
      "element.find/</<@chrome://remote/content/marionette/element.js:305:16\n",
      "\n",
      "Message: Unable to locate element: /html/body/main/div[2]/div/div[7]/div[1]/div[2]/button[2]\n",
      "Stacktrace:\n",
      "WebDriverError@chrome://remote/content/shared/webdriver/Errors.jsm:181:5\n",
      "NoSuchElementError@chrome://remote/content/shared/webdriver/Errors.jsm:393:5\n",
      "element.find/</<@chrome://remote/content/marionette/element.js:305:16\n",
      "\n",
      "Message: Unable to locate element: /html/body/main/div[2]/div/div[7]/div[1]/div[2]/button[2]\n",
      "Stacktrace:\n",
      "WebDriverError@chrome://remote/content/shared/webdriver/Errors.jsm:181:5\n",
      "NoSuchElementError@chrome://remote/content/shared/webdriver/Errors.jsm:393:5\n",
      "element.find/</<@chrome://remote/content/marionette/element.js:305:16\n",
      "\n"
     ]
    },
    {
     "name": "stderr",
     "output_type": "stream",
     "text": [
      "/home/lucas/miniconda3/lib/python3.7/site-packages/ipykernel_launcher.py:3: DeprecationWarning: firefox_profile has been deprecated, please pass in an Options object\n",
      "  This is separate from the ipykernel package so we can avoid doing imports until\n",
      "/home/lucas/miniconda3/lib/python3.7/site-packages/ipykernel_launcher.py:3: DeprecationWarning: firefox_profile has been deprecated, please pass in an Options object\n",
      "  This is separate from the ipykernel package so we can avoid doing imports until\n",
      "/home/lucas/miniconda3/lib/python3.7/site-packages/ipykernel_launcher.py:3: DeprecationWarning: firefox_profile has been deprecated, please pass in an Options object\n",
      "  This is separate from the ipykernel package so we can avoid doing imports until\n"
     ]
    },
    {
     "name": "stdout",
     "output_type": "stream",
     "text": [
      "Message: Unable to locate element: /html/body/main/div[2]/div/div[7]/div[1]/div[2]/button[2]\n",
      "Stacktrace:\n",
      "WebDriverError@chrome://remote/content/shared/webdriver/Errors.jsm:181:5\n",
      "NoSuchElementError@chrome://remote/content/shared/webdriver/Errors.jsm:393:5\n",
      "element.find/</<@chrome://remote/content/marionette/element.js:305:16\n",
      "\n"
     ]
    },
    {
     "name": "stderr",
     "output_type": "stream",
     "text": [
      "/home/lucas/miniconda3/lib/python3.7/site-packages/ipykernel_launcher.py:3: DeprecationWarning: firefox_profile has been deprecated, please pass in an Options object\n",
      "  This is separate from the ipykernel package so we can avoid doing imports until\n"
     ]
    },
    {
     "name": "stdout",
     "output_type": "stream",
     "text": [
      "Message: Unable to locate element: /html/body/main/div[2]/div/div[7]/div[1]/div[2]/button[2]\n",
      "Stacktrace:\n",
      "WebDriverError@chrome://remote/content/shared/webdriver/Errors.jsm:181:5\n",
      "NoSuchElementError@chrome://remote/content/shared/webdriver/Errors.jsm:393:5\n",
      "element.find/</<@chrome://remote/content/marionette/element.js:305:16\n",
      "\n",
      "Message: Unable to locate element: /html/body/main/div[2]/div/div[7]/div[1]/div[2]/button[2]\n",
      "Stacktrace:\n",
      "WebDriverError@chrome://remote/content/shared/webdriver/Errors.jsm:181:5\n",
      "NoSuchElementError@chrome://remote/content/shared/webdriver/Errors.jsm:393:5\n",
      "element.find/</<@chrome://remote/content/marionette/element.js:305:16\n",
      "\n",
      "Message: Unable to locate element: /html/body/main/div[2]/div/div[7]/div[1]/div[2]/button[2]\n",
      "Stacktrace:\n",
      "WebDriverError@chrome://remote/content/shared/webdriver/Errors.jsm:181:5\n",
      "NoSuchElementError@chrome://remote/content/shared/webdriver/Errors.jsm:393:5\n",
      "element.find/</<@chrome://remote/content/marionette/element.js:305:16\n",
      "\n"
     ]
    },
    {
     "name": "stderr",
     "output_type": "stream",
     "text": [
      "/home/lucas/miniconda3/lib/python3.7/site-packages/ipykernel_launcher.py:3: DeprecationWarning: firefox_profile has been deprecated, please pass in an Options object\n",
      "  This is separate from the ipykernel package so we can avoid doing imports until\n",
      "/home/lucas/miniconda3/lib/python3.7/site-packages/ipykernel_launcher.py:3: DeprecationWarning: firefox_profile has been deprecated, please pass in an Options object\n",
      "  This is separate from the ipykernel package so we can avoid doing imports until\n",
      "/home/lucas/miniconda3/lib/python3.7/site-packages/ipykernel_launcher.py:3: DeprecationWarning: firefox_profile has been deprecated, please pass in an Options object\n",
      "  This is separate from the ipykernel package so we can avoid doing imports until\n"
     ]
    },
    {
     "name": "stdout",
     "output_type": "stream",
     "text": [
      "Message: Unable to locate element: /html/body/main/div[2]/div/div[7]/div[1]/div[2]/button[2]\n",
      "Stacktrace:\n",
      "WebDriverError@chrome://remote/content/shared/webdriver/Errors.jsm:181:5\n",
      "NoSuchElementError@chrome://remote/content/shared/webdriver/Errors.jsm:393:5\n",
      "element.find/</<@chrome://remote/content/marionette/element.js:305:16\n",
      "\n"
     ]
    },
    {
     "name": "stderr",
     "output_type": "stream",
     "text": [
      "/home/lucas/miniconda3/lib/python3.7/site-packages/ipykernel_launcher.py:3: DeprecationWarning: firefox_profile has been deprecated, please pass in an Options object\n",
      "  This is separate from the ipykernel package so we can avoid doing imports until\n"
     ]
    },
    {
     "name": "stdout",
     "output_type": "stream",
     "text": [
      "Message: Unable to locate element: /html/body/main/div[2]/div/div[7]/div[1]/div[2]/button[2]\n",
      "Stacktrace:\n",
      "WebDriverError@chrome://remote/content/shared/webdriver/Errors.jsm:181:5\n",
      "NoSuchElementError@chrome://remote/content/shared/webdriver/Errors.jsm:393:5\n",
      "element.find/</<@chrome://remote/content/marionette/element.js:305:16\n",
      "\n",
      "Message: Unable to locate element: /html/body/main/div[2]/div/div[7]/div[1]/div[2]/button[2]\n",
      "Stacktrace:\n",
      "WebDriverError@chrome://remote/content/shared/webdriver/Errors.jsm:181:5\n",
      "NoSuchElementError@chrome://remote/content/shared/webdriver/Errors.jsm:393:5\n",
      "element.find/</<@chrome://remote/content/marionette/element.js:305:16\n",
      "\n"
     ]
    },
    {
     "name": "stderr",
     "output_type": "stream",
     "text": [
      "/home/lucas/miniconda3/lib/python3.7/site-packages/ipykernel_launcher.py:3: DeprecationWarning: firefox_profile has been deprecated, please pass in an Options object\n",
      "  This is separate from the ipykernel package so we can avoid doing imports until\n",
      "/home/lucas/miniconda3/lib/python3.7/site-packages/ipykernel_launcher.py:3: DeprecationWarning: firefox_profile has been deprecated, please pass in an Options object\n",
      "  This is separate from the ipykernel package so we can avoid doing imports until\n",
      "/home/lucas/miniconda3/lib/python3.7/site-packages/ipykernel_launcher.py:3: DeprecationWarning: firefox_profile has been deprecated, please pass in an Options object\n",
      "  This is separate from the ipykernel package so we can avoid doing imports until\n"
     ]
    },
    {
     "name": "stdout",
     "output_type": "stream",
     "text": [
      "Message: Unable to locate element: /html/body/main/div[2]/div/div[7]/div[1]/div[2]/button[2]\n",
      "Stacktrace:\n",
      "WebDriverError@chrome://remote/content/shared/webdriver/Errors.jsm:181:5\n",
      "NoSuchElementError@chrome://remote/content/shared/webdriver/Errors.jsm:393:5\n",
      "element.find/</<@chrome://remote/content/marionette/element.js:305:16\n",
      "\n"
     ]
    },
    {
     "name": "stderr",
     "output_type": "stream",
     "text": [
      "/home/lucas/miniconda3/lib/python3.7/site-packages/ipykernel_launcher.py:3: DeprecationWarning: firefox_profile has been deprecated, please pass in an Options object\n",
      "  This is separate from the ipykernel package so we can avoid doing imports until\n"
     ]
    },
    {
     "name": "stdout",
     "output_type": "stream",
     "text": [
      "Message: Unable to locate element: /html/body/main/div[2]/div/div[7]/div[1]/div[2]/button[2]\n",
      "Stacktrace:\n",
      "WebDriverError@chrome://remote/content/shared/webdriver/Errors.jsm:181:5\n",
      "NoSuchElementError@chrome://remote/content/shared/webdriver/Errors.jsm:393:5\n",
      "element.find/</<@chrome://remote/content/marionette/element.js:305:16\n",
      "\n"
     ]
    },
    {
     "name": "stderr",
     "output_type": "stream",
     "text": [
      "/home/lucas/miniconda3/lib/python3.7/site-packages/ipykernel_launcher.py:3: DeprecationWarning: firefox_profile has been deprecated, please pass in an Options object\n",
      "  This is separate from the ipykernel package so we can avoid doing imports until\n"
     ]
    },
    {
     "name": "stdout",
     "output_type": "stream",
     "text": [
      "Message: Unable to locate element: /html/body/main/div[2]/div/div[7]/div[1]/div[2]/button[2]\n",
      "Stacktrace:\n",
      "WebDriverError@chrome://remote/content/shared/webdriver/Errors.jsm:181:5\n",
      "NoSuchElementError@chrome://remote/content/shared/webdriver/Errors.jsm:393:5\n",
      "element.find/</<@chrome://remote/content/marionette/element.js:305:16\n",
      "\n"
     ]
    },
    {
     "name": "stderr",
     "output_type": "stream",
     "text": [
      "/home/lucas/miniconda3/lib/python3.7/site-packages/ipykernel_launcher.py:3: DeprecationWarning: firefox_profile has been deprecated, please pass in an Options object\n",
      "  This is separate from the ipykernel package so we can avoid doing imports until\n"
     ]
    },
    {
     "name": "stdout",
     "output_type": "stream",
     "text": [
      "Message: Unable to locate element: /html/body/main/div[2]/div/div[7]/div[1]/div[2]/button[2]\n",
      "Stacktrace:\n",
      "WebDriverError@chrome://remote/content/shared/webdriver/Errors.jsm:181:5\n",
      "NoSuchElementError@chrome://remote/content/shared/webdriver/Errors.jsm:393:5\n",
      "element.find/</<@chrome://remote/content/marionette/element.js:305:16\n",
      "\n"
     ]
    },
    {
     "name": "stderr",
     "output_type": "stream",
     "text": [
      "/home/lucas/miniconda3/lib/python3.7/site-packages/ipykernel_launcher.py:3: DeprecationWarning: firefox_profile has been deprecated, please pass in an Options object\n",
      "  This is separate from the ipykernel package so we can avoid doing imports until\n"
     ]
    },
    {
     "name": "stdout",
     "output_type": "stream",
     "text": [
      "Message: Unable to locate element: /html/body/main/div[2]/div/div[7]/div[1]/div[2]/button[2]\n",
      "Stacktrace:\n",
      "WebDriverError@chrome://remote/content/shared/webdriver/Errors.jsm:181:5\n",
      "NoSuchElementError@chrome://remote/content/shared/webdriver/Errors.jsm:393:5\n",
      "element.find/</<@chrome://remote/content/marionette/element.js:305:16\n",
      "\n"
     ]
    },
    {
     "name": "stderr",
     "output_type": "stream",
     "text": [
      "/home/lucas/miniconda3/lib/python3.7/site-packages/ipykernel_launcher.py:3: DeprecationWarning: firefox_profile has been deprecated, please pass in an Options object\n",
      "  This is separate from the ipykernel package so we can avoid doing imports until\n"
     ]
    },
    {
     "name": "stdout",
     "output_type": "stream",
     "text": [
      "Message: Unable to locate element: /html/body/main/div[2]/div/div[7]/div[1]/div[2]/button[2]\n",
      "Stacktrace:\n",
      "WebDriverError@chrome://remote/content/shared/webdriver/Errors.jsm:181:5\n",
      "NoSuchElementError@chrome://remote/content/shared/webdriver/Errors.jsm:393:5\n",
      "element.find/</<@chrome://remote/content/marionette/element.js:305:16\n",
      "\n"
     ]
    },
    {
     "name": "stderr",
     "output_type": "stream",
     "text": [
      "/home/lucas/miniconda3/lib/python3.7/site-packages/ipykernel_launcher.py:3: DeprecationWarning: firefox_profile has been deprecated, please pass in an Options object\n",
      "  This is separate from the ipykernel package so we can avoid doing imports until\n"
     ]
    },
    {
     "name": "stdout",
     "output_type": "stream",
     "text": [
      "Message: Unable to locate element: /html/body/main/div[2]/div/div[7]/div[1]/div[2]/button[2]\n",
      "Stacktrace:\n",
      "WebDriverError@chrome://remote/content/shared/webdriver/Errors.jsm:181:5\n",
      "NoSuchElementError@chrome://remote/content/shared/webdriver/Errors.jsm:393:5\n",
      "element.find/</<@chrome://remote/content/marionette/element.js:305:16\n",
      "\n"
     ]
    },
    {
     "name": "stderr",
     "output_type": "stream",
     "text": [
      "/home/lucas/miniconda3/lib/python3.7/site-packages/ipykernel_launcher.py:3: DeprecationWarning: firefox_profile has been deprecated, please pass in an Options object\n",
      "  This is separate from the ipykernel package so we can avoid doing imports until\n",
      "/home/lucas/miniconda3/lib/python3.7/site-packages/ipykernel_launcher.py:3: DeprecationWarning: firefox_profile has been deprecated, please pass in an Options object\n",
      "  This is separate from the ipykernel package so we can avoid doing imports until\n",
      "/home/lucas/miniconda3/lib/python3.7/site-packages/ipykernel_launcher.py:3: DeprecationWarning: firefox_profile has been deprecated, please pass in an Options object\n",
      "  This is separate from the ipykernel package so we can avoid doing imports until\n"
     ]
    },
    {
     "name": "stdout",
     "output_type": "stream",
     "text": [
      "Message: Unable to locate element: /html/body/main/div[2]/div/div[7]/div[1]/div[2]/button[2]\n",
      "Stacktrace:\n",
      "WebDriverError@chrome://remote/content/shared/webdriver/Errors.jsm:181:5\n",
      "NoSuchElementError@chrome://remote/content/shared/webdriver/Errors.jsm:393:5\n",
      "element.find/</<@chrome://remote/content/marionette/element.js:305:16\n",
      "\n"
     ]
    },
    {
     "name": "stderr",
     "output_type": "stream",
     "text": [
      "/home/lucas/miniconda3/lib/python3.7/site-packages/ipykernel_launcher.py:3: DeprecationWarning: firefox_profile has been deprecated, please pass in an Options object\n",
      "  This is separate from the ipykernel package so we can avoid doing imports until\n",
      "/home/lucas/miniconda3/lib/python3.7/site-packages/ipykernel_launcher.py:3: DeprecationWarning: firefox_profile has been deprecated, please pass in an Options object\n",
      "  This is separate from the ipykernel package so we can avoid doing imports until\n"
     ]
    },
    {
     "name": "stdout",
     "output_type": "stream",
     "text": [
      "Message: Unable to locate element: /html/body/main/div[2]/div/div[7]/div[1]/div[2]/button[2]\n",
      "Stacktrace:\n",
      "WebDriverError@chrome://remote/content/shared/webdriver/Errors.jsm:181:5\n",
      "NoSuchElementError@chrome://remote/content/shared/webdriver/Errors.jsm:393:5\n",
      "element.find/</<@chrome://remote/content/marionette/element.js:305:16\n",
      "\n"
     ]
    },
    {
     "name": "stderr",
     "output_type": "stream",
     "text": [
      "/home/lucas/miniconda3/lib/python3.7/site-packages/ipykernel_launcher.py:3: DeprecationWarning: firefox_profile has been deprecated, please pass in an Options object\n",
      "  This is separate from the ipykernel package so we can avoid doing imports until\n"
     ]
    },
    {
     "name": "stdout",
     "output_type": "stream",
     "text": [
      "Message: Unable to locate element: /html/body/main/div[2]/div/div[7]/div[1]/div[2]/button[2]\n",
      "Stacktrace:\n",
      "WebDriverError@chrome://remote/content/shared/webdriver/Errors.jsm:181:5\n",
      "NoSuchElementError@chrome://remote/content/shared/webdriver/Errors.jsm:393:5\n",
      "element.find/</<@chrome://remote/content/marionette/element.js:305:16\n",
      "\n"
     ]
    },
    {
     "name": "stderr",
     "output_type": "stream",
     "text": [
      "/home/lucas/miniconda3/lib/python3.7/site-packages/ipykernel_launcher.py:3: DeprecationWarning: firefox_profile has been deprecated, please pass in an Options object\n",
      "  This is separate from the ipykernel package so we can avoid doing imports until\n"
     ]
    },
    {
     "name": "stdout",
     "output_type": "stream",
     "text": [
      "Message: Unable to locate element: /html/body/main/div[2]/div/div[7]/div[1]/div[2]/button[2]\n",
      "Stacktrace:\n",
      "WebDriverError@chrome://remote/content/shared/webdriver/Errors.jsm:181:5\n",
      "NoSuchElementError@chrome://remote/content/shared/webdriver/Errors.jsm:393:5\n",
      "element.find/</<@chrome://remote/content/marionette/element.js:305:16\n",
      "\n",
      "Message: Unable to locate element: /html/body/main/div[2]/div/div[7]/div[1]/div[2]/button[2]\n",
      "Stacktrace:\n",
      "WebDriverError@chrome://remote/content/shared/webdriver/Errors.jsm:181:5\n",
      "NoSuchElementError@chrome://remote/content/shared/webdriver/Errors.jsm:393:5\n",
      "element.find/</<@chrome://remote/content/marionette/element.js:305:16\n",
      "\n"
     ]
    },
    {
     "name": "stderr",
     "output_type": "stream",
     "text": [
      "/home/lucas/miniconda3/lib/python3.7/site-packages/ipykernel_launcher.py:3: DeprecationWarning: firefox_profile has been deprecated, please pass in an Options object\n",
      "  This is separate from the ipykernel package so we can avoid doing imports until\n",
      "/home/lucas/miniconda3/lib/python3.7/site-packages/ipykernel_launcher.py:3: DeprecationWarning: firefox_profile has been deprecated, please pass in an Options object\n",
      "  This is separate from the ipykernel package so we can avoid doing imports until\n"
     ]
    },
    {
     "name": "stdout",
     "output_type": "stream",
     "text": [
      "Message: Unable to locate element: /html/body/main/div[2]/div/div[7]/div[1]/div[2]/button[2]\n",
      "Stacktrace:\n",
      "WebDriverError@chrome://remote/content/shared/webdriver/Errors.jsm:181:5\n",
      "NoSuchElementError@chrome://remote/content/shared/webdriver/Errors.jsm:393:5\n",
      "element.find/</<@chrome://remote/content/marionette/element.js:305:16\n",
      "\n"
     ]
    },
    {
     "name": "stderr",
     "output_type": "stream",
     "text": [
      "/home/lucas/miniconda3/lib/python3.7/site-packages/ipykernel_launcher.py:3: DeprecationWarning: firefox_profile has been deprecated, please pass in an Options object\n",
      "  This is separate from the ipykernel package so we can avoid doing imports until\n"
     ]
    },
    {
     "name": "stdout",
     "output_type": "stream",
     "text": [
      "Message: Unable to locate element: /html/body/main/div[2]/div/div[7]/div[1]/div[2]/button[2]\n",
      "Stacktrace:\n",
      "WebDriverError@chrome://remote/content/shared/webdriver/Errors.jsm:181:5\n",
      "NoSuchElementError@chrome://remote/content/shared/webdriver/Errors.jsm:393:5\n",
      "element.find/</<@chrome://remote/content/marionette/element.js:305:16\n",
      "\n"
     ]
    },
    {
     "name": "stderr",
     "output_type": "stream",
     "text": [
      "/home/lucas/miniconda3/lib/python3.7/site-packages/ipykernel_launcher.py:3: DeprecationWarning: firefox_profile has been deprecated, please pass in an Options object\n",
      "  This is separate from the ipykernel package so we can avoid doing imports until\n",
      "/home/lucas/miniconda3/lib/python3.7/site-packages/ipykernel_launcher.py:3: DeprecationWarning: firefox_profile has been deprecated, please pass in an Options object\n",
      "  This is separate from the ipykernel package so we can avoid doing imports until\n"
     ]
    },
    {
     "name": "stdout",
     "output_type": "stream",
     "text": [
      "Message: Unable to locate element: /html/body/main/div[2]/div/div[7]/div[1]/div[2]/button[2]\n",
      "Stacktrace:\n",
      "WebDriverError@chrome://remote/content/shared/webdriver/Errors.jsm:181:5\n",
      "NoSuchElementError@chrome://remote/content/shared/webdriver/Errors.jsm:393:5\n",
      "element.find/</<@chrome://remote/content/marionette/element.js:305:16\n",
      "\n"
     ]
    },
    {
     "name": "stderr",
     "output_type": "stream",
     "text": [
      "/home/lucas/miniconda3/lib/python3.7/site-packages/ipykernel_launcher.py:3: DeprecationWarning: firefox_profile has been deprecated, please pass in an Options object\n",
      "  This is separate from the ipykernel package so we can avoid doing imports until\n",
      "/home/lucas/miniconda3/lib/python3.7/site-packages/ipykernel_launcher.py:3: DeprecationWarning: firefox_profile has been deprecated, please pass in an Options object\n",
      "  This is separate from the ipykernel package so we can avoid doing imports until\n"
     ]
    },
    {
     "name": "stdout",
     "output_type": "stream",
     "text": [
      "Message: Unable to locate element: /html/body/main/div[2]/div/div[7]/div[1]/div[2]/button[2]\n",
      "Stacktrace:\n",
      "WebDriverError@chrome://remote/content/shared/webdriver/Errors.jsm:181:5\n",
      "NoSuchElementError@chrome://remote/content/shared/webdriver/Errors.jsm:393:5\n",
      "element.find/</<@chrome://remote/content/marionette/element.js:305:16\n",
      "\n"
     ]
    },
    {
     "name": "stderr",
     "output_type": "stream",
     "text": [
      "/home/lucas/miniconda3/lib/python3.7/site-packages/ipykernel_launcher.py:3: DeprecationWarning: firefox_profile has been deprecated, please pass in an Options object\n",
      "  This is separate from the ipykernel package so we can avoid doing imports until\n",
      "/home/lucas/miniconda3/lib/python3.7/site-packages/ipykernel_launcher.py:3: DeprecationWarning: firefox_profile has been deprecated, please pass in an Options object\n",
      "  This is separate from the ipykernel package so we can avoid doing imports until\n"
     ]
    },
    {
     "name": "stdout",
     "output_type": "stream",
     "text": [
      "Message: Unable to locate element: /html/body/main/div[2]/div/div[7]/div[1]/div[2]/button[2]\n",
      "Stacktrace:\n",
      "WebDriverError@chrome://remote/content/shared/webdriver/Errors.jsm:181:5\n",
      "NoSuchElementError@chrome://remote/content/shared/webdriver/Errors.jsm:393:5\n",
      "element.find/</<@chrome://remote/content/marionette/element.js:305:16\n",
      "\n"
     ]
    },
    {
     "name": "stderr",
     "output_type": "stream",
     "text": [
      "/home/lucas/miniconda3/lib/python3.7/site-packages/ipykernel_launcher.py:3: DeprecationWarning: firefox_profile has been deprecated, please pass in an Options object\n",
      "  This is separate from the ipykernel package so we can avoid doing imports until\n",
      "/home/lucas/miniconda3/lib/python3.7/site-packages/ipykernel_launcher.py:3: DeprecationWarning: firefox_profile has been deprecated, please pass in an Options object\n",
      "  This is separate from the ipykernel package so we can avoid doing imports until\n"
     ]
    },
    {
     "name": "stdout",
     "output_type": "stream",
     "text": [
      "Message: Unable to locate element: /html/body/main/div[2]/div/div[7]/div[1]/div[2]/button[2]\n",
      "Stacktrace:\n",
      "WebDriverError@chrome://remote/content/shared/webdriver/Errors.jsm:181:5\n",
      "NoSuchElementError@chrome://remote/content/shared/webdriver/Errors.jsm:393:5\n",
      "element.find/</<@chrome://remote/content/marionette/element.js:305:16\n",
      "\n"
     ]
    },
    {
     "name": "stderr",
     "output_type": "stream",
     "text": [
      "/home/lucas/miniconda3/lib/python3.7/site-packages/ipykernel_launcher.py:3: DeprecationWarning: firefox_profile has been deprecated, please pass in an Options object\n",
      "  This is separate from the ipykernel package so we can avoid doing imports until\n",
      "/home/lucas/miniconda3/lib/python3.7/site-packages/ipykernel_launcher.py:3: DeprecationWarning: firefox_profile has been deprecated, please pass in an Options object\n",
      "  This is separate from the ipykernel package so we can avoid doing imports until\n"
     ]
    },
    {
     "name": "stdout",
     "output_type": "stream",
     "text": [
      "Message: Unable to locate element: /html/body/main/div[2]/div/div[7]/div[1]/div[2]/button[2]\n",
      "Stacktrace:\n",
      "WebDriverError@chrome://remote/content/shared/webdriver/Errors.jsm:181:5\n",
      "NoSuchElementError@chrome://remote/content/shared/webdriver/Errors.jsm:393:5\n",
      "element.find/</<@chrome://remote/content/marionette/element.js:305:16\n",
      "\n"
     ]
    },
    {
     "name": "stderr",
     "output_type": "stream",
     "text": [
      "/home/lucas/miniconda3/lib/python3.7/site-packages/ipykernel_launcher.py:3: DeprecationWarning: firefox_profile has been deprecated, please pass in an Options object\n",
      "  This is separate from the ipykernel package so we can avoid doing imports until\n"
     ]
    },
    {
     "name": "stdout",
     "output_type": "stream",
     "text": [
      "Message: Unable to locate element: /html/body/main/div[2]/div/div[7]/div[1]/div[2]/button[2]\n",
      "Stacktrace:\n",
      "WebDriverError@chrome://remote/content/shared/webdriver/Errors.jsm:181:5\n",
      "NoSuchElementError@chrome://remote/content/shared/webdriver/Errors.jsm:393:5\n",
      "element.find/</<@chrome://remote/content/marionette/element.js:305:16\n",
      "\n",
      "Message: Unable to locate element: /html/body/main/div[2]/div/div[7]/div[1]/div[2]/button[2]\n",
      "Stacktrace:\n",
      "WebDriverError@chrome://remote/content/shared/webdriver/Errors.jsm:181:5\n",
      "NoSuchElementError@chrome://remote/content/shared/webdriver/Errors.jsm:393:5\n",
      "element.find/</<@chrome://remote/content/marionette/element.js:305:16\n",
      "\n"
     ]
    },
    {
     "name": "stderr",
     "output_type": "stream",
     "text": [
      "/home/lucas/miniconda3/lib/python3.7/site-packages/ipykernel_launcher.py:3: DeprecationWarning: firefox_profile has been deprecated, please pass in an Options object\n",
      "  This is separate from the ipykernel package so we can avoid doing imports until\n",
      "/home/lucas/miniconda3/lib/python3.7/site-packages/ipykernel_launcher.py:3: DeprecationWarning: firefox_profile has been deprecated, please pass in an Options object\n",
      "  This is separate from the ipykernel package so we can avoid doing imports until\n",
      "/home/lucas/miniconda3/lib/python3.7/site-packages/ipykernel_launcher.py:3: DeprecationWarning: firefox_profile has been deprecated, please pass in an Options object\n",
      "  This is separate from the ipykernel package so we can avoid doing imports until\n"
     ]
    },
    {
     "name": "stdout",
     "output_type": "stream",
     "text": [
      "Message: Unable to locate element: /html/body/main/div[2]/div/div[7]/div[1]/div[2]/button[2]\n",
      "Stacktrace:\n",
      "WebDriverError@chrome://remote/content/shared/webdriver/Errors.jsm:181:5\n",
      "NoSuchElementError@chrome://remote/content/shared/webdriver/Errors.jsm:393:5\n",
      "element.find/</<@chrome://remote/content/marionette/element.js:305:16\n",
      "\n"
     ]
    },
    {
     "name": "stderr",
     "output_type": "stream",
     "text": [
      "/home/lucas/miniconda3/lib/python3.7/site-packages/ipykernel_launcher.py:3: DeprecationWarning: firefox_profile has been deprecated, please pass in an Options object\n",
      "  This is separate from the ipykernel package so we can avoid doing imports until\n",
      "/home/lucas/miniconda3/lib/python3.7/site-packages/ipykernel_launcher.py:3: DeprecationWarning: firefox_profile has been deprecated, please pass in an Options object\n",
      "  This is separate from the ipykernel package so we can avoid doing imports until\n",
      "/home/lucas/miniconda3/lib/python3.7/site-packages/ipykernel_launcher.py:3: DeprecationWarning: firefox_profile has been deprecated, please pass in an Options object\n",
      "  This is separate from the ipykernel package so we can avoid doing imports until\n"
     ]
    },
    {
     "name": "stdout",
     "output_type": "stream",
     "text": [
      "Message: Unable to locate element: /html/body/main/div[2]/div/div[7]/div[1]/div[2]/button[2]\n",
      "Stacktrace:\n",
      "WebDriverError@chrome://remote/content/shared/webdriver/Errors.jsm:181:5\n",
      "NoSuchElementError@chrome://remote/content/shared/webdriver/Errors.jsm:393:5\n",
      "element.find/</<@chrome://remote/content/marionette/element.js:305:16\n",
      "\n"
     ]
    },
    {
     "name": "stderr",
     "output_type": "stream",
     "text": [
      "/home/lucas/miniconda3/lib/python3.7/site-packages/ipykernel_launcher.py:3: DeprecationWarning: firefox_profile has been deprecated, please pass in an Options object\n",
      "  This is separate from the ipykernel package so we can avoid doing imports until\n",
      "/home/lucas/miniconda3/lib/python3.7/site-packages/ipykernel_launcher.py:3: DeprecationWarning: firefox_profile has been deprecated, please pass in an Options object\n",
      "  This is separate from the ipykernel package so we can avoid doing imports until\n"
     ]
    },
    {
     "name": "stdout",
     "output_type": "stream",
     "text": [
      "Message: Unable to locate element: /html/body/main/div[2]/div/div[7]/div[1]/div[2]/button[2]\n",
      "Stacktrace:\n",
      "WebDriverError@chrome://remote/content/shared/webdriver/Errors.jsm:181:5\n",
      "NoSuchElementError@chrome://remote/content/shared/webdriver/Errors.jsm:393:5\n",
      "element.find/</<@chrome://remote/content/marionette/element.js:305:16\n",
      "\n"
     ]
    },
    {
     "name": "stderr",
     "output_type": "stream",
     "text": [
      "/home/lucas/miniconda3/lib/python3.7/site-packages/ipykernel_launcher.py:3: DeprecationWarning: firefox_profile has been deprecated, please pass in an Options object\n",
      "  This is separate from the ipykernel package so we can avoid doing imports until\n"
     ]
    },
    {
     "name": "stdout",
     "output_type": "stream",
     "text": [
      "Message: Unable to locate element: /html/body/main/div[2]/div/div[7]/div[1]/div[2]/button[2]\n",
      "Stacktrace:\n",
      "WebDriverError@chrome://remote/content/shared/webdriver/Errors.jsm:181:5\n",
      "NoSuchElementError@chrome://remote/content/shared/webdriver/Errors.jsm:393:5\n",
      "element.find/</<@chrome://remote/content/marionette/element.js:305:16\n",
      "\n"
     ]
    },
    {
     "name": "stderr",
     "output_type": "stream",
     "text": [
      "/home/lucas/miniconda3/lib/python3.7/site-packages/ipykernel_launcher.py:3: DeprecationWarning: firefox_profile has been deprecated, please pass in an Options object\n",
      "  This is separate from the ipykernel package so we can avoid doing imports until\n",
      "/home/lucas/miniconda3/lib/python3.7/site-packages/ipykernel_launcher.py:3: DeprecationWarning: firefox_profile has been deprecated, please pass in an Options object\n",
      "  This is separate from the ipykernel package so we can avoid doing imports until\n",
      "/home/lucas/miniconda3/lib/python3.7/site-packages/ipykernel_launcher.py:3: DeprecationWarning: firefox_profile has been deprecated, please pass in an Options object\n",
      "  This is separate from the ipykernel package so we can avoid doing imports until\n",
      "/home/lucas/miniconda3/lib/python3.7/site-packages/ipykernel_launcher.py:3: DeprecationWarning: firefox_profile has been deprecated, please pass in an Options object\n",
      "  This is separate from the ipykernel package so we can avoid doing imports until\n",
      "/home/lucas/miniconda3/lib/python3.7/site-packages/ipykernel_launcher.py:3: DeprecationWarning: firefox_profile has been deprecated, please pass in an Options object\n",
      "  This is separate from the ipykernel package so we can avoid doing imports until\n",
      "/home/lucas/miniconda3/lib/python3.7/site-packages/ipykernel_launcher.py:3: DeprecationWarning: firefox_profile has been deprecated, please pass in an Options object\n",
      "  This is separate from the ipykernel package so we can avoid doing imports until\n"
     ]
    },
    {
     "name": "stdout",
     "output_type": "stream",
     "text": [
      "Message: Unable to locate element: /html/body/main/div[2]/div/div[7]/div[1]/div[2]/button[2]\n",
      "Stacktrace:\n",
      "WebDriverError@chrome://remote/content/shared/webdriver/Errors.jsm:181:5\n",
      "NoSuchElementError@chrome://remote/content/shared/webdriver/Errors.jsm:393:5\n",
      "element.find/</<@chrome://remote/content/marionette/element.js:305:16\n",
      "\n"
     ]
    },
    {
     "name": "stderr",
     "output_type": "stream",
     "text": [
      "/home/lucas/miniconda3/lib/python3.7/site-packages/ipykernel_launcher.py:3: DeprecationWarning: firefox_profile has been deprecated, please pass in an Options object\n",
      "  This is separate from the ipykernel package so we can avoid doing imports until\n"
     ]
    },
    {
     "name": "stdout",
     "output_type": "stream",
     "text": [
      "Message: Unable to locate element: /html/body/main/div[2]/div/div[7]/div[1]/div[2]/button[2]\n",
      "Stacktrace:\n",
      "WebDriverError@chrome://remote/content/shared/webdriver/Errors.jsm:181:5\n",
      "NoSuchElementError@chrome://remote/content/shared/webdriver/Errors.jsm:393:5\n",
      "element.find/</<@chrome://remote/content/marionette/element.js:305:16\n",
      "\n"
     ]
    },
    {
     "name": "stderr",
     "output_type": "stream",
     "text": [
      "/home/lucas/miniconda3/lib/python3.7/site-packages/ipykernel_launcher.py:3: DeprecationWarning: firefox_profile has been deprecated, please pass in an Options object\n",
      "  This is separate from the ipykernel package so we can avoid doing imports until\n"
     ]
    },
    {
     "name": "stdout",
     "output_type": "stream",
     "text": [
      "Message: Unable to locate element: /html/body/main/div[2]/div/div[7]/div[1]/div[2]/button[2]\n",
      "Stacktrace:\n",
      "WebDriverError@chrome://remote/content/shared/webdriver/Errors.jsm:181:5\n",
      "NoSuchElementError@chrome://remote/content/shared/webdriver/Errors.jsm:393:5\n",
      "element.find/</<@chrome://remote/content/marionette/element.js:305:16\n",
      "\n",
      "Message: Unable to locate element: /html/body/main/div[2]/div/div[7]/div[1]/div[2]/button[2]\n",
      "Stacktrace:\n",
      "WebDriverError@chrome://remote/content/shared/webdriver/Errors.jsm:181:5\n",
      "NoSuchElementError@chrome://remote/content/shared/webdriver/Errors.jsm:393:5\n",
      "element.find/</<@chrome://remote/content/marionette/element.js:305:16\n",
      "\n"
     ]
    },
    {
     "name": "stderr",
     "output_type": "stream",
     "text": [
      "/home/lucas/miniconda3/lib/python3.7/site-packages/ipykernel_launcher.py:3: DeprecationWarning: firefox_profile has been deprecated, please pass in an Options object\n",
      "  This is separate from the ipykernel package so we can avoid doing imports until\n"
     ]
    },
    {
     "name": "stdout",
     "output_type": "stream",
     "text": [
      "Message: Unable to locate element: /html/body/main/div[2]/div/div[7]/div[1]/div[2]/button[2]\n",
      "Stacktrace:\n",
      "WebDriverError@chrome://remote/content/shared/webdriver/Errors.jsm:181:5\n",
      "NoSuchElementError@chrome://remote/content/shared/webdriver/Errors.jsm:393:5\n",
      "element.find/</<@chrome://remote/content/marionette/element.js:305:16\n",
      "\n"
     ]
    },
    {
     "name": "stderr",
     "output_type": "stream",
     "text": [
      "/home/lucas/miniconda3/lib/python3.7/site-packages/ipykernel_launcher.py:3: DeprecationWarning: firefox_profile has been deprecated, please pass in an Options object\n",
      "  This is separate from the ipykernel package so we can avoid doing imports until\n",
      "/home/lucas/miniconda3/lib/python3.7/site-packages/ipykernel_launcher.py:3: DeprecationWarning: firefox_profile has been deprecated, please pass in an Options object\n",
      "  This is separate from the ipykernel package so we can avoid doing imports until\n"
     ]
    },
    {
     "name": "stdout",
     "output_type": "stream",
     "text": [
      "Message: Unable to locate element: /html/body/main/div[2]/div/div[7]/div[1]/div[2]/button[2]\n",
      "Stacktrace:\n",
      "WebDriverError@chrome://remote/content/shared/webdriver/Errors.jsm:181:5\n",
      "NoSuchElementError@chrome://remote/content/shared/webdriver/Errors.jsm:393:5\n",
      "element.find/</<@chrome://remote/content/marionette/element.js:305:16\n",
      "\n"
     ]
    },
    {
     "name": "stderr",
     "output_type": "stream",
     "text": [
      "/home/lucas/miniconda3/lib/python3.7/site-packages/ipykernel_launcher.py:3: DeprecationWarning: firefox_profile has been deprecated, please pass in an Options object\n",
      "  This is separate from the ipykernel package so we can avoid doing imports until\n"
     ]
    },
    {
     "name": "stdout",
     "output_type": "stream",
     "text": [
      "Message: Unable to locate element: /html/body/main/div[2]/div/div[7]/div[1]/div[2]/button[2]\n",
      "Stacktrace:\n",
      "WebDriverError@chrome://remote/content/shared/webdriver/Errors.jsm:181:5\n",
      "NoSuchElementError@chrome://remote/content/shared/webdriver/Errors.jsm:393:5\n",
      "element.find/</<@chrome://remote/content/marionette/element.js:305:16\n",
      "\n",
      "Message: Unable to locate element: /html/body/main/div[2]/div/div[7]/div[1]/div[2]/button[2]\n",
      "Stacktrace:\n",
      "WebDriverError@chrome://remote/content/shared/webdriver/Errors.jsm:181:5\n",
      "NoSuchElementError@chrome://remote/content/shared/webdriver/Errors.jsm:393:5\n",
      "element.find/</<@chrome://remote/content/marionette/element.js:305:16\n",
      "\n"
     ]
    },
    {
     "name": "stderr",
     "output_type": "stream",
     "text": [
      "/home/lucas/miniconda3/lib/python3.7/site-packages/ipykernel_launcher.py:3: DeprecationWarning: firefox_profile has been deprecated, please pass in an Options object\n",
      "  This is separate from the ipykernel package so we can avoid doing imports until\n",
      "/home/lucas/miniconda3/lib/python3.7/site-packages/ipykernel_launcher.py:3: DeprecationWarning: firefox_profile has been deprecated, please pass in an Options object\n",
      "  This is separate from the ipykernel package so we can avoid doing imports until\n",
      "/home/lucas/miniconda3/lib/python3.7/site-packages/ipykernel_launcher.py:3: DeprecationWarning: firefox_profile has been deprecated, please pass in an Options object\n",
      "  This is separate from the ipykernel package so we can avoid doing imports until\n"
     ]
    },
    {
     "name": "stdout",
     "output_type": "stream",
     "text": [
      "Message: Unable to locate element: /html/body/main/div[2]/div/div[7]/div[1]/div[2]/button[2]\n",
      "Stacktrace:\n",
      "WebDriverError@chrome://remote/content/shared/webdriver/Errors.jsm:181:5\n",
      "NoSuchElementError@chrome://remote/content/shared/webdriver/Errors.jsm:393:5\n",
      "element.find/</<@chrome://remote/content/marionette/element.js:305:16\n",
      "\n"
     ]
    },
    {
     "name": "stderr",
     "output_type": "stream",
     "text": [
      "/home/lucas/miniconda3/lib/python3.7/site-packages/ipykernel_launcher.py:3: DeprecationWarning: firefox_profile has been deprecated, please pass in an Options object\n",
      "  This is separate from the ipykernel package so we can avoid doing imports until\n"
     ]
    },
    {
     "name": "stdout",
     "output_type": "stream",
     "text": [
      "Message: Unable to locate element: /html/body/main/div[2]/div/div[7]/div[1]/div[2]/button[2]\n",
      "Stacktrace:\n",
      "WebDriverError@chrome://remote/content/shared/webdriver/Errors.jsm:181:5\n",
      "NoSuchElementError@chrome://remote/content/shared/webdriver/Errors.jsm:393:5\n",
      "element.find/</<@chrome://remote/content/marionette/element.js:305:16\n",
      "\n",
      "Message: Unable to locate element: /html/body/main/div[2]/div/div[7]/div[1]/div[2]/button[2]\n",
      "Stacktrace:\n",
      "WebDriverError@chrome://remote/content/shared/webdriver/Errors.jsm:181:5\n",
      "NoSuchElementError@chrome://remote/content/shared/webdriver/Errors.jsm:393:5\n",
      "element.find/</<@chrome://remote/content/marionette/element.js:305:16\n",
      "\n"
     ]
    },
    {
     "name": "stderr",
     "output_type": "stream",
     "text": [
      "/home/lucas/miniconda3/lib/python3.7/site-packages/ipykernel_launcher.py:3: DeprecationWarning: firefox_profile has been deprecated, please pass in an Options object\n",
      "  This is separate from the ipykernel package so we can avoid doing imports until\n"
     ]
    },
    {
     "name": "stdout",
     "output_type": "stream",
     "text": [
      "Message: Unable to locate element: /html/body/main/div[2]/div/div[7]/div[1]/div[2]/button[2]\n",
      "Stacktrace:\n",
      "WebDriverError@chrome://remote/content/shared/webdriver/Errors.jsm:181:5\n",
      "NoSuchElementError@chrome://remote/content/shared/webdriver/Errors.jsm:393:5\n",
      "element.find/</<@chrome://remote/content/marionette/element.js:305:16\n",
      "\n"
     ]
    },
    {
     "name": "stderr",
     "output_type": "stream",
     "text": [
      "/home/lucas/miniconda3/lib/python3.7/site-packages/ipykernel_launcher.py:3: DeprecationWarning: firefox_profile has been deprecated, please pass in an Options object\n",
      "  This is separate from the ipykernel package so we can avoid doing imports until\n",
      "/home/lucas/miniconda3/lib/python3.7/site-packages/ipykernel_launcher.py:3: DeprecationWarning: firefox_profile has been deprecated, please pass in an Options object\n",
      "  This is separate from the ipykernel package so we can avoid doing imports until\n"
     ]
    },
    {
     "name": "stdout",
     "output_type": "stream",
     "text": [
      "Message: Unable to locate element: /html/body/main/div[2]/div/div[7]/div[1]/div[2]/button[2]\n",
      "Stacktrace:\n",
      "WebDriverError@chrome://remote/content/shared/webdriver/Errors.jsm:181:5\n",
      "NoSuchElementError@chrome://remote/content/shared/webdriver/Errors.jsm:393:5\n",
      "element.find/</<@chrome://remote/content/marionette/element.js:305:16\n",
      "\n"
     ]
    },
    {
     "name": "stderr",
     "output_type": "stream",
     "text": [
      "/home/lucas/miniconda3/lib/python3.7/site-packages/ipykernel_launcher.py:3: DeprecationWarning: firefox_profile has been deprecated, please pass in an Options object\n",
      "  This is separate from the ipykernel package so we can avoid doing imports until\n"
     ]
    },
    {
     "name": "stdout",
     "output_type": "stream",
     "text": [
      "Message: Unable to locate element: /html/body/main/div[2]/div/div[7]/div[1]/div[2]/button[2]\n",
      "Stacktrace:\n",
      "WebDriverError@chrome://remote/content/shared/webdriver/Errors.jsm:181:5\n",
      "NoSuchElementError@chrome://remote/content/shared/webdriver/Errors.jsm:393:5\n",
      "element.find/</<@chrome://remote/content/marionette/element.js:305:16\n",
      "\n"
     ]
    },
    {
     "name": "stderr",
     "output_type": "stream",
     "text": [
      "/home/lucas/miniconda3/lib/python3.7/site-packages/ipykernel_launcher.py:3: DeprecationWarning: firefox_profile has been deprecated, please pass in an Options object\n",
      "  This is separate from the ipykernel package so we can avoid doing imports until\n"
     ]
    },
    {
     "name": "stdout",
     "output_type": "stream",
     "text": [
      "Message: Unable to locate element: /html/body/main/div[2]/div/div[7]/div[1]/div[2]/button[2]\n",
      "Stacktrace:\n",
      "WebDriverError@chrome://remote/content/shared/webdriver/Errors.jsm:181:5\n",
      "NoSuchElementError@chrome://remote/content/shared/webdriver/Errors.jsm:393:5\n",
      "element.find/</<@chrome://remote/content/marionette/element.js:305:16\n",
      "\n"
     ]
    },
    {
     "name": "stderr",
     "output_type": "stream",
     "text": [
      "/home/lucas/miniconda3/lib/python3.7/site-packages/ipykernel_launcher.py:3: DeprecationWarning: firefox_profile has been deprecated, please pass in an Options object\n",
      "  This is separate from the ipykernel package so we can avoid doing imports until\n"
     ]
    },
    {
     "name": "stdout",
     "output_type": "stream",
     "text": [
      "Message: Unable to locate element: /html/body/main/div[2]/div/div[7]/div[1]/div[2]/button[2]\n",
      "Stacktrace:\n",
      "WebDriverError@chrome://remote/content/shared/webdriver/Errors.jsm:181:5\n",
      "NoSuchElementError@chrome://remote/content/shared/webdriver/Errors.jsm:393:5\n",
      "element.find/</<@chrome://remote/content/marionette/element.js:305:16\n",
      "\n"
     ]
    },
    {
     "name": "stderr",
     "output_type": "stream",
     "text": [
      "/home/lucas/miniconda3/lib/python3.7/site-packages/ipykernel_launcher.py:3: DeprecationWarning: firefox_profile has been deprecated, please pass in an Options object\n",
      "  This is separate from the ipykernel package so we can avoid doing imports until\n",
      "/home/lucas/miniconda3/lib/python3.7/site-packages/ipykernel_launcher.py:3: DeprecationWarning: firefox_profile has been deprecated, please pass in an Options object\n",
      "  This is separate from the ipykernel package so we can avoid doing imports until\n"
     ]
    },
    {
     "name": "stdout",
     "output_type": "stream",
     "text": [
      "Message: Unable to locate element: /html/body/main/div[2]/div/div[7]/div[1]/div[2]/button[2]\n",
      "Stacktrace:\n",
      "WebDriverError@chrome://remote/content/shared/webdriver/Errors.jsm:181:5\n",
      "NoSuchElementError@chrome://remote/content/shared/webdriver/Errors.jsm:393:5\n",
      "element.find/</<@chrome://remote/content/marionette/element.js:305:16\n",
      "\n"
     ]
    },
    {
     "name": "stderr",
     "output_type": "stream",
     "text": [
      "/home/lucas/miniconda3/lib/python3.7/site-packages/ipykernel_launcher.py:3: DeprecationWarning: firefox_profile has been deprecated, please pass in an Options object\n",
      "  This is separate from the ipykernel package so we can avoid doing imports until\n"
     ]
    },
    {
     "name": "stdout",
     "output_type": "stream",
     "text": [
      "Message: Unable to locate element: /html/body/main/div[2]/div/div[7]/div[1]/div[2]/button[2]\n",
      "Stacktrace:\n",
      "WebDriverError@chrome://remote/content/shared/webdriver/Errors.jsm:181:5\n",
      "NoSuchElementError@chrome://remote/content/shared/webdriver/Errors.jsm:393:5\n",
      "element.find/</<@chrome://remote/content/marionette/element.js:305:16\n",
      "\n"
     ]
    },
    {
     "name": "stderr",
     "output_type": "stream",
     "text": [
      "/home/lucas/miniconda3/lib/python3.7/site-packages/ipykernel_launcher.py:3: DeprecationWarning: firefox_profile has been deprecated, please pass in an Options object\n",
      "  This is separate from the ipykernel package so we can avoid doing imports until\n"
     ]
    },
    {
     "name": "stdout",
     "output_type": "stream",
     "text": [
      "Message: Unable to locate element: /html/body/main/div[2]/div/div[7]/div[1]/div[2]/button[2]\n",
      "Stacktrace:\n",
      "WebDriverError@chrome://remote/content/shared/webdriver/Errors.jsm:181:5\n",
      "NoSuchElementError@chrome://remote/content/shared/webdriver/Errors.jsm:393:5\n",
      "element.find/</<@chrome://remote/content/marionette/element.js:305:16\n",
      "\n"
     ]
    },
    {
     "name": "stderr",
     "output_type": "stream",
     "text": [
      "/home/lucas/miniconda3/lib/python3.7/site-packages/ipykernel_launcher.py:3: DeprecationWarning: firefox_profile has been deprecated, please pass in an Options object\n",
      "  This is separate from the ipykernel package so we can avoid doing imports until\n"
     ]
    },
    {
     "name": "stdout",
     "output_type": "stream",
     "text": [
      "Message: Unable to locate element: /html/body/main/div[2]/div/div[7]/div[1]/div[2]/button[2]\n",
      "Stacktrace:\n",
      "WebDriverError@chrome://remote/content/shared/webdriver/Errors.jsm:181:5\n",
      "NoSuchElementError@chrome://remote/content/shared/webdriver/Errors.jsm:393:5\n",
      "element.find/</<@chrome://remote/content/marionette/element.js:305:16\n",
      "\n"
     ]
    },
    {
     "name": "stderr",
     "output_type": "stream",
     "text": [
      "/home/lucas/miniconda3/lib/python3.7/site-packages/ipykernel_launcher.py:3: DeprecationWarning: firefox_profile has been deprecated, please pass in an Options object\n",
      "  This is separate from the ipykernel package so we can avoid doing imports until\n"
     ]
    },
    {
     "name": "stdout",
     "output_type": "stream",
     "text": [
      "Message: Unable to locate element: /html/body/main/div[2]/div/div[7]/div[1]/div[2]/button[2]\n",
      "Stacktrace:\n",
      "WebDriverError@chrome://remote/content/shared/webdriver/Errors.jsm:181:5\n",
      "NoSuchElementError@chrome://remote/content/shared/webdriver/Errors.jsm:393:5\n",
      "element.find/</<@chrome://remote/content/marionette/element.js:305:16\n",
      "\n"
     ]
    },
    {
     "name": "stderr",
     "output_type": "stream",
     "text": [
      "/home/lucas/miniconda3/lib/python3.7/site-packages/ipykernel_launcher.py:3: DeprecationWarning: firefox_profile has been deprecated, please pass in an Options object\n",
      "  This is separate from the ipykernel package so we can avoid doing imports until\n"
     ]
    },
    {
     "name": "stdout",
     "output_type": "stream",
     "text": [
      "Message: Unable to locate element: /html/body/main/div[2]/div/div[7]/div[1]/div[2]/button[2]\n",
      "Stacktrace:\n",
      "WebDriverError@chrome://remote/content/shared/webdriver/Errors.jsm:181:5\n",
      "NoSuchElementError@chrome://remote/content/shared/webdriver/Errors.jsm:393:5\n",
      "element.find/</<@chrome://remote/content/marionette/element.js:305:16\n",
      "\n"
     ]
    },
    {
     "name": "stderr",
     "output_type": "stream",
     "text": [
      "/home/lucas/miniconda3/lib/python3.7/site-packages/ipykernel_launcher.py:3: DeprecationWarning: firefox_profile has been deprecated, please pass in an Options object\n",
      "  This is separate from the ipykernel package so we can avoid doing imports until\n",
      "/home/lucas/miniconda3/lib/python3.7/site-packages/ipykernel_launcher.py:3: DeprecationWarning: firefox_profile has been deprecated, please pass in an Options object\n",
      "  This is separate from the ipykernel package so we can avoid doing imports until\n"
     ]
    },
    {
     "name": "stdout",
     "output_type": "stream",
     "text": [
      "Message: Unable to locate element: /html/body/main/div[2]/div/div[7]/div[1]/div[2]/button[2]\n",
      "Stacktrace:\n",
      "WebDriverError@chrome://remote/content/shared/webdriver/Errors.jsm:181:5\n",
      "NoSuchElementError@chrome://remote/content/shared/webdriver/Errors.jsm:393:5\n",
      "element.find/</<@chrome://remote/content/marionette/element.js:305:16\n",
      "\n"
     ]
    },
    {
     "name": "stderr",
     "output_type": "stream",
     "text": [
      "/home/lucas/miniconda3/lib/python3.7/site-packages/ipykernel_launcher.py:3: DeprecationWarning: firefox_profile has been deprecated, please pass in an Options object\n",
      "  This is separate from the ipykernel package so we can avoid doing imports until\n",
      "/home/lucas/miniconda3/lib/python3.7/site-packages/ipykernel_launcher.py:3: DeprecationWarning: firefox_profile has been deprecated, please pass in an Options object\n",
      "  This is separate from the ipykernel package so we can avoid doing imports until\n"
     ]
    },
    {
     "name": "stdout",
     "output_type": "stream",
     "text": [
      "Message: Unable to locate element: /html/body/main/div[2]/div/div[7]/div[1]/div[2]/button[2]\n",
      "Stacktrace:\n",
      "WebDriverError@chrome://remote/content/shared/webdriver/Errors.jsm:181:5\n",
      "NoSuchElementError@chrome://remote/content/shared/webdriver/Errors.jsm:393:5\n",
      "element.find/</<@chrome://remote/content/marionette/element.js:305:16\n",
      "\n"
     ]
    },
    {
     "name": "stderr",
     "output_type": "stream",
     "text": [
      "/home/lucas/miniconda3/lib/python3.7/site-packages/ipykernel_launcher.py:3: DeprecationWarning: firefox_profile has been deprecated, please pass in an Options object\n",
      "  This is separate from the ipykernel package so we can avoid doing imports until\n"
     ]
    },
    {
     "name": "stdout",
     "output_type": "stream",
     "text": [
      "Message: Unable to locate element: /html/body/main/div[2]/div/div[7]/div[1]/div[2]/button[2]\n",
      "Stacktrace:\n",
      "WebDriverError@chrome://remote/content/shared/webdriver/Errors.jsm:181:5\n",
      "NoSuchElementError@chrome://remote/content/shared/webdriver/Errors.jsm:393:5\n",
      "element.find/</<@chrome://remote/content/marionette/element.js:305:16\n",
      "\n"
     ]
    },
    {
     "name": "stderr",
     "output_type": "stream",
     "text": [
      "/home/lucas/miniconda3/lib/python3.7/site-packages/ipykernel_launcher.py:3: DeprecationWarning: firefox_profile has been deprecated, please pass in an Options object\n",
      "  This is separate from the ipykernel package so we can avoid doing imports until\n",
      "/home/lucas/miniconda3/lib/python3.7/site-packages/ipykernel_launcher.py:3: DeprecationWarning: firefox_profile has been deprecated, please pass in an Options object\n",
      "  This is separate from the ipykernel package so we can avoid doing imports until\n"
     ]
    },
    {
     "name": "stdout",
     "output_type": "stream",
     "text": [
      "Message: Unable to locate element: /html/body/main/div[2]/div/div[7]/div[1]/div[2]/button[2]\n",
      "Stacktrace:\n",
      "WebDriverError@chrome://remote/content/shared/webdriver/Errors.jsm:181:5\n",
      "NoSuchElementError@chrome://remote/content/shared/webdriver/Errors.jsm:393:5\n",
      "element.find/</<@chrome://remote/content/marionette/element.js:305:16\n",
      "\n",
      "Message: Unable to locate element: /html/body/main/div[2]/div/div[7]/div[1]/div[2]/button[2]\n",
      "Stacktrace:\n",
      "WebDriverError@chrome://remote/content/shared/webdriver/Errors.jsm:181:5\n",
      "NoSuchElementError@chrome://remote/content/shared/webdriver/Errors.jsm:393:5\n",
      "element.find/</<@chrome://remote/content/marionette/element.js:305:16\n",
      "\n"
     ]
    },
    {
     "name": "stderr",
     "output_type": "stream",
     "text": [
      "/home/lucas/miniconda3/lib/python3.7/site-packages/ipykernel_launcher.py:3: DeprecationWarning: firefox_profile has been deprecated, please pass in an Options object\n",
      "  This is separate from the ipykernel package so we can avoid doing imports until\n",
      "/home/lucas/miniconda3/lib/python3.7/site-packages/ipykernel_launcher.py:3: DeprecationWarning: firefox_profile has been deprecated, please pass in an Options object\n",
      "  This is separate from the ipykernel package so we can avoid doing imports until\n"
     ]
    },
    {
     "name": "stdout",
     "output_type": "stream",
     "text": [
      "Message: Unable to locate element: /html/body/main/div[2]/div/div[7]/div[1]/div[2]/button[2]\n",
      "Stacktrace:\n",
      "WebDriverError@chrome://remote/content/shared/webdriver/Errors.jsm:181:5\n",
      "NoSuchElementError@chrome://remote/content/shared/webdriver/Errors.jsm:393:5\n",
      "element.find/</<@chrome://remote/content/marionette/element.js:305:16\n",
      "\n"
     ]
    },
    {
     "name": "stderr",
     "output_type": "stream",
     "text": [
      "/home/lucas/miniconda3/lib/python3.7/site-packages/ipykernel_launcher.py:3: DeprecationWarning: firefox_profile has been deprecated, please pass in an Options object\n",
      "  This is separate from the ipykernel package so we can avoid doing imports until\n"
     ]
    },
    {
     "name": "stdout",
     "output_type": "stream",
     "text": [
      "Message: Unable to locate element: /html/body/main/div[2]/div/div[7]/div[1]/div[2]/button[2]\n",
      "Stacktrace:\n",
      "WebDriverError@chrome://remote/content/shared/webdriver/Errors.jsm:181:5\n",
      "NoSuchElementError@chrome://remote/content/shared/webdriver/Errors.jsm:393:5\n",
      "element.find/</<@chrome://remote/content/marionette/element.js:305:16\n",
      "\n"
     ]
    },
    {
     "name": "stderr",
     "output_type": "stream",
     "text": [
      "/home/lucas/miniconda3/lib/python3.7/site-packages/ipykernel_launcher.py:3: DeprecationWarning: firefox_profile has been deprecated, please pass in an Options object\n",
      "  This is separate from the ipykernel package so we can avoid doing imports until\n"
     ]
    },
    {
     "name": "stdout",
     "output_type": "stream",
     "text": [
      "Message: Unable to locate element: /html/body/main/div[2]/div/div[7]/div[1]/div[2]/button[2]\n",
      "Stacktrace:\n",
      "WebDriverError@chrome://remote/content/shared/webdriver/Errors.jsm:181:5\n",
      "NoSuchElementError@chrome://remote/content/shared/webdriver/Errors.jsm:393:5\n",
      "element.find/</<@chrome://remote/content/marionette/element.js:305:16\n",
      "\n"
     ]
    },
    {
     "name": "stderr",
     "output_type": "stream",
     "text": [
      "/home/lucas/miniconda3/lib/python3.7/site-packages/ipykernel_launcher.py:3: DeprecationWarning: firefox_profile has been deprecated, please pass in an Options object\n",
      "  This is separate from the ipykernel package so we can avoid doing imports until\n"
     ]
    },
    {
     "name": "stdout",
     "output_type": "stream",
     "text": [
      "Message: Unable to locate element: /html/body/main/div[2]/div/div[7]/div[1]/div[2]/button[2]\n",
      "Stacktrace:\n",
      "WebDriverError@chrome://remote/content/shared/webdriver/Errors.jsm:181:5\n",
      "NoSuchElementError@chrome://remote/content/shared/webdriver/Errors.jsm:393:5\n",
      "element.find/</<@chrome://remote/content/marionette/element.js:305:16\n",
      "\n"
     ]
    },
    {
     "name": "stderr",
     "output_type": "stream",
     "text": [
      "/home/lucas/miniconda3/lib/python3.7/site-packages/ipykernel_launcher.py:3: DeprecationWarning: firefox_profile has been deprecated, please pass in an Options object\n",
      "  This is separate from the ipykernel package so we can avoid doing imports until\n",
      "/home/lucas/miniconda3/lib/python3.7/site-packages/ipykernel_launcher.py:3: DeprecationWarning: firefox_profile has been deprecated, please pass in an Options object\n",
      "  This is separate from the ipykernel package so we can avoid doing imports until\n"
     ]
    },
    {
     "name": "stdout",
     "output_type": "stream",
     "text": [
      "Message: Unable to locate element: /html/body/main/div[2]/div/div[7]/div[1]/div[2]/button[2]\n",
      "Stacktrace:\n",
      "WebDriverError@chrome://remote/content/shared/webdriver/Errors.jsm:181:5\n",
      "NoSuchElementError@chrome://remote/content/shared/webdriver/Errors.jsm:393:5\n",
      "element.find/</<@chrome://remote/content/marionette/element.js:305:16\n",
      "\n"
     ]
    },
    {
     "name": "stderr",
     "output_type": "stream",
     "text": [
      "/home/lucas/miniconda3/lib/python3.7/site-packages/ipykernel_launcher.py:3: DeprecationWarning: firefox_profile has been deprecated, please pass in an Options object\n",
      "  This is separate from the ipykernel package so we can avoid doing imports until\n"
     ]
    },
    {
     "name": "stdout",
     "output_type": "stream",
     "text": [
      "Message: Unable to locate element: /html/body/main/div[2]/div/div[7]/div[1]/div[2]/button[2]\n",
      "Stacktrace:\n",
      "WebDriverError@chrome://remote/content/shared/webdriver/Errors.jsm:181:5\n",
      "NoSuchElementError@chrome://remote/content/shared/webdriver/Errors.jsm:393:5\n",
      "element.find/</<@chrome://remote/content/marionette/element.js:305:16\n",
      "\n"
     ]
    },
    {
     "name": "stderr",
     "output_type": "stream",
     "text": [
      "/home/lucas/miniconda3/lib/python3.7/site-packages/ipykernel_launcher.py:3: DeprecationWarning: firefox_profile has been deprecated, please pass in an Options object\n",
      "  This is separate from the ipykernel package so we can avoid doing imports until\n"
     ]
    },
    {
     "name": "stdout",
     "output_type": "stream",
     "text": [
      "Message: Unable to locate element: /html/body/main/div[2]/div/div[7]/div[1]/div[2]/button[2]\n",
      "Stacktrace:\n",
      "WebDriverError@chrome://remote/content/shared/webdriver/Errors.jsm:181:5\n",
      "NoSuchElementError@chrome://remote/content/shared/webdriver/Errors.jsm:393:5\n",
      "element.find/</<@chrome://remote/content/marionette/element.js:305:16\n",
      "\n"
     ]
    },
    {
     "name": "stderr",
     "output_type": "stream",
     "text": [
      "/home/lucas/miniconda3/lib/python3.7/site-packages/ipykernel_launcher.py:3: DeprecationWarning: firefox_profile has been deprecated, please pass in an Options object\n",
      "  This is separate from the ipykernel package so we can avoid doing imports until\n"
     ]
    },
    {
     "name": "stdout",
     "output_type": "stream",
     "text": [
      "Message: Unable to locate element: /html/body/main/div[2]/div/div[7]/div[1]/div[2]/button[2]\n",
      "Stacktrace:\n",
      "WebDriverError@chrome://remote/content/shared/webdriver/Errors.jsm:181:5\n",
      "NoSuchElementError@chrome://remote/content/shared/webdriver/Errors.jsm:393:5\n",
      "element.find/</<@chrome://remote/content/marionette/element.js:305:16\n",
      "\n"
     ]
    },
    {
     "name": "stderr",
     "output_type": "stream",
     "text": [
      "/home/lucas/miniconda3/lib/python3.7/site-packages/ipykernel_launcher.py:3: DeprecationWarning: firefox_profile has been deprecated, please pass in an Options object\n",
      "  This is separate from the ipykernel package so we can avoid doing imports until\n",
      "/home/lucas/miniconda3/lib/python3.7/site-packages/ipykernel_launcher.py:3: DeprecationWarning: firefox_profile has been deprecated, please pass in an Options object\n",
      "  This is separate from the ipykernel package so we can avoid doing imports until\n"
     ]
    },
    {
     "name": "stdout",
     "output_type": "stream",
     "text": [
      "Message: Unable to locate element: /html/body/main/div[2]/div/div[7]/div[1]/div[2]/button[2]\n",
      "Stacktrace:\n",
      "WebDriverError@chrome://remote/content/shared/webdriver/Errors.jsm:181:5\n",
      "NoSuchElementError@chrome://remote/content/shared/webdriver/Errors.jsm:393:5\n",
      "element.find/</<@chrome://remote/content/marionette/element.js:305:16\n",
      "\n",
      "Message: Unable to locate element: /html/body/main/div[2]/div/div[7]/div[1]/div[2]/button[2]\n",
      "Stacktrace:\n",
      "WebDriverError@chrome://remote/content/shared/webdriver/Errors.jsm:181:5\n",
      "NoSuchElementError@chrome://remote/content/shared/webdriver/Errors.jsm:393:5\n",
      "element.find/</<@chrome://remote/content/marionette/element.js:305:16\n",
      "\n"
     ]
    },
    {
     "name": "stderr",
     "output_type": "stream",
     "text": [
      "/home/lucas/miniconda3/lib/python3.7/site-packages/ipykernel_launcher.py:3: DeprecationWarning: firefox_profile has been deprecated, please pass in an Options object\n",
      "  This is separate from the ipykernel package so we can avoid doing imports until\n",
      "/home/lucas/miniconda3/lib/python3.7/site-packages/ipykernel_launcher.py:3: DeprecationWarning: firefox_profile has been deprecated, please pass in an Options object\n",
      "  This is separate from the ipykernel package so we can avoid doing imports until\n"
     ]
    },
    {
     "name": "stdout",
     "output_type": "stream",
     "text": [
      "Message: Unable to locate element: /html/body/main/div[2]/div/div[7]/div[1]/div[2]/button[2]\n",
      "Stacktrace:\n",
      "WebDriverError@chrome://remote/content/shared/webdriver/Errors.jsm:181:5\n",
      "NoSuchElementError@chrome://remote/content/shared/webdriver/Errors.jsm:393:5\n",
      "element.find/</<@chrome://remote/content/marionette/element.js:305:16\n",
      "\n",
      "Message: Unable to locate element: /html/body/main/div[2]/div/div[7]/div[1]/div[2]/button[2]\n",
      "Stacktrace:\n",
      "WebDriverError@chrome://remote/content/shared/webdriver/Errors.jsm:181:5\n",
      "NoSuchElementError@chrome://remote/content/shared/webdriver/Errors.jsm:393:5\n",
      "element.find/</<@chrome://remote/content/marionette/element.js:305:16\n",
      "\n"
     ]
    },
    {
     "name": "stderr",
     "output_type": "stream",
     "text": [
      "/home/lucas/miniconda3/lib/python3.7/site-packages/ipykernel_launcher.py:3: DeprecationWarning: firefox_profile has been deprecated, please pass in an Options object\n",
      "  This is separate from the ipykernel package so we can avoid doing imports until\n",
      "/home/lucas/miniconda3/lib/python3.7/site-packages/ipykernel_launcher.py:3: DeprecationWarning: firefox_profile has been deprecated, please pass in an Options object\n",
      "  This is separate from the ipykernel package so we can avoid doing imports until\n"
     ]
    },
    {
     "name": "stdout",
     "output_type": "stream",
     "text": [
      "Message: Unable to locate element: /html/body/main/div[2]/div/div[7]/div[1]/div[2]/button[2]\n",
      "Stacktrace:\n",
      "WebDriverError@chrome://remote/content/shared/webdriver/Errors.jsm:181:5\n",
      "NoSuchElementError@chrome://remote/content/shared/webdriver/Errors.jsm:393:5\n",
      "element.find/</<@chrome://remote/content/marionette/element.js:305:16\n",
      "\n",
      "Message: Unable to locate element: /html/body/main/div[2]/div/div[7]/div[1]/div[2]/button[2]\n",
      "Stacktrace:\n",
      "WebDriverError@chrome://remote/content/shared/webdriver/Errors.jsm:181:5\n",
      "NoSuchElementError@chrome://remote/content/shared/webdriver/Errors.jsm:393:5\n",
      "element.find/</<@chrome://remote/content/marionette/element.js:305:16\n",
      "\n"
     ]
    },
    {
     "name": "stderr",
     "output_type": "stream",
     "text": [
      "/home/lucas/miniconda3/lib/python3.7/site-packages/ipykernel_launcher.py:3: DeprecationWarning: firefox_profile has been deprecated, please pass in an Options object\n",
      "  This is separate from the ipykernel package so we can avoid doing imports until\n",
      "/home/lucas/miniconda3/lib/python3.7/site-packages/ipykernel_launcher.py:3: DeprecationWarning: firefox_profile has been deprecated, please pass in an Options object\n",
      "  This is separate from the ipykernel package so we can avoid doing imports until\n"
     ]
    },
    {
     "name": "stdout",
     "output_type": "stream",
     "text": [
      "Message: Unable to locate element: /html/body/main/div[2]/div/div[7]/div[1]/div[2]/button[2]\n",
      "Stacktrace:\n",
      "WebDriverError@chrome://remote/content/shared/webdriver/Errors.jsm:181:5\n",
      "NoSuchElementError@chrome://remote/content/shared/webdriver/Errors.jsm:393:5\n",
      "element.find/</<@chrome://remote/content/marionette/element.js:305:16\n",
      "\n"
     ]
    },
    {
     "name": "stderr",
     "output_type": "stream",
     "text": [
      "/home/lucas/miniconda3/lib/python3.7/site-packages/ipykernel_launcher.py:3: DeprecationWarning: firefox_profile has been deprecated, please pass in an Options object\n",
      "  This is separate from the ipykernel package so we can avoid doing imports until\n",
      "/home/lucas/miniconda3/lib/python3.7/site-packages/ipykernel_launcher.py:3: DeprecationWarning: firefox_profile has been deprecated, please pass in an Options object\n",
      "  This is separate from the ipykernel package so we can avoid doing imports until\n"
     ]
    },
    {
     "name": "stdout",
     "output_type": "stream",
     "text": [
      "Message: Unable to locate element: /html/body/main/div[2]/div/div[7]/div[1]/div[2]/button[2]\n",
      "Stacktrace:\n",
      "WebDriverError@chrome://remote/content/shared/webdriver/Errors.jsm:181:5\n",
      "NoSuchElementError@chrome://remote/content/shared/webdriver/Errors.jsm:393:5\n",
      "element.find/</<@chrome://remote/content/marionette/element.js:305:16\n",
      "\n"
     ]
    },
    {
     "name": "stderr",
     "output_type": "stream",
     "text": [
      "/home/lucas/miniconda3/lib/python3.7/site-packages/ipykernel_launcher.py:3: DeprecationWarning: firefox_profile has been deprecated, please pass in an Options object\n",
      "  This is separate from the ipykernel package so we can avoid doing imports until\n",
      "/home/lucas/miniconda3/lib/python3.7/site-packages/ipykernel_launcher.py:3: DeprecationWarning: firefox_profile has been deprecated, please pass in an Options object\n",
      "  This is separate from the ipykernel package so we can avoid doing imports until\n"
     ]
    },
    {
     "name": "stdout",
     "output_type": "stream",
     "text": [
      "Message: Unable to locate element: /html/body/main/div[2]/div/div[7]/div[1]/div[2]/button[2]\n",
      "Stacktrace:\n",
      "WebDriverError@chrome://remote/content/shared/webdriver/Errors.jsm:181:5\n",
      "NoSuchElementError@chrome://remote/content/shared/webdriver/Errors.jsm:393:5\n",
      "element.find/</<@chrome://remote/content/marionette/element.js:305:16\n",
      "\n"
     ]
    },
    {
     "name": "stderr",
     "output_type": "stream",
     "text": [
      "/home/lucas/miniconda3/lib/python3.7/site-packages/ipykernel_launcher.py:3: DeprecationWarning: firefox_profile has been deprecated, please pass in an Options object\n",
      "  This is separate from the ipykernel package so we can avoid doing imports until\n"
     ]
    },
    {
     "name": "stdout",
     "output_type": "stream",
     "text": [
      "Message: Unable to locate element: /html/body/main/div[2]/div/div[7]/div[1]/div[2]/button[2]\n",
      "Stacktrace:\n",
      "WebDriverError@chrome://remote/content/shared/webdriver/Errors.jsm:181:5\n",
      "NoSuchElementError@chrome://remote/content/shared/webdriver/Errors.jsm:393:5\n",
      "element.find/</<@chrome://remote/content/marionette/element.js:305:16\n",
      "\n"
     ]
    },
    {
     "name": "stderr",
     "output_type": "stream",
     "text": [
      "/home/lucas/miniconda3/lib/python3.7/site-packages/ipykernel_launcher.py:3: DeprecationWarning: firefox_profile has been deprecated, please pass in an Options object\n",
      "  This is separate from the ipykernel package so we can avoid doing imports until\n",
      "/home/lucas/miniconda3/lib/python3.7/site-packages/ipykernel_launcher.py:3: DeprecationWarning: firefox_profile has been deprecated, please pass in an Options object\n",
      "  This is separate from the ipykernel package so we can avoid doing imports until\n"
     ]
    },
    {
     "name": "stdout",
     "output_type": "stream",
     "text": [
      "Message: Unable to locate element: /html/body/main/div[2]/div/div[7]/div[1]/div[2]/button[2]\n",
      "Stacktrace:\n",
      "WebDriverError@chrome://remote/content/shared/webdriver/Errors.jsm:181:5\n",
      "NoSuchElementError@chrome://remote/content/shared/webdriver/Errors.jsm:393:5\n",
      "element.find/</<@chrome://remote/content/marionette/element.js:305:16\n",
      "\n"
     ]
    },
    {
     "name": "stderr",
     "output_type": "stream",
     "text": [
      "/home/lucas/miniconda3/lib/python3.7/site-packages/ipykernel_launcher.py:3: DeprecationWarning: firefox_profile has been deprecated, please pass in an Options object\n",
      "  This is separate from the ipykernel package so we can avoid doing imports until\n",
      "/home/lucas/miniconda3/lib/python3.7/site-packages/ipykernel_launcher.py:3: DeprecationWarning: firefox_profile has been deprecated, please pass in an Options object\n",
      "  This is separate from the ipykernel package so we can avoid doing imports until\n",
      "/home/lucas/miniconda3/lib/python3.7/site-packages/ipykernel_launcher.py:3: DeprecationWarning: firefox_profile has been deprecated, please pass in an Options object\n",
      "  This is separate from the ipykernel package so we can avoid doing imports until\n"
     ]
    },
    {
     "name": "stdout",
     "output_type": "stream",
     "text": [
      "Message: Unable to locate element: /html/body/main/div[2]/div/div[7]/div[1]/div[2]/button[2]\n",
      "Stacktrace:\n",
      "WebDriverError@chrome://remote/content/shared/webdriver/Errors.jsm:181:5\n",
      "NoSuchElementError@chrome://remote/content/shared/webdriver/Errors.jsm:393:5\n",
      "element.find/</<@chrome://remote/content/marionette/element.js:305:16\n",
      "\n"
     ]
    },
    {
     "name": "stderr",
     "output_type": "stream",
     "text": [
      "/home/lucas/miniconda3/lib/python3.7/site-packages/ipykernel_launcher.py:3: DeprecationWarning: firefox_profile has been deprecated, please pass in an Options object\n",
      "  This is separate from the ipykernel package so we can avoid doing imports until\n"
     ]
    },
    {
     "name": "stdout",
     "output_type": "stream",
     "text": [
      "Message: Unable to locate element: /html/body/main/div[2]/div/div[7]/div[1]/div[2]/button[2]\n",
      "Stacktrace:\n",
      "WebDriverError@chrome://remote/content/shared/webdriver/Errors.jsm:181:5\n",
      "NoSuchElementError@chrome://remote/content/shared/webdriver/Errors.jsm:393:5\n",
      "element.find/</<@chrome://remote/content/marionette/element.js:305:16\n",
      "\n",
      "Message: Unable to locate element: /html/body/main/div[2]/div/div[7]/div[1]/div[2]/button[2]\n",
      "Stacktrace:\n",
      "WebDriverError@chrome://remote/content/shared/webdriver/Errors.jsm:181:5\n",
      "NoSuchElementError@chrome://remote/content/shared/webdriver/Errors.jsm:393:5\n",
      "element.find/</<@chrome://remote/content/marionette/element.js:305:16\n",
      "\n"
     ]
    },
    {
     "name": "stderr",
     "output_type": "stream",
     "text": [
      "/home/lucas/miniconda3/lib/python3.7/site-packages/ipykernel_launcher.py:3: DeprecationWarning: firefox_profile has been deprecated, please pass in an Options object\n",
      "  This is separate from the ipykernel package so we can avoid doing imports until\n",
      "/home/lucas/miniconda3/lib/python3.7/site-packages/ipykernel_launcher.py:3: DeprecationWarning: firefox_profile has been deprecated, please pass in an Options object\n",
      "  This is separate from the ipykernel package so we can avoid doing imports until\n"
     ]
    },
    {
     "name": "stdout",
     "output_type": "stream",
     "text": [
      "Message: Unable to locate element: /html/body/main/div[2]/div/div[7]/div[1]/div[2]/button[2]\n",
      "Stacktrace:\n",
      "WebDriverError@chrome://remote/content/shared/webdriver/Errors.jsm:181:5\n",
      "NoSuchElementError@chrome://remote/content/shared/webdriver/Errors.jsm:393:5\n",
      "element.find/</<@chrome://remote/content/marionette/element.js:305:16\n",
      "\n"
     ]
    },
    {
     "name": "stderr",
     "output_type": "stream",
     "text": [
      "/home/lucas/miniconda3/lib/python3.7/site-packages/ipykernel_launcher.py:3: DeprecationWarning: firefox_profile has been deprecated, please pass in an Options object\n",
      "  This is separate from the ipykernel package so we can avoid doing imports until\n",
      "/home/lucas/miniconda3/lib/python3.7/site-packages/ipykernel_launcher.py:3: DeprecationWarning: firefox_profile has been deprecated, please pass in an Options object\n",
      "  This is separate from the ipykernel package so we can avoid doing imports until\n"
     ]
    },
    {
     "name": "stdout",
     "output_type": "stream",
     "text": [
      "Message: Unable to locate element: /html/body/main/div[2]/div/div[7]/div[1]/div[2]/button[2]\n",
      "Stacktrace:\n",
      "WebDriverError@chrome://remote/content/shared/webdriver/Errors.jsm:181:5\n",
      "NoSuchElementError@chrome://remote/content/shared/webdriver/Errors.jsm:393:5\n",
      "element.find/</<@chrome://remote/content/marionette/element.js:305:16\n",
      "\n",
      "Message: Unable to locate element: /html/body/main/div[2]/div/div[7]/div[1]/div[2]/button[2]\n",
      "Stacktrace:\n",
      "WebDriverError@chrome://remote/content/shared/webdriver/Errors.jsm:181:5\n",
      "NoSuchElementError@chrome://remote/content/shared/webdriver/Errors.jsm:393:5\n",
      "element.find/</<@chrome://remote/content/marionette/element.js:305:16\n",
      "\n"
     ]
    },
    {
     "name": "stderr",
     "output_type": "stream",
     "text": [
      "/home/lucas/miniconda3/lib/python3.7/site-packages/ipykernel_launcher.py:3: DeprecationWarning: firefox_profile has been deprecated, please pass in an Options object\n",
      "  This is separate from the ipykernel package so we can avoid doing imports until\n",
      "/home/lucas/miniconda3/lib/python3.7/site-packages/ipykernel_launcher.py:3: DeprecationWarning: firefox_profile has been deprecated, please pass in an Options object\n",
      "  This is separate from the ipykernel package so we can avoid doing imports until\n",
      "/home/lucas/miniconda3/lib/python3.7/site-packages/ipykernel_launcher.py:3: DeprecationWarning: firefox_profile has been deprecated, please pass in an Options object\n",
      "  This is separate from the ipykernel package so we can avoid doing imports until\n"
     ]
    },
    {
     "name": "stdout",
     "output_type": "stream",
     "text": [
      "Message: Unable to locate element: /html/body/main/div[2]/div/div[7]/div[1]/div[2]/button[2]\n",
      "Stacktrace:\n",
      "WebDriverError@chrome://remote/content/shared/webdriver/Errors.jsm:181:5\n",
      "NoSuchElementError@chrome://remote/content/shared/webdriver/Errors.jsm:393:5\n",
      "element.find/</<@chrome://remote/content/marionette/element.js:305:16\n",
      "\n"
     ]
    },
    {
     "name": "stderr",
     "output_type": "stream",
     "text": [
      "/home/lucas/miniconda3/lib/python3.7/site-packages/ipykernel_launcher.py:3: DeprecationWarning: firefox_profile has been deprecated, please pass in an Options object\n",
      "  This is separate from the ipykernel package so we can avoid doing imports until\n",
      "/home/lucas/miniconda3/lib/python3.7/site-packages/ipykernel_launcher.py:3: DeprecationWarning: firefox_profile has been deprecated, please pass in an Options object\n",
      "  This is separate from the ipykernel package so we can avoid doing imports until\n",
      "/home/lucas/miniconda3/lib/python3.7/site-packages/ipykernel_launcher.py:3: DeprecationWarning: firefox_profile has been deprecated, please pass in an Options object\n",
      "  This is separate from the ipykernel package so we can avoid doing imports until\n"
     ]
    },
    {
     "name": "stdout",
     "output_type": "stream",
     "text": [
      "Message: Unable to locate element: /html/body/main/div[2]/div/div[7]/div[1]/div[2]/button[2]\n",
      "Stacktrace:\n",
      "WebDriverError@chrome://remote/content/shared/webdriver/Errors.jsm:181:5\n",
      "NoSuchElementError@chrome://remote/content/shared/webdriver/Errors.jsm:393:5\n",
      "element.find/</<@chrome://remote/content/marionette/element.js:305:16\n",
      "\n"
     ]
    },
    {
     "name": "stderr",
     "output_type": "stream",
     "text": [
      "/home/lucas/miniconda3/lib/python3.7/site-packages/ipykernel_launcher.py:3: DeprecationWarning: firefox_profile has been deprecated, please pass in an Options object\n",
      "  This is separate from the ipykernel package so we can avoid doing imports until\n",
      "/home/lucas/miniconda3/lib/python3.7/site-packages/ipykernel_launcher.py:3: DeprecationWarning: firefox_profile has been deprecated, please pass in an Options object\n",
      "  This is separate from the ipykernel package so we can avoid doing imports until\n",
      "/home/lucas/miniconda3/lib/python3.7/site-packages/ipykernel_launcher.py:3: DeprecationWarning: firefox_profile has been deprecated, please pass in an Options object\n",
      "  This is separate from the ipykernel package so we can avoid doing imports until\n",
      "/home/lucas/miniconda3/lib/python3.7/site-packages/ipykernel_launcher.py:3: DeprecationWarning: firefox_profile has been deprecated, please pass in an Options object\n",
      "  This is separate from the ipykernel package so we can avoid doing imports until\n"
     ]
    },
    {
     "name": "stdout",
     "output_type": "stream",
     "text": [
      "Message: Unable to locate element: /html/body/main/div[2]/div/div[7]/div[1]/div[2]/button[2]\n",
      "Stacktrace:\n",
      "WebDriverError@chrome://remote/content/shared/webdriver/Errors.jsm:181:5\n",
      "NoSuchElementError@chrome://remote/content/shared/webdriver/Errors.jsm:393:5\n",
      "element.find/</<@chrome://remote/content/marionette/element.js:305:16\n",
      "\n"
     ]
    },
    {
     "name": "stderr",
     "output_type": "stream",
     "text": [
      "/home/lucas/miniconda3/lib/python3.7/site-packages/ipykernel_launcher.py:3: DeprecationWarning: firefox_profile has been deprecated, please pass in an Options object\n",
      "  This is separate from the ipykernel package so we can avoid doing imports until\n",
      "/home/lucas/miniconda3/lib/python3.7/site-packages/ipykernel_launcher.py:3: DeprecationWarning: firefox_profile has been deprecated, please pass in an Options object\n",
      "  This is separate from the ipykernel package so we can avoid doing imports until\n"
     ]
    },
    {
     "name": "stdout",
     "output_type": "stream",
     "text": [
      "Message: Unable to locate element: /html/body/main/div[2]/div/div[7]/div[1]/div[2]/button[2]\n",
      "Stacktrace:\n",
      "WebDriverError@chrome://remote/content/shared/webdriver/Errors.jsm:181:5\n",
      "NoSuchElementError@chrome://remote/content/shared/webdriver/Errors.jsm:393:5\n",
      "element.find/</<@chrome://remote/content/marionette/element.js:305:16\n",
      "\n"
     ]
    },
    {
     "name": "stderr",
     "output_type": "stream",
     "text": [
      "/home/lucas/miniconda3/lib/python3.7/site-packages/ipykernel_launcher.py:3: DeprecationWarning: firefox_profile has been deprecated, please pass in an Options object\n",
      "  This is separate from the ipykernel package so we can avoid doing imports until\n",
      "/home/lucas/miniconda3/lib/python3.7/site-packages/ipykernel_launcher.py:3: DeprecationWarning: firefox_profile has been deprecated, please pass in an Options object\n",
      "  This is separate from the ipykernel package so we can avoid doing imports until\n"
     ]
    },
    {
     "name": "stdout",
     "output_type": "stream",
     "text": [
      "Message: Unable to locate element: /html/body/main/div[2]/div/div[7]/div[1]/div[2]/button[2]\n",
      "Stacktrace:\n",
      "WebDriverError@chrome://remote/content/shared/webdriver/Errors.jsm:181:5\n",
      "NoSuchElementError@chrome://remote/content/shared/webdriver/Errors.jsm:393:5\n",
      "element.find/</<@chrome://remote/content/marionette/element.js:305:16\n",
      "\n"
     ]
    },
    {
     "name": "stderr",
     "output_type": "stream",
     "text": [
      "/home/lucas/miniconda3/lib/python3.7/site-packages/ipykernel_launcher.py:3: DeprecationWarning: firefox_profile has been deprecated, please pass in an Options object\n",
      "  This is separate from the ipykernel package so we can avoid doing imports until\n"
     ]
    },
    {
     "name": "stdout",
     "output_type": "stream",
     "text": [
      "Message: Unable to locate element: /html/body/main/div[2]/div/div[7]/div[1]/div[2]/button[2]\n",
      "Stacktrace:\n",
      "WebDriverError@chrome://remote/content/shared/webdriver/Errors.jsm:181:5\n",
      "NoSuchElementError@chrome://remote/content/shared/webdriver/Errors.jsm:393:5\n",
      "element.find/</<@chrome://remote/content/marionette/element.js:305:16\n",
      "\n"
     ]
    },
    {
     "name": "stderr",
     "output_type": "stream",
     "text": [
      "/home/lucas/miniconda3/lib/python3.7/site-packages/ipykernel_launcher.py:3: DeprecationWarning: firefox_profile has been deprecated, please pass in an Options object\n",
      "  This is separate from the ipykernel package so we can avoid doing imports until\n"
     ]
    },
    {
     "name": "stdout",
     "output_type": "stream",
     "text": [
      "Message: Unable to locate element: /html/body/main/div[2]/div/div[7]/div[1]/div[2]/button[2]\n",
      "Stacktrace:\n",
      "WebDriverError@chrome://remote/content/shared/webdriver/Errors.jsm:181:5\n",
      "NoSuchElementError@chrome://remote/content/shared/webdriver/Errors.jsm:393:5\n",
      "element.find/</<@chrome://remote/content/marionette/element.js:305:16\n",
      "\n"
     ]
    },
    {
     "name": "stderr",
     "output_type": "stream",
     "text": [
      "/home/lucas/miniconda3/lib/python3.7/site-packages/ipykernel_launcher.py:3: DeprecationWarning: firefox_profile has been deprecated, please pass in an Options object\n",
      "  This is separate from the ipykernel package so we can avoid doing imports until\n",
      "/home/lucas/miniconda3/lib/python3.7/site-packages/ipykernel_launcher.py:3: DeprecationWarning: firefox_profile has been deprecated, please pass in an Options object\n",
      "  This is separate from the ipykernel package so we can avoid doing imports until\n"
     ]
    },
    {
     "name": "stdout",
     "output_type": "stream",
     "text": [
      "Message: Unable to locate element: /html/body/main/div[2]/div/div[7]/div[1]/div[2]/button[2]\n",
      "Stacktrace:\n",
      "WebDriverError@chrome://remote/content/shared/webdriver/Errors.jsm:181:5\n",
      "NoSuchElementError@chrome://remote/content/shared/webdriver/Errors.jsm:393:5\n",
      "element.find/</<@chrome://remote/content/marionette/element.js:305:16\n",
      "\n"
     ]
    },
    {
     "name": "stderr",
     "output_type": "stream",
     "text": [
      "/home/lucas/miniconda3/lib/python3.7/site-packages/ipykernel_launcher.py:3: DeprecationWarning: firefox_profile has been deprecated, please pass in an Options object\n",
      "  This is separate from the ipykernel package so we can avoid doing imports until\n"
     ]
    },
    {
     "name": "stdout",
     "output_type": "stream",
     "text": [
      "Message: Unable to locate element: /html/body/main/div[2]/div/div[7]/div[1]/div[2]/button[2]\n",
      "Stacktrace:\n",
      "WebDriverError@chrome://remote/content/shared/webdriver/Errors.jsm:181:5\n",
      "NoSuchElementError@chrome://remote/content/shared/webdriver/Errors.jsm:393:5\n",
      "element.find/</<@chrome://remote/content/marionette/element.js:305:16\n",
      "\n"
     ]
    },
    {
     "name": "stderr",
     "output_type": "stream",
     "text": [
      "/home/lucas/miniconda3/lib/python3.7/site-packages/ipykernel_launcher.py:3: DeprecationWarning: firefox_profile has been deprecated, please pass in an Options object\n",
      "  This is separate from the ipykernel package so we can avoid doing imports until\n"
     ]
    },
    {
     "name": "stdout",
     "output_type": "stream",
     "text": [
      "Message: Unable to locate element: /html/body/main/div[2]/div/div[7]/div[1]/div[2]/button[2]\n",
      "Stacktrace:\n",
      "WebDriverError@chrome://remote/content/shared/webdriver/Errors.jsm:181:5\n",
      "NoSuchElementError@chrome://remote/content/shared/webdriver/Errors.jsm:393:5\n",
      "element.find/</<@chrome://remote/content/marionette/element.js:305:16\n",
      "\n"
     ]
    },
    {
     "name": "stderr",
     "output_type": "stream",
     "text": [
      "/home/lucas/miniconda3/lib/python3.7/site-packages/ipykernel_launcher.py:3: DeprecationWarning: firefox_profile has been deprecated, please pass in an Options object\n",
      "  This is separate from the ipykernel package so we can avoid doing imports until\n"
     ]
    },
    {
     "name": "stdout",
     "output_type": "stream",
     "text": [
      "Message: Unable to locate element: /html/body/main/div[2]/div/div[7]/div[1]/div[2]/button[2]\n",
      "Stacktrace:\n",
      "WebDriverError@chrome://remote/content/shared/webdriver/Errors.jsm:181:5\n",
      "NoSuchElementError@chrome://remote/content/shared/webdriver/Errors.jsm:393:5\n",
      "element.find/</<@chrome://remote/content/marionette/element.js:305:16\n",
      "\n"
     ]
    },
    {
     "name": "stderr",
     "output_type": "stream",
     "text": [
      "/home/lucas/miniconda3/lib/python3.7/site-packages/ipykernel_launcher.py:3: DeprecationWarning: firefox_profile has been deprecated, please pass in an Options object\n",
      "  This is separate from the ipykernel package so we can avoid doing imports until\n"
     ]
    },
    {
     "name": "stdout",
     "output_type": "stream",
     "text": [
      "Message: Unable to locate element: /html/body/main/div[2]/div/div[7]/div[1]/div[2]/button[2]\n",
      "Stacktrace:\n",
      "WebDriverError@chrome://remote/content/shared/webdriver/Errors.jsm:181:5\n",
      "NoSuchElementError@chrome://remote/content/shared/webdriver/Errors.jsm:393:5\n",
      "element.find/</<@chrome://remote/content/marionette/element.js:305:16\n",
      "\n"
     ]
    },
    {
     "name": "stderr",
     "output_type": "stream",
     "text": [
      "/home/lucas/miniconda3/lib/python3.7/site-packages/ipykernel_launcher.py:3: DeprecationWarning: firefox_profile has been deprecated, please pass in an Options object\n",
      "  This is separate from the ipykernel package so we can avoid doing imports until\n"
     ]
    },
    {
     "name": "stdout",
     "output_type": "stream",
     "text": [
      "Message: Unable to locate element: /html/body/main/div[2]/div/div[7]/div[1]/div[2]/button[2]\n",
      "Stacktrace:\n",
      "WebDriverError@chrome://remote/content/shared/webdriver/Errors.jsm:181:5\n",
      "NoSuchElementError@chrome://remote/content/shared/webdriver/Errors.jsm:393:5\n",
      "element.find/</<@chrome://remote/content/marionette/element.js:305:16\n",
      "\n"
     ]
    },
    {
     "name": "stderr",
     "output_type": "stream",
     "text": [
      "/home/lucas/miniconda3/lib/python3.7/site-packages/ipykernel_launcher.py:3: DeprecationWarning: firefox_profile has been deprecated, please pass in an Options object\n",
      "  This is separate from the ipykernel package so we can avoid doing imports until\n"
     ]
    },
    {
     "name": "stdout",
     "output_type": "stream",
     "text": [
      "Message: Unable to locate element: /html/body/main/div[2]/div/div[7]/div[1]/div[2]/button[2]\n",
      "Stacktrace:\n",
      "WebDriverError@chrome://remote/content/shared/webdriver/Errors.jsm:181:5\n",
      "NoSuchElementError@chrome://remote/content/shared/webdriver/Errors.jsm:393:5\n",
      "element.find/</<@chrome://remote/content/marionette/element.js:305:16\n",
      "\n"
     ]
    },
    {
     "name": "stderr",
     "output_type": "stream",
     "text": [
      "/home/lucas/miniconda3/lib/python3.7/site-packages/ipykernel_launcher.py:3: DeprecationWarning: firefox_profile has been deprecated, please pass in an Options object\n",
      "  This is separate from the ipykernel package so we can avoid doing imports until\n"
     ]
    },
    {
     "name": "stdout",
     "output_type": "stream",
     "text": [
      "Message: Unable to locate element: /html/body/main/div[2]/div/div[7]/div[1]/div[2]/button[2]\n",
      "Stacktrace:\n",
      "WebDriverError@chrome://remote/content/shared/webdriver/Errors.jsm:181:5\n",
      "NoSuchElementError@chrome://remote/content/shared/webdriver/Errors.jsm:393:5\n",
      "element.find/</<@chrome://remote/content/marionette/element.js:305:16\n",
      "\n"
     ]
    },
    {
     "name": "stderr",
     "output_type": "stream",
     "text": [
      "/home/lucas/miniconda3/lib/python3.7/site-packages/ipykernel_launcher.py:3: DeprecationWarning: firefox_profile has been deprecated, please pass in an Options object\n",
      "  This is separate from the ipykernel package so we can avoid doing imports until\n",
      "/home/lucas/miniconda3/lib/python3.7/site-packages/ipykernel_launcher.py:3: DeprecationWarning: firefox_profile has been deprecated, please pass in an Options object\n",
      "  This is separate from the ipykernel package so we can avoid doing imports until\n"
     ]
    },
    {
     "name": "stdout",
     "output_type": "stream",
     "text": [
      "Message: Unable to locate element: /html/body/main/div[2]/div/div[7]/div[1]/div[2]/button[2]\n",
      "Stacktrace:\n",
      "WebDriverError@chrome://remote/content/shared/webdriver/Errors.jsm:181:5\n",
      "NoSuchElementError@chrome://remote/content/shared/webdriver/Errors.jsm:393:5\n",
      "element.find/</<@chrome://remote/content/marionette/element.js:305:16\n",
      "\n"
     ]
    },
    {
     "name": "stderr",
     "output_type": "stream",
     "text": [
      "/home/lucas/miniconda3/lib/python3.7/site-packages/ipykernel_launcher.py:3: DeprecationWarning: firefox_profile has been deprecated, please pass in an Options object\n",
      "  This is separate from the ipykernel package so we can avoid doing imports until\n"
     ]
    },
    {
     "name": "stdout",
     "output_type": "stream",
     "text": [
      "Message: Unable to locate element: /html/body/main/div[2]/div/div[7]/div[1]/div[2]/button[2]\n",
      "Stacktrace:\n",
      "WebDriverError@chrome://remote/content/shared/webdriver/Errors.jsm:181:5\n",
      "NoSuchElementError@chrome://remote/content/shared/webdriver/Errors.jsm:393:5\n",
      "element.find/</<@chrome://remote/content/marionette/element.js:305:16\n",
      "\n"
     ]
    },
    {
     "name": "stderr",
     "output_type": "stream",
     "text": [
      "/home/lucas/miniconda3/lib/python3.7/site-packages/ipykernel_launcher.py:3: DeprecationWarning: firefox_profile has been deprecated, please pass in an Options object\n",
      "  This is separate from the ipykernel package so we can avoid doing imports until\n"
     ]
    },
    {
     "name": "stdout",
     "output_type": "stream",
     "text": [
      "Message: Unable to locate element: /html/body/main/div[2]/div/div[7]/div[1]/div[2]/button[2]\n",
      "Stacktrace:\n",
      "WebDriverError@chrome://remote/content/shared/webdriver/Errors.jsm:181:5\n",
      "NoSuchElementError@chrome://remote/content/shared/webdriver/Errors.jsm:393:5\n",
      "element.find/</<@chrome://remote/content/marionette/element.js:305:16\n",
      "\n"
     ]
    },
    {
     "name": "stderr",
     "output_type": "stream",
     "text": [
      "/home/lucas/miniconda3/lib/python3.7/site-packages/ipykernel_launcher.py:3: DeprecationWarning: firefox_profile has been deprecated, please pass in an Options object\n",
      "  This is separate from the ipykernel package so we can avoid doing imports until\n"
     ]
    },
    {
     "name": "stdout",
     "output_type": "stream",
     "text": [
      "Message: Unable to locate element: /html/body/main/div[2]/div/div[7]/div[1]/div[2]/button[2]\n",
      "Stacktrace:\n",
      "WebDriverError@chrome://remote/content/shared/webdriver/Errors.jsm:181:5\n",
      "NoSuchElementError@chrome://remote/content/shared/webdriver/Errors.jsm:393:5\n",
      "element.find/</<@chrome://remote/content/marionette/element.js:305:16\n",
      "\n"
     ]
    },
    {
     "name": "stderr",
     "output_type": "stream",
     "text": [
      "/home/lucas/miniconda3/lib/python3.7/site-packages/ipykernel_launcher.py:3: DeprecationWarning: firefox_profile has been deprecated, please pass in an Options object\n",
      "  This is separate from the ipykernel package so we can avoid doing imports until\n",
      "/home/lucas/miniconda3/lib/python3.7/site-packages/ipykernel_launcher.py:3: DeprecationWarning: firefox_profile has been deprecated, please pass in an Options object\n",
      "  This is separate from the ipykernel package so we can avoid doing imports until\n",
      "/home/lucas/miniconda3/lib/python3.7/site-packages/ipykernel_launcher.py:3: DeprecationWarning: firefox_profile has been deprecated, please pass in an Options object\n",
      "  This is separate from the ipykernel package so we can avoid doing imports until\n",
      "/home/lucas/miniconda3/lib/python3.7/site-packages/ipykernel_launcher.py:3: DeprecationWarning: firefox_profile has been deprecated, please pass in an Options object\n",
      "  This is separate from the ipykernel package so we can avoid doing imports until\n"
     ]
    },
    {
     "name": "stdout",
     "output_type": "stream",
     "text": [
      "Message: Unable to locate element: /html/body/main/div[2]/div/div[7]/div[1]/div[2]/button[2]\n",
      "Stacktrace:\n",
      "WebDriverError@chrome://remote/content/shared/webdriver/Errors.jsm:181:5\n",
      "NoSuchElementError@chrome://remote/content/shared/webdriver/Errors.jsm:393:5\n",
      "element.find/</<@chrome://remote/content/marionette/element.js:305:16\n",
      "\n",
      "Message: Unable to locate element: /html/body/main/div[2]/div/div[7]/div[1]/div[2]/button[2]\n",
      "Stacktrace:\n",
      "WebDriverError@chrome://remote/content/shared/webdriver/Errors.jsm:181:5\n",
      "NoSuchElementError@chrome://remote/content/shared/webdriver/Errors.jsm:393:5\n",
      "element.find/</<@chrome://remote/content/marionette/element.js:305:16\n",
      "\n"
     ]
    },
    {
     "name": "stderr",
     "output_type": "stream",
     "text": [
      "/home/lucas/miniconda3/lib/python3.7/site-packages/ipykernel_launcher.py:3: DeprecationWarning: firefox_profile has been deprecated, please pass in an Options object\n",
      "  This is separate from the ipykernel package so we can avoid doing imports until\n",
      "/home/lucas/miniconda3/lib/python3.7/site-packages/ipykernel_launcher.py:3: DeprecationWarning: firefox_profile has been deprecated, please pass in an Options object\n",
      "  This is separate from the ipykernel package so we can avoid doing imports until\n",
      "/home/lucas/miniconda3/lib/python3.7/site-packages/ipykernel_launcher.py:3: DeprecationWarning: firefox_profile has been deprecated, please pass in an Options object\n",
      "  This is separate from the ipykernel package so we can avoid doing imports until\n"
     ]
    },
    {
     "name": "stdout",
     "output_type": "stream",
     "text": [
      "Message: Unable to locate element: /html/body/main/div[2]/div/div[7]/div[1]/div[2]/button[2]\n",
      "Stacktrace:\n",
      "WebDriverError@chrome://remote/content/shared/webdriver/Errors.jsm:181:5\n",
      "NoSuchElementError@chrome://remote/content/shared/webdriver/Errors.jsm:393:5\n",
      "element.find/</<@chrome://remote/content/marionette/element.js:305:16\n",
      "\n"
     ]
    },
    {
     "name": "stderr",
     "output_type": "stream",
     "text": [
      "/home/lucas/miniconda3/lib/python3.7/site-packages/ipykernel_launcher.py:3: DeprecationWarning: firefox_profile has been deprecated, please pass in an Options object\n",
      "  This is separate from the ipykernel package so we can avoid doing imports until\n"
     ]
    },
    {
     "name": "stdout",
     "output_type": "stream",
     "text": [
      "Message: Unable to locate element: /html/body/main/div[2]/div/div[7]/div[1]/div[2]/button[2]\n",
      "Stacktrace:\n",
      "WebDriverError@chrome://remote/content/shared/webdriver/Errors.jsm:181:5\n",
      "NoSuchElementError@chrome://remote/content/shared/webdriver/Errors.jsm:393:5\n",
      "element.find/</<@chrome://remote/content/marionette/element.js:305:16\n",
      "\n",
      "Message: Unable to locate element: /html/body/main/div[2]/div/div[7]/div[1]/div[2]/button[2]\n",
      "Stacktrace:\n",
      "WebDriverError@chrome://remote/content/shared/webdriver/Errors.jsm:181:5\n",
      "NoSuchElementError@chrome://remote/content/shared/webdriver/Errors.jsm:393:5\n",
      "element.find/</<@chrome://remote/content/marionette/element.js:305:16\n",
      "\n"
     ]
    },
    {
     "name": "stderr",
     "output_type": "stream",
     "text": [
      "/home/lucas/miniconda3/lib/python3.7/site-packages/ipykernel_launcher.py:3: DeprecationWarning: firefox_profile has been deprecated, please pass in an Options object\n",
      "  This is separate from the ipykernel package so we can avoid doing imports until\n",
      "/home/lucas/miniconda3/lib/python3.7/site-packages/ipykernel_launcher.py:3: DeprecationWarning: firefox_profile has been deprecated, please pass in an Options object\n",
      "  This is separate from the ipykernel package so we can avoid doing imports until\n"
     ]
    },
    {
     "name": "stdout",
     "output_type": "stream",
     "text": [
      "Message: Unable to locate element: /html/body/main/div[2]/div/div[7]/div[1]/div[2]/button[2]\n",
      "Stacktrace:\n",
      "WebDriverError@chrome://remote/content/shared/webdriver/Errors.jsm:181:5\n",
      "NoSuchElementError@chrome://remote/content/shared/webdriver/Errors.jsm:393:5\n",
      "element.find/</<@chrome://remote/content/marionette/element.js:305:16\n",
      "\n"
     ]
    },
    {
     "name": "stderr",
     "output_type": "stream",
     "text": [
      "/home/lucas/miniconda3/lib/python3.7/site-packages/ipykernel_launcher.py:3: DeprecationWarning: firefox_profile has been deprecated, please pass in an Options object\n",
      "  This is separate from the ipykernel package so we can avoid doing imports until\n"
     ]
    },
    {
     "name": "stdout",
     "output_type": "stream",
     "text": [
      "Message: Unable to locate element: /html/body/main/div[2]/div/div[7]/div[1]/div[2]/button[2]\n",
      "Stacktrace:\n",
      "WebDriverError@chrome://remote/content/shared/webdriver/Errors.jsm:181:5\n",
      "NoSuchElementError@chrome://remote/content/shared/webdriver/Errors.jsm:393:5\n",
      "element.find/</<@chrome://remote/content/marionette/element.js:305:16\n",
      "\n",
      "Message: Unable to locate element: /html/body/main/div[2]/div/div[7]/div[1]/div[2]/button[2]\n",
      "Stacktrace:\n",
      "WebDriverError@chrome://remote/content/shared/webdriver/Errors.jsm:181:5\n",
      "NoSuchElementError@chrome://remote/content/shared/webdriver/Errors.jsm:393:5\n",
      "element.find/</<@chrome://remote/content/marionette/element.js:305:16\n",
      "\n"
     ]
    },
    {
     "name": "stderr",
     "output_type": "stream",
     "text": [
      "/home/lucas/miniconda3/lib/python3.7/site-packages/ipykernel_launcher.py:3: DeprecationWarning: firefox_profile has been deprecated, please pass in an Options object\n",
      "  This is separate from the ipykernel package so we can avoid doing imports until\n",
      "/home/lucas/miniconda3/lib/python3.7/site-packages/ipykernel_launcher.py:3: DeprecationWarning: firefox_profile has been deprecated, please pass in an Options object\n",
      "  This is separate from the ipykernel package so we can avoid doing imports until\n",
      "/home/lucas/miniconda3/lib/python3.7/site-packages/ipykernel_launcher.py:3: DeprecationWarning: firefox_profile has been deprecated, please pass in an Options object\n",
      "  This is separate from the ipykernel package so we can avoid doing imports until\n",
      "/home/lucas/miniconda3/lib/python3.7/site-packages/ipykernel_launcher.py:3: DeprecationWarning: firefox_profile has been deprecated, please pass in an Options object\n",
      "  This is separate from the ipykernel package so we can avoid doing imports until\n"
     ]
    },
    {
     "name": "stdout",
     "output_type": "stream",
     "text": [
      "Message: Unable to locate element: /html/body/main/div[2]/div/div[7]/div[1]/div[2]/button[2]\n",
      "Stacktrace:\n",
      "WebDriverError@chrome://remote/content/shared/webdriver/Errors.jsm:181:5\n",
      "NoSuchElementError@chrome://remote/content/shared/webdriver/Errors.jsm:393:5\n",
      "element.find/</<@chrome://remote/content/marionette/element.js:305:16\n",
      "\n",
      "Message: Unable to locate element: /html/body/main/div[2]/div/div[7]/div[1]/div[2]/button[2]\n",
      "Stacktrace:\n",
      "WebDriverError@chrome://remote/content/shared/webdriver/Errors.jsm:181:5\n",
      "NoSuchElementError@chrome://remote/content/shared/webdriver/Errors.jsm:393:5\n",
      "element.find/</<@chrome://remote/content/marionette/element.js:305:16\n",
      "\n"
     ]
    },
    {
     "name": "stderr",
     "output_type": "stream",
     "text": [
      "/home/lucas/miniconda3/lib/python3.7/site-packages/ipykernel_launcher.py:3: DeprecationWarning: firefox_profile has been deprecated, please pass in an Options object\n",
      "  This is separate from the ipykernel package so we can avoid doing imports until\n",
      "/home/lucas/miniconda3/lib/python3.7/site-packages/ipykernel_launcher.py:3: DeprecationWarning: firefox_profile has been deprecated, please pass in an Options object\n",
      "  This is separate from the ipykernel package so we can avoid doing imports until\n",
      "/home/lucas/miniconda3/lib/python3.7/site-packages/ipykernel_launcher.py:3: DeprecationWarning: firefox_profile has been deprecated, please pass in an Options object\n",
      "  This is separate from the ipykernel package so we can avoid doing imports until\n"
     ]
    },
    {
     "name": "stdout",
     "output_type": "stream",
     "text": [
      "Message: Unable to locate element: /html/body/main/div[2]/div/div[7]/div[1]/div[2]/button[2]\n",
      "Stacktrace:\n",
      "WebDriverError@chrome://remote/content/shared/webdriver/Errors.jsm:181:5\n",
      "NoSuchElementError@chrome://remote/content/shared/webdriver/Errors.jsm:393:5\n",
      "element.find/</<@chrome://remote/content/marionette/element.js:305:16\n",
      "\n"
     ]
    },
    {
     "name": "stderr",
     "output_type": "stream",
     "text": [
      "/home/lucas/miniconda3/lib/python3.7/site-packages/ipykernel_launcher.py:3: DeprecationWarning: firefox_profile has been deprecated, please pass in an Options object\n",
      "  This is separate from the ipykernel package so we can avoid doing imports until\n"
     ]
    },
    {
     "name": "stdout",
     "output_type": "stream",
     "text": [
      "Message: Unable to locate element: /html/body/main/div[2]/div/div[7]/div[1]/div[2]/button[2]\n",
      "Stacktrace:\n",
      "WebDriverError@chrome://remote/content/shared/webdriver/Errors.jsm:181:5\n",
      "NoSuchElementError@chrome://remote/content/shared/webdriver/Errors.jsm:393:5\n",
      "element.find/</<@chrome://remote/content/marionette/element.js:305:16\n",
      "\n",
      "Message: Unable to locate element: /html/body/main/div[2]/div/div[7]/div[1]/div[2]/button[2]\n",
      "Stacktrace:\n",
      "WebDriverError@chrome://remote/content/shared/webdriver/Errors.jsm:181:5\n",
      "NoSuchElementError@chrome://remote/content/shared/webdriver/Errors.jsm:393:5\n",
      "element.find/</<@chrome://remote/content/marionette/element.js:305:16\n",
      "\n"
     ]
    },
    {
     "name": "stderr",
     "output_type": "stream",
     "text": [
      "/home/lucas/miniconda3/lib/python3.7/site-packages/ipykernel_launcher.py:3: DeprecationWarning: firefox_profile has been deprecated, please pass in an Options object\n",
      "  This is separate from the ipykernel package so we can avoid doing imports until\n",
      "/home/lucas/miniconda3/lib/python3.7/site-packages/ipykernel_launcher.py:3: DeprecationWarning: firefox_profile has been deprecated, please pass in an Options object\n",
      "  This is separate from the ipykernel package so we can avoid doing imports until\n",
      "/home/lucas/miniconda3/lib/python3.7/site-packages/ipykernel_launcher.py:3: DeprecationWarning: firefox_profile has been deprecated, please pass in an Options object\n",
      "  This is separate from the ipykernel package so we can avoid doing imports until\n"
     ]
    },
    {
     "name": "stdout",
     "output_type": "stream",
     "text": [
      "Message: Unable to locate element: /html/body/main/div[2]/div/div[7]/div[1]/div[2]/button[2]\n",
      "Stacktrace:\n",
      "WebDriverError@chrome://remote/content/shared/webdriver/Errors.jsm:181:5\n",
      "NoSuchElementError@chrome://remote/content/shared/webdriver/Errors.jsm:393:5\n",
      "element.find/</<@chrome://remote/content/marionette/element.js:305:16\n",
      "\n"
     ]
    },
    {
     "name": "stderr",
     "output_type": "stream",
     "text": [
      "/home/lucas/miniconda3/lib/python3.7/site-packages/ipykernel_launcher.py:3: DeprecationWarning: firefox_profile has been deprecated, please pass in an Options object\n",
      "  This is separate from the ipykernel package so we can avoid doing imports until\n"
     ]
    },
    {
     "name": "stdout",
     "output_type": "stream",
     "text": [
      "Message: Unable to locate element: /html/body/main/div[2]/div/div[7]/div[1]/div[2]/button[2]\n",
      "Stacktrace:\n",
      "WebDriverError@chrome://remote/content/shared/webdriver/Errors.jsm:181:5\n",
      "NoSuchElementError@chrome://remote/content/shared/webdriver/Errors.jsm:393:5\n",
      "element.find/</<@chrome://remote/content/marionette/element.js:305:16\n",
      "\n"
     ]
    },
    {
     "name": "stderr",
     "output_type": "stream",
     "text": [
      "/home/lucas/miniconda3/lib/python3.7/site-packages/ipykernel_launcher.py:3: DeprecationWarning: firefox_profile has been deprecated, please pass in an Options object\n",
      "  This is separate from the ipykernel package so we can avoid doing imports until\n"
     ]
    },
    {
     "name": "stdout",
     "output_type": "stream",
     "text": [
      "Message: Unable to locate element: /html/body/main/div[2]/div/div[7]/div[1]/div[2]/button[2]\n",
      "Stacktrace:\n",
      "WebDriverError@chrome://remote/content/shared/webdriver/Errors.jsm:181:5\n",
      "NoSuchElementError@chrome://remote/content/shared/webdriver/Errors.jsm:393:5\n",
      "element.find/</<@chrome://remote/content/marionette/element.js:305:16\n",
      "\n"
     ]
    },
    {
     "name": "stderr",
     "output_type": "stream",
     "text": [
      "/home/lucas/miniconda3/lib/python3.7/site-packages/ipykernel_launcher.py:3: DeprecationWarning: firefox_profile has been deprecated, please pass in an Options object\n",
      "  This is separate from the ipykernel package so we can avoid doing imports until\n"
     ]
    },
    {
     "name": "stdout",
     "output_type": "stream",
     "text": [
      "Message: Unable to locate element: /html/body/main/div[2]/div/div[7]/div[1]/div[2]/button[2]\n",
      "Stacktrace:\n",
      "WebDriverError@chrome://remote/content/shared/webdriver/Errors.jsm:181:5\n",
      "NoSuchElementError@chrome://remote/content/shared/webdriver/Errors.jsm:393:5\n",
      "element.find/</<@chrome://remote/content/marionette/element.js:305:16\n",
      "\n"
     ]
    },
    {
     "name": "stderr",
     "output_type": "stream",
     "text": [
      "/home/lucas/miniconda3/lib/python3.7/site-packages/ipykernel_launcher.py:3: DeprecationWarning: firefox_profile has been deprecated, please pass in an Options object\n",
      "  This is separate from the ipykernel package so we can avoid doing imports until\n",
      "/home/lucas/miniconda3/lib/python3.7/site-packages/ipykernel_launcher.py:3: DeprecationWarning: firefox_profile has been deprecated, please pass in an Options object\n",
      "  This is separate from the ipykernel package so we can avoid doing imports until\n",
      "/home/lucas/miniconda3/lib/python3.7/site-packages/ipykernel_launcher.py:3: DeprecationWarning: firefox_profile has been deprecated, please pass in an Options object\n",
      "  This is separate from the ipykernel package so we can avoid doing imports until\n",
      "/home/lucas/miniconda3/lib/python3.7/site-packages/ipykernel_launcher.py:3: DeprecationWarning: firefox_profile has been deprecated, please pass in an Options object\n",
      "  This is separate from the ipykernel package so we can avoid doing imports until\n",
      "/home/lucas/miniconda3/lib/python3.7/site-packages/ipykernel_launcher.py:3: DeprecationWarning: firefox_profile has been deprecated, please pass in an Options object\n",
      "  This is separate from the ipykernel package so we can avoid doing imports until\n",
      "/home/lucas/miniconda3/lib/python3.7/site-packages/ipykernel_launcher.py:3: DeprecationWarning: firefox_profile has been deprecated, please pass in an Options object\n",
      "  This is separate from the ipykernel package so we can avoid doing imports until\n"
     ]
    },
    {
     "name": "stdout",
     "output_type": "stream",
     "text": [
      "Message: Unable to locate element: /html/body/main/div[2]/div/div[7]/div[1]/div[2]/button[2]\n",
      "Stacktrace:\n",
      "WebDriverError@chrome://remote/content/shared/webdriver/Errors.jsm:181:5\n",
      "NoSuchElementError@chrome://remote/content/shared/webdriver/Errors.jsm:393:5\n",
      "element.find/</<@chrome://remote/content/marionette/element.js:305:16\n",
      "\n"
     ]
    },
    {
     "name": "stderr",
     "output_type": "stream",
     "text": [
      "/home/lucas/miniconda3/lib/python3.7/site-packages/ipykernel_launcher.py:3: DeprecationWarning: firefox_profile has been deprecated, please pass in an Options object\n",
      "  This is separate from the ipykernel package so we can avoid doing imports until\n",
      "/home/lucas/miniconda3/lib/python3.7/site-packages/ipykernel_launcher.py:3: DeprecationWarning: firefox_profile has been deprecated, please pass in an Options object\n",
      "  This is separate from the ipykernel package so we can avoid doing imports until\n"
     ]
    },
    {
     "name": "stdout",
     "output_type": "stream",
     "text": [
      "Message: Unable to locate element: /html/body/main/div[2]/div/div[7]/div[1]/div[2]/button[2]\n",
      "Stacktrace:\n",
      "WebDriverError@chrome://remote/content/shared/webdriver/Errors.jsm:181:5\n",
      "NoSuchElementError@chrome://remote/content/shared/webdriver/Errors.jsm:393:5\n",
      "element.find/</<@chrome://remote/content/marionette/element.js:305:16\n",
      "\n"
     ]
    },
    {
     "name": "stderr",
     "output_type": "stream",
     "text": [
      "/home/lucas/miniconda3/lib/python3.7/site-packages/ipykernel_launcher.py:3: DeprecationWarning: firefox_profile has been deprecated, please pass in an Options object\n",
      "  This is separate from the ipykernel package so we can avoid doing imports until\n",
      "/home/lucas/miniconda3/lib/python3.7/site-packages/ipykernel_launcher.py:3: DeprecationWarning: firefox_profile has been deprecated, please pass in an Options object\n",
      "  This is separate from the ipykernel package so we can avoid doing imports until\n"
     ]
    },
    {
     "name": "stdout",
     "output_type": "stream",
     "text": [
      "Message: Unable to locate element: /html/body/main/div[2]/div/div[7]/div[1]/div[2]/button[2]\n",
      "Stacktrace:\n",
      "WebDriverError@chrome://remote/content/shared/webdriver/Errors.jsm:181:5\n",
      "NoSuchElementError@chrome://remote/content/shared/webdriver/Errors.jsm:393:5\n",
      "element.find/</<@chrome://remote/content/marionette/element.js:305:16\n",
      "\n"
     ]
    },
    {
     "name": "stderr",
     "output_type": "stream",
     "text": [
      "/home/lucas/miniconda3/lib/python3.7/site-packages/ipykernel_launcher.py:3: DeprecationWarning: firefox_profile has been deprecated, please pass in an Options object\n",
      "  This is separate from the ipykernel package so we can avoid doing imports until\n",
      "/home/lucas/miniconda3/lib/python3.7/site-packages/ipykernel_launcher.py:3: DeprecationWarning: firefox_profile has been deprecated, please pass in an Options object\n",
      "  This is separate from the ipykernel package so we can avoid doing imports until\n"
     ]
    },
    {
     "name": "stdout",
     "output_type": "stream",
     "text": [
      "Message: Unable to locate element: /html/body/main/div[2]/div/div[7]/div[1]/div[2]/button[2]\n",
      "Stacktrace:\n",
      "WebDriverError@chrome://remote/content/shared/webdriver/Errors.jsm:181:5\n",
      "NoSuchElementError@chrome://remote/content/shared/webdriver/Errors.jsm:393:5\n",
      "element.find/</<@chrome://remote/content/marionette/element.js:305:16\n",
      "\n"
     ]
    },
    {
     "name": "stderr",
     "output_type": "stream",
     "text": [
      "/home/lucas/miniconda3/lib/python3.7/site-packages/ipykernel_launcher.py:3: DeprecationWarning: firefox_profile has been deprecated, please pass in an Options object\n",
      "  This is separate from the ipykernel package so we can avoid doing imports until\n"
     ]
    },
    {
     "name": "stdout",
     "output_type": "stream",
     "text": [
      "Message: Unable to locate element: /html/body/main/div[2]/div/div[7]/div[1]/div[2]/button[2]\n",
      "Stacktrace:\n",
      "WebDriverError@chrome://remote/content/shared/webdriver/Errors.jsm:181:5\n",
      "NoSuchElementError@chrome://remote/content/shared/webdriver/Errors.jsm:393:5\n",
      "element.find/</<@chrome://remote/content/marionette/element.js:305:16\n",
      "\n"
     ]
    },
    {
     "name": "stderr",
     "output_type": "stream",
     "text": [
      "/home/lucas/miniconda3/lib/python3.7/site-packages/ipykernel_launcher.py:3: DeprecationWarning: firefox_profile has been deprecated, please pass in an Options object\n",
      "  This is separate from the ipykernel package so we can avoid doing imports until\n",
      "/home/lucas/miniconda3/lib/python3.7/site-packages/ipykernel_launcher.py:3: DeprecationWarning: firefox_profile has been deprecated, please pass in an Options object\n",
      "  This is separate from the ipykernel package so we can avoid doing imports until\n"
     ]
    },
    {
     "name": "stdout",
     "output_type": "stream",
     "text": [
      "Message: Unable to locate element: /html/body/main/div[2]/div/div[7]/div[1]/div[2]/button[2]\n",
      "Stacktrace:\n",
      "WebDriverError@chrome://remote/content/shared/webdriver/Errors.jsm:181:5\n",
      "NoSuchElementError@chrome://remote/content/shared/webdriver/Errors.jsm:393:5\n",
      "element.find/</<@chrome://remote/content/marionette/element.js:305:16\n",
      "\n"
     ]
    },
    {
     "name": "stderr",
     "output_type": "stream",
     "text": [
      "/home/lucas/miniconda3/lib/python3.7/site-packages/ipykernel_launcher.py:3: DeprecationWarning: firefox_profile has been deprecated, please pass in an Options object\n",
      "  This is separate from the ipykernel package so we can avoid doing imports until\n",
      "/home/lucas/miniconda3/lib/python3.7/site-packages/ipykernel_launcher.py:3: DeprecationWarning: firefox_profile has been deprecated, please pass in an Options object\n",
      "  This is separate from the ipykernel package so we can avoid doing imports until\n"
     ]
    },
    {
     "name": "stdout",
     "output_type": "stream",
     "text": [
      "Message: Unable to locate element: /html/body/main/div[2]/div/div[7]/div[1]/div[2]/button[2]\n",
      "Stacktrace:\n",
      "WebDriverError@chrome://remote/content/shared/webdriver/Errors.jsm:181:5\n",
      "NoSuchElementError@chrome://remote/content/shared/webdriver/Errors.jsm:393:5\n",
      "element.find/</<@chrome://remote/content/marionette/element.js:305:16\n",
      "\n",
      "Message: Unable to locate element: /html/body/main/div[2]/div/div[7]/div[1]/div[2]/button[2]\n",
      "Stacktrace:\n",
      "WebDriverError@chrome://remote/content/shared/webdriver/Errors.jsm:181:5\n",
      "NoSuchElementError@chrome://remote/content/shared/webdriver/Errors.jsm:393:5\n",
      "element.find/</<@chrome://remote/content/marionette/element.js:305:16\n",
      "\n"
     ]
    },
    {
     "name": "stderr",
     "output_type": "stream",
     "text": [
      "/home/lucas/miniconda3/lib/python3.7/site-packages/ipykernel_launcher.py:3: DeprecationWarning: firefox_profile has been deprecated, please pass in an Options object\n",
      "  This is separate from the ipykernel package so we can avoid doing imports until\n",
      "/home/lucas/miniconda3/lib/python3.7/site-packages/ipykernel_launcher.py:3: DeprecationWarning: firefox_profile has been deprecated, please pass in an Options object\n",
      "  This is separate from the ipykernel package so we can avoid doing imports until\n"
     ]
    },
    {
     "name": "stdout",
     "output_type": "stream",
     "text": [
      "Message: Unable to locate element: /html/body/main/div[2]/div/div[7]/div[1]/div[2]/button[2]\n",
      "Stacktrace:\n",
      "WebDriverError@chrome://remote/content/shared/webdriver/Errors.jsm:181:5\n",
      "NoSuchElementError@chrome://remote/content/shared/webdriver/Errors.jsm:393:5\n",
      "element.find/</<@chrome://remote/content/marionette/element.js:305:16\n",
      "\n"
     ]
    },
    {
     "name": "stderr",
     "output_type": "stream",
     "text": [
      "/home/lucas/miniconda3/lib/python3.7/site-packages/ipykernel_launcher.py:3: DeprecationWarning: firefox_profile has been deprecated, please pass in an Options object\n",
      "  This is separate from the ipykernel package so we can avoid doing imports until\n",
      "/home/lucas/miniconda3/lib/python3.7/site-packages/ipykernel_launcher.py:3: DeprecationWarning: firefox_profile has been deprecated, please pass in an Options object\n",
      "  This is separate from the ipykernel package so we can avoid doing imports until\n"
     ]
    },
    {
     "name": "stdout",
     "output_type": "stream",
     "text": [
      "Message: Unable to locate element: /html/body/main/div[2]/div/div[7]/div[1]/div[2]/button[2]\n",
      "Stacktrace:\n",
      "WebDriverError@chrome://remote/content/shared/webdriver/Errors.jsm:181:5\n",
      "NoSuchElementError@chrome://remote/content/shared/webdriver/Errors.jsm:393:5\n",
      "element.find/</<@chrome://remote/content/marionette/element.js:305:16\n",
      "\n"
     ]
    },
    {
     "name": "stderr",
     "output_type": "stream",
     "text": [
      "/home/lucas/miniconda3/lib/python3.7/site-packages/ipykernel_launcher.py:3: DeprecationWarning: firefox_profile has been deprecated, please pass in an Options object\n",
      "  This is separate from the ipykernel package so we can avoid doing imports until\n"
     ]
    },
    {
     "name": "stdout",
     "output_type": "stream",
     "text": [
      "Message: Unable to locate element: /html/body/main/div[2]/div/div[7]/div[1]/div[2]/button[2]\n",
      "Stacktrace:\n",
      "WebDriverError@chrome://remote/content/shared/webdriver/Errors.jsm:181:5\n",
      "NoSuchElementError@chrome://remote/content/shared/webdriver/Errors.jsm:393:5\n",
      "element.find/</<@chrome://remote/content/marionette/element.js:305:16\n",
      "\n"
     ]
    },
    {
     "name": "stderr",
     "output_type": "stream",
     "text": [
      "/home/lucas/miniconda3/lib/python3.7/site-packages/ipykernel_launcher.py:3: DeprecationWarning: firefox_profile has been deprecated, please pass in an Options object\n",
      "  This is separate from the ipykernel package so we can avoid doing imports until\n",
      "/home/lucas/miniconda3/lib/python3.7/site-packages/ipykernel_launcher.py:3: DeprecationWarning: firefox_profile has been deprecated, please pass in an Options object\n",
      "  This is separate from the ipykernel package so we can avoid doing imports until\n"
     ]
    },
    {
     "name": "stdout",
     "output_type": "stream",
     "text": [
      "Message: Unable to locate element: /html/body/main/div[2]/div/div[7]/div[1]/div[2]/button[2]\n",
      "Stacktrace:\n",
      "WebDriverError@chrome://remote/content/shared/webdriver/Errors.jsm:181:5\n",
      "NoSuchElementError@chrome://remote/content/shared/webdriver/Errors.jsm:393:5\n",
      "element.find/</<@chrome://remote/content/marionette/element.js:305:16\n",
      "\n"
     ]
    },
    {
     "name": "stderr",
     "output_type": "stream",
     "text": [
      "/home/lucas/miniconda3/lib/python3.7/site-packages/ipykernel_launcher.py:3: DeprecationWarning: firefox_profile has been deprecated, please pass in an Options object\n",
      "  This is separate from the ipykernel package so we can avoid doing imports until\n",
      "/home/lucas/miniconda3/lib/python3.7/site-packages/ipykernel_launcher.py:3: DeprecationWarning: firefox_profile has been deprecated, please pass in an Options object\n",
      "  This is separate from the ipykernel package so we can avoid doing imports until\n"
     ]
    },
    {
     "name": "stdout",
     "output_type": "stream",
     "text": [
      "Message: Unable to locate element: /html/body/main/div[2]/div/div[7]/div[1]/div[2]/button[2]\n",
      "Stacktrace:\n",
      "WebDriverError@chrome://remote/content/shared/webdriver/Errors.jsm:181:5\n",
      "NoSuchElementError@chrome://remote/content/shared/webdriver/Errors.jsm:393:5\n",
      "element.find/</<@chrome://remote/content/marionette/element.js:305:16\n",
      "\n"
     ]
    },
    {
     "name": "stderr",
     "output_type": "stream",
     "text": [
      "/home/lucas/miniconda3/lib/python3.7/site-packages/ipykernel_launcher.py:3: DeprecationWarning: firefox_profile has been deprecated, please pass in an Options object\n",
      "  This is separate from the ipykernel package so we can avoid doing imports until\n",
      "/home/lucas/miniconda3/lib/python3.7/site-packages/ipykernel_launcher.py:3: DeprecationWarning: firefox_profile has been deprecated, please pass in an Options object\n",
      "  This is separate from the ipykernel package so we can avoid doing imports until\n"
     ]
    },
    {
     "name": "stdout",
     "output_type": "stream",
     "text": [
      "Message: Unable to locate element: /html/body/main/div[2]/div/div[7]/div[1]/div[2]/button[2]\n",
      "Stacktrace:\n",
      "WebDriverError@chrome://remote/content/shared/webdriver/Errors.jsm:181:5\n",
      "NoSuchElementError@chrome://remote/content/shared/webdriver/Errors.jsm:393:5\n",
      "element.find/</<@chrome://remote/content/marionette/element.js:305:16\n",
      "\n",
      "Message: Unable to locate element: /html/body/main/div[2]/div/div[7]/div[1]/div[2]/button[2]\n",
      "Stacktrace:\n",
      "WebDriverError@chrome://remote/content/shared/webdriver/Errors.jsm:181:5\n",
      "NoSuchElementError@chrome://remote/content/shared/webdriver/Errors.jsm:393:5\n",
      "element.find/</<@chrome://remote/content/marionette/element.js:305:16\n",
      "\n"
     ]
    },
    {
     "name": "stderr",
     "output_type": "stream",
     "text": [
      "/home/lucas/miniconda3/lib/python3.7/site-packages/ipykernel_launcher.py:3: DeprecationWarning: firefox_profile has been deprecated, please pass in an Options object\n",
      "  This is separate from the ipykernel package so we can avoid doing imports until\n",
      "/home/lucas/miniconda3/lib/python3.7/site-packages/ipykernel_launcher.py:3: DeprecationWarning: firefox_profile has been deprecated, please pass in an Options object\n",
      "  This is separate from the ipykernel package so we can avoid doing imports until\n"
     ]
    },
    {
     "name": "stdout",
     "output_type": "stream",
     "text": [
      "Message: Unable to locate element: /html/body/main/div[2]/div/div[7]/div[1]/div[2]/button[2]\n",
      "Stacktrace:\n",
      "WebDriverError@chrome://remote/content/shared/webdriver/Errors.jsm:181:5\n",
      "NoSuchElementError@chrome://remote/content/shared/webdriver/Errors.jsm:393:5\n",
      "element.find/</<@chrome://remote/content/marionette/element.js:305:16\n",
      "\n"
     ]
    },
    {
     "name": "stderr",
     "output_type": "stream",
     "text": [
      "/home/lucas/miniconda3/lib/python3.7/site-packages/ipykernel_launcher.py:3: DeprecationWarning: firefox_profile has been deprecated, please pass in an Options object\n",
      "  This is separate from the ipykernel package so we can avoid doing imports until\n"
     ]
    },
    {
     "name": "stdout",
     "output_type": "stream",
     "text": [
      "Message: Unable to locate element: /html/body/main/div[2]/div/div[7]/div[1]/div[2]/button[2]\n",
      "Stacktrace:\n",
      "WebDriverError@chrome://remote/content/shared/webdriver/Errors.jsm:181:5\n",
      "NoSuchElementError@chrome://remote/content/shared/webdriver/Errors.jsm:393:5\n",
      "element.find/</<@chrome://remote/content/marionette/element.js:305:16\n",
      "\n"
     ]
    },
    {
     "name": "stderr",
     "output_type": "stream",
     "text": [
      "/home/lucas/miniconda3/lib/python3.7/site-packages/ipykernel_launcher.py:3: DeprecationWarning: firefox_profile has been deprecated, please pass in an Options object\n",
      "  This is separate from the ipykernel package so we can avoid doing imports until\n"
     ]
    },
    {
     "name": "stdout",
     "output_type": "stream",
     "text": [
      "Message: Unable to locate element: /html/body/main/div[2]/div/div[7]/div[1]/div[2]/button[2]\n",
      "Stacktrace:\n",
      "WebDriverError@chrome://remote/content/shared/webdriver/Errors.jsm:181:5\n",
      "NoSuchElementError@chrome://remote/content/shared/webdriver/Errors.jsm:393:5\n",
      "element.find/</<@chrome://remote/content/marionette/element.js:305:16\n",
      "\n"
     ]
    },
    {
     "name": "stderr",
     "output_type": "stream",
     "text": [
      "/home/lucas/miniconda3/lib/python3.7/site-packages/ipykernel_launcher.py:3: DeprecationWarning: firefox_profile has been deprecated, please pass in an Options object\n",
      "  This is separate from the ipykernel package so we can avoid doing imports until\n",
      "/home/lucas/miniconda3/lib/python3.7/site-packages/ipykernel_launcher.py:3: DeprecationWarning: firefox_profile has been deprecated, please pass in an Options object\n",
      "  This is separate from the ipykernel package so we can avoid doing imports until\n"
     ]
    },
    {
     "name": "stdout",
     "output_type": "stream",
     "text": [
      "Message: Unable to locate element: /html/body/main/div[2]/div/div[7]/div[1]/div[2]/button[2]\n",
      "Stacktrace:\n",
      "WebDriverError@chrome://remote/content/shared/webdriver/Errors.jsm:181:5\n",
      "NoSuchElementError@chrome://remote/content/shared/webdriver/Errors.jsm:393:5\n",
      "element.find/</<@chrome://remote/content/marionette/element.js:305:16\n",
      "\n"
     ]
    },
    {
     "name": "stderr",
     "output_type": "stream",
     "text": [
      "/home/lucas/miniconda3/lib/python3.7/site-packages/ipykernel_launcher.py:3: DeprecationWarning: firefox_profile has been deprecated, please pass in an Options object\n",
      "  This is separate from the ipykernel package so we can avoid doing imports until\n"
     ]
    },
    {
     "name": "stdout",
     "output_type": "stream",
     "text": [
      "Message: Unable to locate element: /html/body/main/div[2]/div/div[7]/div[1]/div[2]/button[2]\n",
      "Stacktrace:\n",
      "WebDriverError@chrome://remote/content/shared/webdriver/Errors.jsm:181:5\n",
      "NoSuchElementError@chrome://remote/content/shared/webdriver/Errors.jsm:393:5\n",
      "element.find/</<@chrome://remote/content/marionette/element.js:305:16\n",
      "\n"
     ]
    },
    {
     "name": "stderr",
     "output_type": "stream",
     "text": [
      "/home/lucas/miniconda3/lib/python3.7/site-packages/ipykernel_launcher.py:3: DeprecationWarning: firefox_profile has been deprecated, please pass in an Options object\n",
      "  This is separate from the ipykernel package so we can avoid doing imports until\n",
      "/home/lucas/miniconda3/lib/python3.7/site-packages/ipykernel_launcher.py:3: DeprecationWarning: firefox_profile has been deprecated, please pass in an Options object\n",
      "  This is separate from the ipykernel package so we can avoid doing imports until\n"
     ]
    },
    {
     "name": "stdout",
     "output_type": "stream",
     "text": [
      "Message: Unable to locate element: /html/body/main/div[2]/div/div[7]/div[1]/div[2]/button[2]\n",
      "Stacktrace:\n",
      "WebDriverError@chrome://remote/content/shared/webdriver/Errors.jsm:181:5\n",
      "NoSuchElementError@chrome://remote/content/shared/webdriver/Errors.jsm:393:5\n",
      "element.find/</<@chrome://remote/content/marionette/element.js:305:16\n",
      "\n"
     ]
    },
    {
     "name": "stderr",
     "output_type": "stream",
     "text": [
      "/home/lucas/miniconda3/lib/python3.7/site-packages/ipykernel_launcher.py:3: DeprecationWarning: firefox_profile has been deprecated, please pass in an Options object\n",
      "  This is separate from the ipykernel package so we can avoid doing imports until\n",
      "/home/lucas/miniconda3/lib/python3.7/site-packages/ipykernel_launcher.py:3: DeprecationWarning: firefox_profile has been deprecated, please pass in an Options object\n",
      "  This is separate from the ipykernel package so we can avoid doing imports until\n"
     ]
    },
    {
     "name": "stdout",
     "output_type": "stream",
     "text": [
      "Message: Unable to locate element: /html/body/main/div[2]/div/div[7]/div[1]/div[2]/button[2]\n",
      "Stacktrace:\n",
      "WebDriverError@chrome://remote/content/shared/webdriver/Errors.jsm:181:5\n",
      "NoSuchElementError@chrome://remote/content/shared/webdriver/Errors.jsm:393:5\n",
      "element.find/</<@chrome://remote/content/marionette/element.js:305:16\n",
      "\n"
     ]
    },
    {
     "name": "stderr",
     "output_type": "stream",
     "text": [
      "/home/lucas/miniconda3/lib/python3.7/site-packages/ipykernel_launcher.py:3: DeprecationWarning: firefox_profile has been deprecated, please pass in an Options object\n",
      "  This is separate from the ipykernel package so we can avoid doing imports until\n",
      "/home/lucas/miniconda3/lib/python3.7/site-packages/ipykernel_launcher.py:3: DeprecationWarning: firefox_profile has been deprecated, please pass in an Options object\n",
      "  This is separate from the ipykernel package so we can avoid doing imports until\n",
      "/home/lucas/miniconda3/lib/python3.7/site-packages/ipykernel_launcher.py:3: DeprecationWarning: firefox_profile has been deprecated, please pass in an Options object\n",
      "  This is separate from the ipykernel package so we can avoid doing imports until\n"
     ]
    },
    {
     "name": "stdout",
     "output_type": "stream",
     "text": [
      "Message: Unable to locate element: /html/body/main/div[2]/div/div[7]/div[1]/div[2]/button[2]\n",
      "Stacktrace:\n",
      "WebDriverError@chrome://remote/content/shared/webdriver/Errors.jsm:181:5\n",
      "NoSuchElementError@chrome://remote/content/shared/webdriver/Errors.jsm:393:5\n",
      "element.find/</<@chrome://remote/content/marionette/element.js:305:16\n",
      "\n",
      "Message: Unable to locate element: /html/body/main/div[2]/div/div[7]/div[1]/div[2]/button[2]\n",
      "Stacktrace:\n",
      "WebDriverError@chrome://remote/content/shared/webdriver/Errors.jsm:181:5\n",
      "NoSuchElementError@chrome://remote/content/shared/webdriver/Errors.jsm:393:5\n",
      "element.find/</<@chrome://remote/content/marionette/element.js:305:16\n",
      "\n"
     ]
    },
    {
     "name": "stderr",
     "output_type": "stream",
     "text": [
      "/home/lucas/miniconda3/lib/python3.7/site-packages/ipykernel_launcher.py:3: DeprecationWarning: firefox_profile has been deprecated, please pass in an Options object\n",
      "  This is separate from the ipykernel package so we can avoid doing imports until\n",
      "/home/lucas/miniconda3/lib/python3.7/site-packages/ipykernel_launcher.py:3: DeprecationWarning: firefox_profile has been deprecated, please pass in an Options object\n",
      "  This is separate from the ipykernel package so we can avoid doing imports until\n",
      "/home/lucas/miniconda3/lib/python3.7/site-packages/ipykernel_launcher.py:3: DeprecationWarning: firefox_profile has been deprecated, please pass in an Options object\n",
      "  This is separate from the ipykernel package so we can avoid doing imports until\n"
     ]
    },
    {
     "name": "stdout",
     "output_type": "stream",
     "text": [
      "Message: Unable to locate element: /html/body/main/div[2]/div/div[7]/div[1]/div[2]/button[2]\n",
      "Stacktrace:\n",
      "WebDriverError@chrome://remote/content/shared/webdriver/Errors.jsm:181:5\n",
      "NoSuchElementError@chrome://remote/content/shared/webdriver/Errors.jsm:393:5\n",
      "element.find/</<@chrome://remote/content/marionette/element.js:305:16\n",
      "\n"
     ]
    },
    {
     "name": "stderr",
     "output_type": "stream",
     "text": [
      "/home/lucas/miniconda3/lib/python3.7/site-packages/ipykernel_launcher.py:3: DeprecationWarning: firefox_profile has been deprecated, please pass in an Options object\n",
      "  This is separate from the ipykernel package so we can avoid doing imports until\n"
     ]
    },
    {
     "name": "stdout",
     "output_type": "stream",
     "text": [
      "Message: Unable to locate element: /html/body/main/div[2]/div/div[7]/div[1]/div[2]/button[2]\n",
      "Stacktrace:\n",
      "WebDriverError@chrome://remote/content/shared/webdriver/Errors.jsm:181:5\n",
      "NoSuchElementError@chrome://remote/content/shared/webdriver/Errors.jsm:393:5\n",
      "element.find/</<@chrome://remote/content/marionette/element.js:305:16\n",
      "\n",
      "Message: Unable to locate element: /html/body/main/div[2]/div/div[7]/div[1]/div[2]/button[2]\n",
      "Stacktrace:\n",
      "WebDriverError@chrome://remote/content/shared/webdriver/Errors.jsm:181:5\n",
      "NoSuchElementError@chrome://remote/content/shared/webdriver/Errors.jsm:393:5\n",
      "element.find/</<@chrome://remote/content/marionette/element.js:305:16\n",
      "\n"
     ]
    },
    {
     "name": "stderr",
     "output_type": "stream",
     "text": [
      "/home/lucas/miniconda3/lib/python3.7/site-packages/ipykernel_launcher.py:3: DeprecationWarning: firefox_profile has been deprecated, please pass in an Options object\n",
      "  This is separate from the ipykernel package so we can avoid doing imports until\n",
      "/home/lucas/miniconda3/lib/python3.7/site-packages/ipykernel_launcher.py:3: DeprecationWarning: firefox_profile has been deprecated, please pass in an Options object\n",
      "  This is separate from the ipykernel package so we can avoid doing imports until\n",
      "/home/lucas/miniconda3/lib/python3.7/site-packages/ipykernel_launcher.py:3: DeprecationWarning: firefox_profile has been deprecated, please pass in an Options object\n",
      "  This is separate from the ipykernel package so we can avoid doing imports until\n",
      "/home/lucas/miniconda3/lib/python3.7/site-packages/ipykernel_launcher.py:3: DeprecationWarning: firefox_profile has been deprecated, please pass in an Options object\n",
      "  This is separate from the ipykernel package so we can avoid doing imports until\n"
     ]
    },
    {
     "name": "stdout",
     "output_type": "stream",
     "text": [
      "Message: Unable to locate element: /html/body/main/div[2]/div/div[7]/div[1]/div[2]/button[2]\n",
      "Stacktrace:\n",
      "WebDriverError@chrome://remote/content/shared/webdriver/Errors.jsm:181:5\n",
      "NoSuchElementError@chrome://remote/content/shared/webdriver/Errors.jsm:393:5\n",
      "element.find/</<@chrome://remote/content/marionette/element.js:305:16\n",
      "\n",
      "Message: Unable to locate element: /html/body/main/div[2]/div/div[7]/div[1]/div[2]/button[2]\n",
      "Stacktrace:\n",
      "WebDriverError@chrome://remote/content/shared/webdriver/Errors.jsm:181:5\n",
      "NoSuchElementError@chrome://remote/content/shared/webdriver/Errors.jsm:393:5\n",
      "element.find/</<@chrome://remote/content/marionette/element.js:305:16\n",
      "\n"
     ]
    },
    {
     "name": "stderr",
     "output_type": "stream",
     "text": [
      "/home/lucas/miniconda3/lib/python3.7/site-packages/ipykernel_launcher.py:3: DeprecationWarning: firefox_profile has been deprecated, please pass in an Options object\n",
      "  This is separate from the ipykernel package so we can avoid doing imports until\n",
      "/home/lucas/miniconda3/lib/python3.7/site-packages/ipykernel_launcher.py:3: DeprecationWarning: firefox_profile has been deprecated, please pass in an Options object\n",
      "  This is separate from the ipykernel package so we can avoid doing imports until\n"
     ]
    },
    {
     "name": "stdout",
     "output_type": "stream",
     "text": [
      "Message: Unable to locate element: /html/body/main/div[2]/div/div[7]/div[1]/div[2]/button[2]\n",
      "Stacktrace:\n",
      "WebDriverError@chrome://remote/content/shared/webdriver/Errors.jsm:181:5\n",
      "NoSuchElementError@chrome://remote/content/shared/webdriver/Errors.jsm:393:5\n",
      "element.find/</<@chrome://remote/content/marionette/element.js:305:16\n",
      "\n"
     ]
    },
    {
     "name": "stderr",
     "output_type": "stream",
     "text": [
      "/home/lucas/miniconda3/lib/python3.7/site-packages/ipykernel_launcher.py:3: DeprecationWarning: firefox_profile has been deprecated, please pass in an Options object\n",
      "  This is separate from the ipykernel package so we can avoid doing imports until\n",
      "/home/lucas/miniconda3/lib/python3.7/site-packages/ipykernel_launcher.py:3: DeprecationWarning: firefox_profile has been deprecated, please pass in an Options object\n",
      "  This is separate from the ipykernel package so we can avoid doing imports until\n",
      "/home/lucas/miniconda3/lib/python3.7/site-packages/ipykernel_launcher.py:3: DeprecationWarning: firefox_profile has been deprecated, please pass in an Options object\n",
      "  This is separate from the ipykernel package so we can avoid doing imports until\n"
     ]
    },
    {
     "name": "stdout",
     "output_type": "stream",
     "text": [
      "Message: Unable to locate element: /html/body/main/div[2]/div/div[7]/div[1]/div[2]/button[2]\n",
      "Stacktrace:\n",
      "WebDriverError@chrome://remote/content/shared/webdriver/Errors.jsm:181:5\n",
      "NoSuchElementError@chrome://remote/content/shared/webdriver/Errors.jsm:393:5\n",
      "element.find/</<@chrome://remote/content/marionette/element.js:305:16\n",
      "\n"
     ]
    },
    {
     "name": "stderr",
     "output_type": "stream",
     "text": [
      "/home/lucas/miniconda3/lib/python3.7/site-packages/ipykernel_launcher.py:3: DeprecationWarning: firefox_profile has been deprecated, please pass in an Options object\n",
      "  This is separate from the ipykernel package so we can avoid doing imports until\n",
      "/home/lucas/miniconda3/lib/python3.7/site-packages/ipykernel_launcher.py:3: DeprecationWarning: firefox_profile has been deprecated, please pass in an Options object\n",
      "  This is separate from the ipykernel package so we can avoid doing imports until\n"
     ]
    },
    {
     "name": "stdout",
     "output_type": "stream",
     "text": [
      "Message: Unable to locate element: /html/body/main/div[2]/div/div[7]/div[1]/div[2]/button[2]\n",
      "Stacktrace:\n",
      "WebDriverError@chrome://remote/content/shared/webdriver/Errors.jsm:181:5\n",
      "NoSuchElementError@chrome://remote/content/shared/webdriver/Errors.jsm:393:5\n",
      "element.find/</<@chrome://remote/content/marionette/element.js:305:16\n",
      "\n"
     ]
    },
    {
     "name": "stderr",
     "output_type": "stream",
     "text": [
      "/home/lucas/miniconda3/lib/python3.7/site-packages/ipykernel_launcher.py:3: DeprecationWarning: firefox_profile has been deprecated, please pass in an Options object\n",
      "  This is separate from the ipykernel package so we can avoid doing imports until\n",
      "/home/lucas/miniconda3/lib/python3.7/site-packages/ipykernel_launcher.py:3: DeprecationWarning: firefox_profile has been deprecated, please pass in an Options object\n",
      "  This is separate from the ipykernel package so we can avoid doing imports until\n"
     ]
    },
    {
     "name": "stdout",
     "output_type": "stream",
     "text": [
      "Message: Unable to locate element: /html/body/main/div[2]/div/div[7]/div[1]/div[2]/button[2]\n",
      "Stacktrace:\n",
      "WebDriverError@chrome://remote/content/shared/webdriver/Errors.jsm:181:5\n",
      "NoSuchElementError@chrome://remote/content/shared/webdriver/Errors.jsm:393:5\n",
      "element.find/</<@chrome://remote/content/marionette/element.js:305:16\n",
      "\n",
      "Message: Unable to locate element: /html/body/main/div[2]/div/div[7]/div[1]/div[2]/button[2]\n",
      "Stacktrace:\n",
      "WebDriverError@chrome://remote/content/shared/webdriver/Errors.jsm:181:5\n",
      "NoSuchElementError@chrome://remote/content/shared/webdriver/Errors.jsm:393:5\n",
      "element.find/</<@chrome://remote/content/marionette/element.js:305:16\n",
      "\n"
     ]
    },
    {
     "name": "stderr",
     "output_type": "stream",
     "text": [
      "/home/lucas/miniconda3/lib/python3.7/site-packages/ipykernel_launcher.py:3: DeprecationWarning: firefox_profile has been deprecated, please pass in an Options object\n",
      "  This is separate from the ipykernel package so we can avoid doing imports until\n",
      "/home/lucas/miniconda3/lib/python3.7/site-packages/ipykernel_launcher.py:3: DeprecationWarning: firefox_profile has been deprecated, please pass in an Options object\n",
      "  This is separate from the ipykernel package so we can avoid doing imports until\n"
     ]
    },
    {
     "name": "stdout",
     "output_type": "stream",
     "text": [
      "Message: Unable to locate element: /html/body/main/div[2]/div/div[7]/div[1]/div[2]/button[2]\n",
      "Stacktrace:\n",
      "WebDriverError@chrome://remote/content/shared/webdriver/Errors.jsm:181:5\n",
      "NoSuchElementError@chrome://remote/content/shared/webdriver/Errors.jsm:393:5\n",
      "element.find/</<@chrome://remote/content/marionette/element.js:305:16\n",
      "\n"
     ]
    },
    {
     "name": "stderr",
     "output_type": "stream",
     "text": [
      "/home/lucas/miniconda3/lib/python3.7/site-packages/ipykernel_launcher.py:3: DeprecationWarning: firefox_profile has been deprecated, please pass in an Options object\n",
      "  This is separate from the ipykernel package so we can avoid doing imports until\n",
      "/home/lucas/miniconda3/lib/python3.7/site-packages/ipykernel_launcher.py:3: DeprecationWarning: firefox_profile has been deprecated, please pass in an Options object\n",
      "  This is separate from the ipykernel package so we can avoid doing imports until\n"
     ]
    },
    {
     "name": "stdout",
     "output_type": "stream",
     "text": [
      "Message: Unable to locate element: /html/body/main/div[2]/div/div[7]/div[1]/div[2]/button[2]\n",
      "Stacktrace:\n",
      "WebDriverError@chrome://remote/content/shared/webdriver/Errors.jsm:181:5\n",
      "NoSuchElementError@chrome://remote/content/shared/webdriver/Errors.jsm:393:5\n",
      "element.find/</<@chrome://remote/content/marionette/element.js:305:16\n",
      "\n"
     ]
    },
    {
     "name": "stderr",
     "output_type": "stream",
     "text": [
      "/home/lucas/miniconda3/lib/python3.7/site-packages/ipykernel_launcher.py:3: DeprecationWarning: firefox_profile has been deprecated, please pass in an Options object\n",
      "  This is separate from the ipykernel package so we can avoid doing imports until\n",
      "/home/lucas/miniconda3/lib/python3.7/site-packages/ipykernel_launcher.py:3: DeprecationWarning: firefox_profile has been deprecated, please pass in an Options object\n",
      "  This is separate from the ipykernel package so we can avoid doing imports until\n"
     ]
    },
    {
     "name": "stdout",
     "output_type": "stream",
     "text": [
      "Message: Unable to locate element: /html/body/main/div[2]/div/div[7]/div[1]/div[2]/button[2]\n",
      "Stacktrace:\n",
      "WebDriverError@chrome://remote/content/shared/webdriver/Errors.jsm:181:5\n",
      "NoSuchElementError@chrome://remote/content/shared/webdriver/Errors.jsm:393:5\n",
      "element.find/</<@chrome://remote/content/marionette/element.js:305:16\n",
      "\n"
     ]
    },
    {
     "name": "stderr",
     "output_type": "stream",
     "text": [
      "/home/lucas/miniconda3/lib/python3.7/site-packages/ipykernel_launcher.py:3: DeprecationWarning: firefox_profile has been deprecated, please pass in an Options object\n",
      "  This is separate from the ipykernel package so we can avoid doing imports until\n",
      "/home/lucas/miniconda3/lib/python3.7/site-packages/ipykernel_launcher.py:3: DeprecationWarning: firefox_profile has been deprecated, please pass in an Options object\n",
      "  This is separate from the ipykernel package so we can avoid doing imports until\n"
     ]
    },
    {
     "name": "stdout",
     "output_type": "stream",
     "text": [
      "Message: Unable to locate element: /html/body/main/div[2]/div/div[7]/div[1]/div[2]/button[2]\n",
      "Stacktrace:\n",
      "WebDriverError@chrome://remote/content/shared/webdriver/Errors.jsm:181:5\n",
      "NoSuchElementError@chrome://remote/content/shared/webdriver/Errors.jsm:393:5\n",
      "element.find/</<@chrome://remote/content/marionette/element.js:305:16\n",
      "\n"
     ]
    },
    {
     "name": "stderr",
     "output_type": "stream",
     "text": [
      "/home/lucas/miniconda3/lib/python3.7/site-packages/ipykernel_launcher.py:3: DeprecationWarning: firefox_profile has been deprecated, please pass in an Options object\n",
      "  This is separate from the ipykernel package so we can avoid doing imports until\n"
     ]
    },
    {
     "name": "stdout",
     "output_type": "stream",
     "text": [
      "Message: Unable to locate element: /html/body/main/div[2]/div/div[7]/div[1]/div[2]/button[2]\n",
      "Stacktrace:\n",
      "WebDriverError@chrome://remote/content/shared/webdriver/Errors.jsm:181:5\n",
      "NoSuchElementError@chrome://remote/content/shared/webdriver/Errors.jsm:393:5\n",
      "element.find/</<@chrome://remote/content/marionette/element.js:305:16\n",
      "\n"
     ]
    },
    {
     "name": "stderr",
     "output_type": "stream",
     "text": [
      "/home/lucas/miniconda3/lib/python3.7/site-packages/ipykernel_launcher.py:3: DeprecationWarning: firefox_profile has been deprecated, please pass in an Options object\n",
      "  This is separate from the ipykernel package so we can avoid doing imports until\n"
     ]
    },
    {
     "name": "stdout",
     "output_type": "stream",
     "text": [
      "Message: Unable to locate element: /html/body/main/div[2]/div/div[7]/div[1]/div[2]/button[2]\n",
      "Stacktrace:\n",
      "WebDriverError@chrome://remote/content/shared/webdriver/Errors.jsm:181:5\n",
      "NoSuchElementError@chrome://remote/content/shared/webdriver/Errors.jsm:393:5\n",
      "element.find/</<@chrome://remote/content/marionette/element.js:305:16\n",
      "\n"
     ]
    },
    {
     "name": "stderr",
     "output_type": "stream",
     "text": [
      "/home/lucas/miniconda3/lib/python3.7/site-packages/ipykernel_launcher.py:3: DeprecationWarning: firefox_profile has been deprecated, please pass in an Options object\n",
      "  This is separate from the ipykernel package so we can avoid doing imports until\n",
      "/home/lucas/miniconda3/lib/python3.7/site-packages/ipykernel_launcher.py:3: DeprecationWarning: firefox_profile has been deprecated, please pass in an Options object\n",
      "  This is separate from the ipykernel package so we can avoid doing imports until\n"
     ]
    },
    {
     "name": "stdout",
     "output_type": "stream",
     "text": [
      "Message: Unable to locate element: /html/body/main/div[2]/div/div[7]/div[1]/div[2]/button[2]\n",
      "Stacktrace:\n",
      "WebDriverError@chrome://remote/content/shared/webdriver/Errors.jsm:181:5\n",
      "NoSuchElementError@chrome://remote/content/shared/webdriver/Errors.jsm:393:5\n",
      "element.find/</<@chrome://remote/content/marionette/element.js:305:16\n",
      "\n"
     ]
    },
    {
     "name": "stderr",
     "output_type": "stream",
     "text": [
      "/home/lucas/miniconda3/lib/python3.7/site-packages/ipykernel_launcher.py:3: DeprecationWarning: firefox_profile has been deprecated, please pass in an Options object\n",
      "  This is separate from the ipykernel package so we can avoid doing imports until\n",
      "/home/lucas/miniconda3/lib/python3.7/site-packages/ipykernel_launcher.py:3: DeprecationWarning: firefox_profile has been deprecated, please pass in an Options object\n",
      "  This is separate from the ipykernel package so we can avoid doing imports until\n"
     ]
    },
    {
     "name": "stdout",
     "output_type": "stream",
     "text": [
      "Message: Unable to locate element: /html/body/main/div[2]/div/div[7]/div[1]/div[2]/button[2]\n",
      "Stacktrace:\n",
      "WebDriverError@chrome://remote/content/shared/webdriver/Errors.jsm:181:5\n",
      "NoSuchElementError@chrome://remote/content/shared/webdriver/Errors.jsm:393:5\n",
      "element.find/</<@chrome://remote/content/marionette/element.js:305:16\n",
      "\n"
     ]
    },
    {
     "name": "stderr",
     "output_type": "stream",
     "text": [
      "/home/lucas/miniconda3/lib/python3.7/site-packages/ipykernel_launcher.py:3: DeprecationWarning: firefox_profile has been deprecated, please pass in an Options object\n",
      "  This is separate from the ipykernel package so we can avoid doing imports until\n"
     ]
    },
    {
     "name": "stdout",
     "output_type": "stream",
     "text": [
      "Message: Unable to locate element: /html/body/main/div[2]/div/div[7]/div[1]/div[2]/button[2]\n",
      "Stacktrace:\n",
      "WebDriverError@chrome://remote/content/shared/webdriver/Errors.jsm:181:5\n",
      "NoSuchElementError@chrome://remote/content/shared/webdriver/Errors.jsm:393:5\n",
      "element.find/</<@chrome://remote/content/marionette/element.js:305:16\n",
      "\n"
     ]
    },
    {
     "name": "stderr",
     "output_type": "stream",
     "text": [
      "/home/lucas/miniconda3/lib/python3.7/site-packages/ipykernel_launcher.py:3: DeprecationWarning: firefox_profile has been deprecated, please pass in an Options object\n",
      "  This is separate from the ipykernel package so we can avoid doing imports until\n"
     ]
    },
    {
     "name": "stdout",
     "output_type": "stream",
     "text": [
      "Message: Unable to locate element: /html/body/main/div[2]/div/div[7]/div[1]/div[2]/button[2]\n",
      "Stacktrace:\n",
      "WebDriverError@chrome://remote/content/shared/webdriver/Errors.jsm:181:5\n",
      "NoSuchElementError@chrome://remote/content/shared/webdriver/Errors.jsm:393:5\n",
      "element.find/</<@chrome://remote/content/marionette/element.js:305:16\n",
      "\n"
     ]
    },
    {
     "name": "stderr",
     "output_type": "stream",
     "text": [
      "/home/lucas/miniconda3/lib/python3.7/site-packages/ipykernel_launcher.py:3: DeprecationWarning: firefox_profile has been deprecated, please pass in an Options object\n",
      "  This is separate from the ipykernel package so we can avoid doing imports until\n"
     ]
    },
    {
     "name": "stdout",
     "output_type": "stream",
     "text": [
      "Message: Unable to locate element: /html/body/main/div[2]/div/div[7]/div[1]/div[2]/button[2]\n",
      "Stacktrace:\n",
      "WebDriverError@chrome://remote/content/shared/webdriver/Errors.jsm:181:5\n",
      "NoSuchElementError@chrome://remote/content/shared/webdriver/Errors.jsm:393:5\n",
      "element.find/</<@chrome://remote/content/marionette/element.js:305:16\n",
      "\n"
     ]
    },
    {
     "name": "stderr",
     "output_type": "stream",
     "text": [
      "/home/lucas/miniconda3/lib/python3.7/site-packages/ipykernel_launcher.py:3: DeprecationWarning: firefox_profile has been deprecated, please pass in an Options object\n",
      "  This is separate from the ipykernel package so we can avoid doing imports until\n"
     ]
    },
    {
     "name": "stdout",
     "output_type": "stream",
     "text": [
      "Message: Unable to locate element: /html/body/main/div[2]/div/div[7]/div[1]/div[2]/button[2]\n",
      "Stacktrace:\n",
      "WebDriverError@chrome://remote/content/shared/webdriver/Errors.jsm:181:5\n",
      "NoSuchElementError@chrome://remote/content/shared/webdriver/Errors.jsm:393:5\n",
      "element.find/</<@chrome://remote/content/marionette/element.js:305:16\n",
      "\n"
     ]
    },
    {
     "name": "stderr",
     "output_type": "stream",
     "text": [
      "/home/lucas/miniconda3/lib/python3.7/site-packages/ipykernel_launcher.py:3: DeprecationWarning: firefox_profile has been deprecated, please pass in an Options object\n",
      "  This is separate from the ipykernel package so we can avoid doing imports until\n"
     ]
    },
    {
     "name": "stdout",
     "output_type": "stream",
     "text": [
      "Message: Unable to locate element: /html/body/main/div[2]/div/div[7]/div[1]/div[2]/button[2]\n",
      "Stacktrace:\n",
      "WebDriverError@chrome://remote/content/shared/webdriver/Errors.jsm:181:5\n",
      "NoSuchElementError@chrome://remote/content/shared/webdriver/Errors.jsm:393:5\n",
      "element.find/</<@chrome://remote/content/marionette/element.js:305:16\n",
      "\n",
      "Message: Unable to locate element: /html/body/main/div[2]/div/div[7]/div[1]/div[2]/button[2]\n",
      "Stacktrace:\n",
      "WebDriverError@chrome://remote/content/shared/webdriver/Errors.jsm:181:5\n",
      "NoSuchElementError@chrome://remote/content/shared/webdriver/Errors.jsm:393:5\n",
      "element.find/</<@chrome://remote/content/marionette/element.js:305:16\n",
      "\n"
     ]
    },
    {
     "name": "stderr",
     "output_type": "stream",
     "text": [
      "/home/lucas/miniconda3/lib/python3.7/site-packages/ipykernel_launcher.py:3: DeprecationWarning: firefox_profile has been deprecated, please pass in an Options object\n",
      "  This is separate from the ipykernel package so we can avoid doing imports until\n",
      "/home/lucas/miniconda3/lib/python3.7/site-packages/ipykernel_launcher.py:3: DeprecationWarning: firefox_profile has been deprecated, please pass in an Options object\n",
      "  This is separate from the ipykernel package so we can avoid doing imports until\n",
      "/home/lucas/miniconda3/lib/python3.7/site-packages/ipykernel_launcher.py:3: DeprecationWarning: firefox_profile has been deprecated, please pass in an Options object\n",
      "  This is separate from the ipykernel package so we can avoid doing imports until\n"
     ]
    },
    {
     "name": "stdout",
     "output_type": "stream",
     "text": [
      "Message: Unable to locate element: /html/body/main/div[2]/div/div[7]/div[1]/div[2]/button[2]\n",
      "Stacktrace:\n",
      "WebDriverError@chrome://remote/content/shared/webdriver/Errors.jsm:181:5\n",
      "NoSuchElementError@chrome://remote/content/shared/webdriver/Errors.jsm:393:5\n",
      "element.find/</<@chrome://remote/content/marionette/element.js:305:16\n",
      "\n"
     ]
    },
    {
     "name": "stderr",
     "output_type": "stream",
     "text": [
      "/home/lucas/miniconda3/lib/python3.7/site-packages/ipykernel_launcher.py:3: DeprecationWarning: firefox_profile has been deprecated, please pass in an Options object\n",
      "  This is separate from the ipykernel package so we can avoid doing imports until\n",
      "/home/lucas/miniconda3/lib/python3.7/site-packages/ipykernel_launcher.py:3: DeprecationWarning: firefox_profile has been deprecated, please pass in an Options object\n",
      "  This is separate from the ipykernel package so we can avoid doing imports until\n",
      "/home/lucas/miniconda3/lib/python3.7/site-packages/ipykernel_launcher.py:3: DeprecationWarning: firefox_profile has been deprecated, please pass in an Options object\n",
      "  This is separate from the ipykernel package so we can avoid doing imports until\n",
      "/home/lucas/miniconda3/lib/python3.7/site-packages/ipykernel_launcher.py:3: DeprecationWarning: firefox_profile has been deprecated, please pass in an Options object\n",
      "  This is separate from the ipykernel package so we can avoid doing imports until\n"
     ]
    },
    {
     "name": "stdout",
     "output_type": "stream",
     "text": [
      "Message: Unable to locate element: /html/body/main/div[2]/div/div[7]/div[1]/div[2]/button[2]\n",
      "Stacktrace:\n",
      "WebDriverError@chrome://remote/content/shared/webdriver/Errors.jsm:181:5\n",
      "NoSuchElementError@chrome://remote/content/shared/webdriver/Errors.jsm:393:5\n",
      "element.find/</<@chrome://remote/content/marionette/element.js:305:16\n",
      "\n"
     ]
    },
    {
     "name": "stderr",
     "output_type": "stream",
     "text": [
      "/home/lucas/miniconda3/lib/python3.7/site-packages/ipykernel_launcher.py:3: DeprecationWarning: firefox_profile has been deprecated, please pass in an Options object\n",
      "  This is separate from the ipykernel package so we can avoid doing imports until\n"
     ]
    },
    {
     "name": "stdout",
     "output_type": "stream",
     "text": [
      "Message: Unable to locate element: /html/body/main/div[2]/div/div[7]/div[1]/div[2]/button[2]\n",
      "Stacktrace:\n",
      "WebDriverError@chrome://remote/content/shared/webdriver/Errors.jsm:181:5\n",
      "NoSuchElementError@chrome://remote/content/shared/webdriver/Errors.jsm:393:5\n",
      "element.find/</<@chrome://remote/content/marionette/element.js:305:16\n",
      "\n"
     ]
    },
    {
     "name": "stderr",
     "output_type": "stream",
     "text": [
      "/home/lucas/miniconda3/lib/python3.7/site-packages/ipykernel_launcher.py:3: DeprecationWarning: firefox_profile has been deprecated, please pass in an Options object\n",
      "  This is separate from the ipykernel package so we can avoid doing imports until\n",
      "/home/lucas/miniconda3/lib/python3.7/site-packages/ipykernel_launcher.py:3: DeprecationWarning: firefox_profile has been deprecated, please pass in an Options object\n",
      "  This is separate from the ipykernel package so we can avoid doing imports until\n"
     ]
    },
    {
     "name": "stdout",
     "output_type": "stream",
     "text": [
      "Message: Unable to locate element: /html/body/main/div[2]/div/div[7]/div[1]/div[2]/button[2]\n",
      "Stacktrace:\n",
      "WebDriverError@chrome://remote/content/shared/webdriver/Errors.jsm:181:5\n",
      "NoSuchElementError@chrome://remote/content/shared/webdriver/Errors.jsm:393:5\n",
      "element.find/</<@chrome://remote/content/marionette/element.js:305:16\n",
      "\n"
     ]
    },
    {
     "name": "stderr",
     "output_type": "stream",
     "text": [
      "/home/lucas/miniconda3/lib/python3.7/site-packages/ipykernel_launcher.py:3: DeprecationWarning: firefox_profile has been deprecated, please pass in an Options object\n",
      "  This is separate from the ipykernel package so we can avoid doing imports until\n",
      "/home/lucas/miniconda3/lib/python3.7/site-packages/ipykernel_launcher.py:3: DeprecationWarning: firefox_profile has been deprecated, please pass in an Options object\n",
      "  This is separate from the ipykernel package so we can avoid doing imports until\n"
     ]
    },
    {
     "name": "stdout",
     "output_type": "stream",
     "text": [
      "Message: Unable to locate element: /html/body/main/div[2]/div/div[7]/div[1]/div[2]/button[2]\n",
      "Stacktrace:\n",
      "WebDriverError@chrome://remote/content/shared/webdriver/Errors.jsm:181:5\n",
      "NoSuchElementError@chrome://remote/content/shared/webdriver/Errors.jsm:393:5\n",
      "element.find/</<@chrome://remote/content/marionette/element.js:305:16\n",
      "\n"
     ]
    },
    {
     "name": "stderr",
     "output_type": "stream",
     "text": [
      "/home/lucas/miniconda3/lib/python3.7/site-packages/ipykernel_launcher.py:3: DeprecationWarning: firefox_profile has been deprecated, please pass in an Options object\n",
      "  This is separate from the ipykernel package so we can avoid doing imports until\n",
      "/home/lucas/miniconda3/lib/python3.7/site-packages/ipykernel_launcher.py:3: DeprecationWarning: firefox_profile has been deprecated, please pass in an Options object\n",
      "  This is separate from the ipykernel package so we can avoid doing imports until\n"
     ]
    },
    {
     "name": "stdout",
     "output_type": "stream",
     "text": [
      "Message: Unable to locate element: /html/body/main/div[2]/div/div[7]/div[1]/div[2]/button[2]\n",
      "Stacktrace:\n",
      "WebDriverError@chrome://remote/content/shared/webdriver/Errors.jsm:181:5\n",
      "NoSuchElementError@chrome://remote/content/shared/webdriver/Errors.jsm:393:5\n",
      "element.find/</<@chrome://remote/content/marionette/element.js:305:16\n",
      "\n",
      "Message: Unable to locate element: /html/body/main/div[2]/div/div[7]/div[1]/div[2]/button[2]\n",
      "Stacktrace:\n",
      "WebDriverError@chrome://remote/content/shared/webdriver/Errors.jsm:181:5\n",
      "NoSuchElementError@chrome://remote/content/shared/webdriver/Errors.jsm:393:5\n",
      "element.find/</<@chrome://remote/content/marionette/element.js:305:16\n",
      "\n"
     ]
    },
    {
     "name": "stderr",
     "output_type": "stream",
     "text": [
      "/home/lucas/miniconda3/lib/python3.7/site-packages/ipykernel_launcher.py:3: DeprecationWarning: firefox_profile has been deprecated, please pass in an Options object\n",
      "  This is separate from the ipykernel package so we can avoid doing imports until\n",
      "/home/lucas/miniconda3/lib/python3.7/site-packages/ipykernel_launcher.py:3: DeprecationWarning: firefox_profile has been deprecated, please pass in an Options object\n",
      "  This is separate from the ipykernel package so we can avoid doing imports until\n"
     ]
    },
    {
     "name": "stdout",
     "output_type": "stream",
     "text": [
      "Message: Unable to locate element: /html/body/main/div[2]/div/div[7]/div[1]/div[2]/button[2]\n",
      "Stacktrace:\n",
      "WebDriverError@chrome://remote/content/shared/webdriver/Errors.jsm:181:5\n",
      "NoSuchElementError@chrome://remote/content/shared/webdriver/Errors.jsm:393:5\n",
      "element.find/</<@chrome://remote/content/marionette/element.js:305:16\n",
      "\n"
     ]
    },
    {
     "name": "stderr",
     "output_type": "stream",
     "text": [
      "/home/lucas/miniconda3/lib/python3.7/site-packages/ipykernel_launcher.py:3: DeprecationWarning: firefox_profile has been deprecated, please pass in an Options object\n",
      "  This is separate from the ipykernel package so we can avoid doing imports until\n"
     ]
    },
    {
     "name": "stdout",
     "output_type": "stream",
     "text": [
      "Message: Unable to locate element: /html/body/main/div[2]/div/div[7]/div[1]/div[2]/button[2]\n",
      "Stacktrace:\n",
      "WebDriverError@chrome://remote/content/shared/webdriver/Errors.jsm:181:5\n",
      "NoSuchElementError@chrome://remote/content/shared/webdriver/Errors.jsm:393:5\n",
      "element.find/</<@chrome://remote/content/marionette/element.js:305:16\n",
      "\n"
     ]
    },
    {
     "name": "stderr",
     "output_type": "stream",
     "text": [
      "/home/lucas/miniconda3/lib/python3.7/site-packages/ipykernel_launcher.py:3: DeprecationWarning: firefox_profile has been deprecated, please pass in an Options object\n",
      "  This is separate from the ipykernel package so we can avoid doing imports until\n",
      "/home/lucas/miniconda3/lib/python3.7/site-packages/ipykernel_launcher.py:3: DeprecationWarning: firefox_profile has been deprecated, please pass in an Options object\n",
      "  This is separate from the ipykernel package so we can avoid doing imports until\n"
     ]
    },
    {
     "name": "stdout",
     "output_type": "stream",
     "text": [
      "Message: Unable to locate element: /html/body/main/div[2]/div/div[7]/div[1]/div[2]/button[2]\n",
      "Stacktrace:\n",
      "WebDriverError@chrome://remote/content/shared/webdriver/Errors.jsm:181:5\n",
      "NoSuchElementError@chrome://remote/content/shared/webdriver/Errors.jsm:393:5\n",
      "element.find/</<@chrome://remote/content/marionette/element.js:305:16\n",
      "\n"
     ]
    },
    {
     "name": "stderr",
     "output_type": "stream",
     "text": [
      "/home/lucas/miniconda3/lib/python3.7/site-packages/ipykernel_launcher.py:3: DeprecationWarning: firefox_profile has been deprecated, please pass in an Options object\n",
      "  This is separate from the ipykernel package so we can avoid doing imports until\n"
     ]
    },
    {
     "name": "stdout",
     "output_type": "stream",
     "text": [
      "Message: Unable to locate element: /html/body/main/div[2]/div/div[7]/div[1]/div[2]/button[2]\n",
      "Stacktrace:\n",
      "WebDriverError@chrome://remote/content/shared/webdriver/Errors.jsm:181:5\n",
      "NoSuchElementError@chrome://remote/content/shared/webdriver/Errors.jsm:393:5\n",
      "element.find/</<@chrome://remote/content/marionette/element.js:305:16\n",
      "\n"
     ]
    },
    {
     "name": "stderr",
     "output_type": "stream",
     "text": [
      "/home/lucas/miniconda3/lib/python3.7/site-packages/ipykernel_launcher.py:3: DeprecationWarning: firefox_profile has been deprecated, please pass in an Options object\n",
      "  This is separate from the ipykernel package so we can avoid doing imports until\n",
      "/home/lucas/miniconda3/lib/python3.7/site-packages/ipykernel_launcher.py:3: DeprecationWarning: firefox_profile has been deprecated, please pass in an Options object\n",
      "  This is separate from the ipykernel package so we can avoid doing imports until\n",
      "/home/lucas/miniconda3/lib/python3.7/site-packages/ipykernel_launcher.py:3: DeprecationWarning: firefox_profile has been deprecated, please pass in an Options object\n",
      "  This is separate from the ipykernel package so we can avoid doing imports until\n"
     ]
    },
    {
     "name": "stdout",
     "output_type": "stream",
     "text": [
      "Message: Unable to locate element: /html/body/main/div[2]/div/div[7]/div[1]/div[2]/button[2]\n",
      "Stacktrace:\n",
      "WebDriverError@chrome://remote/content/shared/webdriver/Errors.jsm:181:5\n",
      "NoSuchElementError@chrome://remote/content/shared/webdriver/Errors.jsm:393:5\n",
      "element.find/</<@chrome://remote/content/marionette/element.js:305:16\n",
      "\n"
     ]
    },
    {
     "name": "stderr",
     "output_type": "stream",
     "text": [
      "/home/lucas/miniconda3/lib/python3.7/site-packages/ipykernel_launcher.py:3: DeprecationWarning: firefox_profile has been deprecated, please pass in an Options object\n",
      "  This is separate from the ipykernel package so we can avoid doing imports until\n"
     ]
    },
    {
     "name": "stdout",
     "output_type": "stream",
     "text": [
      "Message: Unable to locate element: /html/body/main/div[2]/div/div[7]/div[1]/div[2]/button[2]\n",
      "Stacktrace:\n",
      "WebDriverError@chrome://remote/content/shared/webdriver/Errors.jsm:181:5\n",
      "NoSuchElementError@chrome://remote/content/shared/webdriver/Errors.jsm:393:5\n",
      "element.find/</<@chrome://remote/content/marionette/element.js:305:16\n",
      "\n",
      "Message: Unable to locate element: /html/body/main/div[2]/div/div[7]/div[1]/div[2]/button[2]\n",
      "Stacktrace:\n",
      "WebDriverError@chrome://remote/content/shared/webdriver/Errors.jsm:181:5\n",
      "NoSuchElementError@chrome://remote/content/shared/webdriver/Errors.jsm:393:5\n",
      "element.find/</<@chrome://remote/content/marionette/element.js:305:16\n",
      "\n",
      "Message: Unable to locate element: /html/body/main/div[2]/div/div[7]/div[1]/div[2]/button[2]\n",
      "Stacktrace:\n",
      "WebDriverError@chrome://remote/content/shared/webdriver/Errors.jsm:181:5\n",
      "NoSuchElementError@chrome://remote/content/shared/webdriver/Errors.jsm:393:5\n",
      "element.find/</<@chrome://remote/content/marionette/element.js:305:16\n",
      "\n"
     ]
    },
    {
     "name": "stderr",
     "output_type": "stream",
     "text": [
      "/home/lucas/miniconda3/lib/python3.7/site-packages/ipykernel_launcher.py:3: DeprecationWarning: firefox_profile has been deprecated, please pass in an Options object\n",
      "  This is separate from the ipykernel package so we can avoid doing imports until\n"
     ]
    },
    {
     "name": "stdout",
     "output_type": "stream",
     "text": [
      "Message: Unable to locate element: /html/body/main/div[2]/div/div[7]/div[1]/div[2]/button[2]\n",
      "Stacktrace:\n",
      "WebDriverError@chrome://remote/content/shared/webdriver/Errors.jsm:181:5\n",
      "NoSuchElementError@chrome://remote/content/shared/webdriver/Errors.jsm:393:5\n",
      "element.find/</<@chrome://remote/content/marionette/element.js:305:16\n",
      "\n"
     ]
    },
    {
     "name": "stderr",
     "output_type": "stream",
     "text": [
      "/home/lucas/miniconda3/lib/python3.7/site-packages/ipykernel_launcher.py:3: DeprecationWarning: firefox_profile has been deprecated, please pass in an Options object\n",
      "  This is separate from the ipykernel package so we can avoid doing imports until\n",
      "/home/lucas/miniconda3/lib/python3.7/site-packages/ipykernel_launcher.py:3: DeprecationWarning: firefox_profile has been deprecated, please pass in an Options object\n",
      "  This is separate from the ipykernel package so we can avoid doing imports until\n",
      "/home/lucas/miniconda3/lib/python3.7/site-packages/ipykernel_launcher.py:3: DeprecationWarning: firefox_profile has been deprecated, please pass in an Options object\n",
      "  This is separate from the ipykernel package so we can avoid doing imports until\n"
     ]
    },
    {
     "name": "stdout",
     "output_type": "stream",
     "text": [
      "Message: Unable to locate element: /html/body/main/div[2]/div/div[7]/div[1]/div[2]/button[2]\n",
      "Stacktrace:\n",
      "WebDriverError@chrome://remote/content/shared/webdriver/Errors.jsm:181:5\n",
      "NoSuchElementError@chrome://remote/content/shared/webdriver/Errors.jsm:393:5\n",
      "element.find/</<@chrome://remote/content/marionette/element.js:305:16\n",
      "\n",
      "Message: Unable to locate element: /html/body/main/div[2]/div/div[7]/div[1]/div[2]/button[2]\n",
      "Stacktrace:\n",
      "WebDriverError@chrome://remote/content/shared/webdriver/Errors.jsm:181:5\n",
      "NoSuchElementError@chrome://remote/content/shared/webdriver/Errors.jsm:393:5\n",
      "element.find/</<@chrome://remote/content/marionette/element.js:305:16\n",
      "\n",
      "Message: Unable to locate element: /html/body/main/div[2]/div/div[7]/div[1]/div[2]/button[2]\n",
      "Stacktrace:\n",
      "WebDriverError@chrome://remote/content/shared/webdriver/Errors.jsm:181:5\n",
      "NoSuchElementError@chrome://remote/content/shared/webdriver/Errors.jsm:393:5\n",
      "element.find/</<@chrome://remote/content/marionette/element.js:305:16\n",
      "\n"
     ]
    },
    {
     "name": "stderr",
     "output_type": "stream",
     "text": [
      "/home/lucas/miniconda3/lib/python3.7/site-packages/ipykernel_launcher.py:3: DeprecationWarning: firefox_profile has been deprecated, please pass in an Options object\n",
      "  This is separate from the ipykernel package so we can avoid doing imports until\n",
      "/home/lucas/miniconda3/lib/python3.7/site-packages/ipykernel_launcher.py:3: DeprecationWarning: firefox_profile has been deprecated, please pass in an Options object\n",
      "  This is separate from the ipykernel package so we can avoid doing imports until\n"
     ]
    },
    {
     "name": "stdout",
     "output_type": "stream",
     "text": [
      "Message: Unable to locate element: /html/body/main/div[2]/div/div[7]/div[1]/div[2]/button[2]\n",
      "Stacktrace:\n",
      "WebDriverError@chrome://remote/content/shared/webdriver/Errors.jsm:181:5\n",
      "NoSuchElementError@chrome://remote/content/shared/webdriver/Errors.jsm:393:5\n",
      "element.find/</<@chrome://remote/content/marionette/element.js:305:16\n",
      "\n"
     ]
    },
    {
     "name": "stderr",
     "output_type": "stream",
     "text": [
      "/home/lucas/miniconda3/lib/python3.7/site-packages/ipykernel_launcher.py:3: DeprecationWarning: firefox_profile has been deprecated, please pass in an Options object\n",
      "  This is separate from the ipykernel package so we can avoid doing imports until\n",
      "/home/lucas/miniconda3/lib/python3.7/site-packages/ipykernel_launcher.py:3: DeprecationWarning: firefox_profile has been deprecated, please pass in an Options object\n",
      "  This is separate from the ipykernel package so we can avoid doing imports until\n"
     ]
    },
    {
     "name": "stdout",
     "output_type": "stream",
     "text": [
      "Message: Unable to locate element: /html/body/main/div[2]/div/div[7]/div[1]/div[2]/button[2]\n",
      "Stacktrace:\n",
      "WebDriverError@chrome://remote/content/shared/webdriver/Errors.jsm:181:5\n",
      "NoSuchElementError@chrome://remote/content/shared/webdriver/Errors.jsm:393:5\n",
      "element.find/</<@chrome://remote/content/marionette/element.js:305:16\n",
      "\n"
     ]
    },
    {
     "name": "stderr",
     "output_type": "stream",
     "text": [
      "/home/lucas/miniconda3/lib/python3.7/site-packages/ipykernel_launcher.py:3: DeprecationWarning: firefox_profile has been deprecated, please pass in an Options object\n",
      "  This is separate from the ipykernel package so we can avoid doing imports until\n",
      "/home/lucas/miniconda3/lib/python3.7/site-packages/ipykernel_launcher.py:3: DeprecationWarning: firefox_profile has been deprecated, please pass in an Options object\n",
      "  This is separate from the ipykernel package so we can avoid doing imports until\n",
      "/home/lucas/miniconda3/lib/python3.7/site-packages/ipykernel_launcher.py:3: DeprecationWarning: firefox_profile has been deprecated, please pass in an Options object\n",
      "  This is separate from the ipykernel package so we can avoid doing imports until\n"
     ]
    },
    {
     "name": "stdout",
     "output_type": "stream",
     "text": [
      "Message: Unable to locate element: /html/body/main/div[2]/div/div[7]/div[1]/div[2]/button[2]\n",
      "Stacktrace:\n",
      "WebDriverError@chrome://remote/content/shared/webdriver/Errors.jsm:181:5\n",
      "NoSuchElementError@chrome://remote/content/shared/webdriver/Errors.jsm:393:5\n",
      "element.find/</<@chrome://remote/content/marionette/element.js:305:16\n",
      "\n"
     ]
    },
    {
     "name": "stderr",
     "output_type": "stream",
     "text": [
      "/home/lucas/miniconda3/lib/python3.7/site-packages/ipykernel_launcher.py:3: DeprecationWarning: firefox_profile has been deprecated, please pass in an Options object\n",
      "  This is separate from the ipykernel package so we can avoid doing imports until\n"
     ]
    },
    {
     "name": "stdout",
     "output_type": "stream",
     "text": [
      "Message: Unable to locate element: /html/body/main/div[2]/div/div[7]/div[1]/div[2]/button[2]\n",
      "Stacktrace:\n",
      "WebDriverError@chrome://remote/content/shared/webdriver/Errors.jsm:181:5\n",
      "NoSuchElementError@chrome://remote/content/shared/webdriver/Errors.jsm:393:5\n",
      "element.find/</<@chrome://remote/content/marionette/element.js:305:16\n",
      "Message: Unable to locate element: /html/body/main/div[2]/div/div[7]/div[1]/div[2]/button[2]\n",
      "Stacktrace:\n",
      "WebDriverError@chrome://remote/content/shared/webdriver/Errors.jsm:181:5\n",
      "NoSuchElementError@chrome://remote/content/shared/webdriver/Errors.jsm:393:5\n",
      "element.find/</<@chrome://remote/content/marionette/element.js:305:16\n",
      "\n",
      "\n",
      "Message: Unable to locate element: /html/body/main/div[2]/div/div[7]/div[1]/div[2]/button[2]\n",
      "Stacktrace:\n",
      "WebDriverError@chrome://remote/content/shared/webdriver/Errors.jsm:181:5\n",
      "NoSuchElementError@chrome://remote/content/shared/webdriver/Errors.jsm:393:5\n",
      "element.find/</<@chrome://remote/content/marionette/element.js:305:16\n",
      "\n"
     ]
    },
    {
     "name": "stderr",
     "output_type": "stream",
     "text": [
      "/home/lucas/miniconda3/lib/python3.7/site-packages/ipykernel_launcher.py:3: DeprecationWarning: firefox_profile has been deprecated, please pass in an Options object\n",
      "  This is separate from the ipykernel package so we can avoid doing imports until\n",
      "/home/lucas/miniconda3/lib/python3.7/site-packages/ipykernel_launcher.py:3: DeprecationWarning: firefox_profile has been deprecated, please pass in an Options object\n",
      "  This is separate from the ipykernel package so we can avoid doing imports until\n",
      "/home/lucas/miniconda3/lib/python3.7/site-packages/ipykernel_launcher.py:3: DeprecationWarning: firefox_profile has been deprecated, please pass in an Options object\n",
      "  This is separate from the ipykernel package so we can avoid doing imports until\n"
     ]
    },
    {
     "name": "stdout",
     "output_type": "stream",
     "text": [
      "Message: Unable to locate element: /html/body/main/div[2]/div/div[7]/div[1]/div[2]/button[2]\n",
      "Stacktrace:\n",
      "WebDriverError@chrome://remote/content/shared/webdriver/Errors.jsm:181:5\n",
      "NoSuchElementError@chrome://remote/content/shared/webdriver/Errors.jsm:393:5\n",
      "element.find/</<@chrome://remote/content/marionette/element.js:305:16\n",
      "\n"
     ]
    },
    {
     "name": "stderr",
     "output_type": "stream",
     "text": [
      "/home/lucas/miniconda3/lib/python3.7/site-packages/ipykernel_launcher.py:3: DeprecationWarning: firefox_profile has been deprecated, please pass in an Options object\n",
      "  This is separate from the ipykernel package so we can avoid doing imports until\n"
     ]
    },
    {
     "name": "stdout",
     "output_type": "stream",
     "text": [
      "Message: Unable to locate element: /html/body/main/div[2]/div/div[7]/div[1]/div[2]/button[2]\n",
      "Stacktrace:\n",
      "WebDriverError@chrome://remote/content/shared/webdriver/Errors.jsm:181:5\n",
      "NoSuchElementError@chrome://remote/content/shared/webdriver/Errors.jsm:393:5\n",
      "element.find/</<@chrome://remote/content/marionette/element.js:305:16\n",
      "\n"
     ]
    },
    {
     "name": "stderr",
     "output_type": "stream",
     "text": [
      "/home/lucas/miniconda3/lib/python3.7/site-packages/ipykernel_launcher.py:3: DeprecationWarning: firefox_profile has been deprecated, please pass in an Options object\n",
      "  This is separate from the ipykernel package so we can avoid doing imports until\n"
     ]
    },
    {
     "name": "stdout",
     "output_type": "stream",
     "text": [
      "Message: Unable to locate element: /html/body/main/div[2]/div/div[7]/div[1]/div[2]/button[2]\n",
      "Stacktrace:\n",
      "WebDriverError@chrome://remote/content/shared/webdriver/Errors.jsm:181:5\n",
      "NoSuchElementError@chrome://remote/content/shared/webdriver/Errors.jsm:393:5\n",
      "element.find/</<@chrome://remote/content/marionette/element.js:305:16\n",
      "\n"
     ]
    },
    {
     "name": "stderr",
     "output_type": "stream",
     "text": [
      "/home/lucas/miniconda3/lib/python3.7/site-packages/ipykernel_launcher.py:3: DeprecationWarning: firefox_profile has been deprecated, please pass in an Options object\n",
      "  This is separate from the ipykernel package so we can avoid doing imports until\n",
      "/home/lucas/miniconda3/lib/python3.7/site-packages/ipykernel_launcher.py:3: DeprecationWarning: firefox_profile has been deprecated, please pass in an Options object\n",
      "  This is separate from the ipykernel package so we can avoid doing imports until\n"
     ]
    },
    {
     "name": "stdout",
     "output_type": "stream",
     "text": [
      "Message: Unable to locate element: /html/body/main/div[2]/div/div[7]/div[1]/div[2]/button[2]\n",
      "Stacktrace:\n",
      "WebDriverError@chrome://remote/content/shared/webdriver/Errors.jsm:181:5\n",
      "NoSuchElementError@chrome://remote/content/shared/webdriver/Errors.jsm:393:5\n",
      "element.find/</<@chrome://remote/content/marionette/element.js:305:16\n",
      "\n"
     ]
    },
    {
     "name": "stderr",
     "output_type": "stream",
     "text": [
      "/home/lucas/miniconda3/lib/python3.7/site-packages/ipykernel_launcher.py:3: DeprecationWarning: firefox_profile has been deprecated, please pass in an Options object\n",
      "  This is separate from the ipykernel package so we can avoid doing imports until\n"
     ]
    },
    {
     "name": "stdout",
     "output_type": "stream",
     "text": [
      "Message: Unable to locate element: /html/body/main/div[2]/div/div[7]/div[1]/div[2]/button[2]\n",
      "Stacktrace:\n",
      "WebDriverError@chrome://remote/content/shared/webdriver/Errors.jsm:181:5\n",
      "NoSuchElementError@chrome://remote/content/shared/webdriver/Errors.jsm:393:5\n",
      "element.find/</<@chrome://remote/content/marionette/element.js:305:16\n",
      "\n"
     ]
    },
    {
     "name": "stderr",
     "output_type": "stream",
     "text": [
      "/home/lucas/miniconda3/lib/python3.7/site-packages/ipykernel_launcher.py:3: DeprecationWarning: firefox_profile has been deprecated, please pass in an Options object\n",
      "  This is separate from the ipykernel package so we can avoid doing imports until\n"
     ]
    },
    {
     "name": "stdout",
     "output_type": "stream",
     "text": [
      "Message: Unable to locate element: /html/body/main/div[2]/div/div[7]/div[1]/div[2]/button[2]\n",
      "Stacktrace:\n",
      "WebDriverError@chrome://remote/content/shared/webdriver/Errors.jsm:181:5\n",
      "NoSuchElementError@chrome://remote/content/shared/webdriver/Errors.jsm:393:5\n",
      "element.find/</<@chrome://remote/content/marionette/element.js:305:16\n",
      "\n",
      "Message: Unable to locate element: /html/body/main/div[2]/div/div[7]/div[1]/div[2]/button[2]\n",
      "Stacktrace:\n",
      "WebDriverError@chrome://remote/content/shared/webdriver/Errors.jsm:181:5\n",
      "NoSuchElementError@chrome://remote/content/shared/webdriver/Errors.jsm:393:5\n",
      "element.find/</<@chrome://remote/content/marionette/element.js:305:16\n",
      "\n"
     ]
    },
    {
     "name": "stderr",
     "output_type": "stream",
     "text": [
      "/home/lucas/miniconda3/lib/python3.7/site-packages/ipykernel_launcher.py:3: DeprecationWarning: firefox_profile has been deprecated, please pass in an Options object\n",
      "  This is separate from the ipykernel package so we can avoid doing imports until\n",
      "/home/lucas/miniconda3/lib/python3.7/site-packages/ipykernel_launcher.py:3: DeprecationWarning: firefox_profile has been deprecated, please pass in an Options object\n",
      "  This is separate from the ipykernel package so we can avoid doing imports until\n"
     ]
    },
    {
     "name": "stdout",
     "output_type": "stream",
     "text": [
      "Message: Unable to locate element: /html/body/main/div[2]/div/div[7]/div[1]/div[2]/button[2]\n",
      "Stacktrace:\n",
      "WebDriverError@chrome://remote/content/shared/webdriver/Errors.jsm:181:5\n",
      "NoSuchElementError@chrome://remote/content/shared/webdriver/Errors.jsm:393:5\n",
      "element.find/</<@chrome://remote/content/marionette/element.js:305:16\n",
      "\n"
     ]
    },
    {
     "name": "stderr",
     "output_type": "stream",
     "text": [
      "/home/lucas/miniconda3/lib/python3.7/site-packages/ipykernel_launcher.py:3: DeprecationWarning: firefox_profile has been deprecated, please pass in an Options object\n",
      "  This is separate from the ipykernel package so we can avoid doing imports until\n",
      "/home/lucas/miniconda3/lib/python3.7/site-packages/ipykernel_launcher.py:3: DeprecationWarning: firefox_profile has been deprecated, please pass in an Options object\n",
      "  This is separate from the ipykernel package so we can avoid doing imports until\n"
     ]
    },
    {
     "name": "stdout",
     "output_type": "stream",
     "text": [
      "Message: Unable to locate element: /html/body/main/div[2]/div/div[7]/div[1]/div[2]/button[2]\n",
      "Stacktrace:\n",
      "WebDriverError@chrome://remote/content/shared/webdriver/Errors.jsm:181:5\n",
      "NoSuchElementError@chrome://remote/content/shared/webdriver/Errors.jsm:393:5\n",
      "element.find/</<@chrome://remote/content/marionette/element.js:305:16\n",
      "\n"
     ]
    },
    {
     "name": "stderr",
     "output_type": "stream",
     "text": [
      "/home/lucas/miniconda3/lib/python3.7/site-packages/ipykernel_launcher.py:3: DeprecationWarning: firefox_profile has been deprecated, please pass in an Options object\n",
      "  This is separate from the ipykernel package so we can avoid doing imports until\n"
     ]
    },
    {
     "name": "stdout",
     "output_type": "stream",
     "text": [
      "Message: Unable to locate element: /html/body/main/div[2]/div/div[7]/div[1]/div[2]/button[2]\n",
      "Stacktrace:\n",
      "WebDriverError@chrome://remote/content/shared/webdriver/Errors.jsm:181:5\n",
      "NoSuchElementError@chrome://remote/content/shared/webdriver/Errors.jsm:393:5\n",
      "element.find/</<@chrome://remote/content/marionette/element.js:305:16\n",
      "\n"
     ]
    },
    {
     "name": "stderr",
     "output_type": "stream",
     "text": [
      "/home/lucas/miniconda3/lib/python3.7/site-packages/ipykernel_launcher.py:3: DeprecationWarning: firefox_profile has been deprecated, please pass in an Options object\n",
      "  This is separate from the ipykernel package so we can avoid doing imports until\n",
      "/home/lucas/miniconda3/lib/python3.7/site-packages/ipykernel_launcher.py:3: DeprecationWarning: firefox_profile has been deprecated, please pass in an Options object\n",
      "  This is separate from the ipykernel package so we can avoid doing imports until\n"
     ]
    },
    {
     "name": "stdout",
     "output_type": "stream",
     "text": [
      "Message: Unable to locate element: /html/body/main/div[2]/div/div[7]/div[1]/div[2]/button[2]\n",
      "Stacktrace:\n",
      "WebDriverError@chrome://remote/content/shared/webdriver/Errors.jsm:181:5\n",
      "NoSuchElementError@chrome://remote/content/shared/webdriver/Errors.jsm:393:5\n",
      "element.find/</<@chrome://remote/content/marionette/element.js:305:16\n",
      "\n"
     ]
    },
    {
     "name": "stderr",
     "output_type": "stream",
     "text": [
      "/home/lucas/miniconda3/lib/python3.7/site-packages/ipykernel_launcher.py:3: DeprecationWarning: firefox_profile has been deprecated, please pass in an Options object\n",
      "  This is separate from the ipykernel package so we can avoid doing imports until\n"
     ]
    },
    {
     "name": "stdout",
     "output_type": "stream",
     "text": [
      "Message: Unable to locate element: /html/body/main/div[2]/div/div[7]/div[1]/div[2]/button[2]\n",
      "Stacktrace:\n",
      "WebDriverError@chrome://remote/content/shared/webdriver/Errors.jsm:181:5\n",
      "NoSuchElementError@chrome://remote/content/shared/webdriver/Errors.jsm:393:5\n",
      "element.find/</<@chrome://remote/content/marionette/element.js:305:16\n",
      "\n"
     ]
    },
    {
     "name": "stderr",
     "output_type": "stream",
     "text": [
      "/home/lucas/miniconda3/lib/python3.7/site-packages/ipykernel_launcher.py:3: DeprecationWarning: firefox_profile has been deprecated, please pass in an Options object\n",
      "  This is separate from the ipykernel package so we can avoid doing imports until\n"
     ]
    },
    {
     "name": "stdout",
     "output_type": "stream",
     "text": [
      "Message: Unable to locate element: /html/body/main/div[2]/div/div[7]/div[1]/div[2]/button[2]\n",
      "Stacktrace:\n",
      "WebDriverError@chrome://remote/content/shared/webdriver/Errors.jsm:181:5\n",
      "NoSuchElementError@chrome://remote/content/shared/webdriver/Errors.jsm:393:5\n",
      "element.find/</<@chrome://remote/content/marionette/element.js:305:16\n",
      "\n"
     ]
    },
    {
     "name": "stderr",
     "output_type": "stream",
     "text": [
      "/home/lucas/miniconda3/lib/python3.7/site-packages/ipykernel_launcher.py:3: DeprecationWarning: firefox_profile has been deprecated, please pass in an Options object\n",
      "  This is separate from the ipykernel package so we can avoid doing imports until\n",
      "/home/lucas/miniconda3/lib/python3.7/site-packages/ipykernel_launcher.py:3: DeprecationWarning: firefox_profile has been deprecated, please pass in an Options object\n",
      "  This is separate from the ipykernel package so we can avoid doing imports until\n"
     ]
    },
    {
     "name": "stdout",
     "output_type": "stream",
     "text": [
      "Message: Unable to locate element: /html/body/main/div[2]/div/div[7]/div[1]/div[2]/button[2]\n",
      "Stacktrace:\n",
      "WebDriverError@chrome://remote/content/shared/webdriver/Errors.jsm:181:5\n",
      "NoSuchElementError@chrome://remote/content/shared/webdriver/Errors.jsm:393:5\n",
      "element.find/</<@chrome://remote/content/marionette/element.js:305:16\n",
      "\n"
     ]
    },
    {
     "name": "stderr",
     "output_type": "stream",
     "text": [
      "/home/lucas/miniconda3/lib/python3.7/site-packages/ipykernel_launcher.py:3: DeprecationWarning: firefox_profile has been deprecated, please pass in an Options object\n",
      "  This is separate from the ipykernel package so we can avoid doing imports until\n"
     ]
    },
    {
     "name": "stdout",
     "output_type": "stream",
     "text": [
      "Message: Unable to locate element: /html/body/main/div[2]/div/div[7]/div[1]/div[2]/button[2]\n",
      "Stacktrace:\n",
      "WebDriverError@chrome://remote/content/shared/webdriver/Errors.jsm:181:5\n",
      "NoSuchElementError@chrome://remote/content/shared/webdriver/Errors.jsm:393:5\n",
      "element.find/</<@chrome://remote/content/marionette/element.js:305:16\n",
      "\n"
     ]
    },
    {
     "name": "stderr",
     "output_type": "stream",
     "text": [
      "/home/lucas/miniconda3/lib/python3.7/site-packages/ipykernel_launcher.py:3: DeprecationWarning: firefox_profile has been deprecated, please pass in an Options object\n",
      "  This is separate from the ipykernel package so we can avoid doing imports until\n"
     ]
    },
    {
     "name": "stdout",
     "output_type": "stream",
     "text": [
      "Message: Unable to locate element: /html/body/main/div[2]/div/div[7]/div[1]/div[2]/button[2]\n",
      "Stacktrace:\n",
      "WebDriverError@chrome://remote/content/shared/webdriver/Errors.jsm:181:5\n",
      "NoSuchElementError@chrome://remote/content/shared/webdriver/Errors.jsm:393:5\n",
      "element.find/</<@chrome://remote/content/marionette/element.js:305:16\n",
      "\n",
      "Message: Unable to locate element: /html/body/main/div[2]/div/div[7]/div[1]/div[2]/button[2]\n",
      "Stacktrace:\n",
      "WebDriverError@chrome://remote/content/shared/webdriver/Errors.jsm:181:5\n",
      "NoSuchElementError@chrome://remote/content/shared/webdriver/Errors.jsm:393:5\n",
      "element.find/</<@chrome://remote/content/marionette/element.js:305:16\n",
      "\n"
     ]
    },
    {
     "name": "stderr",
     "output_type": "stream",
     "text": [
      "/home/lucas/miniconda3/lib/python3.7/site-packages/ipykernel_launcher.py:3: DeprecationWarning: firefox_profile has been deprecated, please pass in an Options object\n",
      "  This is separate from the ipykernel package so we can avoid doing imports until\n",
      "/home/lucas/miniconda3/lib/python3.7/site-packages/ipykernel_launcher.py:3: DeprecationWarning: firefox_profile has been deprecated, please pass in an Options object\n",
      "  This is separate from the ipykernel package so we can avoid doing imports until\n"
     ]
    },
    {
     "name": "stdout",
     "output_type": "stream",
     "text": [
      "Message: Unable to locate element: /html/body/main/div[2]/div/div[7]/div[1]/div[2]/button[2]\n",
      "Stacktrace:\n",
      "WebDriverError@chrome://remote/content/shared/webdriver/Errors.jsm:181:5\n",
      "NoSuchElementError@chrome://remote/content/shared/webdriver/Errors.jsm:393:5\n",
      "element.find/</<@chrome://remote/content/marionette/element.js:305:16\n",
      "\n"
     ]
    },
    {
     "name": "stderr",
     "output_type": "stream",
     "text": [
      "/home/lucas/miniconda3/lib/python3.7/site-packages/ipykernel_launcher.py:3: DeprecationWarning: firefox_profile has been deprecated, please pass in an Options object\n",
      "  This is separate from the ipykernel package so we can avoid doing imports until\n"
     ]
    },
    {
     "name": "stdout",
     "output_type": "stream",
     "text": [
      "Message: Unable to locate element: /html/body/main/div[2]/div/div[7]/div[1]/div[2]/button[2]\n",
      "Stacktrace:\n",
      "WebDriverError@chrome://remote/content/shared/webdriver/Errors.jsm:181:5\n",
      "NoSuchElementError@chrome://remote/content/shared/webdriver/Errors.jsm:393:5\n",
      "element.find/</<@chrome://remote/content/marionette/element.js:305:16\n",
      "\n"
     ]
    },
    {
     "name": "stderr",
     "output_type": "stream",
     "text": [
      "/home/lucas/miniconda3/lib/python3.7/site-packages/ipykernel_launcher.py:3: DeprecationWarning: firefox_profile has been deprecated, please pass in an Options object\n",
      "  This is separate from the ipykernel package so we can avoid doing imports until\n"
     ]
    },
    {
     "name": "stdout",
     "output_type": "stream",
     "text": [
      "Message: Unable to locate element: /html/body/main/div[2]/div/div[7]/div[1]/div[2]/button[2]\n",
      "Stacktrace:\n",
      "WebDriverError@chrome://remote/content/shared/webdriver/Errors.jsm:181:5\n",
      "NoSuchElementError@chrome://remote/content/shared/webdriver/Errors.jsm:393:5\n",
      "element.find/</<@chrome://remote/content/marionette/element.js:305:16\n",
      "\n",
      "Message: Unable to locate element: /html/body/main/div[2]/div/div[7]/div[1]/div[2]/button[2]\n",
      "Stacktrace:\n",
      "WebDriverError@chrome://remote/content/shared/webdriver/Errors.jsm:181:5\n",
      "NoSuchElementError@chrome://remote/content/shared/webdriver/Errors.jsm:393:5\n",
      "element.find/</<@chrome://remote/content/marionette/element.js:305:16\n",
      "\n"
     ]
    },
    {
     "name": "stderr",
     "output_type": "stream",
     "text": [
      "/home/lucas/miniconda3/lib/python3.7/site-packages/ipykernel_launcher.py:3: DeprecationWarning: firefox_profile has been deprecated, please pass in an Options object\n",
      "  This is separate from the ipykernel package so we can avoid doing imports until\n",
      "/home/lucas/miniconda3/lib/python3.7/site-packages/ipykernel_launcher.py:3: DeprecationWarning: firefox_profile has been deprecated, please pass in an Options object\n",
      "  This is separate from the ipykernel package so we can avoid doing imports until\n"
     ]
    },
    {
     "name": "stdout",
     "output_type": "stream",
     "text": [
      "Message: Unable to locate element: /html/body/main/div[2]/div/div[7]/div[1]/div[2]/button[2]\n",
      "Stacktrace:\n",
      "WebDriverError@chrome://remote/content/shared/webdriver/Errors.jsm:181:5\n",
      "NoSuchElementError@chrome://remote/content/shared/webdriver/Errors.jsm:393:5\n",
      "element.find/</<@chrome://remote/content/marionette/element.js:305:16\n",
      "\n"
     ]
    },
    {
     "name": "stderr",
     "output_type": "stream",
     "text": [
      "/home/lucas/miniconda3/lib/python3.7/site-packages/ipykernel_launcher.py:3: DeprecationWarning: firefox_profile has been deprecated, please pass in an Options object\n",
      "  This is separate from the ipykernel package so we can avoid doing imports until\n",
      "/home/lucas/miniconda3/lib/python3.7/site-packages/ipykernel_launcher.py:3: DeprecationWarning: firefox_profile has been deprecated, please pass in an Options object\n",
      "  This is separate from the ipykernel package so we can avoid doing imports until\n"
     ]
    },
    {
     "name": "stdout",
     "output_type": "stream",
     "text": [
      "Message: Unable to locate element: /html/body/main/div[2]/div/div[7]/div[1]/div[2]/button[2]\n",
      "Stacktrace:\n",
      "WebDriverError@chrome://remote/content/shared/webdriver/Errors.jsm:181:5\n",
      "NoSuchElementError@chrome://remote/content/shared/webdriver/Errors.jsm:393:5\n",
      "element.find/</<@chrome://remote/content/marionette/element.js:305:16\n",
      "\n"
     ]
    },
    {
     "name": "stderr",
     "output_type": "stream",
     "text": [
      "/home/lucas/miniconda3/lib/python3.7/site-packages/ipykernel_launcher.py:3: DeprecationWarning: firefox_profile has been deprecated, please pass in an Options object\n",
      "  This is separate from the ipykernel package so we can avoid doing imports until\n",
      "/home/lucas/miniconda3/lib/python3.7/site-packages/ipykernel_launcher.py:3: DeprecationWarning: firefox_profile has been deprecated, please pass in an Options object\n",
      "  This is separate from the ipykernel package so we can avoid doing imports until\n"
     ]
    },
    {
     "name": "stdout",
     "output_type": "stream",
     "text": [
      "Message: Unable to locate element: /html/body/main/div[2]/div/div[7]/div[1]/div[2]/button[2]\n",
      "Stacktrace:\n",
      "WebDriverError@chrome://remote/content/shared/webdriver/Errors.jsm:181:5\n",
      "NoSuchElementError@chrome://remote/content/shared/webdriver/Errors.jsm:393:5\n",
      "element.find/</<@chrome://remote/content/marionette/element.js:305:16\n",
      "\n",
      "Message: Unable to locate element: /html/body/main/div[2]/div/div[7]/div[1]/div[2]/button[2]\n",
      "Stacktrace:\n",
      "WebDriverError@chrome://remote/content/shared/webdriver/Errors.jsm:181:5\n",
      "NoSuchElementError@chrome://remote/content/shared/webdriver/Errors.jsm:393:5\n",
      "element.find/</<@chrome://remote/content/marionette/element.js:305:16\n",
      "\n"
     ]
    },
    {
     "name": "stderr",
     "output_type": "stream",
     "text": [
      "/home/lucas/miniconda3/lib/python3.7/site-packages/ipykernel_launcher.py:3: DeprecationWarning: firefox_profile has been deprecated, please pass in an Options object\n",
      "  This is separate from the ipykernel package so we can avoid doing imports until\n",
      "/home/lucas/miniconda3/lib/python3.7/site-packages/ipykernel_launcher.py:3: DeprecationWarning: firefox_profile has been deprecated, please pass in an Options object\n",
      "  This is separate from the ipykernel package so we can avoid doing imports until\n"
     ]
    },
    {
     "name": "stdout",
     "output_type": "stream",
     "text": [
      "Message: Unable to locate element: /html/body/main/div[2]/div/div[7]/div[1]/div[2]/button[2]\n",
      "Stacktrace:\n",
      "WebDriverError@chrome://remote/content/shared/webdriver/Errors.jsm:181:5\n",
      "NoSuchElementError@chrome://remote/content/shared/webdriver/Errors.jsm:393:5\n",
      "element.find/</<@chrome://remote/content/marionette/element.js:305:16\n",
      "\n"
     ]
    },
    {
     "name": "stderr",
     "output_type": "stream",
     "text": [
      "/home/lucas/miniconda3/lib/python3.7/site-packages/ipykernel_launcher.py:3: DeprecationWarning: firefox_profile has been deprecated, please pass in an Options object\n",
      "  This is separate from the ipykernel package so we can avoid doing imports until\n",
      "/home/lucas/miniconda3/lib/python3.7/site-packages/ipykernel_launcher.py:3: DeprecationWarning: firefox_profile has been deprecated, please pass in an Options object\n",
      "  This is separate from the ipykernel package so we can avoid doing imports until\n"
     ]
    },
    {
     "name": "stdout",
     "output_type": "stream",
     "text": [
      "Message: Unable to locate element: /html/body/main/div[2]/div/div[7]/div[1]/div[2]/button[2]\n",
      "Stacktrace:\n",
      "WebDriverError@chrome://remote/content/shared/webdriver/Errors.jsm:181:5\n",
      "NoSuchElementError@chrome://remote/content/shared/webdriver/Errors.jsm:393:5\n",
      "element.find/</<@chrome://remote/content/marionette/element.js:305:16\n",
      "\n"
     ]
    },
    {
     "name": "stderr",
     "output_type": "stream",
     "text": [
      "/home/lucas/miniconda3/lib/python3.7/site-packages/ipykernel_launcher.py:3: DeprecationWarning: firefox_profile has been deprecated, please pass in an Options object\n",
      "  This is separate from the ipykernel package so we can avoid doing imports until\n",
      "/home/lucas/miniconda3/lib/python3.7/site-packages/ipykernel_launcher.py:3: DeprecationWarning: firefox_profile has been deprecated, please pass in an Options object\n",
      "  This is separate from the ipykernel package so we can avoid doing imports until\n",
      "/home/lucas/miniconda3/lib/python3.7/site-packages/ipykernel_launcher.py:3: DeprecationWarning: firefox_profile has been deprecated, please pass in an Options object\n",
      "  This is separate from the ipykernel package so we can avoid doing imports until\n"
     ]
    },
    {
     "name": "stdout",
     "output_type": "stream",
     "text": [
      "Message: Unable to locate element: /html/body/main/div[2]/div/div[7]/div[1]/div[2]/button[2]\n",
      "Stacktrace:\n",
      "WebDriverError@chrome://remote/content/shared/webdriver/Errors.jsm:181:5\n",
      "NoSuchElementError@chrome://remote/content/shared/webdriver/Errors.jsm:393:5\n",
      "element.find/</<@chrome://remote/content/marionette/element.js:305:16\n",
      "\n"
     ]
    },
    {
     "name": "stderr",
     "output_type": "stream",
     "text": [
      "/home/lucas/miniconda3/lib/python3.7/site-packages/ipykernel_launcher.py:3: DeprecationWarning: firefox_profile has been deprecated, please pass in an Options object\n",
      "  This is separate from the ipykernel package so we can avoid doing imports until\n",
      "/home/lucas/miniconda3/lib/python3.7/site-packages/ipykernel_launcher.py:3: DeprecationWarning: firefox_profile has been deprecated, please pass in an Options object\n",
      "  This is separate from the ipykernel package so we can avoid doing imports until\n",
      "/home/lucas/miniconda3/lib/python3.7/site-packages/ipykernel_launcher.py:3: DeprecationWarning: firefox_profile has been deprecated, please pass in an Options object\n",
      "  This is separate from the ipykernel package so we can avoid doing imports until\n",
      "/home/lucas/miniconda3/lib/python3.7/site-packages/ipykernel_launcher.py:3: DeprecationWarning: firefox_profile has been deprecated, please pass in an Options object\n",
      "  This is separate from the ipykernel package so we can avoid doing imports until\n"
     ]
    },
    {
     "name": "stdout",
     "output_type": "stream",
     "text": [
      "Message: Unable to locate element: /html/body/main/div[2]/div/div[7]/div[1]/div[2]/button[2]\n",
      "Stacktrace:\n",
      "WebDriverError@chrome://remote/content/shared/webdriver/Errors.jsm:181:5\n",
      "NoSuchElementError@chrome://remote/content/shared/webdriver/Errors.jsm:393:5\n",
      "element.find/</<@chrome://remote/content/marionette/element.js:305:16\n",
      "\n",
      "Message: Unable to locate element: /html/body/main/div[2]/div/div[7]/div[1]/div[2]/button[2]\n",
      "Stacktrace:\n",
      "WebDriverError@chrome://remote/content/shared/webdriver/Errors.jsm:181:5\n",
      "NoSuchElementError@chrome://remote/content/shared/webdriver/Errors.jsm:393:5\n",
      "element.find/</<@chrome://remote/content/marionette/element.js:305:16\n",
      "\n",
      "Message: Unable to locate element: /html/body/main/div[2]/div/div[7]/div[1]/div[2]/button[2]\n",
      "Stacktrace:\n",
      "WebDriverError@chrome://remote/content/shared/webdriver/Errors.jsm:181:5\n",
      "NoSuchElementError@chrome://remote/content/shared/webdriver/Errors.jsm:393:5\n",
      "element.find/</<@chrome://remote/content/marionette/element.js:305:16\n",
      "\n"
     ]
    },
    {
     "name": "stderr",
     "output_type": "stream",
     "text": [
      "/home/lucas/miniconda3/lib/python3.7/site-packages/ipykernel_launcher.py:3: DeprecationWarning: firefox_profile has been deprecated, please pass in an Options object\n",
      "  This is separate from the ipykernel package so we can avoid doing imports until\n",
      "/home/lucas/miniconda3/lib/python3.7/site-packages/ipykernel_launcher.py:3: DeprecationWarning: firefox_profile has been deprecated, please pass in an Options object\n",
      "  This is separate from the ipykernel package so we can avoid doing imports until\n",
      "/home/lucas/miniconda3/lib/python3.7/site-packages/ipykernel_launcher.py:3: DeprecationWarning: firefox_profile has been deprecated, please pass in an Options object\n",
      "  This is separate from the ipykernel package so we can avoid doing imports until\n"
     ]
    },
    {
     "name": "stdout",
     "output_type": "stream",
     "text": [
      "Message: Unable to locate element: /html/body/main/div[2]/div/div[7]/div[1]/div[2]/button[2]\n",
      "Stacktrace:\n",
      "WebDriverError@chrome://remote/content/shared/webdriver/Errors.jsm:181:5\n",
      "NoSuchElementError@chrome://remote/content/shared/webdriver/Errors.jsm:393:5\n",
      "element.find/</<@chrome://remote/content/marionette/element.js:305:16\n",
      "\n"
     ]
    },
    {
     "name": "stderr",
     "output_type": "stream",
     "text": [
      "/home/lucas/miniconda3/lib/python3.7/site-packages/ipykernel_launcher.py:3: DeprecationWarning: firefox_profile has been deprecated, please pass in an Options object\n",
      "  This is separate from the ipykernel package so we can avoid doing imports until\n"
     ]
    },
    {
     "name": "stdout",
     "output_type": "stream",
     "text": [
      "Message: Unable to locate element: /html/body/main/div[2]/div/div[7]/div[1]/div[2]/button[2]\n",
      "Stacktrace:\n",
      "WebDriverError@chrome://remote/content/shared/webdriver/Errors.jsm:181:5\n",
      "NoSuchElementError@chrome://remote/content/shared/webdriver/Errors.jsm:393:5\n",
      "element.find/</<@chrome://remote/content/marionette/element.js:305:16\n",
      "\n",
      "Message: Unable to locate element: /html/body/main/div[2]/div/div[7]/div[1]/div[2]/button[2]\n",
      "Stacktrace:\n",
      "WebDriverError@chrome://remote/content/shared/webdriver/Errors.jsm:181:5\n",
      "NoSuchElementError@chrome://remote/content/shared/webdriver/Errors.jsm:393:5\n",
      "element.find/</<@chrome://remote/content/marionette/element.js:305:16\n",
      "\n",
      "Message: Unable to locate element: /html/body/main/div[2]/div/div[7]/div[1]/div[2]/button[2]\n",
      "Stacktrace:\n",
      "WebDriverError@chrome://remote/content/shared/webdriver/Errors.jsm:181:5\n",
      "NoSuchElementError@chrome://remote/content/shared/webdriver/Errors.jsm:393:5\n",
      "element.find/</<@chrome://remote/content/marionette/element.js:305:16\n",
      "\n"
     ]
    },
    {
     "name": "stderr",
     "output_type": "stream",
     "text": [
      "/home/lucas/miniconda3/lib/python3.7/site-packages/ipykernel_launcher.py:3: DeprecationWarning: firefox_profile has been deprecated, please pass in an Options object\n",
      "  This is separate from the ipykernel package so we can avoid doing imports until\n",
      "/home/lucas/miniconda3/lib/python3.7/site-packages/ipykernel_launcher.py:3: DeprecationWarning: firefox_profile has been deprecated, please pass in an Options object\n",
      "  This is separate from the ipykernel package so we can avoid doing imports until\n",
      "/home/lucas/miniconda3/lib/python3.7/site-packages/ipykernel_launcher.py:3: DeprecationWarning: firefox_profile has been deprecated, please pass in an Options object\n",
      "  This is separate from the ipykernel package so we can avoid doing imports until\n"
     ]
    },
    {
     "name": "stdout",
     "output_type": "stream",
     "text": [
      "Message: Unable to locate element: /html/body/main/div[2]/div/div[7]/div[1]/div[2]/button[2]\n",
      "Stacktrace:\n",
      "WebDriverError@chrome://remote/content/shared/webdriver/Errors.jsm:181:5\n",
      "NoSuchElementError@chrome://remote/content/shared/webdriver/Errors.jsm:393:5\n",
      "element.find/</<@chrome://remote/content/marionette/element.js:305:16\n",
      "\n"
     ]
    },
    {
     "name": "stderr",
     "output_type": "stream",
     "text": [
      "/home/lucas/miniconda3/lib/python3.7/site-packages/ipykernel_launcher.py:3: DeprecationWarning: firefox_profile has been deprecated, please pass in an Options object\n",
      "  This is separate from the ipykernel package so we can avoid doing imports until\n"
     ]
    },
    {
     "name": "stdout",
     "output_type": "stream",
     "text": [
      "Message: Unable to locate element: /html/body/main/div[2]/div/div[7]/div[1]/div[2]/button[2]\n",
      "Stacktrace:\n",
      "WebDriverError@chrome://remote/content/shared/webdriver/Errors.jsm:181:5\n",
      "NoSuchElementError@chrome://remote/content/shared/webdriver/Errors.jsm:393:5\n",
      "element.find/</<@chrome://remote/content/marionette/element.js:305:16\n",
      "\n"
     ]
    },
    {
     "name": "stderr",
     "output_type": "stream",
     "text": [
      "/home/lucas/miniconda3/lib/python3.7/site-packages/ipykernel_launcher.py:3: DeprecationWarning: firefox_profile has been deprecated, please pass in an Options object\n",
      "  This is separate from the ipykernel package so we can avoid doing imports until\n"
     ]
    },
    {
     "name": "stdout",
     "output_type": "stream",
     "text": [
      "Message: Unable to locate element: /html/body/main/div[2]/div/div[7]/div[1]/div[2]/button[2]\n",
      "Stacktrace:\n",
      "WebDriverError@chrome://remote/content/shared/webdriver/Errors.jsm:181:5\n",
      "NoSuchElementError@chrome://remote/content/shared/webdriver/Errors.jsm:393:5\n",
      "element.find/</<@chrome://remote/content/marionette/element.js:305:16\n",
      "\n"
     ]
    },
    {
     "name": "stderr",
     "output_type": "stream",
     "text": [
      "/home/lucas/miniconda3/lib/python3.7/site-packages/ipykernel_launcher.py:3: DeprecationWarning: firefox_profile has been deprecated, please pass in an Options object\n",
      "  This is separate from the ipykernel package so we can avoid doing imports until\n",
      "/home/lucas/miniconda3/lib/python3.7/site-packages/ipykernel_launcher.py:3: DeprecationWarning: firefox_profile has been deprecated, please pass in an Options object\n",
      "  This is separate from the ipykernel package so we can avoid doing imports until\n"
     ]
    },
    {
     "name": "stdout",
     "output_type": "stream",
     "text": [
      "Message: Unable to locate element: /html/body/main/div[2]/div/div[7]/div[1]/div[2]/button[2]\n",
      "Stacktrace:\n",
      "WebDriverError@chrome://remote/content/shared/webdriver/Errors.jsm:181:5\n",
      "NoSuchElementError@chrome://remote/content/shared/webdriver/Errors.jsm:393:5\n",
      "element.find/</<@chrome://remote/content/marionette/element.js:305:16\n",
      "\n"
     ]
    },
    {
     "name": "stderr",
     "output_type": "stream",
     "text": [
      "/home/lucas/miniconda3/lib/python3.7/site-packages/ipykernel_launcher.py:3: DeprecationWarning: firefox_profile has been deprecated, please pass in an Options object\n",
      "  This is separate from the ipykernel package so we can avoid doing imports until\n"
     ]
    },
    {
     "name": "stdout",
     "output_type": "stream",
     "text": [
      "Message: Unable to locate element: /html/body/main/div[2]/div/div[7]/div[1]/div[2]/button[2]\n",
      "Stacktrace:\n",
      "WebDriverError@chrome://remote/content/shared/webdriver/Errors.jsm:181:5\n",
      "NoSuchElementError@chrome://remote/content/shared/webdriver/Errors.jsm:393:5\n",
      "element.find/</<@chrome://remote/content/marionette/element.js:305:16\n",
      "\n"
     ]
    },
    {
     "name": "stderr",
     "output_type": "stream",
     "text": [
      "/home/lucas/miniconda3/lib/python3.7/site-packages/ipykernel_launcher.py:3: DeprecationWarning: firefox_profile has been deprecated, please pass in an Options object\n",
      "  This is separate from the ipykernel package so we can avoid doing imports until\n"
     ]
    },
    {
     "name": "stdout",
     "output_type": "stream",
     "text": [
      "Message: Unable to locate element: /html/body/main/div[2]/div/div[7]/div[1]/div[2]/button[2]\n",
      "Stacktrace:\n",
      "WebDriverError@chrome://remote/content/shared/webdriver/Errors.jsm:181:5\n",
      "NoSuchElementError@chrome://remote/content/shared/webdriver/Errors.jsm:393:5\n",
      "element.find/</<@chrome://remote/content/marionette/element.js:305:16\n",
      "\n",
      "Message: Unable to locate element: /html/body/main/div[2]/div/div[7]/div[1]/div[2]/button[2]\n",
      "Stacktrace:\n",
      "WebDriverError@chrome://remote/content/shared/webdriver/Errors.jsm:181:5\n",
      "NoSuchElementError@chrome://remote/content/shared/webdriver/Errors.jsm:393:5\n",
      "element.find/</<@chrome://remote/content/marionette/element.js:305:16\n",
      "\n"
     ]
    },
    {
     "name": "stderr",
     "output_type": "stream",
     "text": [
      "/home/lucas/miniconda3/lib/python3.7/site-packages/ipykernel_launcher.py:3: DeprecationWarning: firefox_profile has been deprecated, please pass in an Options object\n",
      "  This is separate from the ipykernel package so we can avoid doing imports until\n",
      "/home/lucas/miniconda3/lib/python3.7/site-packages/ipykernel_launcher.py:3: DeprecationWarning: firefox_profile has been deprecated, please pass in an Options object\n",
      "  This is separate from the ipykernel package so we can avoid doing imports until\n",
      "/home/lucas/miniconda3/lib/python3.7/site-packages/ipykernel_launcher.py:3: DeprecationWarning: firefox_profile has been deprecated, please pass in an Options object\n",
      "  This is separate from the ipykernel package so we can avoid doing imports until\n",
      "/home/lucas/miniconda3/lib/python3.7/site-packages/ipykernel_launcher.py:3: DeprecationWarning: firefox_profile has been deprecated, please pass in an Options object\n",
      "  This is separate from the ipykernel package so we can avoid doing imports until\n"
     ]
    },
    {
     "name": "stdout",
     "output_type": "stream",
     "text": [
      "Message: Unable to locate element: /html/body/main/div[2]/div/div[7]/div[1]/div[2]/button[2]\n",
      "Stacktrace:\n",
      "WebDriverError@chrome://remote/content/shared/webdriver/Errors.jsm:181:5\n",
      "NoSuchElementError@chrome://remote/content/shared/webdriver/Errors.jsm:393:5\n",
      "element.find/</<@chrome://remote/content/marionette/element.js:305:16\n",
      "\n",
      "Message: Unable to locate element: /html/body/main/div[2]/div/div[7]/div[1]/div[2]/button[2]\n",
      "Stacktrace:\n",
      "WebDriverError@chrome://remote/content/shared/webdriver/Errors.jsm:181:5\n",
      "NoSuchElementError@chrome://remote/content/shared/webdriver/Errors.jsm:393:5\n",
      "element.find/</<@chrome://remote/content/marionette/element.js:305:16\n",
      "\n"
     ]
    },
    {
     "name": "stderr",
     "output_type": "stream",
     "text": [
      "/home/lucas/miniconda3/lib/python3.7/site-packages/ipykernel_launcher.py:3: DeprecationWarning: firefox_profile has been deprecated, please pass in an Options object\n",
      "  This is separate from the ipykernel package so we can avoid doing imports until\n",
      "/home/lucas/miniconda3/lib/python3.7/site-packages/ipykernel_launcher.py:3: DeprecationWarning: firefox_profile has been deprecated, please pass in an Options object\n",
      "  This is separate from the ipykernel package so we can avoid doing imports until\n"
     ]
    },
    {
     "name": "stdout",
     "output_type": "stream",
     "text": [
      "Message: Unable to locate element: /html/body/main/div[2]/div/div[7]/div[1]/div[2]/button[2]\n",
      "Stacktrace:\n",
      "WebDriverError@chrome://remote/content/shared/webdriver/Errors.jsm:181:5\n",
      "NoSuchElementError@chrome://remote/content/shared/webdriver/Errors.jsm:393:5\n",
      "element.find/</<@chrome://remote/content/marionette/element.js:305:16\n",
      "\n"
     ]
    },
    {
     "name": "stderr",
     "output_type": "stream",
     "text": [
      "/home/lucas/miniconda3/lib/python3.7/site-packages/ipykernel_launcher.py:3: DeprecationWarning: firefox_profile has been deprecated, please pass in an Options object\n",
      "  This is separate from the ipykernel package so we can avoid doing imports until\n"
     ]
    },
    {
     "name": "stdout",
     "output_type": "stream",
     "text": [
      "Message: Unable to locate element: /html/body/main/div[2]/div/div[7]/div[1]/div[2]/button[2]\n",
      "Stacktrace:\n",
      "WebDriverError@chrome://remote/content/shared/webdriver/Errors.jsm:181:5\n",
      "NoSuchElementError@chrome://remote/content/shared/webdriver/Errors.jsm:393:5\n",
      "element.find/</<@chrome://remote/content/marionette/element.js:305:16\n",
      "\n"
     ]
    },
    {
     "name": "stderr",
     "output_type": "stream",
     "text": [
      "/home/lucas/miniconda3/lib/python3.7/site-packages/ipykernel_launcher.py:3: DeprecationWarning: firefox_profile has been deprecated, please pass in an Options object\n",
      "  This is separate from the ipykernel package so we can avoid doing imports until\n"
     ]
    },
    {
     "name": "stdout",
     "output_type": "stream",
     "text": [
      "Message: Unable to locate element: /html/body/main/div[2]/div/div[7]/div[1]/div[2]/button[2]\n",
      "Stacktrace:\n",
      "WebDriverError@chrome://remote/content/shared/webdriver/Errors.jsm:181:5\n",
      "NoSuchElementError@chrome://remote/content/shared/webdriver/Errors.jsm:393:5\n",
      "element.find/</<@chrome://remote/content/marionette/element.js:305:16\n",
      "\n",
      "Message: Unable to locate element: /html/body/main/div[2]/div/div[7]/div[1]/div[2]/button[2]\n",
      "Stacktrace:\n",
      "WebDriverError@chrome://remote/content/shared/webdriver/Errors.jsm:181:5\n",
      "NoSuchElementError@chrome://remote/content/shared/webdriver/Errors.jsm:393:5\n",
      "element.find/</<@chrome://remote/content/marionette/element.js:305:16\n",
      "\n"
     ]
    },
    {
     "name": "stderr",
     "output_type": "stream",
     "text": [
      "/home/lucas/miniconda3/lib/python3.7/site-packages/ipykernel_launcher.py:3: DeprecationWarning: firefox_profile has been deprecated, please pass in an Options object\n",
      "  This is separate from the ipykernel package so we can avoid doing imports until\n",
      "/home/lucas/miniconda3/lib/python3.7/site-packages/ipykernel_launcher.py:3: DeprecationWarning: firefox_profile has been deprecated, please pass in an Options object\n",
      "  This is separate from the ipykernel package so we can avoid doing imports until\n"
     ]
    },
    {
     "name": "stdout",
     "output_type": "stream",
     "text": [
      "Message: Unable to locate element: /html/body/main/div[2]/div/div[7]/div[1]/div[2]/button[2]\n",
      "Stacktrace:\n",
      "WebDriverError@chrome://remote/content/shared/webdriver/Errors.jsm:181:5\n",
      "NoSuchElementError@chrome://remote/content/shared/webdriver/Errors.jsm:393:5\n",
      "element.find/</<@chrome://remote/content/marionette/element.js:305:16\n",
      "\n"
     ]
    },
    {
     "name": "stderr",
     "output_type": "stream",
     "text": [
      "/home/lucas/miniconda3/lib/python3.7/site-packages/ipykernel_launcher.py:3: DeprecationWarning: firefox_profile has been deprecated, please pass in an Options object\n",
      "  This is separate from the ipykernel package so we can avoid doing imports until\n",
      "/home/lucas/miniconda3/lib/python3.7/site-packages/ipykernel_launcher.py:3: DeprecationWarning: firefox_profile has been deprecated, please pass in an Options object\n",
      "  This is separate from the ipykernel package so we can avoid doing imports until\n"
     ]
    },
    {
     "name": "stdout",
     "output_type": "stream",
     "text": [
      "Message: Unable to locate element: /html/body/main/div[2]/div/div[7]/div[1]/div[2]/button[2]\n",
      "Stacktrace:\n",
      "WebDriverError@chrome://remote/content/shared/webdriver/Errors.jsm:181:5\n",
      "NoSuchElementError@chrome://remote/content/shared/webdriver/Errors.jsm:393:5\n",
      "element.find/</<@chrome://remote/content/marionette/element.js:305:16\n",
      "\n",
      "Message: Unable to locate element: /html/body/main/div[2]/div/div[7]/div[1]/div[2]/button[2]\n",
      "Stacktrace:\n",
      "WebDriverError@chrome://remote/content/shared/webdriver/Errors.jsm:181:5\n",
      "NoSuchElementError@chrome://remote/content/shared/webdriver/Errors.jsm:393:5\n",
      "element.find/</<@chrome://remote/content/marionette/element.js:305:16\n",
      "\n"
     ]
    },
    {
     "name": "stderr",
     "output_type": "stream",
     "text": [
      "/home/lucas/miniconda3/lib/python3.7/site-packages/ipykernel_launcher.py:3: DeprecationWarning: firefox_profile has been deprecated, please pass in an Options object\n",
      "  This is separate from the ipykernel package so we can avoid doing imports until\n",
      "/home/lucas/miniconda3/lib/python3.7/site-packages/ipykernel_launcher.py:3: DeprecationWarning: firefox_profile has been deprecated, please pass in an Options object\n",
      "  This is separate from the ipykernel package so we can avoid doing imports until\n"
     ]
    },
    {
     "name": "stdout",
     "output_type": "stream",
     "text": [
      "Message: Unable to locate element: /html/body/main/div[2]/div/div[7]/div[1]/div[2]/button[2]\n",
      "Stacktrace:\n",
      "WebDriverError@chrome://remote/content/shared/webdriver/Errors.jsm:181:5\n",
      "NoSuchElementError@chrome://remote/content/shared/webdriver/Errors.jsm:393:5\n",
      "element.find/</<@chrome://remote/content/marionette/element.js:305:16\n",
      "\n"
     ]
    },
    {
     "name": "stderr",
     "output_type": "stream",
     "text": [
      "/home/lucas/miniconda3/lib/python3.7/site-packages/ipykernel_launcher.py:3: DeprecationWarning: firefox_profile has been deprecated, please pass in an Options object\n",
      "  This is separate from the ipykernel package so we can avoid doing imports until\n"
     ]
    },
    {
     "name": "stdout",
     "output_type": "stream",
     "text": [
      "Message: Unable to locate element: /html/body/main/div[2]/div/div[7]/div[1]/div[2]/button[2]\n",
      "Stacktrace:\n",
      "WebDriverError@chrome://remote/content/shared/webdriver/Errors.jsm:181:5\n",
      "NoSuchElementError@chrome://remote/content/shared/webdriver/Errors.jsm:393:5\n",
      "element.find/</<@chrome://remote/content/marionette/element.js:305:16\n",
      "\n"
     ]
    },
    {
     "name": "stderr",
     "output_type": "stream",
     "text": [
      "/home/lucas/miniconda3/lib/python3.7/site-packages/ipykernel_launcher.py:3: DeprecationWarning: firefox_profile has been deprecated, please pass in an Options object\n",
      "  This is separate from the ipykernel package so we can avoid doing imports until\n"
     ]
    },
    {
     "name": "stdout",
     "output_type": "stream",
     "text": [
      "Message: Unable to locate element: /html/body/main/div[2]/div/div[7]/div[1]/div[2]/button[2]\n",
      "Stacktrace:\n",
      "WebDriverError@chrome://remote/content/shared/webdriver/Errors.jsm:181:5\n",
      "NoSuchElementError@chrome://remote/content/shared/webdriver/Errors.jsm:393:5\n",
      "element.find/</<@chrome://remote/content/marionette/element.js:305:16\n",
      "\n",
      "Message: Unable to locate element: /html/body/main/div[2]/div/div[7]/div[1]/div[2]/button[2]\n",
      "Stacktrace:\n",
      "WebDriverError@chrome://remote/content/shared/webdriver/Errors.jsm:181:5\n",
      "NoSuchElementError@chrome://remote/content/shared/webdriver/Errors.jsm:393:5\n",
      "element.find/</<@chrome://remote/content/marionette/element.js:305:16\n",
      "\n"
     ]
    },
    {
     "name": "stderr",
     "output_type": "stream",
     "text": [
      "/home/lucas/miniconda3/lib/python3.7/site-packages/ipykernel_launcher.py:3: DeprecationWarning: firefox_profile has been deprecated, please pass in an Options object\n",
      "  This is separate from the ipykernel package so we can avoid doing imports until\n",
      "/home/lucas/miniconda3/lib/python3.7/site-packages/ipykernel_launcher.py:3: DeprecationWarning: firefox_profile has been deprecated, please pass in an Options object\n",
      "  This is separate from the ipykernel package so we can avoid doing imports until\n"
     ]
    },
    {
     "name": "stdout",
     "output_type": "stream",
     "text": [
      "Message: Unable to locate element: /html/body/main/div[2]/div/div[7]/div[1]/div[2]/button[2]\n",
      "Stacktrace:\n",
      "WebDriverError@chrome://remote/content/shared/webdriver/Errors.jsm:181:5\n",
      "NoSuchElementError@chrome://remote/content/shared/webdriver/Errors.jsm:393:5\n",
      "element.find/</<@chrome://remote/content/marionette/element.js:305:16\n",
      "\n",
      "Message: Unable to locate element: /html/body/main/div[2]/div/div[7]/div[1]/div[2]/button[2]\n",
      "Stacktrace:\n",
      "WebDriverError@chrome://remote/content/shared/webdriver/Errors.jsm:181:5\n",
      "NoSuchElementError@chrome://remote/content/shared/webdriver/Errors.jsm:393:5\n",
      "element.find/</<@chrome://remote/content/marionette/element.js:305:16\n",
      "\n"
     ]
    },
    {
     "name": "stderr",
     "output_type": "stream",
     "text": [
      "/home/lucas/miniconda3/lib/python3.7/site-packages/ipykernel_launcher.py:3: DeprecationWarning: firefox_profile has been deprecated, please pass in an Options object\n",
      "  This is separate from the ipykernel package so we can avoid doing imports until\n",
      "/home/lucas/miniconda3/lib/python3.7/site-packages/ipykernel_launcher.py:3: DeprecationWarning: firefox_profile has been deprecated, please pass in an Options object\n",
      "  This is separate from the ipykernel package so we can avoid doing imports until\n"
     ]
    },
    {
     "name": "stdout",
     "output_type": "stream",
     "text": [
      "Message: Unable to locate element: /html/body/main/div[2]/div/div[7]/div[1]/div[2]/button[2]\n",
      "Stacktrace:\n",
      "WebDriverError@chrome://remote/content/shared/webdriver/Errors.jsm:181:5\n",
      "NoSuchElementError@chrome://remote/content/shared/webdriver/Errors.jsm:393:5\n",
      "element.find/</<@chrome://remote/content/marionette/element.js:305:16\n",
      "\n"
     ]
    },
    {
     "name": "stderr",
     "output_type": "stream",
     "text": [
      "/home/lucas/miniconda3/lib/python3.7/site-packages/ipykernel_launcher.py:3: DeprecationWarning: firefox_profile has been deprecated, please pass in an Options object\n",
      "  This is separate from the ipykernel package so we can avoid doing imports until\n",
      "/home/lucas/miniconda3/lib/python3.7/site-packages/ipykernel_launcher.py:3: DeprecationWarning: firefox_profile has been deprecated, please pass in an Options object\n",
      "  This is separate from the ipykernel package so we can avoid doing imports until\n"
     ]
    },
    {
     "name": "stdout",
     "output_type": "stream",
     "text": [
      "Message: Unable to locate element: /html/body/main/div[2]/div/div[7]/div[1]/div[2]/button[2]\n",
      "Stacktrace:\n",
      "WebDriverError@chrome://remote/content/shared/webdriver/Errors.jsm:181:5\n",
      "NoSuchElementError@chrome://remote/content/shared/webdriver/Errors.jsm:393:5\n",
      "element.find/</<@chrome://remote/content/marionette/element.js:305:16\n",
      "\n",
      "Message: Unable to locate element: /html/body/main/div[2]/div/div[7]/div[1]/div[2]/button[2]\n",
      "Stacktrace:\n",
      "WebDriverError@chrome://remote/content/shared/webdriver/Errors.jsm:181:5\n",
      "NoSuchElementError@chrome://remote/content/shared/webdriver/Errors.jsm:393:5\n",
      "element.find/</<@chrome://remote/content/marionette/element.js:305:16\n",
      "\n"
     ]
    },
    {
     "name": "stderr",
     "output_type": "stream",
     "text": [
      "/home/lucas/miniconda3/lib/python3.7/site-packages/ipykernel_launcher.py:3: DeprecationWarning: firefox_profile has been deprecated, please pass in an Options object\n",
      "  This is separate from the ipykernel package so we can avoid doing imports until\n",
      "/home/lucas/miniconda3/lib/python3.7/site-packages/ipykernel_launcher.py:3: DeprecationWarning: firefox_profile has been deprecated, please pass in an Options object\n",
      "  This is separate from the ipykernel package so we can avoid doing imports until\n"
     ]
    },
    {
     "name": "stdout",
     "output_type": "stream",
     "text": [
      "Message: Unable to locate element: /html/body/main/div[2]/div/div[7]/div[1]/div[2]/button[2]\n",
      "Stacktrace:\n",
      "WebDriverError@chrome://remote/content/shared/webdriver/Errors.jsm:181:5\n",
      "NoSuchElementError@chrome://remote/content/shared/webdriver/Errors.jsm:393:5\n",
      "element.find/</<@chrome://remote/content/marionette/element.js:305:16\n",
      "\n"
     ]
    },
    {
     "name": "stderr",
     "output_type": "stream",
     "text": [
      "/home/lucas/miniconda3/lib/python3.7/site-packages/ipykernel_launcher.py:3: DeprecationWarning: firefox_profile has been deprecated, please pass in an Options object\n",
      "  This is separate from the ipykernel package so we can avoid doing imports until\n",
      "/home/lucas/miniconda3/lib/python3.7/site-packages/ipykernel_launcher.py:3: DeprecationWarning: firefox_profile has been deprecated, please pass in an Options object\n",
      "  This is separate from the ipykernel package so we can avoid doing imports until\n"
     ]
    },
    {
     "name": "stdout",
     "output_type": "stream",
     "text": [
      "Message: Unable to locate element: /html/body/main/div[2]/div/div[7]/div[1]/div[2]/button[2]\n",
      "Stacktrace:\n",
      "WebDriverError@chrome://remote/content/shared/webdriver/Errors.jsm:181:5\n",
      "NoSuchElementError@chrome://remote/content/shared/webdriver/Errors.jsm:393:5\n",
      "element.find/</<@chrome://remote/content/marionette/element.js:305:16\n",
      "\n"
     ]
    },
    {
     "name": "stderr",
     "output_type": "stream",
     "text": [
      "/home/lucas/miniconda3/lib/python3.7/site-packages/ipykernel_launcher.py:3: DeprecationWarning: firefox_profile has been deprecated, please pass in an Options object\n",
      "  This is separate from the ipykernel package so we can avoid doing imports until\n",
      "/home/lucas/miniconda3/lib/python3.7/site-packages/ipykernel_launcher.py:3: DeprecationWarning: firefox_profile has been deprecated, please pass in an Options object\n",
      "  This is separate from the ipykernel package so we can avoid doing imports until\n"
     ]
    },
    {
     "name": "stdout",
     "output_type": "stream",
     "text": [
      "Message: Unable to locate element: /html/body/main/div[2]/div/div[7]/div[1]/div[2]/button[2]\n",
      "Stacktrace:\n",
      "WebDriverError@chrome://remote/content/shared/webdriver/Errors.jsm:181:5\n",
      "NoSuchElementError@chrome://remote/content/shared/webdriver/Errors.jsm:393:5\n",
      "element.find/</<@chrome://remote/content/marionette/element.js:305:16\n",
      "\n"
     ]
    },
    {
     "name": "stderr",
     "output_type": "stream",
     "text": [
      "/home/lucas/miniconda3/lib/python3.7/site-packages/ipykernel_launcher.py:3: DeprecationWarning: firefox_profile has been deprecated, please pass in an Options object\n",
      "  This is separate from the ipykernel package so we can avoid doing imports until\n"
     ]
    },
    {
     "name": "stdout",
     "output_type": "stream",
     "text": [
      "Message: Unable to locate element: /html/body/main/div[2]/div/div[7]/div[1]/div[2]/button[2]\n",
      "Stacktrace:\n",
      "WebDriverError@chrome://remote/content/shared/webdriver/Errors.jsm:181:5\n",
      "NoSuchElementError@chrome://remote/content/shared/webdriver/Errors.jsm:393:5\n",
      "element.find/</<@chrome://remote/content/marionette/element.js:305:16\n",
      "\n"
     ]
    },
    {
     "name": "stderr",
     "output_type": "stream",
     "text": [
      "/home/lucas/miniconda3/lib/python3.7/site-packages/ipykernel_launcher.py:3: DeprecationWarning: firefox_profile has been deprecated, please pass in an Options object\n",
      "  This is separate from the ipykernel package so we can avoid doing imports until\n",
      "/home/lucas/miniconda3/lib/python3.7/site-packages/ipykernel_launcher.py:3: DeprecationWarning: firefox_profile has been deprecated, please pass in an Options object\n",
      "  This is separate from the ipykernel package so we can avoid doing imports until\n",
      "/home/lucas/miniconda3/lib/python3.7/site-packages/ipykernel_launcher.py:3: DeprecationWarning: firefox_profile has been deprecated, please pass in an Options object\n",
      "  This is separate from the ipykernel package so we can avoid doing imports until\n"
     ]
    },
    {
     "name": "stdout",
     "output_type": "stream",
     "text": [
      "Message: Unable to locate element: /html/body/main/div[2]/div/div[7]/div[1]/div[2]/button[2]\n",
      "Stacktrace:\n",
      "WebDriverError@chrome://remote/content/shared/webdriver/Errors.jsm:181:5\n",
      "NoSuchElementError@chrome://remote/content/shared/webdriver/Errors.jsm:393:5\n",
      "element.find/</<@chrome://remote/content/marionette/element.js:305:16\n",
      "\n"
     ]
    },
    {
     "name": "stderr",
     "output_type": "stream",
     "text": [
      "/home/lucas/miniconda3/lib/python3.7/site-packages/ipykernel_launcher.py:3: DeprecationWarning: firefox_profile has been deprecated, please pass in an Options object\n",
      "  This is separate from the ipykernel package so we can avoid doing imports until\n"
     ]
    },
    {
     "name": "stdout",
     "output_type": "stream",
     "text": [
      "Message: Unable to locate element: /html/body/main/div[2]/div/div[7]/div[1]/div[2]/button[2]\n",
      "Stacktrace:\n",
      "WebDriverError@chrome://remote/content/shared/webdriver/Errors.jsm:181:5\n",
      "NoSuchElementError@chrome://remote/content/shared/webdriver/Errors.jsm:393:5\n",
      "element.find/</<@chrome://remote/content/marionette/element.js:305:16\n",
      "\n"
     ]
    },
    {
     "name": "stderr",
     "output_type": "stream",
     "text": [
      "/home/lucas/miniconda3/lib/python3.7/site-packages/ipykernel_launcher.py:3: DeprecationWarning: firefox_profile has been deprecated, please pass in an Options object\n",
      "  This is separate from the ipykernel package so we can avoid doing imports until\n"
     ]
    },
    {
     "name": "stdout",
     "output_type": "stream",
     "text": [
      "Message: Unable to locate element: /html/body/main/div[2]/div/div[7]/div[1]/div[2]/button[2]\n",
      "Stacktrace:\n",
      "WebDriverError@chrome://remote/content/shared/webdriver/Errors.jsm:181:5\n",
      "NoSuchElementError@chrome://remote/content/shared/webdriver/Errors.jsm:393:5\n",
      "element.find/</<@chrome://remote/content/marionette/element.js:305:16\n",
      "\n"
     ]
    },
    {
     "name": "stderr",
     "output_type": "stream",
     "text": [
      "/home/lucas/miniconda3/lib/python3.7/site-packages/ipykernel_launcher.py:3: DeprecationWarning: firefox_profile has been deprecated, please pass in an Options object\n",
      "  This is separate from the ipykernel package so we can avoid doing imports until\n",
      "/home/lucas/miniconda3/lib/python3.7/site-packages/ipykernel_launcher.py:3: DeprecationWarning: firefox_profile has been deprecated, please pass in an Options object\n",
      "  This is separate from the ipykernel package so we can avoid doing imports until\n"
     ]
    },
    {
     "name": "stdout",
     "output_type": "stream",
     "text": [
      "Message: Unable to locate element: /html/body/main/div[2]/div/div[7]/div[1]/div[2]/button[2]\n",
      "Stacktrace:\n",
      "WebDriverError@chrome://remote/content/shared/webdriver/Errors.jsm:181:5\n",
      "NoSuchElementError@chrome://remote/content/shared/webdriver/Errors.jsm:393:5\n",
      "element.find/</<@chrome://remote/content/marionette/element.js:305:16\n",
      "\n"
     ]
    },
    {
     "name": "stderr",
     "output_type": "stream",
     "text": [
      "/home/lucas/miniconda3/lib/python3.7/site-packages/ipykernel_launcher.py:3: DeprecationWarning: firefox_profile has been deprecated, please pass in an Options object\n",
      "  This is separate from the ipykernel package so we can avoid doing imports until\n"
     ]
    },
    {
     "name": "stdout",
     "output_type": "stream",
     "text": [
      "Message: Unable to locate element: /html/body/main/div[2]/div/div[7]/div[1]/div[2]/button[2]\n",
      "Stacktrace:\n",
      "WebDriverError@chrome://remote/content/shared/webdriver/Errors.jsm:181:5\n",
      "NoSuchElementError@chrome://remote/content/shared/webdriver/Errors.jsm:393:5\n",
      "element.find/</<@chrome://remote/content/marionette/element.js:305:16\n",
      "\n"
     ]
    },
    {
     "name": "stderr",
     "output_type": "stream",
     "text": [
      "/home/lucas/miniconda3/lib/python3.7/site-packages/ipykernel_launcher.py:3: DeprecationWarning: firefox_profile has been deprecated, please pass in an Options object\n",
      "  This is separate from the ipykernel package so we can avoid doing imports until\n"
     ]
    },
    {
     "name": "stdout",
     "output_type": "stream",
     "text": [
      "Message: Unable to locate element: /html/body/main/div[2]/div/div[7]/div[1]/div[2]/button[2]\n",
      "Stacktrace:\n",
      "WebDriverError@chrome://remote/content/shared/webdriver/Errors.jsm:181:5\n",
      "NoSuchElementError@chrome://remote/content/shared/webdriver/Errors.jsm:393:5\n",
      "element.find/</<@chrome://remote/content/marionette/element.js:305:16\n",
      "\n"
     ]
    },
    {
     "name": "stderr",
     "output_type": "stream",
     "text": [
      "/home/lucas/miniconda3/lib/python3.7/site-packages/ipykernel_launcher.py:3: DeprecationWarning: firefox_profile has been deprecated, please pass in an Options object\n",
      "  This is separate from the ipykernel package so we can avoid doing imports until\n",
      "/home/lucas/miniconda3/lib/python3.7/site-packages/ipykernel_launcher.py:3: DeprecationWarning: firefox_profile has been deprecated, please pass in an Options object\n",
      "  This is separate from the ipykernel package so we can avoid doing imports until\n"
     ]
    },
    {
     "name": "stdout",
     "output_type": "stream",
     "text": [
      "Message: Unable to locate element: /html/body/main/div[2]/div/div[7]/div[1]/div[2]/button[2]\n",
      "Stacktrace:\n",
      "WebDriverError@chrome://remote/content/shared/webdriver/Errors.jsm:181:5\n",
      "NoSuchElementError@chrome://remote/content/shared/webdriver/Errors.jsm:393:5\n",
      "element.find/</<@chrome://remote/content/marionette/element.js:305:16\n",
      "\n"
     ]
    },
    {
     "name": "stderr",
     "output_type": "stream",
     "text": [
      "/home/lucas/miniconda3/lib/python3.7/site-packages/ipykernel_launcher.py:3: DeprecationWarning: firefox_profile has been deprecated, please pass in an Options object\n",
      "  This is separate from the ipykernel package so we can avoid doing imports until\n",
      "/home/lucas/miniconda3/lib/python3.7/site-packages/ipykernel_launcher.py:3: DeprecationWarning: firefox_profile has been deprecated, please pass in an Options object\n",
      "  This is separate from the ipykernel package so we can avoid doing imports until\n"
     ]
    },
    {
     "name": "stdout",
     "output_type": "stream",
     "text": [
      "Message: Unable to locate element: /html/body/main/div[2]/div/div[7]/div[1]/div[2]/button[2]\n",
      "Stacktrace:\n",
      "WebDriverError@chrome://remote/content/shared/webdriver/Errors.jsm:181:5\n",
      "NoSuchElementError@chrome://remote/content/shared/webdriver/Errors.jsm:393:5\n",
      "element.find/</<@chrome://remote/content/marionette/element.js:305:16\n",
      "\n"
     ]
    },
    {
     "name": "stderr",
     "output_type": "stream",
     "text": [
      "/home/lucas/miniconda3/lib/python3.7/site-packages/ipykernel_launcher.py:3: DeprecationWarning: firefox_profile has been deprecated, please pass in an Options object\n",
      "  This is separate from the ipykernel package so we can avoid doing imports until\n",
      "/home/lucas/miniconda3/lib/python3.7/site-packages/ipykernel_launcher.py:3: DeprecationWarning: firefox_profile has been deprecated, please pass in an Options object\n",
      "  This is separate from the ipykernel package so we can avoid doing imports until\n",
      "/home/lucas/miniconda3/lib/python3.7/site-packages/ipykernel_launcher.py:3: DeprecationWarning: firefox_profile has been deprecated, please pass in an Options object\n",
      "  This is separate from the ipykernel package so we can avoid doing imports until\n",
      "/home/lucas/miniconda3/lib/python3.7/site-packages/ipykernel_launcher.py:3: DeprecationWarning: firefox_profile has been deprecated, please pass in an Options object\n",
      "  This is separate from the ipykernel package so we can avoid doing imports until\n",
      "/home/lucas/miniconda3/lib/python3.7/site-packages/ipykernel_launcher.py:3: DeprecationWarning: firefox_profile has been deprecated, please pass in an Options object\n",
      "  This is separate from the ipykernel package so we can avoid doing imports until\n"
     ]
    },
    {
     "name": "stdout",
     "output_type": "stream",
     "text": [
      "Message: Unable to locate element: /html/body/main/div[2]/div/div[7]/div[1]/div[2]/button[2]\n",
      "Stacktrace:\n",
      "WebDriverError@chrome://remote/content/shared/webdriver/Errors.jsm:181:5\n",
      "NoSuchElementError@chrome://remote/content/shared/webdriver/Errors.jsm:393:5\n",
      "element.find/</<@chrome://remote/content/marionette/element.js:305:16\n",
      "\n"
     ]
    },
    {
     "name": "stderr",
     "output_type": "stream",
     "text": [
      "/home/lucas/miniconda3/lib/python3.7/site-packages/ipykernel_launcher.py:3: DeprecationWarning: firefox_profile has been deprecated, please pass in an Options object\n",
      "  This is separate from the ipykernel package so we can avoid doing imports until\n"
     ]
    },
    {
     "name": "stdout",
     "output_type": "stream",
     "text": [
      "Message: Unable to locate element: /html/body/main/div[2]/div/div[7]/div[1]/div[2]/button[2]\n",
      "Stacktrace:\n",
      "WebDriverError@chrome://remote/content/shared/webdriver/Errors.jsm:181:5\n",
      "NoSuchElementError@chrome://remote/content/shared/webdriver/Errors.jsm:393:5\n",
      "element.find/</<@chrome://remote/content/marionette/element.js:305:16\n",
      "\n"
     ]
    },
    {
     "name": "stderr",
     "output_type": "stream",
     "text": [
      "/home/lucas/miniconda3/lib/python3.7/site-packages/ipykernel_launcher.py:3: DeprecationWarning: firefox_profile has been deprecated, please pass in an Options object\n",
      "  This is separate from the ipykernel package so we can avoid doing imports until\n"
     ]
    },
    {
     "name": "stdout",
     "output_type": "stream",
     "text": [
      "Message: Unable to locate element: /html/body/main/div[2]/div/div[7]/div[1]/div[2]/button[2]\n",
      "Stacktrace:\n",
      "WebDriverError@chrome://remote/content/shared/webdriver/Errors.jsm:181:5\n",
      "NoSuchElementError@chrome://remote/content/shared/webdriver/Errors.jsm:393:5\n",
      "element.find/</<@chrome://remote/content/marionette/element.js:305:16\n",
      "\n"
     ]
    },
    {
     "name": "stderr",
     "output_type": "stream",
     "text": [
      "/home/lucas/miniconda3/lib/python3.7/site-packages/ipykernel_launcher.py:3: DeprecationWarning: firefox_profile has been deprecated, please pass in an Options object\n",
      "  This is separate from the ipykernel package so we can avoid doing imports until\n"
     ]
    },
    {
     "name": "stdout",
     "output_type": "stream",
     "text": [
      "Message: Unable to locate element: /html/body/main/div[2]/div/div[7]/div[1]/div[2]/button[2]\n",
      "Stacktrace:\n",
      "WebDriverError@chrome://remote/content/shared/webdriver/Errors.jsm:181:5\n",
      "NoSuchElementError@chrome://remote/content/shared/webdriver/Errors.jsm:393:5\n",
      "element.find/</<@chrome://remote/content/marionette/element.js:305:16\n",
      "\n"
     ]
    },
    {
     "name": "stderr",
     "output_type": "stream",
     "text": [
      "/home/lucas/miniconda3/lib/python3.7/site-packages/ipykernel_launcher.py:3: DeprecationWarning: firefox_profile has been deprecated, please pass in an Options object\n",
      "  This is separate from the ipykernel package so we can avoid doing imports until\n"
     ]
    },
    {
     "name": "stdout",
     "output_type": "stream",
     "text": [
      "Message: Unable to locate element: /html/body/main/div[2]/div/div[7]/div[1]/div[2]/button[2]\n",
      "Stacktrace:\n",
      "WebDriverError@chrome://remote/content/shared/webdriver/Errors.jsm:181:5\n",
      "NoSuchElementError@chrome://remote/content/shared/webdriver/Errors.jsm:393:5\n",
      "element.find/</<@chrome://remote/content/marionette/element.js:305:16\n",
      "\n"
     ]
    },
    {
     "name": "stderr",
     "output_type": "stream",
     "text": [
      "/home/lucas/miniconda3/lib/python3.7/site-packages/ipykernel_launcher.py:3: DeprecationWarning: firefox_profile has been deprecated, please pass in an Options object\n",
      "  This is separate from the ipykernel package so we can avoid doing imports until\n",
      "/home/lucas/miniconda3/lib/python3.7/site-packages/ipykernel_launcher.py:3: DeprecationWarning: firefox_profile has been deprecated, please pass in an Options object\n",
      "  This is separate from the ipykernel package so we can avoid doing imports until\n",
      "/home/lucas/miniconda3/lib/python3.7/site-packages/ipykernel_launcher.py:3: DeprecationWarning: firefox_profile has been deprecated, please pass in an Options object\n",
      "  This is separate from the ipykernel package so we can avoid doing imports until\n"
     ]
    },
    {
     "name": "stdout",
     "output_type": "stream",
     "text": [
      "Message: Unable to locate element: /html/body/main/div[2]/div/div[7]/div[1]/div[2]/button[2]\n",
      "Stacktrace:\n",
      "WebDriverError@chrome://remote/content/shared/webdriver/Errors.jsm:181:5\n",
      "NoSuchElementError@chrome://remote/content/shared/webdriver/Errors.jsm:393:5\n",
      "element.find/</<@chrome://remote/content/marionette/element.js:305:16\n",
      "\n",
      "Message: Unable to locate element: /html/body/main/div[2]/div/div[7]/div[1]/div[2]/button[2]\n",
      "Stacktrace:\n",
      "WebDriverError@chrome://remote/content/shared/webdriver/Errors.jsm:181:5\n",
      "NoSuchElementError@chrome://remote/content/shared/webdriver/Errors.jsm:393:5\n",
      "element.find/</<@chrome://remote/content/marionette/element.js:305:16\n",
      "\n"
     ]
    },
    {
     "name": "stderr",
     "output_type": "stream",
     "text": [
      "/home/lucas/miniconda3/lib/python3.7/site-packages/ipykernel_launcher.py:3: DeprecationWarning: firefox_profile has been deprecated, please pass in an Options object\n",
      "  This is separate from the ipykernel package so we can avoid doing imports until\n",
      "/home/lucas/miniconda3/lib/python3.7/site-packages/ipykernel_launcher.py:3: DeprecationWarning: firefox_profile has been deprecated, please pass in an Options object\n",
      "  This is separate from the ipykernel package so we can avoid doing imports until\n"
     ]
    },
    {
     "name": "stdout",
     "output_type": "stream",
     "text": [
      "Message: Unable to locate element: /html/body/main/div[2]/div/div[7]/div[1]/div[2]/button[2]\n",
      "Stacktrace:\n",
      "WebDriverError@chrome://remote/content/shared/webdriver/Errors.jsm:181:5\n",
      "NoSuchElementError@chrome://remote/content/shared/webdriver/Errors.jsm:393:5\n",
      "element.find/</<@chrome://remote/content/marionette/element.js:305:16\n",
      "\n"
     ]
    },
    {
     "name": "stderr",
     "output_type": "stream",
     "text": [
      "/home/lucas/miniconda3/lib/python3.7/site-packages/ipykernel_launcher.py:3: DeprecationWarning: firefox_profile has been deprecated, please pass in an Options object\n",
      "  This is separate from the ipykernel package so we can avoid doing imports until\n"
     ]
    },
    {
     "name": "stdout",
     "output_type": "stream",
     "text": [
      "Message: Unable to locate element: /html/body/main/div[2]/div/div[7]/div[1]/div[2]/button[2]\n",
      "Stacktrace:\n",
      "WebDriverError@chrome://remote/content/shared/webdriver/Errors.jsm:181:5\n",
      "NoSuchElementError@chrome://remote/content/shared/webdriver/Errors.jsm:393:5\n",
      "element.find/</<@chrome://remote/content/marionette/element.js:305:16\n",
      "\n"
     ]
    },
    {
     "name": "stderr",
     "output_type": "stream",
     "text": [
      "/home/lucas/miniconda3/lib/python3.7/site-packages/ipykernel_launcher.py:3: DeprecationWarning: firefox_profile has been deprecated, please pass in an Options object\n",
      "  This is separate from the ipykernel package so we can avoid doing imports until\n"
     ]
    },
    {
     "name": "stdout",
     "output_type": "stream",
     "text": [
      "Message: Unable to locate element: /html/body/main/div[2]/div/div[7]/div[1]/div[2]/button[2]\n",
      "Stacktrace:\n",
      "WebDriverError@chrome://remote/content/shared/webdriver/Errors.jsm:181:5\n",
      "NoSuchElementError@chrome://remote/content/shared/webdriver/Errors.jsm:393:5\n",
      "element.find/</<@chrome://remote/content/marionette/element.js:305:16\n",
      "\n"
     ]
    },
    {
     "name": "stderr",
     "output_type": "stream",
     "text": [
      "/home/lucas/miniconda3/lib/python3.7/site-packages/ipykernel_launcher.py:3: DeprecationWarning: firefox_profile has been deprecated, please pass in an Options object\n",
      "  This is separate from the ipykernel package so we can avoid doing imports until\n",
      "/home/lucas/miniconda3/lib/python3.7/site-packages/ipykernel_launcher.py:3: DeprecationWarning: firefox_profile has been deprecated, please pass in an Options object\n",
      "  This is separate from the ipykernel package so we can avoid doing imports until\n"
     ]
    },
    {
     "name": "stdout",
     "output_type": "stream",
     "text": [
      "Message: Unable to locate element: /html/body/main/div[2]/div/div[7]/div[1]/div[2]/button[2]\n",
      "Stacktrace:\n",
      "WebDriverError@chrome://remote/content/shared/webdriver/Errors.jsm:181:5\n",
      "NoSuchElementError@chrome://remote/content/shared/webdriver/Errors.jsm:393:5\n",
      "element.find/</<@chrome://remote/content/marionette/element.js:305:16\n",
      "\n"
     ]
    },
    {
     "name": "stderr",
     "output_type": "stream",
     "text": [
      "/home/lucas/miniconda3/lib/python3.7/site-packages/ipykernel_launcher.py:3: DeprecationWarning: firefox_profile has been deprecated, please pass in an Options object\n",
      "  This is separate from the ipykernel package so we can avoid doing imports until\n",
      "/home/lucas/miniconda3/lib/python3.7/site-packages/ipykernel_launcher.py:3: DeprecationWarning: firefox_profile has been deprecated, please pass in an Options object\n",
      "  This is separate from the ipykernel package so we can avoid doing imports until\n"
     ]
    },
    {
     "name": "stdout",
     "output_type": "stream",
     "text": [
      "Message: Unable to locate element: /html/body/main/div[2]/div/div[7]/div[1]/div[2]/button[2]\n",
      "Stacktrace:\n",
      "WebDriverError@chrome://remote/content/shared/webdriver/Errors.jsm:181:5\n",
      "NoSuchElementError@chrome://remote/content/shared/webdriver/Errors.jsm:393:5\n",
      "element.find/</<@chrome://remote/content/marionette/element.js:305:16\n",
      "\n",
      "Message: Unable to locate element: /html/body/main/div[2]/div/div[7]/div[1]/div[2]/button[2]\n",
      "Stacktrace:\n",
      "WebDriverError@chrome://remote/content/shared/webdriver/Errors.jsm:181:5\n",
      "NoSuchElementError@chrome://remote/content/shared/webdriver/Errors.jsm:393:5\n",
      "element.find/</<@chrome://remote/content/marionette/element.js:305:16\n",
      "\n"
     ]
    },
    {
     "name": "stderr",
     "output_type": "stream",
     "text": [
      "/home/lucas/miniconda3/lib/python3.7/site-packages/ipykernel_launcher.py:3: DeprecationWarning: firefox_profile has been deprecated, please pass in an Options object\n",
      "  This is separate from the ipykernel package so we can avoid doing imports until\n",
      "/home/lucas/miniconda3/lib/python3.7/site-packages/ipykernel_launcher.py:3: DeprecationWarning: firefox_profile has been deprecated, please pass in an Options object\n",
      "  This is separate from the ipykernel package so we can avoid doing imports until\n",
      "/home/lucas/miniconda3/lib/python3.7/site-packages/ipykernel_launcher.py:3: DeprecationWarning: firefox_profile has been deprecated, please pass in an Options object\n",
      "  This is separate from the ipykernel package so we can avoid doing imports until\n",
      "/home/lucas/miniconda3/lib/python3.7/site-packages/ipykernel_launcher.py:3: DeprecationWarning: firefox_profile has been deprecated, please pass in an Options object\n",
      "  This is separate from the ipykernel package so we can avoid doing imports until\n"
     ]
    },
    {
     "name": "stdout",
     "output_type": "stream",
     "text": [
      "Message: Unable to locate element: /html/body/main/div[2]/div/div[7]/div[1]/div[2]/button[2]\n",
      "Stacktrace:\n",
      "WebDriverError@chrome://remote/content/shared/webdriver/Errors.jsm:181:5\n",
      "NoSuchElementError@chrome://remote/content/shared/webdriver/Errors.jsm:393:5\n",
      "element.find/</<@chrome://remote/content/marionette/element.js:305:16\n",
      "\n",
      "Message: Unable to locate element: /html/body/main/div[2]/div/div[7]/div[1]/div[2]/button[2]\n",
      "Stacktrace:\n",
      "WebDriverError@chrome://remote/content/shared/webdriver/Errors.jsm:181:5\n",
      "NoSuchElementError@chrome://remote/content/shared/webdriver/Errors.jsm:393:5\n",
      "element.find/</<@chrome://remote/content/marionette/element.js:305:16\n",
      "\n"
     ]
    },
    {
     "name": "stderr",
     "output_type": "stream",
     "text": [
      "/home/lucas/miniconda3/lib/python3.7/site-packages/ipykernel_launcher.py:3: DeprecationWarning: firefox_profile has been deprecated, please pass in an Options object\n",
      "  This is separate from the ipykernel package so we can avoid doing imports until\n",
      "/home/lucas/miniconda3/lib/python3.7/site-packages/ipykernel_launcher.py:3: DeprecationWarning: firefox_profile has been deprecated, please pass in an Options object\n",
      "  This is separate from the ipykernel package so we can avoid doing imports until\n"
     ]
    },
    {
     "name": "stdout",
     "output_type": "stream",
     "text": [
      "Message: Unable to locate element: /html/body/main/div[2]/div/div[7]/div[1]/div[2]/button[2]\n",
      "Stacktrace:\n",
      "WebDriverError@chrome://remote/content/shared/webdriver/Errors.jsm:181:5\n",
      "NoSuchElementError@chrome://remote/content/shared/webdriver/Errors.jsm:393:5\n",
      "element.find/</<@chrome://remote/content/marionette/element.js:305:16\n",
      "\n"
     ]
    },
    {
     "name": "stderr",
     "output_type": "stream",
     "text": [
      "/home/lucas/miniconda3/lib/python3.7/site-packages/ipykernel_launcher.py:3: DeprecationWarning: firefox_profile has been deprecated, please pass in an Options object\n",
      "  This is separate from the ipykernel package so we can avoid doing imports until\n"
     ]
    },
    {
     "name": "stdout",
     "output_type": "stream",
     "text": [
      "Message: Unable to locate element: /html/body/main/div[2]/div/div[7]/div[1]/div[2]/button[2]\n",
      "Stacktrace:\n",
      "WebDriverError@chrome://remote/content/shared/webdriver/Errors.jsm:181:5\n",
      "NoSuchElementError@chrome://remote/content/shared/webdriver/Errors.jsm:393:5\n",
      "element.find/</<@chrome://remote/content/marionette/element.js:305:16\n",
      "\n",
      "Message: Unable to locate element: /html/body/main/div[2]/div/div[7]/div[1]/div[2]/button[2]\n",
      "Stacktrace:\n",
      "WebDriverError@chrome://remote/content/shared/webdriver/Errors.jsm:181:5\n",
      "NoSuchElementError@chrome://remote/content/shared/webdriver/Errors.jsm:393:5\n",
      "element.find/</<@chrome://remote/content/marionette/element.js:305:16\n",
      "\n"
     ]
    },
    {
     "name": "stderr",
     "output_type": "stream",
     "text": [
      "/home/lucas/miniconda3/lib/python3.7/site-packages/ipykernel_launcher.py:3: DeprecationWarning: firefox_profile has been deprecated, please pass in an Options object\n",
      "  This is separate from the ipykernel package so we can avoid doing imports until\n"
     ]
    },
    {
     "name": "stdout",
     "output_type": "stream",
     "text": [
      "Message: Unable to locate element: /html/body/main/div[2]/div/div[7]/div[1]/div[2]/button[2]\n",
      "Stacktrace:\n",
      "WebDriverError@chrome://remote/content/shared/webdriver/Errors.jsm:181:5\n",
      "NoSuchElementError@chrome://remote/content/shared/webdriver/Errors.jsm:393:5\n",
      "element.find/</<@chrome://remote/content/marionette/element.js:305:16\n",
      "\n"
     ]
    },
    {
     "name": "stderr",
     "output_type": "stream",
     "text": [
      "/home/lucas/miniconda3/lib/python3.7/site-packages/ipykernel_launcher.py:3: DeprecationWarning: firefox_profile has been deprecated, please pass in an Options object\n",
      "  This is separate from the ipykernel package so we can avoid doing imports until\n",
      "/home/lucas/miniconda3/lib/python3.7/site-packages/ipykernel_launcher.py:3: DeprecationWarning: firefox_profile has been deprecated, please pass in an Options object\n",
      "  This is separate from the ipykernel package so we can avoid doing imports until\n"
     ]
    },
    {
     "name": "stdout",
     "output_type": "stream",
     "text": [
      "Message: Unable to locate element: /html/body/main/div[2]/div/div[7]/div[1]/div[2]/button[2]\n",
      "Stacktrace:\n",
      "WebDriverError@chrome://remote/content/shared/webdriver/Errors.jsm:181:5\n",
      "NoSuchElementError@chrome://remote/content/shared/webdriver/Errors.jsm:393:5\n",
      "element.find/</<@chrome://remote/content/marionette/element.js:305:16\n",
      "\n",
      "Message: Unable to locate element: /html/body/main/div[2]/div/div[7]/div[1]/div[2]/button[2]\n",
      "Stacktrace:\n",
      "WebDriverError@chrome://remote/content/shared/webdriver/Errors.jsm:181:5\n",
      "NoSuchElementError@chrome://remote/content/shared/webdriver/Errors.jsm:393:5\n",
      "element.find/</<@chrome://remote/content/marionette/element.js:305:16\n",
      "\n",
      "Message: Unable to locate element: /html/body/main/div[2]/div/div[7]/div[1]/div[2]/button[2]\n",
      "Stacktrace:\n",
      "WebDriverError@chrome://remote/content/shared/webdriver/Errors.jsm:181:5\n",
      "NoSuchElementError@chrome://remote/content/shared/webdriver/Errors.jsm:393:5\n",
      "element.find/</<@chrome://remote/content/marionette/element.js:305:16\n",
      "\n"
     ]
    },
    {
     "name": "stderr",
     "output_type": "stream",
     "text": [
      "/home/lucas/miniconda3/lib/python3.7/site-packages/ipykernel_launcher.py:3: DeprecationWarning: firefox_profile has been deprecated, please pass in an Options object\n",
      "  This is separate from the ipykernel package so we can avoid doing imports until\n",
      "/home/lucas/miniconda3/lib/python3.7/site-packages/ipykernel_launcher.py:3: DeprecationWarning: firefox_profile has been deprecated, please pass in an Options object\n",
      "  This is separate from the ipykernel package so we can avoid doing imports until\n"
     ]
    },
    {
     "name": "stdout",
     "output_type": "stream",
     "text": [
      "Message: Unable to locate element: /html/body/main/div[2]/div/div[7]/div[1]/div[2]/button[2]\n",
      "Stacktrace:\n",
      "WebDriverError@chrome://remote/content/shared/webdriver/Errors.jsm:181:5\n",
      "NoSuchElementError@chrome://remote/content/shared/webdriver/Errors.jsm:393:5\n",
      "element.find/</<@chrome://remote/content/marionette/element.js:305:16\n",
      "\n"
     ]
    },
    {
     "name": "stderr",
     "output_type": "stream",
     "text": [
      "/home/lucas/miniconda3/lib/python3.7/site-packages/ipykernel_launcher.py:3: DeprecationWarning: firefox_profile has been deprecated, please pass in an Options object\n",
      "  This is separate from the ipykernel package so we can avoid doing imports until\n",
      "/home/lucas/miniconda3/lib/python3.7/site-packages/ipykernel_launcher.py:3: DeprecationWarning: firefox_profile has been deprecated, please pass in an Options object\n",
      "  This is separate from the ipykernel package so we can avoid doing imports until\n"
     ]
    },
    {
     "name": "stdout",
     "output_type": "stream",
     "text": [
      "Message: Unable to locate element: /html/body/main/div[2]/div/div[7]/div[1]/div[2]/button[2]\n",
      "Stacktrace:\n",
      "WebDriverError@chrome://remote/content/shared/webdriver/Errors.jsm:181:5\n",
      "NoSuchElementError@chrome://remote/content/shared/webdriver/Errors.jsm:393:5\n",
      "element.find/</<@chrome://remote/content/marionette/element.js:305:16\n",
      "\n"
     ]
    },
    {
     "name": "stderr",
     "output_type": "stream",
     "text": [
      "/home/lucas/miniconda3/lib/python3.7/site-packages/ipykernel_launcher.py:3: DeprecationWarning: firefox_profile has been deprecated, please pass in an Options object\n",
      "  This is separate from the ipykernel package so we can avoid doing imports until\n",
      "/home/lucas/miniconda3/lib/python3.7/site-packages/ipykernel_launcher.py:3: DeprecationWarning: firefox_profile has been deprecated, please pass in an Options object\n",
      "  This is separate from the ipykernel package so we can avoid doing imports until\n"
     ]
    },
    {
     "name": "stdout",
     "output_type": "stream",
     "text": [
      "Message: Unable to locate element: /html/body/main/div[2]/div/div[7]/div[1]/div[2]/button[2]\n",
      "Stacktrace:\n",
      "WebDriverError@chrome://remote/content/shared/webdriver/Errors.jsm:181:5\n",
      "NoSuchElementError@chrome://remote/content/shared/webdriver/Errors.jsm:393:5\n",
      "element.find/</<@chrome://remote/content/marionette/element.js:305:16\n",
      "\n"
     ]
    },
    {
     "name": "stderr",
     "output_type": "stream",
     "text": [
      "/home/lucas/miniconda3/lib/python3.7/site-packages/ipykernel_launcher.py:3: DeprecationWarning: firefox_profile has been deprecated, please pass in an Options object\n",
      "  This is separate from the ipykernel package so we can avoid doing imports until\n",
      "/home/lucas/miniconda3/lib/python3.7/site-packages/ipykernel_launcher.py:3: DeprecationWarning: firefox_profile has been deprecated, please pass in an Options object\n",
      "  This is separate from the ipykernel package so we can avoid doing imports until\n"
     ]
    },
    {
     "name": "stdout",
     "output_type": "stream",
     "text": [
      "Message: Unable to locate element: /html/body/main/div[2]/div/div[7]/div[1]/div[2]/button[2]\n",
      "Stacktrace:\n",
      "WebDriverError@chrome://remote/content/shared/webdriver/Errors.jsm:181:5\n",
      "NoSuchElementError@chrome://remote/content/shared/webdriver/Errors.jsm:393:5\n",
      "element.find/</<@chrome://remote/content/marionette/element.js:305:16\n",
      "\n"
     ]
    },
    {
     "name": "stderr",
     "output_type": "stream",
     "text": [
      "/home/lucas/miniconda3/lib/python3.7/site-packages/ipykernel_launcher.py:3: DeprecationWarning: firefox_profile has been deprecated, please pass in an Options object\n",
      "  This is separate from the ipykernel package so we can avoid doing imports until\n",
      "/home/lucas/miniconda3/lib/python3.7/site-packages/ipykernel_launcher.py:3: DeprecationWarning: firefox_profile has been deprecated, please pass in an Options object\n",
      "  This is separate from the ipykernel package so we can avoid doing imports until\n"
     ]
    },
    {
     "name": "stdout",
     "output_type": "stream",
     "text": [
      "Message: Unable to locate element: /html/body/main/div[2]/div/div[7]/div[1]/div[2]/button[2]\n",
      "Stacktrace:\n",
      "WebDriverError@chrome://remote/content/shared/webdriver/Errors.jsm:181:5\n",
      "NoSuchElementError@chrome://remote/content/shared/webdriver/Errors.jsm:393:5\n",
      "element.find/</<@chrome://remote/content/marionette/element.js:305:16\n",
      "\n"
     ]
    },
    {
     "name": "stderr",
     "output_type": "stream",
     "text": [
      "/home/lucas/miniconda3/lib/python3.7/site-packages/ipykernel_launcher.py:3: DeprecationWarning: firefox_profile has been deprecated, please pass in an Options object\n",
      "  This is separate from the ipykernel package so we can avoid doing imports until\n",
      "/home/lucas/miniconda3/lib/python3.7/site-packages/ipykernel_launcher.py:3: DeprecationWarning: firefox_profile has been deprecated, please pass in an Options object\n",
      "  This is separate from the ipykernel package so we can avoid doing imports until\n",
      "/home/lucas/miniconda3/lib/python3.7/site-packages/ipykernel_launcher.py:3: DeprecationWarning: firefox_profile has been deprecated, please pass in an Options object\n",
      "  This is separate from the ipykernel package so we can avoid doing imports until\n"
     ]
    },
    {
     "name": "stdout",
     "output_type": "stream",
     "text": [
      "Message: Unable to locate element: /html/body/main/div[2]/div/div[7]/div[1]/div[2]/button[2]\n",
      "Stacktrace:\n",
      "WebDriverError@chrome://remote/content/shared/webdriver/Errors.jsm:181:5\n",
      "NoSuchElementError@chrome://remote/content/shared/webdriver/Errors.jsm:393:5\n",
      "element.find/</<@chrome://remote/content/marionette/element.js:305:16\n",
      "\n"
     ]
    },
    {
     "name": "stderr",
     "output_type": "stream",
     "text": [
      "/home/lucas/miniconda3/lib/python3.7/site-packages/ipykernel_launcher.py:3: DeprecationWarning: firefox_profile has been deprecated, please pass in an Options object\n",
      "  This is separate from the ipykernel package so we can avoid doing imports until\n"
     ]
    },
    {
     "name": "stdout",
     "output_type": "stream",
     "text": [
      "Message: Unable to locate element: /html/body/main/div[2]/div/div[7]/div[1]/div[2]/button[2]\n",
      "Stacktrace:\n",
      "WebDriverError@chrome://remote/content/shared/webdriver/Errors.jsm:181:5\n",
      "NoSuchElementError@chrome://remote/content/shared/webdriver/Errors.jsm:393:5\n",
      "element.find/</<@chrome://remote/content/marionette/element.js:305:16\n",
      "\n",
      "Message: Unable to locate element: /html/body/main/div[2]/div/div[7]/div[1]/div[2]/button[2]\n",
      "Stacktrace:\n",
      "WebDriverError@chrome://remote/content/shared/webdriver/Errors.jsm:181:5\n",
      "NoSuchElementError@chrome://remote/content/shared/webdriver/Errors.jsm:393:5\n",
      "element.find/</<@chrome://remote/content/marionette/element.js:305:16\n",
      "\n"
     ]
    },
    {
     "name": "stderr",
     "output_type": "stream",
     "text": [
      "/home/lucas/miniconda3/lib/python3.7/site-packages/ipykernel_launcher.py:3: DeprecationWarning: firefox_profile has been deprecated, please pass in an Options object\n",
      "  This is separate from the ipykernel package so we can avoid doing imports until\n",
      "/home/lucas/miniconda3/lib/python3.7/site-packages/ipykernel_launcher.py:3: DeprecationWarning: firefox_profile has been deprecated, please pass in an Options object\n",
      "  This is separate from the ipykernel package so we can avoid doing imports until\n"
     ]
    },
    {
     "name": "stdout",
     "output_type": "stream",
     "text": [
      "Message: Unable to locate element: /html/body/main/div[2]/div/div[7]/div[1]/div[2]/button[2]\n",
      "Stacktrace:\n",
      "WebDriverError@chrome://remote/content/shared/webdriver/Errors.jsm:181:5\n",
      "NoSuchElementError@chrome://remote/content/shared/webdriver/Errors.jsm:393:5\n",
      "element.find/</<@chrome://remote/content/marionette/element.js:305:16\n",
      "\n"
     ]
    },
    {
     "name": "stderr",
     "output_type": "stream",
     "text": [
      "/home/lucas/miniconda3/lib/python3.7/site-packages/ipykernel_launcher.py:3: DeprecationWarning: firefox_profile has been deprecated, please pass in an Options object\n",
      "  This is separate from the ipykernel package so we can avoid doing imports until\n"
     ]
    },
    {
     "name": "stdout",
     "output_type": "stream",
     "text": [
      "Message: Unable to locate element: /html/body/main/div[2]/div/div[7]/div[1]/div[2]/button[2]\n",
      "Stacktrace:\n",
      "WebDriverError@chrome://remote/content/shared/webdriver/Errors.jsm:181:5\n",
      "NoSuchElementError@chrome://remote/content/shared/webdriver/Errors.jsm:393:5\n",
      "element.find/</<@chrome://remote/content/marionette/element.js:305:16\n",
      "\n",
      "Message: Unable to locate element: /html/body/main/div[2]/div/div[7]/div[1]/div[2]/button[2]\n",
      "Stacktrace:\n",
      "WebDriverError@chrome://remote/content/shared/webdriver/Errors.jsm:181:5\n",
      "NoSuchElementError@chrome://remote/content/shared/webdriver/Errors.jsm:393:5\n",
      "element.find/</<@chrome://remote/content/marionette/element.js:305:16\n",
      "\n"
     ]
    },
    {
     "name": "stderr",
     "output_type": "stream",
     "text": [
      "/home/lucas/miniconda3/lib/python3.7/site-packages/ipykernel_launcher.py:3: DeprecationWarning: firefox_profile has been deprecated, please pass in an Options object\n",
      "  This is separate from the ipykernel package so we can avoid doing imports until\n",
      "/home/lucas/miniconda3/lib/python3.7/site-packages/ipykernel_launcher.py:3: DeprecationWarning: firefox_profile has been deprecated, please pass in an Options object\n",
      "  This is separate from the ipykernel package so we can avoid doing imports until\n",
      "/home/lucas/miniconda3/lib/python3.7/site-packages/ipykernel_launcher.py:3: DeprecationWarning: firefox_profile has been deprecated, please pass in an Options object\n",
      "  This is separate from the ipykernel package so we can avoid doing imports until\n",
      "/home/lucas/miniconda3/lib/python3.7/site-packages/ipykernel_launcher.py:3: DeprecationWarning: firefox_profile has been deprecated, please pass in an Options object\n",
      "  This is separate from the ipykernel package so we can avoid doing imports until\n"
     ]
    },
    {
     "name": "stdout",
     "output_type": "stream",
     "text": [
      "Message: Unable to locate element: /html/body/main/div[2]/div/div[7]/div[1]/div[2]/button[2]\n",
      "Stacktrace:\n",
      "WebDriverError@chrome://remote/content/shared/webdriver/Errors.jsm:181:5\n",
      "NoSuchElementError@chrome://remote/content/shared/webdriver/Errors.jsm:393:5\n",
      "element.find/</<@chrome://remote/content/marionette/element.js:305:16\n",
      "\n"
     ]
    },
    {
     "name": "stderr",
     "output_type": "stream",
     "text": [
      "/home/lucas/miniconda3/lib/python3.7/site-packages/ipykernel_launcher.py:3: DeprecationWarning: firefox_profile has been deprecated, please pass in an Options object\n",
      "  This is separate from the ipykernel package so we can avoid doing imports until\n",
      "/home/lucas/miniconda3/lib/python3.7/site-packages/ipykernel_launcher.py:3: DeprecationWarning: firefox_profile has been deprecated, please pass in an Options object\n",
      "  This is separate from the ipykernel package so we can avoid doing imports until\n"
     ]
    },
    {
     "name": "stdout",
     "output_type": "stream",
     "text": [
      "Message: Unable to locate element: /html/body/main/div[2]/div/div[7]/div[1]/div[2]/button[2]\n",
      "Stacktrace:\n",
      "WebDriverError@chrome://remote/content/shared/webdriver/Errors.jsm:181:5\n",
      "NoSuchElementError@chrome://remote/content/shared/webdriver/Errors.jsm:393:5\n",
      "element.find/</<@chrome://remote/content/marionette/element.js:305:16\n",
      "\n"
     ]
    },
    {
     "name": "stderr",
     "output_type": "stream",
     "text": [
      "/home/lucas/miniconda3/lib/python3.7/site-packages/ipykernel_launcher.py:3: DeprecationWarning: firefox_profile has been deprecated, please pass in an Options object\n",
      "  This is separate from the ipykernel package so we can avoid doing imports until\n"
     ]
    },
    {
     "name": "stdout",
     "output_type": "stream",
     "text": [
      "Message: Unable to locate element: /html/body/main/div[2]/div/div[7]/div[1]/div[2]/button[2]\n",
      "Stacktrace:\n",
      "WebDriverError@chrome://remote/content/shared/webdriver/Errors.jsm:181:5\n",
      "NoSuchElementError@chrome://remote/content/shared/webdriver/Errors.jsm:393:5\n",
      "element.find/</<@chrome://remote/content/marionette/element.js:305:16\n",
      "\n"
     ]
    },
    {
     "name": "stderr",
     "output_type": "stream",
     "text": [
      "/home/lucas/miniconda3/lib/python3.7/site-packages/ipykernel_launcher.py:3: DeprecationWarning: firefox_profile has been deprecated, please pass in an Options object\n",
      "  This is separate from the ipykernel package so we can avoid doing imports until\n"
     ]
    },
    {
     "name": "stdout",
     "output_type": "stream",
     "text": [
      "Message: Unable to locate element: /html/body/main/div[2]/div/div[7]/div[1]/div[2]/button[2]\n",
      "Stacktrace:\n",
      "WebDriverError@chrome://remote/content/shared/webdriver/Errors.jsm:181:5\n",
      "NoSuchElementError@chrome://remote/content/shared/webdriver/Errors.jsm:393:5\n",
      "element.find/</<@chrome://remote/content/marionette/element.js:305:16\n",
      "\n",
      "Message: Unable to locate element: /html/body/main/div[2]/div/div[7]/div[1]/div[2]/button[2]\n",
      "Stacktrace:\n",
      "WebDriverError@chrome://remote/content/shared/webdriver/Errors.jsm:181:5\n",
      "NoSuchElementError@chrome://remote/content/shared/webdriver/Errors.jsm:393:5\n",
      "element.find/</<@chrome://remote/content/marionette/element.js:305:16\n",
      "\n"
     ]
    },
    {
     "name": "stderr",
     "output_type": "stream",
     "text": [
      "/home/lucas/miniconda3/lib/python3.7/site-packages/ipykernel_launcher.py:3: DeprecationWarning: firefox_profile has been deprecated, please pass in an Options object\n",
      "  This is separate from the ipykernel package so we can avoid doing imports until\n",
      "/home/lucas/miniconda3/lib/python3.7/site-packages/ipykernel_launcher.py:3: DeprecationWarning: firefox_profile has been deprecated, please pass in an Options object\n",
      "  This is separate from the ipykernel package so we can avoid doing imports until\n"
     ]
    },
    {
     "name": "stdout",
     "output_type": "stream",
     "text": [
      "Message: Unable to locate element: /html/body/main/div[2]/div/div[7]/div[1]/div[2]/button[2]\n",
      "Stacktrace:\n",
      "WebDriverError@chrome://remote/content/shared/webdriver/Errors.jsm:181:5\n",
      "NoSuchElementError@chrome://remote/content/shared/webdriver/Errors.jsm:393:5\n",
      "element.find/</<@chrome://remote/content/marionette/element.js:305:16\n",
      "\n"
     ]
    },
    {
     "name": "stderr",
     "output_type": "stream",
     "text": [
      "/home/lucas/miniconda3/lib/python3.7/site-packages/ipykernel_launcher.py:3: DeprecationWarning: firefox_profile has been deprecated, please pass in an Options object\n",
      "  This is separate from the ipykernel package so we can avoid doing imports until\n",
      "/home/lucas/miniconda3/lib/python3.7/site-packages/ipykernel_launcher.py:3: DeprecationWarning: firefox_profile has been deprecated, please pass in an Options object\n",
      "  This is separate from the ipykernel package so we can avoid doing imports until\n"
     ]
    },
    {
     "name": "stdout",
     "output_type": "stream",
     "text": [
      "Message: Unable to locate element: /html/body/main/div[2]/div/div[7]/div[1]/div[2]/button[2]\n",
      "Stacktrace:\n",
      "WebDriverError@chrome://remote/content/shared/webdriver/Errors.jsm:181:5\n",
      "NoSuchElementError@chrome://remote/content/shared/webdriver/Errors.jsm:393:5\n",
      "element.find/</<@chrome://remote/content/marionette/element.js:305:16\n",
      "\n"
     ]
    },
    {
     "name": "stderr",
     "output_type": "stream",
     "text": [
      "/home/lucas/miniconda3/lib/python3.7/site-packages/ipykernel_launcher.py:3: DeprecationWarning: firefox_profile has been deprecated, please pass in an Options object\n",
      "  This is separate from the ipykernel package so we can avoid doing imports until\n"
     ]
    },
    {
     "name": "stdout",
     "output_type": "stream",
     "text": [
      "Message: Unable to locate element: /html/body/main/div[2]/div/div[7]/div[1]/div[2]/button[2]\n",
      "Stacktrace:\n",
      "WebDriverError@chrome://remote/content/shared/webdriver/Errors.jsm:181:5\n",
      "NoSuchElementError@chrome://remote/content/shared/webdriver/Errors.jsm:393:5\n",
      "element.find/</<@chrome://remote/content/marionette/element.js:305:16\n",
      "\n"
     ]
    },
    {
     "name": "stderr",
     "output_type": "stream",
     "text": [
      "/home/lucas/miniconda3/lib/python3.7/site-packages/ipykernel_launcher.py:3: DeprecationWarning: firefox_profile has been deprecated, please pass in an Options object\n",
      "  This is separate from the ipykernel package so we can avoid doing imports until\n"
     ]
    },
    {
     "name": "stdout",
     "output_type": "stream",
     "text": [
      "Message: Unable to locate element: /html/body/main/div[2]/div/div[7]/div[1]/div[2]/button[2]\n",
      "Stacktrace:\n",
      "WebDriverError@chrome://remote/content/shared/webdriver/Errors.jsm:181:5\n",
      "NoSuchElementError@chrome://remote/content/shared/webdriver/Errors.jsm:393:5\n",
      "element.find/</<@chrome://remote/content/marionette/element.js:305:16\n",
      "\n"
     ]
    },
    {
     "name": "stderr",
     "output_type": "stream",
     "text": [
      "/home/lucas/miniconda3/lib/python3.7/site-packages/ipykernel_launcher.py:3: DeprecationWarning: firefox_profile has been deprecated, please pass in an Options object\n",
      "  This is separate from the ipykernel package so we can avoid doing imports until\n"
     ]
    },
    {
     "name": "stdout",
     "output_type": "stream",
     "text": [
      "Message: Unable to locate element: /html/body/main/div[2]/div/div[7]/div[1]/div[2]/button[2]\n",
      "Stacktrace:\n",
      "WebDriverError@chrome://remote/content/shared/webdriver/Errors.jsm:181:5\n",
      "NoSuchElementError@chrome://remote/content/shared/webdriver/Errors.jsm:393:5\n",
      "element.find/</<@chrome://remote/content/marionette/element.js:305:16\n",
      "\n"
     ]
    },
    {
     "name": "stderr",
     "output_type": "stream",
     "text": [
      "/home/lucas/miniconda3/lib/python3.7/site-packages/ipykernel_launcher.py:3: DeprecationWarning: firefox_profile has been deprecated, please pass in an Options object\n",
      "  This is separate from the ipykernel package so we can avoid doing imports until\n"
     ]
    },
    {
     "name": "stdout",
     "output_type": "stream",
     "text": [
      "Message: Unable to locate element: /html/body/main/div[2]/div/div[7]/div[1]/div[2]/button[2]\n",
      "Stacktrace:\n",
      "WebDriverError@chrome://remote/content/shared/webdriver/Errors.jsm:181:5\n",
      "NoSuchElementError@chrome://remote/content/shared/webdriver/Errors.jsm:393:5\n",
      "element.find/</<@chrome://remote/content/marionette/element.js:305:16\n",
      "\n",
      "Message: Unable to locate element: /html/body/main/div[2]/div/div[7]/div[1]/div[2]/button[2]\n",
      "Stacktrace:\n",
      "WebDriverError@chrome://remote/content/shared/webdriver/Errors.jsm:181:5\n",
      "NoSuchElementError@chrome://remote/content/shared/webdriver/Errors.jsm:393:5\n",
      "element.find/</<@chrome://remote/content/marionette/element.js:305:16\n",
      "\n"
     ]
    },
    {
     "name": "stderr",
     "output_type": "stream",
     "text": [
      "/home/lucas/miniconda3/lib/python3.7/site-packages/ipykernel_launcher.py:3: DeprecationWarning: firefox_profile has been deprecated, please pass in an Options object\n",
      "  This is separate from the ipykernel package so we can avoid doing imports until\n",
      "/home/lucas/miniconda3/lib/python3.7/site-packages/ipykernel_launcher.py:3: DeprecationWarning: firefox_profile has been deprecated, please pass in an Options object\n",
      "  This is separate from the ipykernel package so we can avoid doing imports until\n"
     ]
    },
    {
     "name": "stdout",
     "output_type": "stream",
     "text": [
      "Message: Unable to locate element: /html/body/main/div[2]/div/div[7]/div[1]/div[2]/button[2]\n",
      "Stacktrace:\n",
      "WebDriverError@chrome://remote/content/shared/webdriver/Errors.jsm:181:5\n",
      "NoSuchElementError@chrome://remote/content/shared/webdriver/Errors.jsm:393:5\n",
      "element.find/</<@chrome://remote/content/marionette/element.js:305:16\n",
      "\n"
     ]
    },
    {
     "name": "stderr",
     "output_type": "stream",
     "text": [
      "/home/lucas/miniconda3/lib/python3.7/site-packages/ipykernel_launcher.py:3: DeprecationWarning: firefox_profile has been deprecated, please pass in an Options object\n",
      "  This is separate from the ipykernel package so we can avoid doing imports until\n"
     ]
    },
    {
     "name": "stdout",
     "output_type": "stream",
     "text": [
      "Message: Unable to locate element: /html/body/main/div[2]/div/div[7]/div[1]/div[2]/button[2]\n",
      "Stacktrace:\n",
      "WebDriverError@chrome://remote/content/shared/webdriver/Errors.jsm:181:5\n",
      "NoSuchElementError@chrome://remote/content/shared/webdriver/Errors.jsm:393:5\n",
      "element.find/</<@chrome://remote/content/marionette/element.js:305:16\n",
      "\n"
     ]
    },
    {
     "name": "stderr",
     "output_type": "stream",
     "text": [
      "/home/lucas/miniconda3/lib/python3.7/site-packages/ipykernel_launcher.py:3: DeprecationWarning: firefox_profile has been deprecated, please pass in an Options object\n",
      "  This is separate from the ipykernel package so we can avoid doing imports until\n"
     ]
    },
    {
     "name": "stdout",
     "output_type": "stream",
     "text": [
      "Message: Unable to locate element: /html/body/main/div[2]/div/div[7]/div[1]/div[2]/button[2]\n",
      "Stacktrace:\n",
      "WebDriverError@chrome://remote/content/shared/webdriver/Errors.jsm:181:5\n",
      "NoSuchElementError@chrome://remote/content/shared/webdriver/Errors.jsm:393:5\n",
      "element.find/</<@chrome://remote/content/marionette/element.js:305:16\n",
      "\n",
      "Message: Unable to locate element: /html/body/main/div[2]/div/div[7]/div[1]/div[2]/button[2]\n",
      "Stacktrace:\n",
      "WebDriverError@chrome://remote/content/shared/webdriver/Errors.jsm:181:5\n",
      "NoSuchElementError@chrome://remote/content/shared/webdriver/Errors.jsm:393:5\n",
      "element.find/</<@chrome://remote/content/marionette/element.js:305:16\n",
      "\n"
     ]
    },
    {
     "name": "stderr",
     "output_type": "stream",
     "text": [
      "/home/lucas/miniconda3/lib/python3.7/site-packages/ipykernel_launcher.py:3: DeprecationWarning: firefox_profile has been deprecated, please pass in an Options object\n",
      "  This is separate from the ipykernel package so we can avoid doing imports until\n",
      "/home/lucas/miniconda3/lib/python3.7/site-packages/ipykernel_launcher.py:3: DeprecationWarning: firefox_profile has been deprecated, please pass in an Options object\n",
      "  This is separate from the ipykernel package so we can avoid doing imports until\n",
      "/home/lucas/miniconda3/lib/python3.7/site-packages/ipykernel_launcher.py:3: DeprecationWarning: firefox_profile has been deprecated, please pass in an Options object\n",
      "  This is separate from the ipykernel package so we can avoid doing imports until\n"
     ]
    },
    {
     "name": "stdout",
     "output_type": "stream",
     "text": [
      "Message: Unable to locate element: /html/body/main/div[2]/div/div[7]/div[1]/div[2]/button[2]\n",
      "Stacktrace:\n",
      "WebDriverError@chrome://remote/content/shared/webdriver/Errors.jsm:181:5\n",
      "NoSuchElementError@chrome://remote/content/shared/webdriver/Errors.jsm:393:5\n",
      "element.find/</<@chrome://remote/content/marionette/element.js:305:16\n",
      "\n"
     ]
    },
    {
     "name": "stderr",
     "output_type": "stream",
     "text": [
      "/home/lucas/miniconda3/lib/python3.7/site-packages/ipykernel_launcher.py:3: DeprecationWarning: firefox_profile has been deprecated, please pass in an Options object\n",
      "  This is separate from the ipykernel package so we can avoid doing imports until\n"
     ]
    },
    {
     "name": "stdout",
     "output_type": "stream",
     "text": [
      "Message: Unable to locate element: /html/body/main/div[2]/div/div[7]/div[1]/div[2]/button[2]\n",
      "Stacktrace:\n",
      "WebDriverError@chrome://remote/content/shared/webdriver/Errors.jsm:181:5\n",
      "NoSuchElementError@chrome://remote/content/shared/webdriver/Errors.jsm:393:5\n",
      "element.find/</<@chrome://remote/content/marionette/element.js:305:16\n",
      "\n",
      "Message: Unable to locate element: /html/body/main/div[2]/div/div[7]/div[1]/div[2]/button[2]\n",
      "Stacktrace:\n",
      "WebDriverError@chrome://remote/content/shared/webdriver/Errors.jsm:181:5\n",
      "NoSuchElementError@chrome://remote/content/shared/webdriver/Errors.jsm:393:5\n",
      "element.find/</<@chrome://remote/content/marionette/element.js:305:16\n",
      "\n"
     ]
    },
    {
     "name": "stderr",
     "output_type": "stream",
     "text": [
      "/home/lucas/miniconda3/lib/python3.7/site-packages/ipykernel_launcher.py:3: DeprecationWarning: firefox_profile has been deprecated, please pass in an Options object\n",
      "  This is separate from the ipykernel package so we can avoid doing imports until\n",
      "/home/lucas/miniconda3/lib/python3.7/site-packages/ipykernel_launcher.py:3: DeprecationWarning: firefox_profile has been deprecated, please pass in an Options object\n",
      "  This is separate from the ipykernel package so we can avoid doing imports until\n",
      "/home/lucas/miniconda3/lib/python3.7/site-packages/ipykernel_launcher.py:3: DeprecationWarning: firefox_profile has been deprecated, please pass in an Options object\n",
      "  This is separate from the ipykernel package so we can avoid doing imports until\n"
     ]
    },
    {
     "name": "stdout",
     "output_type": "stream",
     "text": [
      "Message: Unable to locate element: /html/body/main/div[2]/div/div[7]/div[1]/div[2]/button[2]\n",
      "Stacktrace:\n",
      "WebDriverError@chrome://remote/content/shared/webdriver/Errors.jsm:181:5\n",
      "NoSuchElementError@chrome://remote/content/shared/webdriver/Errors.jsm:393:5\n",
      "element.find/</<@chrome://remote/content/marionette/element.js:305:16\n",
      "\n"
     ]
    },
    {
     "name": "stderr",
     "output_type": "stream",
     "text": [
      "/home/lucas/miniconda3/lib/python3.7/site-packages/ipykernel_launcher.py:3: DeprecationWarning: firefox_profile has been deprecated, please pass in an Options object\n",
      "  This is separate from the ipykernel package so we can avoid doing imports until\n"
     ]
    },
    {
     "name": "stdout",
     "output_type": "stream",
     "text": [
      "Message: Unable to locate element: /html/body/main/div[2]/div/div[7]/div[1]/div[2]/button[2]\n",
      "Stacktrace:\n",
      "WebDriverError@chrome://remote/content/shared/webdriver/Errors.jsm:181:5\n",
      "NoSuchElementError@chrome://remote/content/shared/webdriver/Errors.jsm:393:5\n",
      "element.find/</<@chrome://remote/content/marionette/element.js:305:16\n",
      "\n"
     ]
    },
    {
     "name": "stderr",
     "output_type": "stream",
     "text": [
      "/home/lucas/miniconda3/lib/python3.7/site-packages/ipykernel_launcher.py:3: DeprecationWarning: firefox_profile has been deprecated, please pass in an Options object\n",
      "  This is separate from the ipykernel package so we can avoid doing imports until\n",
      "/home/lucas/miniconda3/lib/python3.7/site-packages/ipykernel_launcher.py:3: DeprecationWarning: firefox_profile has been deprecated, please pass in an Options object\n",
      "  This is separate from the ipykernel package so we can avoid doing imports until\n"
     ]
    },
    {
     "name": "stdout",
     "output_type": "stream",
     "text": [
      "Message: Unable to locate element: /html/body/main/div[2]/div/div[7]/div[1]/div[2]/button[2]\n",
      "Stacktrace:\n",
      "WebDriverError@chrome://remote/content/shared/webdriver/Errors.jsm:181:5\n",
      "NoSuchElementError@chrome://remote/content/shared/webdriver/Errors.jsm:393:5\n",
      "element.find/</<@chrome://remote/content/marionette/element.js:305:16\n",
      "\n"
     ]
    },
    {
     "name": "stderr",
     "output_type": "stream",
     "text": [
      "/home/lucas/miniconda3/lib/python3.7/site-packages/ipykernel_launcher.py:3: DeprecationWarning: firefox_profile has been deprecated, please pass in an Options object\n",
      "  This is separate from the ipykernel package so we can avoid doing imports until\n"
     ]
    },
    {
     "name": "stdout",
     "output_type": "stream",
     "text": [
      "Message: Unable to locate element: /html/body/main/div[2]/div/div[7]/div[1]/div[2]/button[2]\n",
      "Stacktrace:\n",
      "WebDriverError@chrome://remote/content/shared/webdriver/Errors.jsm:181:5\n",
      "NoSuchElementError@chrome://remote/content/shared/webdriver/Errors.jsm:393:5\n",
      "element.find/</<@chrome://remote/content/marionette/element.js:305:16\n",
      "\n"
     ]
    },
    {
     "name": "stderr",
     "output_type": "stream",
     "text": [
      "/home/lucas/miniconda3/lib/python3.7/site-packages/ipykernel_launcher.py:3: DeprecationWarning: firefox_profile has been deprecated, please pass in an Options object\n",
      "  This is separate from the ipykernel package so we can avoid doing imports until\n",
      "/home/lucas/miniconda3/lib/python3.7/site-packages/ipykernel_launcher.py:3: DeprecationWarning: firefox_profile has been deprecated, please pass in an Options object\n",
      "  This is separate from the ipykernel package so we can avoid doing imports until\n",
      "/home/lucas/miniconda3/lib/python3.7/site-packages/ipykernel_launcher.py:3: DeprecationWarning: firefox_profile has been deprecated, please pass in an Options object\n",
      "  This is separate from the ipykernel package so we can avoid doing imports until\n"
     ]
    },
    {
     "name": "stdout",
     "output_type": "stream",
     "text": [
      "Message: Unable to locate element: /html/body/main/div[2]/div/div[7]/div[1]/div[2]/button[2]\n",
      "Stacktrace:\n",
      "WebDriverError@chrome://remote/content/shared/webdriver/Errors.jsm:181:5\n",
      "NoSuchElementError@chrome://remote/content/shared/webdriver/Errors.jsm:393:5\n",
      "element.find/</<@chrome://remote/content/marionette/element.js:305:16\n",
      "\n"
     ]
    },
    {
     "name": "stderr",
     "output_type": "stream",
     "text": [
      "/home/lucas/miniconda3/lib/python3.7/site-packages/ipykernel_launcher.py:3: DeprecationWarning: firefox_profile has been deprecated, please pass in an Options object\n",
      "  This is separate from the ipykernel package so we can avoid doing imports until\n",
      "/home/lucas/miniconda3/lib/python3.7/site-packages/ipykernel_launcher.py:3: DeprecationWarning: firefox_profile has been deprecated, please pass in an Options object\n",
      "  This is separate from the ipykernel package so we can avoid doing imports until\n"
     ]
    },
    {
     "name": "stdout",
     "output_type": "stream",
     "text": [
      "Message: Unable to locate element: /html/body/main/div[2]/div/div[7]/div[1]/div[2]/button[2]\n",
      "Stacktrace:\n",
      "WebDriverError@chrome://remote/content/shared/webdriver/Errors.jsm:181:5\n",
      "NoSuchElementError@chrome://remote/content/shared/webdriver/Errors.jsm:393:5\n",
      "element.find/</<@chrome://remote/content/marionette/element.js:305:16\n",
      "\n",
      "Message: Unable to locate element: /html/body/main/div[2]/div/div[7]/div[1]/div[2]/button[2]\n",
      "Stacktrace:\n",
      "WebDriverError@chrome://remote/content/shared/webdriver/Errors.jsm:181:5\n",
      "NoSuchElementError@chrome://remote/content/shared/webdriver/Errors.jsm:393:5\n",
      "element.find/</<@chrome://remote/content/marionette/element.js:305:16\n",
      "\n"
     ]
    },
    {
     "name": "stderr",
     "output_type": "stream",
     "text": [
      "/home/lucas/miniconda3/lib/python3.7/site-packages/ipykernel_launcher.py:3: DeprecationWarning: firefox_profile has been deprecated, please pass in an Options object\n",
      "  This is separate from the ipykernel package so we can avoid doing imports until\n",
      "/home/lucas/miniconda3/lib/python3.7/site-packages/ipykernel_launcher.py:3: DeprecationWarning: firefox_profile has been deprecated, please pass in an Options object\n",
      "  This is separate from the ipykernel package so we can avoid doing imports until\n"
     ]
    },
    {
     "name": "stdout",
     "output_type": "stream",
     "text": [
      "Message: Unable to locate element: /html/body/main/div[2]/div/div[7]/div[1]/div[2]/button[2]\n",
      "Stacktrace:\n",
      "WebDriverError@chrome://remote/content/shared/webdriver/Errors.jsm:181:5\n",
      "NoSuchElementError@chrome://remote/content/shared/webdriver/Errors.jsm:393:5\n",
      "element.find/</<@chrome://remote/content/marionette/element.js:305:16\n",
      "\n",
      "Message: Unable to locate element: /html/body/main/div[2]/div/div[7]/div[1]/div[2]/button[2]\n",
      "Stacktrace:\n",
      "WebDriverError@chrome://remote/content/shared/webdriver/Errors.jsm:181:5\n",
      "NoSuchElementError@chrome://remote/content/shared/webdriver/Errors.jsm:393:5\n",
      "element.find/</<@chrome://remote/content/marionette/element.js:305:16\n",
      "\n",
      "Message: Unable to locate element: /html/body/main/div[2]/div/div[7]/div[1]/div[2]/button[2]\n",
      "Stacktrace:\n",
      "WebDriverError@chrome://remote/content/shared/webdriver/Errors.jsm:181:5\n",
      "NoSuchElementError@chrome://remote/content/shared/webdriver/Errors.jsm:393:5\n",
      "element.find/</<@chrome://remote/content/marionette/element.js:305:16\n",
      "\n",
      "Message: Unable to locate element: /html/body/main/div[2]/div/div[7]/div[1]/div[2]/button[2]\n",
      "Stacktrace:\n",
      "WebDriverError@chrome://remote/content/shared/webdriver/Errors.jsm:181:5\n",
      "NoSuchElementError@chrome://remote/content/shared/webdriver/Errors.jsm:393:5\n",
      "element.find/</<@chrome://remote/content/marionette/element.js:305:16\n",
      "\n"
     ]
    },
    {
     "name": "stderr",
     "output_type": "stream",
     "text": [
      "/home/lucas/miniconda3/lib/python3.7/site-packages/ipykernel_launcher.py:3: DeprecationWarning: firefox_profile has been deprecated, please pass in an Options object\n",
      "  This is separate from the ipykernel package so we can avoid doing imports until\n",
      "/home/lucas/miniconda3/lib/python3.7/site-packages/ipykernel_launcher.py:3: DeprecationWarning: firefox_profile has been deprecated, please pass in an Options object\n",
      "  This is separate from the ipykernel package so we can avoid doing imports until\n",
      "/home/lucas/miniconda3/lib/python3.7/site-packages/ipykernel_launcher.py:3: DeprecationWarning: firefox_profile has been deprecated, please pass in an Options object\n",
      "  This is separate from the ipykernel package so we can avoid doing imports until\n",
      "/home/lucas/miniconda3/lib/python3.7/site-packages/ipykernel_launcher.py:3: DeprecationWarning: firefox_profile has been deprecated, please pass in an Options object\n",
      "  This is separate from the ipykernel package so we can avoid doing imports until\n"
     ]
    },
    {
     "name": "stdout",
     "output_type": "stream",
     "text": [
      "Message: Unable to locate element: /html/body/main/div[2]/div/div[7]/div[1]/div[2]/button[2]\n",
      "Stacktrace:\n",
      "WebDriverError@chrome://remote/content/shared/webdriver/Errors.jsm:181:5\n",
      "NoSuchElementError@chrome://remote/content/shared/webdriver/Errors.jsm:393:5\n",
      "element.find/</<@chrome://remote/content/marionette/element.js:305:16\n",
      "\n"
     ]
    },
    {
     "name": "stderr",
     "output_type": "stream",
     "text": [
      "/home/lucas/miniconda3/lib/python3.7/site-packages/ipykernel_launcher.py:3: DeprecationWarning: firefox_profile has been deprecated, please pass in an Options object\n",
      "  This is separate from the ipykernel package so we can avoid doing imports until\n"
     ]
    },
    {
     "name": "stdout",
     "output_type": "stream",
     "text": [
      "Message: Unable to locate element: /html/body/main/div[2]/div/div[7]/div[1]/div[2]/button[2]\n",
      "Stacktrace:\n",
      "WebDriverError@chrome://remote/content/shared/webdriver/Errors.jsm:181:5\n",
      "NoSuchElementError@chrome://remote/content/shared/webdriver/Errors.jsm:393:5\n",
      "element.find/</<@chrome://remote/content/marionette/element.js:305:16\n",
      "\n",
      "Message: Unable to locate element: /html/body/main/div[2]/div/div[7]/div[1]/div[2]/button[2]\n",
      "Stacktrace:\n",
      "WebDriverError@chrome://remote/content/shared/webdriver/Errors.jsm:181:5\n",
      "NoSuchElementError@chrome://remote/content/shared/webdriver/Errors.jsm:393:5\n",
      "element.find/</<@chrome://remote/content/marionette/element.js:305:16\n",
      "\n"
     ]
    },
    {
     "name": "stderr",
     "output_type": "stream",
     "text": [
      "/home/lucas/miniconda3/lib/python3.7/site-packages/ipykernel_launcher.py:3: DeprecationWarning: firefox_profile has been deprecated, please pass in an Options object\n",
      "  This is separate from the ipykernel package so we can avoid doing imports until\n",
      "/home/lucas/miniconda3/lib/python3.7/site-packages/ipykernel_launcher.py:3: DeprecationWarning: firefox_profile has been deprecated, please pass in an Options object\n",
      "  This is separate from the ipykernel package so we can avoid doing imports until\n",
      "/home/lucas/miniconda3/lib/python3.7/site-packages/ipykernel_launcher.py:3: DeprecationWarning: firefox_profile has been deprecated, please pass in an Options object\n",
      "  This is separate from the ipykernel package so we can avoid doing imports until\n"
     ]
    },
    {
     "name": "stdout",
     "output_type": "stream",
     "text": [
      "Message: Unable to locate element: /html/body/main/div[2]/div/div[7]/div[1]/div[2]/button[2]\n",
      "Stacktrace:\n",
      "WebDriverError@chrome://remote/content/shared/webdriver/Errors.jsm:181:5\n",
      "NoSuchElementError@chrome://remote/content/shared/webdriver/Errors.jsm:393:5\n",
      "element.find/</<@chrome://remote/content/marionette/element.js:305:16\n",
      "\n",
      "Message: Unable to locate element: /html/body/main/div[2]/div/div[7]/div[1]/div[2]/button[2]\n",
      "Stacktrace:\n",
      "WebDriverError@chrome://remote/content/shared/webdriver/Errors.jsm:181:5\n",
      "NoSuchElementError@chrome://remote/content/shared/webdriver/Errors.jsm:393:5\n",
      "element.find/</<@chrome://remote/content/marionette/element.js:305:16\n",
      "\n",
      "Message: Unable to locate element: /html/body/main/div[2]/div/div[7]/div[1]/div[2]/button[2]\n",
      "Stacktrace:\n",
      "WebDriverError@chrome://remote/content/shared/webdriver/Errors.jsm:181:5\n",
      "NoSuchElementError@chrome://remote/content/shared/webdriver/Errors.jsm:393:5\n",
      "element.find/</<@chrome://remote/content/marionette/element.js:305:16\n",
      "\n"
     ]
    },
    {
     "name": "stderr",
     "output_type": "stream",
     "text": [
      "/home/lucas/miniconda3/lib/python3.7/site-packages/ipykernel_launcher.py:3: DeprecationWarning: firefox_profile has been deprecated, please pass in an Options object\n",
      "  This is separate from the ipykernel package so we can avoid doing imports until\n",
      "/home/lucas/miniconda3/lib/python3.7/site-packages/ipykernel_launcher.py:3: DeprecationWarning: firefox_profile has been deprecated, please pass in an Options object\n",
      "  This is separate from the ipykernel package so we can avoid doing imports until\n",
      "/home/lucas/miniconda3/lib/python3.7/site-packages/ipykernel_launcher.py:3: DeprecationWarning: firefox_profile has been deprecated, please pass in an Options object\n",
      "  This is separate from the ipykernel package so we can avoid doing imports until\n"
     ]
    },
    {
     "name": "stdout",
     "output_type": "stream",
     "text": [
      "Message: Unable to locate element: /html/body/main/div[2]/div/div[7]/div[1]/div[2]/button[2]\n",
      "Stacktrace:\n",
      "WebDriverError@chrome://remote/content/shared/webdriver/Errors.jsm:181:5\n",
      "NoSuchElementError@chrome://remote/content/shared/webdriver/Errors.jsm:393:5\n",
      "element.find/</<@chrome://remote/content/marionette/element.js:305:16\n",
      "\n"
     ]
    },
    {
     "name": "stderr",
     "output_type": "stream",
     "text": [
      "/home/lucas/miniconda3/lib/python3.7/site-packages/ipykernel_launcher.py:3: DeprecationWarning: firefox_profile has been deprecated, please pass in an Options object\n",
      "  This is separate from the ipykernel package so we can avoid doing imports until\n"
     ]
    },
    {
     "name": "stdout",
     "output_type": "stream",
     "text": [
      "Message: Unable to locate element: /html/body/main/div[2]/div/div[7]/div[1]/div[2]/button[2]\n",
      "Stacktrace:\n",
      "WebDriverError@chrome://remote/content/shared/webdriver/Errors.jsm:181:5\n",
      "NoSuchElementError@chrome://remote/content/shared/webdriver/Errors.jsm:393:5\n",
      "element.find/</<@chrome://remote/content/marionette/element.js:305:16\n",
      "\n",
      "Message: Unable to locate element: /html/body/main/div[2]/div/div[7]/div[1]/div[2]/button[2]\n",
      "Stacktrace:\n",
      "WebDriverError@chrome://remote/content/shared/webdriver/Errors.jsm:181:5\n",
      "NoSuchElementError@chrome://remote/content/shared/webdriver/Errors.jsm:393:5\n",
      "element.find/</<@chrome://remote/content/marionette/element.js:305:16\n",
      "\n"
     ]
    },
    {
     "name": "stderr",
     "output_type": "stream",
     "text": [
      "/home/lucas/miniconda3/lib/python3.7/site-packages/ipykernel_launcher.py:3: DeprecationWarning: firefox_profile has been deprecated, please pass in an Options object\n",
      "  This is separate from the ipykernel package so we can avoid doing imports until\n",
      "/home/lucas/miniconda3/lib/python3.7/site-packages/ipykernel_launcher.py:3: DeprecationWarning: firefox_profile has been deprecated, please pass in an Options object\n",
      "  This is separate from the ipykernel package so we can avoid doing imports until\n",
      "/home/lucas/miniconda3/lib/python3.7/site-packages/ipykernel_launcher.py:3: DeprecationWarning: firefox_profile has been deprecated, please pass in an Options object\n",
      "  This is separate from the ipykernel package so we can avoid doing imports until\n",
      "/home/lucas/miniconda3/lib/python3.7/site-packages/ipykernel_launcher.py:3: DeprecationWarning: firefox_profile has been deprecated, please pass in an Options object\n",
      "  This is separate from the ipykernel package so we can avoid doing imports until\n"
     ]
    },
    {
     "name": "stdout",
     "output_type": "stream",
     "text": [
      "Message: Unable to locate element: /html/body/main/div[2]/div/div[7]/div[1]/div[2]/button[2]\n",
      "Stacktrace:\n",
      "WebDriverError@chrome://remote/content/shared/webdriver/Errors.jsm:181:5\n",
      "NoSuchElementError@chrome://remote/content/shared/webdriver/Errors.jsm:393:5\n",
      "element.find/</<@chrome://remote/content/marionette/element.js:305:16\n",
      "\n",
      "Message: Unable to locate element: /html/body/main/div[2]/div/div[7]/div[1]/div[2]/button[2]\n",
      "Stacktrace:\n",
      "WebDriverError@chrome://remote/content/shared/webdriver/Errors.jsm:181:5\n",
      "NoSuchElementError@chrome://remote/content/shared/webdriver/Errors.jsm:393:5\n",
      "element.find/</<@chrome://remote/content/marionette/element.js:305:16\n",
      "\n"
     ]
    },
    {
     "name": "stderr",
     "output_type": "stream",
     "text": [
      "/home/lucas/miniconda3/lib/python3.7/site-packages/ipykernel_launcher.py:3: DeprecationWarning: firefox_profile has been deprecated, please pass in an Options object\n",
      "  This is separate from the ipykernel package so we can avoid doing imports until\n",
      "/home/lucas/miniconda3/lib/python3.7/site-packages/ipykernel_launcher.py:3: DeprecationWarning: firefox_profile has been deprecated, please pass in an Options object\n",
      "  This is separate from the ipykernel package so we can avoid doing imports until\n",
      "/home/lucas/miniconda3/lib/python3.7/site-packages/ipykernel_launcher.py:3: DeprecationWarning: firefox_profile has been deprecated, please pass in an Options object\n",
      "  This is separate from the ipykernel package so we can avoid doing imports until\n",
      "/home/lucas/miniconda3/lib/python3.7/site-packages/ipykernel_launcher.py:3: DeprecationWarning: firefox_profile has been deprecated, please pass in an Options object\n",
      "  This is separate from the ipykernel package so we can avoid doing imports until\n"
     ]
    },
    {
     "name": "stdout",
     "output_type": "stream",
     "text": [
      "Message: Unable to locate element: /html/body/main/div[2]/div/div[7]/div[1]/div[2]/button[2]\n",
      "Stacktrace:\n",
      "WebDriverError@chrome://remote/content/shared/webdriver/Errors.jsm:181:5\n",
      "NoSuchElementError@chrome://remote/content/shared/webdriver/Errors.jsm:393:5\n",
      "element.find/</<@chrome://remote/content/marionette/element.js:305:16\n",
      "\n",
      "Message: Unable to locate element: /html/body/main/div[2]/div/div[7]/div[1]/div[2]/button[2]\n",
      "Stacktrace:\n",
      "WebDriverError@chrome://remote/content/shared/webdriver/Errors.jsm:181:5\n",
      "NoSuchElementError@chrome://remote/content/shared/webdriver/Errors.jsm:393:5\n",
      "element.find/</<@chrome://remote/content/marionette/element.js:305:16\n",
      "\n"
     ]
    },
    {
     "name": "stderr",
     "output_type": "stream",
     "text": [
      "/home/lucas/miniconda3/lib/python3.7/site-packages/ipykernel_launcher.py:3: DeprecationWarning: firefox_profile has been deprecated, please pass in an Options object\n",
      "  This is separate from the ipykernel package so we can avoid doing imports until\n",
      "/home/lucas/miniconda3/lib/python3.7/site-packages/ipykernel_launcher.py:3: DeprecationWarning: firefox_profile has been deprecated, please pass in an Options object\n",
      "  This is separate from the ipykernel package so we can avoid doing imports until\n",
      "/home/lucas/miniconda3/lib/python3.7/site-packages/ipykernel_launcher.py:3: DeprecationWarning: firefox_profile has been deprecated, please pass in an Options object\n",
      "  This is separate from the ipykernel package so we can avoid doing imports until\n",
      "/home/lucas/miniconda3/lib/python3.7/site-packages/ipykernel_launcher.py:3: DeprecationWarning: firefox_profile has been deprecated, please pass in an Options object\n",
      "  This is separate from the ipykernel package so we can avoid doing imports until\n"
     ]
    },
    {
     "name": "stdout",
     "output_type": "stream",
     "text": [
      "Message: Unable to locate element: /html/body/main/div[2]/div/div[7]/div[1]/div[2]/button[2]\n",
      "Stacktrace:\n",
      "WebDriverError@chrome://remote/content/shared/webdriver/Errors.jsm:181:5\n",
      "NoSuchElementError@chrome://remote/content/shared/webdriver/Errors.jsm:393:5\n",
      "element.find/</<@chrome://remote/content/marionette/element.js:305:16\n",
      "\n",
      "Message: Unable to locate element: /html/body/main/div[2]/div/div[7]/div[1]/div[2]/button[2]\n",
      "Stacktrace:\n",
      "WebDriverError@chrome://remote/content/shared/webdriver/Errors.jsm:181:5\n",
      "NoSuchElementError@chrome://remote/content/shared/webdriver/Errors.jsm:393:5\n",
      "element.find/</<@chrome://remote/content/marionette/element.js:305:16\n",
      "\n"
     ]
    },
    {
     "name": "stderr",
     "output_type": "stream",
     "text": [
      "/home/lucas/miniconda3/lib/python3.7/site-packages/ipykernel_launcher.py:3: DeprecationWarning: firefox_profile has been deprecated, please pass in an Options object\n",
      "  This is separate from the ipykernel package so we can avoid doing imports until\n",
      "/home/lucas/miniconda3/lib/python3.7/site-packages/ipykernel_launcher.py:3: DeprecationWarning: firefox_profile has been deprecated, please pass in an Options object\n",
      "  This is separate from the ipykernel package so we can avoid doing imports until\n",
      "/home/lucas/miniconda3/lib/python3.7/site-packages/ipykernel_launcher.py:3: DeprecationWarning: firefox_profile has been deprecated, please pass in an Options object\n",
      "  This is separate from the ipykernel package so we can avoid doing imports until\n",
      "/home/lucas/miniconda3/lib/python3.7/site-packages/ipykernel_launcher.py:3: DeprecationWarning: firefox_profile has been deprecated, please pass in an Options object\n",
      "  This is separate from the ipykernel package so we can avoid doing imports until\n"
     ]
    },
    {
     "name": "stdout",
     "output_type": "stream",
     "text": [
      "Message: Unable to locate element: /html/body/main/div[2]/div/div[7]/div[1]/div[2]/button[2]\n",
      "Stacktrace:\n",
      "WebDriverError@chrome://remote/content/shared/webdriver/Errors.jsm:181:5\n",
      "NoSuchElementError@chrome://remote/content/shared/webdriver/Errors.jsm:393:5\n",
      "element.find/</<@chrome://remote/content/marionette/element.js:305:16\n",
      "\n",
      "Message: Unable to locate element: /html/body/main/div[2]/div/div[7]/div[1]/div[2]/button[2]\n",
      "Stacktrace:\n",
      "WebDriverError@chrome://remote/content/shared/webdriver/Errors.jsm:181:5\n",
      "NoSuchElementError@chrome://remote/content/shared/webdriver/Errors.jsm:393:5\n",
      "element.find/</<@chrome://remote/content/marionette/element.js:305:16\n",
      "\n"
     ]
    },
    {
     "name": "stderr",
     "output_type": "stream",
     "text": [
      "/home/lucas/miniconda3/lib/python3.7/site-packages/ipykernel_launcher.py:3: DeprecationWarning: firefox_profile has been deprecated, please pass in an Options object\n",
      "  This is separate from the ipykernel package so we can avoid doing imports until\n",
      "/home/lucas/miniconda3/lib/python3.7/site-packages/ipykernel_launcher.py:3: DeprecationWarning: firefox_profile has been deprecated, please pass in an Options object\n",
      "  This is separate from the ipykernel package so we can avoid doing imports until\n"
     ]
    },
    {
     "name": "stdout",
     "output_type": "stream",
     "text": [
      "Message: Unable to locate element: /html/body/main/div[2]/div/div[7]/div[1]/div[2]/button[2]\n",
      "Stacktrace:\n",
      "WebDriverError@chrome://remote/content/shared/webdriver/Errors.jsm:181:5\n",
      "NoSuchElementError@chrome://remote/content/shared/webdriver/Errors.jsm:393:5\n",
      "element.find/</<@chrome://remote/content/marionette/element.js:305:16\n",
      "\n"
     ]
    },
    {
     "name": "stderr",
     "output_type": "stream",
     "text": [
      "/home/lucas/miniconda3/lib/python3.7/site-packages/ipykernel_launcher.py:3: DeprecationWarning: firefox_profile has been deprecated, please pass in an Options object\n",
      "  This is separate from the ipykernel package so we can avoid doing imports until\n"
     ]
    },
    {
     "name": "stdout",
     "output_type": "stream",
     "text": [
      "Message: Unable to locate element: /html/body/main/div[2]/div/div[7]/div[1]/div[2]/button[2]\n",
      "Stacktrace:\n",
      "WebDriverError@chrome://remote/content/shared/webdriver/Errors.jsm:181:5\n",
      "NoSuchElementError@chrome://remote/content/shared/webdriver/Errors.jsm:393:5\n",
      "element.find/</<@chrome://remote/content/marionette/element.js:305:16\n",
      "\n"
     ]
    },
    {
     "name": "stderr",
     "output_type": "stream",
     "text": [
      "/home/lucas/miniconda3/lib/python3.7/site-packages/ipykernel_launcher.py:3: DeprecationWarning: firefox_profile has been deprecated, please pass in an Options object\n",
      "  This is separate from the ipykernel package so we can avoid doing imports until\n"
     ]
    },
    {
     "name": "stdout",
     "output_type": "stream",
     "text": [
      "Message: Unable to locate element: /html/body/main/div[2]/div/div[7]/div[1]/div[2]/button[2]\n",
      "Stacktrace:\n",
      "WebDriverError@chrome://remote/content/shared/webdriver/Errors.jsm:181:5\n",
      "NoSuchElementError@chrome://remote/content/shared/webdriver/Errors.jsm:393:5\n",
      "element.find/</<@chrome://remote/content/marionette/element.js:305:16\n",
      "\n",
      "Message: Unable to locate element: /html/body/main/div[2]/div/div[7]/div[1]/div[2]/button[2]\n",
      "Stacktrace:\n",
      "WebDriverError@chrome://remote/content/shared/webdriver/Errors.jsm:181:5\n",
      "NoSuchElementError@chrome://remote/content/shared/webdriver/Errors.jsm:393:5\n",
      "element.find/</<@chrome://remote/content/marionette/element.js:305:16\n",
      "\n"
     ]
    },
    {
     "name": "stderr",
     "output_type": "stream",
     "text": [
      "/home/lucas/miniconda3/lib/python3.7/site-packages/ipykernel_launcher.py:3: DeprecationWarning: firefox_profile has been deprecated, please pass in an Options object\n",
      "  This is separate from the ipykernel package so we can avoid doing imports until\n",
      "/home/lucas/miniconda3/lib/python3.7/site-packages/ipykernel_launcher.py:3: DeprecationWarning: firefox_profile has been deprecated, please pass in an Options object\n",
      "  This is separate from the ipykernel package so we can avoid doing imports until\n"
     ]
    },
    {
     "name": "stdout",
     "output_type": "stream",
     "text": [
      "Message: Unable to locate element: /html/body/main/div[2]/div/div[7]/div[1]/div[2]/button[2]\n",
      "Stacktrace:\n",
      "WebDriverError@chrome://remote/content/shared/webdriver/Errors.jsm:181:5\n",
      "NoSuchElementError@chrome://remote/content/shared/webdriver/Errors.jsm:393:5\n",
      "element.find/</<@chrome://remote/content/marionette/element.js:305:16\n",
      "\n"
     ]
    },
    {
     "name": "stderr",
     "output_type": "stream",
     "text": [
      "/home/lucas/miniconda3/lib/python3.7/site-packages/ipykernel_launcher.py:3: DeprecationWarning: firefox_profile has been deprecated, please pass in an Options object\n",
      "  This is separate from the ipykernel package so we can avoid doing imports until\n"
     ]
    },
    {
     "name": "stdout",
     "output_type": "stream",
     "text": [
      "Message: Unable to locate element: /html/body/main/div[2]/div/div[7]/div[1]/div[2]/button[2]\n",
      "Stacktrace:\n",
      "WebDriverError@chrome://remote/content/shared/webdriver/Errors.jsm:181:5\n",
      "NoSuchElementError@chrome://remote/content/shared/webdriver/Errors.jsm:393:5\n",
      "element.find/</<@chrome://remote/content/marionette/element.js:305:16\n",
      "\n"
     ]
    },
    {
     "name": "stderr",
     "output_type": "stream",
     "text": [
      "/home/lucas/miniconda3/lib/python3.7/site-packages/ipykernel_launcher.py:3: DeprecationWarning: firefox_profile has been deprecated, please pass in an Options object\n",
      "  This is separate from the ipykernel package so we can avoid doing imports until\n"
     ]
    },
    {
     "name": "stdout",
     "output_type": "stream",
     "text": [
      "Message: Unable to locate element: /html/body/main/div[2]/div/div[7]/div[1]/div[2]/button[2]\n",
      "Stacktrace:\n",
      "WebDriverError@chrome://remote/content/shared/webdriver/Errors.jsm:181:5\n",
      "NoSuchElementError@chrome://remote/content/shared/webdriver/Errors.jsm:393:5\n",
      "element.find/</<@chrome://remote/content/marionette/element.js:305:16\n",
      "\n",
      "Message: Unable to locate element: /html/body/main/div[2]/div/div[7]/div[1]/div[2]/button[2]\n",
      "Stacktrace:\n",
      "WebDriverError@chrome://remote/content/shared/webdriver/Errors.jsm:181:5\n",
      "NoSuchElementError@chrome://remote/content/shared/webdriver/Errors.jsm:393:5\n",
      "element.find/</<@chrome://remote/content/marionette/element.js:305:16\n",
      "\n"
     ]
    },
    {
     "name": "stderr",
     "output_type": "stream",
     "text": [
      "/home/lucas/miniconda3/lib/python3.7/site-packages/ipykernel_launcher.py:3: DeprecationWarning: firefox_profile has been deprecated, please pass in an Options object\n",
      "  This is separate from the ipykernel package so we can avoid doing imports until\n",
      "/home/lucas/miniconda3/lib/python3.7/site-packages/ipykernel_launcher.py:3: DeprecationWarning: firefox_profile has been deprecated, please pass in an Options object\n",
      "  This is separate from the ipykernel package so we can avoid doing imports until\n"
     ]
    },
    {
     "name": "stdout",
     "output_type": "stream",
     "text": [
      "Message: Unable to locate element: /html/body/main/div[2]/div/div[7]/div[1]/div[2]/button[2]\n",
      "Stacktrace:\n",
      "WebDriverError@chrome://remote/content/shared/webdriver/Errors.jsm:181:5\n",
      "NoSuchElementError@chrome://remote/content/shared/webdriver/Errors.jsm:393:5\n",
      "element.find/</<@chrome://remote/content/marionette/element.js:305:16\n",
      "\n"
     ]
    },
    {
     "name": "stderr",
     "output_type": "stream",
     "text": [
      "/home/lucas/miniconda3/lib/python3.7/site-packages/ipykernel_launcher.py:3: DeprecationWarning: firefox_profile has been deprecated, please pass in an Options object\n",
      "  This is separate from the ipykernel package so we can avoid doing imports until\n",
      "/home/lucas/miniconda3/lib/python3.7/site-packages/ipykernel_launcher.py:3: DeprecationWarning: firefox_profile has been deprecated, please pass in an Options object\n",
      "  This is separate from the ipykernel package so we can avoid doing imports until\n"
     ]
    },
    {
     "name": "stdout",
     "output_type": "stream",
     "text": [
      "Message: Unable to locate element: /html/body/main/div[2]/div/div[7]/div[1]/div[2]/button[2]\n",
      "Stacktrace:\n",
      "WebDriverError@chrome://remote/content/shared/webdriver/Errors.jsm:181:5\n",
      "NoSuchElementError@chrome://remote/content/shared/webdriver/Errors.jsm:393:5\n",
      "element.find/</<@chrome://remote/content/marionette/element.js:305:16\n",
      "\n",
      "Message: Unable to locate element: /html/body/main/div[2]/div/div[7]/div[1]/div[2]/button[2]\n",
      "Stacktrace:\n",
      "WebDriverError@chrome://remote/content/shared/webdriver/Errors.jsm:181:5\n",
      "NoSuchElementError@chrome://remote/content/shared/webdriver/Errors.jsm:393:5\n",
      "element.find/</<@chrome://remote/content/marionette/element.js:305:16\n",
      "\n"
     ]
    },
    {
     "name": "stderr",
     "output_type": "stream",
     "text": [
      "/home/lucas/miniconda3/lib/python3.7/site-packages/ipykernel_launcher.py:3: DeprecationWarning: firefox_profile has been deprecated, please pass in an Options object\n",
      "  This is separate from the ipykernel package so we can avoid doing imports until\n",
      "/home/lucas/miniconda3/lib/python3.7/site-packages/ipykernel_launcher.py:3: DeprecationWarning: firefox_profile has been deprecated, please pass in an Options object\n",
      "  This is separate from the ipykernel package so we can avoid doing imports until\n"
     ]
    },
    {
     "name": "stdout",
     "output_type": "stream",
     "text": [
      "Message: Unable to locate element: /html/body/main/div[2]/div/div[7]/div[1]/div[2]/button[2]\n",
      "Stacktrace:\n",
      "WebDriverError@chrome://remote/content/shared/webdriver/Errors.jsm:181:5\n",
      "NoSuchElementError@chrome://remote/content/shared/webdriver/Errors.jsm:393:5\n",
      "element.find/</<@chrome://remote/content/marionette/element.js:305:16\n",
      "\n"
     ]
    },
    {
     "name": "stderr",
     "output_type": "stream",
     "text": [
      "/home/lucas/miniconda3/lib/python3.7/site-packages/ipykernel_launcher.py:3: DeprecationWarning: firefox_profile has been deprecated, please pass in an Options object\n",
      "  This is separate from the ipykernel package so we can avoid doing imports until\n",
      "/home/lucas/miniconda3/lib/python3.7/site-packages/ipykernel_launcher.py:3: DeprecationWarning: firefox_profile has been deprecated, please pass in an Options object\n",
      "  This is separate from the ipykernel package so we can avoid doing imports until\n"
     ]
    },
    {
     "name": "stdout",
     "output_type": "stream",
     "text": [
      "Message: Unable to locate element: /html/body/main/div[2]/div/div[7]/div[1]/div[2]/button[2]\n",
      "Stacktrace:\n",
      "WebDriverError@chrome://remote/content/shared/webdriver/Errors.jsm:181:5\n",
      "NoSuchElementError@chrome://remote/content/shared/webdriver/Errors.jsm:393:5\n",
      "element.find/</<@chrome://remote/content/marionette/element.js:305:16\n",
      "\n",
      "Message: Unable to locate element: /html/body/main/div[2]/div/div[7]/div[1]/div[2]/button[2]\n",
      "Stacktrace:\n",
      "WebDriverError@chrome://remote/content/shared/webdriver/Errors.jsm:181:5\n",
      "NoSuchElementError@chrome://remote/content/shared/webdriver/Errors.jsm:393:5\n",
      "element.find/</<@chrome://remote/content/marionette/element.js:305:16\n",
      "\n"
     ]
    },
    {
     "name": "stderr",
     "output_type": "stream",
     "text": [
      "/home/lucas/miniconda3/lib/python3.7/site-packages/ipykernel_launcher.py:3: DeprecationWarning: firefox_profile has been deprecated, please pass in an Options object\n",
      "  This is separate from the ipykernel package so we can avoid doing imports until\n",
      "/home/lucas/miniconda3/lib/python3.7/site-packages/ipykernel_launcher.py:3: DeprecationWarning: firefox_profile has been deprecated, please pass in an Options object\n",
      "  This is separate from the ipykernel package so we can avoid doing imports until\n"
     ]
    },
    {
     "name": "stdout",
     "output_type": "stream",
     "text": [
      "Message: Unable to locate element: /html/body/main/div[2]/div/div[7]/div[1]/div[2]/button[2]\n",
      "Stacktrace:\n",
      "WebDriverError@chrome://remote/content/shared/webdriver/Errors.jsm:181:5\n",
      "NoSuchElementError@chrome://remote/content/shared/webdriver/Errors.jsm:393:5\n",
      "element.find/</<@chrome://remote/content/marionette/element.js:305:16\n",
      "\n"
     ]
    },
    {
     "name": "stderr",
     "output_type": "stream",
     "text": [
      "/home/lucas/miniconda3/lib/python3.7/site-packages/ipykernel_launcher.py:3: DeprecationWarning: firefox_profile has been deprecated, please pass in an Options object\n",
      "  This is separate from the ipykernel package so we can avoid doing imports until\n",
      "/home/lucas/miniconda3/lib/python3.7/site-packages/ipykernel_launcher.py:3: DeprecationWarning: firefox_profile has been deprecated, please pass in an Options object\n",
      "  This is separate from the ipykernel package so we can avoid doing imports until\n"
     ]
    },
    {
     "name": "stdout",
     "output_type": "stream",
     "text": [
      "Message: Unable to locate element: /html/body/main/div[2]/div/div[7]/div[1]/div[2]/button[2]\n",
      "Stacktrace:\n",
      "WebDriverError@chrome://remote/content/shared/webdriver/Errors.jsm:181:5\n",
      "NoSuchElementError@chrome://remote/content/shared/webdriver/Errors.jsm:393:5\n",
      "element.find/</<@chrome://remote/content/marionette/element.js:305:16\n",
      "\n",
      "Message: Unable to locate element: /html/body/main/div[2]/div/div[7]/div[1]/div[2]/button[2]\n",
      "Stacktrace:\n",
      "WebDriverError@chrome://remote/content/shared/webdriver/Errors.jsm:181:5\n",
      "NoSuchElementError@chrome://remote/content/shared/webdriver/Errors.jsm:393:5\n",
      "element.find/</<@chrome://remote/content/marionette/element.js:305:16\n",
      "\n"
     ]
    },
    {
     "name": "stderr",
     "output_type": "stream",
     "text": [
      "/home/lucas/miniconda3/lib/python3.7/site-packages/ipykernel_launcher.py:3: DeprecationWarning: firefox_profile has been deprecated, please pass in an Options object\n",
      "  This is separate from the ipykernel package so we can avoid doing imports until\n",
      "/home/lucas/miniconda3/lib/python3.7/site-packages/ipykernel_launcher.py:3: DeprecationWarning: firefox_profile has been deprecated, please pass in an Options object\n",
      "  This is separate from the ipykernel package so we can avoid doing imports until\n"
     ]
    },
    {
     "name": "stdout",
     "output_type": "stream",
     "text": [
      "Message: Unable to locate element: /html/body/main/div[2]/div/div[7]/div[1]/div[2]/button[2]\n",
      "Stacktrace:\n",
      "WebDriverError@chrome://remote/content/shared/webdriver/Errors.jsm:181:5\n",
      "NoSuchElementError@chrome://remote/content/shared/webdriver/Errors.jsm:393:5\n",
      "element.find/</<@chrome://remote/content/marionette/element.js:305:16\n",
      "\n"
     ]
    },
    {
     "name": "stderr",
     "output_type": "stream",
     "text": [
      "/home/lucas/miniconda3/lib/python3.7/site-packages/ipykernel_launcher.py:3: DeprecationWarning: firefox_profile has been deprecated, please pass in an Options object\n",
      "  This is separate from the ipykernel package so we can avoid doing imports until\n"
     ]
    },
    {
     "name": "stdout",
     "output_type": "stream",
     "text": [
      "Message: Unable to locate element: /html/body/main/div[2]/div/div[7]/div[1]/div[2]/button[2]\n",
      "Stacktrace:\n",
      "WebDriverError@chrome://remote/content/shared/webdriver/Errors.jsm:181:5\n",
      "NoSuchElementError@chrome://remote/content/shared/webdriver/Errors.jsm:393:5\n",
      "element.find/</<@chrome://remote/content/marionette/element.js:305:16\n",
      "\n"
     ]
    },
    {
     "name": "stderr",
     "output_type": "stream",
     "text": [
      "/home/lucas/miniconda3/lib/python3.7/site-packages/ipykernel_launcher.py:3: DeprecationWarning: firefox_profile has been deprecated, please pass in an Options object\n",
      "  This is separate from the ipykernel package so we can avoid doing imports until\n"
     ]
    },
    {
     "name": "stdout",
     "output_type": "stream",
     "text": [
      "Message: Unable to locate element: /html/body/main/div[2]/div/div[7]/div[1]/div[2]/button[2]\n",
      "Stacktrace:\n",
      "WebDriverError@chrome://remote/content/shared/webdriver/Errors.jsm:181:5\n",
      "NoSuchElementError@chrome://remote/content/shared/webdriver/Errors.jsm:393:5\n",
      "element.find/</<@chrome://remote/content/marionette/element.js:305:16\n",
      "\n",
      "Message: Unable to locate element: /html/body/main/div[2]/div/div[7]/div[1]/div[2]/button[2]\n",
      "Stacktrace:\n",
      "WebDriverError@chrome://remote/content/shared/webdriver/Errors.jsm:181:5\n",
      "NoSuchElementError@chrome://remote/content/shared/webdriver/Errors.jsm:393:5\n",
      "element.find/</<@chrome://remote/content/marionette/element.js:305:16\n",
      "\n"
     ]
    },
    {
     "name": "stderr",
     "output_type": "stream",
     "text": [
      "/home/lucas/miniconda3/lib/python3.7/site-packages/ipykernel_launcher.py:3: DeprecationWarning: firefox_profile has been deprecated, please pass in an Options object\n",
      "  This is separate from the ipykernel package so we can avoid doing imports until\n",
      "/home/lucas/miniconda3/lib/python3.7/site-packages/ipykernel_launcher.py:3: DeprecationWarning: firefox_profile has been deprecated, please pass in an Options object\n",
      "  This is separate from the ipykernel package so we can avoid doing imports until\n"
     ]
    },
    {
     "name": "stdout",
     "output_type": "stream",
     "text": [
      "Message: Unable to locate element: /html/body/main/div[2]/div/div[7]/div[1]/div[2]/button[2]\n",
      "Stacktrace:\n",
      "WebDriverError@chrome://remote/content/shared/webdriver/Errors.jsm:181:5\n",
      "NoSuchElementError@chrome://remote/content/shared/webdriver/Errors.jsm:393:5\n",
      "element.find/</<@chrome://remote/content/marionette/element.js:305:16\n",
      "\n"
     ]
    },
    {
     "name": "stderr",
     "output_type": "stream",
     "text": [
      "/home/lucas/miniconda3/lib/python3.7/site-packages/ipykernel_launcher.py:3: DeprecationWarning: firefox_profile has been deprecated, please pass in an Options object\n",
      "  This is separate from the ipykernel package so we can avoid doing imports until\n"
     ]
    },
    {
     "name": "stdout",
     "output_type": "stream",
     "text": [
      "Message: Unable to locate element: /html/body/main/div[2]/div/div[7]/div[1]/div[2]/button[2]\n",
      "Stacktrace:\n",
      "WebDriverError@chrome://remote/content/shared/webdriver/Errors.jsm:181:5\n",
      "NoSuchElementError@chrome://remote/content/shared/webdriver/Errors.jsm:393:5\n",
      "element.find/</<@chrome://remote/content/marionette/element.js:305:16\n",
      "\n"
     ]
    },
    {
     "name": "stderr",
     "output_type": "stream",
     "text": [
      "/home/lucas/miniconda3/lib/python3.7/site-packages/ipykernel_launcher.py:3: DeprecationWarning: firefox_profile has been deprecated, please pass in an Options object\n",
      "  This is separate from the ipykernel package so we can avoid doing imports until\n"
     ]
    },
    {
     "name": "stdout",
     "output_type": "stream",
     "text": [
      "Message: Unable to locate element: /html/body/main/div[2]/div/div[7]/div[1]/div[2]/button[2]\n",
      "Stacktrace:\n",
      "WebDriverError@chrome://remote/content/shared/webdriver/Errors.jsm:181:5\n",
      "NoSuchElementError@chrome://remote/content/shared/webdriver/Errors.jsm:393:5\n",
      "element.find/</<@chrome://remote/content/marionette/element.js:305:16\n",
      "\n",
      "Message: Unable to locate element: /html/body/main/div[2]/div/div[7]/div[1]/div[2]/button[2]\n",
      "Stacktrace:\n",
      "WebDriverError@chrome://remote/content/shared/webdriver/Errors.jsm:181:5\n",
      "NoSuchElementError@chrome://remote/content/shared/webdriver/Errors.jsm:393:5\n",
      "element.find/</<@chrome://remote/content/marionette/element.js:305:16\n",
      "\n"
     ]
    },
    {
     "name": "stderr",
     "output_type": "stream",
     "text": [
      "/home/lucas/miniconda3/lib/python3.7/site-packages/ipykernel_launcher.py:3: DeprecationWarning: firefox_profile has been deprecated, please pass in an Options object\n",
      "  This is separate from the ipykernel package so we can avoid doing imports until\n",
      "/home/lucas/miniconda3/lib/python3.7/site-packages/ipykernel_launcher.py:3: DeprecationWarning: firefox_profile has been deprecated, please pass in an Options object\n",
      "  This is separate from the ipykernel package so we can avoid doing imports until\n"
     ]
    },
    {
     "name": "stdout",
     "output_type": "stream",
     "text": [
      "Message: Unable to locate element: /html/body/main/div[2]/div/div[7]/div[1]/div[2]/button[2]\n",
      "Stacktrace:\n",
      "WebDriverError@chrome://remote/content/shared/webdriver/Errors.jsm:181:5\n",
      "NoSuchElementError@chrome://remote/content/shared/webdriver/Errors.jsm:393:5\n",
      "element.find/</<@chrome://remote/content/marionette/element.js:305:16\n",
      "\n"
     ]
    },
    {
     "name": "stderr",
     "output_type": "stream",
     "text": [
      "/home/lucas/miniconda3/lib/python3.7/site-packages/ipykernel_launcher.py:3: DeprecationWarning: firefox_profile has been deprecated, please pass in an Options object\n",
      "  This is separate from the ipykernel package so we can avoid doing imports until\n"
     ]
    },
    {
     "name": "stdout",
     "output_type": "stream",
     "text": [
      "Message: Unable to locate element: /html/body/main/div[2]/div/div[7]/div[1]/div[2]/button[2]\n",
      "Stacktrace:\n",
      "WebDriverError@chrome://remote/content/shared/webdriver/Errors.jsm:181:5\n",
      "NoSuchElementError@chrome://remote/content/shared/webdriver/Errors.jsm:393:5\n",
      "element.find/</<@chrome://remote/content/marionette/element.js:305:16\n",
      "\n"
     ]
    },
    {
     "name": "stderr",
     "output_type": "stream",
     "text": [
      "/home/lucas/miniconda3/lib/python3.7/site-packages/ipykernel_launcher.py:3: DeprecationWarning: firefox_profile has been deprecated, please pass in an Options object\n",
      "  This is separate from the ipykernel package so we can avoid doing imports until\n"
     ]
    },
    {
     "name": "stdout",
     "output_type": "stream",
     "text": [
      "Message: Unable to locate element: /html/body/main/div[2]/div/div[7]/div[1]/div[2]/button[2]\n",
      "Stacktrace:\n",
      "WebDriverError@chrome://remote/content/shared/webdriver/Errors.jsm:181:5\n",
      "NoSuchElementError@chrome://remote/content/shared/webdriver/Errors.jsm:393:5\n",
      "element.find/</<@chrome://remote/content/marionette/element.js:305:16\n",
      "\n",
      "Message: Unable to locate element: /html/body/main/div[2]/div/div[7]/div[1]/div[2]/button[2]\n",
      "Stacktrace:\n",
      "WebDriverError@chrome://remote/content/shared/webdriver/Errors.jsm:181:5\n",
      "NoSuchElementError@chrome://remote/content/shared/webdriver/Errors.jsm:393:5\n",
      "element.find/</<@chrome://remote/content/marionette/element.js:305:16\n",
      "\n"
     ]
    },
    {
     "name": "stderr",
     "output_type": "stream",
     "text": [
      "/home/lucas/miniconda3/lib/python3.7/site-packages/ipykernel_launcher.py:3: DeprecationWarning: firefox_profile has been deprecated, please pass in an Options object\n",
      "  This is separate from the ipykernel package so we can avoid doing imports until\n"
     ]
    },
    {
     "name": "stdout",
     "output_type": "stream",
     "text": [
      "Message: Unable to locate element: /html/body/main/div[2]/div/div[7]/div[1]/div[2]/button[2]\n",
      "Stacktrace:\n",
      "WebDriverError@chrome://remote/content/shared/webdriver/Errors.jsm:181:5\n",
      "NoSuchElementError@chrome://remote/content/shared/webdriver/Errors.jsm:393:5\n",
      "element.find/</<@chrome://remote/content/marionette/element.js:305:16\n",
      "\n"
     ]
    },
    {
     "name": "stderr",
     "output_type": "stream",
     "text": [
      "/home/lucas/miniconda3/lib/python3.7/site-packages/ipykernel_launcher.py:3: DeprecationWarning: firefox_profile has been deprecated, please pass in an Options object\n",
      "  This is separate from the ipykernel package so we can avoid doing imports until\n",
      "/home/lucas/miniconda3/lib/python3.7/site-packages/ipykernel_launcher.py:3: DeprecationWarning: firefox_profile has been deprecated, please pass in an Options object\n",
      "  This is separate from the ipykernel package so we can avoid doing imports until\n"
     ]
    },
    {
     "name": "stdout",
     "output_type": "stream",
     "text": [
      "Message: Unable to locate element: /html/body/main/div[2]/div/div[7]/div[1]/div[2]/button[2]\n",
      "Stacktrace:\n",
      "WebDriverError@chrome://remote/content/shared/webdriver/Errors.jsm:181:5\n",
      "NoSuchElementError@chrome://remote/content/shared/webdriver/Errors.jsm:393:5\n",
      "element.find/</<@chrome://remote/content/marionette/element.js:305:16\n",
      "\n"
     ]
    },
    {
     "name": "stderr",
     "output_type": "stream",
     "text": [
      "/home/lucas/miniconda3/lib/python3.7/site-packages/ipykernel_launcher.py:3: DeprecationWarning: firefox_profile has been deprecated, please pass in an Options object\n",
      "  This is separate from the ipykernel package so we can avoid doing imports until\n"
     ]
    },
    {
     "name": "stdout",
     "output_type": "stream",
     "text": [
      "Message: Unable to locate element: /html/body/main/div[2]/div/div[7]/div[1]/div[2]/button[2]\n",
      "Stacktrace:\n",
      "WebDriverError@chrome://remote/content/shared/webdriver/Errors.jsm:181:5\n",
      "NoSuchElementError@chrome://remote/content/shared/webdriver/Errors.jsm:393:5\n",
      "element.find/</<@chrome://remote/content/marionette/element.js:305:16\n",
      "\n",
      "Message: Unable to locate element: /html/body/main/div[2]/div/div[7]/div[1]/div[2]/button[2]\n",
      "Stacktrace:\n",
      "WebDriverError@chrome://remote/content/shared/webdriver/Errors.jsm:181:5\n",
      "NoSuchElementError@chrome://remote/content/shared/webdriver/Errors.jsm:393:5\n",
      "element.find/</<@chrome://remote/content/marionette/element.js:305:16\n",
      "\n"
     ]
    },
    {
     "name": "stderr",
     "output_type": "stream",
     "text": [
      "/home/lucas/miniconda3/lib/python3.7/site-packages/ipykernel_launcher.py:3: DeprecationWarning: firefox_profile has been deprecated, please pass in an Options object\n",
      "  This is separate from the ipykernel package so we can avoid doing imports until\n",
      "/home/lucas/miniconda3/lib/python3.7/site-packages/ipykernel_launcher.py:3: DeprecationWarning: firefox_profile has been deprecated, please pass in an Options object\n",
      "  This is separate from the ipykernel package so we can avoid doing imports until\n",
      "/home/lucas/miniconda3/lib/python3.7/site-packages/ipykernel_launcher.py:3: DeprecationWarning: firefox_profile has been deprecated, please pass in an Options object\n",
      "  This is separate from the ipykernel package so we can avoid doing imports until\n"
     ]
    },
    {
     "name": "stdout",
     "output_type": "stream",
     "text": [
      "Message: Unable to locate element: /html/body/main/div[2]/div/div[7]/div[1]/div[2]/button[2]\n",
      "Stacktrace:\n",
      "WebDriverError@chrome://remote/content/shared/webdriver/Errors.jsm:181:5\n",
      "NoSuchElementError@chrome://remote/content/shared/webdriver/Errors.jsm:393:5\n",
      "element.find/</<@chrome://remote/content/marionette/element.js:305:16\n",
      "\n"
     ]
    },
    {
     "name": "stderr",
     "output_type": "stream",
     "text": [
      "/home/lucas/miniconda3/lib/python3.7/site-packages/ipykernel_launcher.py:3: DeprecationWarning: firefox_profile has been deprecated, please pass in an Options object\n",
      "  This is separate from the ipykernel package so we can avoid doing imports until\n"
     ]
    },
    {
     "name": "stdout",
     "output_type": "stream",
     "text": [
      "Message: Unable to locate element: /html/body/main/div[2]/div/div[7]/div[1]/div[2]/button[2]\n",
      "Stacktrace:\n",
      "WebDriverError@chrome://remote/content/shared/webdriver/Errors.jsm:181:5\n",
      "NoSuchElementError@chrome://remote/content/shared/webdriver/Errors.jsm:393:5\n",
      "element.find/</<@chrome://remote/content/marionette/element.js:305:16\n",
      "\n"
     ]
    },
    {
     "name": "stderr",
     "output_type": "stream",
     "text": [
      "/home/lucas/miniconda3/lib/python3.7/site-packages/ipykernel_launcher.py:3: DeprecationWarning: firefox_profile has been deprecated, please pass in an Options object\n",
      "  This is separate from the ipykernel package so we can avoid doing imports until\n",
      "/home/lucas/miniconda3/lib/python3.7/site-packages/ipykernel_launcher.py:3: DeprecationWarning: firefox_profile has been deprecated, please pass in an Options object\n",
      "  This is separate from the ipykernel package so we can avoid doing imports until\n",
      "/home/lucas/miniconda3/lib/python3.7/site-packages/ipykernel_launcher.py:3: DeprecationWarning: firefox_profile has been deprecated, please pass in an Options object\n",
      "  This is separate from the ipykernel package so we can avoid doing imports until\n",
      "/home/lucas/miniconda3/lib/python3.7/site-packages/ipykernel_launcher.py:3: DeprecationWarning: firefox_profile has been deprecated, please pass in an Options object\n",
      "  This is separate from the ipykernel package so we can avoid doing imports until\n"
     ]
    },
    {
     "name": "stdout",
     "output_type": "stream",
     "text": [
      "Message: Unable to locate element: /html/body/main/div[2]/div/div[7]/div[1]/div[2]/button[2]\n",
      "Stacktrace:\n",
      "WebDriverError@chrome://remote/content/shared/webdriver/Errors.jsm:181:5\n",
      "NoSuchElementError@chrome://remote/content/shared/webdriver/Errors.jsm:393:5\n",
      "element.find/</<@chrome://remote/content/marionette/element.js:305:16\n",
      "\n",
      "Message: Unable to locate element: /html/body/main/div[2]/div/div[7]/div[1]/div[2]/button[2]\n",
      "Stacktrace:\n",
      "WebDriverError@chrome://remote/content/shared/webdriver/Errors.jsm:181:5\n",
      "NoSuchElementError@chrome://remote/content/shared/webdriver/Errors.jsm:393:5\n",
      "element.find/</<@chrome://remote/content/marionette/element.js:305:16\n",
      "\n"
     ]
    },
    {
     "name": "stderr",
     "output_type": "stream",
     "text": [
      "/home/lucas/miniconda3/lib/python3.7/site-packages/ipykernel_launcher.py:3: DeprecationWarning: firefox_profile has been deprecated, please pass in an Options object\n",
      "  This is separate from the ipykernel package so we can avoid doing imports until\n",
      "/home/lucas/miniconda3/lib/python3.7/site-packages/ipykernel_launcher.py:3: DeprecationWarning: firefox_profile has been deprecated, please pass in an Options object\n",
      "  This is separate from the ipykernel package so we can avoid doing imports until\n"
     ]
    },
    {
     "name": "stdout",
     "output_type": "stream",
     "text": [
      "Message: Unable to locate element: /html/body/main/div[2]/div/div[7]/div[1]/div[2]/button[2]\n",
      "Stacktrace:\n",
      "WebDriverError@chrome://remote/content/shared/webdriver/Errors.jsm:181:5\n",
      "NoSuchElementError@chrome://remote/content/shared/webdriver/Errors.jsm:393:5\n",
      "element.find/</<@chrome://remote/content/marionette/element.js:305:16\n",
      "\n"
     ]
    },
    {
     "name": "stderr",
     "output_type": "stream",
     "text": [
      "/home/lucas/miniconda3/lib/python3.7/site-packages/ipykernel_launcher.py:3: DeprecationWarning: firefox_profile has been deprecated, please pass in an Options object\n",
      "  This is separate from the ipykernel package so we can avoid doing imports until\n"
     ]
    },
    {
     "name": "stdout",
     "output_type": "stream",
     "text": [
      "Message: Unable to locate element: /html/body/main/div[2]/div/div[7]/div[1]/div[2]/button[2]\n",
      "Stacktrace:\n",
      "WebDriverError@chrome://remote/content/shared/webdriver/Errors.jsm:181:5\n",
      "NoSuchElementError@chrome://remote/content/shared/webdriver/Errors.jsm:393:5\n",
      "element.find/</<@chrome://remote/content/marionette/element.js:305:16\n",
      "\n"
     ]
    },
    {
     "name": "stderr",
     "output_type": "stream",
     "text": [
      "/home/lucas/miniconda3/lib/python3.7/site-packages/ipykernel_launcher.py:3: DeprecationWarning: firefox_profile has been deprecated, please pass in an Options object\n",
      "  This is separate from the ipykernel package so we can avoid doing imports until\n"
     ]
    },
    {
     "name": "stdout",
     "output_type": "stream",
     "text": [
      "Message: Unable to locate element: /html/body/main/div[2]/div/div[7]/div[1]/div[2]/button[2]\n",
      "Stacktrace:\n",
      "WebDriverError@chrome://remote/content/shared/webdriver/Errors.jsm:181:5\n",
      "NoSuchElementError@chrome://remote/content/shared/webdriver/Errors.jsm:393:5\n",
      "element.find/</<@chrome://remote/content/marionette/element.js:305:16\n",
      "\n",
      "Message: Unable to locate element: /html/body/main/div[2]/div/div[7]/div[1]/div[2]/button[2]\n",
      "Stacktrace:\n",
      "WebDriverError@chrome://remote/content/shared/webdriver/Errors.jsm:181:5\n",
      "NoSuchElementError@chrome://remote/content/shared/webdriver/Errors.jsm:393:5\n",
      "element.find/</<@chrome://remote/content/marionette/element.js:305:16\n",
      "\n"
     ]
    },
    {
     "name": "stderr",
     "output_type": "stream",
     "text": [
      "/home/lucas/miniconda3/lib/python3.7/site-packages/ipykernel_launcher.py:3: DeprecationWarning: firefox_profile has been deprecated, please pass in an Options object\n",
      "  This is separate from the ipykernel package so we can avoid doing imports until\n",
      "/home/lucas/miniconda3/lib/python3.7/site-packages/ipykernel_launcher.py:3: DeprecationWarning: firefox_profile has been deprecated, please pass in an Options object\n",
      "  This is separate from the ipykernel package so we can avoid doing imports until\n"
     ]
    },
    {
     "name": "stdout",
     "output_type": "stream",
     "text": [
      "Message: Unable to locate element: /html/body/main/div[2]/div/div[7]/div[1]/div[2]/button[2]\n",
      "Stacktrace:\n",
      "WebDriverError@chrome://remote/content/shared/webdriver/Errors.jsm:181:5\n",
      "NoSuchElementError@chrome://remote/content/shared/webdriver/Errors.jsm:393:5\n",
      "element.find/</<@chrome://remote/content/marionette/element.js:305:16\n",
      "\n"
     ]
    },
    {
     "name": "stderr",
     "output_type": "stream",
     "text": [
      "/home/lucas/miniconda3/lib/python3.7/site-packages/ipykernel_launcher.py:3: DeprecationWarning: firefox_profile has been deprecated, please pass in an Options object\n",
      "  This is separate from the ipykernel package so we can avoid doing imports until\n",
      "/home/lucas/miniconda3/lib/python3.7/site-packages/ipykernel_launcher.py:3: DeprecationWarning: firefox_profile has been deprecated, please pass in an Options object\n",
      "  This is separate from the ipykernel package so we can avoid doing imports until\n"
     ]
    },
    {
     "name": "stdout",
     "output_type": "stream",
     "text": [
      "Message: Unable to locate element: /html/body/main/div[2]/div/div[7]/div[1]/div[2]/button[2]\n",
      "Stacktrace:\n",
      "WebDriverError@chrome://remote/content/shared/webdriver/Errors.jsm:181:5\n",
      "NoSuchElementError@chrome://remote/content/shared/webdriver/Errors.jsm:393:5\n",
      "element.find/</<@chrome://remote/content/marionette/element.js:305:16\n",
      "\n"
     ]
    },
    {
     "name": "stderr",
     "output_type": "stream",
     "text": [
      "/home/lucas/miniconda3/lib/python3.7/site-packages/ipykernel_launcher.py:3: DeprecationWarning: firefox_profile has been deprecated, please pass in an Options object\n",
      "  This is separate from the ipykernel package so we can avoid doing imports until\n",
      "/home/lucas/miniconda3/lib/python3.7/site-packages/ipykernel_launcher.py:3: DeprecationWarning: firefox_profile has been deprecated, please pass in an Options object\n",
      "  This is separate from the ipykernel package so we can avoid doing imports until\n"
     ]
    },
    {
     "name": "stdout",
     "output_type": "stream",
     "text": [
      "Message: Unable to locate element: /html/body/main/div[2]/div/div[7]/div[1]/div[2]/button[2]\n",
      "Stacktrace:\n",
      "WebDriverError@chrome://remote/content/shared/webdriver/Errors.jsm:181:5\n",
      "NoSuchElementError@chrome://remote/content/shared/webdriver/Errors.jsm:393:5\n",
      "element.find/</<@chrome://remote/content/marionette/element.js:305:16\n",
      "\n"
     ]
    },
    {
     "name": "stderr",
     "output_type": "stream",
     "text": [
      "/home/lucas/miniconda3/lib/python3.7/site-packages/ipykernel_launcher.py:3: DeprecationWarning: firefox_profile has been deprecated, please pass in an Options object\n",
      "  This is separate from the ipykernel package so we can avoid doing imports until\n",
      "/home/lucas/miniconda3/lib/python3.7/site-packages/ipykernel_launcher.py:3: DeprecationWarning: firefox_profile has been deprecated, please pass in an Options object\n",
      "  This is separate from the ipykernel package so we can avoid doing imports until\n"
     ]
    },
    {
     "name": "stdout",
     "output_type": "stream",
     "text": [
      "Message: Unable to locate element: /html/body/main/div[2]/div/div[7]/div[1]/div[2]/button[2]\n",
      "Stacktrace:\n",
      "WebDriverError@chrome://remote/content/shared/webdriver/Errors.jsm:181:5\n",
      "NoSuchElementError@chrome://remote/content/shared/webdriver/Errors.jsm:393:5\n",
      "element.find/</<@chrome://remote/content/marionette/element.js:305:16\n",
      "\n",
      "Message: Unable to locate element: /html/body/main/div[2]/div/div[7]/div[1]/div[2]/button[2]\n",
      "Stacktrace:\n",
      "WebDriverError@chrome://remote/content/shared/webdriver/Errors.jsm:181:5\n",
      "NoSuchElementError@chrome://remote/content/shared/webdriver/Errors.jsm:393:5\n",
      "element.find/</<@chrome://remote/content/marionette/element.js:305:16\n",
      "\n"
     ]
    },
    {
     "name": "stderr",
     "output_type": "stream",
     "text": [
      "/home/lucas/miniconda3/lib/python3.7/site-packages/ipykernel_launcher.py:3: DeprecationWarning: firefox_profile has been deprecated, please pass in an Options object\n",
      "  This is separate from the ipykernel package so we can avoid doing imports until\n",
      "/home/lucas/miniconda3/lib/python3.7/site-packages/ipykernel_launcher.py:3: DeprecationWarning: firefox_profile has been deprecated, please pass in an Options object\n",
      "  This is separate from the ipykernel package so we can avoid doing imports until\n"
     ]
    },
    {
     "name": "stdout",
     "output_type": "stream",
     "text": [
      "Message: Unable to locate element: /html/body/main/div[2]/div/div[7]/div[1]/div[2]/button[2]\n",
      "Stacktrace:\n",
      "WebDriverError@chrome://remote/content/shared/webdriver/Errors.jsm:181:5\n",
      "NoSuchElementError@chrome://remote/content/shared/webdriver/Errors.jsm:393:5\n",
      "element.find/</<@chrome://remote/content/marionette/element.js:305:16\n",
      "\n",
      "Message: Unable to locate element: /html/body/main/div[2]/div/div[7]/div[1]/div[2]/button[2]\n",
      "Stacktrace:\n",
      "WebDriverError@chrome://remote/content/shared/webdriver/Errors.jsm:181:5\n",
      "NoSuchElementError@chrome://remote/content/shared/webdriver/Errors.jsm:393:5\n",
      "element.find/</<@chrome://remote/content/marionette/element.js:305:16\n",
      "\n"
     ]
    },
    {
     "name": "stderr",
     "output_type": "stream",
     "text": [
      "/home/lucas/miniconda3/lib/python3.7/site-packages/ipykernel_launcher.py:3: DeprecationWarning: firefox_profile has been deprecated, please pass in an Options object\n",
      "  This is separate from the ipykernel package so we can avoid doing imports until\n",
      "/home/lucas/miniconda3/lib/python3.7/site-packages/ipykernel_launcher.py:3: DeprecationWarning: firefox_profile has been deprecated, please pass in an Options object\n",
      "  This is separate from the ipykernel package so we can avoid doing imports until\n"
     ]
    },
    {
     "name": "stdout",
     "output_type": "stream",
     "text": [
      "Message: Unable to locate element: /html/body/main/div[2]/div/div[7]/div[1]/div[2]/button[2]\n",
      "Stacktrace:\n",
      "WebDriverError@chrome://remote/content/shared/webdriver/Errors.jsm:181:5\n",
      "NoSuchElementError@chrome://remote/content/shared/webdriver/Errors.jsm:393:5\n",
      "element.find/</<@chrome://remote/content/marionette/element.js:305:16\n",
      "\n"
     ]
    },
    {
     "name": "stderr",
     "output_type": "stream",
     "text": [
      "/home/lucas/miniconda3/lib/python3.7/site-packages/ipykernel_launcher.py:3: DeprecationWarning: firefox_profile has been deprecated, please pass in an Options object\n",
      "  This is separate from the ipykernel package so we can avoid doing imports until\n"
     ]
    },
    {
     "name": "stdout",
     "output_type": "stream",
     "text": [
      "Message: Unable to locate element: /html/body/main/div[2]/div/div[7]/div[1]/div[2]/button[2]\n",
      "Stacktrace:\n",
      "WebDriverError@chrome://remote/content/shared/webdriver/Errors.jsm:181:5\n",
      "NoSuchElementError@chrome://remote/content/shared/webdriver/Errors.jsm:393:5\n",
      "element.find/</<@chrome://remote/content/marionette/element.js:305:16\n",
      "\n",
      "Message: Unable to locate element: /html/body/main/div[2]/div/div[7]/div[1]/div[2]/button[2]\n",
      "Stacktrace:\n",
      "WebDriverError@chrome://remote/content/shared/webdriver/Errors.jsm:181:5\n",
      "NoSuchElementError@chrome://remote/content/shared/webdriver/Errors.jsm:393:5\n",
      "element.find/</<@chrome://remote/content/marionette/element.js:305:16\n",
      "\n"
     ]
    },
    {
     "name": "stderr",
     "output_type": "stream",
     "text": [
      "/home/lucas/miniconda3/lib/python3.7/site-packages/ipykernel_launcher.py:3: DeprecationWarning: firefox_profile has been deprecated, please pass in an Options object\n",
      "  This is separate from the ipykernel package so we can avoid doing imports until\n",
      "/home/lucas/miniconda3/lib/python3.7/site-packages/ipykernel_launcher.py:3: DeprecationWarning: firefox_profile has been deprecated, please pass in an Options object\n",
      "  This is separate from the ipykernel package so we can avoid doing imports until\n",
      "/home/lucas/miniconda3/lib/python3.7/site-packages/ipykernel_launcher.py:3: DeprecationWarning: firefox_profile has been deprecated, please pass in an Options object\n",
      "  This is separate from the ipykernel package so we can avoid doing imports until\n"
     ]
    },
    {
     "name": "stdout",
     "output_type": "stream",
     "text": [
      "Message: Unable to locate element: /html/body/main/div[2]/div/div[7]/div[1]/div[2]/button[2]\n",
      "Stacktrace:\n",
      "WebDriverError@chrome://remote/content/shared/webdriver/Errors.jsm:181:5\n",
      "NoSuchElementError@chrome://remote/content/shared/webdriver/Errors.jsm:393:5\n",
      "element.find/</<@chrome://remote/content/marionette/element.js:305:16\n",
      "\n"
     ]
    },
    {
     "name": "stderr",
     "output_type": "stream",
     "text": [
      "/home/lucas/miniconda3/lib/python3.7/site-packages/ipykernel_launcher.py:3: DeprecationWarning: firefox_profile has been deprecated, please pass in an Options object\n",
      "  This is separate from the ipykernel package so we can avoid doing imports until\n"
     ]
    },
    {
     "name": "stdout",
     "output_type": "stream",
     "text": [
      "Message: Unable to locate element: /html/body/main/div[2]/div/div[7]/div[1]/div[2]/button[2]\n",
      "Stacktrace:\n",
      "WebDriverError@chrome://remote/content/shared/webdriver/Errors.jsm:181:5\n",
      "NoSuchElementError@chrome://remote/content/shared/webdriver/Errors.jsm:393:5\n",
      "element.find/</<@chrome://remote/content/marionette/element.js:305:16\n",
      "\n"
     ]
    },
    {
     "name": "stderr",
     "output_type": "stream",
     "text": [
      "/home/lucas/miniconda3/lib/python3.7/site-packages/ipykernel_launcher.py:3: DeprecationWarning: firefox_profile has been deprecated, please pass in an Options object\n",
      "  This is separate from the ipykernel package so we can avoid doing imports until\n",
      "/home/lucas/miniconda3/lib/python3.7/site-packages/ipykernel_launcher.py:3: DeprecationWarning: firefox_profile has been deprecated, please pass in an Options object\n",
      "  This is separate from the ipykernel package so we can avoid doing imports until\n",
      "/home/lucas/miniconda3/lib/python3.7/site-packages/ipykernel_launcher.py:3: DeprecationWarning: firefox_profile has been deprecated, please pass in an Options object\n",
      "  This is separate from the ipykernel package so we can avoid doing imports until\n"
     ]
    },
    {
     "name": "stdout",
     "output_type": "stream",
     "text": [
      "Message: Unable to locate element: /html/body/main/div[2]/div/div[7]/div[1]/div[2]/button[2]\n",
      "Stacktrace:\n",
      "WebDriverError@chrome://remote/content/shared/webdriver/Errors.jsm:181:5\n",
      "NoSuchElementError@chrome://remote/content/shared/webdriver/Errors.jsm:393:5\n",
      "element.find/</<@chrome://remote/content/marionette/element.js:305:16\n",
      "\n"
     ]
    },
    {
     "name": "stderr",
     "output_type": "stream",
     "text": [
      "/home/lucas/miniconda3/lib/python3.7/site-packages/ipykernel_launcher.py:3: DeprecationWarning: firefox_profile has been deprecated, please pass in an Options object\n",
      "  This is separate from the ipykernel package so we can avoid doing imports until\n"
     ]
    },
    {
     "name": "stdout",
     "output_type": "stream",
     "text": [
      "Message: Unable to locate element: /html/body/main/div[2]/div/div[7]/div[1]/div[2]/button[2]\n",
      "Stacktrace:\n",
      "WebDriverError@chrome://remote/content/shared/webdriver/Errors.jsm:181:5\n",
      "NoSuchElementError@chrome://remote/content/shared/webdriver/Errors.jsm:393:5\n",
      "element.find/</<@chrome://remote/content/marionette/element.js:305:16\n",
      "\n"
     ]
    },
    {
     "name": "stderr",
     "output_type": "stream",
     "text": [
      "/home/lucas/miniconda3/lib/python3.7/site-packages/ipykernel_launcher.py:3: DeprecationWarning: firefox_profile has been deprecated, please pass in an Options object\n",
      "  This is separate from the ipykernel package so we can avoid doing imports until\n"
     ]
    },
    {
     "name": "stdout",
     "output_type": "stream",
     "text": [
      "Message: Unable to locate element: /html/body/main/div[2]/div/div[7]/div[1]/div[2]/button[2]\n",
      "Stacktrace:\n",
      "WebDriverError@chrome://remote/content/shared/webdriver/Errors.jsm:181:5\n",
      "NoSuchElementError@chrome://remote/content/shared/webdriver/Errors.jsm:393:5\n",
      "element.find/</<@chrome://remote/content/marionette/element.js:305:16\n",
      "\n"
     ]
    },
    {
     "name": "stderr",
     "output_type": "stream",
     "text": [
      "/home/lucas/miniconda3/lib/python3.7/site-packages/ipykernel_launcher.py:3: DeprecationWarning: firefox_profile has been deprecated, please pass in an Options object\n",
      "  This is separate from the ipykernel package so we can avoid doing imports until\n",
      "/home/lucas/miniconda3/lib/python3.7/site-packages/ipykernel_launcher.py:3: DeprecationWarning: firefox_profile has been deprecated, please pass in an Options object\n",
      "  This is separate from the ipykernel package so we can avoid doing imports until\n"
     ]
    },
    {
     "name": "stdout",
     "output_type": "stream",
     "text": [
      "Message: Unable to locate element: /html/body/main/div[2]/div/div[7]/div[1]/div[2]/button[2]\n",
      "Stacktrace:\n",
      "WebDriverError@chrome://remote/content/shared/webdriver/Errors.jsm:181:5\n",
      "NoSuchElementError@chrome://remote/content/shared/webdriver/Errors.jsm:393:5\n",
      "element.find/</<@chrome://remote/content/marionette/element.js:305:16\n",
      "\n"
     ]
    },
    {
     "name": "stderr",
     "output_type": "stream",
     "text": [
      "/home/lucas/miniconda3/lib/python3.7/site-packages/ipykernel_launcher.py:3: DeprecationWarning: firefox_profile has been deprecated, please pass in an Options object\n",
      "  This is separate from the ipykernel package so we can avoid doing imports until\n"
     ]
    },
    {
     "name": "stdout",
     "output_type": "stream",
     "text": [
      "Message: Unable to locate element: /html/body/main/div[2]/div/div[7]/div[1]/div[2]/button[2]\n",
      "Stacktrace:\n",
      "WebDriverError@chrome://remote/content/shared/webdriver/Errors.jsm:181:5\n",
      "NoSuchElementError@chrome://remote/content/shared/webdriver/Errors.jsm:393:5\n",
      "element.find/</<@chrome://remote/content/marionette/element.js:305:16\n",
      "\n"
     ]
    },
    {
     "name": "stderr",
     "output_type": "stream",
     "text": [
      "/home/lucas/miniconda3/lib/python3.7/site-packages/ipykernel_launcher.py:3: DeprecationWarning: firefox_profile has been deprecated, please pass in an Options object\n",
      "  This is separate from the ipykernel package so we can avoid doing imports until\n"
     ]
    },
    {
     "name": "stdout",
     "output_type": "stream",
     "text": [
      "Message: Unable to locate element: /html/body/main/div[2]/div/div[7]/div[1]/div[2]/button[2]\n",
      "Stacktrace:\n",
      "WebDriverError@chrome://remote/content/shared/webdriver/Errors.jsm:181:5\n",
      "NoSuchElementError@chrome://remote/content/shared/webdriver/Errors.jsm:393:5\n",
      "element.find/</<@chrome://remote/content/marionette/element.js:305:16\n",
      "\n",
      "Message: Unable to locate element: /html/body/main/div[2]/div/div[7]/div[1]/div[2]/button[2]\n",
      "Stacktrace:\n",
      "WebDriverError@chrome://remote/content/shared/webdriver/Errors.jsm:181:5\n",
      "NoSuchElementError@chrome://remote/content/shared/webdriver/Errors.jsm:393:5\n",
      "element.find/</<@chrome://remote/content/marionette/element.js:305:16\n",
      "\n"
     ]
    },
    {
     "name": "stderr",
     "output_type": "stream",
     "text": [
      "/home/lucas/miniconda3/lib/python3.7/site-packages/ipykernel_launcher.py:3: DeprecationWarning: firefox_profile has been deprecated, please pass in an Options object\n",
      "  This is separate from the ipykernel package so we can avoid doing imports until\n",
      "/home/lucas/miniconda3/lib/python3.7/site-packages/ipykernel_launcher.py:3: DeprecationWarning: firefox_profile has been deprecated, please pass in an Options object\n",
      "  This is separate from the ipykernel package so we can avoid doing imports until\n",
      "/home/lucas/miniconda3/lib/python3.7/site-packages/ipykernel_launcher.py:3: DeprecationWarning: firefox_profile has been deprecated, please pass in an Options object\n",
      "  This is separate from the ipykernel package so we can avoid doing imports until\n"
     ]
    },
    {
     "name": "stdout",
     "output_type": "stream",
     "text": [
      "Message: Unable to locate element: /html/body/main/div[2]/div/div[7]/div[1]/div[2]/button[2]\n",
      "Stacktrace:\n",
      "WebDriverError@chrome://remote/content/shared/webdriver/Errors.jsm:181:5\n",
      "NoSuchElementError@chrome://remote/content/shared/webdriver/Errors.jsm:393:5\n",
      "element.find/</<@chrome://remote/content/marionette/element.js:305:16\n",
      "\n"
     ]
    },
    {
     "name": "stderr",
     "output_type": "stream",
     "text": [
      "/home/lucas/miniconda3/lib/python3.7/site-packages/ipykernel_launcher.py:3: DeprecationWarning: firefox_profile has been deprecated, please pass in an Options object\n",
      "  This is separate from the ipykernel package so we can avoid doing imports until\n",
      "/home/lucas/miniconda3/lib/python3.7/site-packages/ipykernel_launcher.py:3: DeprecationWarning: firefox_profile has been deprecated, please pass in an Options object\n",
      "  This is separate from the ipykernel package so we can avoid doing imports until\n"
     ]
    },
    {
     "name": "stdout",
     "output_type": "stream",
     "text": [
      "Message: Unable to locate element: /html/body/main/div[2]/div/div[7]/div[1]/div[2]/button[2]\n",
      "Stacktrace:\n",
      "WebDriverError@chrome://remote/content/shared/webdriver/Errors.jsm:181:5\n",
      "NoSuchElementError@chrome://remote/content/shared/webdriver/Errors.jsm:393:5\n",
      "element.find/</<@chrome://remote/content/marionette/element.js:305:16\n",
      "\n"
     ]
    },
    {
     "name": "stderr",
     "output_type": "stream",
     "text": [
      "/home/lucas/miniconda3/lib/python3.7/site-packages/ipykernel_launcher.py:3: DeprecationWarning: firefox_profile has been deprecated, please pass in an Options object\n",
      "  This is separate from the ipykernel package so we can avoid doing imports until\n",
      "/home/lucas/miniconda3/lib/python3.7/site-packages/ipykernel_launcher.py:3: DeprecationWarning: firefox_profile has been deprecated, please pass in an Options object\n",
      "  This is separate from the ipykernel package so we can avoid doing imports until\n"
     ]
    },
    {
     "name": "stdout",
     "output_type": "stream",
     "text": [
      "Message: Unable to locate element: /html/body/main/div[2]/div/div[7]/div[1]/div[2]/button[2]\n",
      "Stacktrace:\n",
      "WebDriverError@chrome://remote/content/shared/webdriver/Errors.jsm:181:5\n",
      "NoSuchElementError@chrome://remote/content/shared/webdriver/Errors.jsm:393:5\n",
      "element.find/</<@chrome://remote/content/marionette/element.js:305:16\n",
      "\n",
      "Message: Unable to locate element: /html/body/main/div[2]/div/div[7]/div[1]/div[2]/button[2]\n",
      "Stacktrace:\n",
      "WebDriverError@chrome://remote/content/shared/webdriver/Errors.jsm:181:5\n",
      "NoSuchElementError@chrome://remote/content/shared/webdriver/Errors.jsm:393:5\n",
      "element.find/</<@chrome://remote/content/marionette/element.js:305:16\n",
      "\n"
     ]
    },
    {
     "name": "stderr",
     "output_type": "stream",
     "text": [
      "/home/lucas/miniconda3/lib/python3.7/site-packages/ipykernel_launcher.py:3: DeprecationWarning: firefox_profile has been deprecated, please pass in an Options object\n",
      "  This is separate from the ipykernel package so we can avoid doing imports until\n",
      "/home/lucas/miniconda3/lib/python3.7/site-packages/ipykernel_launcher.py:3: DeprecationWarning: firefox_profile has been deprecated, please pass in an Options object\n",
      "  This is separate from the ipykernel package so we can avoid doing imports until\n"
     ]
    },
    {
     "name": "stdout",
     "output_type": "stream",
     "text": [
      "Message: Unable to locate element: /html/body/main/div[2]/div/div[7]/div[1]/div[2]/button[2]\n",
      "Stacktrace:\n",
      "WebDriverError@chrome://remote/content/shared/webdriver/Errors.jsm:181:5\n",
      "NoSuchElementError@chrome://remote/content/shared/webdriver/Errors.jsm:393:5\n",
      "element.find/</<@chrome://remote/content/marionette/element.js:305:16\n",
      "\n"
     ]
    },
    {
     "name": "stderr",
     "output_type": "stream",
     "text": [
      "/home/lucas/miniconda3/lib/python3.7/site-packages/ipykernel_launcher.py:3: DeprecationWarning: firefox_profile has been deprecated, please pass in an Options object\n",
      "  This is separate from the ipykernel package so we can avoid doing imports until\n"
     ]
    },
    {
     "name": "stdout",
     "output_type": "stream",
     "text": [
      "Message: Unable to locate element: /html/body/main/div[2]/div/div[7]/div[1]/div[2]/button[2]\n",
      "Stacktrace:\n",
      "WebDriverError@chrome://remote/content/shared/webdriver/Errors.jsm:181:5\n",
      "NoSuchElementError@chrome://remote/content/shared/webdriver/Errors.jsm:393:5\n",
      "element.find/</<@chrome://remote/content/marionette/element.js:305:16\n",
      "\n"
     ]
    },
    {
     "name": "stderr",
     "output_type": "stream",
     "text": [
      "/home/lucas/miniconda3/lib/python3.7/site-packages/ipykernel_launcher.py:3: DeprecationWarning: firefox_profile has been deprecated, please pass in an Options object\n",
      "  This is separate from the ipykernel package so we can avoid doing imports until\n"
     ]
    },
    {
     "name": "stdout",
     "output_type": "stream",
     "text": [
      "Message: Unable to locate element: /html/body/main/div[2]/div/div[7]/div[1]/div[2]/button[2]\n",
      "Stacktrace:\n",
      "WebDriverError@chrome://remote/content/shared/webdriver/Errors.jsm:181:5\n",
      "NoSuchElementError@chrome://remote/content/shared/webdriver/Errors.jsm:393:5\n",
      "element.find/</<@chrome://remote/content/marionette/element.js:305:16\n",
      "\n"
     ]
    },
    {
     "name": "stderr",
     "output_type": "stream",
     "text": [
      "/home/lucas/miniconda3/lib/python3.7/site-packages/ipykernel_launcher.py:3: DeprecationWarning: firefox_profile has been deprecated, please pass in an Options object\n",
      "  This is separate from the ipykernel package so we can avoid doing imports until\n",
      "/home/lucas/miniconda3/lib/python3.7/site-packages/ipykernel_launcher.py:3: DeprecationWarning: firefox_profile has been deprecated, please pass in an Options object\n",
      "  This is separate from the ipykernel package so we can avoid doing imports until\n"
     ]
    },
    {
     "name": "stdout",
     "output_type": "stream",
     "text": [
      "Message: Unable to locate element: /html/body/main/div[2]/div/div[7]/div[1]/div[2]/button[2]\n",
      "Stacktrace:\n",
      "WebDriverError@chrome://remote/content/shared/webdriver/Errors.jsm:181:5\n",
      "NoSuchElementError@chrome://remote/content/shared/webdriver/Errors.jsm:393:5\n",
      "element.find/</<@chrome://remote/content/marionette/element.js:305:16\n",
      "\n"
     ]
    },
    {
     "name": "stderr",
     "output_type": "stream",
     "text": [
      "/home/lucas/miniconda3/lib/python3.7/site-packages/ipykernel_launcher.py:3: DeprecationWarning: firefox_profile has been deprecated, please pass in an Options object\n",
      "  This is separate from the ipykernel package so we can avoid doing imports until\n"
     ]
    },
    {
     "name": "stdout",
     "output_type": "stream",
     "text": [
      "Message: Unable to locate element: /html/body/main/div[2]/div/div[7]/div[1]/div[2]/button[2]\n",
      "Stacktrace:\n",
      "WebDriverError@chrome://remote/content/shared/webdriver/Errors.jsm:181:5\n",
      "NoSuchElementError@chrome://remote/content/shared/webdriver/Errors.jsm:393:5\n",
      "element.find/</<@chrome://remote/content/marionette/element.js:305:16\n",
      "\n"
     ]
    },
    {
     "name": "stderr",
     "output_type": "stream",
     "text": [
      "/home/lucas/miniconda3/lib/python3.7/site-packages/ipykernel_launcher.py:3: DeprecationWarning: firefox_profile has been deprecated, please pass in an Options object\n",
      "  This is separate from the ipykernel package so we can avoid doing imports until\n"
     ]
    },
    {
     "name": "stdout",
     "output_type": "stream",
     "text": [
      "Message: Unable to locate element: /html/body/main/div[2]/div/div[7]/div[1]/div[2]/button[2]\n",
      "Stacktrace:\n",
      "WebDriverError@chrome://remote/content/shared/webdriver/Errors.jsm:181:5\n",
      "NoSuchElementError@chrome://remote/content/shared/webdriver/Errors.jsm:393:5\n",
      "element.find/</<@chrome://remote/content/marionette/element.js:305:16\n",
      "\n"
     ]
    },
    {
     "name": "stderr",
     "output_type": "stream",
     "text": [
      "/home/lucas/miniconda3/lib/python3.7/site-packages/ipykernel_launcher.py:3: DeprecationWarning: firefox_profile has been deprecated, please pass in an Options object\n",
      "  This is separate from the ipykernel package so we can avoid doing imports until\n",
      "/home/lucas/miniconda3/lib/python3.7/site-packages/ipykernel_launcher.py:3: DeprecationWarning: firefox_profile has been deprecated, please pass in an Options object\n",
      "  This is separate from the ipykernel package so we can avoid doing imports until\n"
     ]
    },
    {
     "name": "stdout",
     "output_type": "stream",
     "text": [
      "Message: Unable to locate element: /html/body/main/div[2]/div/div[7]/div[1]/div[2]/button[2]\n",
      "Stacktrace:\n",
      "WebDriverError@chrome://remote/content/shared/webdriver/Errors.jsm:181:5\n",
      "NoSuchElementError@chrome://remote/content/shared/webdriver/Errors.jsm:393:5\n",
      "element.find/</<@chrome://remote/content/marionette/element.js:305:16\n",
      "\n"
     ]
    },
    {
     "name": "stderr",
     "output_type": "stream",
     "text": [
      "/home/lucas/miniconda3/lib/python3.7/site-packages/ipykernel_launcher.py:3: DeprecationWarning: firefox_profile has been deprecated, please pass in an Options object\n",
      "  This is separate from the ipykernel package so we can avoid doing imports until\n"
     ]
    },
    {
     "name": "stdout",
     "output_type": "stream",
     "text": [
      "Message: Unable to locate element: /html/body/main/div[2]/div/div[7]/div[1]/div[2]/button[2]\n",
      "Stacktrace:\n",
      "WebDriverError@chrome://remote/content/shared/webdriver/Errors.jsm:181:5\n",
      "NoSuchElementError@chrome://remote/content/shared/webdriver/Errors.jsm:393:5\n",
      "element.find/</<@chrome://remote/content/marionette/element.js:305:16\n",
      "\n",
      "Message: Unable to locate element: /html/body/main/div[2]/div/div[7]/div[1]/div[2]/button[2]\n",
      "Stacktrace:\n",
      "WebDriverError@chrome://remote/content/shared/webdriver/Errors.jsm:181:5\n",
      "NoSuchElementError@chrome://remote/content/shared/webdriver/Errors.jsm:393:5\n",
      "element.find/</<@chrome://remote/content/marionette/element.js:305:16\n",
      "\n"
     ]
    },
    {
     "name": "stderr",
     "output_type": "stream",
     "text": [
      "/home/lucas/miniconda3/lib/python3.7/site-packages/ipykernel_launcher.py:3: DeprecationWarning: firefox_profile has been deprecated, please pass in an Options object\n",
      "  This is separate from the ipykernel package so we can avoid doing imports until\n",
      "/home/lucas/miniconda3/lib/python3.7/site-packages/ipykernel_launcher.py:3: DeprecationWarning: firefox_profile has been deprecated, please pass in an Options object\n",
      "  This is separate from the ipykernel package so we can avoid doing imports until\n",
      "/home/lucas/miniconda3/lib/python3.7/site-packages/ipykernel_launcher.py:3: DeprecationWarning: firefox_profile has been deprecated, please pass in an Options object\n",
      "  This is separate from the ipykernel package so we can avoid doing imports until\n"
     ]
    },
    {
     "name": "stdout",
     "output_type": "stream",
     "text": [
      "Message: Unable to locate element: /html/body/main/div[2]/div/div[7]/div[1]/div[2]/button[2]\n",
      "Stacktrace:\n",
      "WebDriverError@chrome://remote/content/shared/webdriver/Errors.jsm:181:5\n",
      "NoSuchElementError@chrome://remote/content/shared/webdriver/Errors.jsm:393:5\n",
      "element.find/</<@chrome://remote/content/marionette/element.js:305:16\n",
      "\n"
     ]
    },
    {
     "name": "stderr",
     "output_type": "stream",
     "text": [
      "/home/lucas/miniconda3/lib/python3.7/site-packages/ipykernel_launcher.py:3: DeprecationWarning: firefox_profile has been deprecated, please pass in an Options object\n",
      "  This is separate from the ipykernel package so we can avoid doing imports until\n"
     ]
    },
    {
     "name": "stdout",
     "output_type": "stream",
     "text": [
      "Message: Unable to locate element: /html/body/main/div[2]/div/div[7]/div[1]/div[2]/button[2]\n",
      "Stacktrace:\n",
      "WebDriverError@chrome://remote/content/shared/webdriver/Errors.jsm:181:5\n",
      "NoSuchElementError@chrome://remote/content/shared/webdriver/Errors.jsm:393:5\n",
      "element.find/</<@chrome://remote/content/marionette/element.js:305:16\n",
      "\n",
      "Message: Unable to locate element: /html/body/main/div[2]/div/div[7]/div[1]/div[2]/button[2]\n",
      "Stacktrace:\n",
      "WebDriverError@chrome://remote/content/shared/webdriver/Errors.jsm:181:5\n",
      "NoSuchElementError@chrome://remote/content/shared/webdriver/Errors.jsm:393:5\n",
      "element.find/</<@chrome://remote/content/marionette/element.js:305:16\n",
      "\n",
      "Message: Unable to locate element: /html/body/main/div[2]/div/div[7]/div[1]/div[2]/button[2]\n",
      "Stacktrace:\n",
      "WebDriverError@chrome://remote/content/shared/webdriver/Errors.jsm:181:5\n",
      "NoSuchElementError@chrome://remote/content/shared/webdriver/Errors.jsm:393:5\n",
      "element.find/</<@chrome://remote/content/marionette/element.js:305:16\n",
      "\n"
     ]
    },
    {
     "name": "stderr",
     "output_type": "stream",
     "text": [
      "/home/lucas/miniconda3/lib/python3.7/site-packages/ipykernel_launcher.py:3: DeprecationWarning: firefox_profile has been deprecated, please pass in an Options object\n",
      "  This is separate from the ipykernel package so we can avoid doing imports until\n",
      "/home/lucas/miniconda3/lib/python3.7/site-packages/ipykernel_launcher.py:3: DeprecationWarning: firefox_profile has been deprecated, please pass in an Options object\n",
      "  This is separate from the ipykernel package so we can avoid doing imports until\n",
      "/home/lucas/miniconda3/lib/python3.7/site-packages/ipykernel_launcher.py:3: DeprecationWarning: firefox_profile has been deprecated, please pass in an Options object\n",
      "  This is separate from the ipykernel package so we can avoid doing imports until\n"
     ]
    },
    {
     "name": "stdout",
     "output_type": "stream",
     "text": [
      "Message: Unable to locate element: /html/body/main/div[2]/div/div[7]/div[1]/div[2]/button[2]\n",
      "Stacktrace:\n",
      "WebDriverError@chrome://remote/content/shared/webdriver/Errors.jsm:181:5\n",
      "NoSuchElementError@chrome://remote/content/shared/webdriver/Errors.jsm:393:5\n",
      "element.find/</<@chrome://remote/content/marionette/element.js:305:16\n",
      "\n"
     ]
    },
    {
     "name": "stderr",
     "output_type": "stream",
     "text": [
      "/home/lucas/miniconda3/lib/python3.7/site-packages/ipykernel_launcher.py:3: DeprecationWarning: firefox_profile has been deprecated, please pass in an Options object\n",
      "  This is separate from the ipykernel package so we can avoid doing imports until\n"
     ]
    },
    {
     "name": "stdout",
     "output_type": "stream",
     "text": [
      "Message: Unable to locate element: /html/body/main/div[2]/div/div[7]/div[1]/div[2]/button[2]\n",
      "Stacktrace:\n",
      "WebDriverError@chrome://remote/content/shared/webdriver/Errors.jsm:181:5\n",
      "NoSuchElementError@chrome://remote/content/shared/webdriver/Errors.jsm:393:5\n",
      "element.find/</<@chrome://remote/content/marionette/element.js:305:16\n",
      "\n",
      "Message: Unable to locate element: /html/body/main/div[2]/div/div[7]/div[1]/div[2]/button[2]\n",
      "Stacktrace:\n",
      "WebDriverError@chrome://remote/content/shared/webdriver/Errors.jsm:181:5\n",
      "NoSuchElementError@chrome://remote/content/shared/webdriver/Errors.jsm:393:5\n",
      "element.find/</<@chrome://remote/content/marionette/element.js:305:16\n",
      "\n"
     ]
    },
    {
     "name": "stderr",
     "output_type": "stream",
     "text": [
      "/home/lucas/miniconda3/lib/python3.7/site-packages/ipykernel_launcher.py:3: DeprecationWarning: firefox_profile has been deprecated, please pass in an Options object\n",
      "  This is separate from the ipykernel package so we can avoid doing imports until\n",
      "/home/lucas/miniconda3/lib/python3.7/site-packages/ipykernel_launcher.py:3: DeprecationWarning: firefox_profile has been deprecated, please pass in an Options object\n",
      "  This is separate from the ipykernel package so we can avoid doing imports until\n",
      "/home/lucas/miniconda3/lib/python3.7/site-packages/ipykernel_launcher.py:3: DeprecationWarning: firefox_profile has been deprecated, please pass in an Options object\n",
      "  This is separate from the ipykernel package so we can avoid doing imports until\n"
     ]
    },
    {
     "name": "stdout",
     "output_type": "stream",
     "text": [
      "Message: Unable to locate element: /html/body/main/div[2]/div/div[7]/div[1]/div[2]/button[2]\n",
      "Stacktrace:\n",
      "WebDriverError@chrome://remote/content/shared/webdriver/Errors.jsm:181:5\n",
      "NoSuchElementError@chrome://remote/content/shared/webdriver/Errors.jsm:393:5\n",
      "element.find/</<@chrome://remote/content/marionette/element.js:305:16\n",
      "\n"
     ]
    },
    {
     "name": "stderr",
     "output_type": "stream",
     "text": [
      "/home/lucas/miniconda3/lib/python3.7/site-packages/ipykernel_launcher.py:3: DeprecationWarning: firefox_profile has been deprecated, please pass in an Options object\n",
      "  This is separate from the ipykernel package so we can avoid doing imports until\n"
     ]
    },
    {
     "name": "stdout",
     "output_type": "stream",
     "text": [
      "Message: Unable to locate element: /html/body/main/div[2]/div/div[7]/div[1]/div[2]/button[2]\n",
      "Stacktrace:\n",
      "WebDriverError@chrome://remote/content/shared/webdriver/Errors.jsm:181:5\n",
      "NoSuchElementError@chrome://remote/content/shared/webdriver/Errors.jsm:393:5\n",
      "element.find/</<@chrome://remote/content/marionette/element.js:305:16\n",
      "\n",
      "Message: Unable to locate element: /html/body/main/div[2]/div/div[7]/div[1]/div[2]/button[2]\n",
      "Stacktrace:\n",
      "WebDriverError@chrome://remote/content/shared/webdriver/Errors.jsm:181:5\n",
      "NoSuchElementError@chrome://remote/content/shared/webdriver/Errors.jsm:393:5\n",
      "element.find/</<@chrome://remote/content/marionette/element.js:305:16\n",
      "\n",
      "Message: Unable to locate element: /html/body/main/div[2]/div/div[7]/div[1]/div[2]/button[2]\n",
      "Stacktrace:\n",
      "WebDriverError@chrome://remote/content/shared/webdriver/Errors.jsm:181:5\n",
      "NoSuchElementError@chrome://remote/content/shared/webdriver/Errors.jsm:393:5\n",
      "element.find/</<@chrome://remote/content/marionette/element.js:305:16\n",
      "\n"
     ]
    },
    {
     "name": "stderr",
     "output_type": "stream",
     "text": [
      "/home/lucas/miniconda3/lib/python3.7/site-packages/ipykernel_launcher.py:3: DeprecationWarning: firefox_profile has been deprecated, please pass in an Options object\n",
      "  This is separate from the ipykernel package so we can avoid doing imports until\n",
      "/home/lucas/miniconda3/lib/python3.7/site-packages/ipykernel_launcher.py:3: DeprecationWarning: firefox_profile has been deprecated, please pass in an Options object\n",
      "  This is separate from the ipykernel package so we can avoid doing imports until\n",
      "/home/lucas/miniconda3/lib/python3.7/site-packages/ipykernel_launcher.py:3: DeprecationWarning: firefox_profile has been deprecated, please pass in an Options object\n",
      "  This is separate from the ipykernel package so we can avoid doing imports until\n"
     ]
    },
    {
     "name": "stdout",
     "output_type": "stream",
     "text": [
      "Message: Unable to locate element: /html/body/main/div[2]/div/div[7]/div[1]/div[2]/button[2]\n",
      "Stacktrace:\n",
      "WebDriverError@chrome://remote/content/shared/webdriver/Errors.jsm:181:5\n",
      "NoSuchElementError@chrome://remote/content/shared/webdriver/Errors.jsm:393:5\n",
      "element.find/</<@chrome://remote/content/marionette/element.js:305:16\n",
      "\n"
     ]
    },
    {
     "name": "stderr",
     "output_type": "stream",
     "text": [
      "/home/lucas/miniconda3/lib/python3.7/site-packages/ipykernel_launcher.py:3: DeprecationWarning: firefox_profile has been deprecated, please pass in an Options object\n",
      "  This is separate from the ipykernel package so we can avoid doing imports until\n"
     ]
    },
    {
     "name": "stdout",
     "output_type": "stream",
     "text": [
      "Message: Unable to locate element: /html/body/main/div[2]/div/div[7]/div[1]/div[2]/button[2]\n",
      "Stacktrace:\n",
      "WebDriverError@chrome://remote/content/shared/webdriver/Errors.jsm:181:5\n",
      "NoSuchElementError@chrome://remote/content/shared/webdriver/Errors.jsm:393:5\n",
      "element.find/</<@chrome://remote/content/marionette/element.js:305:16\n",
      "\n",
      "Message: Unable to locate element: /html/body/main/div[2]/div/div[7]/div[1]/div[2]/button[2]\n",
      "Stacktrace:\n",
      "WebDriverError@chrome://remote/content/shared/webdriver/Errors.jsm:181:5\n",
      "NoSuchElementError@chrome://remote/content/shared/webdriver/Errors.jsm:393:5\n",
      "element.find/</<@chrome://remote/content/marionette/element.js:305:16\n",
      "\n"
     ]
    },
    {
     "name": "stderr",
     "output_type": "stream",
     "text": [
      "/home/lucas/miniconda3/lib/python3.7/site-packages/ipykernel_launcher.py:3: DeprecationWarning: firefox_profile has been deprecated, please pass in an Options object\n",
      "  This is separate from the ipykernel package so we can avoid doing imports until\n",
      "/home/lucas/miniconda3/lib/python3.7/site-packages/ipykernel_launcher.py:3: DeprecationWarning: firefox_profile has been deprecated, please pass in an Options object\n",
      "  This is separate from the ipykernel package so we can avoid doing imports until\n",
      "/home/lucas/miniconda3/lib/python3.7/site-packages/ipykernel_launcher.py:3: DeprecationWarning: firefox_profile has been deprecated, please pass in an Options object\n",
      "  This is separate from the ipykernel package so we can avoid doing imports until\n"
     ]
    },
    {
     "name": "stdout",
     "output_type": "stream",
     "text": [
      "Message: Unable to locate element: /html/body/main/div[2]/div/div[7]/div[1]/div[2]/button[2]\n",
      "Stacktrace:\n",
      "WebDriverError@chrome://remote/content/shared/webdriver/Errors.jsm:181:5\n",
      "NoSuchElementError@chrome://remote/content/shared/webdriver/Errors.jsm:393:5\n",
      "element.find/</<@chrome://remote/content/marionette/element.js:305:16\n",
      "\n"
     ]
    },
    {
     "name": "stderr",
     "output_type": "stream",
     "text": [
      "/home/lucas/miniconda3/lib/python3.7/site-packages/ipykernel_launcher.py:3: DeprecationWarning: firefox_profile has been deprecated, please pass in an Options object\n",
      "  This is separate from the ipykernel package so we can avoid doing imports until\n"
     ]
    },
    {
     "name": "stdout",
     "output_type": "stream",
     "text": [
      "Message: Unable to locate element: /html/body/main/div[2]/div/div[7]/div[1]/div[2]/button[2]\n",
      "Stacktrace:\n",
      "WebDriverError@chrome://remote/content/shared/webdriver/Errors.jsm:181:5\n",
      "NoSuchElementError@chrome://remote/content/shared/webdriver/Errors.jsm:393:5\n",
      "element.find/</<@chrome://remote/content/marionette/element.js:305:16\n",
      "\n",
      "Message: Unable to locate element: /html/body/main/div[2]/div/div[7]/div[1]/div[2]/button[2]\n",
      "Stacktrace:\n",
      "WebDriverError@chrome://remote/content/shared/webdriver/Errors.jsm:181:5\n",
      "NoSuchElementError@chrome://remote/content/shared/webdriver/Errors.jsm:393:5\n",
      "element.find/</<@chrome://remote/content/marionette/element.js:305:16\n",
      "\n"
     ]
    },
    {
     "name": "stderr",
     "output_type": "stream",
     "text": [
      "/home/lucas/miniconda3/lib/python3.7/site-packages/ipykernel_launcher.py:3: DeprecationWarning: firefox_profile has been deprecated, please pass in an Options object\n",
      "  This is separate from the ipykernel package so we can avoid doing imports until\n",
      "/home/lucas/miniconda3/lib/python3.7/site-packages/ipykernel_launcher.py:3: DeprecationWarning: firefox_profile has been deprecated, please pass in an Options object\n",
      "  This is separate from the ipykernel package so we can avoid doing imports until\n",
      "/home/lucas/miniconda3/lib/python3.7/site-packages/ipykernel_launcher.py:3: DeprecationWarning: firefox_profile has been deprecated, please pass in an Options object\n",
      "  This is separate from the ipykernel package so we can avoid doing imports until\n"
     ]
    },
    {
     "name": "stdout",
     "output_type": "stream",
     "text": [
      "Message: Unable to locate element: /html/body/main/div[2]/div/div[7]/div[1]/div[2]/button[2]\n",
      "Stacktrace:\n",
      "WebDriverError@chrome://remote/content/shared/webdriver/Errors.jsm:181:5\n",
      "NoSuchElementError@chrome://remote/content/shared/webdriver/Errors.jsm:393:5\n",
      "element.find/</<@chrome://remote/content/marionette/element.js:305:16\n",
      "\n"
     ]
    },
    {
     "name": "stderr",
     "output_type": "stream",
     "text": [
      "/home/lucas/miniconda3/lib/python3.7/site-packages/ipykernel_launcher.py:3: DeprecationWarning: firefox_profile has been deprecated, please pass in an Options object\n",
      "  This is separate from the ipykernel package so we can avoid doing imports until\n"
     ]
    },
    {
     "name": "stdout",
     "output_type": "stream",
     "text": [
      "Message: Unable to locate element: /html/body/main/div[2]/div/div[7]/div[1]/div[2]/button[2]\n",
      "Stacktrace:\n",
      "WebDriverError@chrome://remote/content/shared/webdriver/Errors.jsm:181:5\n",
      "NoSuchElementError@chrome://remote/content/shared/webdriver/Errors.jsm:393:5\n",
      "element.find/</<@chrome://remote/content/marionette/element.js:305:16\n",
      "\n",
      "Message: Unable to locate element: /html/body/main/div[2]/div/div[7]/div[1]/div[2]/button[2]\n",
      "Stacktrace:\n",
      "WebDriverError@chrome://remote/content/shared/webdriver/Errors.jsm:181:5\n",
      "NoSuchElementError@chrome://remote/content/shared/webdriver/Errors.jsm:393:5\n",
      "element.find/</<@chrome://remote/content/marionette/element.js:305:16\n",
      "\n"
     ]
    },
    {
     "name": "stderr",
     "output_type": "stream",
     "text": [
      "/home/lucas/miniconda3/lib/python3.7/site-packages/ipykernel_launcher.py:3: DeprecationWarning: firefox_profile has been deprecated, please pass in an Options object\n",
      "  This is separate from the ipykernel package so we can avoid doing imports until\n",
      "/home/lucas/miniconda3/lib/python3.7/site-packages/ipykernel_launcher.py:3: DeprecationWarning: firefox_profile has been deprecated, please pass in an Options object\n",
      "  This is separate from the ipykernel package so we can avoid doing imports until\n",
      "/home/lucas/miniconda3/lib/python3.7/site-packages/ipykernel_launcher.py:3: DeprecationWarning: firefox_profile has been deprecated, please pass in an Options object\n",
      "  This is separate from the ipykernel package so we can avoid doing imports until\n"
     ]
    },
    {
     "name": "stdout",
     "output_type": "stream",
     "text": [
      "Message: Unable to locate element: /html/body/main/div[2]/div/div[7]/div[1]/div[2]/button[2]\n",
      "Stacktrace:\n",
      "WebDriverError@chrome://remote/content/shared/webdriver/Errors.jsm:181:5\n",
      "NoSuchElementError@chrome://remote/content/shared/webdriver/Errors.jsm:393:5\n",
      "element.find/</<@chrome://remote/content/marionette/element.js:305:16\n",
      "\n"
     ]
    },
    {
     "name": "stderr",
     "output_type": "stream",
     "text": [
      "/home/lucas/miniconda3/lib/python3.7/site-packages/ipykernel_launcher.py:3: DeprecationWarning: firefox_profile has been deprecated, please pass in an Options object\n",
      "  This is separate from the ipykernel package so we can avoid doing imports until\n"
     ]
    },
    {
     "name": "stdout",
     "output_type": "stream",
     "text": [
      "Message: Unable to locate element: /html/body/main/div[2]/div/div[7]/div[1]/div[2]/button[2]\n",
      "Stacktrace:\n",
      "WebDriverError@chrome://remote/content/shared/webdriver/Errors.jsm:181:5\n",
      "NoSuchElementError@chrome://remote/content/shared/webdriver/Errors.jsm:393:5\n",
      "element.find/</<@chrome://remote/content/marionette/element.js:305:16\n",
      "\n",
      "Message: Unable to locate element: /html/body/main/div[2]/div/div[7]/div[1]/div[2]/button[2]\n",
      "Stacktrace:\n",
      "WebDriverError@chrome://remote/content/shared/webdriver/Errors.jsm:181:5\n",
      "NoSuchElementError@chrome://remote/content/shared/webdriver/Errors.jsm:393:5\n",
      "element.find/</<@chrome://remote/content/marionette/element.js:305:16\n",
      "\n",
      "Message: Unable to locate element: /html/body/main/div[2]/div/div[7]/div[1]/div[2]/button[2]\n",
      "Stacktrace:\n",
      "WebDriverError@chrome://remote/content/shared/webdriver/Errors.jsm:181:5\n",
      "NoSuchElementError@chrome://remote/content/shared/webdriver/Errors.jsm:393:5\n",
      "element.find/</<@chrome://remote/content/marionette/element.js:305:16\n",
      "\n"
     ]
    },
    {
     "name": "stderr",
     "output_type": "stream",
     "text": [
      "/home/lucas/miniconda3/lib/python3.7/site-packages/ipykernel_launcher.py:3: DeprecationWarning: firefox_profile has been deprecated, please pass in an Options object\n",
      "  This is separate from the ipykernel package so we can avoid doing imports until\n",
      "/home/lucas/miniconda3/lib/python3.7/site-packages/ipykernel_launcher.py:3: DeprecationWarning: firefox_profile has been deprecated, please pass in an Options object\n",
      "  This is separate from the ipykernel package so we can avoid doing imports until\n",
      "/home/lucas/miniconda3/lib/python3.7/site-packages/ipykernel_launcher.py:3: DeprecationWarning: firefox_profile has been deprecated, please pass in an Options object\n",
      "  This is separate from the ipykernel package so we can avoid doing imports until\n"
     ]
    },
    {
     "name": "stdout",
     "output_type": "stream",
     "text": [
      "Message: Unable to locate element: /html/body/main/div[2]/div/div[7]/div[1]/div[2]/button[2]\n",
      "Stacktrace:\n",
      "WebDriverError@chrome://remote/content/shared/webdriver/Errors.jsm:181:5\n",
      "NoSuchElementError@chrome://remote/content/shared/webdriver/Errors.jsm:393:5\n",
      "element.find/</<@chrome://remote/content/marionette/element.js:305:16\n",
      "\n"
     ]
    },
    {
     "name": "stderr",
     "output_type": "stream",
     "text": [
      "/home/lucas/miniconda3/lib/python3.7/site-packages/ipykernel_launcher.py:3: DeprecationWarning: firefox_profile has been deprecated, please pass in an Options object\n",
      "  This is separate from the ipykernel package so we can avoid doing imports until\n"
     ]
    },
    {
     "name": "stdout",
     "output_type": "stream",
     "text": [
      "Message: Unable to locate element: /html/body/main/div[2]/div/div[7]/div[1]/div[2]/button[2]\n",
      "Stacktrace:\n",
      "WebDriverError@chrome://remote/content/shared/webdriver/Errors.jsm:181:5\n",
      "NoSuchElementError@chrome://remote/content/shared/webdriver/Errors.jsm:393:5\n",
      "element.find/</<@chrome://remote/content/marionette/element.js:305:16\n",
      "\n",
      "Message: Unable to locate element: /html/body/main/div[2]/div/div[7]/div[1]/div[2]/button[2]\n",
      "Stacktrace:\n",
      "WebDriverError@chrome://remote/content/shared/webdriver/Errors.jsm:181:5\n",
      "NoSuchElementError@chrome://remote/content/shared/webdriver/Errors.jsm:393:5\n",
      "element.find/</<@chrome://remote/content/marionette/element.js:305:16\n",
      "\n"
     ]
    },
    {
     "name": "stderr",
     "output_type": "stream",
     "text": [
      "/home/lucas/miniconda3/lib/python3.7/site-packages/ipykernel_launcher.py:3: DeprecationWarning: firefox_profile has been deprecated, please pass in an Options object\n",
      "  This is separate from the ipykernel package so we can avoid doing imports until\n",
      "/home/lucas/miniconda3/lib/python3.7/site-packages/ipykernel_launcher.py:3: DeprecationWarning: firefox_profile has been deprecated, please pass in an Options object\n",
      "  This is separate from the ipykernel package so we can avoid doing imports until\n"
     ]
    },
    {
     "name": "stdout",
     "output_type": "stream",
     "text": [
      "Message: Unable to locate element: /html/body/main/div[2]/div/div[7]/div[1]/div[2]/button[2]\n",
      "Stacktrace:\n",
      "WebDriverError@chrome://remote/content/shared/webdriver/Errors.jsm:181:5\n",
      "NoSuchElementError@chrome://remote/content/shared/webdriver/Errors.jsm:393:5\n",
      "element.find/</<@chrome://remote/content/marionette/element.js:305:16\n",
      "\n"
     ]
    },
    {
     "name": "stderr",
     "output_type": "stream",
     "text": [
      "/home/lucas/miniconda3/lib/python3.7/site-packages/ipykernel_launcher.py:3: DeprecationWarning: firefox_profile has been deprecated, please pass in an Options object\n",
      "  This is separate from the ipykernel package so we can avoid doing imports until\n",
      "/home/lucas/miniconda3/lib/python3.7/site-packages/ipykernel_launcher.py:3: DeprecationWarning: firefox_profile has been deprecated, please pass in an Options object\n",
      "  This is separate from the ipykernel package so we can avoid doing imports until\n"
     ]
    },
    {
     "name": "stdout",
     "output_type": "stream",
     "text": [
      "Message: Unable to locate element: /html/body/main/div[2]/div/div[7]/div[1]/div[2]/button[2]\n",
      "Stacktrace:\n",
      "WebDriverError@chrome://remote/content/shared/webdriver/Errors.jsm:181:5\n",
      "NoSuchElementError@chrome://remote/content/shared/webdriver/Errors.jsm:393:5\n",
      "element.find/</<@chrome://remote/content/marionette/element.js:305:16\n",
      "\n",
      "Message: Unable to locate element: /html/body/main/div[2]/div/div[7]/div[1]/div[2]/button[2]\n",
      "Stacktrace:\n",
      "WebDriverError@chrome://remote/content/shared/webdriver/Errors.jsm:181:5\n",
      "NoSuchElementError@chrome://remote/content/shared/webdriver/Errors.jsm:393:5\n",
      "element.find/</<@chrome://remote/content/marionette/element.js:305:16\n",
      "\n"
     ]
    },
    {
     "name": "stderr",
     "output_type": "stream",
     "text": [
      "/home/lucas/miniconda3/lib/python3.7/site-packages/ipykernel_launcher.py:3: DeprecationWarning: firefox_profile has been deprecated, please pass in an Options object\n",
      "  This is separate from the ipykernel package so we can avoid doing imports until\n",
      "/home/lucas/miniconda3/lib/python3.7/site-packages/ipykernel_launcher.py:3: DeprecationWarning: firefox_profile has been deprecated, please pass in an Options object\n",
      "  This is separate from the ipykernel package so we can avoid doing imports until\n"
     ]
    },
    {
     "name": "stdout",
     "output_type": "stream",
     "text": [
      "Message: Unable to locate element: /html/body/main/div[2]/div/div[7]/div[1]/div[2]/button[2]\n",
      "Stacktrace:\n",
      "WebDriverError@chrome://remote/content/shared/webdriver/Errors.jsm:181:5\n",
      "NoSuchElementError@chrome://remote/content/shared/webdriver/Errors.jsm:393:5\n",
      "element.find/</<@chrome://remote/content/marionette/element.js:305:16\n",
      "\n"
     ]
    },
    {
     "name": "stderr",
     "output_type": "stream",
     "text": [
      "/home/lucas/miniconda3/lib/python3.7/site-packages/ipykernel_launcher.py:3: DeprecationWarning: firefox_profile has been deprecated, please pass in an Options object\n",
      "  This is separate from the ipykernel package so we can avoid doing imports until\n"
     ]
    },
    {
     "name": "stdout",
     "output_type": "stream",
     "text": [
      "Message: Unable to locate element: /html/body/main/div[2]/div/div[7]/div[1]/div[2]/button[2]\n",
      "Stacktrace:\n",
      "WebDriverError@chrome://remote/content/shared/webdriver/Errors.jsm:181:5\n",
      "NoSuchElementError@chrome://remote/content/shared/webdriver/Errors.jsm:393:5\n",
      "element.find/</<@chrome://remote/content/marionette/element.js:305:16\n",
      "\n"
     ]
    },
    {
     "name": "stderr",
     "output_type": "stream",
     "text": [
      "/home/lucas/miniconda3/lib/python3.7/site-packages/ipykernel_launcher.py:3: DeprecationWarning: firefox_profile has been deprecated, please pass in an Options object\n",
      "  This is separate from the ipykernel package so we can avoid doing imports until\n"
     ]
    },
    {
     "name": "stdout",
     "output_type": "stream",
     "text": [
      "Message: Unable to locate element: /html/body/main/div[2]/div/div[7]/div[1]/div[2]/button[2]\n",
      "Stacktrace:\n",
      "WebDriverError@chrome://remote/content/shared/webdriver/Errors.jsm:181:5\n",
      "NoSuchElementError@chrome://remote/content/shared/webdriver/Errors.jsm:393:5\n",
      "element.find/</<@chrome://remote/content/marionette/element.js:305:16\n",
      "\n",
      "Message: Unable to locate element: /html/body/main/div[2]/div/div[7]/div[1]/div[2]/button[2]\n",
      "Stacktrace:\n",
      "WebDriverError@chrome://remote/content/shared/webdriver/Errors.jsm:181:5\n",
      "NoSuchElementError@chrome://remote/content/shared/webdriver/Errors.jsm:393:5\n",
      "element.find/</<@chrome://remote/content/marionette/element.js:305:16\n",
      "\n",
      "Message: Unable to locate element: /html/body/main/div[2]/div/div[7]/div[1]/div[2]/button[2]\n",
      "Stacktrace:\n",
      "WebDriverError@chrome://remote/content/shared/webdriver/Errors.jsm:181:5\n",
      "NoSuchElementError@chrome://remote/content/shared/webdriver/Errors.jsm:393:5\n",
      "element.find/</<@chrome://remote/content/marionette/element.js:305:16\n",
      "\n"
     ]
    },
    {
     "name": "stderr",
     "output_type": "stream",
     "text": [
      "/home/lucas/miniconda3/lib/python3.7/site-packages/ipykernel_launcher.py:3: DeprecationWarning: firefox_profile has been deprecated, please pass in an Options object\n",
      "  This is separate from the ipykernel package so we can avoid doing imports until\n",
      "/home/lucas/miniconda3/lib/python3.7/site-packages/ipykernel_launcher.py:3: DeprecationWarning: firefox_profile has been deprecated, please pass in an Options object\n",
      "  This is separate from the ipykernel package so we can avoid doing imports until\n",
      "/home/lucas/miniconda3/lib/python3.7/site-packages/ipykernel_launcher.py:3: DeprecationWarning: firefox_profile has been deprecated, please pass in an Options object\n",
      "  This is separate from the ipykernel package so we can avoid doing imports until\n"
     ]
    },
    {
     "name": "stdout",
     "output_type": "stream",
     "text": [
      "Message: Unable to locate element: /html/body/main/div[2]/div/div[7]/div[1]/div[2]/button[2]\n",
      "Stacktrace:\n",
      "WebDriverError@chrome://remote/content/shared/webdriver/Errors.jsm:181:5\n",
      "NoSuchElementError@chrome://remote/content/shared/webdriver/Errors.jsm:393:5\n",
      "element.find/</<@chrome://remote/content/marionette/element.js:305:16\n",
      "\n"
     ]
    },
    {
     "name": "stderr",
     "output_type": "stream",
     "text": [
      "/home/lucas/miniconda3/lib/python3.7/site-packages/ipykernel_launcher.py:3: DeprecationWarning: firefox_profile has been deprecated, please pass in an Options object\n",
      "  This is separate from the ipykernel package so we can avoid doing imports until\n"
     ]
    },
    {
     "name": "stdout",
     "output_type": "stream",
     "text": [
      "Message: Unable to locate element: /html/body/main/div[2]/div/div[7]/div[1]/div[2]/button[2]\n",
      "Stacktrace:\n",
      "WebDriverError@chrome://remote/content/shared/webdriver/Errors.jsm:181:5\n",
      "NoSuchElementError@chrome://remote/content/shared/webdriver/Errors.jsm:393:5\n",
      "element.find/</<@chrome://remote/content/marionette/element.js:305:16\n",
      "\n",
      "Message: Unable to locate element: /html/body/main/div[2]/div/div[7]/div[1]/div[2]/button[2]\n",
      "Stacktrace:\n",
      "WebDriverError@chrome://remote/content/shared/webdriver/Errors.jsm:181:5\n",
      "NoSuchElementError@chrome://remote/content/shared/webdriver/Errors.jsm:393:5\n",
      "element.find/</<@chrome://remote/content/marionette/element.js:305:16\n",
      "\n"
     ]
    },
    {
     "name": "stderr",
     "output_type": "stream",
     "text": [
      "/home/lucas/miniconda3/lib/python3.7/site-packages/ipykernel_launcher.py:3: DeprecationWarning: firefox_profile has been deprecated, please pass in an Options object\n",
      "  This is separate from the ipykernel package so we can avoid doing imports until\n",
      "/home/lucas/miniconda3/lib/python3.7/site-packages/ipykernel_launcher.py:3: DeprecationWarning: firefox_profile has been deprecated, please pass in an Options object\n",
      "  This is separate from the ipykernel package so we can avoid doing imports until\n",
      "/home/lucas/miniconda3/lib/python3.7/site-packages/ipykernel_launcher.py:3: DeprecationWarning: firefox_profile has been deprecated, please pass in an Options object\n",
      "  This is separate from the ipykernel package so we can avoid doing imports until\n"
     ]
    },
    {
     "name": "stdout",
     "output_type": "stream",
     "text": [
      "Message: Unable to locate element: /html/body/main/div[2]/div/div[7]/div[1]/div[2]/button[2]\n",
      "Stacktrace:\n",
      "WebDriverError@chrome://remote/content/shared/webdriver/Errors.jsm:181:5\n",
      "NoSuchElementError@chrome://remote/content/shared/webdriver/Errors.jsm:393:5\n",
      "element.find/</<@chrome://remote/content/marionette/element.js:305:16\n",
      "\n"
     ]
    },
    {
     "name": "stderr",
     "output_type": "stream",
     "text": [
      "/home/lucas/miniconda3/lib/python3.7/site-packages/ipykernel_launcher.py:3: DeprecationWarning: firefox_profile has been deprecated, please pass in an Options object\n",
      "  This is separate from the ipykernel package so we can avoid doing imports until\n"
     ]
    },
    {
     "name": "stdout",
     "output_type": "stream",
     "text": [
      "Message: Unable to locate element: /html/body/main/div[2]/div/div[7]/div[1]/div[2]/button[2]\n",
      "Stacktrace:\n",
      "WebDriverError@chrome://remote/content/shared/webdriver/Errors.jsm:181:5\n",
      "NoSuchElementError@chrome://remote/content/shared/webdriver/Errors.jsm:393:5\n",
      "element.find/</<@chrome://remote/content/marionette/element.js:305:16\n",
      "\n"
     ]
    },
    {
     "name": "stderr",
     "output_type": "stream",
     "text": [
      "/home/lucas/miniconda3/lib/python3.7/site-packages/ipykernel_launcher.py:3: DeprecationWarning: firefox_profile has been deprecated, please pass in an Options object\n",
      "  This is separate from the ipykernel package so we can avoid doing imports until\n"
     ]
    },
    {
     "name": "stdout",
     "output_type": "stream",
     "text": [
      "Message: Unable to locate element: /html/body/main/div[2]/div/div[7]/div[1]/div[2]/button[2]\n",
      "Stacktrace:\n",
      "WebDriverError@chrome://remote/content/shared/webdriver/Errors.jsm:181:5\n",
      "NoSuchElementError@chrome://remote/content/shared/webdriver/Errors.jsm:393:5\n",
      "element.find/</<@chrome://remote/content/marionette/element.js:305:16\n",
      "\n"
     ]
    },
    {
     "name": "stderr",
     "output_type": "stream",
     "text": [
      "/home/lucas/miniconda3/lib/python3.7/site-packages/ipykernel_launcher.py:3: DeprecationWarning: firefox_profile has been deprecated, please pass in an Options object\n",
      "  This is separate from the ipykernel package so we can avoid doing imports until\n",
      "/home/lucas/miniconda3/lib/python3.7/site-packages/ipykernel_launcher.py:3: DeprecationWarning: firefox_profile has been deprecated, please pass in an Options object\n",
      "  This is separate from the ipykernel package so we can avoid doing imports until\n",
      "/home/lucas/miniconda3/lib/python3.7/site-packages/ipykernel_launcher.py:3: DeprecationWarning: firefox_profile has been deprecated, please pass in an Options object\n",
      "  This is separate from the ipykernel package so we can avoid doing imports until\n"
     ]
    },
    {
     "name": "stdout",
     "output_type": "stream",
     "text": [
      "Message: Unable to locate element: /html/body/main/div[2]/div/div[7]/div[1]/div[2]/button[2]\n",
      "Stacktrace:\n",
      "WebDriverError@chrome://remote/content/shared/webdriver/Errors.jsm:181:5\n",
      "NoSuchElementError@chrome://remote/content/shared/webdriver/Errors.jsm:393:5\n",
      "element.find/</<@chrome://remote/content/marionette/element.js:305:16\n",
      "\n",
      "Message: Unable to locate element: /html/body/main/div[2]/div/div[7]/div[1]/div[2]/button[2]\n",
      "Stacktrace:\n",
      "WebDriverError@chrome://remote/content/shared/webdriver/Errors.jsm:181:5\n",
      "NoSuchElementError@chrome://remote/content/shared/webdriver/Errors.jsm:393:5\n",
      "element.find/</<@chrome://remote/content/marionette/element.js:305:16\n",
      "\n",
      "Message: Unable to locate element: /html/body/main/div[2]/div/div[7]/div[1]/div[2]/button[2]\n",
      "Stacktrace:\n",
      "WebDriverError@chrome://remote/content/shared/webdriver/Errors.jsm:181:5\n",
      "NoSuchElementError@chrome://remote/content/shared/webdriver/Errors.jsm:393:5\n",
      "element.find/</<@chrome://remote/content/marionette/element.js:305:16\n",
      "\n"
     ]
    },
    {
     "name": "stderr",
     "output_type": "stream",
     "text": [
      "/home/lucas/miniconda3/lib/python3.7/site-packages/ipykernel_launcher.py:3: DeprecationWarning: firefox_profile has been deprecated, please pass in an Options object\n",
      "  This is separate from the ipykernel package so we can avoid doing imports until\n",
      "/home/lucas/miniconda3/lib/python3.7/site-packages/ipykernel_launcher.py:3: DeprecationWarning: firefox_profile has been deprecated, please pass in an Options object\n",
      "  This is separate from the ipykernel package so we can avoid doing imports until\n",
      "/home/lucas/miniconda3/lib/python3.7/site-packages/ipykernel_launcher.py:3: DeprecationWarning: firefox_profile has been deprecated, please pass in an Options object\n",
      "  This is separate from the ipykernel package so we can avoid doing imports until\n",
      "/home/lucas/miniconda3/lib/python3.7/site-packages/ipykernel_launcher.py:3: DeprecationWarning: firefox_profile has been deprecated, please pass in an Options object\n",
      "  This is separate from the ipykernel package so we can avoid doing imports until\n"
     ]
    },
    {
     "name": "stdout",
     "output_type": "stream",
     "text": [
      "Message: Unable to locate element: /html/body/main/div[2]/div/div[7]/div[1]/div[2]/button[2]\n",
      "Stacktrace:\n",
      "WebDriverError@chrome://remote/content/shared/webdriver/Errors.jsm:181:5\n",
      "NoSuchElementError@chrome://remote/content/shared/webdriver/Errors.jsm:393:5\n",
      "element.find/</<@chrome://remote/content/marionette/element.js:305:16\n",
      "\n",
      "Message: Unable to locate element: /html/body/main/div[2]/div/div[7]/div[1]/div[2]/button[2]\n",
      "Stacktrace:\n",
      "WebDriverError@chrome://remote/content/shared/webdriver/Errors.jsm:181:5\n",
      "NoSuchElementError@chrome://remote/content/shared/webdriver/Errors.jsm:393:5\n",
      "element.find/</<@chrome://remote/content/marionette/element.js:305:16\n",
      "\n"
     ]
    },
    {
     "name": "stderr",
     "output_type": "stream",
     "text": [
      "/home/lucas/miniconda3/lib/python3.7/site-packages/ipykernel_launcher.py:3: DeprecationWarning: firefox_profile has been deprecated, please pass in an Options object\n",
      "  This is separate from the ipykernel package so we can avoid doing imports until\n",
      "/home/lucas/miniconda3/lib/python3.7/site-packages/ipykernel_launcher.py:3: DeprecationWarning: firefox_profile has been deprecated, please pass in an Options object\n",
      "  This is separate from the ipykernel package so we can avoid doing imports until\n",
      "/home/lucas/miniconda3/lib/python3.7/site-packages/ipykernel_launcher.py:3: DeprecationWarning: firefox_profile has been deprecated, please pass in an Options object\n",
      "  This is separate from the ipykernel package so we can avoid doing imports until\n",
      "/home/lucas/miniconda3/lib/python3.7/site-packages/ipykernel_launcher.py:3: DeprecationWarning: firefox_profile has been deprecated, please pass in an Options object\n",
      "  This is separate from the ipykernel package so we can avoid doing imports until\n"
     ]
    },
    {
     "name": "stdout",
     "output_type": "stream",
     "text": [
      "Message: Unable to locate element: /html/body/main/div[2]/div/div[7]/div[1]/div[2]/button[2]\n",
      "Stacktrace:\n",
      "WebDriverError@chrome://remote/content/shared/webdriver/Errors.jsm:181:5\n",
      "NoSuchElementError@chrome://remote/content/shared/webdriver/Errors.jsm:393:5\n",
      "element.find/</<@chrome://remote/content/marionette/element.js:305:16\n",
      "\n",
      "Message: Unable to locate element: /html/body/main/div[2]/div/div[7]/div[1]/div[2]/button[2]\n",
      "Stacktrace:\n",
      "WebDriverError@chrome://remote/content/shared/webdriver/Errors.jsm:181:5\n",
      "NoSuchElementError@chrome://remote/content/shared/webdriver/Errors.jsm:393:5\n",
      "element.find/</<@chrome://remote/content/marionette/element.js:305:16\n",
      "\n",
      "Message: Unable to locate element: /html/body/main/div[2]/div/div[7]/div[1]/div[2]/button[2]\n",
      "Stacktrace:\n",
      "WebDriverError@chrome://remote/content/shared/webdriver/Errors.jsm:181:5\n",
      "NoSuchElementError@chrome://remote/content/shared/webdriver/Errors.jsm:393:5\n",
      "element.find/</<@chrome://remote/content/marionette/element.js:305:16\n",
      "\n"
     ]
    },
    {
     "name": "stderr",
     "output_type": "stream",
     "text": [
      "/home/lucas/miniconda3/lib/python3.7/site-packages/ipykernel_launcher.py:3: DeprecationWarning: firefox_profile has been deprecated, please pass in an Options object\n",
      "  This is separate from the ipykernel package so we can avoid doing imports until\n",
      "/home/lucas/miniconda3/lib/python3.7/site-packages/ipykernel_launcher.py:3: DeprecationWarning: firefox_profile has been deprecated, please pass in an Options object\n",
      "  This is separate from the ipykernel package so we can avoid doing imports until\n"
     ]
    },
    {
     "name": "stdout",
     "output_type": "stream",
     "text": [
      "Message: Unable to locate element: /html/body/main/div[2]/div/div[7]/div[1]/div[2]/button[2]\n",
      "Stacktrace:\n",
      "WebDriverError@chrome://remote/content/shared/webdriver/Errors.jsm:181:5\n",
      "NoSuchElementError@chrome://remote/content/shared/webdriver/Errors.jsm:393:5\n",
      "element.find/</<@chrome://remote/content/marionette/element.js:305:16\n",
      "\n"
     ]
    },
    {
     "name": "stderr",
     "output_type": "stream",
     "text": [
      "/home/lucas/miniconda3/lib/python3.7/site-packages/ipykernel_launcher.py:3: DeprecationWarning: firefox_profile has been deprecated, please pass in an Options object\n",
      "  This is separate from the ipykernel package so we can avoid doing imports until\n"
     ]
    },
    {
     "name": "stdout",
     "output_type": "stream",
     "text": [
      "Message: Unable to locate element: /html/body/main/div[2]/div/div[7]/div[1]/div[2]/button[2]\n",
      "Stacktrace:\n",
      "WebDriverError@chrome://remote/content/shared/webdriver/Errors.jsm:181:5\n",
      "NoSuchElementError@chrome://remote/content/shared/webdriver/Errors.jsm:393:5\n",
      "element.find/</<@chrome://remote/content/marionette/element.js:305:16\n",
      "\n"
     ]
    },
    {
     "name": "stderr",
     "output_type": "stream",
     "text": [
      "/home/lucas/miniconda3/lib/python3.7/site-packages/ipykernel_launcher.py:3: DeprecationWarning: firefox_profile has been deprecated, please pass in an Options object\n",
      "  This is separate from the ipykernel package so we can avoid doing imports until\n"
     ]
    },
    {
     "name": "stdout",
     "output_type": "stream",
     "text": [
      "Message: Unable to locate element: /html/body/main/div[2]/div/div[7]/div[1]/div[2]/button[2]\n",
      "Stacktrace:\n",
      "WebDriverError@chrome://remote/content/shared/webdriver/Errors.jsm:181:5\n",
      "NoSuchElementError@chrome://remote/content/shared/webdriver/Errors.jsm:393:5\n",
      "element.find/</<@chrome://remote/content/marionette/element.js:305:16\n",
      "\n"
     ]
    },
    {
     "name": "stderr",
     "output_type": "stream",
     "text": [
      "/home/lucas/miniconda3/lib/python3.7/site-packages/ipykernel_launcher.py:3: DeprecationWarning: firefox_profile has been deprecated, please pass in an Options object\n",
      "  This is separate from the ipykernel package so we can avoid doing imports until\n"
     ]
    },
    {
     "name": "stdout",
     "output_type": "stream",
     "text": [
      "Message: Unable to locate element: /html/body/main/div[2]/div/div[7]/div[1]/div[2]/button[2]\n",
      "Stacktrace:\n",
      "WebDriverError@chrome://remote/content/shared/webdriver/Errors.jsm:181:5\n",
      "NoSuchElementError@chrome://remote/content/shared/webdriver/Errors.jsm:393:5\n",
      "element.find/</<@chrome://remote/content/marionette/element.js:305:16\n",
      "\n"
     ]
    },
    {
     "name": "stderr",
     "output_type": "stream",
     "text": [
      "/home/lucas/miniconda3/lib/python3.7/site-packages/ipykernel_launcher.py:3: DeprecationWarning: firefox_profile has been deprecated, please pass in an Options object\n",
      "  This is separate from the ipykernel package so we can avoid doing imports until\n"
     ]
    },
    {
     "name": "stdout",
     "output_type": "stream",
     "text": [
      "Message: Unable to locate element: /html/body/main/div[2]/div/div[7]/div[1]/div[2]/button[2]\n",
      "Stacktrace:\n",
      "WebDriverError@chrome://remote/content/shared/webdriver/Errors.jsm:181:5\n",
      "NoSuchElementError@chrome://remote/content/shared/webdriver/Errors.jsm:393:5\n",
      "element.find/</<@chrome://remote/content/marionette/element.js:305:16\n",
      "\n"
     ]
    },
    {
     "name": "stderr",
     "output_type": "stream",
     "text": [
      "/home/lucas/miniconda3/lib/python3.7/site-packages/ipykernel_launcher.py:3: DeprecationWarning: firefox_profile has been deprecated, please pass in an Options object\n",
      "  This is separate from the ipykernel package so we can avoid doing imports until\n",
      "/home/lucas/miniconda3/lib/python3.7/site-packages/ipykernel_launcher.py:3: DeprecationWarning: firefox_profile has been deprecated, please pass in an Options object\n",
      "  This is separate from the ipykernel package so we can avoid doing imports until\n"
     ]
    },
    {
     "name": "stdout",
     "output_type": "stream",
     "text": [
      "Message: Unable to locate element: /html/body/main/div[2]/div/div[7]/div[1]/div[2]/button[2]\n",
      "Stacktrace:\n",
      "WebDriverError@chrome://remote/content/shared/webdriver/Errors.jsm:181:5\n",
      "NoSuchElementError@chrome://remote/content/shared/webdriver/Errors.jsm:393:5\n",
      "element.find/</<@chrome://remote/content/marionette/element.js:305:16\n",
      "\n"
     ]
    },
    {
     "name": "stderr",
     "output_type": "stream",
     "text": [
      "/home/lucas/miniconda3/lib/python3.7/site-packages/ipykernel_launcher.py:3: DeprecationWarning: firefox_profile has been deprecated, please pass in an Options object\n",
      "  This is separate from the ipykernel package so we can avoid doing imports until\n"
     ]
    },
    {
     "name": "stdout",
     "output_type": "stream",
     "text": [
      "Message: Unable to locate element: /html/body/main/div[2]/div/div[7]/div[1]/div[2]/button[2]\n",
      "Stacktrace:\n",
      "WebDriverError@chrome://remote/content/shared/webdriver/Errors.jsm:181:5\n",
      "NoSuchElementError@chrome://remote/content/shared/webdriver/Errors.jsm:393:5\n",
      "element.find/</<@chrome://remote/content/marionette/element.js:305:16\n",
      "\n"
     ]
    },
    {
     "name": "stderr",
     "output_type": "stream",
     "text": [
      "/home/lucas/miniconda3/lib/python3.7/site-packages/ipykernel_launcher.py:3: DeprecationWarning: firefox_profile has been deprecated, please pass in an Options object\n",
      "  This is separate from the ipykernel package so we can avoid doing imports until\n",
      "/home/lucas/miniconda3/lib/python3.7/site-packages/ipykernel_launcher.py:3: DeprecationWarning: firefox_profile has been deprecated, please pass in an Options object\n",
      "  This is separate from the ipykernel package so we can avoid doing imports until\n",
      "/home/lucas/miniconda3/lib/python3.7/site-packages/ipykernel_launcher.py:3: DeprecationWarning: firefox_profile has been deprecated, please pass in an Options object\n",
      "  This is separate from the ipykernel package so we can avoid doing imports until\n"
     ]
    },
    {
     "name": "stdout",
     "output_type": "stream",
     "text": [
      "Message: Unable to locate element: /html/body/main/div[2]/div/div[7]/div[1]/div[2]/button[2]\n",
      "Stacktrace:\n",
      "WebDriverError@chrome://remote/content/shared/webdriver/Errors.jsm:181:5\n",
      "NoSuchElementError@chrome://remote/content/shared/webdriver/Errors.jsm:393:5\n",
      "element.find/</<@chrome://remote/content/marionette/element.js:305:16\n",
      "\n",
      "Message: Unable to locate element: /html/body/main/div[2]/div/div[7]/div[1]/div[2]/button[2]\n",
      "Stacktrace:\n",
      "WebDriverError@chrome://remote/content/shared/webdriver/Errors.jsm:181:5\n",
      "NoSuchElementError@chrome://remote/content/shared/webdriver/Errors.jsm:393:5\n",
      "element.find/</<@chrome://remote/content/marionette/element.js:305:16\n",
      "\n",
      "Message: Unable to locate element: /html/body/main/div[2]/div/div[7]/div[1]/div[2]/button[2]\n",
      "Stacktrace:\n",
      "WebDriverError@chrome://remote/content/shared/webdriver/Errors.jsm:181:5\n",
      "NoSuchElementError@chrome://remote/content/shared/webdriver/Errors.jsm:393:5\n",
      "element.find/</<@chrome://remote/content/marionette/element.js:305:16\n",
      "\n"
     ]
    },
    {
     "name": "stderr",
     "output_type": "stream",
     "text": [
      "/home/lucas/miniconda3/lib/python3.7/site-packages/ipykernel_launcher.py:3: DeprecationWarning: firefox_profile has been deprecated, please pass in an Options object\n",
      "  This is separate from the ipykernel package so we can avoid doing imports until\n"
     ]
    }
   ],
   "source": [
    "dataframes_list = []\n",
    "with Pool(4) as p:\n",
    "    dataframes_list = (p.map(get_company_indicators, tickers.values))"
   ]
  },
  {
   "cell_type": "code",
   "execution_count": 38,
   "id": "198a36d4",
   "metadata": {},
   "outputs": [],
   "source": [
    "data = pd.concat(list(filter(lambda x: x is not None, dataframes_list)))"
   ]
  },
  {
   "cell_type": "code",
   "execution_count": 39,
   "id": "6f8c09eb",
   "metadata": {},
   "outputs": [],
   "source": [
    "data.to_csv('data.csv')"
   ]
  },
  {
   "cell_type": "code",
   "execution_count": 40,
   "id": "280ed09e",
   "metadata": {},
   "outputs": [],
   "source": [
    "# for ticker in tickers.values[:3]:\n",
    "#     print(get_company_indicators(ticker))"
   ]
  },
  {
   "cell_type": "code",
   "execution_count": 41,
   "id": "60731df6",
   "metadata": {},
   "outputs": [
    {
     "data": {
      "text/html": [
       "<div>\n",
       "<style scoped>\n",
       "    .dataframe tbody tr th:only-of-type {\n",
       "        vertical-align: middle;\n",
       "    }\n",
       "\n",
       "    .dataframe tbody tr th {\n",
       "        vertical-align: top;\n",
       "    }\n",
       "\n",
       "    .dataframe thead th {\n",
       "        text-align: right;\n",
       "    }\n",
       "</style>\n",
       "<table border=\"1\" class=\"dataframe\">\n",
       "  <thead>\n",
       "    <tr style=\"text-align: right;\">\n",
       "      <th></th>\n",
       "      <th>Ticker</th>\n",
       "      <th>Indicador</th>\n",
       "      <th>ATUAL</th>\n",
       "      <th>2021</th>\n",
       "      <th>2020</th>\n",
       "      <th>2019</th>\n",
       "      <th>2018</th>\n",
       "      <th>2017</th>\n",
       "      <th>2016</th>\n",
       "      <th>2015</th>\n",
       "      <th>2014</th>\n",
       "      <th>2013</th>\n",
       "      <th>Setor</th>\n",
       "    </tr>\n",
       "  </thead>\n",
       "  <tbody>\n",
       "    <tr>\n",
       "      <th>0</th>\n",
       "      <td>AALR3</td>\n",
       "      <td>D.Y</td>\n",
       "      <td>-%</td>\n",
       "      <td>-%</td>\n",
       "      <td>0,79%</td>\n",
       "      <td>0,47%</td>\n",
       "      <td>-%</td>\n",
       "      <td>-%</td>\n",
       "      <td>-%</td>\n",
       "      <td>-%</td>\n",
       "      <td>-%</td>\n",
       "      <td>-%</td>\n",
       "      <td>Serv.Méd.Hospit..Análises e Diagnósticos</td>\n",
       "    </tr>\n",
       "    <tr>\n",
       "      <th>1</th>\n",
       "      <td>AALR3</td>\n",
       "      <td>P/L</td>\n",
       "      <td>-397,04</td>\n",
       "      <td>-314,82</td>\n",
       "      <td>-13,48</td>\n",
       "      <td>52,01</td>\n",
       "      <td>39,28</td>\n",
       "      <td>263,19</td>\n",
       "      <td>-</td>\n",
       "      <td>-</td>\n",
       "      <td>-</td>\n",
       "      <td>-</td>\n",
       "      <td>Serv.Méd.Hospit..Análises e Diagnósticos</td>\n",
       "    </tr>\n",
       "    <tr>\n",
       "      <th>2</th>\n",
       "      <td>AALR3</td>\n",
       "      <td>PEG Ratio</td>\n",
       "      <td>4,21</td>\n",
       "      <td>3,34</td>\n",
       "      <td>-</td>\n",
       "      <td>-</td>\n",
       "      <td>0,08</td>\n",
       "      <td>-</td>\n",
       "      <td>-</td>\n",
       "      <td>-</td>\n",
       "      <td>-</td>\n",
       "      <td>-</td>\n",
       "      <td>Serv.Méd.Hospit..Análises e Diagnósticos</td>\n",
       "    </tr>\n",
       "    <tr>\n",
       "      <th>3</th>\n",
       "      <td>AALR3</td>\n",
       "      <td>P/VP</td>\n",
       "      <td>1,85</td>\n",
       "      <td>1,46</td>\n",
       "      <td>1,10</td>\n",
       "      <td>1,68</td>\n",
       "      <td>1,25</td>\n",
       "      <td>1,44</td>\n",
       "      <td>-</td>\n",
       "      <td>-</td>\n",
       "      <td>-</td>\n",
       "      <td>-</td>\n",
       "      <td>Serv.Méd.Hospit..Análises e Diagnósticos</td>\n",
       "    </tr>\n",
       "    <tr>\n",
       "      <th>4</th>\n",
       "      <td>AALR3</td>\n",
       "      <td>EV/EBITDA</td>\n",
       "      <td>13,88</td>\n",
       "      <td>11,65</td>\n",
       "      <td>17,06</td>\n",
       "      <td>10,27</td>\n",
       "      <td>9,58</td>\n",
       "      <td>15,12</td>\n",
       "      <td>-</td>\n",
       "      <td>-</td>\n",
       "      <td>-</td>\n",
       "      <td>-</td>\n",
       "      <td>Serv.Méd.Hospit..Análises e Diagnósticos</td>\n",
       "    </tr>\n",
       "    <tr>\n",
       "      <th>...</th>\n",
       "      <td>...</td>\n",
       "      <td>...</td>\n",
       "      <td>...</td>\n",
       "      <td>...</td>\n",
       "      <td>...</td>\n",
       "      <td>...</td>\n",
       "      <td>...</td>\n",
       "      <td>...</td>\n",
       "      <td>...</td>\n",
       "      <td>...</td>\n",
       "      <td>...</td>\n",
       "      <td>...</td>\n",
       "      <td>...</td>\n",
       "    </tr>\n",
       "    <tr>\n",
       "      <th>25</th>\n",
       "      <td>YDUQ3</td>\n",
       "      <td>ROA</td>\n",
       "      <td>1,60%</td>\n",
       "      <td>1,60%</td>\n",
       "      <td>1,06%</td>\n",
       "      <td>11,72%</td>\n",
       "      <td>15,72%</td>\n",
       "      <td>10,56%</td>\n",
       "      <td>8,89%</td>\n",
       "      <td>10,10%</td>\n",
       "      <td>10,31%</td>\n",
       "      <td>11,44%</td>\n",
       "      <td>Serviços Educacionais</td>\n",
       "    </tr>\n",
       "    <tr>\n",
       "      <th>26</th>\n",
       "      <td>YDUQ3</td>\n",
       "      <td>ROIC</td>\n",
       "      <td>5,70%</td>\n",
       "      <td>5,70%</td>\n",
       "      <td>3,27%</td>\n",
       "      <td>18,68%</td>\n",
       "      <td>22,40%</td>\n",
       "      <td>16,03%</td>\n",
       "      <td>13,14%</td>\n",
       "      <td>12,47%</td>\n",
       "      <td>11,88%</td>\n",
       "      <td>13,19%</td>\n",
       "      <td>Serviços Educacionais</td>\n",
       "    </tr>\n",
       "    <tr>\n",
       "      <th>27</th>\n",
       "      <td>YDUQ3</td>\n",
       "      <td>Giro ativos</td>\n",
       "      <td>0,44</td>\n",
       "      <td>0,44</td>\n",
       "      <td>0,42</td>\n",
       "      <td>0,65</td>\n",
       "      <td>0,88</td>\n",
       "      <td>0,84</td>\n",
       "      <td>0,77</td>\n",
       "      <td>0,67</td>\n",
       "      <td>0,68</td>\n",
       "      <td>0,81</td>\n",
       "      <td>Serviços Educacionais</td>\n",
       "    </tr>\n",
       "    <tr>\n",
       "      <th>28</th>\n",
       "      <td>YDUQ3</td>\n",
       "      <td>CAGR Receitas 5 anos</td>\n",
       "      <td>6,64%</td>\n",
       "      <td>6,64%</td>\n",
       "      <td>5,62%</td>\n",
       "      <td>8,38%</td>\n",
       "      <td>15,90%</td>\n",
       "      <td>19,56%</td>\n",
       "      <td>22,63%</td>\n",
       "      <td>23,60%</td>\n",
       "      <td>18,76%</td>\n",
       "      <td>12,05%</td>\n",
       "      <td>Serviços Educacionais</td>\n",
       "    </tr>\n",
       "    <tr>\n",
       "      <th>29</th>\n",
       "      <td>YDUQ3</td>\n",
       "      <td>CAGR Lucros 5 anos</td>\n",
       "      <td>-15,54%</td>\n",
       "      <td>-15,54%</td>\n",
       "      <td>-25,93%</td>\n",
       "      <td>12,26%</td>\n",
       "      <td>21,39%</td>\n",
       "      <td>31,09%</td>\n",
       "      <td>39,31%</td>\n",
       "      <td>40,42%</td>\n",
       "      <td>41,73%</td>\n",
       "      <td>44,99%</td>\n",
       "      <td>Serviços Educacionais</td>\n",
       "    </tr>\n",
       "  </tbody>\n",
       "</table>\n",
       "<p>11790 rows × 13 columns</p>\n",
       "</div>"
      ],
      "text/plain": [
       "   Ticker              Indicador    ATUAL     2021     2020    2019    2018  \\\n",
       "0   AALR3                   D.Y        -%       -%    0,79%   0,47%      -%   \n",
       "1   AALR3                   P/L   -397,04  -314,82   -13,48   52,01   39,28   \n",
       "2   AALR3             PEG Ratio      4,21     3,34        -       -    0,08   \n",
       "3   AALR3                  P/VP      1,85     1,46     1,10    1,68    1,25   \n",
       "4   AALR3             EV/EBITDA     13,88    11,65    17,06   10,27    9,58   \n",
       "..    ...                    ...      ...      ...      ...     ...     ...   \n",
       "25  YDUQ3                   ROA     1,60%    1,60%    1,06%  11,72%  15,72%   \n",
       "26  YDUQ3                  ROIC     5,70%    5,70%    3,27%  18,68%  22,40%   \n",
       "27  YDUQ3           Giro ativos      0,44     0,44     0,42    0,65    0,88   \n",
       "28  YDUQ3  CAGR Receitas 5 anos     6,64%    6,64%    5,62%   8,38%  15,90%   \n",
       "29  YDUQ3    CAGR Lucros 5 anos   -15,54%  -15,54%  -25,93%  12,26%  21,39%   \n",
       "\n",
       "      2017    2016    2015    2014    2013  \\\n",
       "0       -%      -%      -%      -%      -%   \n",
       "1   263,19       -       -       -       -   \n",
       "2        -       -       -       -       -   \n",
       "3     1,44       -       -       -       -   \n",
       "4    15,12       -       -       -       -   \n",
       "..     ...     ...     ...     ...     ...   \n",
       "25  10,56%   8,89%  10,10%  10,31%  11,44%   \n",
       "26  16,03%  13,14%  12,47%  11,88%  13,19%   \n",
       "27    0,84    0,77    0,67    0,68    0,81   \n",
       "28  19,56%  22,63%  23,60%  18,76%  12,05%   \n",
       "29  31,09%  39,31%  40,42%  41,73%  44,99%   \n",
       "\n",
       "                                       Setor  \n",
       "0   Serv.Méd.Hospit..Análises e Diagnósticos  \n",
       "1   Serv.Méd.Hospit..Análises e Diagnósticos  \n",
       "2   Serv.Méd.Hospit..Análises e Diagnósticos  \n",
       "3   Serv.Méd.Hospit..Análises e Diagnósticos  \n",
       "4   Serv.Méd.Hospit..Análises e Diagnósticos  \n",
       "..                                       ...  \n",
       "25                     Serviços Educacionais  \n",
       "26                     Serviços Educacionais  \n",
       "27                     Serviços Educacionais  \n",
       "28                     Serviços Educacionais  \n",
       "29                     Serviços Educacionais  \n",
       "\n",
       "[11790 rows x 13 columns]"
      ]
     },
     "execution_count": 41,
     "metadata": {},
     "output_type": "execute_result"
    }
   ],
   "source": [
    "data"
   ]
  },
  {
   "cell_type": "code",
   "execution_count": 42,
   "id": "97a453f9",
   "metadata": {},
   "outputs": [
    {
     "data": {
      "text/plain": [
       "Ticker\n",
       "AALR3    30\n",
       "ABEV3    30\n",
       "AERI3    30\n",
       "AESB3    30\n",
       "AFLT3    30\n",
       "         ..\n",
       "WEST3    30\n",
       "WHRL3    30\n",
       "WIZS3    30\n",
       "WLMM3    30\n",
       "YDUQ3    30\n",
       "Length: 393, dtype: int64"
      ]
     },
     "execution_count": 42,
     "metadata": {},
     "output_type": "execute_result"
    }
   ],
   "source": [
    "data.groupby('Ticker').size()"
   ]
  },
  {
   "cell_type": "code",
   "execution_count": null,
   "id": "9d4220eb",
   "metadata": {},
   "outputs": [],
   "source": []
  }
 ],
 "metadata": {
  "kernelspec": {
   "display_name": "Python 3",
   "language": "python",
   "name": "python3"
  },
  "language_info": {
   "codemirror_mode": {
    "name": "ipython",
    "version": 3
   },
   "file_extension": ".py",
   "mimetype": "text/x-python",
   "name": "python",
   "nbconvert_exporter": "python",
   "pygments_lexer": "ipython3",
   "version": "3.7.6"
  }
 },
 "nbformat": 4,
 "nbformat_minor": 5
}
