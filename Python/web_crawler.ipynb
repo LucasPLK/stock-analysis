{
 "cells": [
  {
   "cell_type": "code",
   "execution_count": null,
   "id": "a3cbbd02",
   "metadata": {},
   "outputs": [],
   "source": [
    "from selenium import webdriver\n",
    "from selenium.webdriver.common.by import By\n",
    "from selenium.webdriver.support import expected_conditions as EC\n",
    "from selenium.webdriver.support.wait import WebDriverWait\n",
    "import time\n",
    "import re\n",
    "import pandas as pd"
   ]
  },
  {
   "cell_type": "code",
   "execution_count": null,
   "id": "ad1b5727",
   "metadata": {},
   "outputs": [],
   "source": [
    "from multiprocessing import Pool"
   ]
  },
  {
   "cell_type": "code",
   "execution_count": null,
   "id": "50f5c5c4",
   "metadata": {},
   "outputs": [],
   "source": [
    "# https://www.b3.com.br/pt_br/market-data-e-indices/servicos-de-dados/market-data/consultas/boletim-diario/dados-publicos-de-produtos-listados-e-de-balcao/"
   ]
  },
  {
   "cell_type": "code",
   "execution_count": null,
   "id": "1281df43",
   "metadata": {},
   "outputs": [],
   "source": [
    "empresas_listadas = pd.read_csv('InstrumentsConsolidatedFile_20220414_1.csv', sep=';')"
   ]
  },
  {
   "cell_type": "code",
   "execution_count": null,
   "id": "d75e0290",
   "metadata": {},
   "outputs": [],
   "source": [
    "def get_indicators(browser, path_indicators: str, path_values:str):\n",
    "    df = pd.DataFrame(columns=['Ticker', 'Indicador'])\n",
    "\n",
    "    indicadores = browser.find_element(by=By.XPATH, value=path_indicators)\n",
    "    html_indicadores = indicadores.get_attribute('outerHTML')\n",
    "    splited_indicadores = html_indicadores.split('data-name')\n",
    "    for i in range(1, len(splited_indicadores)):\n",
    "    #     print(splited_indicadores[i].split('=')[1].split('data-prefix')[0])\n",
    "        df2 = {'Indicador': splited_indicadores[i].split('=')[1].split('data-prefix')[0].replace('\"', '')}\n",
    "\n",
    "        df = df.append(df2, ignore_index = True)\n",
    "\n",
    "\n",
    "    valores = browser.find_element(by=By.XPATH, value=path_values)\n",
    "    html_valores  = valores.get_attribute('outerHTML')\n",
    "    splited_divs = html_valores.split('<div')\n",
    "    # print(splited_divs)\n",
    "\n",
    "    df_index = -1\n",
    "    for i in range(1, len(splited_divs)):\n",
    "    #     print(splited_divs[i])\n",
    "        if ('tr w-100 d-flex justify-start asset-last' in splited_divs[i]):\n",
    "    #         print('\\n')\n",
    "            is_header = False\n",
    "            df_index +=1\n",
    "            df_col = 2\n",
    "\n",
    "        p = re.compile('>(.*)</')\n",
    "        val = p.findall(splited_divs[i])\n",
    "\n",
    "        if len(val) > 0:\n",
    "            val = val[0].replace('</div>', '')\n",
    "            if 'ATUAL' in val:\n",
    "                is_header = True\n",
    "\n",
    "            if is_header is True:\n",
    "                df[val] = None\n",
    "\n",
    "            else:\n",
    "                df.iloc[df_index, df_col] = val\n",
    "    #             print(val)\n",
    "                df_col+=1\n",
    "        \n",
    "    return df"
   ]
  },
  {
   "cell_type": "code",
   "execution_count": null,
   "id": "f86e923d",
   "metadata": {},
   "outputs": [],
   "source": [
    "def get_company_indicators(ticker:str):\n",
    "    try:\n",
    "        driver = webdriver.Firefox(\"/usr/local/bin/\")\n",
    "        driver.get(f'https://statusinvest.com.br/acoes/{ticker}')\n",
    "\n",
    "        WebDriverWait(driver, 20).until(EC.element_to_be_clickable((By.CLASS_NAME,\"btn-close\"))).click() # fecha o popup\n",
    "\n",
    "        button = driver.find_element(by=By.XPATH, value='/html/body/main/div[2]/div/div[7]/div[1]/div[2]/button[2]') # botão de histórico\n",
    "\n",
    "        time.sleep(0.5)\n",
    "        button.click()\n",
    "        time.sleep(0.5)\n",
    "\n",
    "        df_valuation = get_indicators(driver, '/html/body/main/div[2]/div/div[7]/div[3]/div[2]/div/div[1]', '/html/body/main/div[2]/div/div[7]/div[3]/div[2]/div/div[2]/div')\n",
    "        df_endividamento = get_indicators(driver, '/html/body/main/div[2]/div/div[7]/div[3]/div[3]/div/div[1]', '/html/body/main/div[2]/div/div[7]/div[3]/div[3]/div/div[2]/div')\n",
    "        df_eficiencia = get_indicators(driver, '/html/body/main/div[2]/div/div[7]/div[3]/div[4]/div/div[1]', '/html/body/main/div[2]/div/div[7]/div[3]/div[4]/div/div[2]/div')\n",
    "        df_rentabilidade = get_indicators(driver, '/html/body/main/div[2]/div/div[7]/div[3]/div[5]/div/div[1]', '/html/body/main/div[2]/div/div[7]/div[3]/div[5]/div/div[2]/div')\n",
    "        df_crescimento = get_indicators(driver, '/html/body/main/div[2]/div/div[7]/div[3]/div[6]/div/div[1]', '/html/body/main/div[2]/div/div[7]/div[3]/div[6]/div/div[2]/div')\n",
    "\n",
    "        df = pd.concat([df_valuation, df_endividamento, df_eficiencia, df_rentabilidade, df_crescimento]).reset_index(drop=True)\n",
    "        df['Ticker'] = ticker\n",
    "        \n",
    "        setor = driver.find_element(by=By.XPATH, value='/html/body/main/div[5]/div[1]/div/div[3]/div/div[3]/div/div/div/a/strong')\n",
    "        setor = setor.get_attribute('outerHTML')\n",
    "        df['Setor'] = setor.split('>')[1].split('<')[0]\n",
    "        \n",
    "        driver.close()\n",
    "        \n",
    "    except Exception as ex:\n",
    "        print(ex)\n",
    "        try:\n",
    "            driver.close()\n",
    "        except Exception:\n",
    "            pass\n",
    "        return None\n",
    "    \n",
    "    return df"
   ]
  },
  {
   "cell_type": "code",
   "execution_count": null,
   "id": "4b7c201c",
   "metadata": {},
   "outputs": [],
   "source": [
    "get_company_indicators('WEGE3')"
   ]
  },
  {
   "cell_type": "code",
   "execution_count": null,
   "id": "aef604bd",
   "metadata": {},
   "outputs": [],
   "source": [
    "tickers = empresas_listadas.loc[(empresas_listadas['TckrSymb'].str.len()>= 5) \\\n",
    "                                & (empresas_listadas['TckrSymb'].str.len()<= 6) \\\n",
    "                                & (~empresas_listadas['TckrSymb'].str.contains('^[0-9]')) \\\n",
    "                                & (~empresas_listadas['TckrSymb'].str.endswith('34'))\\\n",
    "                                & (~empresas_listadas['TckrSymb'].str.endswith('39'))\\\n",
    "                                & ((empresas_listadas['TckrSymb'].str.endswith('3')) | (empresas_listadas['TckrSymb'].str.endswith('3')) | (empresas_listadas['TckrSymb'].str.endswith('11')))\n",
    "                                & (~empresas_listadas['TckrSymb'].str.endswith('T')), 'TckrSymb']\n",
    "len(tickers)"
   ]
  },
  {
   "cell_type": "code",
   "execution_count": null,
   "id": "dc9a6267",
   "metadata": {
    "scrolled": true
   },
   "outputs": [],
   "source": [
    "dataframes_list = []\n",
    "with Pool(4) as p:\n",
    "    dataframes_list = (p.map(get_company_indicators, tickers.values))"
   ]
  },
  {
   "cell_type": "code",
   "execution_count": null,
   "id": "54b1dfe2",
   "metadata": {},
   "outputs": [],
   "source": [
    "data = pd.concat(list(filter(lambda x: x is not None, dataframes_list)))"
   ]
  },
  {
   "cell_type": "code",
   "execution_count": null,
   "id": "80f0bdc0",
   "metadata": {},
   "outputs": [],
   "source": [
    "data.to_csv('data.csv')"
   ]
  },
  {
   "cell_type": "code",
   "execution_count": null,
   "id": "e3deaf1d",
   "metadata": {},
   "outputs": [],
   "source": [
    "# for ticker in tickers.values[:3]:\n",
    "#     print(get_company_indicators(ticker))"
   ]
  },
  {
   "cell_type": "code",
   "execution_count": null,
   "id": "7c5e60e6",
   "metadata": {},
   "outputs": [],
   "source": [
    "data"
   ]
  }
 ],
 "metadata": {
  "kernelspec": {
   "display_name": "Python 3 (ipykernel)",
   "language": "python",
   "name": "python3"
  },
  "language_info": {
   "codemirror_mode": {
    "name": "ipython",
    "version": 3
   },
   "file_extension": ".py",
   "mimetype": "text/x-python",
   "name": "python",
   "nbconvert_exporter": "python",
   "pygments_lexer": "ipython3",
   "version": "3.7.6"
  }
 },
 "nbformat": 4,
 "nbformat_minor": 5
}
